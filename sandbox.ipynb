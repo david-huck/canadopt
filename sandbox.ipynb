{
 "cells": [
  {
   "cell_type": "markdown",
   "metadata": {},
   "source": [
    "# ABM results"
   ]
  },
  {
   "cell_type": "code",
   "execution_count": null,
   "metadata": {},
   "outputs": [
    {
     "data": {
      "application/vnd.plotly.v1+json": {
       "config": {
        "plotlyServerURL": "https://plot.ly"
       },
       "data": [
        {
         "alignmentgroup": "True",
         "hovertemplate": "fuel=Natural gas<br>year=%{x}<br>value=%{y}<extra></extra>",
         "legendgroup": "Natural gas",
         "marker": {
          "color": "#757575",
          "pattern": {
           "shape": ""
          }
         },
         "name": "Natural gas",
         "offsetgroup": "Natural gas",
         "orientation": "v",
         "showlegend": true,
         "textposition": "auto",
         "type": "bar",
         "x": [
          2020,
          2025,
          2030,
          2035,
          2040,
          2045,
          2050
         ],
         "xaxis": "x",
         "y": [
          92736907216.58336,
          85907689960.00002,
          81887067693.58331,
          78209684640,
          75942730101.99997,
          72201308878.33333,
          68115705403.16667
         ],
         "yaxis": "y"
        },
        {
         "alignmentgroup": "True",
         "hovertemplate": "fuel=Heating oil<br>year=%{x}<br>value=%{y}<extra></extra>",
         "legendgroup": "Heating oil",
         "marker": {
          "color": "#772700",
          "pattern": {
           "shape": ""
          }
         },
         "name": "Heating oil",
         "offsetgroup": "Heating oil",
         "orientation": "v",
         "showlegend": true,
         "textposition": "auto",
         "type": "bar",
         "x": [
          2020,
          2025,
          2030,
          2035,
          2040,
          2045,
          2050
         ],
         "xaxis": "x",
         "y": [
          3261190140.0078135,
          2498881635.980469,
          1852481530.9153645,
          1423005657.053386,
          1212345621.9069011,
          872858341.902344,
          664726603.588542
         ],
         "yaxis": "y"
        },
        {
         "alignmentgroup": "True",
         "hovertemplate": "fuel=Wood or wood pellets<br>year=%{x}<br>value=%{y}<extra></extra>",
         "legendgroup": "Wood or wood pellets",
         "marker": {
          "color": "#00b9ba",
          "pattern": {
           "shape": ""
          }
         },
         "name": "Wood or wood pellets",
         "offsetgroup": "Wood or wood pellets",
         "orientation": "v",
         "showlegend": true,
         "textposition": "auto",
         "type": "bar",
         "x": [
          2020,
          2025,
          2030,
          2035,
          2040,
          2045,
          2050
         ],
         "xaxis": "x",
         "y": [
          624983290.7281902,
          308730916.63378906,
          248555324.48030603,
          148794238.93831384,
          90707595.74560545,
          90707595.74560545,
          71749557.10970055
         ],
         "yaxis": "y"
        },
        {
         "alignmentgroup": "True",
         "hovertemplate": "fuel=Electricity<br>year=%{x}<br>value=%{y}<extra></extra>",
         "legendgroup": "Electricity",
         "marker": {
          "color": "#f2a300",
          "pattern": {
           "shape": ""
          }
         },
         "name": "Electricity",
         "offsetgroup": "Electricity",
         "orientation": "v",
         "showlegend": true,
         "textposition": "auto",
         "type": "bar",
         "x": [
          2020,
          2025,
          2030,
          2035,
          2040,
          2045,
          2050
         ],
         "xaxis": "x",
         "y": [
          23626193001.0625,
          30008104412.916664,
          32670854094.45834,
          34391356057.416664,
          34489079306.02084,
          35702341959.62501,
          36385164393.10417
         ],
         "yaxis": "y"
        }
       ],
       "layout": {
        "barmode": "relative",
        "legend": {
         "title": {
          "text": "fuel"
         },
         "tracegroupgap": 0,
         "traceorder": "reversed"
        },
        "margin": {
         "t": 60
        },
        "plot_bgcolor": "white",
        "template": {
         "data": {
          "candlestick": [
           {
            "decreasing": {
             "line": {
              "color": "#000033"
             }
            },
            "increasing": {
             "line": {
              "color": "#000032"
             }
            },
            "type": "candlestick"
           }
          ],
          "contour": [
           {
            "colorscale": [
             [
              0,
              "#000011"
             ],
             [
              0.1111111111111111,
              "#000012"
             ],
             [
              0.2222222222222222,
              "#000013"
             ],
             [
              0.3333333333333333,
              "#000014"
             ],
             [
              0.4444444444444444,
              "#000015"
             ],
             [
              0.5555555555555556,
              "#000016"
             ],
             [
              0.6666666666666666,
              "#000017"
             ],
             [
              0.7777777777777778,
              "#000018"
             ],
             [
              0.8888888888888888,
              "#000019"
             ],
             [
              1,
              "#000020"
             ]
            ],
            "type": "contour"
           }
          ],
          "contourcarpet": [
           {
            "colorscale": [
             [
              0,
              "#000011"
             ],
             [
              0.1111111111111111,
              "#000012"
             ],
             [
              0.2222222222222222,
              "#000013"
             ],
             [
              0.3333333333333333,
              "#000014"
             ],
             [
              0.4444444444444444,
              "#000015"
             ],
             [
              0.5555555555555556,
              "#000016"
             ],
             [
              0.6666666666666666,
              "#000017"
             ],
             [
              0.7777777777777778,
              "#000018"
             ],
             [
              0.8888888888888888,
              "#000019"
             ],
             [
              1,
              "#000020"
             ]
            ],
            "type": "contourcarpet"
           }
          ],
          "heatmap": [
           {
            "colorscale": [
             [
              0,
              "#000011"
             ],
             [
              0.1111111111111111,
              "#000012"
             ],
             [
              0.2222222222222222,
              "#000013"
             ],
             [
              0.3333333333333333,
              "#000014"
             ],
             [
              0.4444444444444444,
              "#000015"
             ],
             [
              0.5555555555555556,
              "#000016"
             ],
             [
              0.6666666666666666,
              "#000017"
             ],
             [
              0.7777777777777778,
              "#000018"
             ],
             [
              0.8888888888888888,
              "#000019"
             ],
             [
              1,
              "#000020"
             ]
            ],
            "type": "heatmap"
           }
          ],
          "histogram2d": [
           {
            "colorscale": [
             [
              0,
              "#000011"
             ],
             [
              0.1111111111111111,
              "#000012"
             ],
             [
              0.2222222222222222,
              "#000013"
             ],
             [
              0.3333333333333333,
              "#000014"
             ],
             [
              0.4444444444444444,
              "#000015"
             ],
             [
              0.5555555555555556,
              "#000016"
             ],
             [
              0.6666666666666666,
              "#000017"
             ],
             [
              0.7777777777777778,
              "#000018"
             ],
             [
              0.8888888888888888,
              "#000019"
             ],
             [
              1,
              "#000020"
             ]
            ],
            "type": "histogram2d"
           }
          ],
          "icicle": [
           {
            "textfont": {
             "color": "white"
            },
            "type": "icicle"
           }
          ],
          "sankey": [
           {
            "textfont": {
             "color": "#000036"
            },
            "type": "sankey"
           }
          ],
          "scatter": [
           {
            "marker": {
             "line": {
              "width": 0
             }
            },
            "type": "scatter"
           }
          ],
          "table": [
           {
            "cells": {
             "fill": {
              "color": "#000038"
             },
             "font": {
              "color": "#000037"
             },
             "line": {
              "color": "#000039"
             }
            },
            "header": {
             "fill": {
              "color": "#000040"
             },
             "font": {
              "color": "#000036"
             },
             "line": {
              "color": "#000039"
             }
            },
            "type": "table"
           }
          ],
          "waterfall": [
           {
            "connector": {
             "line": {
              "color": "#000036",
              "width": 2
             }
            },
            "decreasing": {
             "marker": {
              "color": "#000033"
             }
            },
            "increasing": {
             "marker": {
              "color": "#000032"
             }
            },
            "totals": {
             "marker": {
              "color": "#000034"
             }
            },
            "type": "waterfall"
           }
          ]
         },
         "layout": {
          "coloraxis": {
           "colorscale": [
            [
             0,
             "#000011"
            ],
            [
             0.1111111111111111,
             "#000012"
            ],
            [
             0.2222222222222222,
             "#000013"
            ],
            [
             0.3333333333333333,
             "#000014"
            ],
            [
             0.4444444444444444,
             "#000015"
            ],
            [
             0.5555555555555556,
             "#000016"
            ],
            [
             0.6666666666666666,
             "#000017"
            ],
            [
             0.7777777777777778,
             "#000018"
            ],
            [
             0.8888888888888888,
             "#000019"
            ],
            [
             1,
             "#000020"
            ]
           ]
          },
          "colorscale": {
           "diverging": [
            [
             0,
             "#000021"
            ],
            [
             0.1,
             "#000022"
            ],
            [
             0.2,
             "#000023"
            ],
            [
             0.3,
             "#000024"
            ],
            [
             0.4,
             "#000025"
            ],
            [
             0.5,
             "#000026"
            ],
            [
             0.6,
             "#000027"
            ],
            [
             0.7,
             "#000028"
            ],
            [
             0.8,
             "#000029"
            ],
            [
             0.9,
             "#000030"
            ],
            [
             1,
             "#000031"
            ]
           ],
           "sequential": [
            [
             0,
             "#000011"
            ],
            [
             0.1111111111111111,
             "#000012"
            ],
            [
             0.2222222222222222,
             "#000013"
            ],
            [
             0.3333333333333333,
             "#000014"
            ],
            [
             0.4444444444444444,
             "#000015"
            ],
            [
             0.5555555555555556,
             "#000016"
            ],
            [
             0.6666666666666666,
             "#000017"
            ],
            [
             0.7777777777777778,
             "#000018"
            ],
            [
             0.8888888888888888,
             "#000019"
            ],
            [
             1,
             "#000020"
            ]
           ],
           "sequentialminus": [
            [
             0,
             "#000011"
            ],
            [
             0.1111111111111111,
             "#000012"
            ],
            [
             0.2222222222222222,
             "#000013"
            ],
            [
             0.3333333333333333,
             "#000014"
            ],
            [
             0.4444444444444444,
             "#000015"
            ],
            [
             0.5555555555555556,
             "#000016"
            ],
            [
             0.6666666666666666,
             "#000017"
            ],
            [
             0.7777777777777778,
             "#000018"
            ],
            [
             0.8888888888888888,
             "#000019"
            ],
            [
             1,
             "#000020"
            ]
           ]
          },
          "colorway": [
           "#000001",
           "#000002",
           "#000003",
           "#000004",
           "#000005",
           "#000006",
           "#000007",
           "#000008",
           "#000009",
           "#000010"
          ]
         }
        },
        "width": 500,
        "xaxis": {
         "anchor": "y",
         "domain": [
          0,
          1
         ],
         "gridcolor": "lightgrey",
         "linecolor": "black",
         "mirror": true,
         "showline": true,
         "ticks": "outside",
         "title": {
          "text": "Year"
         }
        },
        "yaxis": {
         "anchor": "x",
         "domain": [
          0,
          1
         ],
         "gridcolor": "lightgrey",
         "linecolor": "black",
         "mirror": true,
         "showline": true,
         "ticks": "outside",
         "title": {
          "text": "Energy demand (kWh/a)"
         }
        }
       }
      },
      "text/html": [
       "<div>                            <div id=\"28cbbb71-5277-43dc-9db8-b4622a263fff\" class=\"plotly-graph-div\" style=\"height:525px; width:500px;\"></div>            <script type=\"text/javascript\">                require([\"plotly\"], function(Plotly) {                    window.PLOTLYENV=window.PLOTLYENV || {};                                    if (document.getElementById(\"28cbbb71-5277-43dc-9db8-b4622a263fff\")) {                    Plotly.newPlot(                        \"28cbbb71-5277-43dc-9db8-b4622a263fff\",                        [{\"alignmentgroup\":\"True\",\"hovertemplate\":\"fuel=Natural gas<br>year=%{x}<br>value=%{y}<extra></extra>\",\"legendgroup\":\"Natural gas\",\"marker\":{\"color\":\"#757575\",\"pattern\":{\"shape\":\"\"}},\"name\":\"Natural gas\",\"offsetgroup\":\"Natural gas\",\"orientation\":\"v\",\"showlegend\":true,\"textposition\":\"auto\",\"x\":[2020.0,2025.0,2030.0,2035.0,2040.0,2045.0,2050.0],\"xaxis\":\"x\",\"y\":[92736907216.58336,85907689960.00002,81887067693.58331,78209684640.0,75942730101.99997,72201308878.33333,68115705403.16667],\"yaxis\":\"y\",\"type\":\"bar\"},{\"alignmentgroup\":\"True\",\"hovertemplate\":\"fuel=Heating oil<br>year=%{x}<br>value=%{y}<extra></extra>\",\"legendgroup\":\"Heating oil\",\"marker\":{\"color\":\"#772700\",\"pattern\":{\"shape\":\"\"}},\"name\":\"Heating oil\",\"offsetgroup\":\"Heating oil\",\"orientation\":\"v\",\"showlegend\":true,\"textposition\":\"auto\",\"x\":[2020.0,2025.0,2030.0,2035.0,2040.0,2045.0,2050.0],\"xaxis\":\"x\",\"y\":[3261190140.0078135,2498881635.980469,1852481530.9153645,1423005657.053386,1212345621.9069011,872858341.902344,664726603.588542],\"yaxis\":\"y\",\"type\":\"bar\"},{\"alignmentgroup\":\"True\",\"hovertemplate\":\"fuel=Wood or wood pellets<br>year=%{x}<br>value=%{y}<extra></extra>\",\"legendgroup\":\"Wood or wood pellets\",\"marker\":{\"color\":\"#00b9ba\",\"pattern\":{\"shape\":\"\"}},\"name\":\"Wood or wood pellets\",\"offsetgroup\":\"Wood or wood pellets\",\"orientation\":\"v\",\"showlegend\":true,\"textposition\":\"auto\",\"x\":[2020.0,2025.0,2030.0,2035.0,2040.0,2045.0,2050.0],\"xaxis\":\"x\",\"y\":[624983290.7281902,308730916.63378906,248555324.48030603,148794238.93831384,90707595.74560545,90707595.74560545,71749557.10970055],\"yaxis\":\"y\",\"type\":\"bar\"},{\"alignmentgroup\":\"True\",\"hovertemplate\":\"fuel=Electricity<br>year=%{x}<br>value=%{y}<extra></extra>\",\"legendgroup\":\"Electricity\",\"marker\":{\"color\":\"#f2a300\",\"pattern\":{\"shape\":\"\"}},\"name\":\"Electricity\",\"offsetgroup\":\"Electricity\",\"orientation\":\"v\",\"showlegend\":true,\"textposition\":\"auto\",\"x\":[2020.0,2025.0,2030.0,2035.0,2040.0,2045.0,2050.0],\"xaxis\":\"x\",\"y\":[23626193001.0625,30008104412.916664,32670854094.45834,34391356057.416664,34489079306.02084,35702341959.62501,36385164393.10417],\"yaxis\":\"y\",\"type\":\"bar\"}],                        {\"template\":{\"data\":{\"candlestick\":[{\"decreasing\":{\"line\":{\"color\":\"#000033\"}},\"increasing\":{\"line\":{\"color\":\"#000032\"}},\"type\":\"candlestick\"}],\"contourcarpet\":[{\"colorscale\":[[0.0,\"#000011\"],[0.1111111111111111,\"#000012\"],[0.2222222222222222,\"#000013\"],[0.3333333333333333,\"#000014\"],[0.4444444444444444,\"#000015\"],[0.5555555555555556,\"#000016\"],[0.6666666666666666,\"#000017\"],[0.7777777777777778,\"#000018\"],[0.8888888888888888,\"#000019\"],[1.0,\"#000020\"]],\"type\":\"contourcarpet\"}],\"contour\":[{\"colorscale\":[[0.0,\"#000011\"],[0.1111111111111111,\"#000012\"],[0.2222222222222222,\"#000013\"],[0.3333333333333333,\"#000014\"],[0.4444444444444444,\"#000015\"],[0.5555555555555556,\"#000016\"],[0.6666666666666666,\"#000017\"],[0.7777777777777778,\"#000018\"],[0.8888888888888888,\"#000019\"],[1.0,\"#000020\"]],\"type\":\"contour\"}],\"heatmap\":[{\"colorscale\":[[0.0,\"#000011\"],[0.1111111111111111,\"#000012\"],[0.2222222222222222,\"#000013\"],[0.3333333333333333,\"#000014\"],[0.4444444444444444,\"#000015\"],[0.5555555555555556,\"#000016\"],[0.6666666666666666,\"#000017\"],[0.7777777777777778,\"#000018\"],[0.8888888888888888,\"#000019\"],[1.0,\"#000020\"]],\"type\":\"heatmap\"}],\"histogram2d\":[{\"colorscale\":[[0.0,\"#000011\"],[0.1111111111111111,\"#000012\"],[0.2222222222222222,\"#000013\"],[0.3333333333333333,\"#000014\"],[0.4444444444444444,\"#000015\"],[0.5555555555555556,\"#000016\"],[0.6666666666666666,\"#000017\"],[0.7777777777777778,\"#000018\"],[0.8888888888888888,\"#000019\"],[1.0,\"#000020\"]],\"type\":\"histogram2d\"}],\"icicle\":[{\"textfont\":{\"color\":\"white\"},\"type\":\"icicle\"}],\"sankey\":[{\"textfont\":{\"color\":\"#000036\"},\"type\":\"sankey\"}],\"scatter\":[{\"marker\":{\"line\":{\"width\":0}},\"type\":\"scatter\"}],\"table\":[{\"cells\":{\"fill\":{\"color\":\"#000038\"},\"font\":{\"color\":\"#000037\"},\"line\":{\"color\":\"#000039\"}},\"header\":{\"fill\":{\"color\":\"#000040\"},\"font\":{\"color\":\"#000036\"},\"line\":{\"color\":\"#000039\"}},\"type\":\"table\"}],\"waterfall\":[{\"connector\":{\"line\":{\"color\":\"#000036\",\"width\":2}},\"decreasing\":{\"marker\":{\"color\":\"#000033\"}},\"increasing\":{\"marker\":{\"color\":\"#000032\"}},\"totals\":{\"marker\":{\"color\":\"#000034\"}},\"type\":\"waterfall\"}]},\"layout\":{\"coloraxis\":{\"colorscale\":[[0.0,\"#000011\"],[0.1111111111111111,\"#000012\"],[0.2222222222222222,\"#000013\"],[0.3333333333333333,\"#000014\"],[0.4444444444444444,\"#000015\"],[0.5555555555555556,\"#000016\"],[0.6666666666666666,\"#000017\"],[0.7777777777777778,\"#000018\"],[0.8888888888888888,\"#000019\"],[1.0,\"#000020\"]]},\"colorscale\":{\"diverging\":[[0.0,\"#000021\"],[0.1,\"#000022\"],[0.2,\"#000023\"],[0.3,\"#000024\"],[0.4,\"#000025\"],[0.5,\"#000026\"],[0.6,\"#000027\"],[0.7,\"#000028\"],[0.8,\"#000029\"],[0.9,\"#000030\"],[1.0,\"#000031\"]],\"sequential\":[[0.0,\"#000011\"],[0.1111111111111111,\"#000012\"],[0.2222222222222222,\"#000013\"],[0.3333333333333333,\"#000014\"],[0.4444444444444444,\"#000015\"],[0.5555555555555556,\"#000016\"],[0.6666666666666666,\"#000017\"],[0.7777777777777778,\"#000018\"],[0.8888888888888888,\"#000019\"],[1.0,\"#000020\"]],\"sequentialminus\":[[0.0,\"#000011\"],[0.1111111111111111,\"#000012\"],[0.2222222222222222,\"#000013\"],[0.3333333333333333,\"#000014\"],[0.4444444444444444,\"#000015\"],[0.5555555555555556,\"#000016\"],[0.6666666666666666,\"#000017\"],[0.7777777777777778,\"#000018\"],[0.8888888888888888,\"#000019\"],[1.0,\"#000020\"]]},\"colorway\":[\"#000001\",\"#000002\",\"#000003\",\"#000004\",\"#000005\",\"#000006\",\"#000007\",\"#000008\",\"#000009\",\"#000010\"]}},\"xaxis\":{\"anchor\":\"y\",\"domain\":[0.0,1.0],\"title\":{\"text\":\"Year\"},\"mirror\":true,\"ticks\":\"outside\",\"showline\":true,\"linecolor\":\"black\",\"gridcolor\":\"lightgrey\"},\"yaxis\":{\"anchor\":\"x\",\"domain\":[0.0,1.0],\"title\":{\"text\":\"Energy demand (kWh/a)\"},\"mirror\":true,\"ticks\":\"outside\",\"showline\":true,\"linecolor\":\"black\",\"gridcolor\":\"lightgrey\"},\"legend\":{\"title\":{\"text\":\"fuel\"},\"tracegroupgap\":0,\"traceorder\":\"reversed\"},\"margin\":{\"t\":60},\"barmode\":\"relative\",\"width\":500,\"plot_bgcolor\":\"white\"},                        {\"responsive\": true}                    ).then(function(){\n",
       "                            \n",
       "var gd = document.getElementById('28cbbb71-5277-43dc-9db8-b4622a263fff');\n",
       "var x = new MutationObserver(function (mutations, observer) {{\n",
       "        var display = window.getComputedStyle(gd).display;\n",
       "        if (!display || display === 'none') {{\n",
       "            console.log([gd, 'removed!']);\n",
       "            Plotly.purge(gd);\n",
       "            observer.disconnect();\n",
       "        }}\n",
       "}});\n",
       "\n",
       "// Listen for the removal of the full notebook cells\n",
       "var notebookContainer = gd.closest('#notebook-container');\n",
       "if (notebookContainer) {{\n",
       "    x.observe(notebookContainer, {childList: true});\n",
       "}}\n",
       "\n",
       "// Listen for the clearing of the current output cell\n",
       "var outputEl = gd.closest('.output');\n",
       "if (outputEl) {{\n",
       "    x.observe(outputEl, {childList: true});\n",
       "}}\n",
       "\n",
       "                        })                };                });            </script>        </div>"
      ]
     },
     "metadata": {},
     "output_type": "display_data"
    }
   ],
   "source": [
    "from abetam.figures import sciencify_plotly_fig\n",
    "from abetam.config import FUEL_COLORS\n",
    "fig = px.bar(\n",
    "    energy_demand_df_long,\n",
    "    x=\"year\",\n",
    "    y=\"value\",\n",
    "    color=\"fuel\",\n",
    "    color_discrete_map=FUEL_COLORS,\n",
    ")\n",
    "fig.update_layout(xaxis_title=\"Year\", yaxis_title=\"Energy demand (kWh/a)\", width=500, legend_traceorder=\"reversed\")\n",
    "sciencify_plotly_fig(fig)\n"
   ]
  },
  {
   "cell_type": "code",
   "execution_count": null,
   "metadata": {},
   "outputs": [
    {
     "data": {
      "text/html": [
       "<div>\n",
       "<style scoped>\n",
       "    .dataframe tbody tr th:only-of-type {\n",
       "        vertical-align: middle;\n",
       "    }\n",
       "\n",
       "    .dataframe tbody tr th {\n",
       "        vertical-align: top;\n",
       "    }\n",
       "\n",
       "    .dataframe thead th {\n",
       "        text-align: right;\n",
       "    }\n",
       "</style>\n",
       "<table border=\"1\" class=\"dataframe\">\n",
       "  <thead>\n",
       "    <tr style=\"text-align: right;\">\n",
       "      <th></th>\n",
       "      <th>ABM_incl</th>\n",
       "      <th>year</th>\n",
       "    </tr>\n",
       "  </thead>\n",
       "  <tbody>\n",
       "    <tr>\n",
       "      <th>0</th>\n",
       "      <td>20153.212295</td>\n",
       "      <td>2020</td>\n",
       "    </tr>\n",
       "    <tr>\n",
       "      <th>1</th>\n",
       "      <td>23427.833787</td>\n",
       "      <td>2025</td>\n",
       "    </tr>\n",
       "    <tr>\n",
       "      <th>2</th>\n",
       "      <td>28218.998288</td>\n",
       "      <td>2030</td>\n",
       "    </tr>\n",
       "    <tr>\n",
       "      <th>3</th>\n",
       "      <td>34389.004031</td>\n",
       "      <td>2035</td>\n",
       "    </tr>\n",
       "    <tr>\n",
       "      <th>4</th>\n",
       "      <td>39840.216979</td>\n",
       "      <td>2040</td>\n",
       "    </tr>\n",
       "    <tr>\n",
       "      <th>5</th>\n",
       "      <td>44018.701047</td>\n",
       "      <td>2045</td>\n",
       "    </tr>\n",
       "    <tr>\n",
       "      <th>6</th>\n",
       "      <td>47290.178604</td>\n",
       "      <td>2050</td>\n",
       "    </tr>\n",
       "  </tbody>\n",
       "</table>\n",
       "</div>"
      ],
      "text/plain": [
       "       ABM_incl  year\n",
       "0  20153.212295  2020\n",
       "1  23427.833787  2025\n",
       "2  28218.998288  2030\n",
       "3  34389.004031  2035\n",
       "4  39840.216979  2040\n",
       "5  44018.701047  2045\n",
       "6  47290.178604  2050"
      ]
     },
     "execution_count": 29,
     "metadata": {},
     "output_type": "execute_result"
    }
   ],
   "source": [
    "model_demand = b_res.mean_carrier_demand_df\n",
    "new_demand = add_abm_demand_to_projection(model_demand)\n",
    "abm_inkl_peaks = new_demand.max().reset_index()\n",
    "abm_inkl_peaks[[\"province\",\"year\"]] = abm_inkl_peaks[\"index\"].str.split(\".\",expand=True)\n",
    "abm_inkl_peaks = abm_inkl_peaks.rename({0:\"ABM_incl\"}, axis=1).drop([\"index\",\"province\"],axis=1)\n",
    "abm_inkl_peaks"
   ]
  },
  {
   "cell_type": "code",
   "execution_count": null,
   "metadata": {},
   "outputs": [
    {
     "data": {
      "text/html": [
       "<div>\n",
       "<style scoped>\n",
       "    .dataframe tbody tr th:only-of-type {\n",
       "        vertical-align: middle;\n",
       "    }\n",
       "\n",
       "    .dataframe tbody tr th {\n",
       "        vertical-align: top;\n",
       "    }\n",
       "\n",
       "    .dataframe thead th {\n",
       "        text-align: right;\n",
       "    }\n",
       "</style>\n",
       "<table border=\"1\" class=\"dataframe\">\n",
       "  <thead>\n",
       "    <tr style=\"text-align: right;\">\n",
       "      <th></th>\n",
       "      <th>year</th>\n",
       "      <th>variable</th>\n",
       "      <th>value</th>\n",
       "    </tr>\n",
       "  </thead>\n",
       "  <tbody>\n",
       "    <tr>\n",
       "      <th>0</th>\n",
       "      <td>2025</td>\n",
       "      <td>COPPER projection</td>\n",
       "      <td>23836.863269</td>\n",
       "    </tr>\n",
       "    <tr>\n",
       "      <th>1</th>\n",
       "      <td>2030</td>\n",
       "      <td>COPPER projection</td>\n",
       "      <td>25113.331501</td>\n",
       "    </tr>\n",
       "    <tr>\n",
       "      <th>2</th>\n",
       "      <td>2035</td>\n",
       "      <td>COPPER projection</td>\n",
       "      <td>26578.906183</td>\n",
       "    </tr>\n",
       "    <tr>\n",
       "      <th>3</th>\n",
       "      <td>2040</td>\n",
       "      <td>COPPER projection</td>\n",
       "      <td>29056.200162</td>\n",
       "    </tr>\n",
       "    <tr>\n",
       "      <th>4</th>\n",
       "      <td>2045</td>\n",
       "      <td>COPPER projection</td>\n",
       "      <td>30619.891274</td>\n",
       "    </tr>\n",
       "    <tr>\n",
       "      <th>5</th>\n",
       "      <td>2050</td>\n",
       "      <td>COPPER projection</td>\n",
       "      <td>32917.383850</td>\n",
       "    </tr>\n",
       "  </tbody>\n",
       "</table>\n",
       "</div>"
      ],
      "text/plain": [
       "   year           variable         value\n",
       "0  2025  COPPER projection  23836.863269\n",
       "1  2030  COPPER projection  25113.331501\n",
       "2  2035  COPPER projection  26578.906183\n",
       "3  2040  COPPER projection  29056.200162\n",
       "4  2045  COPPER projection  30619.891274\n",
       "5  2050  COPPER projection  32917.383850"
      ]
     },
     "execution_count": 31,
     "metadata": {},
     "output_type": "execute_result"
    }
   ],
   "source": []
  },
  {
   "cell_type": "code",
   "execution_count": null,
   "metadata": {},
   "outputs": [
    {
     "data": {
      "application/vnd.plotly.v1+json": {
       "config": {
        "plotlyServerURL": "https://plot.ly"
       },
       "data": [
        {
         "hovertemplate": "variable=ABM_incl<br>year=%{x}<br>value=%{y}<extra></extra>",
         "legendgroup": "ABM_incl",
         "line": {
          "color": "#636efa",
          "dash": "solid"
         },
         "marker": {
          "symbol": "circle"
         },
         "mode": "lines",
         "name": "ABM_incl",
         "orientation": "v",
         "showlegend": true,
         "type": "scatter",
         "x": [
          "2020",
          "2025",
          "2030",
          "2035",
          "2040",
          "2045",
          "2050"
         ],
         "xaxis": "x",
         "y": [
          20153.212295436253,
          23427.833787391784,
          28218.99828750643,
          34389.00403055177,
          39840.21697940366,
          44018.701046608505,
          47290.178604159475
         ],
         "yaxis": "y"
        },
        {
         "hovertemplate": "variable=COPPER projection<br>year=%{x}<br>value=%{y}<extra></extra>",
         "legendgroup": "COPPER projection",
         "line": {
          "color": "#EF553B",
          "dash": "solid"
         },
         "marker": {
          "symbol": "circle"
         },
         "mode": "lines",
         "name": "COPPER projection",
         "orientation": "v",
         "showlegend": true,
         "type": "scatter",
         "x": [
          2025,
          2030,
          2035,
          2040,
          2045,
          2050
         ],
         "xaxis": "x",
         "y": [
          23836.86326913599,
          25113.3315008672,
          26578.906182547544,
          29056.200162129935,
          30619.89127417865,
          32917.38384987219
         ],
         "yaxis": "y"
        }
       ],
       "layout": {
        "legend": {
         "title": {
          "text": "variable"
         },
         "tracegroupgap": 0
        },
        "margin": {
         "t": 60
        },
        "plot_bgcolor": "white",
        "template": {
         "data": {
          "bar": [
           {
            "error_x": {
             "color": "#2a3f5f"
            },
            "error_y": {
             "color": "#2a3f5f"
            },
            "marker": {
             "line": {
              "color": "#E5ECF6",
              "width": 0.5
             },
             "pattern": {
              "fillmode": "overlay",
              "size": 10,
              "solidity": 0.2
             }
            },
            "type": "bar"
           }
          ],
          "barpolar": [
           {
            "marker": {
             "line": {
              "color": "#E5ECF6",
              "width": 0.5
             },
             "pattern": {
              "fillmode": "overlay",
              "size": 10,
              "solidity": 0.2
             }
            },
            "type": "barpolar"
           }
          ],
          "carpet": [
           {
            "aaxis": {
             "endlinecolor": "#2a3f5f",
             "gridcolor": "white",
             "linecolor": "white",
             "minorgridcolor": "white",
             "startlinecolor": "#2a3f5f"
            },
            "baxis": {
             "endlinecolor": "#2a3f5f",
             "gridcolor": "white",
             "linecolor": "white",
             "minorgridcolor": "white",
             "startlinecolor": "#2a3f5f"
            },
            "type": "carpet"
           }
          ],
          "choropleth": [
           {
            "colorbar": {
             "outlinewidth": 0,
             "ticks": ""
            },
            "type": "choropleth"
           }
          ],
          "contour": [
           {
            "colorbar": {
             "outlinewidth": 0,
             "ticks": ""
            },
            "colorscale": [
             [
              0,
              "#0d0887"
             ],
             [
              0.1111111111111111,
              "#46039f"
             ],
             [
              0.2222222222222222,
              "#7201a8"
             ],
             [
              0.3333333333333333,
              "#9c179e"
             ],
             [
              0.4444444444444444,
              "#bd3786"
             ],
             [
              0.5555555555555556,
              "#d8576b"
             ],
             [
              0.6666666666666666,
              "#ed7953"
             ],
             [
              0.7777777777777778,
              "#fb9f3a"
             ],
             [
              0.8888888888888888,
              "#fdca26"
             ],
             [
              1,
              "#f0f921"
             ]
            ],
            "type": "contour"
           }
          ],
          "contourcarpet": [
           {
            "colorbar": {
             "outlinewidth": 0,
             "ticks": ""
            },
            "type": "contourcarpet"
           }
          ],
          "heatmap": [
           {
            "colorbar": {
             "outlinewidth": 0,
             "ticks": ""
            },
            "colorscale": [
             [
              0,
              "#0d0887"
             ],
             [
              0.1111111111111111,
              "#46039f"
             ],
             [
              0.2222222222222222,
              "#7201a8"
             ],
             [
              0.3333333333333333,
              "#9c179e"
             ],
             [
              0.4444444444444444,
              "#bd3786"
             ],
             [
              0.5555555555555556,
              "#d8576b"
             ],
             [
              0.6666666666666666,
              "#ed7953"
             ],
             [
              0.7777777777777778,
              "#fb9f3a"
             ],
             [
              0.8888888888888888,
              "#fdca26"
             ],
             [
              1,
              "#f0f921"
             ]
            ],
            "type": "heatmap"
           }
          ],
          "heatmapgl": [
           {
            "colorbar": {
             "outlinewidth": 0,
             "ticks": ""
            },
            "colorscale": [
             [
              0,
              "#0d0887"
             ],
             [
              0.1111111111111111,
              "#46039f"
             ],
             [
              0.2222222222222222,
              "#7201a8"
             ],
             [
              0.3333333333333333,
              "#9c179e"
             ],
             [
              0.4444444444444444,
              "#bd3786"
             ],
             [
              0.5555555555555556,
              "#d8576b"
             ],
             [
              0.6666666666666666,
              "#ed7953"
             ],
             [
              0.7777777777777778,
              "#fb9f3a"
             ],
             [
              0.8888888888888888,
              "#fdca26"
             ],
             [
              1,
              "#f0f921"
             ]
            ],
            "type": "heatmapgl"
           }
          ],
          "histogram": [
           {
            "marker": {
             "pattern": {
              "fillmode": "overlay",
              "size": 10,
              "solidity": 0.2
             }
            },
            "type": "histogram"
           }
          ],
          "histogram2d": [
           {
            "colorbar": {
             "outlinewidth": 0,
             "ticks": ""
            },
            "colorscale": [
             [
              0,
              "#0d0887"
             ],
             [
              0.1111111111111111,
              "#46039f"
             ],
             [
              0.2222222222222222,
              "#7201a8"
             ],
             [
              0.3333333333333333,
              "#9c179e"
             ],
             [
              0.4444444444444444,
              "#bd3786"
             ],
             [
              0.5555555555555556,
              "#d8576b"
             ],
             [
              0.6666666666666666,
              "#ed7953"
             ],
             [
              0.7777777777777778,
              "#fb9f3a"
             ],
             [
              0.8888888888888888,
              "#fdca26"
             ],
             [
              1,
              "#f0f921"
             ]
            ],
            "type": "histogram2d"
           }
          ],
          "histogram2dcontour": [
           {
            "colorbar": {
             "outlinewidth": 0,
             "ticks": ""
            },
            "colorscale": [
             [
              0,
              "#0d0887"
             ],
             [
              0.1111111111111111,
              "#46039f"
             ],
             [
              0.2222222222222222,
              "#7201a8"
             ],
             [
              0.3333333333333333,
              "#9c179e"
             ],
             [
              0.4444444444444444,
              "#bd3786"
             ],
             [
              0.5555555555555556,
              "#d8576b"
             ],
             [
              0.6666666666666666,
              "#ed7953"
             ],
             [
              0.7777777777777778,
              "#fb9f3a"
             ],
             [
              0.8888888888888888,
              "#fdca26"
             ],
             [
              1,
              "#f0f921"
             ]
            ],
            "type": "histogram2dcontour"
           }
          ],
          "mesh3d": [
           {
            "colorbar": {
             "outlinewidth": 0,
             "ticks": ""
            },
            "type": "mesh3d"
           }
          ],
          "parcoords": [
           {
            "line": {
             "colorbar": {
              "outlinewidth": 0,
              "ticks": ""
             }
            },
            "type": "parcoords"
           }
          ],
          "pie": [
           {
            "automargin": true,
            "type": "pie"
           }
          ],
          "scatter": [
           {
            "fillpattern": {
             "fillmode": "overlay",
             "size": 10,
             "solidity": 0.2
            },
            "type": "scatter"
           }
          ],
          "scatter3d": [
           {
            "line": {
             "colorbar": {
              "outlinewidth": 0,
              "ticks": ""
             }
            },
            "marker": {
             "colorbar": {
              "outlinewidth": 0,
              "ticks": ""
             }
            },
            "type": "scatter3d"
           }
          ],
          "scattercarpet": [
           {
            "marker": {
             "colorbar": {
              "outlinewidth": 0,
              "ticks": ""
             }
            },
            "type": "scattercarpet"
           }
          ],
          "scattergeo": [
           {
            "marker": {
             "colorbar": {
              "outlinewidth": 0,
              "ticks": ""
             }
            },
            "type": "scattergeo"
           }
          ],
          "scattergl": [
           {
            "marker": {
             "colorbar": {
              "outlinewidth": 0,
              "ticks": ""
             }
            },
            "type": "scattergl"
           }
          ],
          "scattermapbox": [
           {
            "marker": {
             "colorbar": {
              "outlinewidth": 0,
              "ticks": ""
             }
            },
            "type": "scattermapbox"
           }
          ],
          "scatterpolar": [
           {
            "marker": {
             "colorbar": {
              "outlinewidth": 0,
              "ticks": ""
             }
            },
            "type": "scatterpolar"
           }
          ],
          "scatterpolargl": [
           {
            "marker": {
             "colorbar": {
              "outlinewidth": 0,
              "ticks": ""
             }
            },
            "type": "scatterpolargl"
           }
          ],
          "scatterternary": [
           {
            "marker": {
             "colorbar": {
              "outlinewidth": 0,
              "ticks": ""
             }
            },
            "type": "scatterternary"
           }
          ],
          "surface": [
           {
            "colorbar": {
             "outlinewidth": 0,
             "ticks": ""
            },
            "colorscale": [
             [
              0,
              "#0d0887"
             ],
             [
              0.1111111111111111,
              "#46039f"
             ],
             [
              0.2222222222222222,
              "#7201a8"
             ],
             [
              0.3333333333333333,
              "#9c179e"
             ],
             [
              0.4444444444444444,
              "#bd3786"
             ],
             [
              0.5555555555555556,
              "#d8576b"
             ],
             [
              0.6666666666666666,
              "#ed7953"
             ],
             [
              0.7777777777777778,
              "#fb9f3a"
             ],
             [
              0.8888888888888888,
              "#fdca26"
             ],
             [
              1,
              "#f0f921"
             ]
            ],
            "type": "surface"
           }
          ],
          "table": [
           {
            "cells": {
             "fill": {
              "color": "#EBF0F8"
             },
             "line": {
              "color": "white"
             }
            },
            "header": {
             "fill": {
              "color": "#C8D4E3"
             },
             "line": {
              "color": "white"
             }
            },
            "type": "table"
           }
          ]
         },
         "layout": {
          "annotationdefaults": {
           "arrowcolor": "#2a3f5f",
           "arrowhead": 0,
           "arrowwidth": 1
          },
          "autotypenumbers": "strict",
          "coloraxis": {
           "colorbar": {
            "outlinewidth": 0,
            "ticks": ""
           }
          },
          "colorscale": {
           "diverging": [
            [
             0,
             "#8e0152"
            ],
            [
             0.1,
             "#c51b7d"
            ],
            [
             0.2,
             "#de77ae"
            ],
            [
             0.3,
             "#f1b6da"
            ],
            [
             0.4,
             "#fde0ef"
            ],
            [
             0.5,
             "#f7f7f7"
            ],
            [
             0.6,
             "#e6f5d0"
            ],
            [
             0.7,
             "#b8e186"
            ],
            [
             0.8,
             "#7fbc41"
            ],
            [
             0.9,
             "#4d9221"
            ],
            [
             1,
             "#276419"
            ]
           ],
           "sequential": [
            [
             0,
             "#0d0887"
            ],
            [
             0.1111111111111111,
             "#46039f"
            ],
            [
             0.2222222222222222,
             "#7201a8"
            ],
            [
             0.3333333333333333,
             "#9c179e"
            ],
            [
             0.4444444444444444,
             "#bd3786"
            ],
            [
             0.5555555555555556,
             "#d8576b"
            ],
            [
             0.6666666666666666,
             "#ed7953"
            ],
            [
             0.7777777777777778,
             "#fb9f3a"
            ],
            [
             0.8888888888888888,
             "#fdca26"
            ],
            [
             1,
             "#f0f921"
            ]
           ],
           "sequentialminus": [
            [
             0,
             "#0d0887"
            ],
            [
             0.1111111111111111,
             "#46039f"
            ],
            [
             0.2222222222222222,
             "#7201a8"
            ],
            [
             0.3333333333333333,
             "#9c179e"
            ],
            [
             0.4444444444444444,
             "#bd3786"
            ],
            [
             0.5555555555555556,
             "#d8576b"
            ],
            [
             0.6666666666666666,
             "#ed7953"
            ],
            [
             0.7777777777777778,
             "#fb9f3a"
            ],
            [
             0.8888888888888888,
             "#fdca26"
            ],
            [
             1,
             "#f0f921"
            ]
           ]
          },
          "colorway": [
           "#636efa",
           "#EF553B",
           "#00cc96",
           "#ab63fa",
           "#FFA15A",
           "#19d3f3",
           "#FF6692",
           "#B6E880",
           "#FF97FF",
           "#FECB52"
          ],
          "font": {
           "color": "#2a3f5f"
          },
          "geo": {
           "bgcolor": "white",
           "lakecolor": "white",
           "landcolor": "#E5ECF6",
           "showlakes": true,
           "showland": true,
           "subunitcolor": "white"
          },
          "hoverlabel": {
           "align": "left"
          },
          "hovermode": "closest",
          "mapbox": {
           "style": "light"
          },
          "paper_bgcolor": "white",
          "plot_bgcolor": "#E5ECF6",
          "polar": {
           "angularaxis": {
            "gridcolor": "white",
            "linecolor": "white",
            "ticks": ""
           },
           "bgcolor": "#E5ECF6",
           "radialaxis": {
            "gridcolor": "white",
            "linecolor": "white",
            "ticks": ""
           }
          },
          "scene": {
           "xaxis": {
            "backgroundcolor": "#E5ECF6",
            "gridcolor": "white",
            "gridwidth": 2,
            "linecolor": "white",
            "showbackground": true,
            "ticks": "",
            "zerolinecolor": "white"
           },
           "yaxis": {
            "backgroundcolor": "#E5ECF6",
            "gridcolor": "white",
            "gridwidth": 2,
            "linecolor": "white",
            "showbackground": true,
            "ticks": "",
            "zerolinecolor": "white"
           },
           "zaxis": {
            "backgroundcolor": "#E5ECF6",
            "gridcolor": "white",
            "gridwidth": 2,
            "linecolor": "white",
            "showbackground": true,
            "ticks": "",
            "zerolinecolor": "white"
           }
          },
          "shapedefaults": {
           "line": {
            "color": "#2a3f5f"
           }
          },
          "ternary": {
           "aaxis": {
            "gridcolor": "white",
            "linecolor": "white",
            "ticks": ""
           },
           "baxis": {
            "gridcolor": "white",
            "linecolor": "white",
            "ticks": ""
           },
           "bgcolor": "#E5ECF6",
           "caxis": {
            "gridcolor": "white",
            "linecolor": "white",
            "ticks": ""
           }
          },
          "title": {
           "x": 0.05
          },
          "xaxis": {
           "automargin": true,
           "gridcolor": "white",
           "linecolor": "white",
           "ticks": "",
           "title": {
            "standoff": 15
           },
           "zerolinecolor": "white",
           "zerolinewidth": 2
          },
          "yaxis": {
           "automargin": true,
           "gridcolor": "white",
           "linecolor": "white",
           "ticks": "",
           "title": {
            "standoff": 15
           },
           "zerolinecolor": "white",
           "zerolinewidth": 2
          }
         }
        },
        "xaxis": {
         "anchor": "y",
         "domain": [
          0,
          1
         ],
         "gridcolor": "lightgrey",
         "linecolor": "black",
         "mirror": true,
         "showline": true,
         "ticks": "outside",
         "title": {
          "text": "year"
         }
        },
        "yaxis": {
         "anchor": "x",
         "domain": [
          0,
          1
         ],
         "gridcolor": "lightgrey",
         "linecolor": "black",
         "mirror": true,
         "showline": true,
         "ticks": "outside",
         "title": {
          "text": "Peak demand (MW)"
         }
        }
       }
      },
      "text/html": [
       "<div>                            <div id=\"143953cc-75c0-4add-8e4c-5084c55f82ee\" class=\"plotly-graph-div\" style=\"height:525px; width:100%;\"></div>            <script type=\"text/javascript\">                require([\"plotly\"], function(Plotly) {                    window.PLOTLYENV=window.PLOTLYENV || {};                                    if (document.getElementById(\"143953cc-75c0-4add-8e4c-5084c55f82ee\")) {                    Plotly.newPlot(                        \"143953cc-75c0-4add-8e4c-5084c55f82ee\",                        [{\"hovertemplate\":\"variable=ABM_incl<br>year=%{x}<br>value=%{y}<extra></extra>\",\"legendgroup\":\"ABM_incl\",\"line\":{\"color\":\"#636efa\",\"dash\":\"solid\"},\"marker\":{\"symbol\":\"circle\"},\"mode\":\"lines\",\"name\":\"ABM_incl\",\"orientation\":\"v\",\"showlegend\":true,\"x\":[\"2020\",\"2025\",\"2030\",\"2035\",\"2040\",\"2045\",\"2050\"],\"xaxis\":\"x\",\"y\":[20153.212295436253,23427.833787391784,28218.99828750643,34389.00403055177,39840.21697940366,44018.701046608505,47290.178604159475],\"yaxis\":\"y\",\"type\":\"scatter\"},{\"hovertemplate\":\"variable=COPPER projection<br>year=%{x}<br>value=%{y}<extra></extra>\",\"legendgroup\":\"COPPER projection\",\"line\":{\"color\":\"#EF553B\",\"dash\":\"solid\"},\"marker\":{\"symbol\":\"circle\"},\"mode\":\"lines\",\"name\":\"COPPER projection\",\"orientation\":\"v\",\"showlegend\":true,\"x\":[2025,2030,2035,2040,2045,2050],\"xaxis\":\"x\",\"y\":[23836.86326913599,25113.3315008672,26578.906182547544,29056.200162129935,30619.89127417865,32917.38384987219],\"yaxis\":\"y\",\"type\":\"scatter\"}],                        {\"template\":{\"data\":{\"barpolar\":[{\"marker\":{\"line\":{\"color\":\"#E5ECF6\",\"width\":0.5},\"pattern\":{\"fillmode\":\"overlay\",\"size\":10,\"solidity\":0.2}},\"type\":\"barpolar\"}],\"bar\":[{\"error_x\":{\"color\":\"#2a3f5f\"},\"error_y\":{\"color\":\"#2a3f5f\"},\"marker\":{\"line\":{\"color\":\"#E5ECF6\",\"width\":0.5},\"pattern\":{\"fillmode\":\"overlay\",\"size\":10,\"solidity\":0.2}},\"type\":\"bar\"}],\"carpet\":[{\"aaxis\":{\"endlinecolor\":\"#2a3f5f\",\"gridcolor\":\"white\",\"linecolor\":\"white\",\"minorgridcolor\":\"white\",\"startlinecolor\":\"#2a3f5f\"},\"baxis\":{\"endlinecolor\":\"#2a3f5f\",\"gridcolor\":\"white\",\"linecolor\":\"white\",\"minorgridcolor\":\"white\",\"startlinecolor\":\"#2a3f5f\"},\"type\":\"carpet\"}],\"choropleth\":[{\"colorbar\":{\"outlinewidth\":0,\"ticks\":\"\"},\"type\":\"choropleth\"}],\"contourcarpet\":[{\"colorbar\":{\"outlinewidth\":0,\"ticks\":\"\"},\"type\":\"contourcarpet\"}],\"contour\":[{\"colorbar\":{\"outlinewidth\":0,\"ticks\":\"\"},\"colorscale\":[[0.0,\"#0d0887\"],[0.1111111111111111,\"#46039f\"],[0.2222222222222222,\"#7201a8\"],[0.3333333333333333,\"#9c179e\"],[0.4444444444444444,\"#bd3786\"],[0.5555555555555556,\"#d8576b\"],[0.6666666666666666,\"#ed7953\"],[0.7777777777777778,\"#fb9f3a\"],[0.8888888888888888,\"#fdca26\"],[1.0,\"#f0f921\"]],\"type\":\"contour\"}],\"heatmapgl\":[{\"colorbar\":{\"outlinewidth\":0,\"ticks\":\"\"},\"colorscale\":[[0.0,\"#0d0887\"],[0.1111111111111111,\"#46039f\"],[0.2222222222222222,\"#7201a8\"],[0.3333333333333333,\"#9c179e\"],[0.4444444444444444,\"#bd3786\"],[0.5555555555555556,\"#d8576b\"],[0.6666666666666666,\"#ed7953\"],[0.7777777777777778,\"#fb9f3a\"],[0.8888888888888888,\"#fdca26\"],[1.0,\"#f0f921\"]],\"type\":\"heatmapgl\"}],\"heatmap\":[{\"colorbar\":{\"outlinewidth\":0,\"ticks\":\"\"},\"colorscale\":[[0.0,\"#0d0887\"],[0.1111111111111111,\"#46039f\"],[0.2222222222222222,\"#7201a8\"],[0.3333333333333333,\"#9c179e\"],[0.4444444444444444,\"#bd3786\"],[0.5555555555555556,\"#d8576b\"],[0.6666666666666666,\"#ed7953\"],[0.7777777777777778,\"#fb9f3a\"],[0.8888888888888888,\"#fdca26\"],[1.0,\"#f0f921\"]],\"type\":\"heatmap\"}],\"histogram2dcontour\":[{\"colorbar\":{\"outlinewidth\":0,\"ticks\":\"\"},\"colorscale\":[[0.0,\"#0d0887\"],[0.1111111111111111,\"#46039f\"],[0.2222222222222222,\"#7201a8\"],[0.3333333333333333,\"#9c179e\"],[0.4444444444444444,\"#bd3786\"],[0.5555555555555556,\"#d8576b\"],[0.6666666666666666,\"#ed7953\"],[0.7777777777777778,\"#fb9f3a\"],[0.8888888888888888,\"#fdca26\"],[1.0,\"#f0f921\"]],\"type\":\"histogram2dcontour\"}],\"histogram2d\":[{\"colorbar\":{\"outlinewidth\":0,\"ticks\":\"\"},\"colorscale\":[[0.0,\"#0d0887\"],[0.1111111111111111,\"#46039f\"],[0.2222222222222222,\"#7201a8\"],[0.3333333333333333,\"#9c179e\"],[0.4444444444444444,\"#bd3786\"],[0.5555555555555556,\"#d8576b\"],[0.6666666666666666,\"#ed7953\"],[0.7777777777777778,\"#fb9f3a\"],[0.8888888888888888,\"#fdca26\"],[1.0,\"#f0f921\"]],\"type\":\"histogram2d\"}],\"histogram\":[{\"marker\":{\"pattern\":{\"fillmode\":\"overlay\",\"size\":10,\"solidity\":0.2}},\"type\":\"histogram\"}],\"mesh3d\":[{\"colorbar\":{\"outlinewidth\":0,\"ticks\":\"\"},\"type\":\"mesh3d\"}],\"parcoords\":[{\"line\":{\"colorbar\":{\"outlinewidth\":0,\"ticks\":\"\"}},\"type\":\"parcoords\"}],\"pie\":[{\"automargin\":true,\"type\":\"pie\"}],\"scatter3d\":[{\"line\":{\"colorbar\":{\"outlinewidth\":0,\"ticks\":\"\"}},\"marker\":{\"colorbar\":{\"outlinewidth\":0,\"ticks\":\"\"}},\"type\":\"scatter3d\"}],\"scattercarpet\":[{\"marker\":{\"colorbar\":{\"outlinewidth\":0,\"ticks\":\"\"}},\"type\":\"scattercarpet\"}],\"scattergeo\":[{\"marker\":{\"colorbar\":{\"outlinewidth\":0,\"ticks\":\"\"}},\"type\":\"scattergeo\"}],\"scattergl\":[{\"marker\":{\"colorbar\":{\"outlinewidth\":0,\"ticks\":\"\"}},\"type\":\"scattergl\"}],\"scattermapbox\":[{\"marker\":{\"colorbar\":{\"outlinewidth\":0,\"ticks\":\"\"}},\"type\":\"scattermapbox\"}],\"scatterpolargl\":[{\"marker\":{\"colorbar\":{\"outlinewidth\":0,\"ticks\":\"\"}},\"type\":\"scatterpolargl\"}],\"scatterpolar\":[{\"marker\":{\"colorbar\":{\"outlinewidth\":0,\"ticks\":\"\"}},\"type\":\"scatterpolar\"}],\"scatter\":[{\"fillpattern\":{\"fillmode\":\"overlay\",\"size\":10,\"solidity\":0.2},\"type\":\"scatter\"}],\"scatterternary\":[{\"marker\":{\"colorbar\":{\"outlinewidth\":0,\"ticks\":\"\"}},\"type\":\"scatterternary\"}],\"surface\":[{\"colorbar\":{\"outlinewidth\":0,\"ticks\":\"\"},\"colorscale\":[[0.0,\"#0d0887\"],[0.1111111111111111,\"#46039f\"],[0.2222222222222222,\"#7201a8\"],[0.3333333333333333,\"#9c179e\"],[0.4444444444444444,\"#bd3786\"],[0.5555555555555556,\"#d8576b\"],[0.6666666666666666,\"#ed7953\"],[0.7777777777777778,\"#fb9f3a\"],[0.8888888888888888,\"#fdca26\"],[1.0,\"#f0f921\"]],\"type\":\"surface\"}],\"table\":[{\"cells\":{\"fill\":{\"color\":\"#EBF0F8\"},\"line\":{\"color\":\"white\"}},\"header\":{\"fill\":{\"color\":\"#C8D4E3\"},\"line\":{\"color\":\"white\"}},\"type\":\"table\"}]},\"layout\":{\"annotationdefaults\":{\"arrowcolor\":\"#2a3f5f\",\"arrowhead\":0,\"arrowwidth\":1},\"autotypenumbers\":\"strict\",\"coloraxis\":{\"colorbar\":{\"outlinewidth\":0,\"ticks\":\"\"}},\"colorscale\":{\"diverging\":[[0,\"#8e0152\"],[0.1,\"#c51b7d\"],[0.2,\"#de77ae\"],[0.3,\"#f1b6da\"],[0.4,\"#fde0ef\"],[0.5,\"#f7f7f7\"],[0.6,\"#e6f5d0\"],[0.7,\"#b8e186\"],[0.8,\"#7fbc41\"],[0.9,\"#4d9221\"],[1,\"#276419\"]],\"sequential\":[[0.0,\"#0d0887\"],[0.1111111111111111,\"#46039f\"],[0.2222222222222222,\"#7201a8\"],[0.3333333333333333,\"#9c179e\"],[0.4444444444444444,\"#bd3786\"],[0.5555555555555556,\"#d8576b\"],[0.6666666666666666,\"#ed7953\"],[0.7777777777777778,\"#fb9f3a\"],[0.8888888888888888,\"#fdca26\"],[1.0,\"#f0f921\"]],\"sequentialminus\":[[0.0,\"#0d0887\"],[0.1111111111111111,\"#46039f\"],[0.2222222222222222,\"#7201a8\"],[0.3333333333333333,\"#9c179e\"],[0.4444444444444444,\"#bd3786\"],[0.5555555555555556,\"#d8576b\"],[0.6666666666666666,\"#ed7953\"],[0.7777777777777778,\"#fb9f3a\"],[0.8888888888888888,\"#fdca26\"],[1.0,\"#f0f921\"]]},\"colorway\":[\"#636efa\",\"#EF553B\",\"#00cc96\",\"#ab63fa\",\"#FFA15A\",\"#19d3f3\",\"#FF6692\",\"#B6E880\",\"#FF97FF\",\"#FECB52\"],\"font\":{\"color\":\"#2a3f5f\"},\"geo\":{\"bgcolor\":\"white\",\"lakecolor\":\"white\",\"landcolor\":\"#E5ECF6\",\"showlakes\":true,\"showland\":true,\"subunitcolor\":\"white\"},\"hoverlabel\":{\"align\":\"left\"},\"hovermode\":\"closest\",\"mapbox\":{\"style\":\"light\"},\"paper_bgcolor\":\"white\",\"plot_bgcolor\":\"#E5ECF6\",\"polar\":{\"angularaxis\":{\"gridcolor\":\"white\",\"linecolor\":\"white\",\"ticks\":\"\"},\"bgcolor\":\"#E5ECF6\",\"radialaxis\":{\"gridcolor\":\"white\",\"linecolor\":\"white\",\"ticks\":\"\"}},\"scene\":{\"xaxis\":{\"backgroundcolor\":\"#E5ECF6\",\"gridcolor\":\"white\",\"gridwidth\":2,\"linecolor\":\"white\",\"showbackground\":true,\"ticks\":\"\",\"zerolinecolor\":\"white\"},\"yaxis\":{\"backgroundcolor\":\"#E5ECF6\",\"gridcolor\":\"white\",\"gridwidth\":2,\"linecolor\":\"white\",\"showbackground\":true,\"ticks\":\"\",\"zerolinecolor\":\"white\"},\"zaxis\":{\"backgroundcolor\":\"#E5ECF6\",\"gridcolor\":\"white\",\"gridwidth\":2,\"linecolor\":\"white\",\"showbackground\":true,\"ticks\":\"\",\"zerolinecolor\":\"white\"}},\"shapedefaults\":{\"line\":{\"color\":\"#2a3f5f\"}},\"ternary\":{\"aaxis\":{\"gridcolor\":\"white\",\"linecolor\":\"white\",\"ticks\":\"\"},\"baxis\":{\"gridcolor\":\"white\",\"linecolor\":\"white\",\"ticks\":\"\"},\"bgcolor\":\"#E5ECF6\",\"caxis\":{\"gridcolor\":\"white\",\"linecolor\":\"white\",\"ticks\":\"\"}},\"title\":{\"x\":0.05},\"xaxis\":{\"automargin\":true,\"gridcolor\":\"white\",\"linecolor\":\"white\",\"ticks\":\"\",\"title\":{\"standoff\":15},\"zerolinecolor\":\"white\",\"zerolinewidth\":2},\"yaxis\":{\"automargin\":true,\"gridcolor\":\"white\",\"linecolor\":\"white\",\"ticks\":\"\",\"title\":{\"standoff\":15},\"zerolinecolor\":\"white\",\"zerolinewidth\":2}}},\"xaxis\":{\"anchor\":\"y\",\"domain\":[0.0,1.0],\"title\":{\"text\":\"year\"},\"mirror\":true,\"ticks\":\"outside\",\"showline\":true,\"linecolor\":\"black\",\"gridcolor\":\"lightgrey\"},\"yaxis\":{\"anchor\":\"x\",\"domain\":[0.0,1.0],\"title\":{\"text\":\"Peak demand (MW)\"},\"mirror\":true,\"ticks\":\"outside\",\"showline\":true,\"linecolor\":\"black\",\"gridcolor\":\"lightgrey\"},\"legend\":{\"title\":{\"text\":\"variable\"},\"tracegroupgap\":0},\"margin\":{\"t\":60},\"plot_bgcolor\":\"white\"},                        {\"responsive\": true}                    ).then(function(){\n",
       "                            \n",
       "var gd = document.getElementById('143953cc-75c0-4add-8e4c-5084c55f82ee');\n",
       "var x = new MutationObserver(function (mutations, observer) {{\n",
       "        var display = window.getComputedStyle(gd).display;\n",
       "        if (!display || display === 'none') {{\n",
       "            console.log([gd, 'removed!']);\n",
       "            Plotly.purge(gd);\n",
       "            observer.disconnect();\n",
       "        }}\n",
       "}});\n",
       "\n",
       "// Listen for the removal of the full notebook cells\n",
       "var notebookContainer = gd.closest('#notebook-container');\n",
       "if (notebookContainer) {{\n",
       "    x.observe(notebookContainer, {childList: true});\n",
       "}}\n",
       "\n",
       "// Listen for the clearing of the current output cell\n",
       "var outputEl = gd.closest('.output');\n",
       "if (outputEl) {{\n",
       "    x.observe(outputEl, {childList: true});\n",
       "}}\n",
       "\n",
       "                        })                };                });            </script>        </div>"
      ]
     },
     "metadata": {},
     "output_type": "display_data"
    }
   ],
   "source": [
    "import plotly.express as px\n",
    "from abetam.figures import sciencify_plotly_fig\n",
    "both_demands = pd.concat([abm_inkl_peaks.melt(id_vars=\"year\"),copper_demand_peaks.melt(id_vars=\"year\")])\n",
    "fig = sciencify_plotly_fig(px.line(both_demands, x=\"year\", y=\"value\", color=\"variable\", template=\"plotly\"))\n",
    "fig.update_layout(yaxis_title=\"Peak demand (MW)\") "
   ]
  },
  {
   "cell_type": "markdown",
   "metadata": {},
   "source": [
    "# Results of the coupled model"
   ]
  },
  {
   "cell_type": "code",
   "execution_count": 1,
   "metadata": {},
   "outputs": [
    {
     "data": {
      "text/html": [
       "<div>\n",
       "<style scoped>\n",
       "    .dataframe tbody tr th:only-of-type {\n",
       "        vertical-align: middle;\n",
       "    }\n",
       "\n",
       "    .dataframe tbody tr th {\n",
       "        vertical-align: top;\n",
       "    }\n",
       "\n",
       "    .dataframe thead th {\n",
       "        text-align: right;\n",
       "    }\n",
       "</style>\n",
       "<table border=\"1\" class=\"dataframe\">\n",
       "  <thead>\n",
       "    <tr style=\"text-align: right;\">\n",
       "      <th></th>\n",
       "      <th>ABM path</th>\n",
       "      <th>ESM path</th>\n",
       "      <th>iteration</th>\n",
       "      <th>Scenario</th>\n",
       "    </tr>\n",
       "  </thead>\n",
       "  <tbody>\n",
       "    <tr>\n",
       "      <th>0</th>\n",
       "      <td>results\\BAU_20240510_1010_0</td>\n",
       "      <td>copper\\results\\BAU_20240510_1010\\BAU_scenario_...</td>\n",
       "      <td>0</td>\n",
       "      <td>BAU</td>\n",
       "    </tr>\n",
       "    <tr>\n",
       "      <th>1</th>\n",
       "      <td>results\\BAU_20240510_1010_1</td>\n",
       "      <td>copper\\results\\BAU_20240510_1010\\BAU_scenario_...</td>\n",
       "      <td>1</td>\n",
       "      <td>BAU</td>\n",
       "    </tr>\n",
       "    <tr>\n",
       "      <th>2</th>\n",
       "      <td>results\\CER_20240510_1027_0</td>\n",
       "      <td>copper\\results\\CER_20240510_1027\\CER_scenario_...</td>\n",
       "      <td>0</td>\n",
       "      <td>CER</td>\n",
       "    </tr>\n",
       "    <tr>\n",
       "      <th>3</th>\n",
       "      <td>results\\CER_20240510_1027_1</td>\n",
       "      <td>copper\\results\\CER_20240510_1027\\CER_scenario_...</td>\n",
       "      <td>1</td>\n",
       "      <td>CER</td>\n",
       "    </tr>\n",
       "    <tr>\n",
       "      <th>4</th>\n",
       "      <td>results\\CER_plus_20240510_1043_0</td>\n",
       "      <td>copper\\results\\CER_plus_20240510_1043\\CER_scen...</td>\n",
       "      <td>0</td>\n",
       "      <td>CER+</td>\n",
       "    </tr>\n",
       "    <tr>\n",
       "      <th>5</th>\n",
       "      <td>results\\CER_plus_20240510_1043_1</td>\n",
       "      <td>copper\\results\\CER_plus_20240510_1043\\CER_scen...</td>\n",
       "      <td>1</td>\n",
       "      <td>CER+</td>\n",
       "    </tr>\n",
       "    <tr>\n",
       "      <th>6</th>\n",
       "      <td>results\\Rapid_20240510_1100_0</td>\n",
       "      <td>copper\\results\\Rapid_20240510_1100\\CER_scenari...</td>\n",
       "      <td>0</td>\n",
       "      <td>Rapid</td>\n",
       "    </tr>\n",
       "    <tr>\n",
       "      <th>7</th>\n",
       "      <td>results\\Rapid_20240510_1100_1</td>\n",
       "      <td>copper\\results\\Rapid_20240510_1100\\CER_scenari...</td>\n",
       "      <td>1</td>\n",
       "      <td>Rapid</td>\n",
       "    </tr>\n",
       "    <tr>\n",
       "      <th>8</th>\n",
       "      <td>results\\Rapid_plus_20240510_1116_0</td>\n",
       "      <td>copper\\results\\Rapid_plus_20240510_1116\\CER_sc...</td>\n",
       "      <td>0</td>\n",
       "      <td>Rapid+</td>\n",
       "    </tr>\n",
       "    <tr>\n",
       "      <th>9</th>\n",
       "      <td>results\\Rapid_plus_20240510_1116_1</td>\n",
       "      <td>copper\\results\\Rapid_plus_20240510_1116\\CER_sc...</td>\n",
       "      <td>1</td>\n",
       "      <td>Rapid+</td>\n",
       "    </tr>\n",
       "  </tbody>\n",
       "</table>\n",
       "</div>"
      ],
      "text/plain": [
       "                             ABM path  \\\n",
       "0         results\\BAU_20240510_1010_0   \n",
       "1         results\\BAU_20240510_1010_1   \n",
       "2         results\\CER_20240510_1027_0   \n",
       "3         results\\CER_20240510_1027_1   \n",
       "4    results\\CER_plus_20240510_1043_0   \n",
       "5    results\\CER_plus_20240510_1043_1   \n",
       "6       results\\Rapid_20240510_1100_0   \n",
       "7       results\\Rapid_20240510_1100_1   \n",
       "8  results\\Rapid_plus_20240510_1116_0   \n",
       "9  results\\Rapid_plus_20240510_1116_1   \n",
       "\n",
       "                                            ESM path  iteration Scenario  \n",
       "0  copper\\results\\BAU_20240510_1010\\BAU_scenario_...          0      BAU  \n",
       "1  copper\\results\\BAU_20240510_1010\\BAU_scenario_...          1      BAU  \n",
       "2  copper\\results\\CER_20240510_1027\\CER_scenario_...          0      CER  \n",
       "3  copper\\results\\CER_20240510_1027\\CER_scenario_...          1      CER  \n",
       "4  copper\\results\\CER_plus_20240510_1043\\CER_scen...          0     CER+  \n",
       "5  copper\\results\\CER_plus_20240510_1043\\CER_scen...          1     CER+  \n",
       "6  copper\\results\\Rapid_20240510_1100\\CER_scenari...          0    Rapid  \n",
       "7  copper\\results\\Rapid_20240510_1100\\CER_scenari...          1    Rapid  \n",
       "8  copper\\results\\Rapid_plus_20240510_1116\\CER_sc...          0   Rapid+  \n",
       "9  copper\\results\\Rapid_plus_20240510_1116\\CER_sc...          1   Rapid+  "
      ]
     },
     "execution_count": 1,
     "metadata": {},
     "output_type": "execute_result"
    }
   ],
   "source": [
    "import plotly.express as px\n",
    "import plotly.graph_objects as go\n",
    "import numpy as np\n",
    "from pathlib import Path\n",
    "import pandas as pd\n",
    "\n",
    "from abetam.figures import sciencify_plotly_fig\n",
    "\n",
    "def copper_result_dir(abm_result_dir: Path):\n",
    "    scen_date, iteration = abm_result_dir.stem.rsplit(\"_\",1)\n",
    "    result_dirs = list(Path(f\"copper/results/{scen_date}\").iterdir())\n",
    "    result_dirs = sorted(result_dirs)\n",
    "    return result_dirs[int(iteration)]\n",
    "\n",
    "abm_result_dirs = Path(\"results\").iterdir()\n",
    "date = \"20240510\"\n",
    "abm_result_dirs = [d for d in abm_result_dirs if date in d.name]\n",
    "# abm_result_dirs\n",
    "result_df = pd.DataFrame(list([(d, copper_result_dir(d)) for d in sorted(abm_result_dirs)]), columns=[\"ABM path\", \"ESM path\"])\n",
    "result_df[\"iteration\"] = result_df[\"ABM path\"].apply( lambda p: p.stem.rsplit(\"_\",1)[-1]).astype(int)\n",
    "\n",
    "result_df[\"Scenario\"] = result_df[\"ABM path\"].apply( lambda p: p.stem.split(\"_\",1)[0])\n",
    "\n",
    "scen_mod = result_df[\"ABM path\"].apply(lambda p: \"+\" if \"_plus\" in p.stem else \"\")\n",
    "\n",
    "result_df[\"Scenario\"] = result_df[\"Scenario\"] + scen_mod\n",
    "\n",
    "result_df"
   ]
  },
  {
   "cell_type": "code",
   "execution_count": 2,
   "metadata": {},
   "outputs": [],
   "source": [
    "# # zip all the results\n",
    "# from zipfile import ZipFile, ZIP_DEFLATED\n",
    "# from pathlib import Path\n",
    "\n",
    "# with ZipFile(\"results.zip\",\"w\", compression=ZIP_DEFLATED, compresslevel=9) as zf:\n",
    "#     for path in result_df[\"ABM path\"]:\n",
    "#         for f in path.rglob(\"*\"):\n",
    "#             zf.write(f, f)\n",
    "#     for path in result_df[\"ESM path\"]:\n",
    "#         for f in path.rglob(\"*\"):\n",
    "#             zf.write(f, f)\n"
   ]
  },
  {
   "cell_type": "code",
   "execution_count": 2,
   "metadata": {},
   "outputs": [],
   "source": [
    "from zipfile import ZipFile\n",
    "from pathlib import Path\n",
    "\n",
    "# unzip all the results\n",
    "filenames :list[str]= []\n",
    "with ZipFile(\"results_240513.zip\",\"r\") as zf:\n",
    "    file_list = zf.filelist\n",
    "    for f in file_list:\n",
    "        fn = f.filename\n",
    "        zf.extract(f,)\n",
    "        filenames.append(fn)"
   ]
  },
  {
   "cell_type": "markdown",
   "metadata": {},
   "source": [
    "## ABM Adoption and energy demands"
   ]
  },
  {
   "cell_type": "code",
   "execution_count": 45,
   "metadata": {},
   "outputs": [],
   "source": [
    "import sys \n",
    "sys.path.insert(0,\"abetam\")\n",
    "from abetam.batch import BatchResult\n",
    "import seaborn as sns\n",
    "from abetam.data.canada import (\n",
    "    uncertain_demand_from_income_and_province,\n",
    "    get_end_use_agg_heating_share\n",
    ")\n",
    "from abetam.components.model import get_income_and_attitude_weights\n",
    "from abetam.components.technologies import merge_heating_techs_with_share\n",
    "from abetam.batch import transform_dict_column\n",
    "\n",
    "def get_demand_reductions(n):\n",
    "    dem_red = np.random.normal(0.4875, 0.125, n)\n",
    "    # ensure (0,1) boundaries\n",
    "    dem_red[dem_red < 0] = -dem_red[dem_red < 0]\n",
    "    dem_red[dem_red > 1] = 1 - (dem_red[dem_red > 1] - 1)\n",
    "    return dem_red\n",
    "\n",
    "def mean_energy_demand(n):\n",
    "    province = \"Ontario\"\n",
    "    price_weight_mode = 0.55\n",
    "    start_year=2020\n",
    "    income_distribution, weights_df = get_income_and_attitude_weights(\n",
    "        n, price_weight_mode=price_weight_mode\n",
    "    )\n",
    "    total_energy_demand = uncertain_demand_from_income_and_province(\n",
    "        income_distribution, province\n",
    "    )\n",
    "\n",
    "    province_heat_share = get_end_use_agg_heating_share(province, start_year)\n",
    "    heat_demand = total_energy_demand * province_heat_share\n",
    "    return heat_demand.mean()\n",
    "\n",
    "def get_scenario_retrofit_cost(abm_res):\n",
    "    no_refurbishments = abm_res.results_df[[\"RunId\",\"AgentID\",\"Refurbished\",\"Heat demand\"]].drop_duplicates().groupby(\"RunId\")[\"Refurbished\"].sum()\n",
    "    assert no_refurbishments[0] == no_refurbishments.mean()\n",
    "\n",
    "    mean_demand = mean_energy_demand(no_refurbishments[0])\n",
    "    demand_frame = abm_res.results_df[[\"RunId\",\"Step\",\"AgentID\",\"Heat demand\"]].query(\"Step == 0\")\n",
    "    demand_frame[\"n_households\"] = demand_frame[\"Heat demand\"]/mean_demand\n",
    "    demand_frame = demand_frame.groupby(\"RunId\").sum()\n",
    "    seeds = abm_res.results_df[[\"RunId\",\"random_seed\"]].drop_duplicates().set_index(\"RunId\")\n",
    "    seeds[\"n_households\"] = demand_frame[\"n_households\"]\n",
    "    no_res_buildings = 1639581 #https://open.canada.ca/data/en/dataset/7803173f-8ab7-428c-b987-74bbde245e12/resource/6cc8a832-11d5-4d9a-9796-397905490dc1\n",
    "    no_households = 5.169*1e6 # https://www.ontario.ca/page/ontario-demographic-quarterly-highlights-first-quarter\n",
    "\n",
    "    households_per_building = no_households/no_res_buildings\n",
    "\n",
    "    max_build_work_cost = 100000\n",
    "    total_retrofit_costs = pd.DataFrame()\n",
    "    refurbished_share = no_refurbishments[0]/abm_res.results_df[\"AgentID\"].max()\n",
    "    for r_id, seed, n_households in seeds.itertuples():\n",
    "        # _, r_id, seed = tupl\n",
    "        np.random.seed(seed)\n",
    "        dem_reds = get_demand_reductions(no_refurbishments[0])\n",
    "\n",
    "        # assume maximum reduction == maximum cost\n",
    "        dem_reds /= dem_reds.max()\n",
    "        retrofit_costs = (dem_reds*max_build_work_cost).mean()*no_households*refurbished_share/households_per_building\n",
    "        # print(n_households/households_per_building)\n",
    "\n",
    "        total_retrofit_costs.at[r_id,\"Retrofit costs (CAD)\"] = retrofit_costs\n",
    "\n",
    "    total_retrofit_costs[\"scenario\"] = scenario\n",
    "    return total_retrofit_costs\n",
    "\n",
    "\n",
    "def abm_total_ann_cost(abm_res):\n",
    "    N = abm_res.results_df[\"N\"][0]\n",
    "    start_year = abm_res.results_df[\"start_year\"][0]\n",
    "    province = abm_res.results_df[\"province\"][0]\n",
    "    assert len(abm_res.results_df[\"province\"].unique()) < 2\n",
    "\n",
    "    # get adoption details from result\n",
    "    adopt_df = abm_res.adoption_details_df.pivot(index=[\"RunId\",\"year\"],columns=\"AgentID\",values=\"tech\")\n",
    "\n",
    "    # get starting tech distribution\n",
    "    heating_techs_df = merge_heating_techs_with_share(\n",
    "        start_year=start_year, province=province\n",
    "    ).reset_index()\n",
    "    heating_techs_df[\"upper_idx\"] = (heating_techs_df[\"cum_share\"] * N).astype(int)\n",
    "\n",
    "    starting_techs = [heating_techs_df.query(f\"{i}<=upper_idx\")[\"index\"].iloc[0] for i in range(500)]\n",
    "    start_tech_df = pd.DataFrame([starting_techs]*6, index=pd.MultiIndex.from_product([range(6),[2020.]], names=[\"RunId\",\"year\"]), columns=range(500))\n",
    "\n",
    "    # add starting tech distribution to adoption df and forward fill the dataframe\n",
    "    tech_agent_map = pd.concat([adopt_df, start_tech_df]).sort_index().ffill()\n",
    "\n",
    "    # get annual cost lookup from result\n",
    "    tech_ann_cost = abm_res.results_df[[\"year\",\"RunId\",\"AgentID\",\"Technology annual_cost\"]]\n",
    "    tech_ann_cost = transform_dict_column(tech_ann_cost, \"Technology annual_cost\", return_cols=False)\n",
    "    tech_ann_cost_lookup = tech_ann_cost.melt(id_vars=[\"year\",\"RunId\",\"AgentID\"], ).set_index([\"year\",\"RunId\",\"AgentID\",\"variable\"])\n",
    "\n",
    "    def fill_costs(col):\n",
    "        # apply called on a df yields a column as param here\n",
    "        col_df = col.to_frame(name=\"variable\")\n",
    "        col_df[\"AgentID\"] = col.name\n",
    "        idx = pd.Index(col_df.reset_index()[[\"year\",\"RunId\",\"AgentID\",\"variable\"]])\n",
    "        return tech_ann_cost_lookup.loc[idx, \"value\"].values\n",
    "\n",
    "    # swap tech names with their annual costs\n",
    "    ann_cost_agent_map = tech_agent_map.apply(fill_costs)\n",
    "\n",
    "    # reduce to full years\n",
    "    is_full_year = ann_cost_agent_map.reset_index()[\"year\"]%1==0\n",
    "    ann_cost_agent_map = ann_cost_agent_map.reset_index().loc[is_full_year,:].set_index([\"RunId\",\"year\"])\n",
    "\n",
    "    # sum\n",
    "    total_abm_cost = ann_cost_agent_map.groupby([\"RunId\"]).sum().sum(axis=1)\n",
    "    return total_abm_cost.to_frame(name=\"agg. annual costs\")\n"
   ]
  },
  {
   "cell_type": "code",
   "execution_count": 46,
   "metadata": {},
   "outputs": [
    {
     "data": {
      "text/html": [
       "<div>\n",
       "<style scoped>\n",
       "    .dataframe tbody tr th:only-of-type {\n",
       "        vertical-align: middle;\n",
       "    }\n",
       "\n",
       "    .dataframe tbody tr th {\n",
       "        vertical-align: top;\n",
       "    }\n",
       "\n",
       "    .dataframe thead th {\n",
       "        text-align: right;\n",
       "    }\n",
       "</style>\n",
       "<table border=\"1\" class=\"dataframe\">\n",
       "  <thead>\n",
       "    <tr style=\"text-align: right;\">\n",
       "      <th></th>\n",
       "      <th>Retrofit costs (CAD)</th>\n",
       "      <th>scenario</th>\n",
       "    </tr>\n",
       "  </thead>\n",
       "  <tbody>\n",
       "    <tr>\n",
       "      <th>2</th>\n",
       "      <td>2.684469e+10</td>\n",
       "      <td>BAU</td>\n",
       "    </tr>\n",
       "    <tr>\n",
       "      <th>3</th>\n",
       "      <td>2.616550e+10</td>\n",
       "      <td>BAU</td>\n",
       "    </tr>\n",
       "    <tr>\n",
       "      <th>0</th>\n",
       "      <td>2.839719e+10</td>\n",
       "      <td>BAU</td>\n",
       "    </tr>\n",
       "    <tr>\n",
       "      <th>1</th>\n",
       "      <td>2.970982e+10</td>\n",
       "      <td>BAU</td>\n",
       "    </tr>\n",
       "    <tr>\n",
       "      <th>5</th>\n",
       "      <td>2.969654e+10</td>\n",
       "      <td>BAU</td>\n",
       "    </tr>\n",
       "  </tbody>\n",
       "</table>\n",
       "</div>"
      ],
      "text/plain": [
       "   Retrofit costs (CAD) scenario\n",
       "2          2.684469e+10      BAU\n",
       "3          2.616550e+10      BAU\n",
       "0          2.839719e+10      BAU\n",
       "1          2.970982e+10      BAU\n",
       "5          2.969654e+10      BAU"
      ]
     },
     "execution_count": 46,
     "metadata": {},
     "output_type": "execute_result"
    }
   ],
   "source": [
    "\n",
    "\n",
    "tech_share_dfs = []\n",
    "fuel_demands = []\n",
    "subsidy_dfs = []\n",
    "emission_dfs = []\n",
    "lcoh_dfs = []\n",
    "spendings_dfs = []\n",
    "retrofit_costs = []\n",
    "abm_agg_cost = []\n",
    "\n",
    "for scenario in result_df.Scenario.unique():\n",
    "    # print(scenario,\":\", result_df.query(f\"iteration==1 and Scenario=='{scenario}'\"))\n",
    "    abm_res = BatchResult.from_directory(result_df.query(f\"iteration==1 and Scenario=='{scenario}'\")[\"ABM path\"].values[0])\n",
    "    t_share_df = abm_res.tech_shares_df\n",
    "    t_share_df[\"scenario\"] = scenario\n",
    "    tech_share_dfs.append(t_share_df)\n",
    "\n",
    "    demands = abm_res.mean_carrier_demand_df.copy()\n",
    "    demands[\"scenario\"] = scenario\n",
    "    fuel_demands.append(demands)\n",
    "\n",
    "    subs = abm_res.subsidies_df\n",
    "    subs[\"scenario\"] = scenario\n",
    "    subsidy_dfs.append(subs)\n",
    "\n",
    "    emiss = abm_res.emissions()\n",
    "    emiss[\"scenario\"] = scenario\n",
    "    emission_dfs.append(emiss)\n",
    "\n",
    "    lcohs = pd.DataFrame.from_records(abm_res.results_df[\"LCOH\"])\n",
    "    lcohs[['year','RunId','AgentID',\"Refurbished\"]] = abm_res.results_df[['year','RunId','AgentID',\"Refurbished\"]]\n",
    "    long_lcohs = lcohs.set_index([\"year\",\"RunId\",\"AgentID\",\"Refurbished\"]).melt(ignore_index=False).reset_index().drop(\"AgentID\", axis=1)\n",
    "    long_lcohs = long_lcohs.round(2).drop_duplicates().groupby([\"year\",\"variable\"]).mean().reset_index()\n",
    "    long_lcohs[\"scenario\"] = scenario\n",
    "    lcoh_dfs.append(long_lcohs)\n",
    "\n",
    "    adopt_df = abm_res.adoption_details_df.set_index(['RunId','AgentID','year',])\n",
    "    adopt_df[\"req. size\"] = abm_res.results_df[['RunId','AgentID','year','Required heating size']].set_index(['RunId','AgentID','year']).loc[adopt_df.index,'Required heating size']\n",
    "    adopt_df[\"Purchase cost\"] = adopt_df[\"purchase_price\"] * adopt_df[\"req. size\"]\n",
    "    total_spendings = adopt_df.groupby([\"RunId\", \"tech\"])[\"Purchase cost\"].sum().groupby(\"tech\").mean().reset_index()\n",
    "    total_spendings[\"scenario\"] = scenario\n",
    "    spendings_dfs.append(total_spendings)\n",
    "\n",
    "    abm_agg_annual_costs = abm_total_ann_cost(abm_res)\n",
    "    abm_agg_annual_costs[\"scenario\"] = scenario\n",
    "    abm_agg_cost.append(abm_agg_annual_costs)\n",
    "    retrofit_costs.append(get_scenario_retrofit_cost(abm_res))\n",
    "\n",
    "scenario_tech_shares = pd.concat(tech_share_dfs)\n",
    "scenario_fuel_demands = pd.concat(fuel_demands)\n",
    "scenario_emissions = pd.concat(emission_dfs)\n",
    "scenario_subsidies = pd.concat(subsidy_dfs)\n",
    "scenario_lcohs = pd.concat(lcoh_dfs)\n",
    "scenario_spendings = pd.concat(spendings_dfs)\n",
    "scenario_retrofit_costs = pd.concat(retrofit_costs)\n",
    "abm_agg_costs = pd.concat(abm_agg_cost)\n",
    "\n",
    "scenario_retrofit_costs.head()\n"
   ]
  },
  {
   "cell_type": "code",
   "execution_count": 191,
   "metadata": {},
   "outputs": [
    {
     "data": {
      "application/vnd.plotly.v1+json": {
       "config": {
        "plotlyServerURL": "https://plot.ly"
       },
       "data": [
        {
         "alignmentgroup": "True",
         "hovertemplate": "scenario=%{x}<br>Retrofit costs (CAD)=%{y}<extra></extra>",
         "legendgroup": "BAU",
         "marker": {
          "color": "#636efa"
         },
         "name": "BAU",
         "notched": false,
         "offsetgroup": "BAU",
         "orientation": "v",
         "showlegend": true,
         "type": "box",
         "x": [
          "BAU",
          "BAU",
          "BAU",
          "BAU",
          "BAU",
          "BAU"
         ],
         "x0": " ",
         "xaxis": "x",
         "y": [
          26844691345.214447,
          26165504997.102757,
          28397186214.2945,
          29709820717.16884,
          29696542616.073803,
          30179733795.40366
         ],
         "y0": " ",
         "yaxis": "y"
        },
        {
         "alignmentgroup": "True",
         "hovertemplate": "scenario=%{x}<br>Retrofit costs (CAD)=%{y}<extra></extra>",
         "legendgroup": "CER",
         "marker": {
          "color": "#EF553B"
         },
         "name": "CER",
         "notched": false,
         "offsetgroup": "CER",
         "orientation": "v",
         "showlegend": true,
         "type": "box",
         "x": [
          "CER",
          "CER",
          "CER",
          "CER",
          "CER",
          "CER"
         ],
         "x0": " ",
         "xaxis": "x",
         "y": [
          45602767042.45871,
          45338736081.19428,
          45786394112.80169,
          47704463757.50611,
          48832198154.13937,
          40123579497.40749
         ],
         "y0": " ",
         "yaxis": "y"
        },
        {
         "alignmentgroup": "True",
         "hovertemplate": "scenario=%{x}<br>Retrofit costs (CAD)=%{y}<extra></extra>",
         "legendgroup": "CER+",
         "marker": {
          "color": "#00cc96"
         },
         "name": "CER+",
         "notched": false,
         "offsetgroup": "CER+",
         "orientation": "v",
         "showlegend": true,
         "type": "box",
         "x": [
          "CER+",
          "CER+",
          "CER+",
          "CER+",
          "CER+",
          "CER+"
         ],
         "x0": " ",
         "xaxis": "x",
         "y": [
          45338736081.19428,
          45786394112.80169,
          45602767042.45871,
          47704463757.50611,
          40123579497.40749,
          48832198154.13937
         ],
         "y0": " ",
         "yaxis": "y"
        },
        {
         "alignmentgroup": "True",
         "hovertemplate": "scenario=%{x}<br>Retrofit costs (CAD)=%{y}<extra></extra>",
         "legendgroup": "Rapid",
         "marker": {
          "color": "#ab63fa"
         },
         "name": "Rapid",
         "notched": false,
         "offsetgroup": "Rapid",
         "orientation": "v",
         "showlegend": true,
         "type": "box",
         "x": [
          "Rapid",
          "Rapid",
          "Rapid",
          "Rapid",
          "Rapid",
          "Rapid"
         ],
         "x0": " ",
         "xaxis": "x",
         "y": [
          58759053111.86778,
          59037661688.49268,
          61034931652.37808,
          58432643935.91956,
          52203854759.80352,
          50968283416.59707
         ],
         "y0": " ",
         "yaxis": "y"
        },
        {
         "alignmentgroup": "True",
         "hovertemplate": "scenario=%{x}<br>Retrofit costs (CAD)=%{y}<extra></extra>",
         "legendgroup": "Rapid+",
         "marker": {
          "color": "#FFA15A"
         },
         "name": "Rapid+",
         "notched": false,
         "offsetgroup": "Rapid+",
         "orientation": "v",
         "showlegend": true,
         "type": "box",
         "x": [
          "Rapid+",
          "Rapid+",
          "Rapid+",
          "Rapid+",
          "Rapid+",
          "Rapid+"
         ],
         "x0": " ",
         "xaxis": "x",
         "y": [
          58759053111.86778,
          59037661688.49268,
          61034931652.37808,
          52203854759.80352,
          58432643935.91956,
          50968283416.59707
         ],
         "y0": " ",
         "yaxis": "y"
        }
       ],
       "layout": {
        "boxmode": "overlay",
        "font": {
         "family": "cm",
         "size": 18
        },
        "height": 350,
        "legend": {
         "title": {
          "text": "scenario"
         },
         "tracegroupgap": 0
        },
        "margin": {
         "b": 10,
         "r": 10,
         "t": 10
        },
        "plot_bgcolor": "white",
        "showlegend": false,
        "template": {
         "data": {
          "bar": [
           {
            "error_x": {
             "color": "#2a3f5f"
            },
            "error_y": {
             "color": "#2a3f5f"
            },
            "marker": {
             "line": {
              "color": "#E5ECF6",
              "width": 0.5
             },
             "pattern": {
              "fillmode": "overlay",
              "size": 10,
              "solidity": 0.2
             }
            },
            "type": "bar"
           }
          ],
          "barpolar": [
           {
            "marker": {
             "line": {
              "color": "#E5ECF6",
              "width": 0.5
             },
             "pattern": {
              "fillmode": "overlay",
              "size": 10,
              "solidity": 0.2
             }
            },
            "type": "barpolar"
           }
          ],
          "carpet": [
           {
            "aaxis": {
             "endlinecolor": "#2a3f5f",
             "gridcolor": "white",
             "linecolor": "white",
             "minorgridcolor": "white",
             "startlinecolor": "#2a3f5f"
            },
            "baxis": {
             "endlinecolor": "#2a3f5f",
             "gridcolor": "white",
             "linecolor": "white",
             "minorgridcolor": "white",
             "startlinecolor": "#2a3f5f"
            },
            "type": "carpet"
           }
          ],
          "choropleth": [
           {
            "colorbar": {
             "outlinewidth": 0,
             "ticks": ""
            },
            "type": "choropleth"
           }
          ],
          "contour": [
           {
            "colorbar": {
             "outlinewidth": 0,
             "ticks": ""
            },
            "colorscale": [
             [
              0,
              "#0d0887"
             ],
             [
              0.1111111111111111,
              "#46039f"
             ],
             [
              0.2222222222222222,
              "#7201a8"
             ],
             [
              0.3333333333333333,
              "#9c179e"
             ],
             [
              0.4444444444444444,
              "#bd3786"
             ],
             [
              0.5555555555555556,
              "#d8576b"
             ],
             [
              0.6666666666666666,
              "#ed7953"
             ],
             [
              0.7777777777777778,
              "#fb9f3a"
             ],
             [
              0.8888888888888888,
              "#fdca26"
             ],
             [
              1,
              "#f0f921"
             ]
            ],
            "type": "contour"
           }
          ],
          "contourcarpet": [
           {
            "colorbar": {
             "outlinewidth": 0,
             "ticks": ""
            },
            "type": "contourcarpet"
           }
          ],
          "heatmap": [
           {
            "colorbar": {
             "outlinewidth": 0,
             "ticks": ""
            },
            "colorscale": [
             [
              0,
              "#0d0887"
             ],
             [
              0.1111111111111111,
              "#46039f"
             ],
             [
              0.2222222222222222,
              "#7201a8"
             ],
             [
              0.3333333333333333,
              "#9c179e"
             ],
             [
              0.4444444444444444,
              "#bd3786"
             ],
             [
              0.5555555555555556,
              "#d8576b"
             ],
             [
              0.6666666666666666,
              "#ed7953"
             ],
             [
              0.7777777777777778,
              "#fb9f3a"
             ],
             [
              0.8888888888888888,
              "#fdca26"
             ],
             [
              1,
              "#f0f921"
             ]
            ],
            "type": "heatmap"
           }
          ],
          "heatmapgl": [
           {
            "colorbar": {
             "outlinewidth": 0,
             "ticks": ""
            },
            "colorscale": [
             [
              0,
              "#0d0887"
             ],
             [
              0.1111111111111111,
              "#46039f"
             ],
             [
              0.2222222222222222,
              "#7201a8"
             ],
             [
              0.3333333333333333,
              "#9c179e"
             ],
             [
              0.4444444444444444,
              "#bd3786"
             ],
             [
              0.5555555555555556,
              "#d8576b"
             ],
             [
              0.6666666666666666,
              "#ed7953"
             ],
             [
              0.7777777777777778,
              "#fb9f3a"
             ],
             [
              0.8888888888888888,
              "#fdca26"
             ],
             [
              1,
              "#f0f921"
             ]
            ],
            "type": "heatmapgl"
           }
          ],
          "histogram": [
           {
            "marker": {
             "pattern": {
              "fillmode": "overlay",
              "size": 10,
              "solidity": 0.2
             }
            },
            "type": "histogram"
           }
          ],
          "histogram2d": [
           {
            "colorbar": {
             "outlinewidth": 0,
             "ticks": ""
            },
            "colorscale": [
             [
              0,
              "#0d0887"
             ],
             [
              0.1111111111111111,
              "#46039f"
             ],
             [
              0.2222222222222222,
              "#7201a8"
             ],
             [
              0.3333333333333333,
              "#9c179e"
             ],
             [
              0.4444444444444444,
              "#bd3786"
             ],
             [
              0.5555555555555556,
              "#d8576b"
             ],
             [
              0.6666666666666666,
              "#ed7953"
             ],
             [
              0.7777777777777778,
              "#fb9f3a"
             ],
             [
              0.8888888888888888,
              "#fdca26"
             ],
             [
              1,
              "#f0f921"
             ]
            ],
            "type": "histogram2d"
           }
          ],
          "histogram2dcontour": [
           {
            "colorbar": {
             "outlinewidth": 0,
             "ticks": ""
            },
            "colorscale": [
             [
              0,
              "#0d0887"
             ],
             [
              0.1111111111111111,
              "#46039f"
             ],
             [
              0.2222222222222222,
              "#7201a8"
             ],
             [
              0.3333333333333333,
              "#9c179e"
             ],
             [
              0.4444444444444444,
              "#bd3786"
             ],
             [
              0.5555555555555556,
              "#d8576b"
             ],
             [
              0.6666666666666666,
              "#ed7953"
             ],
             [
              0.7777777777777778,
              "#fb9f3a"
             ],
             [
              0.8888888888888888,
              "#fdca26"
             ],
             [
              1,
              "#f0f921"
             ]
            ],
            "type": "histogram2dcontour"
           }
          ],
          "mesh3d": [
           {
            "colorbar": {
             "outlinewidth": 0,
             "ticks": ""
            },
            "type": "mesh3d"
           }
          ],
          "parcoords": [
           {
            "line": {
             "colorbar": {
              "outlinewidth": 0,
              "ticks": ""
             }
            },
            "type": "parcoords"
           }
          ],
          "pie": [
           {
            "automargin": true,
            "type": "pie"
           }
          ],
          "scatter": [
           {
            "fillpattern": {
             "fillmode": "overlay",
             "size": 10,
             "solidity": 0.2
            },
            "type": "scatter"
           }
          ],
          "scatter3d": [
           {
            "line": {
             "colorbar": {
              "outlinewidth": 0,
              "ticks": ""
             }
            },
            "marker": {
             "colorbar": {
              "outlinewidth": 0,
              "ticks": ""
             }
            },
            "type": "scatter3d"
           }
          ],
          "scattercarpet": [
           {
            "marker": {
             "colorbar": {
              "outlinewidth": 0,
              "ticks": ""
             }
            },
            "type": "scattercarpet"
           }
          ],
          "scattergeo": [
           {
            "marker": {
             "colorbar": {
              "outlinewidth": 0,
              "ticks": ""
             }
            },
            "type": "scattergeo"
           }
          ],
          "scattergl": [
           {
            "marker": {
             "colorbar": {
              "outlinewidth": 0,
              "ticks": ""
             }
            },
            "type": "scattergl"
           }
          ],
          "scattermapbox": [
           {
            "marker": {
             "colorbar": {
              "outlinewidth": 0,
              "ticks": ""
             }
            },
            "type": "scattermapbox"
           }
          ],
          "scatterpolar": [
           {
            "marker": {
             "colorbar": {
              "outlinewidth": 0,
              "ticks": ""
             }
            },
            "type": "scatterpolar"
           }
          ],
          "scatterpolargl": [
           {
            "marker": {
             "colorbar": {
              "outlinewidth": 0,
              "ticks": ""
             }
            },
            "type": "scatterpolargl"
           }
          ],
          "scatterternary": [
           {
            "marker": {
             "colorbar": {
              "outlinewidth": 0,
              "ticks": ""
             }
            },
            "type": "scatterternary"
           }
          ],
          "surface": [
           {
            "colorbar": {
             "outlinewidth": 0,
             "ticks": ""
            },
            "colorscale": [
             [
              0,
              "#0d0887"
             ],
             [
              0.1111111111111111,
              "#46039f"
             ],
             [
              0.2222222222222222,
              "#7201a8"
             ],
             [
              0.3333333333333333,
              "#9c179e"
             ],
             [
              0.4444444444444444,
              "#bd3786"
             ],
             [
              0.5555555555555556,
              "#d8576b"
             ],
             [
              0.6666666666666666,
              "#ed7953"
             ],
             [
              0.7777777777777778,
              "#fb9f3a"
             ],
             [
              0.8888888888888888,
              "#fdca26"
             ],
             [
              1,
              "#f0f921"
             ]
            ],
            "type": "surface"
           }
          ],
          "table": [
           {
            "cells": {
             "fill": {
              "color": "#EBF0F8"
             },
             "line": {
              "color": "white"
             }
            },
            "header": {
             "fill": {
              "color": "#C8D4E3"
             },
             "line": {
              "color": "white"
             }
            },
            "type": "table"
           }
          ]
         },
         "layout": {
          "annotationdefaults": {
           "arrowcolor": "#2a3f5f",
           "arrowhead": 0,
           "arrowwidth": 1
          },
          "autotypenumbers": "strict",
          "coloraxis": {
           "colorbar": {
            "outlinewidth": 0,
            "ticks": ""
           }
          },
          "colorscale": {
           "diverging": [
            [
             0,
             "#8e0152"
            ],
            [
             0.1,
             "#c51b7d"
            ],
            [
             0.2,
             "#de77ae"
            ],
            [
             0.3,
             "#f1b6da"
            ],
            [
             0.4,
             "#fde0ef"
            ],
            [
             0.5,
             "#f7f7f7"
            ],
            [
             0.6,
             "#e6f5d0"
            ],
            [
             0.7,
             "#b8e186"
            ],
            [
             0.8,
             "#7fbc41"
            ],
            [
             0.9,
             "#4d9221"
            ],
            [
             1,
             "#276419"
            ]
           ],
           "sequential": [
            [
             0,
             "#0d0887"
            ],
            [
             0.1111111111111111,
             "#46039f"
            ],
            [
             0.2222222222222222,
             "#7201a8"
            ],
            [
             0.3333333333333333,
             "#9c179e"
            ],
            [
             0.4444444444444444,
             "#bd3786"
            ],
            [
             0.5555555555555556,
             "#d8576b"
            ],
            [
             0.6666666666666666,
             "#ed7953"
            ],
            [
             0.7777777777777778,
             "#fb9f3a"
            ],
            [
             0.8888888888888888,
             "#fdca26"
            ],
            [
             1,
             "#f0f921"
            ]
           ],
           "sequentialminus": [
            [
             0,
             "#0d0887"
            ],
            [
             0.1111111111111111,
             "#46039f"
            ],
            [
             0.2222222222222222,
             "#7201a8"
            ],
            [
             0.3333333333333333,
             "#9c179e"
            ],
            [
             0.4444444444444444,
             "#bd3786"
            ],
            [
             0.5555555555555556,
             "#d8576b"
            ],
            [
             0.6666666666666666,
             "#ed7953"
            ],
            [
             0.7777777777777778,
             "#fb9f3a"
            ],
            [
             0.8888888888888888,
             "#fdca26"
            ],
            [
             1,
             "#f0f921"
            ]
           ]
          },
          "colorway": [
           "#636efa",
           "#EF553B",
           "#00cc96",
           "#ab63fa",
           "#FFA15A",
           "#19d3f3",
           "#FF6692",
           "#B6E880",
           "#FF97FF",
           "#FECB52"
          ],
          "font": {
           "color": "#2a3f5f"
          },
          "geo": {
           "bgcolor": "white",
           "lakecolor": "white",
           "landcolor": "#E5ECF6",
           "showlakes": true,
           "showland": true,
           "subunitcolor": "white"
          },
          "hoverlabel": {
           "align": "left"
          },
          "hovermode": "closest",
          "mapbox": {
           "style": "light"
          },
          "paper_bgcolor": "white",
          "plot_bgcolor": "#E5ECF6",
          "polar": {
           "angularaxis": {
            "gridcolor": "white",
            "linecolor": "white",
            "ticks": ""
           },
           "bgcolor": "#E5ECF6",
           "radialaxis": {
            "gridcolor": "white",
            "linecolor": "white",
            "ticks": ""
           }
          },
          "scene": {
           "xaxis": {
            "backgroundcolor": "#E5ECF6",
            "gridcolor": "white",
            "gridwidth": 2,
            "linecolor": "white",
            "showbackground": true,
            "ticks": "",
            "zerolinecolor": "white"
           },
           "yaxis": {
            "backgroundcolor": "#E5ECF6",
            "gridcolor": "white",
            "gridwidth": 2,
            "linecolor": "white",
            "showbackground": true,
            "ticks": "",
            "zerolinecolor": "white"
           },
           "zaxis": {
            "backgroundcolor": "#E5ECF6",
            "gridcolor": "white",
            "gridwidth": 2,
            "linecolor": "white",
            "showbackground": true,
            "ticks": "",
            "zerolinecolor": "white"
           }
          },
          "shapedefaults": {
           "line": {
            "color": "#2a3f5f"
           }
          },
          "ternary": {
           "aaxis": {
            "gridcolor": "white",
            "linecolor": "white",
            "ticks": ""
           },
           "baxis": {
            "gridcolor": "white",
            "linecolor": "white",
            "ticks": ""
           },
           "bgcolor": "#E5ECF6",
           "caxis": {
            "gridcolor": "white",
            "linecolor": "white",
            "ticks": ""
           }
          },
          "title": {
           "x": 0.05
          },
          "xaxis": {
           "automargin": true,
           "gridcolor": "white",
           "linecolor": "white",
           "ticks": "",
           "title": {
            "standoff": 15
           },
           "zerolinecolor": "white",
           "zerolinewidth": 2
          },
          "yaxis": {
           "automargin": true,
           "gridcolor": "white",
           "linecolor": "white",
           "ticks": "",
           "title": {
            "standoff": 15
           },
           "zerolinecolor": "white",
           "zerolinewidth": 2
          }
         }
        },
        "width": 400,
        "xaxis": {
         "anchor": "y",
         "categoryarray": [
          "BAU",
          "CER",
          "CER+",
          "Rapid",
          "Rapid+"
         ],
         "categoryorder": "array",
         "domain": [
          0,
          1
         ],
         "gridcolor": "lightgrey",
         "linecolor": "black",
         "mirror": true,
         "showline": true,
         "ticks": "outside",
         "title": {
          "text": "scenario"
         }
        },
        "yaxis": {
         "anchor": "x",
         "domain": [
          0,
          1
         ],
         "gridcolor": "lightgrey",
         "linecolor": "black",
         "mirror": true,
         "showline": true,
         "ticks": "outside",
         "title": {
          "text": "Retrofit costs (CAD)"
         }
        }
       }
      }
     },
     "metadata": {},
     "output_type": "display_data"
    }
   ],
   "source": [
    "import plotly.express as px\n",
    "\n",
    "rtrft_fig = px.box(scenario_retrofit_costs, x=\"scenario\",y=\"Retrofit costs (CAD)\", color=\"scenario\", template=\"plotly\", width=400,)\n",
    "rtrft_fig = sciencify_plotly_fig(rtrft_fig)\n",
    "rtrft_fig.update_layout(showlegend=False, margin=dict(r=10,t=10,b=10), height=350, font_family=\"cm\",font_size=18)\n",
    "rtrft_fig.write_image(\"abm_retrofit_cost.svg\")\n",
    "rtrft_fig.write_image(\"abm_retrofit_cost.pdf\",engine=\"kaleido\")\n",
    "rtrft_fig"
   ]
  },
  {
   "cell_type": "code",
   "execution_count": 193,
   "id": "01HXGZ94MSV2BKGTQBXKR5QTE8",
   "metadata": {},
   "outputs": [
    {
     "data": {
      "application/vnd.plotly.v1+json": {
       "config": {
        "plotlyServerURL": "https://plot.ly"
       },
       "data": [
        {
         "alignmentgroup": "True",
         "hovertemplate": "scenario=%{x}<br>agg. annual costs=%{y}<extra></extra>",
         "legendgroup": "BAU",
         "marker": {
          "color": "#636efa"
         },
         "name": "BAU",
         "notched": false,
         "offsetgroup": "BAU",
         "orientation": "v",
         "showlegend": true,
         "type": "box",
         "x": [
          "BAU",
          "BAU",
          "BAU",
          "BAU",
          "BAU",
          "BAU"
         ],
         "x0": " ",
         "xaxis": "x",
         "y": [
          329193956217.0625,
          320953464032.8282,
          319124090078.36743,
          317332527765.7075,
          323109547934.827,
          314389011196.8879
         ],
         "y0": " ",
         "yaxis": "y"
        },
        {
         "alignmentgroup": "True",
         "hovertemplate": "scenario=%{x}<br>agg. annual costs=%{y}<extra></extra>",
         "legendgroup": "CER",
         "marker": {
          "color": "#EF553B"
         },
         "name": "CER",
         "notched": false,
         "offsetgroup": "CER",
         "orientation": "v",
         "showlegend": true,
         "type": "box",
         "x": [
          "CER",
          "CER",
          "CER",
          "CER",
          "CER",
          "CER"
         ],
         "x0": " ",
         "xaxis": "x",
         "y": [
          317018564102.8936,
          309809128209.34094,
          307619201642.2299,
          306707699313.2175,
          317248827304.0864,
          309308139677.0155
         ],
         "y0": " ",
         "yaxis": "y"
        },
        {
         "alignmentgroup": "True",
         "hovertemplate": "scenario=%{x}<br>agg. annual costs=%{y}<extra></extra>",
         "legendgroup": "CER+",
         "marker": {
          "color": "#00cc96"
         },
         "name": "CER+",
         "notched": false,
         "offsetgroup": "CER+",
         "orientation": "v",
         "showlegend": true,
         "type": "box",
         "x": [
          "CER+",
          "CER+",
          "CER+",
          "CER+",
          "CER+",
          "CER+"
         ],
         "x0": " ",
         "xaxis": "x",
         "y": [
          320663357582.9579,
          312917906133.2353,
          309470006882.5813,
          306607428896.72516,
          319592437702.4606,
          310838149670.3998
         ],
         "y0": " ",
         "yaxis": "y"
        },
        {
         "alignmentgroup": "True",
         "hovertemplate": "scenario=%{x}<br>agg. annual costs=%{y}<extra></extra>",
         "legendgroup": "Rapid",
         "marker": {
          "color": "#ab63fa"
         },
         "name": "Rapid",
         "notched": false,
         "offsetgroup": "Rapid",
         "orientation": "v",
         "showlegend": true,
         "type": "box",
         "x": [
          "Rapid",
          "Rapid",
          "Rapid",
          "Rapid",
          "Rapid",
          "Rapid"
         ],
         "x0": " ",
         "xaxis": "x",
         "y": [
          245037153108.94962,
          245646001742.52563,
          240698347256.66907,
          239856093390.80548,
          245373024610.26306,
          246148962265.4643
         ],
         "y0": " ",
         "yaxis": "y"
        },
        {
         "alignmentgroup": "True",
         "hovertemplate": "scenario=%{x}<br>agg. annual costs=%{y}<extra></extra>",
         "legendgroup": "Rapid+",
         "marker": {
          "color": "#FFA15A"
         },
         "name": "Rapid+",
         "notched": false,
         "offsetgroup": "Rapid+",
         "orientation": "v",
         "showlegend": true,
         "type": "box",
         "x": [
          "Rapid+",
          "Rapid+",
          "Rapid+",
          "Rapid+",
          "Rapid+",
          "Rapid+"
         ],
         "x0": " ",
         "xaxis": "x",
         "y": [
          237750346048.6903,
          238213192083.48172,
          240529195118.10822,
          233959654989.18723,
          238285437233.6958,
          237090619218.7508
         ],
         "y0": " ",
         "yaxis": "y"
        }
       ],
       "layout": {
        "boxmode": "overlay",
        "font": {
         "family": "cm",
         "size": 18
        },
        "height": 350,
        "legend": {
         "title": {
          "text": "scenario"
         },
         "tracegroupgap": 0
        },
        "margin": {
         "b": 10,
         "r": 10,
         "t": 10
        },
        "plot_bgcolor": "white",
        "showlegend": false,
        "template": {
         "data": {
          "bar": [
           {
            "error_x": {
             "color": "#2a3f5f"
            },
            "error_y": {
             "color": "#2a3f5f"
            },
            "marker": {
             "line": {
              "color": "#E5ECF6",
              "width": 0.5
             },
             "pattern": {
              "fillmode": "overlay",
              "size": 10,
              "solidity": 0.2
             }
            },
            "type": "bar"
           }
          ],
          "barpolar": [
           {
            "marker": {
             "line": {
              "color": "#E5ECF6",
              "width": 0.5
             },
             "pattern": {
              "fillmode": "overlay",
              "size": 10,
              "solidity": 0.2
             }
            },
            "type": "barpolar"
           }
          ],
          "carpet": [
           {
            "aaxis": {
             "endlinecolor": "#2a3f5f",
             "gridcolor": "white",
             "linecolor": "white",
             "minorgridcolor": "white",
             "startlinecolor": "#2a3f5f"
            },
            "baxis": {
             "endlinecolor": "#2a3f5f",
             "gridcolor": "white",
             "linecolor": "white",
             "minorgridcolor": "white",
             "startlinecolor": "#2a3f5f"
            },
            "type": "carpet"
           }
          ],
          "choropleth": [
           {
            "colorbar": {
             "outlinewidth": 0,
             "ticks": ""
            },
            "type": "choropleth"
           }
          ],
          "contour": [
           {
            "colorbar": {
             "outlinewidth": 0,
             "ticks": ""
            },
            "colorscale": [
             [
              0,
              "#0d0887"
             ],
             [
              0.1111111111111111,
              "#46039f"
             ],
             [
              0.2222222222222222,
              "#7201a8"
             ],
             [
              0.3333333333333333,
              "#9c179e"
             ],
             [
              0.4444444444444444,
              "#bd3786"
             ],
             [
              0.5555555555555556,
              "#d8576b"
             ],
             [
              0.6666666666666666,
              "#ed7953"
             ],
             [
              0.7777777777777778,
              "#fb9f3a"
             ],
             [
              0.8888888888888888,
              "#fdca26"
             ],
             [
              1,
              "#f0f921"
             ]
            ],
            "type": "contour"
           }
          ],
          "contourcarpet": [
           {
            "colorbar": {
             "outlinewidth": 0,
             "ticks": ""
            },
            "type": "contourcarpet"
           }
          ],
          "heatmap": [
           {
            "colorbar": {
             "outlinewidth": 0,
             "ticks": ""
            },
            "colorscale": [
             [
              0,
              "#0d0887"
             ],
             [
              0.1111111111111111,
              "#46039f"
             ],
             [
              0.2222222222222222,
              "#7201a8"
             ],
             [
              0.3333333333333333,
              "#9c179e"
             ],
             [
              0.4444444444444444,
              "#bd3786"
             ],
             [
              0.5555555555555556,
              "#d8576b"
             ],
             [
              0.6666666666666666,
              "#ed7953"
             ],
             [
              0.7777777777777778,
              "#fb9f3a"
             ],
             [
              0.8888888888888888,
              "#fdca26"
             ],
             [
              1,
              "#f0f921"
             ]
            ],
            "type": "heatmap"
           }
          ],
          "heatmapgl": [
           {
            "colorbar": {
             "outlinewidth": 0,
             "ticks": ""
            },
            "colorscale": [
             [
              0,
              "#0d0887"
             ],
             [
              0.1111111111111111,
              "#46039f"
             ],
             [
              0.2222222222222222,
              "#7201a8"
             ],
             [
              0.3333333333333333,
              "#9c179e"
             ],
             [
              0.4444444444444444,
              "#bd3786"
             ],
             [
              0.5555555555555556,
              "#d8576b"
             ],
             [
              0.6666666666666666,
              "#ed7953"
             ],
             [
              0.7777777777777778,
              "#fb9f3a"
             ],
             [
              0.8888888888888888,
              "#fdca26"
             ],
             [
              1,
              "#f0f921"
             ]
            ],
            "type": "heatmapgl"
           }
          ],
          "histogram": [
           {
            "marker": {
             "pattern": {
              "fillmode": "overlay",
              "size": 10,
              "solidity": 0.2
             }
            },
            "type": "histogram"
           }
          ],
          "histogram2d": [
           {
            "colorbar": {
             "outlinewidth": 0,
             "ticks": ""
            },
            "colorscale": [
             [
              0,
              "#0d0887"
             ],
             [
              0.1111111111111111,
              "#46039f"
             ],
             [
              0.2222222222222222,
              "#7201a8"
             ],
             [
              0.3333333333333333,
              "#9c179e"
             ],
             [
              0.4444444444444444,
              "#bd3786"
             ],
             [
              0.5555555555555556,
              "#d8576b"
             ],
             [
              0.6666666666666666,
              "#ed7953"
             ],
             [
              0.7777777777777778,
              "#fb9f3a"
             ],
             [
              0.8888888888888888,
              "#fdca26"
             ],
             [
              1,
              "#f0f921"
             ]
            ],
            "type": "histogram2d"
           }
          ],
          "histogram2dcontour": [
           {
            "colorbar": {
             "outlinewidth": 0,
             "ticks": ""
            },
            "colorscale": [
             [
              0,
              "#0d0887"
             ],
             [
              0.1111111111111111,
              "#46039f"
             ],
             [
              0.2222222222222222,
              "#7201a8"
             ],
             [
              0.3333333333333333,
              "#9c179e"
             ],
             [
              0.4444444444444444,
              "#bd3786"
             ],
             [
              0.5555555555555556,
              "#d8576b"
             ],
             [
              0.6666666666666666,
              "#ed7953"
             ],
             [
              0.7777777777777778,
              "#fb9f3a"
             ],
             [
              0.8888888888888888,
              "#fdca26"
             ],
             [
              1,
              "#f0f921"
             ]
            ],
            "type": "histogram2dcontour"
           }
          ],
          "mesh3d": [
           {
            "colorbar": {
             "outlinewidth": 0,
             "ticks": ""
            },
            "type": "mesh3d"
           }
          ],
          "parcoords": [
           {
            "line": {
             "colorbar": {
              "outlinewidth": 0,
              "ticks": ""
             }
            },
            "type": "parcoords"
           }
          ],
          "pie": [
           {
            "automargin": true,
            "type": "pie"
           }
          ],
          "scatter": [
           {
            "fillpattern": {
             "fillmode": "overlay",
             "size": 10,
             "solidity": 0.2
            },
            "type": "scatter"
           }
          ],
          "scatter3d": [
           {
            "line": {
             "colorbar": {
              "outlinewidth": 0,
              "ticks": ""
             }
            },
            "marker": {
             "colorbar": {
              "outlinewidth": 0,
              "ticks": ""
             }
            },
            "type": "scatter3d"
           }
          ],
          "scattercarpet": [
           {
            "marker": {
             "colorbar": {
              "outlinewidth": 0,
              "ticks": ""
             }
            },
            "type": "scattercarpet"
           }
          ],
          "scattergeo": [
           {
            "marker": {
             "colorbar": {
              "outlinewidth": 0,
              "ticks": ""
             }
            },
            "type": "scattergeo"
           }
          ],
          "scattergl": [
           {
            "marker": {
             "colorbar": {
              "outlinewidth": 0,
              "ticks": ""
             }
            },
            "type": "scattergl"
           }
          ],
          "scattermapbox": [
           {
            "marker": {
             "colorbar": {
              "outlinewidth": 0,
              "ticks": ""
             }
            },
            "type": "scattermapbox"
           }
          ],
          "scatterpolar": [
           {
            "marker": {
             "colorbar": {
              "outlinewidth": 0,
              "ticks": ""
             }
            },
            "type": "scatterpolar"
           }
          ],
          "scatterpolargl": [
           {
            "marker": {
             "colorbar": {
              "outlinewidth": 0,
              "ticks": ""
             }
            },
            "type": "scatterpolargl"
           }
          ],
          "scatterternary": [
           {
            "marker": {
             "colorbar": {
              "outlinewidth": 0,
              "ticks": ""
             }
            },
            "type": "scatterternary"
           }
          ],
          "surface": [
           {
            "colorbar": {
             "outlinewidth": 0,
             "ticks": ""
            },
            "colorscale": [
             [
              0,
              "#0d0887"
             ],
             [
              0.1111111111111111,
              "#46039f"
             ],
             [
              0.2222222222222222,
              "#7201a8"
             ],
             [
              0.3333333333333333,
              "#9c179e"
             ],
             [
              0.4444444444444444,
              "#bd3786"
             ],
             [
              0.5555555555555556,
              "#d8576b"
             ],
             [
              0.6666666666666666,
              "#ed7953"
             ],
             [
              0.7777777777777778,
              "#fb9f3a"
             ],
             [
              0.8888888888888888,
              "#fdca26"
             ],
             [
              1,
              "#f0f921"
             ]
            ],
            "type": "surface"
           }
          ],
          "table": [
           {
            "cells": {
             "fill": {
              "color": "#EBF0F8"
             },
             "line": {
              "color": "white"
             }
            },
            "header": {
             "fill": {
              "color": "#C8D4E3"
             },
             "line": {
              "color": "white"
             }
            },
            "type": "table"
           }
          ]
         },
         "layout": {
          "annotationdefaults": {
           "arrowcolor": "#2a3f5f",
           "arrowhead": 0,
           "arrowwidth": 1
          },
          "autotypenumbers": "strict",
          "coloraxis": {
           "colorbar": {
            "outlinewidth": 0,
            "ticks": ""
           }
          },
          "colorscale": {
           "diverging": [
            [
             0,
             "#8e0152"
            ],
            [
             0.1,
             "#c51b7d"
            ],
            [
             0.2,
             "#de77ae"
            ],
            [
             0.3,
             "#f1b6da"
            ],
            [
             0.4,
             "#fde0ef"
            ],
            [
             0.5,
             "#f7f7f7"
            ],
            [
             0.6,
             "#e6f5d0"
            ],
            [
             0.7,
             "#b8e186"
            ],
            [
             0.8,
             "#7fbc41"
            ],
            [
             0.9,
             "#4d9221"
            ],
            [
             1,
             "#276419"
            ]
           ],
           "sequential": [
            [
             0,
             "#0d0887"
            ],
            [
             0.1111111111111111,
             "#46039f"
            ],
            [
             0.2222222222222222,
             "#7201a8"
            ],
            [
             0.3333333333333333,
             "#9c179e"
            ],
            [
             0.4444444444444444,
             "#bd3786"
            ],
            [
             0.5555555555555556,
             "#d8576b"
            ],
            [
             0.6666666666666666,
             "#ed7953"
            ],
            [
             0.7777777777777778,
             "#fb9f3a"
            ],
            [
             0.8888888888888888,
             "#fdca26"
            ],
            [
             1,
             "#f0f921"
            ]
           ],
           "sequentialminus": [
            [
             0,
             "#0d0887"
            ],
            [
             0.1111111111111111,
             "#46039f"
            ],
            [
             0.2222222222222222,
             "#7201a8"
            ],
            [
             0.3333333333333333,
             "#9c179e"
            ],
            [
             0.4444444444444444,
             "#bd3786"
            ],
            [
             0.5555555555555556,
             "#d8576b"
            ],
            [
             0.6666666666666666,
             "#ed7953"
            ],
            [
             0.7777777777777778,
             "#fb9f3a"
            ],
            [
             0.8888888888888888,
             "#fdca26"
            ],
            [
             1,
             "#f0f921"
            ]
           ]
          },
          "colorway": [
           "#636efa",
           "#EF553B",
           "#00cc96",
           "#ab63fa",
           "#FFA15A",
           "#19d3f3",
           "#FF6692",
           "#B6E880",
           "#FF97FF",
           "#FECB52"
          ],
          "font": {
           "color": "#2a3f5f"
          },
          "geo": {
           "bgcolor": "white",
           "lakecolor": "white",
           "landcolor": "#E5ECF6",
           "showlakes": true,
           "showland": true,
           "subunitcolor": "white"
          },
          "hoverlabel": {
           "align": "left"
          },
          "hovermode": "closest",
          "mapbox": {
           "style": "light"
          },
          "paper_bgcolor": "white",
          "plot_bgcolor": "#E5ECF6",
          "polar": {
           "angularaxis": {
            "gridcolor": "white",
            "linecolor": "white",
            "ticks": ""
           },
           "bgcolor": "#E5ECF6",
           "radialaxis": {
            "gridcolor": "white",
            "linecolor": "white",
            "ticks": ""
           }
          },
          "scene": {
           "xaxis": {
            "backgroundcolor": "#E5ECF6",
            "gridcolor": "white",
            "gridwidth": 2,
            "linecolor": "white",
            "showbackground": true,
            "ticks": "",
            "zerolinecolor": "white"
           },
           "yaxis": {
            "backgroundcolor": "#E5ECF6",
            "gridcolor": "white",
            "gridwidth": 2,
            "linecolor": "white",
            "showbackground": true,
            "ticks": "",
            "zerolinecolor": "white"
           },
           "zaxis": {
            "backgroundcolor": "#E5ECF6",
            "gridcolor": "white",
            "gridwidth": 2,
            "linecolor": "white",
            "showbackground": true,
            "ticks": "",
            "zerolinecolor": "white"
           }
          },
          "shapedefaults": {
           "line": {
            "color": "#2a3f5f"
           }
          },
          "ternary": {
           "aaxis": {
            "gridcolor": "white",
            "linecolor": "white",
            "ticks": ""
           },
           "baxis": {
            "gridcolor": "white",
            "linecolor": "white",
            "ticks": ""
           },
           "bgcolor": "#E5ECF6",
           "caxis": {
            "gridcolor": "white",
            "linecolor": "white",
            "ticks": ""
           }
          },
          "title": {
           "x": 0.05
          },
          "xaxis": {
           "automargin": true,
           "gridcolor": "white",
           "linecolor": "white",
           "ticks": "",
           "title": {
            "standoff": 15
           },
           "zerolinecolor": "white",
           "zerolinewidth": 2
          },
          "yaxis": {
           "automargin": true,
           "gridcolor": "white",
           "linecolor": "white",
           "ticks": "",
           "title": {
            "standoff": 15
           },
           "zerolinecolor": "white",
           "zerolinewidth": 2
          }
         }
        },
        "width": 400,
        "xaxis": {
         "anchor": "y",
         "categoryarray": [
          "BAU",
          "CER",
          "CER+",
          "Rapid",
          "Rapid+"
         ],
         "categoryorder": "array",
         "domain": [
          0,
          1
         ],
         "gridcolor": "lightgrey",
         "linecolor": "black",
         "mirror": true,
         "showline": true,
         "ticks": "outside",
         "title": {
          "text": "scenario"
         }
        },
        "yaxis": {
         "anchor": "x",
         "domain": [
          0,
          1
         ],
         "gridcolor": "lightgrey",
         "linecolor": "black",
         "mirror": true,
         "showline": true,
         "ticks": "outside",
         "title": {
          "text": "Total residential cost (CAD)"
         }
        }
       }
      }
     },
     "metadata": {},
     "output_type": "display_data"
    }
   ],
   "source": [
    "total_cost_fig = px.box(abm_agg_costs, x=\"scenario\",y=\"agg. annual costs\", color=\"scenario\", template=\"plotly\", width=400,)\n",
    "total_cost_fig = sciencify_plotly_fig(total_cost_fig)\n",
    "total_cost_fig.update_layout(showlegend=False, margin=dict(r=10,t=10,b=10), height=350, font_family=\"cm\",font_size=18, yaxis_title=\"Total residential cost (CAD)\")\n",
    "total_cost_fig.write_image(\"abm_total_cost.svg\")\n",
    "total_cost_fig"
   ]
  },
  {
   "cell_type": "code",
   "execution_count": 194,
   "metadata": {},
   "outputs": [],
   "source": [
    "scenario_fuel_demands_long = scenario_fuel_demands.groupby([\"year\",\"scenario\"]).sum().melt(ignore_index=False).reset_index()\n",
    "scenario_fuel_demands_long[\"value\"] /= 1e9 # kWh -> TWh\n"
   ]
  },
  {
   "cell_type": "code",
   "execution_count": 195,
   "metadata": {},
   "outputs": [
    {
     "data": {
      "text/html": [
       "<div>\n",
       "<style scoped>\n",
       "    .dataframe tbody tr th:only-of-type {\n",
       "        vertical-align: middle;\n",
       "    }\n",
       "\n",
       "    .dataframe tbody tr th {\n",
       "        vertical-align: top;\n",
       "    }\n",
       "\n",
       "    .dataframe thead th {\n",
       "        text-align: right;\n",
       "    }\n",
       "</style>\n",
       "<table border=\"1\" class=\"dataframe\">\n",
       "  <thead>\n",
       "    <tr style=\"text-align: right;\">\n",
       "      <th></th>\n",
       "      <th>year</th>\n",
       "      <th>scenario</th>\n",
       "      <th>variable</th>\n",
       "      <th>value</th>\n",
       "      <th>is_demand</th>\n",
       "    </tr>\n",
       "  </thead>\n",
       "  <tbody>\n",
       "    <tr>\n",
       "      <th>135</th>\n",
       "      <td>2050.0</td>\n",
       "      <td>BAU</td>\n",
       "      <td>Electricity</td>\n",
       "      <td>60.455018</td>\n",
       "      <td>True</td>\n",
       "    </tr>\n",
       "    <tr>\n",
       "      <th>136</th>\n",
       "      <td>2050.0</td>\n",
       "      <td>CER</td>\n",
       "      <td>Electricity</td>\n",
       "      <td>54.286526</td>\n",
       "      <td>True</td>\n",
       "    </tr>\n",
       "    <tr>\n",
       "      <th>137</th>\n",
       "      <td>2050.0</td>\n",
       "      <td>CER+</td>\n",
       "      <td>Electricity</td>\n",
       "      <td>60.40452</td>\n",
       "      <td>True</td>\n",
       "    </tr>\n",
       "    <tr>\n",
       "      <th>138</th>\n",
       "      <td>2050.0</td>\n",
       "      <td>Rapid</td>\n",
       "      <td>Electricity</td>\n",
       "      <td>18.984384</td>\n",
       "      <td>True</td>\n",
       "    </tr>\n",
       "    <tr>\n",
       "      <th>139</th>\n",
       "      <td>2050.0</td>\n",
       "      <td>Rapid+</td>\n",
       "      <td>Electricity</td>\n",
       "      <td>20.20865</td>\n",
       "      <td>True</td>\n",
       "    </tr>\n",
       "  </tbody>\n",
       "</table>\n",
       "</div>"
      ],
      "text/plain": [
       "       year scenario     variable      value  is_demand\n",
       "135  2050.0      BAU  Electricity  60.455018       True\n",
       "136  2050.0      CER  Electricity  54.286526       True\n",
       "137  2050.0     CER+  Electricity   60.40452       True\n",
       "138  2050.0    Rapid  Electricity  18.984384       True\n",
       "139  2050.0   Rapid+  Electricity   20.20865       True"
      ]
     },
     "execution_count": 195,
     "metadata": {},
     "output_type": "execute_result"
    }
   ],
   "source": [
    "from abetam.config import TECHNOLOGY_COLORS, FUEL_COLORS\n",
    "from abetam.components.technologies import Fuels\n",
    "ABM_colors = dict(TECHNOLOGY_COLORS, **FUEL_COLORS)\n",
    "\n",
    "scenario_tech_shares_long = scenario_tech_shares.drop([\"province\",\"RunId\"], axis=1).melt(id_vars=[\"year\",\"scenario\"]) \n",
    "abm_results = pd.concat([scenario_tech_shares_long, scenario_fuel_demands_long])\n",
    "def is_fuel(v):\n",
    "    return v in list(Fuels)\n",
    "abm_results[\"is_demand\"] = abm_results[\"variable\"].apply(is_fuel)\n",
    "\n",
    "abm_results[\"variable\"] = abm_results[\"variable\"].str.replace(\"Wood or wood pellets\", \"Biomass\")\n",
    "ABM_colors[\"Biomass furnace\"] = ABM_colors[\"Wood or wood pellets furnace\"]\n",
    "ABM_colors[\"Biomass\"] = ABM_colors[\"Wood or wood pellets\"]\n",
    "abm_results.tail()\n",
    "\n"
   ]
  },
  {
   "cell_type": "code",
   "execution_count": 196,
   "metadata": {},
   "outputs": [
    {
     "name": "stdout",
     "output_type": "stream",
     "text": [
      "0 False BAU 3630\n",
      "1 False CER 3630\n",
      "2 False CER+ 3630\n",
      "3 False Rapid 3630\n",
      "4 False Rapid+ 3630\n",
      "5 True BAU 28\n",
      "6 True CER 28\n",
      "7 True CER+ 28\n",
      "8 True Rapid 28\n",
      "9 True Rapid+ 28\n"
     ]
    },
    {
     "data": {
      "image/png": "[encoded data removed]",
      "text/plain": [
       "<Figure size 1200x800 with 10 Axes>"
      ]
     },
     "metadata": {},
     "output_type": "display_data"
    }
   ],
   "source": [
    "import matplotlib.pyplot as plt\n",
    "plt.rcParams[\"text.usetex\"] = True\n",
    "plt.rcParams[\"font.family\"] = \"cm\"\n",
    "plt.rcParams[\"font.size\"] = \"18\"\n",
    "plt.rcParams['svg.fonttype'] = 'none'\n",
    "\n",
    "fuel_name_map = dict(zip(Fuels, [x.value for x in Fuels]))\n",
    "fuel_name_map[\"Biomass\"] = \"Biomass\"\n",
    "\n",
    "abm_fig, axs = plt.subplots(ncols=5, nrows=2,  sharex='all', sharey='row', figsize=(12,8))\n",
    "for i,(dem_scen, df) in enumerate(abm_results.groupby([\"is_demand\",\"scenario\"])):\n",
    "    print(i,dem_scen[0],dem_scen[1],len(df))\n",
    "    ax = axs.flat[i]\n",
    "    if not dem_scen[0]:\n",
    "        ax.title.set_text(f\"{dem_scen[1]}\")\n",
    "        show_legend = i==4\n",
    "        sns.lineplot(data=df, x=\"year\", y=\"value\", hue=\"variable\", palette=ABM_colors, ax=ax, legend=show_legend)\n",
    "        if show_legend:\n",
    "            ax.get_legend().set_title(\"Technologies\")\n",
    "    else:\n",
    "        show_legend = i==9\n",
    "        wide_df = df.pivot(columns=\"variable\", values=\"value\", index=\"year\")\n",
    "        wide_columns = wide_df.columns\n",
    "        column_vals = [wide_df[col].astype(float) for col in wide_columns]\n",
    "        ax.stackplot(wide_df.index, *column_vals, colors=[ABM_colors[col] for col in wide_columns], labels=[fuel_name_map[col] for col in wide_columns])\n",
    "        if show_legend:\n",
    "            ax.legend(loc=\"lower right\")\n",
    "            ax.get_legend().set_title(\"Fuel demands\")\n",
    "\n",
    "\n",
    "abm_fig.axes[0].set_ylabel(\"Technology Share (-)\")\n",
    "abm_fig.axes[5].set_ylabel(\"Fuel demand (TWh)\")\n",
    "abm_fig.axes[0].set_xticks(range(2020,2051,10))\n",
    "for ax in abm_fig.axes:\n",
    "    ax.set_xticklabels(range(2020,2051,10), rotation=-90)\n"
   ]
  },
  {
   "cell_type": "markdown",
   "metadata": {},
   "source": [
    "## ABM: Emissions and subsidies"
   ]
  },
  {
   "cell_type": "code",
   "execution_count": 197,
   "metadata": {},
   "outputs": [],
   "source": [
    "total_scenario_emissions = scenario_emissions.reset_index().groupby([\"index\",\"scenario\"]).sum().sum(axis=1).reset_index()\n",
    "total_scenario_emissions[\"cumulative\"] = total_scenario_emissions.groupby(\"scenario\").cumsum()[0]\n",
    "# px.line(total_scenario_emissions, x=\"index\", y=\"cumulative\", color=\"scenario\", template=\"plotly\")"
   ]
  },
  {
   "cell_type": "code",
   "execution_count": 198,
   "metadata": {},
   "outputs": [
    {
     "data": {
      "image/png": "[encoded data removed]",
      "text/plain": [
       "<Figure size 1200x800 with 15 Axes>"
      ]
     },
     "execution_count": 198,
     "metadata": {},
     "output_type": "execute_result"
    }
   ],
   "source": [
    "em_y_lim = total_scenario_emissions.cumulative.min()*0.8, total_scenario_emissions.cumulative.max()*1.2\n",
    "emission_color = \"black\"\n",
    "for i, (scen, df) in enumerate(total_scenario_emissions.groupby(\"scenario\")):\n",
    "    # print(scen, df)\n",
    "    t_ax = axs.flat[5+i].twinx()\n",
    "    t_ax.plot(df[\"index\"],df[\"cumulative\"], color=emission_color)\n",
    "    t_ax.set_ylim(*em_y_lim)\n",
    "    t_ax.spines[\"right\"].set_color(emission_color)\n",
    "    t_ax.tick_params(colors=emission_color, which='both')\n",
    "    last = i==4\n",
    "    if not last:\n",
    "        t_ax.set_yticklabels([])\n",
    "    else:\n",
    "        t_ax.set_ylabel(\"Emissions (Mt)\")\n",
    "abm_fig.savefig(\"abm_results.svg\")\n",
    "abm_fig"
   ]
  },
  {
   "cell_type": "code",
   "execution_count": 199,
   "metadata": {},
   "outputs": [
    {
     "data": {
      "application/vnd.plotly.v1+json": {
       "config": {
        "plotlyServerURL": "https://plot.ly"
       },
       "data": [
        {
         "hovertemplate": "scenario=BAU<br>variable=Cumulative subsidy amount (CAD)<br>year=%{x}<br>value=%{y}<extra></extra>",
         "legendgroup": "BAU",
         "line": {
          "color": "#636efa",
          "dash": "solid"
         },
         "marker": {
          "symbol": "circle"
         },
         "mode": "lines",
         "name": "BAU",
         "showlegend": true,
         "type": "scattergl",
         "x": [
          2020.25,
          2020.5,
          2020.75,
          2021,
          2021.25,
          2021.5,
          2021.75,
          2022,
          2022.25,
          2022.5,
          2022.75,
          2023,
          2023.25,
          2023.5,
          2023.75,
          2024,
          2024.25,
          2024.5,
          2024.75,
          2025,
          2025.25,
          2025.5,
          2025.75,
          2026,
          2026.25,
          2026.5,
          2026.75,
          2027,
          2027.25,
          2027.5,
          2027.75,
          2028,
          2028.25,
          2028.5,
          2028.75,
          2029,
          2029.25,
          2029.5,
          2029.75,
          2030,
          2030.25,
          2030.5,
          2030.75,
          2031,
          2031.25,
          2031.5,
          2031.75,
          2032,
          2032.25,
          2032.5,
          2032.75,
          2033,
          2033.25,
          2033.5,
          2033.75,
          2034,
          2034.25,
          2034.5,
          2034.75,
          2035,
          2035.25,
          2035.5,
          2035.75,
          2036,
          2036.25,
          2036.5,
          2036.75,
          2037,
          2037.25,
          2037.5,
          2037.75,
          2038,
          2038.25,
          2038.5,
          2038.75,
          2039,
          2039.25,
          2039.5,
          2039.75,
          2040,
          2040.25,
          2040.5,
          2040.75,
          2041,
          2041.25,
          2041.5,
          2041.75,
          2042,
          2042.25,
          2042.5,
          2042.75,
          2043,
          2043.25,
          2043.5,
          2043.75,
          2044,
          2044.25,
          2044.5,
          2044.75,
          2045,
          2045.25,
          2045.5,
          2045.75,
          2046,
          2046.25,
          2046.5,
          2046.75,
          2047,
          2047.25,
          2047.5,
          2047.75,
          2048,
          2048.25,
          2048.5,
          2048.75,
          2049,
          2049.5,
          2049.75,
          2050
         ],
         "xaxis": "x",
         "y": [
          0,
          0,
          0,
          0,
          0,
          0,
          0,
          0,
          0,
          0,
          0,
          0,
          0,
          0,
          0,
          0,
          0,
          0,
          0,
          0,
          0,
          0,
          0,
          0,
          0,
          0,
          0,
          0,
          0,
          0,
          0,
          0,
          0,
          0,
          0,
          0,
          0,
          0,
          0,
          0,
          0,
          0,
          0,
          0,
          0,
          0,
          0,
          0,
          0,
          0,
          0,
          0,
          0,
          0,
          0,
          0,
          0,
          0,
          0,
          0,
          0,
          0,
          0,
          0,
          0,
          0,
          0,
          0,
          0,
          0,
          0,
          0,
          0,
          0,
          0,
          0,
          0,
          0,
          0,
          0,
          0,
          0,
          0,
          0,
          0,
          0,
          0,
          0,
          0,
          0,
          0,
          0,
          0,
          0,
          0,
          0,
          0,
          0,
          0,
          0,
          0,
          0,
          0,
          0,
          0,
          0,
          0,
          0,
          0,
          0,
          0,
          0,
          0,
          0,
          0,
          0,
          0,
          0,
          0
         ],
         "yaxis": "y"
        },
        {
         "hovertemplate": "scenario=BAU<br>variable=hp specific cost<br>year=%{x}<br>value=%{y}<extra></extra>",
         "legendgroup": "BAU",
         "line": {
          "color": "#636efa",
          "dash": "solid"
         },
         "marker": {
          "symbol": "circle"
         },
         "mode": "lines",
         "name": "BAU",
         "showlegend": false,
         "type": "scattergl",
         "x": [
          2020.25,
          2020.5,
          2020.75,
          2021,
          2021.25,
          2021.5,
          2021.75,
          2022,
          2022.25,
          2022.5,
          2022.75,
          2023,
          2023.25,
          2023.5,
          2023.75,
          2024,
          2024.25,
          2024.5,
          2024.75,
          2025,
          2025.25,
          2025.5,
          2025.75,
          2026,
          2026.25,
          2026.5,
          2026.75,
          2027,
          2027.25,
          2027.5,
          2027.75,
          2028,
          2028.25,
          2028.5,
          2028.75,
          2029,
          2029.25,
          2029.5,
          2029.75,
          2030,
          2030.25,
          2030.5,
          2030.75,
          2031,
          2031.25,
          2031.5,
          2031.75,
          2032,
          2032.25,
          2032.5,
          2032.75,
          2033,
          2033.25,
          2033.5,
          2033.75,
          2034,
          2034.25,
          2034.5,
          2034.75,
          2035,
          2035.25,
          2035.5,
          2035.75,
          2036,
          2036.25,
          2036.5,
          2036.75,
          2037,
          2037.25,
          2037.5,
          2037.75,
          2038,
          2038.25,
          2038.5,
          2038.75,
          2039,
          2039.25,
          2039.5,
          2039.75,
          2040,
          2040.25,
          2040.5,
          2040.75,
          2041,
          2041.25,
          2041.5,
          2041.75,
          2042,
          2042.25,
          2042.5,
          2042.75,
          2043,
          2043.25,
          2043.5,
          2043.75,
          2044,
          2044.25,
          2044.5,
          2044.75,
          2045,
          2045.25,
          2045.5,
          2045.75,
          2046,
          2046.25,
          2046.5,
          2046.75,
          2047,
          2047.25,
          2047.5,
          2047.75,
          2048,
          2048.25,
          2048.5,
          2048.75,
          2049,
          2049.5,
          2049.75,
          2050
         ],
         "xaxis": "x",
         "y": [
          770.751,
          770.7509999999999,
          770.751,
          770.751,
          748.3389481605141,
          748.3389481605141,
          748.3389481605141,
          748.3389481605141,
          731.0646038855169,
          731.0646038855169,
          731.0646038855169,
          731.0646038855169,
          717.0696825447894,
          717.0696825447894,
          717.0696825447894,
          717.0696825447894,
          705.342736726591,
          705.342736726591,
          705.342736726591,
          705.342736726591,
          695.2738607632721,
          695.2738607632721,
          695.2738607632721,
          695.2738607632722,
          686.4677172784692,
          686.4677172784692,
          686.4677172784692,
          686.4677172784692,
          678.6538596880586,
          678.6538596880586,
          678.6538596880586,
          678.6538596880586,
          671.6393761588372,
          671.6393761588372,
          671.6393761588372,
          671.6393761588372,
          665.2819824463977,
          665.2819824463977,
          665.2819824463977,
          665.2819824463977,
          659.473824375,
          659.473824375,
          659.473824375,
          659.473824375,
          654.1312598362775,
          654.1312598362775,
          654.1312598362775,
          654.1312598362775,
          649.1881580468079,
          649.1881580468079,
          649.1881580468079,
          649.1881580468079,
          644.5913594516019,
          644.5913594516019,
          644.5913594516019,
          644.5913594516019,
          640.29751251984,
          640.29751251984,
          640.29751251984,
          640.29751251984,
          636.2708160290796,
          636.2708160290796,
          636.2708160290796,
          636.2708160290796,
          632.4813733073031,
          632.4813733073031,
          632.4813733073031,
          632.4813733073031,
          628.9039700658541,
          628.9039700658541,
          628.9039700658541,
          628.9039700658541,
          625.5171516995456,
          625.5171516995456,
          625.5171516995456,
          625.5171516995456,
          622.3025163223851,
          622.3025163223851,
          622.3025163223851,
          622.3025163223851,
          619.244165861026,
          619.244165861026,
          619.244165861026,
          619.244165861026,
          616.3282747215634,
          616.3282747215634,
          616.3282747215634,
          616.3282747215634,
          613.5427471273856,
          613.5427471273856,
          613.5427471273856,
          613.5427471273856,
          610.8769421742496,
          610.8769421742496,
          610.8769421742496,
          610.8769421742496,
          608.3214511965364,
          608.3214511965364,
          608.3214511965364,
          608.3214511965364,
          605.8679159710338,
          605.8679159710338,
          605.8679159710338,
          605.8679159710338,
          603.5088791116895,
          603.5088791116895,
          603.5088791116895,
          603.5088791116895,
          601.2376600678755,
          601.2376600678755,
          601.2376600678755,
          601.2376600678755,
          599.0482516565891,
          599.0482516565891,
          599.0482516565891,
          599.0482516565891,
          596.9352331904563,
          596.9352331904563,
          596.9352331904563
         ],
         "yaxis": "y"
        },
        {
         "hovertemplate": "scenario=CER<br>variable=Cumulative subsidy amount (CAD)<br>year=%{x}<br>value=%{y}<extra></extra>",
         "legendgroup": "CER",
         "line": {
          "color": "#EF553B",
          "dash": "solid"
         },
         "marker": {
          "symbol": "circle"
         },
         "mode": "lines",
         "name": "CER",
         "showlegend": true,
         "type": "scattergl",
         "x": [
          2020.25,
          2020.5,
          2020.75,
          2021,
          2021.25,
          2021.5,
          2021.75,
          2022,
          2022.25,
          2022.5,
          2022.75,
          2023.25,
          2023.5,
          2023.75,
          2024,
          2024.25,
          2024.5,
          2024.75,
          2025,
          2025.25,
          2025.5,
          2025.75,
          2026,
          2026.25,
          2026.5,
          2026.75,
          2027,
          2027.25,
          2027.5,
          2027.75,
          2028,
          2028.25,
          2028.5,
          2028.75,
          2029,
          2029.25,
          2029.5,
          2029.75,
          2030,
          2030.25,
          2030.5,
          2030.75,
          2031,
          2031.25,
          2031.5,
          2031.75,
          2032,
          2032.25,
          2032.5,
          2032.75,
          2033,
          2033.25,
          2033.5,
          2033.75,
          2034,
          2034.25,
          2034.5,
          2034.75,
          2035.25,
          2035.5,
          2035.75,
          2036,
          2036.25,
          2036.5,
          2036.75,
          2037,
          2037.25,
          2037.5,
          2037.75,
          2038,
          2038.25,
          2038.5,
          2038.75,
          2039,
          2039.25,
          2039.5,
          2039.75,
          2040,
          2040.25,
          2040.5,
          2040.75,
          2041,
          2041.25,
          2041.5,
          2041.75,
          2042,
          2042.25,
          2042.5,
          2042.75,
          2043,
          2043.25,
          2043.5,
          2043.75,
          2044,
          2044.25,
          2044.5,
          2044.75,
          2045,
          2045.25,
          2045.5,
          2045.75,
          2046,
          2046.25,
          2046.5,
          2046.75,
          2047,
          2047.25,
          2047.5,
          2047.75,
          2048,
          2048.25,
          2048.5,
          2048.75,
          2049,
          2049.5,
          2049.75,
          2050
         ],
         "xaxis": "x",
         "y": [
          24738759.000756532,
          42976513.87504554,
          41816235.388798326,
          67483613.96991849,
          74003524.55462475,
          44187973.19121696,
          58152302.96748905,
          89682686.30937357,
          95631231.50325105,
          82806361.50166704,
          88230098.371467,
          106342825.84291975,
          101980379.87801675,
          119621411.19605982,
          117876261.20512694,
          117026743.21562943,
          130495505.66691156,
          157223214.74056742,
          141698452.11130545,
          204083779.7097714,
          162355950.13285133,
          165464999.89809203,
          157188499.5780398,
          192720392.43224496,
          201313652.62220362,
          221427051.07506776,
          219404041.96122846,
          197177006.0048972,
          275631872.89992607,
          237327714.80371705,
          245613449.20562097,
          251749691.66993815,
          249269753.49854085,
          248618584.55677488,
          315322403.45467055,
          302794330.3346778,
          289274777.40141517,
          301572930.21671796,
          340213359.831729,
          330431500.4132836,
          333669788.52676094,
          437885303.3340762,
          341117629.3153101,
          342788245.9868662,
          430552138.1528623,
          364325879.71658736,
          360349083.3430472,
          397141811.73861814,
          434221615.9147205,
          387265860.111581,
          370665556.89111054,
          371632293.27841353,
          406849229.9042292,
          484066260.002411,
          413841944.0018837,
          444729327.34908825,
          384498149.4359854,
          414653564.18226516,
          392788508.54793227,
          411309264.7735289,
          478398987.72697425,
          423170311.12821484,
          457146815.0775206,
          498364200.3998685,
          503668070.60891396,
          539622869.3380606,
          487518903.0759595,
          530314063.158012,
          498505694.45617557,
          537235231.4317526,
          526497054.5470345,
          520793617.955287,
          561476574.7134323,
          554813988.4778807,
          561431939.0051618,
          557480113.6790565,
          538961174.8634343,
          576854989.3445419,
          580295491.5816286,
          600242548.7196157,
          596033080.4025084,
          587512880.9634906,
          635215282.5190037,
          643696695.4421889,
          600734755.1197082,
          676260985.5281087,
          656793065.7315723,
          631175082.3896129,
          617227059.7871375,
          629742480.7988112,
          675785156.7987616,
          654244574.8459444,
          637718983.0680542,
          659577642.1140338,
          685475845.8978757,
          675727235.2008805,
          674181532.9665625,
          697820585.3615301,
          753101038.1924845,
          697158782.5976715,
          710186422.2338109,
          626561292.0707964,
          711912083.4953573,
          734094576.9466257,
          724794019.6823944,
          785159655.3882748,
          721796119.3733668,
          672009333.8484302,
          734411152.5600603,
          759240884.9068153,
          747882028.7801697,
          716842294.3025317,
          706371579.844801,
          796606988.8011601,
          766254983.5701059,
          729763820.6858095,
          819731290.1705365
         ],
         "yaxis": "y"
        },
        {
         "hovertemplate": "scenario=CER<br>variable=hp specific cost<br>year=%{x}<br>value=%{y}<extra></extra>",
         "legendgroup": "CER",
         "line": {
          "color": "#EF553B",
          "dash": "solid"
         },
         "marker": {
          "symbol": "circle"
         },
         "mode": "lines",
         "name": "CER",
         "showlegend": false,
         "type": "scattergl",
         "x": [
          2020.25,
          2020.5,
          2020.75,
          2021,
          2021.25,
          2021.5,
          2021.75,
          2022,
          2022.25,
          2022.5,
          2022.75,
          2023.25,
          2023.5,
          2023.75,
          2024,
          2024.25,
          2024.5,
          2024.75,
          2025,
          2025.25,
          2025.5,
          2025.75,
          2026,
          2026.25,
          2026.5,
          2026.75,
          2027,
          2027.25,
          2027.5,
          2027.75,
          2028,
          2028.25,
          2028.5,
          2028.75,
          2029,
          2029.25,
          2029.5,
          2029.75,
          2030,
          2030.25,
          2030.5,
          2030.75,
          2031,
          2031.25,
          2031.5,
          2031.75,
          2032,
          2032.25,
          2032.5,
          2032.75,
          2033,
          2033.25,
          2033.5,
          2033.75,
          2034,
          2034.25,
          2034.5,
          2034.75,
          2035.25,
          2035.5,
          2035.75,
          2036,
          2036.25,
          2036.5,
          2036.75,
          2037,
          2037.25,
          2037.5,
          2037.75,
          2038,
          2038.25,
          2038.5,
          2038.75,
          2039,
          2039.25,
          2039.5,
          2039.75,
          2040,
          2040.25,
          2040.5,
          2040.75,
          2041,
          2041.25,
          2041.5,
          2041.75,
          2042,
          2042.25,
          2042.5,
          2042.75,
          2043,
          2043.25,
          2043.5,
          2043.75,
          2044,
          2044.25,
          2044.5,
          2044.75,
          2045,
          2045.25,
          2045.5,
          2045.75,
          2046,
          2046.25,
          2046.5,
          2046.75,
          2047,
          2047.25,
          2047.5,
          2047.75,
          2048,
          2048.25,
          2048.5,
          2048.75,
          2049,
          2049.5,
          2049.75,
          2050
         ],
         "xaxis": "x",
         "y": [
          770.751,
          770.7509999999999,
          770.751,
          770.751,
          748.3389481605141,
          748.3389481605141,
          748.3389481605141,
          748.3389481605141,
          731.0646038855169,
          731.0646038855169,
          731.0646038855169,
          717.0696825447894,
          717.0696825447894,
          717.0696825447894,
          717.0696825447894,
          705.342736726591,
          705.3427367265909,
          705.3427367265909,
          705.3427367265909,
          695.2738607632722,
          695.2738607632722,
          695.2738607632721,
          695.2738607632722,
          686.4677172784692,
          686.4677172784692,
          686.4677172784692,
          686.4677172784692,
          678.6538596880586,
          678.6538596880586,
          678.6538596880586,
          678.6538596880586,
          671.6393761588372,
          671.6393761588372,
          671.6393761588372,
          671.6393761588372,
          665.2819824463977,
          665.2819824463977,
          665.2819824463977,
          665.2819824463977,
          659.473824375,
          659.473824375,
          659.473824375,
          659.473824375,
          654.1312598362775,
          654.1312598362775,
          654.1312598362775,
          654.1312598362775,
          649.1881580468079,
          649.1881580468079,
          649.1881580468079,
          649.1881580468079,
          644.5913594516019,
          644.5913594516019,
          644.5913594516019,
          644.5913594516019,
          640.29751251984,
          640.29751251984,
          640.29751251984,
          636.2708160290796,
          636.2708160290796,
          636.2708160290796,
          636.2708160290796,
          632.4813733073031,
          632.4813733073031,
          632.4813733073031,
          632.4813733073031,
          628.9039700658541,
          628.9039700658541,
          628.9039700658541,
          628.9039700658541,
          625.5171516995456,
          625.5171516995456,
          625.5171516995456,
          625.5171516995456,
          622.3025163223851,
          622.3025163223851,
          622.3025163223851,
          622.3025163223851,
          619.244165861026,
          619.244165861026,
          619.244165861026,
          619.244165861026,
          616.3282747215634,
          616.3282747215634,
          616.3282747215634,
          616.3282747215634,
          613.5427471273856,
          613.5427471273856,
          613.5427471273856,
          613.5427471273856,
          610.8769421742496,
          610.8769421742496,
          610.8769421742496,
          610.8769421742496,
          608.3214511965364,
          608.3214511965364,
          608.3214511965364,
          608.3214511965364,
          605.8679159710338,
          605.8679159710338,
          605.8679159710338,
          605.8679159710338,
          603.5088791116895,
          603.5088791116895,
          603.5088791116895,
          603.5088791116895,
          601.2376600678755,
          601.2376600678755,
          601.2376600678755,
          601.2376600678755,
          599.0482516565891,
          599.0482516565891,
          599.0482516565891,
          599.0482516565891,
          596.9352331904563,
          596.9352331904563,
          596.9352331904563
         ],
         "yaxis": "y"
        },
        {
         "hovertemplate": "scenario=CER+<br>variable=Cumulative subsidy amount (CAD)<br>year=%{x}<br>value=%{y}<extra></extra>",
         "legendgroup": "CER+",
         "line": {
          "color": "#00cc96",
          "dash": "solid"
         },
         "marker": {
          "symbol": "circle"
         },
         "mode": "lines",
         "name": "CER+",
         "showlegend": true,
         "type": "scattergl",
         "x": [
          2020.25,
          2020.5,
          2020.75,
          2021,
          2021.25,
          2021.5,
          2021.75,
          2022,
          2022.25,
          2022.5,
          2022.75,
          2023.25,
          2023.5,
          2023.75,
          2024,
          2024.25,
          2024.5,
          2024.75,
          2025,
          2025.25,
          2025.5,
          2025.75,
          2026,
          2026.25,
          2026.5,
          2026.75,
          2027,
          2027.25,
          2027.5,
          2027.75,
          2028,
          2028.25,
          2028.5,
          2028.75,
          2029,
          2029.25,
          2029.5,
          2029.75,
          2030,
          2030.25,
          2030.5,
          2030.75,
          2031,
          2031.25,
          2031.5,
          2031.75,
          2032,
          2032.25,
          2032.5,
          2032.75,
          2033,
          2033.25,
          2033.5,
          2033.75,
          2034,
          2034.25,
          2034.5,
          2034.75,
          2035,
          2035.25,
          2035.5,
          2035.75,
          2036,
          2036.25,
          2036.5,
          2036.75,
          2037,
          2037.25,
          2037.5,
          2037.75,
          2038,
          2038.25,
          2038.5,
          2038.75,
          2039,
          2039.25,
          2039.5,
          2039.75,
          2040,
          2040.25,
          2040.5,
          2040.75,
          2041,
          2041.25,
          2041.5,
          2041.75,
          2042,
          2042.25,
          2042.5,
          2042.75,
          2043,
          2043.25,
          2043.5,
          2043.75,
          2044,
          2044.25,
          2044.5,
          2044.75,
          2045,
          2045.25,
          2045.5,
          2045.75,
          2046,
          2046.25,
          2046.5,
          2046.75,
          2047,
          2047.25,
          2047.5,
          2047.75,
          2048,
          2048.25,
          2048.5,
          2048.75,
          2049,
          2049.25,
          2049.5,
          2049.75,
          2050
         ],
         "xaxis": "x",
         "y": [
          24738759.000756532,
          42976513.87504554,
          43103158.09923604,
          67910312.1479522,
          74483560.00491267,
          45474895.90165467,
          58152302.96748905,
          90969609.01981127,
          96366615.90921545,
          84980116.93767387,
          87641291.96043047,
          106692725.52371877,
          100470923.64141607,
          119451111.49744152,
          114157549.37032753,
          117229148.14383517,
          130241765.09151864,
          155798952.89837348,
          143226224.69460312,
          200576379.04838458,
          158764729.0501585,
          164808569.4268553,
          157940670.45683023,
          190124236.28630346,
          199190827.4174542,
          214797917.55532813,
          214768460.3019386,
          194137639.52886885,
          266464568.5929841,
          233275699.2280139,
          243602755.99767122,
          242448855.6230479,
          247626818.6030634,
          247606154.49935973,
          299808011.90912926,
          297251424.78776985,
          281119044.9243282,
          294841255.0232024,
          328435879.7270165,
          324099999.61397886,
          314005585.2609488,
          362909212.3325807,
          339921878.8281265,
          370344204.2845947,
          349363382.6434182,
          370006241.8487914,
          400334820.2469633,
          415073685.90170693,
          431713634.87086403,
          422971750.5750654,
          387101161.7662246,
          497525301.00512856,
          413061846.5292811,
          472206784.7312158,
          441291693.65071774,
          469190742.0400881,
          388309365.84114534,
          431785511.1802108,
          509364883.89202845,
          407045864.30473596,
          435281651.70047724,
          496269780.9871874,
          438332486.48449075,
          463722533.2800127,
          506937527.59290063,
          505417360.9916352,
          546835455.670753,
          510661032.11733836,
          524646695.7186035,
          513311104.8734703,
          548441878.4020048,
          561221390.9878554,
          526468985.1368624,
          545530082.790081,
          558270197.2227097,
          536193462.7528198,
          580921390.1291388,
          557988190.6952615,
          594468864.0032063,
          560041990.3630139,
          590297718.936956,
          589029394.5292926,
          593370063.4520811,
          623527956.840153,
          636100897.1430668,
          607077666.2293167,
          619974372.3147534,
          653016747.9047072,
          635832024.4627806,
          596265994.3296293,
          616882010.2141253,
          644193118.0837852,
          648461428.3606628,
          622118524.3048234,
          656718868.7569749,
          666981716.4435298,
          665472958.8247652,
          684440403.3168677,
          700328923.5591011,
          719012291.1618612,
          696299982.4148101,
          711744901.3376244,
          659553087.2605138,
          675536922.9913577,
          703014885.3128092,
          726501364.4585019,
          761309245.1784123,
          700713536.1034541,
          686894574.6357259,
          730412840.4091951,
          721062879.8341489,
          721656911.1263008,
          717462520.2635183,
          717344801.3860509,
          745572949.1675935,
          741885361.6244856,
          738785783.3229228,
          718948276.0638542,
          764975112.0807884
         ],
         "yaxis": "y"
        },
        {
         "hovertemplate": "scenario=CER+<br>variable=hp specific cost<br>year=%{x}<br>value=%{y}<extra></extra>",
         "legendgroup": "CER+",
         "line": {
          "color": "#00cc96",
          "dash": "solid"
         },
         "marker": {
          "symbol": "circle"
         },
         "mode": "lines",
         "name": "CER+",
         "showlegend": false,
         "type": "scattergl",
         "x": [
          2020.25,
          2020.5,
          2020.75,
          2021,
          2021.25,
          2021.5,
          2021.75,
          2022,
          2022.25,
          2022.5,
          2022.75,
          2023.25,
          2023.5,
          2023.75,
          2024,
          2024.25,
          2024.5,
          2024.75,
          2025,
          2025.25,
          2025.5,
          2025.75,
          2026,
          2026.25,
          2026.5,
          2026.75,
          2027,
          2027.25,
          2027.5,
          2027.75,
          2028,
          2028.25,
          2028.5,
          2028.75,
          2029,
          2029.25,
          2029.5,
          2029.75,
          2030,
          2030.25,
          2030.5,
          2030.75,
          2031,
          2031.25,
          2031.5,
          2031.75,
          2032,
          2032.25,
          2032.5,
          2032.75,
          2033,
          2033.25,
          2033.5,
          2033.75,
          2034,
          2034.25,
          2034.5,
          2034.75,
          2035,
          2035.25,
          2035.5,
          2035.75,
          2036,
          2036.25,
          2036.5,
          2036.75,
          2037,
          2037.25,
          2037.5,
          2037.75,
          2038,
          2038.25,
          2038.5,
          2038.75,
          2039,
          2039.25,
          2039.5,
          2039.75,
          2040,
          2040.25,
          2040.5,
          2040.75,
          2041,
          2041.25,
          2041.5,
          2041.75,
          2042,
          2042.25,
          2042.5,
          2042.75,
          2043,
          2043.25,
          2043.5,
          2043.75,
          2044,
          2044.25,
          2044.5,
          2044.75,
          2045,
          2045.25,
          2045.5,
          2045.75,
          2046,
          2046.25,
          2046.5,
          2046.75,
          2047,
          2047.25,
          2047.5,
          2047.75,
          2048,
          2048.25,
          2048.5,
          2048.75,
          2049,
          2049.25,
          2049.5,
          2049.75,
          2050
         ],
         "xaxis": "x",
         "y": [
          770.751,
          770.7509999999999,
          770.751,
          770.751,
          748.3389481605141,
          748.3389481605141,
          748.3389481605141,
          748.3389481605141,
          731.0646038855169,
          731.0646038855169,
          731.0646038855169,
          717.0696825447894,
          717.0696825447894,
          717.0696825447894,
          717.0696825447894,
          705.342736726591,
          705.3427367265909,
          705.3427367265909,
          705.3427367265909,
          695.2738607632722,
          695.2738607632722,
          695.2738607632721,
          695.2738607632722,
          686.4677172784692,
          686.4677172784692,
          686.4677172784692,
          686.4677172784692,
          678.6538596880586,
          678.6538596880586,
          678.6538596880586,
          678.6538596880586,
          671.6393761588372,
          671.6393761588372,
          671.6393761588372,
          671.6393761588372,
          665.2819824463977,
          665.2819824463977,
          665.2819824463977,
          665.2819824463977,
          659.473824375,
          659.473824375,
          659.473824375,
          659.473824375,
          654.1312598362775,
          654.1312598362775,
          654.1312598362775,
          654.1312598362775,
          649.1881580468079,
          649.1881580468079,
          649.1881580468079,
          649.1881580468079,
          644.5913594516019,
          644.5913594516019,
          644.5913594516019,
          644.5913594516019,
          640.29751251984,
          640.29751251984,
          640.29751251984,
          640.29751251984,
          636.2708160290796,
          636.2708160290796,
          636.2708160290796,
          636.2708160290796,
          632.4813733073031,
          632.4813733073031,
          632.4813733073031,
          632.4813733073031,
          628.9039700658541,
          628.9039700658541,
          628.9039700658541,
          628.9039700658541,
          625.5171516995456,
          625.5171516995456,
          625.5171516995456,
          625.5171516995456,
          622.3025163223851,
          622.3025163223851,
          622.3025163223853,
          622.3025163223851,
          619.244165861026,
          619.244165861026,
          619.244165861026,
          619.244165861026,
          616.3282747215634,
          616.3282747215634,
          616.3282747215634,
          616.3282747215634,
          613.5427471273856,
          613.5427471273856,
          613.5427471273856,
          613.5427471273856,
          610.8769421742496,
          610.8769421742496,
          610.8769421742496,
          610.8769421742496,
          608.3214511965364,
          608.3214511965364,
          608.3214511965364,
          608.3214511965364,
          605.8679159710338,
          605.8679159710338,
          605.8679159710338,
          605.8679159710338,
          603.5088791116895,
          603.5088791116895,
          603.5088791116895,
          603.5088791116895,
          601.2376600678755,
          601.2376600678755,
          601.2376600678755,
          601.2376600678755,
          599.0482516565891,
          599.0482516565891,
          599.0482516565891,
          599.0482516565891,
          596.9352331904563,
          596.9352331904563,
          596.9352331904563,
          596.9352331904563
         ],
         "yaxis": "y"
        },
        {
         "hovertemplate": "scenario=Rapid<br>variable=Cumulative subsidy amount (CAD)<br>year=%{x}<br>value=%{y}<extra></extra>",
         "legendgroup": "Rapid",
         "line": {
          "color": "#ab63fa",
          "dash": "solid"
         },
         "marker": {
          "symbol": "circle"
         },
         "mode": "lines",
         "name": "Rapid",
         "showlegend": true,
         "type": "scattergl",
         "x": [
          2020.25,
          2020.5,
          2020.75,
          2021,
          2021.25,
          2021.5,
          2021.75,
          2022,
          2022.25,
          2022.5,
          2022.75,
          2023,
          2023.25,
          2023.5,
          2023.75,
          2024,
          2024.25,
          2024.5,
          2024.75,
          2025,
          2025.25,
          2025.5,
          2025.75,
          2026,
          2026.25,
          2026.5,
          2026.75,
          2027,
          2027.25,
          2027.5,
          2027.75,
          2028,
          2028.25,
          2028.5,
          2028.75,
          2029,
          2029.25,
          2029.5,
          2029.75,
          2030,
          2030.25,
          2030.5,
          2030.75,
          2031,
          2031.25,
          2031.5,
          2031.75,
          2032,
          2032.25,
          2032.5,
          2032.75,
          2033,
          2033.25,
          2033.5,
          2033.75,
          2034,
          2034.25,
          2034.5,
          2034.75,
          2035,
          2035.25,
          2035.5,
          2035.75,
          2036,
          2036.25,
          2036.5,
          2036.75,
          2037,
          2037.25,
          2037.5,
          2037.75,
          2038,
          2038.25,
          2038.5,
          2038.75,
          2039,
          2039.25,
          2039.5,
          2039.75,
          2040,
          2040.25,
          2040.5,
          2040.75,
          2041,
          2041.25,
          2041.5,
          2041.75,
          2042,
          2042.25,
          2042.5,
          2042.75,
          2043,
          2043.25,
          2043.5,
          2043.75,
          2044,
          2044.25,
          2044.5,
          2044.75,
          2045,
          2045.25,
          2045.5,
          2045.75,
          2046,
          2046.25,
          2046.5,
          2046.75,
          2047,
          2047.25,
          2047.5,
          2047.75,
          2048,
          2048.25,
          2048.5,
          2048.75,
          2049,
          2049.25,
          2049.5,
          2049.75,
          2050
         ],
         "xaxis": "x",
         "y": [
          24534610.152994227,
          62817618.05889263,
          48833156.991930634,
          43975192.66826879,
          71619856.44576028,
          98144810.17130546,
          125866257.31223951,
          133863951.62418436,
          156967111.88561672,
          174370968.00351906,
          174967919.27566054,
          221479296.09808207,
          251023978.74365118,
          294339047.19527715,
          314172459.4249189,
          358211038.33040005,
          391090275.484354,
          481288716.37334424,
          459723040.43678766,
          494052868.35005957,
          552669919.2309344,
          568539033.6870748,
          661011326.9116051,
          715725965.1458486,
          719419904.2887177,
          808522615.2754686,
          867976041.1300331,
          957952434.2314214,
          944023375.4900416,
          1031384658.7617503,
          1011591750.4958115,
          1107217697.1238656,
          1137265586.2848194,
          1263171743.133554,
          1326733245.43452,
          1275781114.6010823,
          1385730527.175913,
          1527068296.465147,
          1516288887.922816,
          1515097777.9731014,
          1619706569.2133462,
          1759388140.3894868,
          1762047710.28852,
          1825237888.9055016,
          1918553494.9717786,
          2028226624.1993456,
          1991612677.1226637,
          2119075110.3047714,
          2223223055.698418,
          2198045694.8570437,
          2324641022.6704574,
          2421296071.263345,
          2517227743.2416496,
          2621304331.515346,
          2692151594.8160605,
          2775465584.509028,
          2826711644.2216964,
          2903270999.761412,
          3014088380.393161,
          3082044310.882733,
          3215395759.6310267,
          3278686187.5379353,
          3307013717.7353706,
          3452704523.6126723,
          3500806346.6253276,
          3592840979.440323,
          3763000034.563296,
          3856804423.836961,
          3930532043.5218735,
          4056554000.9979043,
          4060267372.7786126,
          4165702537.0071306,
          4276439123.950332,
          4344208894.122599,
          4481972492.482052,
          4538497039.791662,
          4603309894.182861,
          4725922624.067132,
          4846971414.6025,
          4954045395.056962,
          4993129288.715313,
          5082019842.026453,
          5124108413.670839,
          5298050242.299153,
          5400559274.810235,
          5461490755.789089,
          5573978134.564937,
          5578516404.998995,
          5614860385.285602,
          5776093848.53065,
          5827583822.48518,
          5961293085.327321,
          6051147914.509339,
          6008689734.64778,
          6177366748.450464,
          6351646397.712552,
          6504657497.920047,
          6655077601.406864,
          6571060544.599903,
          6692019494.389241,
          6681624580.436688,
          6882975620.878148,
          6929464672.387421,
          7120988008.020713,
          7089951599.851653,
          7272749323.679913,
          7287722527.983101,
          7307309548.939241,
          7418230179.774676,
          7567845202.689973,
          7615245366.115752,
          7643571420.9763775,
          7646988823.8969145,
          7896999819.67199,
          7940783071.017667,
          8002259290.181509,
          8095597673.960109,
          8109719505.017728,
          8256762848.661264,
          8324501666.427192
         ],
         "yaxis": "y"
        },
        {
         "hovertemplate": "scenario=Rapid<br>variable=hp specific cost<br>year=%{x}<br>value=%{y}<extra></extra>",
         "legendgroup": "Rapid",
         "line": {
          "color": "#ab63fa",
          "dash": "solid"
         },
         "marker": {
          "symbol": "circle"
         },
         "mode": "lines",
         "name": "Rapid",
         "showlegend": false,
         "type": "scattergl",
         "x": [
          2020.25,
          2020.5,
          2020.75,
          2021,
          2021.25,
          2021.5,
          2021.75,
          2022,
          2022.25,
          2022.5,
          2022.75,
          2023,
          2023.25,
          2023.5,
          2023.75,
          2024,
          2024.25,
          2024.5,
          2024.75,
          2025,
          2025.25,
          2025.5,
          2025.75,
          2026,
          2026.25,
          2026.5,
          2026.75,
          2027,
          2027.25,
          2027.5,
          2027.75,
          2028,
          2028.25,
          2028.5,
          2028.75,
          2029,
          2029.25,
          2029.5,
          2029.75,
          2030,
          2030.25,
          2030.5,
          2030.75,
          2031,
          2031.25,
          2031.5,
          2031.75,
          2032,
          2032.25,
          2032.5,
          2032.75,
          2033,
          2033.25,
          2033.5,
          2033.75,
          2034,
          2034.25,
          2034.5,
          2034.75,
          2035,
          2035.25,
          2035.5,
          2035.75,
          2036,
          2036.25,
          2036.5,
          2036.75,
          2037,
          2037.25,
          2037.5,
          2037.75,
          2038,
          2038.25,
          2038.5,
          2038.75,
          2039,
          2039.25,
          2039.5,
          2039.75,
          2040,
          2040.25,
          2040.5,
          2040.75,
          2041,
          2041.25,
          2041.5,
          2041.75,
          2042,
          2042.25,
          2042.5,
          2042.75,
          2043,
          2043.25,
          2043.5,
          2043.75,
          2044,
          2044.25,
          2044.5,
          2044.75,
          2045,
          2045.25,
          2045.5,
          2045.75,
          2046,
          2046.25,
          2046.5,
          2046.75,
          2047,
          2047.25,
          2047.5,
          2047.75,
          2048,
          2048.25,
          2048.5,
          2048.75,
          2049,
          2049.25,
          2049.5,
          2049.75,
          2050
         ],
         "xaxis": "x",
         "y": [
          770.751,
          770.7509999999999,
          770.751,
          770.7509999999999,
          748.3389481605141,
          748.3389481605141,
          748.3389481605142,
          748.3389481605142,
          731.0646038855169,
          731.0646038855169,
          731.0646038855169,
          731.0646038855169,
          717.0696825447894,
          717.0696825447894,
          717.0696825447894,
          717.0696825447894,
          705.342736726591,
          705.342736726591,
          705.342736726591,
          705.342736726591,
          695.2738607632721,
          695.2738607632721,
          695.2738607632721,
          695.2738607632721,
          686.4677172784692,
          686.4677172784692,
          686.4677172784692,
          686.4677172784692,
          678.6538596880586,
          678.6538596880586,
          678.6538596880586,
          678.6538596880586,
          671.6393761588372,
          671.6393761588372,
          671.6393761588372,
          671.6393761588372,
          665.2819824463977,
          665.2819824463977,
          665.2819824463977,
          665.2819824463977,
          659.473824375,
          659.473824375,
          659.473824375,
          659.473824375,
          654.1312598362775,
          654.1312598362775,
          654.1312598362775,
          654.1312598362775,
          649.1881580468079,
          649.1881580468079,
          649.1881580468079,
          649.1881580468079,
          644.5913594516019,
          644.5913594516019,
          644.5913594516019,
          644.5913594516019,
          640.29751251984,
          640.29751251984,
          640.29751251984,
          640.29751251984,
          636.2708160290796,
          636.2708160290796,
          636.2708160290796,
          636.2708160290796,
          632.4813733073031,
          632.4813733073031,
          632.4813733073031,
          632.4813733073031,
          628.9039700658541,
          628.9039700658541,
          628.9039700658541,
          628.9039700658541,
          625.5171516995456,
          625.5171516995456,
          625.5171516995456,
          625.5171516995456,
          622.3025163223851,
          622.3025163223851,
          622.3025163223851,
          622.3025163223851,
          619.244165861026,
          619.244165861026,
          619.244165861026,
          619.244165861026,
          616.3282747215634,
          616.3282747215634,
          616.3282747215634,
          616.3282747215634,
          613.5427471273856,
          613.5427471273856,
          613.5427471273856,
          613.5427471273856,
          610.8769421742496,
          610.8769421742496,
          610.8769421742496,
          610.8769421742496,
          608.3214511965364,
          608.3214511965364,
          608.3214511965364,
          608.3214511965364,
          605.8679159710338,
          605.8679159710338,
          605.8679159710338,
          605.8679159710338,
          603.5088791116895,
          603.5088791116895,
          603.5088791116895,
          603.5088791116895,
          601.2376600678755,
          601.2376600678755,
          601.2376600678755,
          601.2376600678755,
          599.0482516565891,
          599.0482516565891,
          599.0482516565891,
          599.0482516565891,
          596.9352331904563,
          596.9352331904563,
          596.9352331904563,
          596.9352331904563
         ],
         "yaxis": "y"
        },
        {
         "hovertemplate": "scenario=Rapid+<br>variable=Cumulative subsidy amount (CAD)<br>year=%{x}<br>value=%{y}<extra></extra>",
         "legendgroup": "Rapid+",
         "line": {
          "color": "#FFA15A",
          "dash": "solid"
         },
         "marker": {
          "symbol": "circle"
         },
         "mode": "lines",
         "name": "Rapid+",
         "showlegend": true,
         "type": "scattergl",
         "x": [
          2020.25,
          2020.5,
          2020.75,
          2021,
          2021.25,
          2021.5,
          2021.75,
          2022,
          2022.25,
          2022.5,
          2022.75,
          2023,
          2023.25,
          2023.5,
          2023.75,
          2024,
          2024.25,
          2024.5,
          2024.75,
          2025,
          2025.25,
          2025.5,
          2025.75,
          2026,
          2026.25,
          2026.5,
          2026.75,
          2027,
          2027.25,
          2027.5,
          2027.75,
          2028,
          2028.25,
          2028.5,
          2028.75,
          2029,
          2029.25,
          2029.5,
          2029.75,
          2030,
          2030.25,
          2030.5,
          2030.75,
          2031,
          2031.25,
          2031.5,
          2031.75,
          2032,
          2032.25,
          2032.5,
          2032.75,
          2033,
          2033.25,
          2033.5,
          2033.75,
          2034,
          2034.25,
          2034.5,
          2034.75,
          2035,
          2035.25,
          2035.5,
          2035.75,
          2036,
          2036.25,
          2036.5,
          2036.75,
          2037,
          2037.25,
          2037.5,
          2037.75,
          2038,
          2038.25,
          2038.5,
          2038.75,
          2039,
          2039.25,
          2039.5,
          2039.75,
          2040,
          2040.25,
          2040.5,
          2040.75,
          2041,
          2041.25,
          2041.5,
          2041.75,
          2042,
          2042.25,
          2042.5,
          2042.75,
          2043,
          2043.25,
          2043.5,
          2043.75,
          2044,
          2044.25,
          2044.5,
          2044.75,
          2045,
          2045.25,
          2045.5,
          2045.75,
          2046,
          2046.25,
          2046.5,
          2046.75,
          2047,
          2047.25,
          2047.5,
          2047.75,
          2048,
          2048.25,
          2048.5,
          2048.75,
          2049,
          2049.25,
          2049.5,
          2049.75,
          2050
         ],
         "xaxis": "x",
         "y": [
          24534610.152994227,
          62817618.05889263,
          44051806.43392086,
          39924242.745284386,
          70803061.04371014,
          100009250.0721341,
          132739328.094012,
          136007845.30260235,
          152171948.73019764,
          178091628.336381,
          172384982.94956905,
          224045373.61320403,
          246968344.30391446,
          296657892.1830146,
          312562671.12981266,
          355248315.9828417,
          400039545.78124136,
          478361412.8842985,
          445169984.7574457,
          492697572.89604163,
          544917189.4447895,
          566918689.5082748,
          644677839.7257302,
          695573075.2892687,
          722621944.0827456,
          843720960.3921232,
          974466181.4065388,
          1066321348.3265191,
          1142201544.5798109,
          1236013663.6320708,
          1345817524.151476,
          1473134753.2777543,
          1560543189.7594564,
          1661527102.7255592,
          1845175854.6557584,
          1828511897.3028412,
          1992037102.347683,
          2077129439.4489152,
          2193080198.0474257,
          2329218242.0022798,
          2380133432.74847,
          2481602373.732181,
          2601422640.7590957,
          2627207896.12716,
          2823595823.238822,
          2908879355.8919744,
          2943109568.736224,
          3036670324.8526263,
          3139447128.437397,
          3279024090.3982005,
          3409443634.539805,
          3481529190.2231946,
          3544743909.4165626,
          3624936408.5897107,
          3776431547.320977,
          3841330733.366661,
          3955184840.5865164,
          3905615364.5106726,
          4057853571.495734,
          4160111960.036388,
          4359461174.923816,
          4375250162.571648,
          4463916972.503183,
          4533666710.427629,
          4636523117.047455,
          4673499186.904443,
          4923539125.338582,
          4923989371.216568,
          5074176812.158896,
          5144247978.460988,
          5192923792.253412,
          5352251540.479775,
          5480044845.159828,
          5525535980.598507,
          5616040782.626823,
          5692984804.267073,
          5789159454.561428,
          5909862849.107657,
          5973294649.579,
          6163837738.410007,
          6174425316.259461,
          6212310959.243128,
          6240627460.522595,
          6525808700.355765,
          6593143198.268455,
          6686415725.6248455,
          6671971469.803992,
          6757484153.451502,
          6773567546.469122,
          6908720625.480803,
          6931621350.113884,
          7082364269.646121,
          7158706579.633337,
          7202035612.63474,
          7333985040.940892,
          7560955439.50903,
          7683200237.405167,
          7753407470.360582,
          7766596689.246784,
          7929951110.66171,
          7887511974.8835335,
          8079897596.938877,
          8091814961.600699,
          8311607211.636914,
          8298823310.699494,
          8432008640.084425,
          8443192457.407581,
          8548982720.159476,
          8508150716.997054,
          8734315874.63176,
          8814039080.436773,
          8833508062.296818,
          8819884411.397984,
          9158648958.337738,
          9194745644.240583,
          9240121035.980404,
          9348832042.798494,
          9290677552.532692,
          9432858584.075014,
          9568752574.430658
         ],
         "yaxis": "y"
        },
        {
         "hovertemplate": "scenario=Rapid+<br>variable=hp specific cost<br>year=%{x}<br>value=%{y}<extra></extra>",
         "legendgroup": "Rapid+",
         "line": {
          "color": "#FFA15A",
          "dash": "solid"
         },
         "marker": {
          "symbol": "circle"
         },
         "mode": "lines",
         "name": "Rapid+",
         "showlegend": false,
         "type": "scattergl",
         "x": [
          2020.25,
          2020.5,
          2020.75,
          2021,
          2021.25,
          2021.5,
          2021.75,
          2022,
          2022.25,
          2022.5,
          2022.75,
          2023,
          2023.25,
          2023.5,
          2023.75,
          2024,
          2024.25,
          2024.5,
          2024.75,
          2025,
          2025.25,
          2025.5,
          2025.75,
          2026,
          2026.25,
          2026.5,
          2026.75,
          2027,
          2027.25,
          2027.5,
          2027.75,
          2028,
          2028.25,
          2028.5,
          2028.75,
          2029,
          2029.25,
          2029.5,
          2029.75,
          2030,
          2030.25,
          2030.5,
          2030.75,
          2031,
          2031.25,
          2031.5,
          2031.75,
          2032,
          2032.25,
          2032.5,
          2032.75,
          2033,
          2033.25,
          2033.5,
          2033.75,
          2034,
          2034.25,
          2034.5,
          2034.75,
          2035,
          2035.25,
          2035.5,
          2035.75,
          2036,
          2036.25,
          2036.5,
          2036.75,
          2037,
          2037.25,
          2037.5,
          2037.75,
          2038,
          2038.25,
          2038.5,
          2038.75,
          2039,
          2039.25,
          2039.5,
          2039.75,
          2040,
          2040.25,
          2040.5,
          2040.75,
          2041,
          2041.25,
          2041.5,
          2041.75,
          2042,
          2042.25,
          2042.5,
          2042.75,
          2043,
          2043.25,
          2043.5,
          2043.75,
          2044,
          2044.25,
          2044.5,
          2044.75,
          2045,
          2045.25,
          2045.5,
          2045.75,
          2046,
          2046.25,
          2046.5,
          2046.75,
          2047,
          2047.25,
          2047.5,
          2047.75,
          2048,
          2048.25,
          2048.5,
          2048.75,
          2049,
          2049.25,
          2049.5,
          2049.75,
          2050
         ],
         "xaxis": "x",
         "y": [
          770.751,
          770.7509999999999,
          770.751,
          770.7509999999999,
          748.3389481605141,
          748.3389481605141,
          748.3389481605142,
          748.3389481605142,
          731.0646038855169,
          731.0646038855169,
          731.0646038855169,
          731.0646038855169,
          717.0696825447894,
          717.0696825447894,
          717.0696825447894,
          717.0696825447894,
          705.342736726591,
          705.342736726591,
          705.342736726591,
          705.342736726591,
          695.2738607632721,
          695.2738607632721,
          695.2738607632721,
          695.2738607632721,
          686.4677172784692,
          686.4677172784692,
          686.4677172784692,
          686.4677172784692,
          678.6538596880586,
          678.6538596880586,
          678.6538596880586,
          678.6538596880586,
          671.6393761588372,
          671.6393761588372,
          671.6393761588372,
          671.6393761588372,
          665.2819824463977,
          665.2819824463977,
          665.2819824463977,
          665.2819824463977,
          659.473824375,
          659.473824375,
          659.473824375,
          659.473824375,
          654.1312598362775,
          654.1312598362775,
          654.1312598362775,
          654.1312598362775,
          649.1881580468079,
          649.1881580468079,
          649.1881580468079,
          649.1881580468079,
          644.5913594516019,
          644.5913594516019,
          644.5913594516019,
          644.5913594516019,
          640.29751251984,
          640.29751251984,
          640.29751251984,
          640.29751251984,
          636.2708160290796,
          636.2708160290796,
          636.2708160290796,
          636.2708160290796,
          632.4813733073031,
          632.4813733073031,
          632.4813733073031,
          632.4813733073031,
          628.9039700658541,
          628.9039700658541,
          628.9039700658541,
          628.9039700658541,
          625.5171516995456,
          625.5171516995456,
          625.5171516995456,
          625.5171516995456,
          622.3025163223851,
          622.3025163223851,
          622.3025163223851,
          622.3025163223851,
          619.244165861026,
          619.244165861026,
          619.244165861026,
          619.244165861026,
          616.3282747215634,
          616.3282747215634,
          616.3282747215634,
          616.3282747215634,
          613.5427471273856,
          613.5427471273856,
          613.5427471273857,
          613.5427471273856,
          610.8769421742496,
          610.8769421742496,
          610.8769421742496,
          610.8769421742496,
          608.3214511965364,
          608.3214511965364,
          608.3214511965364,
          608.3214511965364,
          605.8679159710338,
          605.8679159710338,
          605.8679159710338,
          605.8679159710338,
          603.5088791116895,
          603.5088791116895,
          603.5088791116895,
          603.5088791116895,
          601.2376600678755,
          601.2376600678755,
          601.2376600678755,
          601.2376600678755,
          599.0482516565891,
          599.0482516565891,
          599.0482516565891,
          599.0482516565891,
          596.9352331904563,
          596.9352331904563,
          596.9352331904563,
          596.9352331904563
         ],
         "yaxis": "y"
        }
       ],
       "layout": {
        "legend": {
         "title": {
          "text": "scenario"
         },
         "tracegroupgap": 0
        },
        "margin": {
         "t": 60
        },
        "template": {
         "data": {
          "bar": [
           {
            "error_x": {
             "color": "#2a3f5f"
            },
            "error_y": {
             "color": "#2a3f5f"
            },
            "marker": {
             "line": {
              "color": "#E5ECF6",
              "width": 0.5
             },
             "pattern": {
              "fillmode": "overlay",
              "size": 10,
              "solidity": 0.2
             }
            },
            "type": "bar"
           }
          ],
          "barpolar": [
           {
            "marker": {
             "line": {
              "color": "#E5ECF6",
              "width": 0.5
             },
             "pattern": {
              "fillmode": "overlay",
              "size": 10,
              "solidity": 0.2
             }
            },
            "type": "barpolar"
           }
          ],
          "carpet": [
           {
            "aaxis": {
             "endlinecolor": "#2a3f5f",
             "gridcolor": "white",
             "linecolor": "white",
             "minorgridcolor": "white",
             "startlinecolor": "#2a3f5f"
            },
            "baxis": {
             "endlinecolor": "#2a3f5f",
             "gridcolor": "white",
             "linecolor": "white",
             "minorgridcolor": "white",
             "startlinecolor": "#2a3f5f"
            },
            "type": "carpet"
           }
          ],
          "choropleth": [
           {
            "colorbar": {
             "outlinewidth": 0,
             "ticks": ""
            },
            "type": "choropleth"
           }
          ],
          "contour": [
           {
            "colorbar": {
             "outlinewidth": 0,
             "ticks": ""
            },
            "colorscale": [
             [
              0,
              "#0d0887"
             ],
             [
              0.1111111111111111,
              "#46039f"
             ],
             [
              0.2222222222222222,
              "#7201a8"
             ],
             [
              0.3333333333333333,
              "#9c179e"
             ],
             [
              0.4444444444444444,
              "#bd3786"
             ],
             [
              0.5555555555555556,
              "#d8576b"
             ],
             [
              0.6666666666666666,
              "#ed7953"
             ],
             [
              0.7777777777777778,
              "#fb9f3a"
             ],
             [
              0.8888888888888888,
              "#fdca26"
             ],
             [
              1,
              "#f0f921"
             ]
            ],
            "type": "contour"
           }
          ],
          "contourcarpet": [
           {
            "colorbar": {
             "outlinewidth": 0,
             "ticks": ""
            },
            "type": "contourcarpet"
           }
          ],
          "heatmap": [
           {
            "colorbar": {
             "outlinewidth": 0,
             "ticks": ""
            },
            "colorscale": [
             [
              0,
              "#0d0887"
             ],
             [
              0.1111111111111111,
              "#46039f"
             ],
             [
              0.2222222222222222,
              "#7201a8"
             ],
             [
              0.3333333333333333,
              "#9c179e"
             ],
             [
              0.4444444444444444,
              "#bd3786"
             ],
             [
              0.5555555555555556,
              "#d8576b"
             ],
             [
              0.6666666666666666,
              "#ed7953"
             ],
             [
              0.7777777777777778,
              "#fb9f3a"
             ],
             [
              0.8888888888888888,
              "#fdca26"
             ],
             [
              1,
              "#f0f921"
             ]
            ],
            "type": "heatmap"
           }
          ],
          "heatmapgl": [
           {
            "colorbar": {
             "outlinewidth": 0,
             "ticks": ""
            },
            "colorscale": [
             [
              0,
              "#0d0887"
             ],
             [
              0.1111111111111111,
              "#46039f"
             ],
             [
              0.2222222222222222,
              "#7201a8"
             ],
             [
              0.3333333333333333,
              "#9c179e"
             ],
             [
              0.4444444444444444,
              "#bd3786"
             ],
             [
              0.5555555555555556,
              "#d8576b"
             ],
             [
              0.6666666666666666,
              "#ed7953"
             ],
             [
              0.7777777777777778,
              "#fb9f3a"
             ],
             [
              0.8888888888888888,
              "#fdca26"
             ],
             [
              1,
              "#f0f921"
             ]
            ],
            "type": "heatmapgl"
           }
          ],
          "histogram": [
           {
            "marker": {
             "pattern": {
              "fillmode": "overlay",
              "size": 10,
              "solidity": 0.2
             }
            },
            "type": "histogram"
           }
          ],
          "histogram2d": [
           {
            "colorbar": {
             "outlinewidth": 0,
             "ticks": ""
            },
            "colorscale": [
             [
              0,
              "#0d0887"
             ],
             [
              0.1111111111111111,
              "#46039f"
             ],
             [
              0.2222222222222222,
              "#7201a8"
             ],
             [
              0.3333333333333333,
              "#9c179e"
             ],
             [
              0.4444444444444444,
              "#bd3786"
             ],
             [
              0.5555555555555556,
              "#d8576b"
             ],
             [
              0.6666666666666666,
              "#ed7953"
             ],
             [
              0.7777777777777778,
              "#fb9f3a"
             ],
             [
              0.8888888888888888,
              "#fdca26"
             ],
             [
              1,
              "#f0f921"
             ]
            ],
            "type": "histogram2d"
           }
          ],
          "histogram2dcontour": [
           {
            "colorbar": {
             "outlinewidth": 0,
             "ticks": ""
            },
            "colorscale": [
             [
              0,
              "#0d0887"
             ],
             [
              0.1111111111111111,
              "#46039f"
             ],
             [
              0.2222222222222222,
              "#7201a8"
             ],
             [
              0.3333333333333333,
              "#9c179e"
             ],
             [
              0.4444444444444444,
              "#bd3786"
             ],
             [
              0.5555555555555556,
              "#d8576b"
             ],
             [
              0.6666666666666666,
              "#ed7953"
             ],
             [
              0.7777777777777778,
              "#fb9f3a"
             ],
             [
              0.8888888888888888,
              "#fdca26"
             ],
             [
              1,
              "#f0f921"
             ]
            ],
            "type": "histogram2dcontour"
           }
          ],
          "mesh3d": [
           {
            "colorbar": {
             "outlinewidth": 0,
             "ticks": ""
            },
            "type": "mesh3d"
           }
          ],
          "parcoords": [
           {
            "line": {
             "colorbar": {
              "outlinewidth": 0,
              "ticks": ""
             }
            },
            "type": "parcoords"
           }
          ],
          "pie": [
           {
            "automargin": true,
            "type": "pie"
           }
          ],
          "scatter": [
           {
            "fillpattern": {
             "fillmode": "overlay",
             "size": 10,
             "solidity": 0.2
            },
            "type": "scatter"
           }
          ],
          "scatter3d": [
           {
            "line": {
             "colorbar": {
              "outlinewidth": 0,
              "ticks": ""
             }
            },
            "marker": {
             "colorbar": {
              "outlinewidth": 0,
              "ticks": ""
             }
            },
            "type": "scatter3d"
           }
          ],
          "scattercarpet": [
           {
            "marker": {
             "colorbar": {
              "outlinewidth": 0,
              "ticks": ""
             }
            },
            "type": "scattercarpet"
           }
          ],
          "scattergeo": [
           {
            "marker": {
             "colorbar": {
              "outlinewidth": 0,
              "ticks": ""
             }
            },
            "type": "scattergeo"
           }
          ],
          "scattergl": [
           {
            "marker": {
             "colorbar": {
              "outlinewidth": 0,
              "ticks": ""
             }
            },
            "type": "scattergl"
           }
          ],
          "scattermapbox": [
           {
            "marker": {
             "colorbar": {
              "outlinewidth": 0,
              "ticks": ""
             }
            },
            "type": "scattermapbox"
           }
          ],
          "scatterpolar": [
           {
            "marker": {
             "colorbar": {
              "outlinewidth": 0,
              "ticks": ""
             }
            },
            "type": "scatterpolar"
           }
          ],
          "scatterpolargl": [
           {
            "marker": {
             "colorbar": {
              "outlinewidth": 0,
              "ticks": ""
             }
            },
            "type": "scatterpolargl"
           }
          ],
          "scatterternary": [
           {
            "marker": {
             "colorbar": {
              "outlinewidth": 0,
              "ticks": ""
             }
            },
            "type": "scatterternary"
           }
          ],
          "surface": [
           {
            "colorbar": {
             "outlinewidth": 0,
             "ticks": ""
            },
            "colorscale": [
             [
              0,
              "#0d0887"
             ],
             [
              0.1111111111111111,
              "#46039f"
             ],
             [
              0.2222222222222222,
              "#7201a8"
             ],
             [
              0.3333333333333333,
              "#9c179e"
             ],
             [
              0.4444444444444444,
              "#bd3786"
             ],
             [
              0.5555555555555556,
              "#d8576b"
             ],
             [
              0.6666666666666666,
              "#ed7953"
             ],
             [
              0.7777777777777778,
              "#fb9f3a"
             ],
             [
              0.8888888888888888,
              "#fdca26"
             ],
             [
              1,
              "#f0f921"
             ]
            ],
            "type": "surface"
           }
          ],
          "table": [
           {
            "cells": {
             "fill": {
              "color": "#EBF0F8"
             },
             "line": {
              "color": "white"
             }
            },
            "header": {
             "fill": {
              "color": "#C8D4E3"
             },
             "line": {
              "color": "white"
             }
            },
            "type": "table"
           }
          ]
         },
         "layout": {
          "annotationdefaults": {
           "arrowcolor": "#2a3f5f",
           "arrowhead": 0,
           "arrowwidth": 1
          },
          "autotypenumbers": "strict",
          "coloraxis": {
           "colorbar": {
            "outlinewidth": 0,
            "ticks": ""
           }
          },
          "colorscale": {
           "diverging": [
            [
             0,
             "#8e0152"
            ],
            [
             0.1,
             "#c51b7d"
            ],
            [
             0.2,
             "#de77ae"
            ],
            [
             0.3,
             "#f1b6da"
            ],
            [
             0.4,
             "#fde0ef"
            ],
            [
             0.5,
             "#f7f7f7"
            ],
            [
             0.6,
             "#e6f5d0"
            ],
            [
             0.7,
             "#b8e186"
            ],
            [
             0.8,
             "#7fbc41"
            ],
            [
             0.9,
             "#4d9221"
            ],
            [
             1,
             "#276419"
            ]
           ],
           "sequential": [
            [
             0,
             "#0d0887"
            ],
            [
             0.1111111111111111,
             "#46039f"
            ],
            [
             0.2222222222222222,
             "#7201a8"
            ],
            [
             0.3333333333333333,
             "#9c179e"
            ],
            [
             0.4444444444444444,
             "#bd3786"
            ],
            [
             0.5555555555555556,
             "#d8576b"
            ],
            [
             0.6666666666666666,
             "#ed7953"
            ],
            [
             0.7777777777777778,
             "#fb9f3a"
            ],
            [
             0.8888888888888888,
             "#fdca26"
            ],
            [
             1,
             "#f0f921"
            ]
           ],
           "sequentialminus": [
            [
             0,
             "#0d0887"
            ],
            [
             0.1111111111111111,
             "#46039f"
            ],
            [
             0.2222222222222222,
             "#7201a8"
            ],
            [
             0.3333333333333333,
             "#9c179e"
            ],
            [
             0.4444444444444444,
             "#bd3786"
            ],
            [
             0.5555555555555556,
             "#d8576b"
            ],
            [
             0.6666666666666666,
             "#ed7953"
            ],
            [
             0.7777777777777778,
             "#fb9f3a"
            ],
            [
             0.8888888888888888,
             "#fdca26"
            ],
            [
             1,
             "#f0f921"
            ]
           ]
          },
          "colorway": [
           "#636efa",
           "#EF553B",
           "#00cc96",
           "#ab63fa",
           "#FFA15A",
           "#19d3f3",
           "#FF6692",
           "#B6E880",
           "#FF97FF",
           "#FECB52"
          ],
          "font": {
           "color": "#2a3f5f"
          },
          "geo": {
           "bgcolor": "white",
           "lakecolor": "white",
           "landcolor": "#E5ECF6",
           "showlakes": true,
           "showland": true,
           "subunitcolor": "white"
          },
          "hoverlabel": {
           "align": "left"
          },
          "hovermode": "closest",
          "mapbox": {
           "style": "light"
          },
          "paper_bgcolor": "white",
          "plot_bgcolor": "#E5ECF6",
          "polar": {
           "angularaxis": {
            "gridcolor": "white",
            "linecolor": "white",
            "ticks": ""
           },
           "bgcolor": "#E5ECF6",
           "radialaxis": {
            "gridcolor": "white",
            "linecolor": "white",
            "ticks": ""
           }
          },
          "scene": {
           "xaxis": {
            "backgroundcolor": "#E5ECF6",
            "gridcolor": "white",
            "gridwidth": 2,
            "linecolor": "white",
            "showbackground": true,
            "ticks": "",
            "zerolinecolor": "white"
           },
           "yaxis": {
            "backgroundcolor": "#E5ECF6",
            "gridcolor": "white",
            "gridwidth": 2,
            "linecolor": "white",
            "showbackground": true,
            "ticks": "",
            "zerolinecolor": "white"
           },
           "zaxis": {
            "backgroundcolor": "#E5ECF6",
            "gridcolor": "white",
            "gridwidth": 2,
            "linecolor": "white",
            "showbackground": true,
            "ticks": "",
            "zerolinecolor": "white"
           }
          },
          "shapedefaults": {
           "line": {
            "color": "#2a3f5f"
           }
          },
          "ternary": {
           "aaxis": {
            "gridcolor": "white",
            "linecolor": "white",
            "ticks": ""
           },
           "baxis": {
            "gridcolor": "white",
            "linecolor": "white",
            "ticks": ""
           },
           "bgcolor": "#E5ECF6",
           "caxis": {
            "gridcolor": "white",
            "linecolor": "white",
            "ticks": ""
           }
          },
          "title": {
           "x": 0.05
          },
          "xaxis": {
           "automargin": true,
           "gridcolor": "white",
           "linecolor": "white",
           "ticks": "",
           "title": {
            "standoff": 15
           },
           "zerolinecolor": "white",
           "zerolinewidth": 2
          },
          "yaxis": {
           "automargin": true,
           "gridcolor": "white",
           "linecolor": "white",
           "ticks": "",
           "title": {
            "standoff": 15
           },
           "zerolinecolor": "white",
           "zerolinewidth": 2
          }
         }
        },
        "width": 600,
        "xaxis": {
         "anchor": "y",
         "domain": [
          0,
          1
         ],
         "title": {
          "text": "year"
         }
        },
        "yaxis": {
         "anchor": "x",
         "domain": [
          0,
          1
         ],
         "title": {
          "text": "value"
         }
        }
       }
      }
     },
     "metadata": {},
     "output_type": "display_data"
    }
   ],
   "source": [
    "import plotly.express as px\n",
    "subsidies_plot_df = scenario_subsidies.groupby([\"year\",\"scenario\"])[[\"hp specific cost\", \"Cumulative subsidy amount (CAD)\"]].mean()\n",
    "px.line(subsidies_plot_df.reset_index(), x=\"year\", y=[\"Cumulative subsidy amount (CAD)\",\"hp specific cost\"], color=\"scenario\", template=\"plotly\", width=600)"
   ]
  },
  {
   "cell_type": "code",
   "execution_count": 200,
   "metadata": {},
   "outputs": [],
   "source": [
    "scenario_spendings[\"tech\"] = scenario_spendings[\"tech\"].str.replace(\"Wood or wood pellets\", \"Biomass\")\n"
   ]
  },
  {
   "cell_type": "code",
   "execution_count": 201,
   "metadata": {},
   "outputs": [],
   "source": [
    "scenario_spendings.reset_index(inplace=True, drop=True)"
   ]
  },
  {
   "cell_type": "code",
   "execution_count": 202,
   "metadata": {},
   "outputs": [
    {
     "name": "stderr",
     "output_type": "stream",
     "text": [
      "C:\\Users\\dhuck\\AppData\\Local\\Temp\\ipykernel_4984\\1751629247.py:13: SettingWithCopyWarning:\n",
      "\n",
      "\n",
      "A value is trying to be set on a copy of a slice from a DataFrame.\n",
      "Try using .loc[row_indexer,col_indexer] = value instead\n",
      "\n",
      "See the caveats in the documentation: https://pandas.pydata.org/pandas-docs/stable/user_guide/indexing.html#returning-a-view-versus-a-copy\n",
      "\n",
      "C:\\Users\\dhuck\\AppData\\Local\\Temp\\ipykernel_4984\\1751629247.py:14: SettingWithCopyWarning:\n",
      "\n",
      "\n",
      "A value is trying to be set on a copy of a slice from a DataFrame.\n",
      "Try using .loc[row_indexer,col_indexer] = value instead\n",
      "\n",
      "See the caveats in the documentation: https://pandas.pydata.org/pandas-docs/stable/user_guide/indexing.html#returning-a-view-versus-a-copy\n",
      "\n"
     ]
    }
   ],
   "source": [
    "def subs_fac(name):\n",
    "    if \"CER\" in name:\n",
    "        return 0.15\n",
    "    elif \"Rapid\" in name:\n",
    "        return 0.3\n",
    "    else:\n",
    "        return 0\n",
    "\n",
    "\n",
    "subsidies = scenario_spendings.query(\"tech=='Heat pump' and scenario!='BAU'\")\n",
    "subsidies_amount = subsidies[\"Purchase cost\"] * subsidies[\"scenario\"].apply(subs_fac)\n",
    "scenario_spendings.loc[subsidies_amount.index,\"Purchase cost\"] -= subsidies_amount\n",
    "subsidies[\"Purchase cost\"] = subsidies_amount.values\n",
    "subsidies[\"tech\"] = \"Subsidies\"\n",
    "scenario_spendings = pd.concat([scenario_spendings, subsidies])"
   ]
  },
  {
   "cell_type": "code",
   "execution_count": 247,
   "metadata": {},
   "outputs": [
    {
     "data": {
      "application/vnd.plotly.v1+json": {
       "config": {
        "plotlyServerURL": "https://plot.ly"
       },
       "data": [
        {
         "alignmentgroup": "True",
         "hovertemplate": "tech=Electric furnace<br>scenario=%{x}<br>Purchase cost=%{y}<extra></extra>",
         "legendgroup": "Electric furnace",
         "marker": {
          "color": "#f2a300",
          "pattern": {
           "shape": ""
          }
         },
         "name": "Electric furnace",
         "offsetgroup": "Electric furnace",
         "orientation": "v",
         "showlegend": true,
         "textposition": "auto",
         "type": "bar",
         "x": [
          "BAU",
          "CER",
          "CER+",
          "Rapid",
          "Rapid+"
         ],
         "xaxis": "x",
         "y": [
          2964948109.6298404,
          2774174839.91179,
          3259033716.867922,
          256870654.880982,
          274274819.2465378
         ],
         "yaxis": "y"
        },
        {
         "alignmentgroup": "True",
         "hovertemplate": "tech=Gas furnace<br>scenario=%{x}<br>Purchase cost=%{y}<extra></extra>",
         "legendgroup": "Gas furnace",
         "marker": {
          "color": "#757575",
          "pattern": {
           "shape": ""
          }
         },
         "name": "Gas furnace",
         "offsetgroup": "Gas furnace",
         "orientation": "v",
         "showlegend": true,
         "textposition": "auto",
         "type": "bar",
         "x": [
          "BAU",
          "CER",
          "CER+",
          "Rapid",
          "Rapid+"
         ],
         "xaxis": "x",
         "y": [
          3601604405.0383797,
          3415528255.8871384,
          2231986554.6062355,
          2317473406.2402606,
          1305896788.19611
         ],
         "yaxis": "y"
        },
        {
         "alignmentgroup": "True",
         "hovertemplate": "tech=Heat pump<br>scenario=%{x}<br>Purchase cost=%{y}<extra></extra>",
         "legendgroup": "Heat pump",
         "marker": {
          "color": "#00ae00",
          "pattern": {
           "shape": ""
          }
         },
         "name": "Heat pump",
         "offsetgroup": "Heat pump",
         "orientation": "v",
         "showlegend": true,
         "textposition": "auto",
         "type": "bar",
         "x": [
          "BAU",
          "CER",
          "CER+",
          "Rapid",
          "Rapid+"
         ],
         "xaxis": "x",
         "y": [
          6178665597.092548,
          5134770677.575205,
          4996068278.047579,
          23728961127.836853,
          27019770843.11217
         ],
         "yaxis": "y"
        },
        {
         "alignmentgroup": "True",
         "hovertemplate": "tech=Biomass furnace<br>scenario=%{x}<br>Purchase cost=%{y}<extra></extra>",
         "legendgroup": "Biomass furnace",
         "marker": {
          "color": "#00b9ba",
          "pattern": {
           "shape": ""
          }
         },
         "name": "Biomass furnace",
         "offsetgroup": "Biomass furnace",
         "orientation": "v",
         "showlegend": true,
         "textposition": "auto",
         "type": "bar",
         "x": [
          "CER+",
          "Rapid+"
         ],
         "xaxis": "x",
         "y": [
          55261396.34939291,
          53131667.653803974
         ],
         "yaxis": "y"
        },
        {
         "alignmentgroup": "True",
         "hovertemplate": "tech=Subsidies<br>scenario=%{x}<br>Purchase cost=%{y}<extra></extra>",
         "legendgroup": "Subsidies",
         "marker": {
          "color": "#ae00ae",
          "pattern": {
           "shape": ""
          }
         },
         "name": "Subsidies",
         "offsetgroup": "Subsidies",
         "orientation": "v",
         "showlegend": true,
         "textposition": "auto",
         "type": "bar",
         "x": [
          "CER",
          "CER+",
          "Rapid",
          "Rapid+"
         ],
         "xaxis": "x",
         "y": [
          906136001.9250362,
          881659107.8907491,
          10169554769.072935,
          11579901789.905216
         ],
         "yaxis": "y"
        }
       ],
       "layout": {
        "barmode": "relative",
        "font": {
         "family": "cm",
         "size": 18
        },
        "legend": {
         "bordercolor": "gray",
         "borderwidth": 2,
         "title": {},
         "tracegroupgap": 0,
         "traceorder": "reversed",
         "x": 0.02,
         "y": 0.98
        },
        "margin": {
         "t": 60
        },
        "plot_bgcolor": "white",
        "template": {
         "data": {
          "candlestick": [
           {
            "decreasing": {
             "line": {
              "color": "#000033"
             }
            },
            "increasing": {
             "line": {
              "color": "#000032"
             }
            },
            "type": "candlestick"
           }
          ],
          "contour": [
           {
            "colorscale": [
             [
              0,
              "#000011"
             ],
             [
              0.1111111111111111,
              "#000012"
             ],
             [
              0.2222222222222222,
              "#000013"
             ],
             [
              0.3333333333333333,
              "#000014"
             ],
             [
              0.4444444444444444,
              "#000015"
             ],
             [
              0.5555555555555556,
              "#000016"
             ],
             [
              0.6666666666666666,
              "#000017"
             ],
             [
              0.7777777777777778,
              "#000018"
             ],
             [
              0.8888888888888888,
              "#000019"
             ],
             [
              1,
              "#000020"
             ]
            ],
            "type": "contour"
           }
          ],
          "contourcarpet": [
           {
            "colorscale": [
             [
              0,
              "#000011"
             ],
             [
              0.1111111111111111,
              "#000012"
             ],
             [
              0.2222222222222222,
              "#000013"
             ],
             [
              0.3333333333333333,
              "#000014"
             ],
             [
              0.4444444444444444,
              "#000015"
             ],
             [
              0.5555555555555556,
              "#000016"
             ],
             [
              0.6666666666666666,
              "#000017"
             ],
             [
              0.7777777777777778,
              "#000018"
             ],
             [
              0.8888888888888888,
              "#000019"
             ],
             [
              1,
              "#000020"
             ]
            ],
            "type": "contourcarpet"
           }
          ],
          "heatmap": [
           {
            "colorscale": [
             [
              0,
              "#000011"
             ],
             [
              0.1111111111111111,
              "#000012"
             ],
             [
              0.2222222222222222,
              "#000013"
             ],
             [
              0.3333333333333333,
              "#000014"
             ],
             [
              0.4444444444444444,
              "#000015"
             ],
             [
              0.5555555555555556,
              "#000016"
             ],
             [
              0.6666666666666666,
              "#000017"
             ],
             [
              0.7777777777777778,
              "#000018"
             ],
             [
              0.8888888888888888,
              "#000019"
             ],
             [
              1,
              "#000020"
             ]
            ],
            "type": "heatmap"
           }
          ],
          "histogram2d": [
           {
            "colorscale": [
             [
              0,
              "#000011"
             ],
             [
              0.1111111111111111,
              "#000012"
             ],
             [
              0.2222222222222222,
              "#000013"
             ],
             [
              0.3333333333333333,
              "#000014"
             ],
             [
              0.4444444444444444,
              "#000015"
             ],
             [
              0.5555555555555556,
              "#000016"
             ],
             [
              0.6666666666666666,
              "#000017"
             ],
             [
              0.7777777777777778,
              "#000018"
             ],
             [
              0.8888888888888888,
              "#000019"
             ],
             [
              1,
              "#000020"
             ]
            ],
            "type": "histogram2d"
           }
          ],
          "icicle": [
           {
            "textfont": {
             "color": "white"
            },
            "type": "icicle"
           }
          ],
          "sankey": [
           {
            "textfont": {
             "color": "#000036"
            },
            "type": "sankey"
           }
          ],
          "scatter": [
           {
            "marker": {
             "line": {
              "width": 0
             }
            },
            "type": "scatter"
           }
          ],
          "table": [
           {
            "cells": {
             "fill": {
              "color": "#000038"
             },
             "font": {
              "color": "#000037"
             },
             "line": {
              "color": "#000039"
             }
            },
            "header": {
             "fill": {
              "color": "#000040"
             },
             "font": {
              "color": "#000036"
             },
             "line": {
              "color": "#000039"
             }
            },
            "type": "table"
           }
          ],
          "waterfall": [
           {
            "connector": {
             "line": {
              "color": "#000036",
              "width": 2
             }
            },
            "decreasing": {
             "marker": {
              "color": "#000033"
             }
            },
            "increasing": {
             "marker": {
              "color": "#000032"
             }
            },
            "totals": {
             "marker": {
              "color": "#000034"
             }
            },
            "type": "waterfall"
           }
          ]
         },
         "layout": {
          "coloraxis": {
           "colorscale": [
            [
             0,
             "#000011"
            ],
            [
             0.1111111111111111,
             "#000012"
            ],
            [
             0.2222222222222222,
             "#000013"
            ],
            [
             0.3333333333333333,
             "#000014"
            ],
            [
             0.4444444444444444,
             "#000015"
            ],
            [
             0.5555555555555556,
             "#000016"
            ],
            [
             0.6666666666666666,
             "#000017"
            ],
            [
             0.7777777777777778,
             "#000018"
            ],
            [
             0.8888888888888888,
             "#000019"
            ],
            [
             1,
             "#000020"
            ]
           ]
          },
          "colorscale": {
           "diverging": [
            [
             0,
             "#000021"
            ],
            [
             0.1,
             "#000022"
            ],
            [
             0.2,
             "#000023"
            ],
            [
             0.3,
             "#000024"
            ],
            [
             0.4,
             "#000025"
            ],
            [
             0.5,
             "#000026"
            ],
            [
             0.6,
             "#000027"
            ],
            [
             0.7,
             "#000028"
            ],
            [
             0.8,
             "#000029"
            ],
            [
             0.9,
             "#000030"
            ],
            [
             1,
             "#000031"
            ]
           ],
           "sequential": [
            [
             0,
             "#000011"
            ],
            [
             0.1111111111111111,
             "#000012"
            ],
            [
             0.2222222222222222,
             "#000013"
            ],
            [
             0.3333333333333333,
             "#000014"
            ],
            [
             0.4444444444444444,
             "#000015"
            ],
            [
             0.5555555555555556,
             "#000016"
            ],
            [
             0.6666666666666666,
             "#000017"
            ],
            [
             0.7777777777777778,
             "#000018"
            ],
            [
             0.8888888888888888,
             "#000019"
            ],
            [
             1,
             "#000020"
            ]
           ],
           "sequentialminus": [
            [
             0,
             "#000011"
            ],
            [
             0.1111111111111111,
             "#000012"
            ],
            [
             0.2222222222222222,
             "#000013"
            ],
            [
             0.3333333333333333,
             "#000014"
            ],
            [
             0.4444444444444444,
             "#000015"
            ],
            [
             0.5555555555555556,
             "#000016"
            ],
            [
             0.6666666666666666,
             "#000017"
            ],
            [
             0.7777777777777778,
             "#000018"
            ],
            [
             0.8888888888888888,
             "#000019"
            ],
            [
             1,
             "#000020"
            ]
           ]
          },
          "colorway": [
           "#000001",
           "#000002",
           "#000003",
           "#000004",
           "#000005",
           "#000006",
           "#000007",
           "#000008",
           "#000009",
           "#000010"
          ]
         }
        },
        "width": 500,
        "xaxis": {
         "anchor": "y",
         "domain": [
          0,
          1
         ],
         "gridcolor": "lightgrey",
         "linecolor": "black",
         "mirror": true,
         "showline": true,
         "ticks": "outside",
         "title": {
          "text": ""
         }
        },
        "yaxis": {
         "anchor": "x",
         "domain": [
          0,
          1
         ],
         "gridcolor": "lightgrey",
         "linecolor": "black",
         "mirror": true,
         "showline": true,
         "ticks": "outside",
         "title": {
          "text": "Total purchase cost (CAD)"
         }
        }
       }
      }
     },
     "metadata": {},
     "output_type": "display_data"
    }
   ],
   "source": [
    "ABM_colors.update({\"Subsidies\":\"#ae00ae\"})\n",
    "fig = sciencify_plotly_fig(\n",
    "    px.bar(\n",
    "        scenario_spendings,\n",
    "        x=\"scenario\",\n",
    "        y=\"Purchase cost\",\n",
    "        color=\"tech\",\n",
    "        color_discrete_map=ABM_colors,\n",
    "    )\n",
    ")\n",
    "fig.update_layout(\n",
    "    yaxis_title=\"Total purchase cost (CAD)\",\n",
    "    xaxis_title=\"\",\n",
    "    legend=dict(\n",
    "        title_text=None,\n",
    "        # bgcolor=\"LightSteelBlue\",\n",
    "        bordercolor=\"gray\",\n",
    "        borderwidth=2,\n",
    "        x=0.02,\n",
    "        y=0.98,\n",
    "        traceorder=\"reversed\",\n",
    "    ),\n",
    "    width=500,\n",
    "    font_family=\"cm\",\n",
    "    font_size=18\n",
    ")\n",
    "fig.write_image(\"abm_total_spendings.pdf\")\n",
    "fig.write_image(\"abm_total_spendings.svg\")\n",
    "fig"
   ]
  },
  {
   "cell_type": "code",
   "execution_count": 204,
   "metadata": {},
   "outputs": [
    {
     "name": "stdout",
     "output_type": "stream",
     "text": [
      "\\begin{tabular}{lrrrr}\n",
      "\\toprule\n",
      " & Total emissions (Mt) & Total subsidies (MCAD) & Avoided emissions (Mt) & Gov. carbon avoidance cost (CAD/t) \\\\\n",
      "scenario &  &  &  &  \\\\\n",
      "\\midrule\n",
      "BAU & 473.49 & 0.00 & 0.00 & 0.00 \\\\\n",
      "CER & 445.68 & 819.73 & 27.81 & 29.48 \\\\\n",
      "CER+ & 412.98 & 764.98 & 60.51 & 12.64 \\\\\n",
      "Rapid & 379.82 & 8324.50 & 93.67 & 88.87 \\\\\n",
      "Rapid+ & 344.33 & 9568.75 & 129.16 & 74.08 \\\\\n",
      "\\bottomrule\n",
      "\\end{tabular}\n",
      "\n"
     ]
    }
   ],
   "source": [
    "total_emissions = total_scenario_emissions.groupby(\"scenario\")[0].sum()\n",
    "avoided_emissions = total_emissions[\"BAU\"] - total_emissions\n",
    "total_subsidies = subsidies_plot_df.loc[2050,\"Cumulative subsidy amount (CAD)\"]*1e-6\n",
    "carbon_avoidance_cost = total_subsidies/avoided_emissions\n",
    "\n",
    "summary_df = pd.concat(\n",
    "    [total_emissions, total_subsidies, avoided_emissions, carbon_avoidance_cost],\n",
    "    axis=1,\n",
    ").fillna(0).round(2)\n",
    "summary_df.columns = [\"Total emissions (Mt)\",\"Total subsidies (MCAD)\",\"Avoided emissions (Mt)\",\"Gov. carbon avoidance cost (CAD/t)\",]\n",
    "print(summary_df.to_latex().replace(\"0000\",\"\"))"
   ]
  },
  {
   "cell_type": "code",
   "execution_count": 246,
   "id": "01HXH5FN8CAJE5981ZGEPZDJ3Q",
   "metadata": {},
   "outputs": [],
   "source": [
    "abm_agg_costs_mean = abm_agg_costs.groupby(\"scenario\").mean()\n",
    "total_expenditures = abm_agg_costs_mean[\"agg. annual costs\"] +total_subsidies\n",
    "expenditure_delta = (total_expenditures - total_expenditures[\"BAU\"])*1e-6\n",
    "expenditure_delta\n",
    "##\n",
    "scenario_mean_retrofit_costs = scenario_retrofit_costs.groupby(\"scenario\").mean()[\"Retrofit costs (CAD)\"]*1e-6\n",
    "retrofit_delta = scenario_mean_retrofit_costs - scenario_mean_retrofit_costs[\"BAU\"]\n",
    "(retrofit_delta+expenditure_delta)/avoided_emissions\n",
    "##\n",
    "abm_cost_summary = pd.concat([total_expenditures*1e-6,scenario_mean_retrofit_costs,total_subsidies], axis=1)*1e6\n",
    "abm_cost_summary.columns = [\"Cumulated annual costs\", \"Retrofit costs\",\"Subsidies\"]\n",
    "abm_cost_overview = px.bar(abm_cost_summary, template=\"plotly\", width=400)\n",
    "abm_cost_overview = sciencify_plotly_fig(abm_cost_overview)\n",
    "abm_cost_overview.update_layout(yaxis_title=\"Total residential costs (CAD)\", legend_title=\"Cost component\", xaxis_title=\"\",\n",
    "    legend=dict(\n",
    "        bordercolor=\"gray\",\n",
    "        borderwidth=2,\n",
    "        x=0.1,\n",
    "        y=0.05,\n",
    "        traceorder=\"reversed\",\n",
    "    ),\n",
    "    width=450,\n",
    "    font_family=\"cm\",\n",
    "    font_size=18)\n",
    "abm_cost_overview.write_image(\"abm_total_costs.pdf\")\n",
    "abm_cost_overview.write_image(\"abm_total_costs.svg\")"
   ]
  },
  {
   "cell_type": "markdown",
   "metadata": {},
   "source": [
    "## ABM: LCOH"
   ]
  },
  {
   "cell_type": "code",
   "execution_count": 206,
   "metadata": {},
   "outputs": [
    {
     "data": {
      "text/html": [
       "<div>\n",
       "<style scoped>\n",
       "    .dataframe tbody tr th:only-of-type {\n",
       "        vertical-align: middle;\n",
       "    }\n",
       "\n",
       "    .dataframe tbody tr th {\n",
       "        vertical-align: top;\n",
       "    }\n",
       "\n",
       "    .dataframe thead th {\n",
       "        text-align: right;\n",
       "    }\n",
       "</style>\n",
       "<table border=\"1\" class=\"dataframe\">\n",
       "  <thead>\n",
       "    <tr style=\"text-align: right;\">\n",
       "      <th></th>\n",
       "      <th>scenario</th>\n",
       "      <th>BAU</th>\n",
       "      <th>CER</th>\n",
       "      <th>CER+</th>\n",
       "      <th>Rapid</th>\n",
       "      <th>Rapid+</th>\n",
       "    </tr>\n",
       "    <tr>\n",
       "      <th>year</th>\n",
       "      <th>variable</th>\n",
       "      <th></th>\n",
       "      <th></th>\n",
       "      <th></th>\n",
       "      <th></th>\n",
       "      <th></th>\n",
       "    </tr>\n",
       "  </thead>\n",
       "  <tbody>\n",
       "    <tr>\n",
       "      <th>2020.00</th>\n",
       "      <th>Heat pump</th>\n",
       "      <td>0.068000</td>\n",
       "      <td>0.060000</td>\n",
       "      <td>0.060000</td>\n",
       "      <td>0.056667</td>\n",
       "      <td>0.056667</td>\n",
       "    </tr>\n",
       "    <tr>\n",
       "      <th>2020.25</th>\n",
       "      <th>Heat pump</th>\n",
       "      <td>0.068000</td>\n",
       "      <td>0.063333</td>\n",
       "      <td>0.063684</td>\n",
       "      <td>0.060769</td>\n",
       "      <td>0.060400</td>\n",
       "    </tr>\n",
       "    <tr>\n",
       "      <th>2020.50</th>\n",
       "      <th>Heat pump</th>\n",
       "      <td>0.068000</td>\n",
       "      <td>0.063333</td>\n",
       "      <td>0.064000</td>\n",
       "      <td>0.060769</td>\n",
       "      <td>0.061111</td>\n",
       "    </tr>\n",
       "    <tr>\n",
       "      <th>2020.75</th>\n",
       "      <th>Heat pump</th>\n",
       "      <td>0.068000</td>\n",
       "      <td>0.063684</td>\n",
       "      <td>0.064000</td>\n",
       "      <td>0.060769</td>\n",
       "      <td>0.061429</td>\n",
       "    </tr>\n",
       "    <tr>\n",
       "      <th>2021.00</th>\n",
       "      <th>Heat pump</th>\n",
       "      <td>0.067059</td>\n",
       "      <td>0.064286</td>\n",
       "      <td>0.064545</td>\n",
       "      <td>0.060769</td>\n",
       "      <td>0.061429</td>\n",
       "    </tr>\n",
       "    <tr>\n",
       "      <th>...</th>\n",
       "      <th>...</th>\n",
       "      <td>...</td>\n",
       "      <td>...</td>\n",
       "      <td>...</td>\n",
       "      <td>...</td>\n",
       "      <td>...</td>\n",
       "    </tr>\n",
       "    <tr>\n",
       "      <th>2049.00</th>\n",
       "      <th>Heat pump</th>\n",
       "      <td>0.071429</td>\n",
       "      <td>0.066875</td>\n",
       "      <td>0.067273</td>\n",
       "      <td>0.065789</td>\n",
       "      <td>0.065789</td>\n",
       "    </tr>\n",
       "    <tr>\n",
       "      <th>2049.25</th>\n",
       "      <th>Heat pump</th>\n",
       "      <td>0.071429</td>\n",
       "      <td>0.066875</td>\n",
       "      <td>0.067273</td>\n",
       "      <td>0.065789</td>\n",
       "      <td>0.065789</td>\n",
       "    </tr>\n",
       "    <tr>\n",
       "      <th>2049.50</th>\n",
       "      <th>Heat pump</th>\n",
       "      <td>0.071429</td>\n",
       "      <td>0.066875</td>\n",
       "      <td>0.067273</td>\n",
       "      <td>0.065789</td>\n",
       "      <td>0.065789</td>\n",
       "    </tr>\n",
       "    <tr>\n",
       "      <th>2049.75</th>\n",
       "      <th>Heat pump</th>\n",
       "      <td>0.071429</td>\n",
       "      <td>0.066875</td>\n",
       "      <td>0.067273</td>\n",
       "      <td>0.065789</td>\n",
       "      <td>0.065789</td>\n",
       "    </tr>\n",
       "    <tr>\n",
       "      <th>2050.00</th>\n",
       "      <th>Heat pump</th>\n",
       "      <td>0.071429</td>\n",
       "      <td>0.066875</td>\n",
       "      <td>0.067273</td>\n",
       "      <td>0.065789</td>\n",
       "      <td>0.065789</td>\n",
       "    </tr>\n",
       "  </tbody>\n",
       "</table>\n",
       "<p>121 rows × 5 columns</p>\n",
       "</div>"
      ],
      "text/plain": [
       "scenario                BAU       CER      CER+     Rapid    Rapid+\n",
       "year    variable                                                   \n",
       "2020.00 Heat pump  0.068000  0.060000  0.060000  0.056667  0.056667\n",
       "2020.25 Heat pump  0.068000  0.063333  0.063684  0.060769  0.060400\n",
       "2020.50 Heat pump  0.068000  0.063333  0.064000  0.060769  0.061111\n",
       "2020.75 Heat pump  0.068000  0.063684  0.064000  0.060769  0.061429\n",
       "2021.00 Heat pump  0.067059  0.064286  0.064545  0.060769  0.061429\n",
       "...                     ...       ...       ...       ...       ...\n",
       "2049.00 Heat pump  0.071429  0.066875  0.067273  0.065789  0.065789\n",
       "2049.25 Heat pump  0.071429  0.066875  0.067273  0.065789  0.065789\n",
       "2049.50 Heat pump  0.071429  0.066875  0.067273  0.065789  0.065789\n",
       "2049.75 Heat pump  0.071429  0.066875  0.067273  0.065789  0.065789\n",
       "2050.00 Heat pump  0.071429  0.066875  0.067273  0.065789  0.065789\n",
       "\n",
       "[121 rows x 5 columns]"
      ]
     },
     "execution_count": 206,
     "metadata": {},
     "output_type": "execute_result"
    }
   ],
   "source": [
    "scenario_lcohs.pivot(columns=\"scenario\", index=[\"year\",\"variable\"], values=\"value\").query(\"variable=='Heat pump'\")"
   ]
  },
  {
   "cell_type": "code",
   "execution_count": 233,
   "metadata": {},
   "outputs": [
    {
     "data": {
      "application/vnd.plotly.v1+json": {
       "config": {
        "plotlyServerURL": "https://plot.ly"
       },
       "data": [
        {
         "hovertemplate": "variable=Electric furnace<br>scenario=BAU<br>year=%{x}<br>value=%{y}<extra></extra>",
         "legendgroup": "Electric furnace",
         "line": {
          "color": "#f2a300",
          "dash": "solid"
         },
         "marker": {
          "symbol": "circle"
         },
         "mode": "lines",
         "name": "Electric furnace",
         "orientation": "v",
         "showlegend": true,
         "type": "scatter",
         "x": [
          2020,
          2020.25,
          2020.5,
          2020.75,
          2021,
          2021.25,
          2021.5,
          2021.75,
          2022,
          2022.25,
          2022.5,
          2022.75,
          2023,
          2023.25,
          2023.5,
          2023.75,
          2024,
          2024.25,
          2024.5,
          2024.75,
          2025,
          2025.25,
          2025.5,
          2025.75,
          2026,
          2026.25,
          2026.5,
          2026.75,
          2027,
          2027.25,
          2027.5,
          2027.75,
          2028,
          2028.25,
          2028.5,
          2028.75,
          2029,
          2029.25,
          2029.5,
          2029.75,
          2030,
          2030.25,
          2030.5,
          2030.75,
          2031,
          2031.25,
          2031.5,
          2031.75,
          2032,
          2032.25,
          2032.5,
          2032.75,
          2033,
          2033.25,
          2033.5,
          2033.75,
          2034,
          2034.25,
          2034.5,
          2034.75,
          2035,
          2035.25,
          2035.5,
          2035.75,
          2036,
          2036.25,
          2036.5,
          2036.75,
          2037,
          2037.25,
          2037.5,
          2037.75,
          2038,
          2038.25,
          2038.5,
          2038.75,
          2039,
          2039.25,
          2039.5,
          2039.75,
          2040,
          2040.25,
          2040.5,
          2040.75,
          2041,
          2041.25,
          2041.5,
          2041.75,
          2042,
          2042.25,
          2042.5,
          2042.75,
          2043,
          2043.25,
          2043.5,
          2043.75,
          2044,
          2044.25,
          2044.5,
          2044.75,
          2045,
          2045.25,
          2045.5,
          2045.75,
          2046,
          2046.25,
          2046.5,
          2046.75,
          2047,
          2047.25,
          2047.5,
          2047.75,
          2048,
          2048.25,
          2048.5,
          2048.75,
          2049,
          2049.25,
          2049.5,
          2049.75,
          2050
         ],
         "xaxis": "x",
         "y": [
          0.12,
          0.12,
          0.12,
          0.12,
          0.12666666666666668,
          0.13,
          0.13,
          0.13,
          0.138,
          0.14333333333333334,
          0.14333333333333334,
          0.14333333333333334,
          0.14333333333333334,
          0.14333333333333334,
          0.14333333333333334,
          0.14333333333333334,
          0.14333333333333334,
          0.14333333333333334,
          0.14333333333333334,
          0.14333333333333334,
          0.14333333333333334,
          0.14333333333333334,
          0.14333333333333334,
          0.14333333333333334,
          0.14333333333333334,
          0.14333333333333334,
          0.14333333333333334,
          0.14333333333333334,
          0.1457142857142857,
          0.1475,
          0.1475,
          0.1475,
          0.1475,
          0.1475,
          0.1475,
          0.1475,
          0.1475,
          0.1475,
          0.1475,
          0.1475,
          0.1475,
          0.1475,
          0.1475,
          0.1475,
          0.1475,
          0.1475,
          0.1475,
          0.1475,
          0.14777777777777779,
          0.14800000000000002,
          0.14800000000000002,
          0.14800000000000002,
          0.14800000000000002,
          0.14800000000000002,
          0.14800000000000002,
          0.14800000000000002,
          0.14800000000000002,
          0.14800000000000002,
          0.14800000000000002,
          0.14800000000000002,
          0.14800000000000002,
          0.14800000000000002,
          0.14800000000000002,
          0.14800000000000002,
          0.14800000000000002,
          0.14800000000000002,
          0.14800000000000002,
          0.14800000000000002,
          0.14800000000000002,
          0.14800000000000002,
          0.14800000000000002,
          0.14800000000000002,
          0.14800000000000002,
          0.14847457627118643,
          0.14847457627118643,
          0.14896551724137932,
          0.14896551724137932,
          0.14896551724137932,
          0.14896551724137932,
          0.14896551724137932,
          0.14896551724137932,
          0.14896551724137932,
          0.14896551724137932,
          0.14896551724137932,
          0.14912280701754385,
          0.14912280701754385,
          0.14912280701754385,
          0.14912280701754385,
          0.14912280701754385,
          0.14912280701754385,
          0.14912280701754385,
          0.14912280701754385,
          0.14912280701754385,
          0.14964285714285716,
          0.14964285714285716,
          0.14964285714285716,
          0.14964285714285716,
          0.14964285714285716,
          0.14964285714285716,
          0.14964285714285716,
          0.14964285714285716,
          0.14964285714285716,
          0.14964285714285716,
          0.14981818181818182,
          0.14981818181818182,
          0.14981818181818182,
          0.15037037037037038,
          0.15037037037037038,
          0.15037037037037038,
          0.15037037037037038,
          0.1509433962264151,
          0.1509433962264151,
          0.1509433962264151,
          0.1509433962264151,
          0.1509433962264151,
          0.1509433962264151,
          0.1509433962264151,
          0.1509433962264151,
          0.1509433962264151,
          0.1509433962264151,
          0.1509433962264151
         ],
         "yaxis": "y"
        },
        {
         "hovertemplate": "variable=Gas furnace<br>scenario=BAU<br>year=%{x}<br>value=%{y}<extra></extra>",
         "legendgroup": "Gas furnace",
         "line": {
          "color": "#757575",
          "dash": "solid"
         },
         "marker": {
          "symbol": "circle"
         },
         "mode": "lines",
         "name": "Gas furnace",
         "orientation": "v",
         "showlegend": true,
         "type": "scatter",
         "x": [
          2020,
          2020.25,
          2020.5,
          2020.75,
          2021,
          2021.25,
          2021.5,
          2021.75,
          2022,
          2022.25,
          2022.5,
          2022.75,
          2023,
          2023.25,
          2023.5,
          2023.75,
          2024,
          2024.25,
          2024.5,
          2024.75,
          2025,
          2025.25,
          2025.5,
          2025.75,
          2026,
          2026.25,
          2026.5,
          2026.75,
          2027,
          2027.25,
          2027.5,
          2027.75,
          2028,
          2028.25,
          2028.5,
          2028.75,
          2029,
          2029.25,
          2029.5,
          2029.75,
          2030,
          2030.25,
          2030.5,
          2030.75,
          2031,
          2031.25,
          2031.5,
          2031.75,
          2032,
          2032.25,
          2032.5,
          2032.75,
          2033,
          2033.25,
          2033.5,
          2033.75,
          2034,
          2034.25,
          2034.5,
          2034.75,
          2035,
          2035.25,
          2035.5,
          2035.75,
          2036,
          2036.25,
          2036.5,
          2036.75,
          2037,
          2037.25,
          2037.5,
          2037.75,
          2038,
          2038.25,
          2038.5,
          2038.75,
          2039,
          2039.25,
          2039.5,
          2039.75,
          2040,
          2040.25,
          2040.5,
          2040.75,
          2041,
          2041.25,
          2041.5,
          2041.75,
          2042,
          2042.25,
          2042.5,
          2042.75,
          2043,
          2043.25,
          2043.5,
          2043.75,
          2044,
          2044.25,
          2044.5,
          2044.75,
          2045,
          2045.25,
          2045.5,
          2045.75,
          2046,
          2046.25,
          2046.5,
          2046.75,
          2047,
          2047.25,
          2047.5,
          2047.75,
          2048,
          2048.25,
          2048.5,
          2048.75,
          2049,
          2049.25,
          2049.5,
          2049.75,
          2050
         ],
         "xaxis": "x",
         "y": [
          0.05000000000000001,
          0.05000000000000001,
          0.05000000000000001,
          0.05000000000000001,
          0.05333333333333333,
          0.055,
          0.055,
          0.055,
          0.060000000000000005,
          0.06333333333333334,
          0.06333333333333334,
          0.06333333333333334,
          0.06333333333333334,
          0.06333333333333334,
          0.06333333333333334,
          0.06333333333333334,
          0.06714285714285714,
          0.06999999999999999,
          0.06999999999999999,
          0.06999999999999999,
          0.07333333333333333,
          0.07600000000000001,
          0.07600000000000001,
          0.07600000000000001,
          0.07600000000000001,
          0.07600000000000001,
          0.07600000000000001,
          0.07600000000000001,
          0.07909090909090909,
          0.08166666666666667,
          0.08166666666666667,
          0.08166666666666667,
          0.08166666666666667,
          0.08166666666666667,
          0.08166666666666667,
          0.08166666666666667,
          0.0846153846153846,
          0.08714285714285715,
          0.08714285714285715,
          0.08714285714285715,
          0.08714285714285715,
          0.08714285714285715,
          0.08714285714285715,
          0.08714285714285715,
          0.09,
          0.09250000000000001,
          0.09250000000000001,
          0.09250000000000001,
          0.09250000000000001,
          0.09250000000000001,
          0.09250000000000001,
          0.09250000000000001,
          0.09529411764705883,
          0.09777777777777778,
          0.09777777777777778,
          0.09777777777777778,
          0.09777777777777778,
          0.09777777777777778,
          0.09777777777777778,
          0.09777777777777778,
          0.09777777777777778,
          0.09777777777777778,
          0.09777777777777778,
          0.09777777777777778,
          0.10052631578947369,
          0.103,
          0.103,
          0.103,
          0.103109243697479,
          0.103109243697479,
          0.103109243697479,
          0.103109243697479,
          0.10584,
          0.10876923076923077,
          0.10876923076923077,
          0.10922480620155038,
          0.10922480620155038,
          0.10922480620155038,
          0.10922480620155038,
          0.10922480620155038,
          0.10922480620155038,
          0.10922480620155038,
          0.10922480620155038,
          0.10922480620155038,
          0.1123134328358209,
          0.11478571428571428,
          0.11478571428571428,
          0.11478571428571428,
          0.11478571428571428,
          0.11478571428571428,
          0.11478571428571428,
          0.11478571428571428,
          0.11478571428571428,
          0.11525179856115107,
          0.11525179856115107,
          0.11525179856115107,
          0.11543478260869565,
          0.11543478260869565,
          0.11543478260869565,
          0.11543478260869565,
          0.11812500000000001,
          0.1206,
          0.1206,
          0.12100671140939598,
          0.12121621621621623,
          0.12121621621621623,
          0.12170068027210884,
          0.12170068027210884,
          0.12170068027210884,
          0.12170068027210884,
          0.12219178082191781,
          0.12219178082191781,
          0.12219178082191781,
          0.12219178082191781,
          0.12219178082191781,
          0.12219178082191781,
          0.12486842105263159,
          0.12694267515923566,
          0.12734177215189874,
          0.12734177215189874,
          0.12734177215189874
         ],
         "yaxis": "y"
        },
        {
         "hovertemplate": "variable=Heat pump<br>scenario=BAU<br>year=%{x}<br>value=%{y}<extra></extra>",
         "legendgroup": "Heat pump",
         "line": {
          "color": "#00ae00",
          "dash": "solid"
         },
         "marker": {
          "symbol": "circle"
         },
         "mode": "lines",
         "name": "Heat pump",
         "orientation": "v",
         "showlegend": true,
         "type": "scatter",
         "x": [
          2020,
          2020.25,
          2020.5,
          2020.75,
          2021,
          2021.25,
          2021.5,
          2021.75,
          2022,
          2022.25,
          2022.5,
          2022.75,
          2023,
          2023.25,
          2023.5,
          2023.75,
          2024,
          2024.25,
          2024.5,
          2024.75,
          2025,
          2025.25,
          2025.5,
          2025.75,
          2026,
          2026.25,
          2026.5,
          2026.75,
          2027,
          2027.25,
          2027.5,
          2027.75,
          2028,
          2028.25,
          2028.5,
          2028.75,
          2029,
          2029.25,
          2029.5,
          2029.75,
          2030,
          2030.25,
          2030.5,
          2030.75,
          2031,
          2031.25,
          2031.5,
          2031.75,
          2032,
          2032.25,
          2032.5,
          2032.75,
          2033,
          2033.25,
          2033.5,
          2033.75,
          2034,
          2034.25,
          2034.5,
          2034.75,
          2035,
          2035.25,
          2035.5,
          2035.75,
          2036,
          2036.25,
          2036.5,
          2036.75,
          2037,
          2037.25,
          2037.5,
          2037.75,
          2038,
          2038.25,
          2038.5,
          2038.75,
          2039,
          2039.25,
          2039.5,
          2039.75,
          2040,
          2040.25,
          2040.5,
          2040.75,
          2041,
          2041.25,
          2041.5,
          2041.75,
          2042,
          2042.25,
          2042.5,
          2042.75,
          2043,
          2043.25,
          2043.5,
          2043.75,
          2044,
          2044.25,
          2044.5,
          2044.75,
          2045,
          2045.25,
          2045.5,
          2045.75,
          2046,
          2046.25,
          2046.5,
          2046.75,
          2047,
          2047.25,
          2047.5,
          2047.75,
          2048,
          2048.25,
          2048.5,
          2048.75,
          2049,
          2049.25,
          2049.5,
          2049.75,
          2050
         ],
         "xaxis": "x",
         "y": [
          0.068,
          0.068,
          0.068,
          0.068,
          0.06705882352941177,
          0.06705882352941177,
          0.06705882352941177,
          0.06705882352941177,
          0.07043478260869565,
          0.07241379310344828,
          0.07241379310344828,
          0.07241379310344828,
          0.07241379310344828,
          0.07241379310344828,
          0.07241379310344828,
          0.07241379310344828,
          0.07241379310344828,
          0.07241379310344828,
          0.07241379310344828,
          0.07241379310344828,
          0.07241379310344828,
          0.07241379310344828,
          0.07241379310344828,
          0.07241379310344828,
          0.07241379310344828,
          0.07241379310344828,
          0.07241379310344828,
          0.07241379310344828,
          0.07241379310344828,
          0.07241379310344828,
          0.07241379310344828,
          0.07241379310344828,
          0.07241379310344828,
          0.07241379310344828,
          0.07241379310344828,
          0.07241379310344828,
          0.07241379310344828,
          0.07241379310344828,
          0.07241379310344828,
          0.07241379310344828,
          0.07241379310344828,
          0.07241379310344828,
          0.07241379310344828,
          0.07241379310344828,
          0.07241379310344828,
          0.07241379310344828,
          0.07241379310344828,
          0.07241379310344828,
          0.07200000000000001,
          0.07200000000000001,
          0.07200000000000001,
          0.07200000000000001,
          0.07200000000000001,
          0.07200000000000001,
          0.07200000000000001,
          0.07200000000000001,
          0.07200000000000001,
          0.07200000000000001,
          0.07200000000000001,
          0.07200000000000001,
          0.07200000000000001,
          0.07200000000000001,
          0.07200000000000001,
          0.07200000000000001,
          0.07200000000000001,
          0.07200000000000001,
          0.07200000000000001,
          0.07200000000000001,
          0.07200000000000001,
          0.07200000000000001,
          0.07200000000000001,
          0.07200000000000001,
          0.07200000000000001,
          0.07200000000000001,
          0.07200000000000001,
          0.07200000000000001,
          0.07200000000000001,
          0.07200000000000001,
          0.07200000000000001,
          0.07200000000000001,
          0.07200000000000001,
          0.07200000000000001,
          0.07200000000000001,
          0.07200000000000001,
          0.07200000000000001,
          0.07200000000000001,
          0.07200000000000001,
          0.07200000000000001,
          0.07172413793103448,
          0.07172413793103448,
          0.07172413793103448,
          0.07172413793103448,
          0.07172413793103448,
          0.07172413793103448,
          0.07172413793103448,
          0.07172413793103448,
          0.07172413793103448,
          0.07172413793103448,
          0.07142857142857142,
          0.07142857142857142,
          0.07142857142857142,
          0.07142857142857142,
          0.07142857142857142,
          0.07142857142857142,
          0.07142857142857142,
          0.07142857142857142,
          0.07142857142857142,
          0.07142857142857142,
          0.07142857142857142,
          0.07142857142857142,
          0.07142857142857142,
          0.07142857142857142,
          0.07142857142857142,
          0.07142857142857142,
          0.07142857142857142,
          0.07142857142857142,
          0.07142857142857142,
          0.07142857142857142,
          0.07142857142857142,
          0.07142857142857142,
          0.07142857142857142
         ],
         "yaxis": "y"
        },
        {
         "hovertemplate": "variable=Oil furnace<br>scenario=BAU<br>year=%{x}<br>value=%{y}<extra></extra>",
         "legendgroup": "Oil furnace",
         "line": {
          "color": "#772700",
          "dash": "solid"
         },
         "marker": {
          "symbol": "circle"
         },
         "mode": "lines",
         "name": "Oil furnace",
         "orientation": "v",
         "showlegend": true,
         "type": "scatter",
         "x": [
          2020,
          2020.25,
          2020.5,
          2020.75,
          2021,
          2021.25,
          2021.5,
          2021.75,
          2022,
          2022.25,
          2022.5,
          2022.75,
          2023,
          2023.25,
          2023.5,
          2023.75,
          2024,
          2024.25,
          2024.5,
          2024.75,
          2025,
          2025.25,
          2025.5,
          2025.75,
          2026,
          2026.25,
          2026.5,
          2026.75,
          2027,
          2027.25,
          2027.5,
          2027.75,
          2028,
          2028.25,
          2028.5,
          2028.75,
          2029,
          2029.25,
          2029.5,
          2029.75,
          2030,
          2030.25,
          2030.5,
          2030.75,
          2031,
          2031.25,
          2031.5,
          2031.75,
          2032,
          2032.25,
          2032.5,
          2032.75,
          2033,
          2033.25,
          2033.5,
          2033.75,
          2034,
          2034.25,
          2034.5,
          2034.75,
          2035,
          2035.25,
          2035.5,
          2035.75,
          2036,
          2036.25,
          2036.5,
          2036.75,
          2037,
          2037.25,
          2037.5,
          2037.75,
          2038,
          2038.25,
          2038.5,
          2038.75,
          2039,
          2039.25,
          2039.5,
          2039.75,
          2040,
          2040.25,
          2040.5,
          2040.75,
          2041,
          2041.25,
          2041.5,
          2041.75,
          2042,
          2042.25,
          2042.5,
          2042.75,
          2043,
          2043.25,
          2043.5,
          2043.75,
          2044,
          2044.25,
          2044.5,
          2044.75,
          2045,
          2045.25,
          2045.5,
          2045.75,
          2046,
          2046.25,
          2046.5,
          2046.75,
          2047,
          2047.25,
          2047.5,
          2047.75,
          2048,
          2048.25,
          2048.5,
          2048.75,
          2049,
          2049.25,
          2049.5,
          2049.75,
          2050
         ],
         "xaxis": "x",
         "y": [
          0.14,
          0.14,
          0.14,
          0.14,
          0.15000000000000002,
          0.155,
          0.155,
          0.155,
          0.17400000000000002,
          0.18666666666666668,
          0.18666666666666668,
          0.18666666666666668,
          0.19,
          0.1925,
          0.1925,
          0.1925,
          0.2,
          0.206,
          0.206,
          0.206,
          0.21181818181818182,
          0.21666666666666667,
          0.21666666666666667,
          0.21666666666666667,
          0.21666666666666667,
          0.21666666666666667,
          0.21666666666666667,
          0.21666666666666667,
          0.22153846153846155,
          0.22571428571428573,
          0.22571428571428573,
          0.22571428571428573,
          0.22571428571428573,
          0.22571428571428573,
          0.22571428571428573,
          0.22571428571428573,
          0.22999999999999998,
          0.23375,
          0.23375,
          0.23375,
          0.23375,
          0.23375,
          0.23375,
          0.23375,
          0.23764705882352943,
          0.2411111111111111,
          0.2411111111111111,
          0.2411111111111111,
          0.24473684210526317,
          0.24800000000000003,
          0.24800000000000003,
          0.24800000000000003,
          0.25142857142857145,
          0.2545454545454546,
          0.2545454545454546,
          0.2545454545454546,
          0.2545454545454546,
          0.2545454545454546,
          0.2545454545454546,
          0.2545454545454546,
          0.2578260869565217,
          0.26083333333333336,
          0.26083333333333336,
          0.26083333333333336,
          0.264,
          0.26692307692307693,
          0.26692307692307693,
          0.26692307692307693,
          0.2669677419354839,
          0.2669677419354839,
          0.2669677419354839,
          0.2669677419354839,
          0.2700621118012423,
          0.2737349397590361,
          0.2737349397590361,
          0.2745454545454546,
          0.27454545454545454,
          0.27454545454545454,
          0.27454545454545454,
          0.27454545454545454,
          0.2775438596491228,
          0.2803389830508474,
          0.2803389830508474,
          0.2803389830508474,
          0.2809659090909091,
          0.2809659090909091,
          0.2809659090909091,
          0.2809659090909091,
          0.28408839779005524,
          0.28639784946236563,
          0.2868449197860963,
          0.2868449197860963,
          0.28974093264248707,
          0.29323232323232323,
          0.2936548223350254,
          0.2936548223350254,
          0.2938265306122449,
          0.2938265306122449,
          0.2938265306122449,
          0.2938265306122449,
          0.29668316831683167,
          0.299375,
          0.299375,
          0.3,
          0.30019417475728155,
          0.30019417475728155,
          0.30097560975609755,
          0.30097560975609755,
          0.30379146919431277,
          0.30601851851851847,
          0.30722222222222223,
          0.30722222222222223,
          0.31000000000000005,
          0.3126315789473684,
          0.3126315789473684,
          0.3126315789473684,
          0.3126315789473684,
          0.3126315789473684,
          0.3126315789473684,
          0.3126315789473684,
          0.3153846153846154
         ],
         "yaxis": "y"
        },
        {
         "hovertemplate": "variable=Biomass furnace<br>scenario=BAU<br>year=%{x}<br>value=%{y}<extra></extra>",
         "legendgroup": "Biomass furnace",
         "line": {
          "color": "#00b9ba",
          "dash": "solid"
         },
         "marker": {
          "symbol": "circle"
         },
         "mode": "lines",
         "name": "Biomass furnace",
         "orientation": "v",
         "showlegend": true,
         "type": "scatter",
         "x": [
          2020,
          2020.25,
          2020.5,
          2020.75,
          2021,
          2021.25,
          2021.5,
          2021.75,
          2022,
          2022.25,
          2022.5,
          2022.75,
          2023,
          2023.25,
          2023.5,
          2023.75,
          2024,
          2024.25,
          2024.5,
          2024.75,
          2025,
          2025.25,
          2025.5,
          2025.75,
          2026,
          2026.25,
          2026.5,
          2026.75,
          2027,
          2027.25,
          2027.5,
          2027.75,
          2028,
          2028.25,
          2028.5,
          2028.75,
          2029,
          2029.25,
          2029.5,
          2029.75,
          2030,
          2030.25,
          2030.5,
          2030.75,
          2031,
          2031.25,
          2031.5,
          2031.75,
          2032,
          2032.25,
          2032.5,
          2032.75,
          2033,
          2033.25,
          2033.5,
          2033.75,
          2034,
          2034.25,
          2034.5,
          2034.75,
          2035,
          2035.25,
          2035.5,
          2035.75,
          2036,
          2036.25,
          2036.5,
          2036.75,
          2037,
          2037.25,
          2037.5,
          2037.75,
          2038,
          2038.25,
          2038.5,
          2038.75,
          2039,
          2039.25,
          2039.5,
          2039.75,
          2040,
          2040.25,
          2040.5,
          2040.75,
          2041,
          2041.25,
          2041.5,
          2041.75,
          2042,
          2042.25,
          2042.5,
          2042.75,
          2043,
          2043.25,
          2043.5,
          2043.75,
          2044,
          2044.25,
          2044.5,
          2044.75,
          2045,
          2045.25,
          2045.5,
          2045.75,
          2046,
          2046.25,
          2046.5,
          2046.75,
          2047,
          2047.25,
          2047.5,
          2047.75,
          2048,
          2048.25,
          2048.5,
          2048.75,
          2049,
          2049.25,
          2049.5,
          2049.75,
          2050
         ],
         "xaxis": "x",
         "y": [
          0.7200000000000001,
          0.7200000000000001,
          0.7200000000000001,
          0.7200000000000001,
          0.73,
          0.735,
          0.735,
          0.735,
          0.752,
          0.7633333333333333,
          0.7633333333333333,
          0.7633333333333333,
          0.7828571428571429,
          0.7975,
          0.7975,
          0.7975,
          0.7975,
          0.7975,
          0.7975,
          0.7975,
          0.7975,
          0.7975,
          0.7975,
          0.7975,
          0.7975,
          0.7975,
          0.7975,
          0.7975,
          0.7975,
          0.7975,
          0.7975,
          0.7975,
          0.7975,
          0.7975,
          0.7975,
          0.7975,
          0.7975,
          0.7975,
          0.7975,
          0.7975,
          0.81,
          0.8200000000000001,
          0.8200000000000001,
          0.8200000000000001,
          0.8200000000000001,
          0.8200000000000001,
          0.8200000000000001,
          0.8200000000000001,
          0.8200000000000001,
          0.8200000000000001,
          0.8200000000000001,
          0.8200000000000001,
          0.8200000000000001,
          0.8200000000000001,
          0.8200000000000001,
          0.8200000000000001,
          0.8200000000000001,
          0.8200000000000001,
          0.8200000000000001,
          0.8200000000000001,
          0.8200000000000001,
          0.8200000000000001,
          0.8200000000000001,
          0.8200000000000001,
          0.8200000000000001,
          0.8200000000000001,
          0.8200000000000001,
          0.8200000000000001,
          0.8200000000000001,
          0.8200000000000001,
          0.8200000000000001,
          0.8200000000000001,
          0.8200000000000001,
          0.8216949152542372,
          0.8216949152542372,
          0.8234482758620689,
          0.8234482758620689,
          0.8234482758620689,
          0.8234482758620689,
          0.8234482758620689,
          0.8234482758620689,
          0.8234482758620689,
          0.8234482758620689,
          0.8234482758620689,
          0.8247368421052631,
          0.8247368421052631,
          0.8247368421052631,
          0.8247368421052631,
          0.8248214285714285,
          0.8248214285714285,
          0.8248214285714285,
          0.8248214285714285,
          0.8248214285714285,
          0.8267272727272728,
          0.8267272727272728,
          0.8267272727272728,
          0.8267272727272728,
          0.8267272727272728,
          0.8267272727272728,
          0.8267272727272728,
          0.8267272727272728,
          0.8267272727272728,
          0.8267272727272728,
          0.8281481481481481,
          0.8281481481481481,
          0.8281481481481481,
          0.8301886792452831,
          0.8301886792452831,
          0.8301886792452831,
          0.8301886792452831,
          0.8323076923076923,
          0.8323076923076923,
          0.8323076923076923,
          0.8323076923076923,
          0.8323076923076923,
          0.8323076923076923,
          0.8323076923076923,
          0.8323076923076923,
          0.8323076923076923,
          0.8323076923076923,
          0.8323076923076923
         ],
         "yaxis": "y"
        }
       ],
       "layout": {
        "annotations": [
         {
          "font": {},
          "showarrow": false,
          "text": "scenario=BAU",
          "x": 0.5,
          "xanchor": "center",
          "xref": "paper",
          "y": 1,
          "yanchor": "bottom",
          "yref": "paper"
         }
        ],
        "font": {
         "family": "cm",
         "size": 18
        },
        "legend": {
         "bordercolor": "gray",
         "borderwidth": 2,
         "title": {
          "text": "Technologies"
         },
         "tracegroupgap": 0,
         "traceorder": "reversed",
         "x": 0.3,
         "y": 0.88
        },
        "margin": {
         "t": 60
        },
        "plot_bgcolor": "white",
        "template": {
         "data": {
          "bar": [
           {
            "error_x": {
             "color": "#2a3f5f"
            },
            "error_y": {
             "color": "#2a3f5f"
            },
            "marker": {
             "line": {
              "color": "#E5ECF6",
              "width": 0.5
             },
             "pattern": {
              "fillmode": "overlay",
              "size": 10,
              "solidity": 0.2
             }
            },
            "type": "bar"
           }
          ],
          "barpolar": [
           {
            "marker": {
             "line": {
              "color": "#E5ECF6",
              "width": 0.5
             },
             "pattern": {
              "fillmode": "overlay",
              "size": 10,
              "solidity": 0.2
             }
            },
            "type": "barpolar"
           }
          ],
          "carpet": [
           {
            "aaxis": {
             "endlinecolor": "#2a3f5f",
             "gridcolor": "white",
             "linecolor": "white",
             "minorgridcolor": "white",
             "startlinecolor": "#2a3f5f"
            },
            "baxis": {
             "endlinecolor": "#2a3f5f",
             "gridcolor": "white",
             "linecolor": "white",
             "minorgridcolor": "white",
             "startlinecolor": "#2a3f5f"
            },
            "type": "carpet"
           }
          ],
          "choropleth": [
           {
            "colorbar": {
             "outlinewidth": 0,
             "ticks": ""
            },
            "type": "choropleth"
           }
          ],
          "contour": [
           {
            "colorbar": {
             "outlinewidth": 0,
             "ticks": ""
            },
            "colorscale": [
             [
              0,
              "#0d0887"
             ],
             [
              0.1111111111111111,
              "#46039f"
             ],
             [
              0.2222222222222222,
              "#7201a8"
             ],
             [
              0.3333333333333333,
              "#9c179e"
             ],
             [
              0.4444444444444444,
              "#bd3786"
             ],
             [
              0.5555555555555556,
              "#d8576b"
             ],
             [
              0.6666666666666666,
              "#ed7953"
             ],
             [
              0.7777777777777778,
              "#fb9f3a"
             ],
             [
              0.8888888888888888,
              "#fdca26"
             ],
             [
              1,
              "#f0f921"
             ]
            ],
            "type": "contour"
           }
          ],
          "contourcarpet": [
           {
            "colorbar": {
             "outlinewidth": 0,
             "ticks": ""
            },
            "type": "contourcarpet"
           }
          ],
          "heatmap": [
           {
            "colorbar": {
             "outlinewidth": 0,
             "ticks": ""
            },
            "colorscale": [
             [
              0,
              "#0d0887"
             ],
             [
              0.1111111111111111,
              "#46039f"
             ],
             [
              0.2222222222222222,
              "#7201a8"
             ],
             [
              0.3333333333333333,
              "#9c179e"
             ],
             [
              0.4444444444444444,
              "#bd3786"
             ],
             [
              0.5555555555555556,
              "#d8576b"
             ],
             [
              0.6666666666666666,
              "#ed7953"
             ],
             [
              0.7777777777777778,
              "#fb9f3a"
             ],
             [
              0.8888888888888888,
              "#fdca26"
             ],
             [
              1,
              "#f0f921"
             ]
            ],
            "type": "heatmap"
           }
          ],
          "heatmapgl": [
           {
            "colorbar": {
             "outlinewidth": 0,
             "ticks": ""
            },
            "colorscale": [
             [
              0,
              "#0d0887"
             ],
             [
              0.1111111111111111,
              "#46039f"
             ],
             [
              0.2222222222222222,
              "#7201a8"
             ],
             [
              0.3333333333333333,
              "#9c179e"
             ],
             [
              0.4444444444444444,
              "#bd3786"
             ],
             [
              0.5555555555555556,
              "#d8576b"
             ],
             [
              0.6666666666666666,
              "#ed7953"
             ],
             [
              0.7777777777777778,
              "#fb9f3a"
             ],
             [
              0.8888888888888888,
              "#fdca26"
             ],
             [
              1,
              "#f0f921"
             ]
            ],
            "type": "heatmapgl"
           }
          ],
          "histogram": [
           {
            "marker": {
             "pattern": {
              "fillmode": "overlay",
              "size": 10,
              "solidity": 0.2
             }
            },
            "type": "histogram"
           }
          ],
          "histogram2d": [
           {
            "colorbar": {
             "outlinewidth": 0,
             "ticks": ""
            },
            "colorscale": [
             [
              0,
              "#0d0887"
             ],
             [
              0.1111111111111111,
              "#46039f"
             ],
             [
              0.2222222222222222,
              "#7201a8"
             ],
             [
              0.3333333333333333,
              "#9c179e"
             ],
             [
              0.4444444444444444,
              "#bd3786"
             ],
             [
              0.5555555555555556,
              "#d8576b"
             ],
             [
              0.6666666666666666,
              "#ed7953"
             ],
             [
              0.7777777777777778,
              "#fb9f3a"
             ],
             [
              0.8888888888888888,
              "#fdca26"
             ],
             [
              1,
              "#f0f921"
             ]
            ],
            "type": "histogram2d"
           }
          ],
          "histogram2dcontour": [
           {
            "colorbar": {
             "outlinewidth": 0,
             "ticks": ""
            },
            "colorscale": [
             [
              0,
              "#0d0887"
             ],
             [
              0.1111111111111111,
              "#46039f"
             ],
             [
              0.2222222222222222,
              "#7201a8"
             ],
             [
              0.3333333333333333,
              "#9c179e"
             ],
             [
              0.4444444444444444,
              "#bd3786"
             ],
             [
              0.5555555555555556,
              "#d8576b"
             ],
             [
              0.6666666666666666,
              "#ed7953"
             ],
             [
              0.7777777777777778,
              "#fb9f3a"
             ],
             [
              0.8888888888888888,
              "#fdca26"
             ],
             [
              1,
              "#f0f921"
             ]
            ],
            "type": "histogram2dcontour"
           }
          ],
          "mesh3d": [
           {
            "colorbar": {
             "outlinewidth": 0,
             "ticks": ""
            },
            "type": "mesh3d"
           }
          ],
          "parcoords": [
           {
            "line": {
             "colorbar": {
              "outlinewidth": 0,
              "ticks": ""
             }
            },
            "type": "parcoords"
           }
          ],
          "pie": [
           {
            "automargin": true,
            "type": "pie"
           }
          ],
          "scatter": [
           {
            "fillpattern": {
             "fillmode": "overlay",
             "size": 10,
             "solidity": 0.2
            },
            "type": "scatter"
           }
          ],
          "scatter3d": [
           {
            "line": {
             "colorbar": {
              "outlinewidth": 0,
              "ticks": ""
             }
            },
            "marker": {
             "colorbar": {
              "outlinewidth": 0,
              "ticks": ""
             }
            },
            "type": "scatter3d"
           }
          ],
          "scattercarpet": [
           {
            "marker": {
             "colorbar": {
              "outlinewidth": 0,
              "ticks": ""
             }
            },
            "type": "scattercarpet"
           }
          ],
          "scattergeo": [
           {
            "marker": {
             "colorbar": {
              "outlinewidth": 0,
              "ticks": ""
             }
            },
            "type": "scattergeo"
           }
          ],
          "scattergl": [
           {
            "marker": {
             "colorbar": {
              "outlinewidth": 0,
              "ticks": ""
             }
            },
            "type": "scattergl"
           }
          ],
          "scattermapbox": [
           {
            "marker": {
             "colorbar": {
              "outlinewidth": 0,
              "ticks": ""
             }
            },
            "type": "scattermapbox"
           }
          ],
          "scatterpolar": [
           {
            "marker": {
             "colorbar": {
              "outlinewidth": 0,
              "ticks": ""
             }
            },
            "type": "scatterpolar"
           }
          ],
          "scatterpolargl": [
           {
            "marker": {
             "colorbar": {
              "outlinewidth": 0,
              "ticks": ""
             }
            },
            "type": "scatterpolargl"
           }
          ],
          "scatterternary": [
           {
            "marker": {
             "colorbar": {
              "outlinewidth": 0,
              "ticks": ""
             }
            },
            "type": "scatterternary"
           }
          ],
          "surface": [
           {
            "colorbar": {
             "outlinewidth": 0,
             "ticks": ""
            },
            "colorscale": [
             [
              0,
              "#0d0887"
             ],
             [
              0.1111111111111111,
              "#46039f"
             ],
             [
              0.2222222222222222,
              "#7201a8"
             ],
             [
              0.3333333333333333,
              "#9c179e"
             ],
             [
              0.4444444444444444,
              "#bd3786"
             ],
             [
              0.5555555555555556,
              "#d8576b"
             ],
             [
              0.6666666666666666,
              "#ed7953"
             ],
             [
              0.7777777777777778,
              "#fb9f3a"
             ],
             [
              0.8888888888888888,
              "#fdca26"
             ],
             [
              1,
              "#f0f921"
             ]
            ],
            "type": "surface"
           }
          ],
          "table": [
           {
            "cells": {
             "fill": {
              "color": "#EBF0F8"
             },
             "line": {
              "color": "white"
             }
            },
            "header": {
             "fill": {
              "color": "#C8D4E3"
             },
             "line": {
              "color": "white"
             }
            },
            "type": "table"
           }
          ]
         },
         "layout": {
          "annotationdefaults": {
           "arrowcolor": "#2a3f5f",
           "arrowhead": 0,
           "arrowwidth": 1
          },
          "autotypenumbers": "strict",
          "coloraxis": {
           "colorbar": {
            "outlinewidth": 0,
            "ticks": ""
           }
          },
          "colorscale": {
           "diverging": [
            [
             0,
             "#8e0152"
            ],
            [
             0.1,
             "#c51b7d"
            ],
            [
             0.2,
             "#de77ae"
            ],
            [
             0.3,
             "#f1b6da"
            ],
            [
             0.4,
             "#fde0ef"
            ],
            [
             0.5,
             "#f7f7f7"
            ],
            [
             0.6,
             "#e6f5d0"
            ],
            [
             0.7,
             "#b8e186"
            ],
            [
             0.8,
             "#7fbc41"
            ],
            [
             0.9,
             "#4d9221"
            ],
            [
             1,
             "#276419"
            ]
           ],
           "sequential": [
            [
             0,
             "#0d0887"
            ],
            [
             0.1111111111111111,
             "#46039f"
            ],
            [
             0.2222222222222222,
             "#7201a8"
            ],
            [
             0.3333333333333333,
             "#9c179e"
            ],
            [
             0.4444444444444444,
             "#bd3786"
            ],
            [
             0.5555555555555556,
             "#d8576b"
            ],
            [
             0.6666666666666666,
             "#ed7953"
            ],
            [
             0.7777777777777778,
             "#fb9f3a"
            ],
            [
             0.8888888888888888,
             "#fdca26"
            ],
            [
             1,
             "#f0f921"
            ]
           ],
           "sequentialminus": [
            [
             0,
             "#0d0887"
            ],
            [
             0.1111111111111111,
             "#46039f"
            ],
            [
             0.2222222222222222,
             "#7201a8"
            ],
            [
             0.3333333333333333,
             "#9c179e"
            ],
            [
             0.4444444444444444,
             "#bd3786"
            ],
            [
             0.5555555555555556,
             "#d8576b"
            ],
            [
             0.6666666666666666,
             "#ed7953"
            ],
            [
             0.7777777777777778,
             "#fb9f3a"
            ],
            [
             0.8888888888888888,
             "#fdca26"
            ],
            [
             1,
             "#f0f921"
            ]
           ]
          },
          "colorway": [
           "#636efa",
           "#EF553B",
           "#00cc96",
           "#ab63fa",
           "#FFA15A",
           "#19d3f3",
           "#FF6692",
           "#B6E880",
           "#FF97FF",
           "#FECB52"
          ],
          "font": {
           "color": "#2a3f5f"
          },
          "geo": {
           "bgcolor": "white",
           "lakecolor": "white",
           "landcolor": "#E5ECF6",
           "showlakes": true,
           "showland": true,
           "subunitcolor": "white"
          },
          "hoverlabel": {
           "align": "left"
          },
          "hovermode": "closest",
          "mapbox": {
           "style": "light"
          },
          "paper_bgcolor": "white",
          "plot_bgcolor": "#E5ECF6",
          "polar": {
           "angularaxis": {
            "gridcolor": "white",
            "linecolor": "white",
            "ticks": ""
           },
           "bgcolor": "#E5ECF6",
           "radialaxis": {
            "gridcolor": "white",
            "linecolor": "white",
            "ticks": ""
           }
          },
          "scene": {
           "xaxis": {
            "backgroundcolor": "#E5ECF6",
            "gridcolor": "white",
            "gridwidth": 2,
            "linecolor": "white",
            "showbackground": true,
            "ticks": "",
            "zerolinecolor": "white"
           },
           "yaxis": {
            "backgroundcolor": "#E5ECF6",
            "gridcolor": "white",
            "gridwidth": 2,
            "linecolor": "white",
            "showbackground": true,
            "ticks": "",
            "zerolinecolor": "white"
           },
           "zaxis": {
            "backgroundcolor": "#E5ECF6",
            "gridcolor": "white",
            "gridwidth": 2,
            "linecolor": "white",
            "showbackground": true,
            "ticks": "",
            "zerolinecolor": "white"
           }
          },
          "shapedefaults": {
           "line": {
            "color": "#2a3f5f"
           }
          },
          "ternary": {
           "aaxis": {
            "gridcolor": "white",
            "linecolor": "white",
            "ticks": ""
           },
           "baxis": {
            "gridcolor": "white",
            "linecolor": "white",
            "ticks": ""
           },
           "bgcolor": "#E5ECF6",
           "caxis": {
            "gridcolor": "white",
            "linecolor": "white",
            "ticks": ""
           }
          },
          "title": {
           "x": 0.05
          },
          "xaxis": {
           "automargin": true,
           "gridcolor": "white",
           "linecolor": "white",
           "ticks": "",
           "title": {
            "standoff": 15
           },
           "zerolinecolor": "white",
           "zerolinewidth": 2
          },
          "yaxis": {
           "automargin": true,
           "gridcolor": "white",
           "linecolor": "white",
           "ticks": "",
           "title": {
            "standoff": 15
           },
           "zerolinecolor": "white",
           "zerolinewidth": 2
          }
         }
        },
        "width": 500,
        "xaxis": {
         "anchor": "y",
         "domain": [
          0,
          1
         ],
         "gridcolor": "lightgrey",
         "linecolor": "black",
         "mirror": true,
         "showline": true,
         "ticks": "outside",
         "title": {
          "text": "year"
         }
        },
        "yaxis": {
         "anchor": "x",
         "domain": [
          0,
          1
         ],
         "gridcolor": "lightgrey",
         "linecolor": "black",
         "mirror": true,
         "showline": true,
         "ticks": "outside",
         "title": {
          "text": "LCOH (CAD/kWh)"
         }
        }
       }
      }
     },
     "metadata": {},
     "output_type": "display_data"
    }
   ],
   "source": [
    "scenario_lcohs[\"variable\"] = scenario_lcohs[\"variable\"].str.replace(\"Wood or wood pellets\", \"Biomass\")\n",
    "fig = sciencify_plotly_fig(\n",
    "    px.line(\n",
    "        scenario_lcohs.query(\"scenario=='BAU'\"),\n",
    "        x=\"year\",\n",
    "        y=\"value\",\n",
    "        color=\"variable\",\n",
    "        facet_col=\"scenario\",\n",
    "        template=\"plotly\",\n",
    "        color_discrete_map=ABM_colors,\n",
    "        width=500\n",
    "    )\n",
    ")\n",
    "fig.update_layout(\n",
    "    yaxis_title=\"LCOH (CAD/kWh)\",\n",
    "    legend=dict(\n",
    "        title_text=\"Technologies\",\n",
    "        bordercolor=\"gray\",\n",
    "        borderwidth=2,\n",
    "        x=0.3,\n",
    "        y=0.88,\n",
    "        traceorder=\"reversed\",\n",
    "    ),\n",
    "    width=500,\n",
    "    font_family=\"cm\",\n",
    "    font_size=18\n",
    ")\n",
    "fig.write_image(\"abm_lcoh.svg\")\n",
    "fig.write_image(\"abm_lcoh.pdf\")\n",
    "fig"
   ]
  },
  {
   "cell_type": "markdown",
   "metadata": {},
   "source": [
    "## Copper: demands/supplied energy"
   ]
  },
  {
   "cell_type": "code",
   "execution_count": 2,
   "metadata": {},
   "outputs": [],
   "source": [
    "from copper.phases.postprocessing import get_all_supply\n",
    "\n",
    "total_demand_dfs = []\n",
    "peak_supply_dfs = []\n",
    "supply_dfs = []\n",
    "supply_share_dfs = []\n",
    "for scenario in result_df.Scenario.unique():\n",
    "    path = result_df.query(f\"iteration==1 and Scenario=='{scenario}'\")[\"ESM path\"].values[0]\n",
    "    sup_df = get_all_supply(path)\n",
    "\n",
    "    total_supply = sup_df.groupby([\"pds\"])[[\"value\"]].sum().reset_index()\n",
    "    total_supply[\"scenario\"] = scenario\n",
    "    total_supply_dfs.append(total_supply)\n",
    "    \n",
    "    peak_demand = sup_df.groupby([\"pds\",\"h\"])[[\"value\"]].sum().reset_index().groupby(\"pds\").max().reset_index().drop(\"h\", axis=1)\n",
    "    peak_demand[\"scenario\"] = scenario\n",
    "    peak_supply_dfs.append(peak_demand)\n",
    "\n",
    "    supply_share_by_type = sup_df.groupby([\"pds\",\"Type\"]).sum()/sup_df.groupby([\"pds\"]).sum()\n",
    "    is_supply = supply_share_by_type.reset_index()[\"value\"] > 0\n",
    "    supply_share_by_type = supply_share_by_type.reset_index().loc[is_supply,:]\n",
    "    supply_share_by_type[\"scenario\"] = scenario\n",
    "    supply_share_dfs.append(supply_share_by_type)\n",
    "    \n",
    "    sup_df[\"scenario\"] = scenario\n",
    "    supply_dfs.append(sup_df)\n",
    "\n",
    "scen_supply_df = pd.concat(supply_dfs)\n",
    "scen_total_demand_df = pd.concat(total_supply_dfs)    \n",
    "scen_peak_supply_df = pd.concat(peak_supply_dfs)\n",
    "scen_supply_share_df = pd.concat(supply_share_dfs)    "
   ]
  },
  {
   "cell_type": "code",
   "execution_count": 36,
   "id": "01HXRY9JD4F5N705YTVJRC9TFH",
   "metadata": {},
   "outputs": [],
   "source": [
    "sup_df = get_all_supply(\"copper/results/BAU_scenario_20240513_1405\")\n",
    "copper_demand_peaks_long = sup_df.groupby([\"pds\",\"h\"]).sum().groupby(\"pds\").max().reset_index()\n",
    "copper_demand_peaks_long[\"scenario\"] = \"COPPER projection\""
   ]
  },
  {
   "cell_type": "code",
   "execution_count": 72,
   "id": "01HXS3X1HDZ1FEP571AXAYVKCB",
   "metadata": {},
   "outputs": [
    {
     "data": {
      "text/html": [
       "<div>\n",
       "<style scoped>\n",
       "    .dataframe tbody tr th:only-of-type {\n",
       "        vertical-align: middle;\n",
       "    }\n",
       "\n",
       "    .dataframe tbody tr th {\n",
       "        vertical-align: top;\n",
       "    }\n",
       "\n",
       "    .dataframe thead th {\n",
       "        text-align: right;\n",
       "    }\n",
       "</style>\n",
       "<table border=\"1\" class=\"dataframe\">\n",
       "  <thead>\n",
       "    <tr style=\"text-align: right;\">\n",
       "      <th></th>\n",
       "      <th>value</th>\n",
       "      <th>pds</th>\n",
       "      <th>scenario</th>\n",
       "    </tr>\n",
       "  </thead>\n",
       "  <tbody>\n",
       "    <tr>\n",
       "      <th>0</th>\n",
       "      <td>19968.594892</td>\n",
       "      <td>2020</td>\n",
       "      <td>BAU</td>\n",
       "    </tr>\n",
       "    <tr>\n",
       "      <th>1</th>\n",
       "      <td>22134.823838</td>\n",
       "      <td>2025</td>\n",
       "      <td>BAU</td>\n",
       "    </tr>\n",
       "    <tr>\n",
       "      <th>2</th>\n",
       "      <td>26960.786891</td>\n",
       "      <td>2030</td>\n",
       "      <td>BAU</td>\n",
       "    </tr>\n",
       "    <tr>\n",
       "      <th>3</th>\n",
       "      <td>34320.579732</td>\n",
       "      <td>2035</td>\n",
       "      <td>BAU</td>\n",
       "    </tr>\n",
       "    <tr>\n",
       "      <th>4</th>\n",
       "      <td>41681.230437</td>\n",
       "      <td>2040</td>\n",
       "      <td>BAU</td>\n",
       "    </tr>\n",
       "    <tr>\n",
       "      <th>5</th>\n",
       "      <td>48259.357777</td>\n",
       "      <td>2045</td>\n",
       "      <td>BAU</td>\n",
       "    </tr>\n",
       "    <tr>\n",
       "      <th>6</th>\n",
       "      <td>53888.418223</td>\n",
       "      <td>2050</td>\n",
       "      <td>BAU</td>\n",
       "    </tr>\n",
       "    <tr>\n",
       "      <th>0</th>\n",
       "      <td>19932.817484</td>\n",
       "      <td>2020</td>\n",
       "      <td>CER</td>\n",
       "    </tr>\n",
       "    <tr>\n",
       "      <th>1</th>\n",
       "      <td>21899.414912</td>\n",
       "      <td>2025</td>\n",
       "      <td>CER</td>\n",
       "    </tr>\n",
       "    <tr>\n",
       "      <th>2</th>\n",
       "      <td>26549.952894</td>\n",
       "      <td>2030</td>\n",
       "      <td>CER</td>\n",
       "    </tr>\n",
       "    <tr>\n",
       "      <th>3</th>\n",
       "      <td>33785.157025</td>\n",
       "      <td>2035</td>\n",
       "      <td>CER</td>\n",
       "    </tr>\n",
       "    <tr>\n",
       "      <th>4</th>\n",
       "      <td>40885.247858</td>\n",
       "      <td>2040</td>\n",
       "      <td>CER</td>\n",
       "    </tr>\n",
       "    <tr>\n",
       "      <th>5</th>\n",
       "      <td>46964.057055</td>\n",
       "      <td>2045</td>\n",
       "      <td>CER</td>\n",
       "    </tr>\n",
       "    <tr>\n",
       "      <th>6</th>\n",
       "      <td>52090.771503</td>\n",
       "      <td>2050</td>\n",
       "      <td>CER</td>\n",
       "    </tr>\n",
       "    <tr>\n",
       "      <th>0</th>\n",
       "      <td>19928.961386</td>\n",
       "      <td>2020</td>\n",
       "      <td>CER+</td>\n",
       "    </tr>\n",
       "    <tr>\n",
       "      <th>1</th>\n",
       "      <td>21803.762676</td>\n",
       "      <td>2025</td>\n",
       "      <td>CER+</td>\n",
       "    </tr>\n",
       "    <tr>\n",
       "      <th>2</th>\n",
       "      <td>26346.583854</td>\n",
       "      <td>2030</td>\n",
       "      <td>CER+</td>\n",
       "    </tr>\n",
       "    <tr>\n",
       "      <th>3</th>\n",
       "      <td>35786.565376</td>\n",
       "      <td>2035</td>\n",
       "      <td>CER+</td>\n",
       "    </tr>\n",
       "    <tr>\n",
       "      <th>4</th>\n",
       "      <td>43747.614568</td>\n",
       "      <td>2040</td>\n",
       "      <td>CER+</td>\n",
       "    </tr>\n",
       "    <tr>\n",
       "      <th>5</th>\n",
       "      <td>49412.007446</td>\n",
       "      <td>2045</td>\n",
       "      <td>CER+</td>\n",
       "    </tr>\n",
       "    <tr>\n",
       "      <th>6</th>\n",
       "      <td>53873.702089</td>\n",
       "      <td>2050</td>\n",
       "      <td>CER+</td>\n",
       "    </tr>\n",
       "    <tr>\n",
       "      <th>0</th>\n",
       "      <td>19891.083682</td>\n",
       "      <td>2020</td>\n",
       "      <td>Rapid</td>\n",
       "    </tr>\n",
       "    <tr>\n",
       "      <th>1</th>\n",
       "      <td>21398.812566</td>\n",
       "      <td>2025</td>\n",
       "      <td>Rapid</td>\n",
       "    </tr>\n",
       "    <tr>\n",
       "      <th>2</th>\n",
       "      <td>25072.718408</td>\n",
       "      <td>2030</td>\n",
       "      <td>Rapid</td>\n",
       "    </tr>\n",
       "    <tr>\n",
       "      <th>3</th>\n",
       "      <td>30686.380405</td>\n",
       "      <td>2035</td>\n",
       "      <td>Rapid</td>\n",
       "    </tr>\n",
       "    <tr>\n",
       "      <th>4</th>\n",
       "      <td>36087.845267</td>\n",
       "      <td>2040</td>\n",
       "      <td>Rapid</td>\n",
       "    </tr>\n",
       "    <tr>\n",
       "      <th>5</th>\n",
       "      <td>39950.300292</td>\n",
       "      <td>2045</td>\n",
       "      <td>Rapid</td>\n",
       "    </tr>\n",
       "    <tr>\n",
       "      <th>6</th>\n",
       "      <td>43379.169072</td>\n",
       "      <td>2050</td>\n",
       "      <td>Rapid</td>\n",
       "    </tr>\n",
       "    <tr>\n",
       "      <th>0</th>\n",
       "      <td>19837.929854</td>\n",
       "      <td>2020</td>\n",
       "      <td>Rapid+</td>\n",
       "    </tr>\n",
       "    <tr>\n",
       "      <th>1</th>\n",
       "      <td>21273.842859</td>\n",
       "      <td>2025</td>\n",
       "      <td>Rapid+</td>\n",
       "    </tr>\n",
       "    <tr>\n",
       "      <th>2</th>\n",
       "      <td>25581.278044</td>\n",
       "      <td>2030</td>\n",
       "      <td>Rapid+</td>\n",
       "    </tr>\n",
       "    <tr>\n",
       "      <th>3</th>\n",
       "      <td>31341.047624</td>\n",
       "      <td>2035</td>\n",
       "      <td>Rapid+</td>\n",
       "    </tr>\n",
       "    <tr>\n",
       "      <th>4</th>\n",
       "      <td>36647.866226</td>\n",
       "      <td>2040</td>\n",
       "      <td>Rapid+</td>\n",
       "    </tr>\n",
       "    <tr>\n",
       "      <th>5</th>\n",
       "      <td>40346.313608</td>\n",
       "      <td>2045</td>\n",
       "      <td>Rapid+</td>\n",
       "    </tr>\n",
       "    <tr>\n",
       "      <th>6</th>\n",
       "      <td>43385.681911</td>\n",
       "      <td>2050</td>\n",
       "      <td>Rapid+</td>\n",
       "    </tr>\n",
       "  </tbody>\n",
       "</table>\n",
       "</div>"
      ],
      "text/plain": [
       "          value   pds scenario\n",
       "0  19968.594892  2020      BAU\n",
       "1  22134.823838  2025      BAU\n",
       "2  26960.786891  2030      BAU\n",
       "3  34320.579732  2035      BAU\n",
       "4  41681.230437  2040      BAU\n",
       "5  48259.357777  2045      BAU\n",
       "6  53888.418223  2050      BAU\n",
       "0  19932.817484  2020      CER\n",
       "1  21899.414912  2025      CER\n",
       "2  26549.952894  2030      CER\n",
       "3  33785.157025  2035      CER\n",
       "4  40885.247858  2040      CER\n",
       "5  46964.057055  2045      CER\n",
       "6  52090.771503  2050      CER\n",
       "0  19928.961386  2020     CER+\n",
       "1  21803.762676  2025     CER+\n",
       "2  26346.583854  2030     CER+\n",
       "3  35786.565376  2035     CER+\n",
       "4  43747.614568  2040     CER+\n",
       "5  49412.007446  2045     CER+\n",
       "6  53873.702089  2050     CER+\n",
       "0  19891.083682  2020    Rapid\n",
       "1  21398.812566  2025    Rapid\n",
       "2  25072.718408  2030    Rapid\n",
       "3  30686.380405  2035    Rapid\n",
       "4  36087.845267  2040    Rapid\n",
       "5  39950.300292  2045    Rapid\n",
       "6  43379.169072  2050    Rapid\n",
       "0  19837.929854  2020   Rapid+\n",
       "1  21273.842859  2025   Rapid+\n",
       "2  25581.278044  2030   Rapid+\n",
       "3  31341.047624  2035   Rapid+\n",
       "4  36647.866226  2040   Rapid+\n",
       "5  40346.313608  2045   Rapid+\n",
       "6  43385.681911  2050   Rapid+"
      ]
     },
     "execution_count": 72,
     "metadata": {},
     "output_type": "execute_result"
    }
   ],
   "source": [
    "from main import add_abm_demand_to_projection, spread_model_demand\n",
    "demands = []\n",
    "for scenario, scen_df in scenario_fuel_demands.groupby(\"scenario\"):\n",
    "    scen_name = \"BAU_scenario\" if scenario==\"BAU\" else \"CER_scenario\"\n",
    "    demand_projection = add_abm_demand_to_projection(scen_df, scen_name).max().reset_index()\n",
    "    demand_projection[\"pds\"] = demand_projection[\"index\"].str.split(\".\", expand=True)[1].astype(int)\n",
    "    demand_projection[\"scenario\"] = scenario\n",
    "    demands.append(demand_projection)\n",
    "\n",
    "scen_peak_demand_df = pd.concat(demands).rename({0:\"value\"}, axis=1).drop(\"index\", axis=1)\n",
    "scen_peak_demand_df\n"
   ]
  },
  {
   "cell_type": "code",
   "execution_count": 74,
   "id": "01HXRW2MEHF3FWC6NTCGEQERMF",
   "metadata": {},
   "outputs": [
    {
     "data": {
      "application/vnd.plotly.v1+json": {
       "config": {
        "plotlyServerURL": "https://plot.ly"
       },
       "data": [
        {
         "hovertemplate": "scenario=BAU<br>province=Ontario<br>pds=%{x}<br>value=%{y}<extra></extra>",
         "legendgroup": "BAU",
         "line": {
          "color": "#636efa",
          "dash": "solid"
         },
         "marker": {
          "symbol": "circle"
         },
         "mode": "lines",
         "name": "BAU",
         "orientation": "v",
         "showlegend": true,
         "type": "scatter",
         "x": [
          2020,
          2025,
          2030,
          2035,
          2040,
          2045,
          2050
         ],
         "xaxis": "x",
         "y": [
          19.968594891989277,
          22.134823838327392,
          26.96078689065405,
          34.32057973246272,
          41.681230437268084,
          48.259357777344604,
          53.88841822273542
         ],
         "yaxis": "y"
        },
        {
         "hovertemplate": "scenario=CER<br>province=Ontario<br>pds=%{x}<br>value=%{y}<extra></extra>",
         "legendgroup": "CER",
         "line": {
          "color": "#EF553B",
          "dash": "solid"
         },
         "marker": {
          "symbol": "circle"
         },
         "mode": "lines",
         "name": "CER",
         "orientation": "v",
         "showlegend": true,
         "type": "scatter",
         "x": [
          2020,
          2025,
          2030,
          2035,
          2040,
          2045,
          2050
         ],
         "xaxis": "x",
         "y": [
          19.932817483959102,
          21.899414911871954,
          26.549952893813483,
          33.78515702536219,
          40.88524785756219,
          46.96405705471948,
          52.09077150259782
         ],
         "yaxis": "y"
        },
        {
         "hovertemplate": "scenario=CER+<br>province=Ontario<br>pds=%{x}<br>value=%{y}<extra></extra>",
         "legendgroup": "CER+",
         "line": {
          "color": "#00cc96",
          "dash": "solid"
         },
         "marker": {
          "symbol": "circle"
         },
         "mode": "lines",
         "name": "CER+",
         "orientation": "v",
         "showlegend": true,
         "type": "scatter",
         "x": [
          2020,
          2025,
          2030,
          2035,
          2040,
          2045,
          2050
         ],
         "xaxis": "x",
         "y": [
          19.928961386449906,
          21.803762676368898,
          26.34658385384108,
          35.78656537629706,
          43.74761456848298,
          49.41200744609821,
          53.87370208907316
         ],
         "yaxis": "y"
        },
        {
         "hovertemplate": "scenario=Rapid<br>province=Ontario<br>pds=%{x}<br>value=%{y}<extra></extra>",
         "legendgroup": "Rapid",
         "line": {
          "color": "#ab63fa",
          "dash": "solid"
         },
         "marker": {
          "symbol": "circle"
         },
         "mode": "lines",
         "name": "Rapid",
         "orientation": "v",
         "showlegend": true,
         "type": "scatter",
         "x": [
          2020,
          2025,
          2030,
          2035,
          2040,
          2045,
          2050
         ],
         "xaxis": "x",
         "y": [
          19.89108368245574,
          21.398812565974715,
          25.07271840834334,
          30.686380405485416,
          36.08784526738538,
          39.950300292272885,
          43.379169071807745
         ],
         "yaxis": "y"
        },
        {
         "hovertemplate": "scenario=Rapid+<br>province=Ontario<br>pds=%{x}<br>value=%{y}<extra></extra>",
         "legendgroup": "Rapid+",
         "line": {
          "color": "#FFA15A",
          "dash": "solid"
         },
         "marker": {
          "symbol": "circle"
         },
         "mode": "lines",
         "name": "Rapid+",
         "orientation": "v",
         "showlegend": true,
         "type": "scatter",
         "x": [
          2020,
          2025,
          2030,
          2035,
          2040,
          2045,
          2050
         ],
         "xaxis": "x",
         "y": [
          19.837929853939887,
          21.273842858617076,
          25.58127804350542,
          31.34104762359281,
          36.64786622602886,
          40.346313608457635,
          43.38568191059799
         ],
         "yaxis": "y"
        },
        {
         "hovertemplate": "scenario=COPPER projection<br>province=Ontario<br>pds=%{x}<br>value=%{y}<extra></extra>",
         "legendgroup": "COPPER projection",
         "line": {
          "color": "#19d3f3",
          "dash": "solid"
         },
         "marker": {
          "symbol": "circle"
         },
         "mode": "lines",
         "name": "COPPER projection",
         "orientation": "v",
         "showlegend": true,
         "type": "scatter",
         "x": [
          2025,
          2030,
          2035,
          2040,
          2045,
          2050
         ],
         "xaxis": "x",
         "y": [
          25.22096981464663,
          26.312742122763964,
          27.636088868144085,
          30.237850167968414,
          31.83302458198641,
          34.814130304068215
         ],
         "yaxis": "y"
        }
       ],
       "layout": {
        "annotations": [
         {
          "font": {},
          "showarrow": false,
          "text": "province=Ontario",
          "x": 0.5,
          "xanchor": "center",
          "xref": "paper",
          "y": 1,
          "yanchor": "bottom",
          "yref": "paper"
         }
        ],
        "font": {
         "family": "cm",
         "size": 18
        },
        "legend": {
         "bordercolor": "grey",
         "borderwidth": 2,
         "title": {},
         "tracegroupgap": 0,
         "x": 0.01,
         "y": 0.99
        },
        "margin": {
         "t": 60
        },
        "plot_bgcolor": "white",
        "template": {
         "data": {
          "bar": [
           {
            "error_x": {
             "color": "#2a3f5f"
            },
            "error_y": {
             "color": "#2a3f5f"
            },
            "marker": {
             "line": {
              "color": "#E5ECF6",
              "width": 0.5
             },
             "pattern": {
              "fillmode": "overlay",
              "size": 10,
              "solidity": 0.2
             }
            },
            "type": "bar"
           }
          ],
          "barpolar": [
           {
            "marker": {
             "line": {
              "color": "#E5ECF6",
              "width": 0.5
             },
             "pattern": {
              "fillmode": "overlay",
              "size": 10,
              "solidity": 0.2
             }
            },
            "type": "barpolar"
           }
          ],
          "carpet": [
           {
            "aaxis": {
             "endlinecolor": "#2a3f5f",
             "gridcolor": "white",
             "linecolor": "white",
             "minorgridcolor": "white",
             "startlinecolor": "#2a3f5f"
            },
            "baxis": {
             "endlinecolor": "#2a3f5f",
             "gridcolor": "white",
             "linecolor": "white",
             "minorgridcolor": "white",
             "startlinecolor": "#2a3f5f"
            },
            "type": "carpet"
           }
          ],
          "choropleth": [
           {
            "colorbar": {
             "outlinewidth": 0,
             "ticks": ""
            },
            "type": "choropleth"
           }
          ],
          "contour": [
           {
            "colorbar": {
             "outlinewidth": 0,
             "ticks": ""
            },
            "colorscale": [
             [
              0,
              "#0d0887"
             ],
             [
              0.1111111111111111,
              "#46039f"
             ],
             [
              0.2222222222222222,
              "#7201a8"
             ],
             [
              0.3333333333333333,
              "#9c179e"
             ],
             [
              0.4444444444444444,
              "#bd3786"
             ],
             [
              0.5555555555555556,
              "#d8576b"
             ],
             [
              0.6666666666666666,
              "#ed7953"
             ],
             [
              0.7777777777777778,
              "#fb9f3a"
             ],
             [
              0.8888888888888888,
              "#fdca26"
             ],
             [
              1,
              "#f0f921"
             ]
            ],
            "type": "contour"
           }
          ],
          "contourcarpet": [
           {
            "colorbar": {
             "outlinewidth": 0,
             "ticks": ""
            },
            "type": "contourcarpet"
           }
          ],
          "heatmap": [
           {
            "colorbar": {
             "outlinewidth": 0,
             "ticks": ""
            },
            "colorscale": [
             [
              0,
              "#0d0887"
             ],
             [
              0.1111111111111111,
              "#46039f"
             ],
             [
              0.2222222222222222,
              "#7201a8"
             ],
             [
              0.3333333333333333,
              "#9c179e"
             ],
             [
              0.4444444444444444,
              "#bd3786"
             ],
             [
              0.5555555555555556,
              "#d8576b"
             ],
             [
              0.6666666666666666,
              "#ed7953"
             ],
             [
              0.7777777777777778,
              "#fb9f3a"
             ],
             [
              0.8888888888888888,
              "#fdca26"
             ],
             [
              1,
              "#f0f921"
             ]
            ],
            "type": "heatmap"
           }
          ],
          "heatmapgl": [
           {
            "colorbar": {
             "outlinewidth": 0,
             "ticks": ""
            },
            "colorscale": [
             [
              0,
              "#0d0887"
             ],
             [
              0.1111111111111111,
              "#46039f"
             ],
             [
              0.2222222222222222,
              "#7201a8"
             ],
             [
              0.3333333333333333,
              "#9c179e"
             ],
             [
              0.4444444444444444,
              "#bd3786"
             ],
             [
              0.5555555555555556,
              "#d8576b"
             ],
             [
              0.6666666666666666,
              "#ed7953"
             ],
             [
              0.7777777777777778,
              "#fb9f3a"
             ],
             [
              0.8888888888888888,
              "#fdca26"
             ],
             [
              1,
              "#f0f921"
             ]
            ],
            "type": "heatmapgl"
           }
          ],
          "histogram": [
           {
            "marker": {
             "pattern": {
              "fillmode": "overlay",
              "size": 10,
              "solidity": 0.2
             }
            },
            "type": "histogram"
           }
          ],
          "histogram2d": [
           {
            "colorbar": {
             "outlinewidth": 0,
             "ticks": ""
            },
            "colorscale": [
             [
              0,
              "#0d0887"
             ],
             [
              0.1111111111111111,
              "#46039f"
             ],
             [
              0.2222222222222222,
              "#7201a8"
             ],
             [
              0.3333333333333333,
              "#9c179e"
             ],
             [
              0.4444444444444444,
              "#bd3786"
             ],
             [
              0.5555555555555556,
              "#d8576b"
             ],
             [
              0.6666666666666666,
              "#ed7953"
             ],
             [
              0.7777777777777778,
              "#fb9f3a"
             ],
             [
              0.8888888888888888,
              "#fdca26"
             ],
             [
              1,
              "#f0f921"
             ]
            ],
            "type": "histogram2d"
           }
          ],
          "histogram2dcontour": [
           {
            "colorbar": {
             "outlinewidth": 0,
             "ticks": ""
            },
            "colorscale": [
             [
              0,
              "#0d0887"
             ],
             [
              0.1111111111111111,
              "#46039f"
             ],
             [
              0.2222222222222222,
              "#7201a8"
             ],
             [
              0.3333333333333333,
              "#9c179e"
             ],
             [
              0.4444444444444444,
              "#bd3786"
             ],
             [
              0.5555555555555556,
              "#d8576b"
             ],
             [
              0.6666666666666666,
              "#ed7953"
             ],
             [
              0.7777777777777778,
              "#fb9f3a"
             ],
             [
              0.8888888888888888,
              "#fdca26"
             ],
             [
              1,
              "#f0f921"
             ]
            ],
            "type": "histogram2dcontour"
           }
          ],
          "mesh3d": [
           {
            "colorbar": {
             "outlinewidth": 0,
             "ticks": ""
            },
            "type": "mesh3d"
           }
          ],
          "parcoords": [
           {
            "line": {
             "colorbar": {
              "outlinewidth": 0,
              "ticks": ""
             }
            },
            "type": "parcoords"
           }
          ],
          "pie": [
           {
            "automargin": true,
            "type": "pie"
           }
          ],
          "scatter": [
           {
            "fillpattern": {
             "fillmode": "overlay",
             "size": 10,
             "solidity": 0.2
            },
            "type": "scatter"
           }
          ],
          "scatter3d": [
           {
            "line": {
             "colorbar": {
              "outlinewidth": 0,
              "ticks": ""
             }
            },
            "marker": {
             "colorbar": {
              "outlinewidth": 0,
              "ticks": ""
             }
            },
            "type": "scatter3d"
           }
          ],
          "scattercarpet": [
           {
            "marker": {
             "colorbar": {
              "outlinewidth": 0,
              "ticks": ""
             }
            },
            "type": "scattercarpet"
           }
          ],
          "scattergeo": [
           {
            "marker": {
             "colorbar": {
              "outlinewidth": 0,
              "ticks": ""
             }
            },
            "type": "scattergeo"
           }
          ],
          "scattergl": [
           {
            "marker": {
             "colorbar": {
              "outlinewidth": 0,
              "ticks": ""
             }
            },
            "type": "scattergl"
           }
          ],
          "scattermapbox": [
           {
            "marker": {
             "colorbar": {
              "outlinewidth": 0,
              "ticks": ""
             }
            },
            "type": "scattermapbox"
           }
          ],
          "scatterpolar": [
           {
            "marker": {
             "colorbar": {
              "outlinewidth": 0,
              "ticks": ""
             }
            },
            "type": "scatterpolar"
           }
          ],
          "scatterpolargl": [
           {
            "marker": {
             "colorbar": {
              "outlinewidth": 0,
              "ticks": ""
             }
            },
            "type": "scatterpolargl"
           }
          ],
          "scatterternary": [
           {
            "marker": {
             "colorbar": {
              "outlinewidth": 0,
              "ticks": ""
             }
            },
            "type": "scatterternary"
           }
          ],
          "surface": [
           {
            "colorbar": {
             "outlinewidth": 0,
             "ticks": ""
            },
            "colorscale": [
             [
              0,
              "#0d0887"
             ],
             [
              0.1111111111111111,
              "#46039f"
             ],
             [
              0.2222222222222222,
              "#7201a8"
             ],
             [
              0.3333333333333333,
              "#9c179e"
             ],
             [
              0.4444444444444444,
              "#bd3786"
             ],
             [
              0.5555555555555556,
              "#d8576b"
             ],
             [
              0.6666666666666666,
              "#ed7953"
             ],
             [
              0.7777777777777778,
              "#fb9f3a"
             ],
             [
              0.8888888888888888,
              "#fdca26"
             ],
             [
              1,
              "#f0f921"
             ]
            ],
            "type": "surface"
           }
          ],
          "table": [
           {
            "cells": {
             "fill": {
              "color": "#EBF0F8"
             },
             "line": {
              "color": "white"
             }
            },
            "header": {
             "fill": {
              "color": "#C8D4E3"
             },
             "line": {
              "color": "white"
             }
            },
            "type": "table"
           }
          ]
         },
         "layout": {
          "annotationdefaults": {
           "arrowcolor": "#2a3f5f",
           "arrowhead": 0,
           "arrowwidth": 1
          },
          "autotypenumbers": "strict",
          "coloraxis": {
           "colorbar": {
            "outlinewidth": 0,
            "ticks": ""
           }
          },
          "colorscale": {
           "diverging": [
            [
             0,
             "#8e0152"
            ],
            [
             0.1,
             "#c51b7d"
            ],
            [
             0.2,
             "#de77ae"
            ],
            [
             0.3,
             "#f1b6da"
            ],
            [
             0.4,
             "#fde0ef"
            ],
            [
             0.5,
             "#f7f7f7"
            ],
            [
             0.6,
             "#e6f5d0"
            ],
            [
             0.7,
             "#b8e186"
            ],
            [
             0.8,
             "#7fbc41"
            ],
            [
             0.9,
             "#4d9221"
            ],
            [
             1,
             "#276419"
            ]
           ],
           "sequential": [
            [
             0,
             "#0d0887"
            ],
            [
             0.1111111111111111,
             "#46039f"
            ],
            [
             0.2222222222222222,
             "#7201a8"
            ],
            [
             0.3333333333333333,
             "#9c179e"
            ],
            [
             0.4444444444444444,
             "#bd3786"
            ],
            [
             0.5555555555555556,
             "#d8576b"
            ],
            [
             0.6666666666666666,
             "#ed7953"
            ],
            [
             0.7777777777777778,
             "#fb9f3a"
            ],
            [
             0.8888888888888888,
             "#fdca26"
            ],
            [
             1,
             "#f0f921"
            ]
           ],
           "sequentialminus": [
            [
             0,
             "#0d0887"
            ],
            [
             0.1111111111111111,
             "#46039f"
            ],
            [
             0.2222222222222222,
             "#7201a8"
            ],
            [
             0.3333333333333333,
             "#9c179e"
            ],
            [
             0.4444444444444444,
             "#bd3786"
            ],
            [
             0.5555555555555556,
             "#d8576b"
            ],
            [
             0.6666666666666666,
             "#ed7953"
            ],
            [
             0.7777777777777778,
             "#fb9f3a"
            ],
            [
             0.8888888888888888,
             "#fdca26"
            ],
            [
             1,
             "#f0f921"
            ]
           ]
          },
          "colorway": [
           "#636efa",
           "#EF553B",
           "#00cc96",
           "#ab63fa",
           "#FFA15A",
           "#19d3f3",
           "#FF6692",
           "#B6E880",
           "#FF97FF",
           "#FECB52"
          ],
          "font": {
           "color": "#2a3f5f"
          },
          "geo": {
           "bgcolor": "white",
           "lakecolor": "white",
           "landcolor": "#E5ECF6",
           "showlakes": true,
           "showland": true,
           "subunitcolor": "white"
          },
          "hoverlabel": {
           "align": "left"
          },
          "hovermode": "closest",
          "mapbox": {
           "style": "light"
          },
          "paper_bgcolor": "white",
          "plot_bgcolor": "#E5ECF6",
          "polar": {
           "angularaxis": {
            "gridcolor": "white",
            "linecolor": "white",
            "ticks": ""
           },
           "bgcolor": "#E5ECF6",
           "radialaxis": {
            "gridcolor": "white",
            "linecolor": "white",
            "ticks": ""
           }
          },
          "scene": {
           "xaxis": {
            "backgroundcolor": "#E5ECF6",
            "gridcolor": "white",
            "gridwidth": 2,
            "linecolor": "white",
            "showbackground": true,
            "ticks": "",
            "zerolinecolor": "white"
           },
           "yaxis": {
            "backgroundcolor": "#E5ECF6",
            "gridcolor": "white",
            "gridwidth": 2,
            "linecolor": "white",
            "showbackground": true,
            "ticks": "",
            "zerolinecolor": "white"
           },
           "zaxis": {
            "backgroundcolor": "#E5ECF6",
            "gridcolor": "white",
            "gridwidth": 2,
            "linecolor": "white",
            "showbackground": true,
            "ticks": "",
            "zerolinecolor": "white"
           }
          },
          "shapedefaults": {
           "line": {
            "color": "#2a3f5f"
           }
          },
          "ternary": {
           "aaxis": {
            "gridcolor": "white",
            "linecolor": "white",
            "ticks": ""
           },
           "baxis": {
            "gridcolor": "white",
            "linecolor": "white",
            "ticks": ""
           },
           "bgcolor": "#E5ECF6",
           "caxis": {
            "gridcolor": "white",
            "linecolor": "white",
            "ticks": ""
           }
          },
          "title": {
           "x": 0.05
          },
          "xaxis": {
           "automargin": true,
           "gridcolor": "white",
           "linecolor": "white",
           "ticks": "",
           "title": {
            "standoff": 15
           },
           "zerolinecolor": "white",
           "zerolinewidth": 2
          },
          "yaxis": {
           "automargin": true,
           "gridcolor": "white",
           "linecolor": "white",
           "ticks": "",
           "title": {
            "standoff": 15
           },
           "zerolinecolor": "white",
           "zerolinewidth": 2
          }
         }
        },
        "width": 500,
        "xaxis": {
         "anchor": "y",
         "domain": [
          0,
          1
         ],
         "gridcolor": "lightgrey",
         "linecolor": "black",
         "mirror": true,
         "showline": true,
         "ticks": "outside",
         "title": {}
        },
        "yaxis": {
         "anchor": "x",
         "domain": [
          0,
          1
         ],
         "gridcolor": "lightgrey",
         "linecolor": "black",
         "mirror": true,
         "showline": true,
         "ticks": "outside",
         "title": {
          "text": "Peak demand (GW)"
         }
        }
       }
      }
     },
     "metadata": {},
     "output_type": "display_data"
    }
   ],
   "source": [
    "peaks_df = pd.concat([scen_peak_demand_df, copper_demand_peaks_long])\n",
    "peaks_df[\"value\"] /= 1e3\n",
    "peaks_df[\"province\"] = \"Ontario\"\n",
    "\n",
    "peak_fig = sciencify_plotly_fig(px.line(peaks_df, x=\"pds\",y=\"value\",color=\"scenario\", facet_col=\"province\", template=\"plotly\", width=500))\n",
    "peak_fig.update_layout(\n",
    "    yaxis_title=\"Peak demand (GW)\",\n",
    "    xaxis_title=None,\n",
    "    legend=dict(\n",
    "        title_text=None,\n",
    "        x=0.01,\n",
    "        y=0.99,\n",
    "        # bgcolor=\"grey\"\n",
    "        bordercolor=\"grey\",\n",
    "        borderwidth=2,\n",
    "    ),\n",
    "    width=500,\n",
    "    font_family=\"cm\",\n",
    "    font_size=18\n",
    ")\n",
    "peak_fig.write_image(\"peak_demands.svg\")\n",
    "peak_fig.write_image(\"peak_demands.pdf\")\n",
    "peak_fig\n"
   ]
  },
  {
   "cell_type": "code",
   "execution_count": 78,
   "metadata": {},
   "outputs": [
    {
     "data": {
      "text/plain": [
       "scenario\n",
       "BAU                  0.547889\n",
       "CER                  0.496254\n",
       "CER+                 0.547467\n",
       "COPPER projection    0.000000\n",
       "Rapid                0.246022\n",
       "Rapid+               0.246209\n",
       "Name: 2050, dtype: float64"
      ]
     },
     "execution_count": 78,
     "metadata": {},
     "output_type": "execute_result"
    }
   ],
   "source": [
    "wide_peaks = peaks_df.pivot(columns=\"scenario\", index=\"pds\", values=\"value\")\n",
    "(wide_peaks.loc[2050,:]-wide_peaks.loc[2050,\"COPPER projection\"])/wide_peaks.loc[2050,\"COPPER projection\"]"
   ]
  },
  {
   "cell_type": "code",
   "execution_count": 210,
   "metadata": {},
   "outputs": [],
   "source": [
    "from viz.copper import tech_agg\n",
    "\n",
    "def get_nice_tech_name(key):\n",
    "    try:\n",
    "        nice_name = tech_agg[key]\n",
    "    except KeyError as ke:\n",
    "        nice_name = key\n",
    "    \n",
    "    return nice_name\n",
    "\n",
    "\n",
    "scen_supply_share_df[\"Generator\"] = scen_supply_share_df.Type.apply(get_nice_tech_name)\n",
    "scen_supply_share_df = scen_supply_share_df.groupby([\"pds\",\"Generator\",\"scenario\"])[[\"value\"]].sum().reset_index()\n"
   ]
  },
  {
   "cell_type": "code",
   "execution_count": 250,
   "id": "01HXHAVPEMSTJG4FV394N7X8BN",
   "metadata": {},
   "outputs": [
    {
     "data": {
      "text/html": [
       "<div>\n",
       "<style scoped>\n",
       "    .dataframe tbody tr th:only-of-type {\n",
       "        vertical-align: middle;\n",
       "    }\n",
       "\n",
       "    .dataframe tbody tr th {\n",
       "        vertical-align: top;\n",
       "    }\n",
       "\n",
       "    .dataframe thead th {\n",
       "        text-align: right;\n",
       "    }\n",
       "</style>\n",
       "<table border=\"1\" class=\"dataframe\">\n",
       "  <thead>\n",
       "    <tr style=\"text-align: right;\">\n",
       "      <th>scenario</th>\n",
       "      <th>BAU</th>\n",
       "      <th>CER</th>\n",
       "      <th>CER+</th>\n",
       "      <th>Rapid</th>\n",
       "      <th>Rapid+</th>\n",
       "    </tr>\n",
       "    <tr>\n",
       "      <th>Generator</th>\n",
       "      <th></th>\n",
       "      <th></th>\n",
       "      <th></th>\n",
       "      <th></th>\n",
       "      <th></th>\n",
       "    </tr>\n",
       "  </thead>\n",
       "  <tbody>\n",
       "    <tr>\n",
       "      <th>Fossil fuel gas</th>\n",
       "      <td>0.063788</td>\n",
       "      <td>0.016634</td>\n",
       "      <td>0.015338</td>\n",
       "      <td>0.008745</td>\n",
       "      <td>0.008471</td>\n",
       "    </tr>\n",
       "    <tr>\n",
       "      <th>Hydro</th>\n",
       "      <td>0.126651</td>\n",
       "      <td>0.132898</td>\n",
       "      <td>0.133239</td>\n",
       "      <td>0.134695</td>\n",
       "      <td>0.135153</td>\n",
       "    </tr>\n",
       "    <tr>\n",
       "      <th>Nuclear</th>\n",
       "      <td>0.499545</td>\n",
       "      <td>0.673505</td>\n",
       "      <td>0.674007</td>\n",
       "      <td>0.670963</td>\n",
       "      <td>0.676410</td>\n",
       "    </tr>\n",
       "    <tr>\n",
       "      <th>Solar</th>\n",
       "      <td>0.005321</td>\n",
       "      <td>0.005583</td>\n",
       "      <td>0.005598</td>\n",
       "      <td>0.005659</td>\n",
       "      <td>0.005678</td>\n",
       "    </tr>\n",
       "    <tr>\n",
       "      <th>Wind</th>\n",
       "      <td>0.304695</td>\n",
       "      <td>0.171380</td>\n",
       "      <td>0.171819</td>\n",
       "      <td>0.179938</td>\n",
       "      <td>0.174288</td>\n",
       "    </tr>\n",
       "  </tbody>\n",
       "</table>\n",
       "</div>"
      ],
      "text/plain": [
       "scenario              BAU       CER      CER+     Rapid    Rapid+\n",
       "Generator                                                        \n",
       "Fossil fuel gas  0.063788  0.016634  0.015338  0.008745  0.008471\n",
       "Hydro            0.126651  0.132898  0.133239  0.134695  0.135153\n",
       "Nuclear          0.499545  0.673505  0.674007  0.670963  0.676410\n",
       "Solar            0.005321  0.005583  0.005598  0.005659  0.005678\n",
       "Wind             0.304695  0.171380  0.171819  0.179938  0.174288"
      ]
     },
     "execution_count": 250,
     "metadata": {},
     "output_type": "execute_result"
    }
   ],
   "source": [
    "scen_supply_share_df.query(\"pds==2025\").pivot(columns=\"scenario\",index=\"Generator\",values=\"value\")"
   ]
  },
  {
   "cell_type": "code",
   "execution_count": 211,
   "metadata": {},
   "outputs": [
    {
     "data": {
      "text/html": [
       "<div>\n",
       "<style scoped>\n",
       "    .dataframe tbody tr th:only-of-type {\n",
       "        vertical-align: middle;\n",
       "    }\n",
       "\n",
       "    .dataframe tbody tr th {\n",
       "        vertical-align: top;\n",
       "    }\n",
       "\n",
       "    .dataframe thead th {\n",
       "        text-align: right;\n",
       "    }\n",
       "</style>\n",
       "<table border=\"1\" class=\"dataframe\">\n",
       "  <thead>\n",
       "    <tr style=\"text-align: right;\">\n",
       "      <th>scenario</th>\n",
       "      <th>BAU</th>\n",
       "      <th>CER</th>\n",
       "      <th>CER+</th>\n",
       "      <th>Rapid</th>\n",
       "      <th>Rapid+</th>\n",
       "    </tr>\n",
       "    <tr>\n",
       "      <th>Generator</th>\n",
       "      <th></th>\n",
       "      <th></th>\n",
       "      <th></th>\n",
       "      <th></th>\n",
       "      <th></th>\n",
       "    </tr>\n",
       "  </thead>\n",
       "  <tbody>\n",
       "    <tr>\n",
       "      <th>Biomass</th>\n",
       "      <td>NaN</td>\n",
       "      <td>0.001720</td>\n",
       "      <td>0.001619</td>\n",
       "      <td>0.001118</td>\n",
       "      <td>0.001149</td>\n",
       "    </tr>\n",
       "    <tr>\n",
       "      <th>Fossil fuel gas</th>\n",
       "      <td>0.179209</td>\n",
       "      <td>0.010394</td>\n",
       "      <td>0.010257</td>\n",
       "      <td>NaN</td>\n",
       "      <td>NaN</td>\n",
       "    </tr>\n",
       "    <tr>\n",
       "      <th>Hydro</th>\n",
       "      <td>0.030068</td>\n",
       "      <td>0.035290</td>\n",
       "      <td>0.034547</td>\n",
       "      <td>0.037092</td>\n",
       "      <td>0.037007</td>\n",
       "    </tr>\n",
       "    <tr>\n",
       "      <th>Hydrogen - blue</th>\n",
       "      <td>NaN</td>\n",
       "      <td>0.058125</td>\n",
       "      <td>0.060215</td>\n",
       "      <td>NaN</td>\n",
       "      <td>NaN</td>\n",
       "    </tr>\n",
       "    <tr>\n",
       "      <th>Hydrogen - green</th>\n",
       "      <td>NaN</td>\n",
       "      <td>NaN</td>\n",
       "      <td>NaN</td>\n",
       "      <td>0.001003</td>\n",
       "      <td>0.000986</td>\n",
       "    </tr>\n",
       "    <tr>\n",
       "      <th>Nuclear</th>\n",
       "      <td>0.071371</td>\n",
       "      <td>0.069054</td>\n",
       "      <td>0.066871</td>\n",
       "      <td>0.108612</td>\n",
       "      <td>0.108730</td>\n",
       "    </tr>\n",
       "    <tr>\n",
       "      <th>Solar</th>\n",
       "      <td>0.048384</td>\n",
       "      <td>0.082925</td>\n",
       "      <td>0.081641</td>\n",
       "      <td>0.060485</td>\n",
       "      <td>0.065129</td>\n",
       "    </tr>\n",
       "    <tr>\n",
       "      <th>Wind</th>\n",
       "      <td>0.670968</td>\n",
       "      <td>0.742493</td>\n",
       "      <td>0.744850</td>\n",
       "      <td>0.791690</td>\n",
       "      <td>0.786999</td>\n",
       "    </tr>\n",
       "  </tbody>\n",
       "</table>\n",
       "</div>"
      ],
      "text/plain": [
       "scenario               BAU       CER      CER+     Rapid    Rapid+\n",
       "Generator                                                         \n",
       "Biomass                NaN  0.001720  0.001619  0.001118  0.001149\n",
       "Fossil fuel gas   0.179209  0.010394  0.010257       NaN       NaN\n",
       "Hydro             0.030068  0.035290  0.034547  0.037092  0.037007\n",
       "Hydrogen - blue        NaN  0.058125  0.060215       NaN       NaN\n",
       "Hydrogen - green       NaN       NaN       NaN  0.001003  0.000986\n",
       "Nuclear           0.071371  0.069054  0.066871  0.108612  0.108730\n",
       "Solar             0.048384  0.082925  0.081641  0.060485  0.065129\n",
       "Wind              0.670968  0.742493  0.744850  0.791690  0.786999"
      ]
     },
     "execution_count": 211,
     "metadata": {},
     "output_type": "execute_result"
    }
   ],
   "source": [
    "scen_supply_share_df.query(\"pds==2050\").pivot(columns=\"scenario\",index=\"Generator\",values=\"value\")"
   ]
  },
  {
   "cell_type": "code",
   "execution_count": 212,
   "metadata": {},
   "outputs": [],
   "source": [
    "import plotly.express as px\n",
    "from abetam.figures import sciencify_plotly_fig\n",
    "from viz.copper import IDEA_COLORS\n",
    "\n",
    "gen_sharefig = px.area(scen_supply_share_df, x=\"pds\", y=\"value\", color=\"Generator\", facet_col=\"scenario\", template=\"plotly\", width=900, color_discrete_map=IDEA_COLORS)\n",
    "gen_sharefig.for_each_trace(lambda trace: trace.update(fillcolor = trace.line.color, line_width=0))\n",
    "gen_sharefig = sciencify_plotly_fig(gen_sharefig)\n",
    "gen_sharefig = gen_sharefig.update_layout(\n",
    "    yaxis_title=\"Generation share (-)\",\n",
    "    xaxis1_title=\"year\",\n",
    "    xaxis2_title=\"year\",\n",
    "    xaxis3_title=\"year\",\n",
    ")"
   ]
  },
  {
   "cell_type": "code",
   "execution_count": 213,
   "metadata": {},
   "outputs": [],
   "source": [
    "# # scale with no. rundays\n",
    "# scen_total_demand_df[\"value\"] *= 365/12\n",
    "# # px.line(scen_total_demand_df, x=\"pds\", y=\"value\", color=\"scenario\", template=\"plotly\", width=700)"
   ]
  },
  {
   "cell_type": "code",
   "execution_count": 214,
   "metadata": {},
   "outputs": [],
   "source": [
    "# scen_peak_demand_df[\"demand_type\"] = \"Peak demand\"\n",
    "# scen_total_demand_df[\"demand_type\"] = \"Total demand\"\n",
    "# fig = px.line(pd.concat([scen_peak_demand_df, scen_total_demand_df]), x=\"pds\", y=\"value\", color=\"scenario\", facet_row=\"demand_type\", template=\"plotly\", width=600)\n",
    "# fig = fig.for_each_annotation(lambda a: a.update(text=a.text.split(\"=\")[-1]))\n",
    "# fig.update_yaxes(matches=None)"
   ]
  },
  {
   "cell_type": "code",
   "execution_count": 215,
   "metadata": {},
   "outputs": [],
   "source": [
    "import plotly.express as px\n",
    "\n",
    "# total_demand[\"h\"] = total_demand[\"h\"].astype(\"str\")\n",
    "#px.line(total_demand, x=\"h\", y=\"value\", color=\"pds\", template=\"plotly\")"
   ]
  },
  {
   "cell_type": "markdown",
   "metadata": {},
   "source": [
    "## Copper installed capacity"
   ]
  },
  {
   "cell_type": "code",
   "execution_count": 252,
   "metadata": {},
   "outputs": [],
   "source": [
    "from viz.copper import tech_agg, IDEA_COLORS\n",
    "import pandas as pd\n",
    "gridcell_data = pd.read_csv('copper/scenarios/static/gridcells.csv')\n",
    "map_gl_to_ba=dict(gridcell_data[['grid_cell', 'ba']].values)\n",
    "\n",
    "\n",
    "def get_capacity_frame(results_dir):\n",
    "    capacitiy_files = list(Path(results_dir).glob(\"capacity_*\"))\n",
    "    generation_dfs = []\n",
    "    therm_df = None\n",
    "    transmission_df = None\n",
    "    storage_df = None\n",
    "    for f in capacitiy_files:\n",
    "        if \"transmission\" in f.as_posix():\n",
    "            transmission_df = pd.read_csv(f)\n",
    "            assert transmission_df[\"value\"].sum() == 0\n",
    "        elif \"storage\" in f.as_posix():\n",
    "            storage_df = pd.read_csv(f).rename({\"st\":\"type\"}, axis=1)\n",
    "            storage_df[\"gl\"] = None\n",
    "            generation_dfs.append(storage_df)\n",
    "        else:\n",
    "            df = pd.read_csv(f)\n",
    "            gen_type = f.stem.split(\"_\",1)[-1]\n",
    "            if \"tplants\" in df.columns:\n",
    "                therm_df = df.copy()\n",
    "                df = df.rename({\"tplants\":\"type\"}, axis=1)\n",
    "                df[\"gl\"] = None\n",
    "            else:\n",
    "                df[\"type\"] = gen_type\n",
    "                df[\"aba\"] = df[\"gl\"].apply(map_gl_to_ba.get)\n",
    "            # print(gen_type, df.columns)\n",
    "            generation_dfs.append(df)\n",
    "    retire_df = pd.read_csv(Path(results_dir)/\"retire_therm.csv\").rename({\"tplants\":\"type\"}, axis=1)\n",
    "    retire_df[\"type\"] = retire_df[\"type\"] + \"_retire\"\n",
    "    gen_cap_df = pd.concat(generation_dfs + [retire_df])\n",
    "    return gen_cap_df\n",
    "\n",
    "def simplify_unit_name(name, use_idea=False):\n",
    "    if use_idea:\n",
    "        return tech_agg.get(name)\n",
    "    split = name.rsplit(\"_\", 1)\n",
    "    if len(split) == 1:\n",
    "        return name\n",
    "\n",
    "    head, tail = split\n",
    "    if tail in [\"SMR\", \"ofs\", \"ons\", \"LI\", \"PH\"]:\n",
    "        return name\n",
    "    elif \"_recon\" in head:\n",
    "        return head.rsplit(\"_\", 1)[0]\n",
    "    elif \"gas\" in head:\n",
    "        if \"retire\" in head:\n",
    "            return \"gas_retire\"\n",
    "        elif \"backup\" in head:\n",
    "            return \"gas_backup\"\n",
    "        else:\n",
    "            return \"gas\"\n",
    "    else:\n",
    "        return head\n",
    "\n",
    "def post_process_gen_cap(gen_cap_df, use_idea=False):\n",
    "    \n",
    "    gen_cap_df[\"Generator\"] = gen_cap_df.type.apply(simplify_unit_name, use_idea=use_idea)\n",
    "    gen_cap_df[\"province\"] = gen_cap_df[\"aba\"].str.split(\".\", expand=True)[0]\n",
    "    ba_cap_df = (\n",
    "        gen_cap_df.groupby([\"province\", \"pds\", \"Generator\"])[\"value\"].sum().reset_index()\n",
    "    )\n",
    "\n",
    "    # remove generators that aren't built\n",
    "    keep_types = ba_cap_df.groupby([\"pds\", \"Generator\"])[\"value\"].sum() > 0\n",
    "\n",
    "    keep_types = keep_types  # & keep_names\n",
    "    ba_cap_df = ba_cap_df.set_index([\"pds\", \"Generator\"]).loc[keep_types, :].reset_index()\n",
    "\n",
    "    ba_cap_df[\"type\"] = ba_cap_df[\"Generator\"]\n",
    "    keep_names = ~ba_cap_df.set_index([\"pds\", \"Generator\"])[\"type\"].str.contains(\"retire\")\n",
    "    ba_cap_df.set_index([\"pds\", \"Generator\"], inplace=True)\n",
    "    ba_cap_df.loc[keep_names, \"cap_type\"] = \"invested\"\n",
    "    ba_cap_df.loc[~keep_names, \"cap_type\"] = \"retired\"\n",
    "\n",
    "    ba_cap_df.reset_index(inplace=True)\n",
    "    ba_cap_df.rename({\"value\": \"Capacity (GW)\"}, axis=1, inplace=True)\n",
    "    ba_cap_df[\"Capacity (GW)\"] /= 1000\n",
    "    return ba_cap_df\n",
    "\n"
   ]
  },
  {
   "cell_type": "code",
   "execution_count": 217,
   "metadata": {},
   "outputs": [
    {
     "name": "stderr",
     "output_type": "stream",
     "text": [
      "C:\\Users\\dhuck\\AppData\\Local\\Temp\\ipykernel_4984\\3517554153.py:35: FutureWarning:\n",
      "\n",
      "The behavior of DataFrame concatenation with empty or all-NA entries is deprecated. In a future version, this will no longer exclude empty or all-NA columns when determining the result dtypes. To retain the old behavior, exclude the relevant entries before the concat operation.\n",
      "\n",
      "C:\\Users\\dhuck\\AppData\\Local\\Temp\\ipykernel_4984\\3517554153.py:77: FutureWarning:\n",
      "\n",
      "Setting an item of incompatible dtype is deprecated and will raise in a future error of pandas. Value 'invested' has dtype incompatible with float64, please explicitly cast to a compatible dtype first.\n",
      "\n",
      "C:\\Users\\dhuck\\AppData\\Local\\Temp\\ipykernel_4984\\3517554153.py:35: FutureWarning:\n",
      "\n",
      "The behavior of DataFrame concatenation with empty or all-NA entries is deprecated. In a future version, this will no longer exclude empty or all-NA columns when determining the result dtypes. To retain the old behavior, exclude the relevant entries before the concat operation.\n",
      "\n",
      "C:\\Users\\dhuck\\AppData\\Local\\Temp\\ipykernel_4984\\3517554153.py:77: FutureWarning:\n",
      "\n",
      "Setting an item of incompatible dtype is deprecated and will raise in a future error of pandas. Value 'invested' has dtype incompatible with float64, please explicitly cast to a compatible dtype first.\n",
      "\n",
      "C:\\Users\\dhuck\\AppData\\Local\\Temp\\ipykernel_4984\\3517554153.py:35: FutureWarning:\n",
      "\n",
      "The behavior of DataFrame concatenation with empty or all-NA entries is deprecated. In a future version, this will no longer exclude empty or all-NA columns when determining the result dtypes. To retain the old behavior, exclude the relevant entries before the concat operation.\n",
      "\n",
      "C:\\Users\\dhuck\\AppData\\Local\\Temp\\ipykernel_4984\\3517554153.py:77: FutureWarning:\n",
      "\n",
      "Setting an item of incompatible dtype is deprecated and will raise in a future error of pandas. Value 'invested' has dtype incompatible with float64, please explicitly cast to a compatible dtype first.\n",
      "\n",
      "C:\\Users\\dhuck\\AppData\\Local\\Temp\\ipykernel_4984\\3517554153.py:35: FutureWarning:\n",
      "\n",
      "The behavior of DataFrame concatenation with empty or all-NA entries is deprecated. In a future version, this will no longer exclude empty or all-NA columns when determining the result dtypes. To retain the old behavior, exclude the relevant entries before the concat operation.\n",
      "\n",
      "C:\\Users\\dhuck\\AppData\\Local\\Temp\\ipykernel_4984\\3517554153.py:77: FutureWarning:\n",
      "\n",
      "Setting an item of incompatible dtype is deprecated and will raise in a future error of pandas. Value 'invested' has dtype incompatible with float64, please explicitly cast to a compatible dtype first.\n",
      "\n",
      "C:\\Users\\dhuck\\AppData\\Local\\Temp\\ipykernel_4984\\3517554153.py:35: FutureWarning:\n",
      "\n",
      "The behavior of DataFrame concatenation with empty or all-NA entries is deprecated. In a future version, this will no longer exclude empty or all-NA columns when determining the result dtypes. To retain the old behavior, exclude the relevant entries before the concat operation.\n",
      "\n",
      "C:\\Users\\dhuck\\AppData\\Local\\Temp\\ipykernel_4984\\3517554153.py:77: FutureWarning:\n",
      "\n",
      "Setting an item of incompatible dtype is deprecated and will raise in a future error of pandas. Value 'invested' has dtype incompatible with float64, please explicitly cast to a compatible dtype first.\n",
      "\n"
     ]
    },
    {
     "data": {
      "text/html": [
       "<div>\n",
       "<style scoped>\n",
       "    .dataframe tbody tr th:only-of-type {\n",
       "        vertical-align: middle;\n",
       "    }\n",
       "\n",
       "    .dataframe tbody tr th {\n",
       "        vertical-align: top;\n",
       "    }\n",
       "\n",
       "    .dataframe thead th {\n",
       "        text-align: right;\n",
       "    }\n",
       "</style>\n",
       "<table border=\"1\" class=\"dataframe\">\n",
       "  <thead>\n",
       "    <tr style=\"text-align: right;\">\n",
       "      <th></th>\n",
       "      <th>pds</th>\n",
       "      <th>Generator</th>\n",
       "      <th>province</th>\n",
       "      <th>Capacity (GW)</th>\n",
       "      <th>type</th>\n",
       "      <th>cap_type</th>\n",
       "      <th>scenario</th>\n",
       "    </tr>\n",
       "  </thead>\n",
       "  <tbody>\n",
       "    <tr>\n",
       "      <th>0</th>\n",
       "      <td>2025</td>\n",
       "      <td>Fossil fuel gas</td>\n",
       "      <td>Ontario</td>\n",
       "      <td>1.625985</td>\n",
       "      <td>Fossil fuel gas</td>\n",
       "      <td>invested</td>\n",
       "      <td>BAU</td>\n",
       "    </tr>\n",
       "    <tr>\n",
       "      <th>1</th>\n",
       "      <td>2025</td>\n",
       "      <td>Fossil fuel gas - retired</td>\n",
       "      <td>Ontario</td>\n",
       "      <td>-4.123438</td>\n",
       "      <td>Fossil fuel gas - retired</td>\n",
       "      <td>retired</td>\n",
       "      <td>BAU</td>\n",
       "    </tr>\n",
       "    <tr>\n",
       "      <th>2</th>\n",
       "      <td>2025</td>\n",
       "      <td>Wind</td>\n",
       "      <td>Ontario</td>\n",
       "      <td>3.928889</td>\n",
       "      <td>Wind</td>\n",
       "      <td>invested</td>\n",
       "      <td>BAU</td>\n",
       "    </tr>\n",
       "    <tr>\n",
       "      <th>3</th>\n",
       "      <td>2030</td>\n",
       "      <td>Fossil fuel gas</td>\n",
       "      <td>Ontario</td>\n",
       "      <td>6.898412</td>\n",
       "      <td>Fossil fuel gas</td>\n",
       "      <td>invested</td>\n",
       "      <td>BAU</td>\n",
       "    </tr>\n",
       "    <tr>\n",
       "      <th>4</th>\n",
       "      <td>2030</td>\n",
       "      <td>Fossil fuel gas - retired</td>\n",
       "      <td>Ontario</td>\n",
       "      <td>-2.299362</td>\n",
       "      <td>Fossil fuel gas - retired</td>\n",
       "      <td>retired</td>\n",
       "      <td>BAU</td>\n",
       "    </tr>\n",
       "  </tbody>\n",
       "</table>\n",
       "</div>"
      ],
      "text/plain": [
       "    pds                  Generator province  Capacity (GW)  \\\n",
       "0  2025            Fossil fuel gas  Ontario       1.625985   \n",
       "1  2025  Fossil fuel gas - retired  Ontario      -4.123438   \n",
       "2  2025                       Wind  Ontario       3.928889   \n",
       "3  2030            Fossil fuel gas  Ontario       6.898412   \n",
       "4  2030  Fossil fuel gas - retired  Ontario      -2.299362   \n",
       "\n",
       "                        type  cap_type scenario  \n",
       "0            Fossil fuel gas  invested      BAU  \n",
       "1  Fossil fuel gas - retired   retired      BAU  \n",
       "2                       Wind  invested      BAU  \n",
       "3            Fossil fuel gas  invested      BAU  \n",
       "4  Fossil fuel gas - retired   retired      BAU  "
      ]
     },
     "execution_count": 217,
     "metadata": {},
     "output_type": "execute_result"
    }
   ],
   "source": [
    "def get_sign(t):\n",
    "    if \"retire\" in t:\n",
    "        return -1\n",
    "    else:\n",
    "        return 1\n",
    "\n",
    "cap_dfs = []\n",
    "for scenario in result_df.Scenario.unique():\n",
    "    path = result_df.query(f\"iteration==1 and Scenario=='{scenario}'\")[\"ESM path\"].values[0]\n",
    "    cap_df = get_capacity_frame(path)\n",
    "    ba_cap_df = post_process_gen_cap(cap_df, use_idea=True)\n",
    "    ba_cap_df[\"Capacity (GW)\"] *= ba_cap_df[\"Generator\"].apply(get_sign)\n",
    "    ba_cap_df[\"scenario\"] = scenario\n",
    "    cap_dfs.append(ba_cap_df)\n",
    "\n",
    "cap_df = pd.concat(cap_dfs)\n",
    "cap_df.head()"
   ]
  },
  {
   "cell_type": "code",
   "execution_count": 218,
   "metadata": {},
   "outputs": [
    {
     "data": {
      "text/html": [
       "<div>\n",
       "<style scoped>\n",
       "    .dataframe tbody tr th:only-of-type {\n",
       "        vertical-align: middle;\n",
       "    }\n",
       "\n",
       "    .dataframe tbody tr th {\n",
       "        vertical-align: top;\n",
       "    }\n",
       "\n",
       "    .dataframe thead th {\n",
       "        text-align: right;\n",
       "    }\n",
       "</style>\n",
       "<table border=\"1\" class=\"dataframe\">\n",
       "  <thead>\n",
       "    <tr style=\"text-align: right;\">\n",
       "      <th>scenario</th>\n",
       "      <th>BAU</th>\n",
       "      <th>CER</th>\n",
       "      <th>CER+</th>\n",
       "      <th>Rapid</th>\n",
       "      <th>Rapid+</th>\n",
       "    </tr>\n",
       "    <tr>\n",
       "      <th>Generator</th>\n",
       "      <th></th>\n",
       "      <th></th>\n",
       "      <th></th>\n",
       "      <th></th>\n",
       "      <th></th>\n",
       "    </tr>\n",
       "  </thead>\n",
       "  <tbody>\n",
       "    <tr>\n",
       "      <th>Biomass</th>\n",
       "      <td>0.000000</td>\n",
       "      <td>0.245300</td>\n",
       "      <td>0.245300</td>\n",
       "      <td>0.245300</td>\n",
       "      <td>0.245300</td>\n",
       "    </tr>\n",
       "    <tr>\n",
       "      <th>Fossil fuel gas</th>\n",
       "      <td>27.235080</td>\n",
       "      <td>7.772127</td>\n",
       "      <td>7.828217</td>\n",
       "      <td>0.000000</td>\n",
       "      <td>0.000000</td>\n",
       "    </tr>\n",
       "    <tr>\n",
       "      <th>Fossil fuel gas - retired</th>\n",
       "      <td>-8.210800</td>\n",
       "      <td>-5.167800</td>\n",
       "      <td>-5.167800</td>\n",
       "      <td>-6.989800</td>\n",
       "      <td>-6.989800</td>\n",
       "    </tr>\n",
       "    <tr>\n",
       "      <th>Hydrogen - blue</th>\n",
       "      <td>0.000000</td>\n",
       "      <td>14.777285</td>\n",
       "      <td>15.625114</td>\n",
       "      <td>0.000000</td>\n",
       "      <td>0.000000</td>\n",
       "    </tr>\n",
       "    <tr>\n",
       "      <th>Hydrogen - green</th>\n",
       "      <td>0.000000</td>\n",
       "      <td>0.000000</td>\n",
       "      <td>0.000000</td>\n",
       "      <td>1.182947</td>\n",
       "      <td>1.168470</td>\n",
       "    </tr>\n",
       "    <tr>\n",
       "      <th>LI Storage</th>\n",
       "      <td>3.442888</td>\n",
       "      <td>0.030246</td>\n",
       "      <td>0.004108</td>\n",
       "      <td>12.626817</td>\n",
       "      <td>13.462139</td>\n",
       "    </tr>\n",
       "    <tr>\n",
       "      <th>Nuclear</th>\n",
       "      <td>0.000000</td>\n",
       "      <td>0.000000</td>\n",
       "      <td>0.000000</td>\n",
       "      <td>5.825025</td>\n",
       "      <td>5.851694</td>\n",
       "    </tr>\n",
       "    <tr>\n",
       "      <th>Nuclear - retired</th>\n",
       "      <td>-4.660000</td>\n",
       "      <td>-4.660000</td>\n",
       "      <td>-4.660000</td>\n",
       "      <td>-4.660000</td>\n",
       "      <td>-4.660000</td>\n",
       "    </tr>\n",
       "    <tr>\n",
       "      <th>PH Storage</th>\n",
       "      <td>0.283600</td>\n",
       "      <td>0.283600</td>\n",
       "      <td>0.283600</td>\n",
       "      <td>0.283600</td>\n",
       "      <td>0.283600</td>\n",
       "    </tr>\n",
       "    <tr>\n",
       "      <th>Solar</th>\n",
       "      <td>13.624448</td>\n",
       "      <td>27.559470</td>\n",
       "      <td>28.702017</td>\n",
       "      <td>22.156292</td>\n",
       "      <td>22.399394</td>\n",
       "    </tr>\n",
       "    <tr>\n",
       "      <th>Wind</th>\n",
       "      <td>52.436324</td>\n",
       "      <td>78.330359</td>\n",
       "      <td>80.574028</td>\n",
       "      <td>89.700077</td>\n",
       "      <td>90.182828</td>\n",
       "    </tr>\n",
       "  </tbody>\n",
       "</table>\n",
       "</div>"
      ],
      "text/plain": [
       "scenario                         BAU        CER       CER+      Rapid  \\\n",
       "Generator                                                               \n",
       "Biomass                     0.000000   0.245300   0.245300   0.245300   \n",
       "Fossil fuel gas            27.235080   7.772127   7.828217   0.000000   \n",
       "Fossil fuel gas - retired  -8.210800  -5.167800  -5.167800  -6.989800   \n",
       "Hydrogen - blue             0.000000  14.777285  15.625114   0.000000   \n",
       "Hydrogen - green            0.000000   0.000000   0.000000   1.182947   \n",
       "LI Storage                  3.442888   0.030246   0.004108  12.626817   \n",
       "Nuclear                     0.000000   0.000000   0.000000   5.825025   \n",
       "Nuclear - retired          -4.660000  -4.660000  -4.660000  -4.660000   \n",
       "PH Storage                  0.283600   0.283600   0.283600   0.283600   \n",
       "Solar                      13.624448  27.559470  28.702017  22.156292   \n",
       "Wind                       52.436324  78.330359  80.574028  89.700077   \n",
       "\n",
       "scenario                      Rapid+  \n",
       "Generator                             \n",
       "Biomass                     0.245300  \n",
       "Fossil fuel gas             0.000000  \n",
       "Fossil fuel gas - retired  -6.989800  \n",
       "Hydrogen - blue             0.000000  \n",
       "Hydrogen - green            1.168470  \n",
       "LI Storage                 13.462139  \n",
       "Nuclear                     5.851694  \n",
       "Nuclear - retired          -4.660000  \n",
       "PH Storage                  0.283600  \n",
       "Solar                      22.399394  \n",
       "Wind                       90.182828  "
      ]
     },
     "execution_count": 218,
     "metadata": {},
     "output_type": "execute_result"
    }
   ],
   "source": [
    "cum_cap_df = cap_df.groupby([\"scenario\",\"Generator\"])[\"Capacity (GW)\"].sum().reset_index().pivot(columns=\"scenario\",index=\"Generator\",values=\"Capacity (GW)\").fillna(0)\n",
    "cum_cap_df"
   ]
  },
  {
   "cell_type": "code",
   "execution_count": 251,
   "metadata": {},
   "outputs": [
    {
     "data": {
      "text/html": [
       "<div>\n",
       "<style scoped>\n",
       "    .dataframe tbody tr th:only-of-type {\n",
       "        vertical-align: middle;\n",
       "    }\n",
       "\n",
       "    .dataframe tbody tr th {\n",
       "        vertical-align: top;\n",
       "    }\n",
       "\n",
       "    .dataframe thead th {\n",
       "        text-align: right;\n",
       "    }\n",
       "</style>\n",
       "<table border=\"1\" class=\"dataframe\">\n",
       "  <thead>\n",
       "    <tr style=\"text-align: right;\">\n",
       "      <th></th>\n",
       "      <th>Generator</th>\n",
       "      <th>0</th>\n",
       "    </tr>\n",
       "  </thead>\n",
       "  <tbody>\n",
       "    <tr>\n",
       "      <th>0</th>\n",
       "      <td>Biomass</td>\n",
       "      <td>0.000000e+00</td>\n",
       "    </tr>\n",
       "    <tr>\n",
       "      <th>1</th>\n",
       "      <td>Fossil fuel gas</td>\n",
       "      <td>7.216802e-01</td>\n",
       "    </tr>\n",
       "    <tr>\n",
       "      <th>2</th>\n",
       "      <td>Fossil fuel gas - retired</td>\n",
       "      <td>-1.718678e-14</td>\n",
       "    </tr>\n",
       "    <tr>\n",
       "      <th>3</th>\n",
       "      <td>Hydrogen - blue</td>\n",
       "      <td>5.737377e+00</td>\n",
       "    </tr>\n",
       "    <tr>\n",
       "      <th>4</th>\n",
       "      <td>Hydrogen - green</td>\n",
       "      <td>NaN</td>\n",
       "    </tr>\n",
       "    <tr>\n",
       "      <th>5</th>\n",
       "      <td>LI Storage</td>\n",
       "      <td>-8.641707e+01</td>\n",
       "    </tr>\n",
       "    <tr>\n",
       "      <th>6</th>\n",
       "      <td>Nuclear</td>\n",
       "      <td>NaN</td>\n",
       "    </tr>\n",
       "    <tr>\n",
       "      <th>7</th>\n",
       "      <td>Nuclear - retired</td>\n",
       "      <td>-0.000000e+00</td>\n",
       "    </tr>\n",
       "    <tr>\n",
       "      <th>8</th>\n",
       "      <td>PH Storage</td>\n",
       "      <td>0.000000e+00</td>\n",
       "    </tr>\n",
       "    <tr>\n",
       "      <th>9</th>\n",
       "      <td>Solar</td>\n",
       "      <td>4.145753e+00</td>\n",
       "    </tr>\n",
       "    <tr>\n",
       "      <th>10</th>\n",
       "      <td>Wind</td>\n",
       "      <td>2.864367e+00</td>\n",
       "    </tr>\n",
       "  </tbody>\n",
       "</table>\n",
       "</div>"
      ],
      "text/plain": [
       "                    Generator             0\n",
       "0                     Biomass  0.000000e+00\n",
       "1             Fossil fuel gas  7.216802e-01\n",
       "2   Fossil fuel gas - retired -1.718678e-14\n",
       "3             Hydrogen - blue  5.737377e+00\n",
       "4            Hydrogen - green           NaN\n",
       "5                  LI Storage -8.641707e+01\n",
       "6                     Nuclear           NaN\n",
       "7           Nuclear - retired -0.000000e+00\n",
       "8                  PH Storage  0.000000e+00\n",
       "9                       Solar  4.145753e+00\n",
       "10                       Wind  2.864367e+00"
      ]
     },
     "execution_count": 251,
     "metadata": {},
     "output_type": "execute_result"
    }
   ],
   "source": [
    "((cum_cap_df[\"CER+\"] - cum_cap_df[\"CER\"])/cum_cap_df[\"CER\"]*100).reset_index()"
   ]
  },
  {
   "cell_type": "code",
   "execution_count": 220,
   "metadata": {},
   "outputs": [],
   "source": [
    "from abetam.figures import sciencify_plotly_fig\n",
    "import plotly.express as px\n",
    "scen_cap_fig = sciencify_plotly_fig(px.bar(cap_df, x=\"pds\", y=\"Capacity (GW)\", color=\"Generator\", facet_col=\"scenario\", color_discrete_map=IDEA_COLORS))\n"
   ]
  },
  {
   "cell_type": "markdown",
   "metadata": {},
   "source": [
    "### Emissions\n"
   ]
  },
  {
   "cell_type": "code",
   "execution_count": 248,
   "metadata": {},
   "outputs": [
    {
     "data": {
      "text/html": [
       "<div>\n",
       "<style scoped>\n",
       "    .dataframe tbody tr th:only-of-type {\n",
       "        vertical-align: middle;\n",
       "    }\n",
       "\n",
       "    .dataframe tbody tr th {\n",
       "        vertical-align: top;\n",
       "    }\n",
       "\n",
       "    .dataframe thead th {\n",
       "        text-align: right;\n",
       "    }\n",
       "</style>\n",
       "<table border=\"1\" class=\"dataframe\">\n",
       "  <thead>\n",
       "    <tr style=\"text-align: right;\">\n",
       "      <th></th>\n",
       "      <th>scenario</th>\n",
       "      <th>pds</th>\n",
       "      <th>emissions (Mt)</th>\n",
       "    </tr>\n",
       "  </thead>\n",
       "  <tbody>\n",
       "    <tr>\n",
       "      <th>0</th>\n",
       "      <td>BAU</td>\n",
       "      <td>2025</td>\n",
       "      <td>3.202919</td>\n",
       "    </tr>\n",
       "    <tr>\n",
       "      <th>1</th>\n",
       "      <td>BAU</td>\n",
       "      <td>2030</td>\n",
       "      <td>10.345832</td>\n",
       "    </tr>\n",
       "    <tr>\n",
       "      <th>2</th>\n",
       "      <td>BAU</td>\n",
       "      <td>2035</td>\n",
       "      <td>21.057861</td>\n",
       "    </tr>\n",
       "    <tr>\n",
       "      <th>3</th>\n",
       "      <td>BAU</td>\n",
       "      <td>2040</td>\n",
       "      <td>35.785601</td>\n",
       "    </tr>\n",
       "    <tr>\n",
       "      <th>4</th>\n",
       "      <td>BAU</td>\n",
       "      <td>2045</td>\n",
       "      <td>54.647945</td>\n",
       "    </tr>\n",
       "    <tr>\n",
       "      <th>5</th>\n",
       "      <td>BAU</td>\n",
       "      <td>2050</td>\n",
       "      <td>75.889579</td>\n",
       "    </tr>\n",
       "    <tr>\n",
       "      <th>6</th>\n",
       "      <td>CER</td>\n",
       "      <td>2025</td>\n",
       "      <td>0.795964</td>\n",
       "    </tr>\n",
       "    <tr>\n",
       "      <th>7</th>\n",
       "      <td>CER</td>\n",
       "      <td>2030</td>\n",
       "      <td>4.405145</td>\n",
       "    </tr>\n",
       "    <tr>\n",
       "      <th>8</th>\n",
       "      <td>CER</td>\n",
       "      <td>2035</td>\n",
       "      <td>6.530910</td>\n",
       "    </tr>\n",
       "    <tr>\n",
       "      <th>9</th>\n",
       "      <td>CER</td>\n",
       "      <td>2040</td>\n",
       "      <td>7.915616</td>\n",
       "    </tr>\n",
       "    <tr>\n",
       "      <th>10</th>\n",
       "      <td>CER</td>\n",
       "      <td>2045</td>\n",
       "      <td>9.593110</td>\n",
       "    </tr>\n",
       "    <tr>\n",
       "      <th>11</th>\n",
       "      <td>CER</td>\n",
       "      <td>2050</td>\n",
       "      <td>11.356204</td>\n",
       "    </tr>\n",
       "    <tr>\n",
       "      <th>12</th>\n",
       "      <td>CER+</td>\n",
       "      <td>2025</td>\n",
       "      <td>0.732086</td>\n",
       "    </tr>\n",
       "    <tr>\n",
       "      <th>13</th>\n",
       "      <td>CER+</td>\n",
       "      <td>2030</td>\n",
       "      <td>4.248212</td>\n",
       "    </tr>\n",
       "    <tr>\n",
       "      <th>14</th>\n",
       "      <td>CER+</td>\n",
       "      <td>2035</td>\n",
       "      <td>6.502571</td>\n",
       "    </tr>\n",
       "    <tr>\n",
       "      <th>15</th>\n",
       "      <td>CER+</td>\n",
       "      <td>2040</td>\n",
       "      <td>7.894304</td>\n",
       "    </tr>\n",
       "    <tr>\n",
       "      <th>16</th>\n",
       "      <td>CER+</td>\n",
       "      <td>2045</td>\n",
       "      <td>9.625766</td>\n",
       "    </tr>\n",
       "    <tr>\n",
       "      <th>17</th>\n",
       "      <td>CER+</td>\n",
       "      <td>2050</td>\n",
       "      <td>11.430802</td>\n",
       "    </tr>\n",
       "    <tr>\n",
       "      <th>18</th>\n",
       "      <td>Rapid</td>\n",
       "      <td>2025</td>\n",
       "      <td>0.412878</td>\n",
       "    </tr>\n",
       "    <tr>\n",
       "      <th>19</th>\n",
       "      <td>Rapid</td>\n",
       "      <td>2030</td>\n",
       "      <td>1.886956</td>\n",
       "    </tr>\n",
       "    <tr>\n",
       "      <th>20</th>\n",
       "      <td>Rapid</td>\n",
       "      <td>2035</td>\n",
       "      <td>1.886956</td>\n",
       "    </tr>\n",
       "    <tr>\n",
       "      <th>21</th>\n",
       "      <td>Rapid</td>\n",
       "      <td>2040</td>\n",
       "      <td>1.886956</td>\n",
       "    </tr>\n",
       "    <tr>\n",
       "      <th>22</th>\n",
       "      <td>Rapid</td>\n",
       "      <td>2045</td>\n",
       "      <td>1.886956</td>\n",
       "    </tr>\n",
       "    <tr>\n",
       "      <th>23</th>\n",
       "      <td>Rapid</td>\n",
       "      <td>2050</td>\n",
       "      <td>1.886956</td>\n",
       "    </tr>\n",
       "    <tr>\n",
       "      <th>24</th>\n",
       "      <td>Rapid+</td>\n",
       "      <td>2025</td>\n",
       "      <td>0.398594</td>\n",
       "    </tr>\n",
       "    <tr>\n",
       "      <th>25</th>\n",
       "      <td>Rapid+</td>\n",
       "      <td>2030</td>\n",
       "      <td>1.833740</td>\n",
       "    </tr>\n",
       "    <tr>\n",
       "      <th>26</th>\n",
       "      <td>Rapid+</td>\n",
       "      <td>2035</td>\n",
       "      <td>1.833740</td>\n",
       "    </tr>\n",
       "    <tr>\n",
       "      <th>27</th>\n",
       "      <td>Rapid+</td>\n",
       "      <td>2040</td>\n",
       "      <td>1.833740</td>\n",
       "    </tr>\n",
       "    <tr>\n",
       "      <th>28</th>\n",
       "      <td>Rapid+</td>\n",
       "      <td>2045</td>\n",
       "      <td>1.833740</td>\n",
       "    </tr>\n",
       "    <tr>\n",
       "      <th>29</th>\n",
       "      <td>Rapid+</td>\n",
       "      <td>2050</td>\n",
       "      <td>1.833740</td>\n",
       "    </tr>\n",
       "  </tbody>\n",
       "</table>\n",
       "</div>"
      ],
      "text/plain": [
       "   scenario   pds  emissions (Mt)\n",
       "0       BAU  2025        3.202919\n",
       "1       BAU  2030       10.345832\n",
       "2       BAU  2035       21.057861\n",
       "3       BAU  2040       35.785601\n",
       "4       BAU  2045       54.647945\n",
       "5       BAU  2050       75.889579\n",
       "6       CER  2025        0.795964\n",
       "7       CER  2030        4.405145\n",
       "8       CER  2035        6.530910\n",
       "9       CER  2040        7.915616\n",
       "10      CER  2045        9.593110\n",
       "11      CER  2050       11.356204\n",
       "12     CER+  2025        0.732086\n",
       "13     CER+  2030        4.248212\n",
       "14     CER+  2035        6.502571\n",
       "15     CER+  2040        7.894304\n",
       "16     CER+  2045        9.625766\n",
       "17     CER+  2050       11.430802\n",
       "18    Rapid  2025        0.412878\n",
       "19    Rapid  2030        1.886956\n",
       "20    Rapid  2035        1.886956\n",
       "21    Rapid  2040        1.886956\n",
       "22    Rapid  2045        1.886956\n",
       "23    Rapid  2050        1.886956\n",
       "24   Rapid+  2025        0.398594\n",
       "25   Rapid+  2030        1.833740\n",
       "26   Rapid+  2035        1.833740\n",
       "27   Rapid+  2040        1.833740\n",
       "28   Rapid+  2045        1.833740\n",
       "29   Rapid+  2050        1.833740"
      ]
     },
     "execution_count": 248,
     "metadata": {},
     "output_type": "execute_result"
    }
   ],
   "source": [
    "import toml\n",
    "def get_year_frac(res_path:Path):\n",
    "    config = toml.load(res_path.joinpath(\"config.toml\"))\n",
    "    year_frac = len(config[\"Simulation_Settings\"][\"run_days\"])/365\n",
    "    return year_frac\n",
    "\n",
    "result_df[\"ESM year_frac\"] = result_df[\"ESM path\"].apply(get_year_frac)\n",
    "\n",
    "if len(result_df[\"ESM year_frac\"].unique())>1:\n",
    "    def add_year_frac(scen_name):\n",
    "        frac = result_df.query(f\"Scenario=='{scen_name}' and iteration==1\")[\"ESM year_frac\"]\n",
    "        return frac\n",
    "    scen_supply_df[\"year_frac\"] = scen_supply_df[\"scenario\"].apply(add_year_frac)\n",
    "else:\n",
    "    scen_supply_df[\"year_frac\"] = result_df[\"ESM year_frac\"][0]\n",
    "gen_type_df = pd.read_csv(\"copper/scenarios/CER_scenario/generation_type_data.csv\", index_col=0)\n",
    "scen_supply_df[\"emissions (Mt)\"] = (scen_supply_df[\"value\"]/scen_supply_df[\"year_frac\"]*gen_type_df[\"fuel_co2\"]) / 1e6\n",
    "scen_supply_agg = scen_supply_df.groupby([\"scenario\",\"pds\"])[\"emissions (Mt)\"].sum().groupby(\"scenario\").cumsum().reset_index()"
   ]
  },
  {
   "cell_type": "code",
   "execution_count": 222,
   "metadata": {},
   "outputs": [
    {
     "data": {
      "application/vnd.plotly.v1+json": {
       "config": {
        "plotlyServerURL": "https://plot.ly"
       },
       "data": [
        {
         "fillcolor": "#ff6b6b",
         "fillpattern": {
          "shape": ""
         },
         "hovertemplate": "Generator=Fossil fuel gas<br>scenario=BAU<br>pds=%{x}<br>value=%{y}<extra></extra>",
         "legendgroup": "gentechs",
         "legendgrouptitle": {
          "text": "Technologies"
         },
         "line": {
          "color": "#ff6b6b",
          "width": 0
         },
         "marker": {
          "symbol": "circle"
         },
         "mode": "lines",
         "name": "Fossil fuel gas",
         "orientation": "v",
         "showlegend": true,
         "stackgroup": "1",
         "type": "scatter",
         "x": [
          2025,
          2030,
          2035,
          2040,
          2045,
          2050
         ],
         "xaxis": "x",
         "y": [
          0.06378817699637515,
          0.11521803476167268,
          0.1374339917608007,
          0.15629521511122957,
          0.17565394645247112,
          0.17920911081230656
         ],
         "yaxis": "y"
        },
        {
         "fillcolor": "#ff6b6b",
         "fillpattern": {
          "shape": ""
         },
         "hovertemplate": "Generator=Fossil fuel gas<br>scenario=CER<br>pds=%{x}<br>value=%{y}<extra></extra>",
         "legendgroup": "gentechs",
         "legendgrouptitle": {
          "text": "Technologies"
         },
         "line": {
          "color": "#ff6b6b",
          "width": 0
         },
         "marker": {
          "symbol": "circle"
         },
         "mode": "lines",
         "name": "Fossil fuel gas",
         "orientation": "v",
         "showlegend": false,
         "stackgroup": "1",
         "type": "scatter",
         "x": [
          2025,
          2030,
          2035,
          2040,
          2045,
          2050
         ],
         "xaxis": "x2",
         "y": [
          0.01663409276847492,
          0.050551036135897245,
          0.02218006913373508,
          0.011380946802020809,
          0.011451247493445046,
          0.010394053179564534
         ],
         "yaxis": "y3"
        },
        {
         "fillcolor": "#ff6b6b",
         "fillpattern": {
          "shape": ""
         },
         "hovertemplate": "Generator=Fossil fuel gas<br>scenario=CER+<br>pds=%{x}<br>value=%{y}<extra></extra>",
         "legendgroup": "gentechs",
         "legendgrouptitle": {
          "text": "Technologies"
         },
         "line": {
          "color": "#ff6b6b",
          "width": 0
         },
         "marker": {
          "symbol": "circle"
         },
         "mode": "lines",
         "name": "Fossil fuel gas",
         "orientation": "v",
         "showlegend": false,
         "stackgroup": "1",
         "type": "scatter",
         "x": [
          2025,
          2030,
          2035,
          2040,
          2045,
          2050
         ],
         "xaxis": "x3",
         "y": [
          0.015338367427959312,
          0.049611624381612734,
          0.02285206496521302,
          0.010337808138170933,
          0.011175952515639279,
          0.010257089567584114
         ],
         "yaxis": "y5"
        },
        {
         "fillcolor": "#ff6b6b",
         "fillpattern": {
          "shape": ""
         },
         "hovertemplate": "Generator=Fossil fuel gas<br>scenario=Rapid<br>pds=%{x}<br>value=%{y}<extra></extra>",
         "legendgroup": "gentechs",
         "legendgrouptitle": {
          "text": "Technologies"
         },
         "line": {
          "color": "#ff6b6b",
          "width": 0
         },
         "marker": {
          "symbol": "circle"
         },
         "mode": "lines",
         "name": "Fossil fuel gas",
         "orientation": "v",
         "showlegend": false,
         "stackgroup": "1",
         "type": "scatter",
         "x": [
          2025,
          2030
         ],
         "xaxis": "x4",
         "y": [
          0.008745026768574311,
          0.022469447766045907
         ],
         "yaxis": "y7"
        },
        {
         "fillcolor": "#ff6b6b",
         "fillpattern": {
          "shape": ""
         },
         "hovertemplate": "Generator=Fossil fuel gas<br>scenario=Rapid+<br>pds=%{x}<br>value=%{y}<extra></extra>",
         "legendgroup": "gentechs",
         "legendgrouptitle": {
          "text": "Technologies"
         },
         "line": {
          "color": "#ff6b6b",
          "width": 0
         },
         "marker": {
          "symbol": "circle"
         },
         "mode": "lines",
         "name": "Fossil fuel gas",
         "orientation": "v",
         "showlegend": false,
         "stackgroup": "1",
         "type": "scatter",
         "x": [
          2025,
          2030
         ],
         "xaxis": "x5",
         "y": [
          0.008471178692052012,
          0.021446736476182934
         ],
         "yaxis": "y9"
        },
        {
         "fillcolor": "#a6cee3",
         "fillpattern": {
          "shape": ""
         },
         "hovertemplate": "Generator=Hydro<br>scenario=BAU<br>pds=%{x}<br>value=%{y}<extra></extra>",
         "legendgroup": "gentechs",
         "legendgrouptitle": {
          "text": "Technologies"
         },
         "line": {
          "color": "#a6cee3",
          "width": 0
         },
         "marker": {
          "symbol": "circle"
         },
         "mode": "lines",
         "name": "Hydro",
         "orientation": "v",
         "showlegend": true,
         "stackgroup": "1",
         "type": "scatter",
         "x": [
          2025,
          2030,
          2035,
          2040,
          2045,
          2050
         ],
         "xaxis": "x",
         "y": [
          0.1266507217569482,
          0.07914788110301083,
          0.05803098645080591,
          0.04551837890684772,
          0.03487566620948769,
          0.030067641357440215
         ],
         "yaxis": "y"
        },
        {
         "fillcolor": "#a6cee3",
         "fillpattern": {
          "shape": ""
         },
         "hovertemplate": "Generator=Hydro<br>scenario=CER<br>pds=%{x}<br>value=%{y}<extra></extra>",
         "legendgroup": "gentechs",
         "legendgrouptitle": {
          "text": "Technologies"
         },
         "line": {
          "color": "#a6cee3",
          "width": 0
         },
         "marker": {
          "symbol": "circle"
         },
         "mode": "lines",
         "name": "Hydro",
         "orientation": "v",
         "showlegend": false,
         "stackgroup": "1",
         "type": "scatter",
         "x": [
          2025,
          2030,
          2035,
          2040,
          2045,
          2050
         ],
         "xaxis": "x2",
         "y": [
          0.13289824675141404,
          0.09682426810720428,
          0.06189346786129182,
          0.04683323752731854,
          0.03864394229651149,
          0.03528971359049233
         ],
         "yaxis": "y3"
        },
        {
         "fillcolor": "#a6cee3",
         "fillpattern": {
          "shape": ""
         },
         "hovertemplate": "Generator=Hydro<br>scenario=CER+<br>pds=%{x}<br>value=%{y}<extra></extra>",
         "legendgroup": "gentechs",
         "legendgrouptitle": {
          "text": "Technologies"
         },
         "line": {
          "color": "#a6cee3",
          "width": 0
         },
         "marker": {
          "symbol": "circle"
         },
         "mode": "lines",
         "name": "Hydro",
         "orientation": "v",
         "showlegend": false,
         "stackgroup": "1",
         "type": "scatter",
         "x": [
          2025,
          2030,
          2035,
          2040,
          2045,
          2050
         ],
         "xaxis": "x3",
         "y": [
          0.1332386320139894,
          0.09737902414628219,
          0.05893481406957668,
          0.044825759197877055,
          0.0375033534512211,
          0.034546732831503
         ],
         "yaxis": "y5"
        },
        {
         "fillcolor": "#a6cee3",
         "fillpattern": {
          "shape": ""
         },
         "hovertemplate": "Generator=Hydro<br>scenario=Rapid<br>pds=%{x}<br>value=%{y}<extra></extra>",
         "legendgroup": "gentechs",
         "legendgrouptitle": {
          "text": "Technologies"
         },
         "line": {
          "color": "#a6cee3",
          "width": 0
         },
         "marker": {
          "symbol": "circle"
         },
         "mode": "lines",
         "name": "Hydro",
         "orientation": "v",
         "showlegend": false,
         "stackgroup": "1",
         "type": "scatter",
         "x": [
          2025,
          2030,
          2035,
          2040,
          2045,
          2050
         ],
         "xaxis": "x4",
         "y": [
          0.134695442403118,
          0.10245429181425011,
          0.06151120030791187,
          0.04774610311073908,
          0.041700683016274026,
          0.03709208943977883
         ],
         "yaxis": "y7"
        },
        {
         "fillcolor": "#a6cee3",
         "fillpattern": {
          "shape": ""
         },
         "hovertemplate": "Generator=Hydro<br>scenario=Rapid+<br>pds=%{x}<br>value=%{y}<extra></extra>",
         "legendgroup": "gentechs",
         "legendgrouptitle": {
          "text": "Technologies"
         },
         "line": {
          "color": "#a6cee3",
          "width": 0
         },
         "marker": {
          "symbol": "circle"
         },
         "mode": "lines",
         "name": "Hydro",
         "orientation": "v",
         "showlegend": false,
         "stackgroup": "1",
         "type": "scatter",
         "x": [
          2025,
          2030,
          2035,
          2040,
          2045,
          2050
         ],
         "xaxis": "x5",
         "y": [
          0.1351533212821583,
          0.10169669223497298,
          0.058572192594538504,
          0.04733569130651203,
          0.041448230379072054,
          0.0370070066806243
         ],
         "yaxis": "y9"
        },
        {
         "fillcolor": "#ff7f00",
         "fillpattern": {
          "shape": ""
         },
         "hovertemplate": "Generator=Nuclear<br>scenario=BAU<br>pds=%{x}<br>value=%{y}<extra></extra>",
         "legendgroup": "gentechs",
         "legendgrouptitle": {
          "text": "Technologies"
         },
         "line": {
          "color": "#ff7f00",
          "width": 0
         },
         "marker": {
          "symbol": "circle"
         },
         "mode": "lines",
         "name": "Nuclear",
         "orientation": "v",
         "showlegend": true,
         "stackgroup": "1",
         "type": "scatter",
         "x": [
          2025,
          2030,
          2035,
          2040,
          2045,
          2050
         ],
         "xaxis": "x",
         "y": [
          0.49954541530219665,
          0.202290530594411,
          0.148119803761273,
          0.12152951793604826,
          0.08062180072291213,
          0.07137111224225462
         ],
         "yaxis": "y"
        },
        {
         "fillcolor": "#ff7f00",
         "fillpattern": {
          "shape": ""
         },
         "hovertemplate": "Generator=Nuclear<br>scenario=CER<br>pds=%{x}<br>value=%{y}<extra></extra>",
         "legendgroup": "gentechs",
         "legendgrouptitle": {
          "text": "Technologies"
         },
         "line": {
          "color": "#ff7f00",
          "width": 0
         },
         "marker": {
          "symbol": "circle"
         },
         "mode": "lines",
         "name": "Nuclear",
         "orientation": "v",
         "showlegend": false,
         "stackgroup": "1",
         "type": "scatter",
         "x": [
          2025,
          2030,
          2035,
          2040,
          2045,
          2050
         ],
         "xaxis": "x2",
         "y": [
          0.6735045104012152,
          0.25717019267856817,
          0.15089206161594537,
          0.11410066639052982,
          0.07782210814806044,
          0.06905386927163944
         ],
         "yaxis": "y3"
        },
        {
         "fillcolor": "#ff7f00",
         "fillpattern": {
          "shape": ""
         },
         "hovertemplate": "Generator=Nuclear<br>scenario=CER+<br>pds=%{x}<br>value=%{y}<extra></extra>",
         "legendgroup": "gentechs",
         "legendgrouptitle": {
          "text": "Technologies"
         },
         "line": {
          "color": "#ff7f00",
          "width": 0
         },
         "marker": {
          "symbol": "circle"
         },
         "mode": "lines",
         "name": "Nuclear",
         "orientation": "v",
         "showlegend": false,
         "stackgroup": "1",
         "type": "scatter",
         "x": [
          2025,
          2030,
          2035,
          2040,
          2045,
          2050
         ],
         "xaxis": "x3",
         "y": [
          0.6740066041062486,
          0.25803745319005,
          0.14359447091055277,
          0.11302012094677656,
          0.07499809613711607,
          0.06687103919518642
         ],
         "yaxis": "y5"
        },
        {
         "fillcolor": "#ff7f00",
         "fillpattern": {
          "shape": ""
         },
         "hovertemplate": "Generator=Nuclear<br>scenario=Rapid<br>pds=%{x}<br>value=%{y}<extra></extra>",
         "legendgroup": "gentechs",
         "legendgrouptitle": {
          "text": "Technologies"
         },
         "line": {
          "color": "#ff7f00",
          "width": 0
         },
         "marker": {
          "symbol": "circle"
         },
         "mode": "lines",
         "name": "Nuclear",
         "orientation": "v",
         "showlegend": false,
         "stackgroup": "1",
         "type": "scatter",
         "x": [
          2025,
          2030,
          2035,
          2040,
          2045,
          2050
         ],
         "xaxis": "x4",
         "y": [
          0.6709627492438659,
          0.2834501615679429,
          0.18879436844473074,
          0.1644272363716494,
          0.12519837935502112,
          0.10861150377259732
         ],
         "yaxis": "y7"
        },
        {
         "fillcolor": "#ff7f00",
         "fillpattern": {
          "shape": ""
         },
         "hovertemplate": "Generator=Nuclear<br>scenario=Rapid+<br>pds=%{x}<br>value=%{y}<extra></extra>",
         "legendgroup": "gentechs",
         "legendgrouptitle": {
          "text": "Technologies"
         },
         "line": {
          "color": "#ff7f00",
          "width": 0
         },
         "marker": {
          "symbol": "circle"
         },
         "mode": "lines",
         "name": "Nuclear",
         "orientation": "v",
         "showlegend": false,
         "stackgroup": "1",
         "type": "scatter",
         "x": [
          2025,
          2030,
          2035,
          2040,
          2045,
          2050
         ],
         "xaxis": "x5",
         "y": [
          0.6764095632105899,
          0.2908925678273226,
          0.17731104663344352,
          0.16629811748297602,
          0.12349353580757642,
          0.10872993236336748
         ],
         "yaxis": "y9"
        },
        {
         "fillcolor": "#ffff99",
         "fillpattern": {
          "shape": ""
         },
         "hovertemplate": "Generator=Solar<br>scenario=BAU<br>pds=%{x}<br>value=%{y}<extra></extra>",
         "legendgroup": "gentechs",
         "legendgrouptitle": {
          "text": "Technologies"
         },
         "line": {
          "color": "#ffff99",
          "width": 0
         },
         "marker": {
          "symbol": "circle"
         },
         "mode": "lines",
         "name": "Solar",
         "orientation": "v",
         "showlegend": true,
         "stackgroup": "1",
         "type": "scatter",
         "x": [
          2025,
          2030,
          2035,
          2040,
          2045,
          2050
         ],
         "xaxis": "x",
         "y": [
          0.005320952328381418,
          0.022602952941465873,
          0.024836676396913407,
          0.030747841816575187,
          0.04288065862229848,
          0.048384003305875216
         ],
         "yaxis": "y"
        },
        {
         "fillcolor": "#ffff99",
         "fillpattern": {
          "shape": ""
         },
         "hovertemplate": "Generator=Solar<br>scenario=CER<br>pds=%{x}<br>value=%{y}<extra></extra>",
         "legendgroup": "gentechs",
         "legendgrouptitle": {
          "text": "Technologies"
         },
         "line": {
          "color": "#ffff99",
          "width": 0
         },
         "marker": {
          "symbol": "circle"
         },
         "mode": "lines",
         "name": "Solar",
         "orientation": "v",
         "showlegend": false,
         "stackgroup": "1",
         "type": "scatter",
         "x": [
          2025,
          2030,
          2035,
          2040,
          2045,
          2050
         ],
         "xaxis": "x2",
         "y": [
          0.005583428390142199,
          0.02629537110454824,
          0.07404079930556268,
          0.07673543258637831,
          0.09175258234792312,
          0.08292496457339042
         ],
         "yaxis": "y3"
        },
        {
         "fillcolor": "#ffff99",
         "fillpattern": {
          "shape": ""
         },
         "hovertemplate": "Generator=Solar<br>scenario=CER+<br>pds=%{x}<br>value=%{y}<extra></extra>",
         "legendgroup": "gentechs",
         "legendgrouptitle": {
          "text": "Technologies"
         },
         "line": {
          "color": "#ffff99",
          "width": 0
         },
         "marker": {
          "symbol": "circle"
         },
         "mode": "lines",
         "name": "Solar",
         "orientation": "v",
         "showlegend": false,
         "stackgroup": "1",
         "type": "scatter",
         "x": [
          2025,
          2030,
          2035,
          2040,
          2045,
          2050
         ],
         "xaxis": "x3",
         "y": [
          0.005597728930481185,
          0.026363170839342573,
          0.07257623567606603,
          0.08453923115393508,
          0.08522383117504549,
          0.08164079916469383
         ],
         "yaxis": "y5"
        },
        {
         "fillcolor": "#ffff99",
         "fillpattern": {
          "shape": ""
         },
         "hovertemplate": "Generator=Solar<br>scenario=Rapid<br>pds=%{x}<br>value=%{y}<extra></extra>",
         "legendgroup": "gentechs",
         "legendgrouptitle": {
          "text": "Technologies"
         },
         "line": {
          "color": "#ffff99",
          "width": 0
         },
         "marker": {
          "symbol": "circle"
         },
         "mode": "lines",
         "name": "Solar",
         "orientation": "v",
         "showlegend": false,
         "stackgroup": "1",
         "type": "scatter",
         "x": [
          2025,
          2030,
          2035,
          2040,
          2045,
          2050
         ],
         "xaxis": "x4",
         "y": [
          0.005658933624181393,
          0.046006955052284186,
          0.05816328434223138,
          0.0697115182536806,
          0.08472957510644846,
          0.06048509662217679
         ],
         "yaxis": "y7"
        },
        {
         "fillcolor": "#ffff99",
         "fillpattern": {
          "shape": ""
         },
         "hovertemplate": "Generator=Solar<br>scenario=Rapid+<br>pds=%{x}<br>value=%{y}<extra></extra>",
         "legendgroup": "gentechs",
         "legendgrouptitle": {
          "text": "Technologies"
         },
         "line": {
          "color": "#ffff99",
          "width": 0
         },
         "marker": {
          "symbol": "circle"
         },
         "mode": "lines",
         "name": "Solar",
         "orientation": "v",
         "showlegend": false,
         "stackgroup": "1",
         "type": "scatter",
         "x": [
          2025,
          2030,
          2035,
          2040,
          2045,
          2050
         ],
         "xaxis": "x5",
         "y": [
          0.005678170401151535,
          0.04315415187702372,
          0.07163475376068412,
          0.06656985845425248,
          0.06883644032365964,
          0.06512917149785506
         ],
         "yaxis": "y9"
        },
        {
         "fillcolor": "#b2df8a",
         "fillpattern": {
          "shape": ""
         },
         "hovertemplate": "Generator=Wind<br>scenario=BAU<br>pds=%{x}<br>value=%{y}<extra></extra>",
         "legendgroup": "gentechs",
         "legendgrouptitle": {
          "text": "Technologies"
         },
         "line": {
          "color": "#b2df8a",
          "width": 0
         },
         "marker": {
          "symbol": "circle"
         },
         "mode": "lines",
         "name": "Wind",
         "orientation": "v",
         "showlegend": true,
         "stackgroup": "1",
         "type": "scatter",
         "x": [
          2025,
          2030,
          2035,
          2040,
          2045,
          2050
         ],
         "xaxis": "x",
         "y": [
          0.30469473361609867,
          0.5807406005994395,
          0.6315785416302069,
          0.6459090462292992,
          0.6659679279928306,
          0.6709681322821234
         ],
         "yaxis": "y"
        },
        {
         "fillcolor": "#b2df8a",
         "fillpattern": {
          "shape": ""
         },
         "hovertemplate": "Generator=Wind<br>scenario=CER<br>pds=%{x}<br>value=%{y}<extra></extra>",
         "legendgroup": "gentechs",
         "legendgrouptitle": {
          "text": "Technologies"
         },
         "line": {
          "color": "#b2df8a",
          "width": 0
         },
         "marker": {
          "symbol": "circle"
         },
         "mode": "lines",
         "name": "Wind",
         "orientation": "v",
         "showlegend": false,
         "stackgroup": "1",
         "type": "scatter",
         "x": [
          2025,
          2030,
          2035,
          2040,
          2045,
          2050
         ],
         "xaxis": "x2",
         "y": [
          0.17137972168875368,
          0.569159131973782,
          0.6652578452207439,
          0.706235173823197,
          0.7240638080306683,
          0.742492918562353
         ],
         "yaxis": "y3"
        },
        {
         "fillcolor": "#b2df8a",
         "fillpattern": {
          "shape": ""
         },
         "hovertemplate": "Generator=Wind<br>scenario=CER+<br>pds=%{x}<br>value=%{y}<extra></extra>",
         "legendgroup": "gentechs",
         "legendgrouptitle": {
          "text": "Technologies"
         },
         "line": {
          "color": "#b2df8a",
          "width": 0
         },
         "marker": {
          "symbol": "circle"
         },
         "mode": "lines",
         "name": "Wind",
         "orientation": "v",
         "showlegend": false,
         "stackgroup": "1",
         "type": "scatter",
         "x": [
          2025,
          2030,
          2035,
          2040,
          2045,
          2050
         ],
         "xaxis": "x3",
         "y": [
          0.17181866752132158,
          0.5686087274427124,
          0.6749026469268632,
          0.6950677388812173,
          0.7314666075066533,
          0.7448499134248401
         ],
         "yaxis": "y5"
        },
        {
         "fillcolor": "#b2df8a",
         "fillpattern": {
          "shape": ""
         },
         "hovertemplate": "Generator=Wind<br>scenario=Rapid<br>pds=%{x}<br>value=%{y}<extra></extra>",
         "legendgroup": "gentechs",
         "legendgrouptitle": {
          "text": "Technologies"
         },
         "line": {
          "color": "#b2df8a",
          "width": 0
         },
         "marker": {
          "symbol": "circle"
         },
         "mode": "lines",
         "name": "Wind",
         "orientation": "v",
         "showlegend": false,
         "stackgroup": "1",
         "type": "scatter",
         "x": [
          2025,
          2030,
          2035,
          2040,
          2045,
          2050
         ],
         "xaxis": "x4",
         "y": [
          0.17993784796026055,
          0.545619143799477,
          0.6888050084121277,
          0.7161051847773426,
          0.7461747110826759,
          0.7916898650650542
         ],
         "yaxis": "y7"
        },
        {
         "fillcolor": "#b2df8a",
         "fillpattern": {
          "shape": ""
         },
         "hovertemplate": "Generator=Wind<br>scenario=Rapid+<br>pds=%{x}<br>value=%{y}<extra></extra>",
         "legendgroup": "gentechs",
         "legendgrouptitle": {
          "text": "Technologies"
         },
         "line": {
          "color": "#b2df8a",
          "width": 0
         },
         "marker": {
          "symbol": "circle"
         },
         "mode": "lines",
         "name": "Wind",
         "orientation": "v",
         "showlegend": false,
         "stackgroup": "1",
         "type": "scatter",
         "x": [
          2025,
          2030,
          2035,
          2040,
          2045,
          2050
         ],
         "xaxis": "x5",
         "y": [
          0.17428776641404825,
          0.5428098515844979,
          0.6892497070811048,
          0.717955273488547,
          0.7640243859363236,
          0.7869986549973672
         ],
         "yaxis": "y9"
        },
        {
         "fillcolor": "#33a02c",
         "fillpattern": {
          "shape": ""
         },
         "hovertemplate": "Generator=Biomass<br>scenario=CER<br>pds=%{x}<br>value=%{y}<extra></extra>",
         "legendgroup": "gentechs",
         "legendgrouptitle": {
          "text": "Technologies"
         },
         "line": {
          "color": "#33a02c",
          "width": 0
         },
         "marker": {
          "symbol": "circle"
         },
         "mode": "lines",
         "name": "Biomass",
         "orientation": "v",
         "showlegend": true,
         "stackgroup": "1",
         "type": "scatter",
         "x": [
          2045,
          2050
         ],
         "xaxis": "x2",
         "y": [
          0.0016396847717021527,
          0.0017197712017431195
         ],
         "yaxis": "y3"
        },
        {
         "fillcolor": "#33a02c",
         "fillpattern": {
          "shape": ""
         },
         "hovertemplate": "Generator=Biomass<br>scenario=CER+<br>pds=%{x}<br>value=%{y}<extra></extra>",
         "legendgroup": "gentechs",
         "legendgrouptitle": {
          "text": "Technologies"
         },
         "line": {
          "color": "#33a02c",
          "width": 0
         },
         "marker": {
          "symbol": "circle"
         },
         "mode": "lines",
         "name": "Biomass",
         "orientation": "v",
         "showlegend": false,
         "stackgroup": "1",
         "type": "scatter",
         "x": [
          2040,
          2045,
          2050
         ],
         "xaxis": "x3",
         "y": [
          0.002080747232237903,
          0.001859735584883496,
          0.0016193022456962795
         ],
         "yaxis": "y5"
        },
        {
         "fillcolor": "#33a02c",
         "fillpattern": {
          "shape": ""
         },
         "hovertemplate": "Generator=Biomass<br>scenario=Rapid<br>pds=%{x}<br>value=%{y}<extra></extra>",
         "legendgroup": "gentechs",
         "legendgrouptitle": {
          "text": "Technologies"
         },
         "line": {
          "color": "#33a02c",
          "width": 0
         },
         "marker": {
          "symbol": "circle"
         },
         "mode": "lines",
         "name": "Biomass",
         "orientation": "v",
         "showlegend": false,
         "stackgroup": "1",
         "type": "scatter",
         "x": [
          2035,
          2040,
          2045,
          2050
         ],
         "xaxis": "x4",
         "y": [
          0.001502840192120562,
          0.0013411622311768775,
          0.0011752319080285904,
          0.0011180138894567933
         ],
         "yaxis": "y7"
        },
        {
         "fillcolor": "#33a02c",
         "fillpattern": {
          "shape": ""
         },
         "hovertemplate": "Generator=Biomass<br>scenario=Rapid+<br>pds=%{x}<br>value=%{y}<extra></extra>",
         "legendgroup": "gentechs",
         "legendgrouptitle": {
          "text": "Technologies"
         },
         "line": {
          "color": "#33a02c",
          "width": 0
         },
         "marker": {
          "symbol": "circle"
         },
         "mode": "lines",
         "name": "Biomass",
         "orientation": "v",
         "showlegend": false,
         "stackgroup": "1",
         "type": "scatter",
         "x": [
          2035,
          2040,
          2045,
          2050
         ],
         "xaxis": "x5",
         "y": [
          0.00192917067898777,
          0.0013686008847267235,
          0.0011744966263975802,
          0.0011490937638036535
         ],
         "yaxis": "y9"
        },
        {
         "fillcolor": "#2496e3",
         "fillpattern": {
          "shape": ""
         },
         "hovertemplate": "Generator=Hydrogen - blue<br>scenario=CER<br>pds=%{x}<br>value=%{y}<extra></extra>",
         "legendgroup": "gentechs",
         "legendgrouptitle": {
          "text": "Technologies"
         },
         "line": {
          "color": "#2496e3",
          "width": 0
         },
         "marker": {
          "symbol": "circle"
         },
         "mode": "lines",
         "name": "Hydrogen - blue",
         "orientation": "v",
         "showlegend": true,
         "stackgroup": "1",
         "type": "scatter",
         "x": [
          2035,
          2040,
          2045,
          2050
         ],
         "xaxis": "x2",
         "y": [
          0.02573575686272101,
          0.044714542870555526,
          0.0546266269116895,
          0.058124709620817214
         ],
         "yaxis": "y3"
        },
        {
         "fillcolor": "#2496e3",
         "fillpattern": {
          "shape": ""
         },
         "hovertemplate": "Generator=Hydrogen - blue<br>scenario=CER+<br>pds=%{x}<br>value=%{y}<extra></extra>",
         "legendgroup": "gentechs",
         "legendgrouptitle": {
          "text": "Technologies"
         },
         "line": {
          "color": "#2496e3",
          "width": 0
         },
         "marker": {
          "symbol": "circle"
         },
         "mode": "lines",
         "name": "Hydrogen - blue",
         "orientation": "v",
         "showlegend": false,
         "stackgroup": "1",
         "type": "scatter",
         "x": [
          2035,
          2040,
          2045,
          2050
         ],
         "xaxis": "x3",
         "y": [
          0.027139767451728337,
          0.05012859444978508,
          0.05777242362944143,
          0.0602151235704963
         ],
         "yaxis": "y5"
        },
        {
         "fillcolor": "#2de35e",
         "fillpattern": {
          "shape": ""
         },
         "hovertemplate": "Generator=Hydrogen - green<br>scenario=Rapid<br>pds=%{x}<br>value=%{y}<extra></extra>",
         "legendgroup": "gentechs",
         "legendgrouptitle": {
          "text": "Technologies"
         },
         "line": {
          "color": "#2de35e",
          "width": 0
         },
         "marker": {
          "symbol": "circle"
         },
         "mode": "lines",
         "name": "Hydrogen - green",
         "orientation": "v",
         "showlegend": true,
         "stackgroup": "1",
         "type": "scatter",
         "x": [
          2035,
          2040,
          2045,
          2050
         ],
         "xaxis": "x4",
         "y": [
          0.0012232983008777488,
          0.0006687952554114353,
          0.0010214195315519448,
          0.0010034312109359154
         ],
         "yaxis": "y7"
        },
        {
         "fillcolor": "#2de35e",
         "fillpattern": {
          "shape": ""
         },
         "hovertemplate": "Generator=Hydrogen - green<br>scenario=Rapid+<br>pds=%{x}<br>value=%{y}<extra></extra>",
         "legendgroup": "gentechs",
         "legendgrouptitle": {
          "text": "Technologies"
         },
         "line": {
          "color": "#2de35e",
          "width": 0
         },
         "marker": {
          "symbol": "circle"
         },
         "mode": "lines",
         "name": "Hydrogen - green",
         "orientation": "v",
         "showlegend": false,
         "stackgroup": "1",
         "type": "scatter",
         "x": [
          2035,
          2040,
          2045,
          2050
         ],
         "xaxis": "x5",
         "y": [
          0.0013031292512413594,
          0.0004724583829856825,
          0.0010229109269706653,
          0.0009861406969822388
         ],
         "yaxis": "y9"
        },
        {
         "mode": "lines",
         "showlegend": false,
         "type": "scatter",
         "x": [
          2025,
          2030,
          2035,
          2040,
          2045,
          2050
         ],
         "xaxis": "x",
         "y": [
          3.2029189142291163,
          10.345832300557781,
          21.057860751449144,
          35.78560143284789,
          54.647945337671835,
          75.88957925116729
         ],
         "yaxis": "y2"
        },
        {
         "mode": "lines",
         "showlegend": false,
         "type": "scatter",
         "x": [
          2025,
          2030,
          2035,
          2040,
          2045,
          2050
         ],
         "xaxis": "x2",
         "y": [
          0.7959637514411144,
          4.405145322049216,
          6.530909703123486,
          7.915615519241881,
          9.59310971951819,
          11.356203906153379
         ],
         "yaxis": "y4"
        },
        {
         "mode": "lines",
         "showlegend": false,
         "type": "scatter",
         "x": [
          2025,
          2030,
          2035,
          2040,
          2045,
          2050
         ],
         "xaxis": "x3",
         "y": [
          0.732086493578106,
          4.248212086067722,
          6.502570866995801,
          7.894303942201159,
          9.625765958563523,
          11.43080151532469
         ],
         "yaxis": "y6"
        },
        {
         "mode": "lines",
         "showlegend": false,
         "type": "scatter",
         "x": [
          2025,
          2030,
          2035,
          2040,
          2045,
          2050
         ],
         "xaxis": "x4",
         "y": [
          0.41287792623363845,
          1.8869560595382937,
          1.8869560595382937,
          1.8869560595382937,
          1.8869560595382937,
          1.8869560595382937
         ],
         "yaxis": "y8"
        },
        {
         "mode": "lines",
         "showlegend": false,
         "type": "scatter",
         "x": [
          2025,
          2030,
          2035,
          2040,
          2045,
          2050
         ],
         "xaxis": "x5",
         "y": [
          0.3985938034709686,
          1.8337395571896495,
          1.8337395571896495,
          1.8337395571896495,
          1.8337395571896495,
          1.8337395571896495
         ],
         "yaxis": "y10"
        },
        {
         "alignmentgroup": "True",
         "hovertemplate": "Generator=Fossil fuel gas<br>scenario=BAU<br>pds=%{x}<br>Capacity (GW)=%{y}<extra></extra>",
         "legendgroup": "gentechs",
         "marker": {
          "color": "#ff6b6b",
          "pattern": {
           "shape": ""
          }
         },
         "name": "Fossil fuel gas",
         "offsetgroup": "Fossil fuel gas",
         "orientation": "v",
         "showlegend": false,
         "textposition": "auto",
         "type": "bar",
         "x": [
          2025,
          2030,
          2035,
          2040,
          2045,
          2050
         ],
         "xaxis": "x6",
         "y": [
          1.6259849773870694,
          6.898411992566869,
          5.273120988547382,
          5.03918374976013,
          5.509040136395616,
          2.889337671109973
         ],
         "yaxis": "y11"
        },
        {
         "alignmentgroup": "True",
         "hovertemplate": "Generator=Fossil fuel gas<br>scenario=CER<br>pds=%{x}<br>Capacity (GW)=%{y}<extra></extra>",
         "legendgroup": "gentechs",
         "marker": {
          "color": "#ff6b6b",
          "pattern": {
           "shape": ""
          }
         },
         "name": "Fossil fuel gas",
         "offsetgroup": "Fossil fuel gas",
         "orientation": "v",
         "showlegend": false,
         "textposition": "auto",
         "type": "bar",
         "x": [
          2035,
          2040,
          2045
         ],
         "xaxis": "x7",
         "y": [
          4.9810636866772,
          1.7882406243664635,
          1.0028223887638683
         ],
         "yaxis": "y12"
        },
        {
         "alignmentgroup": "True",
         "hovertemplate": "Generator=Fossil fuel gas<br>scenario=CER+<br>pds=%{x}<br>Capacity (GW)=%{y}<extra></extra>",
         "legendgroup": "gentechs",
         "marker": {
          "color": "#ff6b6b",
          "pattern": {
           "shape": ""
          }
         },
         "name": "Fossil fuel gas",
         "offsetgroup": "Fossil fuel gas",
         "orientation": "v",
         "showlegend": false,
         "textposition": "auto",
         "type": "bar",
         "x": [
          2035,
          2040,
          2045
         ],
         "xaxis": "x8",
         "y": [
          5.7496142062853695,
          0.6671755167717301,
          1.4114268789081452
         ],
         "yaxis": "y13"
        },
        {
         "alignmentgroup": "True",
         "hovertemplate": "Generator=Fossil fuel gas - retired<br>scenario=BAU<br>pds=%{x}<br>Capacity (GW)=%{y}<extra></extra>",
         "legendgroup": "gentechs",
         "marker": {
          "color": "#784315",
          "pattern": {
           "shape": ""
          }
         },
         "name": "Fossil fuel gas - retired",
         "offsetgroup": "Fossil fuel gas - retired",
         "orientation": "v",
         "showlegend": true,
         "textposition": "auto",
         "type": "bar",
         "x": [
          2025,
          2030,
          2035,
          2040,
          2045
         ],
         "xaxis": "x6",
         "y": [
          -4.12343812106739,
          -2.29936187893261,
          -0.433,
          -0.377,
          -0.978
         ],
         "yaxis": "y11"
        },
        {
         "alignmentgroup": "True",
         "hovertemplate": "Generator=Fossil fuel gas - retired<br>scenario=CER<br>pds=%{x}<br>Capacity (GW)=%{y}<extra></extra>",
         "legendgroup": "gentechs",
         "marker": {
          "color": "#784315",
          "pattern": {
           "shape": ""
          }
         },
         "name": "Fossil fuel gas - retired",
         "offsetgroup": "Fossil fuel gas - retired",
         "orientation": "v",
         "showlegend": false,
         "textposition": "auto",
         "type": "bar",
         "x": [
          2025,
          2035,
          2040
         ],
         "xaxis": "x7",
         "y": [
          -0.11211471942575395,
          -3.6488852805742464,
          -1.4068
         ],
         "yaxis": "y12"
        },
        {
         "alignmentgroup": "True",
         "hovertemplate": "Generator=Fossil fuel gas - retired<br>scenario=CER+<br>pds=%{x}<br>Capacity (GW)=%{y}<extra></extra>",
         "legendgroup": "gentechs",
         "marker": {
          "color": "#784315",
          "pattern": {
           "shape": ""
          }
         },
         "name": "Fossil fuel gas - retired",
         "offsetgroup": "Fossil fuel gas - retired",
         "orientation": "v",
         "showlegend": false,
         "textposition": "auto",
         "type": "bar",
         "x": [
          2025,
          2035,
          2040
         ],
         "xaxis": "x8",
         "y": [
          -0.21470696484672,
          -3.54629303515328,
          -1.4068
         ],
         "yaxis": "y13"
        },
        {
         "alignmentgroup": "True",
         "hovertemplate": "Generator=Fossil fuel gas - retired<br>scenario=Rapid<br>pds=%{x}<br>Capacity (GW)=%{y}<extra></extra>",
         "legendgroup": "gentechs",
         "marker": {
          "color": "#784315",
          "pattern": {
           "shape": ""
          }
         },
         "name": "Fossil fuel gas - retired",
         "offsetgroup": "Fossil fuel gas - retired",
         "orientation": "v",
         "showlegend": false,
         "textposition": "auto",
         "type": "bar",
         "x": [
          2025,
          2035
         ],
         "xaxis": "x9",
         "y": [
          -2.9791203133609088,
          -4.010679686639091
         ],
         "yaxis": "y14"
        },
        {
         "alignmentgroup": "True",
         "hovertemplate": "Generator=Fossil fuel gas - retired<br>scenario=Rapid+<br>pds=%{x}<br>Capacity (GW)=%{y}<extra></extra>",
         "legendgroup": "gentechs",
         "marker": {
          "color": "#784315",
          "pattern": {
           "shape": ""
          }
         },
         "name": "Fossil fuel gas - retired",
         "offsetgroup": "Fossil fuel gas - retired",
         "orientation": "v",
         "showlegend": false,
         "textposition": "auto",
         "type": "bar",
         "x": [
          2025,
          2035
         ],
         "xaxis": "x10",
         "y": [
          -2.999298598296701,
          -3.990501401703299
         ],
         "yaxis": "y15"
        },
        {
         "alignmentgroup": "True",
         "hovertemplate": "Generator=Wind<br>scenario=BAU<br>pds=%{x}<br>Capacity (GW)=%{y}<extra></extra>",
         "legendgroup": "gentechs",
         "marker": {
          "color": "#b2df8a",
          "pattern": {
           "shape": ""
          }
         },
         "name": "Wind",
         "offsetgroup": "Wind",
         "orientation": "v",
         "showlegend": false,
         "textposition": "auto",
         "type": "bar",
         "x": [
          2025,
          2030,
          2035,
          2040,
          2045,
          2050
         ],
         "xaxis": "x6",
         "y": [
          3.9288885995803113,
          13.060193010817759,
          12.29486303242037,
          8.578554433549849,
          8.503404720547097,
          6.070420126067008
         ],
         "yaxis": "y11"
        },
        {
         "alignmentgroup": "True",
         "hovertemplate": "Generator=Wind<br>scenario=CER<br>pds=%{x}<br>Capacity (GW)=%{y}<extra></extra>",
         "legendgroup": "gentechs",
         "marker": {
          "color": "#b2df8a",
          "pattern": {
           "shape": ""
          }
         },
         "name": "Wind",
         "offsetgroup": "Wind",
         "orientation": "v",
         "showlegend": false,
         "textposition": "auto",
         "type": "bar",
         "x": [
          2030,
          2035,
          2040,
          2045,
          2050
         ],
         "xaxis": "x7",
         "y": [
          16.151198086992924,
          18.685488624311798,
          15.270889433946513,
          16.245120613084147,
          11.977662338443784
         ],
         "yaxis": "y12"
        },
        {
         "alignmentgroup": "True",
         "hovertemplate": "Generator=Wind<br>scenario=CER+<br>pds=%{x}<br>Capacity (GW)=%{y}<extra></extra>",
         "legendgroup": "gentechs",
         "marker": {
          "color": "#b2df8a",
          "pattern": {
           "shape": ""
          }
         },
         "name": "Wind",
         "offsetgroup": "Wind",
         "orientation": "v",
         "showlegend": false,
         "textposition": "auto",
         "type": "bar",
         "x": [
          2030,
          2035,
          2040,
          2045,
          2050
         ],
         "xaxis": "x8",
         "y": [
          15.978836043405357,
          21.821075226510878,
          14.208170428410567,
          17.0305074363754,
          11.535439272024062
         ],
         "yaxis": "y13"
        },
        {
         "alignmentgroup": "True",
         "hovertemplate": "Generator=Wind<br>scenario=Rapid<br>pds=%{x}<br>Capacity (GW)=%{y}<extra></extra>",
         "legendgroup": "gentechs",
         "marker": {
          "color": "#b2df8a",
          "pattern": {
           "shape": ""
          }
         },
         "name": "Wind",
         "offsetgroup": "Wind",
         "orientation": "v",
         "showlegend": false,
         "textposition": "auto",
         "type": "bar",
         "x": [
          2025,
          2030,
          2035,
          2040,
          2045,
          2050
         ],
         "xaxis": "x9",
         "y": [
          0.163073439369135,
          14.488903666761084,
          24.19396542011998,
          16.83621072069411,
          18.972884218611224,
          15.045039870749006
         ],
         "yaxis": "y14"
        },
        {
         "alignmentgroup": "True",
         "hovertemplate": "Generator=Wind<br>scenario=Rapid+<br>pds=%{x}<br>Capacity (GW)=%{y}<extra></extra>",
         "legendgroup": "gentechs",
         "marker": {
          "color": "#b2df8a",
          "pattern": {
           "shape": ""
          }
         },
         "name": "Wind",
         "offsetgroup": "Wind",
         "orientation": "v",
         "showlegend": false,
         "textposition": "auto",
         "type": "bar",
         "x": [
          2030,
          2035,
          2040,
          2045,
          2050
         ],
         "xaxis": "x10",
         "y": [
          14.74660555943375,
          27.295389041102197,
          14.51162302376312,
          19.305374150074325,
          14.323835953335028
         ],
         "yaxis": "y15"
        },
        {
         "alignmentgroup": "True",
         "hovertemplate": "Generator=Nuclear - retired<br>scenario=BAU<br>pds=%{x}<br>Capacity (GW)=%{y}<extra></extra>",
         "legendgroup": "gentechs",
         "marker": {
          "color": "#ff7f00",
          "pattern": {
           "shape": ""
          }
         },
         "name": "Nuclear - retired",
         "offsetgroup": "Nuclear - retired",
         "orientation": "v",
         "showlegend": true,
         "textposition": "auto",
         "type": "bar",
         "x": [
          2030,
          2045
         ],
         "xaxis": "x6",
         "y": [
          -3.102,
          -1.558
         ],
         "yaxis": "y11"
        },
        {
         "alignmentgroup": "True",
         "hovertemplate": "Generator=Nuclear - retired<br>scenario=CER<br>pds=%{x}<br>Capacity (GW)=%{y}<extra></extra>",
         "legendgroup": "gentechs",
         "marker": {
          "color": "#ff7f00",
          "pattern": {
           "shape": ""
          }
         },
         "name": "Nuclear - retired",
         "offsetgroup": "Nuclear - retired",
         "orientation": "v",
         "showlegend": false,
         "textposition": "auto",
         "type": "bar",
         "x": [
          2030,
          2045
         ],
         "xaxis": "x7",
         "y": [
          -3.102,
          -1.558
         ],
         "yaxis": "y12"
        },
        {
         "alignmentgroup": "True",
         "hovertemplate": "Generator=Nuclear - retired<br>scenario=CER+<br>pds=%{x}<br>Capacity (GW)=%{y}<extra></extra>",
         "legendgroup": "gentechs",
         "marker": {
          "color": "#ff7f00",
          "pattern": {
           "shape": ""
          }
         },
         "name": "Nuclear - retired",
         "offsetgroup": "Nuclear - retired",
         "orientation": "v",
         "showlegend": false,
         "textposition": "auto",
         "type": "bar",
         "x": [
          2030,
          2045
         ],
         "xaxis": "x8",
         "y": [
          -3.102,
          -1.558
         ],
         "yaxis": "y13"
        },
        {
         "alignmentgroup": "True",
         "hovertemplate": "Generator=Nuclear - retired<br>scenario=Rapid<br>pds=%{x}<br>Capacity (GW)=%{y}<extra></extra>",
         "legendgroup": "gentechs",
         "marker": {
          "color": "#ff7f00",
          "pattern": {
           "shape": ""
          }
         },
         "name": "Nuclear - retired",
         "offsetgroup": "Nuclear - retired",
         "orientation": "v",
         "showlegend": false,
         "textposition": "auto",
         "type": "bar",
         "x": [
          2030,
          2045
         ],
         "xaxis": "x9",
         "y": [
          -3.102,
          -1.558
         ],
         "yaxis": "y14"
        },
        {
         "alignmentgroup": "True",
         "hovertemplate": "Generator=Nuclear - retired<br>scenario=Rapid+<br>pds=%{x}<br>Capacity (GW)=%{y}<extra></extra>",
         "legendgroup": "gentechs",
         "marker": {
          "color": "#ff7f00",
          "pattern": {
           "shape": ""
          }
         },
         "name": "Nuclear - retired",
         "offsetgroup": "Nuclear - retired",
         "orientation": "v",
         "showlegend": false,
         "textposition": "auto",
         "type": "bar",
         "x": [
          2030,
          2045
         ],
         "xaxis": "x10",
         "y": [
          -3.102,
          -1.558
         ],
         "yaxis": "y15"
        },
        {
         "alignmentgroup": "True",
         "hovertemplate": "Generator=PH Storage<br>scenario=BAU<br>pds=%{x}<br>Capacity (GW)=%{y}<extra></extra>",
         "legendgroup": "gentechs",
         "marker": {
          "color": "#6a3d9a",
          "pattern": {
           "shape": ""
          }
         },
         "name": "PH Storage",
         "offsetgroup": "PH Storage",
         "orientation": "v",
         "showlegend": true,
         "textposition": "auto",
         "type": "bar",
         "x": [
          2030,
          2035
         ],
         "xaxis": "x6",
         "y": [
          0.2102524277983129,
          0.07334757220168708
         ],
         "yaxis": "y11"
        },
        {
         "alignmentgroup": "True",
         "hovertemplate": "Generator=PH Storage<br>scenario=CER<br>pds=%{x}<br>Capacity (GW)=%{y}<extra></extra>",
         "legendgroup": "gentechs",
         "marker": {
          "color": "#6a3d9a",
          "pattern": {
           "shape": ""
          }
         },
         "name": "PH Storage",
         "offsetgroup": "PH Storage",
         "orientation": "v",
         "showlegend": false,
         "textposition": "auto",
         "type": "bar",
         "x": [
          2030
         ],
         "xaxis": "x7",
         "y": [
          0.2836
         ],
         "yaxis": "y12"
        },
        {
         "alignmentgroup": "True",
         "hovertemplate": "Generator=PH Storage<br>scenario=CER+<br>pds=%{x}<br>Capacity (GW)=%{y}<extra></extra>",
         "legendgroup": "gentechs",
         "marker": {
          "color": "#6a3d9a",
          "pattern": {
           "shape": ""
          }
         },
         "name": "PH Storage",
         "offsetgroup": "PH Storage",
         "orientation": "v",
         "showlegend": false,
         "textposition": "auto",
         "type": "bar",
         "x": [
          2030
         ],
         "xaxis": "x8",
         "y": [
          0.2836
         ],
         "yaxis": "y13"
        },
        {
         "alignmentgroup": "True",
         "hovertemplate": "Generator=PH Storage<br>scenario=Rapid<br>pds=%{x}<br>Capacity (GW)=%{y}<extra></extra>",
         "legendgroup": "gentechs",
         "marker": {
          "color": "#6a3d9a",
          "pattern": {
           "shape": ""
          }
         },
         "name": "PH Storage",
         "offsetgroup": "PH Storage",
         "orientation": "v",
         "showlegend": false,
         "textposition": "auto",
         "type": "bar",
         "x": [
          2030
         ],
         "xaxis": "x9",
         "y": [
          0.2836
         ],
         "yaxis": "y14"
        },
        {
         "alignmentgroup": "True",
         "hovertemplate": "Generator=PH Storage<br>scenario=Rapid+<br>pds=%{x}<br>Capacity (GW)=%{y}<extra></extra>",
         "legendgroup": "gentechs",
         "marker": {
          "color": "#6a3d9a",
          "pattern": {
           "shape": ""
          }
         },
         "name": "PH Storage",
         "offsetgroup": "PH Storage",
         "orientation": "v",
         "showlegend": false,
         "textposition": "auto",
         "type": "bar",
         "x": [
          2030
         ],
         "xaxis": "x10",
         "y": [
          0.2836
         ],
         "yaxis": "y15"
        },
        {
         "alignmentgroup": "True",
         "hovertemplate": "Generator=Solar<br>scenario=BAU<br>pds=%{x}<br>Capacity (GW)=%{y}<extra></extra>",
         "legendgroup": "gentechs",
         "marker": {
          "color": "#ffff99",
          "pattern": {
           "shape": ""
          }
         },
         "name": "Solar",
         "offsetgroup": "Solar",
         "orientation": "v",
         "showlegend": false,
         "textposition": "auto",
         "type": "bar",
         "x": [
          2030,
          2035,
          2040,
          2045,
          2050
         ],
         "xaxis": "x6",
         "y": [
          2.3454533195520972,
          1.7782550009558056,
          2.036777191335495,
          4.068583469851594,
          3.395379267451956
         ],
         "yaxis": "y11"
        },
        {
         "alignmentgroup": "True",
         "hovertemplate": "Generator=Solar<br>scenario=CER<br>pds=%{x}<br>Capacity (GW)=%{y}<extra></extra>",
         "legendgroup": "gentechs",
         "marker": {
          "color": "#ffff99",
          "pattern": {
           "shape": ""
          }
         },
         "name": "Solar",
         "offsetgroup": "Solar",
         "orientation": "v",
         "showlegend": false,
         "textposition": "auto",
         "type": "bar",
         "x": [
          2030,
          2035,
          2040,
          2045,
          2050
         ],
         "xaxis": "x7",
         "y": [
          2.6094078294595073,
          9.705828151640773,
          5.081162862595223,
          5.704756559120748,
          4.4583144245031585
         ],
         "yaxis": "y12"
        },
        {
         "alignmentgroup": "True",
         "hovertemplate": "Generator=Solar<br>scenario=CER+<br>pds=%{x}<br>Capacity (GW)=%{y}<extra></extra>",
         "legendgroup": "gentechs",
         "marker": {
          "color": "#ffff99",
          "pattern": {
           "shape": ""
          }
         },
         "name": "Solar",
         "offsetgroup": "Solar",
         "orientation": "v",
         "showlegend": false,
         "textposition": "auto",
         "type": "bar",
         "x": [
          2030,
          2035,
          2040,
          2045,
          2050
         ],
         "xaxis": "x8",
         "y": [
          2.673271994451321,
          10.438746648188328,
          5.695809191492955,
          5.608893274619051,
          4.2852963117899385
         ],
         "yaxis": "y13"
        },
        {
         "alignmentgroup": "True",
         "hovertemplate": "Generator=Solar<br>scenario=Rapid<br>pds=%{x}<br>Capacity (GW)=%{y}<extra></extra>",
         "legendgroup": "gentechs",
         "marker": {
          "color": "#ffff99",
          "pattern": {
           "shape": ""
          }
         },
         "name": "Solar",
         "offsetgroup": "Solar",
         "orientation": "v",
         "showlegend": false,
         "textposition": "auto",
         "type": "bar",
         "x": [
          2030,
          2035,
          2040,
          2045,
          2050
         ],
         "xaxis": "x9",
         "y": [
          4.65427759458689,
          6.71942906751503,
          3.2878092674525288,
          4.6963523656448345,
          2.7984237212643865
         ],
         "yaxis": "y14"
        },
        {
         "alignmentgroup": "True",
         "hovertemplate": "Generator=Solar<br>scenario=Rapid+<br>pds=%{x}<br>Capacity (GW)=%{y}<extra></extra>",
         "legendgroup": "gentechs",
         "marker": {
          "color": "#ffff99",
          "pattern": {
           "shape": ""
          }
         },
         "name": "Solar",
         "offsetgroup": "Solar",
         "orientation": "v",
         "showlegend": false,
         "textposition": "auto",
         "type": "bar",
         "x": [
          2030,
          2035,
          2040,
          2045,
          2050
         ],
         "xaxis": "x10",
         "y": [
          4.463717887648084,
          7.9535803733877986,
          2.3083612365511854,
          4.670938647652062,
          3.0027960203791246
         ],
         "yaxis": "y15"
        },
        {
         "alignmentgroup": "True",
         "hovertemplate": "Generator=LI Storage<br>scenario=BAU<br>pds=%{x}<br>Capacity (GW)=%{y}<extra></extra>",
         "legendgroup": "gentechs",
         "marker": {
          "color": "#B39DE3",
          "pattern": {
           "shape": ""
          }
         },
         "name": "LI Storage",
         "offsetgroup": "LI Storage",
         "orientation": "v",
         "showlegend": true,
         "textposition": "auto",
         "type": "bar",
         "x": [
          2040,
          2045,
          2050
         ],
         "xaxis": "x6",
         "y": [
          0.6669472025715477,
          1.704226557214313,
          1.0717143925569859
         ],
         "yaxis": "y11"
        },
        {
         "alignmentgroup": "True",
         "hovertemplate": "Generator=LI Storage<br>scenario=CER<br>pds=%{x}<br>Capacity (GW)=%{y}<extra></extra>",
         "legendgroup": "gentechs",
         "marker": {
          "color": "#B39DE3",
          "pattern": {
           "shape": ""
          }
         },
         "name": "LI Storage",
         "offsetgroup": "LI Storage",
         "orientation": "v",
         "showlegend": false,
         "textposition": "auto",
         "type": "bar",
         "x": [
          2050
         ],
         "xaxis": "x7",
         "y": [
          0.03024584700205037
         ],
         "yaxis": "y12"
        },
        {
         "alignmentgroup": "True",
         "hovertemplate": "Generator=LI Storage<br>scenario=CER+<br>pds=%{x}<br>Capacity (GW)=%{y}<extra></extra>",
         "legendgroup": "gentechs",
         "marker": {
          "color": "#B39DE3",
          "pattern": {
           "shape": ""
          }
         },
         "name": "LI Storage",
         "offsetgroup": "LI Storage",
         "orientation": "v",
         "showlegend": false,
         "textposition": "auto",
         "type": "bar",
         "x": [
          2035
         ],
         "xaxis": "x8",
         "y": [
          0.0041082722141734624
         ],
         "yaxis": "y13"
        },
        {
         "alignmentgroup": "True",
         "hovertemplate": "Generator=LI Storage<br>scenario=Rapid<br>pds=%{x}<br>Capacity (GW)=%{y}<extra></extra>",
         "legendgroup": "gentechs",
         "marker": {
          "color": "#B39DE3",
          "pattern": {
           "shape": ""
          }
         },
         "name": "LI Storage",
         "offsetgroup": "LI Storage",
         "orientation": "v",
         "showlegend": false,
         "textposition": "auto",
         "type": "bar",
         "x": [
          2035,
          2040,
          2045,
          2050
         ],
         "xaxis": "x9",
         "y": [
          3.571737306908265,
          1.6949881251378798,
          1.9254493217468052,
          5.434641853532262
         ],
         "yaxis": "y14"
        },
        {
         "alignmentgroup": "True",
         "hovertemplate": "Generator=LI Storage<br>scenario=Rapid+<br>pds=%{x}<br>Capacity (GW)=%{y}<extra></extra>",
         "legendgroup": "gentechs",
         "marker": {
          "color": "#B39DE3",
          "pattern": {
           "shape": ""
          }
         },
         "name": "LI Storage",
         "offsetgroup": "LI Storage",
         "orientation": "v",
         "showlegend": false,
         "textposition": "auto",
         "type": "bar",
         "x": [
          2035,
          2040,
          2045,
          2050
         ],
         "xaxis": "x10",
         "y": [
          4.1933166317611645,
          1.3169168450468487,
          1.8286877372655799,
          6.123217757706612
         ],
         "yaxis": "y15"
        },
        {
         "alignmentgroup": "True",
         "hovertemplate": "Generator=Hydrogen - blue<br>scenario=CER<br>pds=%{x}<br>Capacity (GW)=%{y}<extra></extra>",
         "legendgroup": "gentechs",
         "marker": {
          "color": "#2496e3",
          "pattern": {
           "shape": ""
          }
         },
         "name": "Hydrogen - blue",
         "offsetgroup": "Hydrogen - blue",
         "orientation": "v",
         "showlegend": false,
         "textposition": "auto",
         "type": "bar",
         "x": [
          2035,
          2040,
          2045,
          2050
         ],
         "xaxis": "x7",
         "y": [
          4.292288686871782,
          4.750312078165274,
          3.5631980674911388,
          2.1714862090025946
         ],
         "yaxis": "y12"
        },
        {
         "alignmentgroup": "True",
         "hovertemplate": "Generator=Hydrogen - blue<br>scenario=CER+<br>pds=%{x}<br>Capacity (GW)=%{y}<extra></extra>",
         "legendgroup": "gentechs",
         "marker": {
          "color": "#2496e3",
          "pattern": {
           "shape": ""
          }
         },
         "name": "Hydrogen - blue",
         "offsetgroup": "Hydrogen - blue",
         "orientation": "v",
         "showlegend": false,
         "textposition": "auto",
         "type": "bar",
         "x": [
          2035,
          2040,
          2045,
          2050
         ],
         "xaxis": "x8",
         "y": [
          4.693181878678826,
          5.886041437823988,
          3.1794890039032606,
          1.866401329244056
         ],
         "yaxis": "y13"
        },
        {
         "alignmentgroup": "True",
         "hovertemplate": "Generator=Biomass<br>scenario=CER<br>pds=%{x}<br>Capacity (GW)=%{y}<extra></extra>",
         "legendgroup": "gentechs",
         "marker": {
          "color": "#33a02c",
          "pattern": {
           "shape": ""
          }
         },
         "name": "Biomass",
         "offsetgroup": "Biomass",
         "orientation": "v",
         "showlegend": false,
         "textposition": "auto",
         "type": "bar",
         "x": [
          2045,
          2050
         ],
         "xaxis": "x7",
         "y": [
          0.20691072693316875,
          0.03838927306683127
         ],
         "yaxis": "y12"
        },
        {
         "alignmentgroup": "True",
         "hovertemplate": "Generator=Biomass<br>scenario=CER+<br>pds=%{x}<br>Capacity (GW)=%{y}<extra></extra>",
         "legendgroup": "gentechs",
         "marker": {
          "color": "#33a02c",
          "pattern": {
           "shape": ""
          }
         },
         "name": "Biomass",
         "offsetgroup": "Biomass",
         "orientation": "v",
         "showlegend": false,
         "textposition": "auto",
         "type": "bar",
         "x": [
          2040
         ],
         "xaxis": "x8",
         "y": [
          0.24530000000000002
         ],
         "yaxis": "y13"
        },
        {
         "alignmentgroup": "True",
         "hovertemplate": "Generator=Biomass<br>scenario=Rapid<br>pds=%{x}<br>Capacity (GW)=%{y}<extra></extra>",
         "legendgroup": "gentechs",
         "marker": {
          "color": "#33a02c",
          "pattern": {
           "shape": ""
          }
         },
         "name": "Biomass",
         "offsetgroup": "Biomass",
         "orientation": "v",
         "showlegend": false,
         "textposition": "auto",
         "type": "bar",
         "x": [
          2035
         ],
         "xaxis": "x9",
         "y": [
          0.24530000000000002
         ],
         "yaxis": "y14"
        },
        {
         "alignmentgroup": "True",
         "hovertemplate": "Generator=Biomass<br>scenario=Rapid+<br>pds=%{x}<br>Capacity (GW)=%{y}<extra></extra>",
         "legendgroup": "gentechs",
         "marker": {
          "color": "#33a02c",
          "pattern": {
           "shape": ""
          }
         },
         "name": "Biomass",
         "offsetgroup": "Biomass",
         "orientation": "v",
         "showlegend": false,
         "textposition": "auto",
         "type": "bar",
         "x": [
          2035
         ],
         "xaxis": "x10",
         "y": [
          0.24530000000000002
         ],
         "yaxis": "y15"
        },
        {
         "alignmentgroup": "True",
         "hovertemplate": "Generator=Nuclear<br>scenario=Rapid<br>pds=%{x}<br>Capacity (GW)=%{y}<extra></extra>",
         "legendgroup": "gentechs",
         "marker": {
          "color": "#ff7f00",
          "pattern": {
           "shape": ""
          }
         },
         "name": "Nuclear",
         "offsetgroup": "Nuclear",
         "orientation": "v",
         "showlegend": false,
         "textposition": "auto",
         "type": "bar",
         "x": [
          2030,
          2035,
          2040,
          2045
         ],
         "xaxis": "x9",
         "y": [
          1.1990866969326193,
          1.7849618430387701,
          1.6316836466040967,
          1.209292523657533
         ],
         "yaxis": "y14"
        },
        {
         "alignmentgroup": "True",
         "hovertemplate": "Generator=Nuclear<br>scenario=Rapid+<br>pds=%{x}<br>Capacity (GW)=%{y}<extra></extra>",
         "legendgroup": "gentechs",
         "marker": {
          "color": "#ff7f00",
          "pattern": {
           "shape": ""
          }
         },
         "name": "Nuclear",
         "offsetgroup": "Nuclear",
         "orientation": "v",
         "showlegend": false,
         "textposition": "auto",
         "type": "bar",
         "x": [
          2030,
          2035,
          2040,
          2045,
          2050
         ],
         "xaxis": "x10",
         "y": [
          1.5231618976901216,
          1.0972199490742247,
          2.162185100229752,
          1.0615766463680347,
          0.007550867712811875
         ],
         "yaxis": "y15"
        },
        {
         "alignmentgroup": "True",
         "hovertemplate": "Generator=Hydrogen - green<br>scenario=Rapid<br>pds=%{x}<br>Capacity (GW)=%{y}<extra></extra>",
         "legendgroup": "gentechs",
         "marker": {
          "color": "#2de35e",
          "pattern": {
           "shape": ""
          }
         },
         "name": "Hydrogen - green",
         "offsetgroup": "Hydrogen - green",
         "orientation": "v",
         "showlegend": false,
         "textposition": "auto",
         "type": "bar",
         "x": [
          2035,
          2040,
          2045
         ],
         "xaxis": "x9",
         "y": [
          1.0689148502577916,
          0.06513548182539296,
          0.04889689101967056
         ],
         "yaxis": "y14"
        },
        {
         "alignmentgroup": "True",
         "hovertemplate": "Generator=Hydrogen - green<br>scenario=Rapid+<br>pds=%{x}<br>Capacity (GW)=%{y}<extra></extra>",
         "legendgroup": "gentechs",
         "marker": {
          "color": "#2de35e",
          "pattern": {
           "shape": ""
          }
         },
         "name": "Hydrogen - green",
         "offsetgroup": "Hydrogen - green",
         "orientation": "v",
         "showlegend": false,
         "textposition": "auto",
         "type": "bar",
         "x": [
          2035
         ],
         "xaxis": "x10",
         "y": [
          1.1684699129736191
         ],
         "yaxis": "y15"
        }
       ],
       "layout": {
        "annotations": [
         {
          "font": {
           "size": 16
          },
          "showarrow": false,
          "text": "BAU",
          "x": 0.074,
          "xanchor": "center",
          "xref": "paper",
          "y": 1,
          "yanchor": "bottom",
          "yref": "paper"
         },
         {
          "font": {
           "size": 16
          },
          "showarrow": false,
          "text": "CER",
          "x": 0.272,
          "xanchor": "center",
          "xref": "paper",
          "y": 1,
          "yanchor": "bottom",
          "yref": "paper"
         },
         {
          "font": {
           "size": 16
          },
          "showarrow": false,
          "text": "CER+",
          "x": 0.47000000000000003,
          "xanchor": "center",
          "xref": "paper",
          "y": 1,
          "yanchor": "bottom",
          "yref": "paper"
         },
         {
          "font": {
           "size": 16
          },
          "showarrow": false,
          "text": "Rapid",
          "x": 0.6679999999999999,
          "xanchor": "center",
          "xref": "paper",
          "y": 1,
          "yanchor": "bottom",
          "yref": "paper"
         },
         {
          "font": {
           "size": 16
          },
          "showarrow": false,
          "text": "Rapid+",
          "x": 0.8660000000000001,
          "xanchor": "center",
          "xref": "paper",
          "y": 1,
          "yanchor": "bottom",
          "yref": "paper"
         }
        ],
        "barmode": "relative",
        "font": {
         "family": "cm",
         "size": 18
        },
        "height": 600,
        "legend": {
         "traceorder": "reversed"
        },
        "plot_bgcolor": "white",
        "template": {
         "data": {
          "candlestick": [
           {
            "decreasing": {
             "line": {
              "color": "#000033"
             }
            },
            "increasing": {
             "line": {
              "color": "#000032"
             }
            },
            "type": "candlestick"
           }
          ],
          "contour": [
           {
            "colorscale": [
             [
              0,
              "#000011"
             ],
             [
              0.1111111111111111,
              "#000012"
             ],
             [
              0.2222222222222222,
              "#000013"
             ],
             [
              0.3333333333333333,
              "#000014"
             ],
             [
              0.4444444444444444,
              "#000015"
             ],
             [
              0.5555555555555556,
              "#000016"
             ],
             [
              0.6666666666666666,
              "#000017"
             ],
             [
              0.7777777777777778,
              "#000018"
             ],
             [
              0.8888888888888888,
              "#000019"
             ],
             [
              1,
              "#000020"
             ]
            ],
            "type": "contour"
           }
          ],
          "contourcarpet": [
           {
            "colorscale": [
             [
              0,
              "#000011"
             ],
             [
              0.1111111111111111,
              "#000012"
             ],
             [
              0.2222222222222222,
              "#000013"
             ],
             [
              0.3333333333333333,
              "#000014"
             ],
             [
              0.4444444444444444,
              "#000015"
             ],
             [
              0.5555555555555556,
              "#000016"
             ],
             [
              0.6666666666666666,
              "#000017"
             ],
             [
              0.7777777777777778,
              "#000018"
             ],
             [
              0.8888888888888888,
              "#000019"
             ],
             [
              1,
              "#000020"
             ]
            ],
            "type": "contourcarpet"
           }
          ],
          "heatmap": [
           {
            "colorscale": [
             [
              0,
              "#000011"
             ],
             [
              0.1111111111111111,
              "#000012"
             ],
             [
              0.2222222222222222,
              "#000013"
             ],
             [
              0.3333333333333333,
              "#000014"
             ],
             [
              0.4444444444444444,
              "#000015"
             ],
             [
              0.5555555555555556,
              "#000016"
             ],
             [
              0.6666666666666666,
              "#000017"
             ],
             [
              0.7777777777777778,
              "#000018"
             ],
             [
              0.8888888888888888,
              "#000019"
             ],
             [
              1,
              "#000020"
             ]
            ],
            "type": "heatmap"
           }
          ],
          "histogram2d": [
           {
            "colorscale": [
             [
              0,
              "#000011"
             ],
             [
              0.1111111111111111,
              "#000012"
             ],
             [
              0.2222222222222222,
              "#000013"
             ],
             [
              0.3333333333333333,
              "#000014"
             ],
             [
              0.4444444444444444,
              "#000015"
             ],
             [
              0.5555555555555556,
              "#000016"
             ],
             [
              0.6666666666666666,
              "#000017"
             ],
             [
              0.7777777777777778,
              "#000018"
             ],
             [
              0.8888888888888888,
              "#000019"
             ],
             [
              1,
              "#000020"
             ]
            ],
            "type": "histogram2d"
           }
          ],
          "icicle": [
           {
            "textfont": {
             "color": "white"
            },
            "type": "icicle"
           }
          ],
          "sankey": [
           {
            "textfont": {
             "color": "#000036"
            },
            "type": "sankey"
           }
          ],
          "scatter": [
           {
            "marker": {
             "line": {
              "width": 0
             }
            },
            "type": "scatter"
           }
          ],
          "table": [
           {
            "cells": {
             "fill": {
              "color": "#000038"
             },
             "font": {
              "color": "#000037"
             },
             "line": {
              "color": "#000039"
             }
            },
            "header": {
             "fill": {
              "color": "#000040"
             },
             "font": {
              "color": "#000036"
             },
             "line": {
              "color": "#000039"
             }
            },
            "type": "table"
           }
          ],
          "waterfall": [
           {
            "connector": {
             "line": {
              "color": "#000036",
              "width": 2
             }
            },
            "decreasing": {
             "marker": {
              "color": "#000033"
             }
            },
            "increasing": {
             "marker": {
              "color": "#000032"
             }
            },
            "totals": {
             "marker": {
              "color": "#000034"
             }
            },
            "type": "waterfall"
           }
          ]
         },
         "layout": {
          "coloraxis": {
           "colorscale": [
            [
             0,
             "#000011"
            ],
            [
             0.1111111111111111,
             "#000012"
            ],
            [
             0.2222222222222222,
             "#000013"
            ],
            [
             0.3333333333333333,
             "#000014"
            ],
            [
             0.4444444444444444,
             "#000015"
            ],
            [
             0.5555555555555556,
             "#000016"
            ],
            [
             0.6666666666666666,
             "#000017"
            ],
            [
             0.7777777777777778,
             "#000018"
            ],
            [
             0.8888888888888888,
             "#000019"
            ],
            [
             1,
             "#000020"
            ]
           ]
          },
          "colorscale": {
           "diverging": [
            [
             0,
             "#000021"
            ],
            [
             0.1,
             "#000022"
            ],
            [
             0.2,
             "#000023"
            ],
            [
             0.3,
             "#000024"
            ],
            [
             0.4,
             "#000025"
            ],
            [
             0.5,
             "#000026"
            ],
            [
             0.6,
             "#000027"
            ],
            [
             0.7,
             "#000028"
            ],
            [
             0.8,
             "#000029"
            ],
            [
             0.9,
             "#000030"
            ],
            [
             1,
             "#000031"
            ]
           ],
           "sequential": [
            [
             0,
             "#000011"
            ],
            [
             0.1111111111111111,
             "#000012"
            ],
            [
             0.2222222222222222,
             "#000013"
            ],
            [
             0.3333333333333333,
             "#000014"
            ],
            [
             0.4444444444444444,
             "#000015"
            ],
            [
             0.5555555555555556,
             "#000016"
            ],
            [
             0.6666666666666666,
             "#000017"
            ],
            [
             0.7777777777777778,
             "#000018"
            ],
            [
             0.8888888888888888,
             "#000019"
            ],
            [
             1,
             "#000020"
            ]
           ],
           "sequentialminus": [
            [
             0,
             "#000011"
            ],
            [
             0.1111111111111111,
             "#000012"
            ],
            [
             0.2222222222222222,
             "#000013"
            ],
            [
             0.3333333333333333,
             "#000014"
            ],
            [
             0.4444444444444444,
             "#000015"
            ],
            [
             0.5555555555555556,
             "#000016"
            ],
            [
             0.6666666666666666,
             "#000017"
            ],
            [
             0.7777777777777778,
             "#000018"
            ],
            [
             0.8888888888888888,
             "#000019"
            ],
            [
             1,
             "#000020"
            ]
           ]
          },
          "colorway": [
           "#000001",
           "#000002",
           "#000003",
           "#000004",
           "#000005",
           "#000006",
           "#000007",
           "#000008",
           "#000009",
           "#000010"
          ]
         }
        },
        "width": 900,
        "xaxis": {
         "anchor": "y",
         "domain": [
          0,
          0.148
         ],
         "gridcolor": "lightgrey",
         "linecolor": "black",
         "matches": "x6",
         "mirror": true,
         "showline": true,
         "showticklabels": false,
         "ticks": "outside"
        },
        "xaxis10": {
         "anchor": "y15",
         "domain": [
          0.792,
          0.9400000000000001
         ],
         "gridcolor": "lightgrey",
         "linecolor": "black",
         "mirror": true,
         "showline": true,
         "ticks": "outside",
         "title": {
          "text": "Year"
         }
        },
        "xaxis2": {
         "anchor": "y3",
         "domain": [
          0.198,
          0.346
         ],
         "gridcolor": "lightgrey",
         "linecolor": "black",
         "matches": "x7",
         "mirror": true,
         "showline": true,
         "showticklabels": false,
         "ticks": "outside"
        },
        "xaxis3": {
         "anchor": "y5",
         "domain": [
          0.396,
          0.544
         ],
         "gridcolor": "lightgrey",
         "linecolor": "black",
         "matches": "x8",
         "mirror": true,
         "showline": true,
         "showticklabels": false,
         "ticks": "outside"
        },
        "xaxis4": {
         "anchor": "y7",
         "domain": [
          0.594,
          0.742
         ],
         "gridcolor": "lightgrey",
         "linecolor": "black",
         "matches": "x9",
         "mirror": true,
         "showline": true,
         "showticklabels": false,
         "ticks": "outside"
        },
        "xaxis5": {
         "anchor": "y9",
         "domain": [
          0.792,
          0.9400000000000001
         ],
         "gridcolor": "lightgrey",
         "linecolor": "black",
         "matches": "x10",
         "mirror": true,
         "showline": true,
         "showticklabels": false,
         "ticks": "outside"
        },
        "xaxis6": {
         "anchor": "y11",
         "domain": [
          0,
          0.148
         ],
         "gridcolor": "lightgrey",
         "linecolor": "black",
         "mirror": true,
         "showline": true,
         "ticks": "outside",
         "title": {
          "text": "Year"
         }
        },
        "xaxis7": {
         "anchor": "y12",
         "domain": [
          0.198,
          0.346
         ],
         "gridcolor": "lightgrey",
         "linecolor": "black",
         "mirror": true,
         "showline": true,
         "ticks": "outside",
         "title": {
          "text": "Year"
         }
        },
        "xaxis8": {
         "anchor": "y13",
         "domain": [
          0.396,
          0.544
         ],
         "gridcolor": "lightgrey",
         "linecolor": "black",
         "mirror": true,
         "showline": true,
         "ticks": "outside",
         "title": {
          "text": "Year"
         }
        },
        "xaxis9": {
         "anchor": "y14",
         "domain": [
          0.594,
          0.742
         ],
         "gridcolor": "lightgrey",
         "linecolor": "black",
         "mirror": true,
         "showline": true,
         "ticks": "outside",
         "title": {
          "text": "Year"
         }
        },
        "yaxis": {
         "anchor": "x",
         "domain": [
          0.525,
          1
         ],
         "gridcolor": "lightgrey",
         "linecolor": "black",
         "matches": "y",
         "mirror": true,
         "showline": true,
         "showticklabels": true,
         "ticks": "outside",
         "title": {
          "text": "Generation share (-)"
         }
        },
        "yaxis10": {
         "anchor": "x5",
         "gridcolor": "lightgrey",
         "linecolor": "black",
         "matches": "y2",
         "mirror": true,
         "overlaying": "y9",
         "rangemode": "tozero",
         "showgrid": false,
         "showline": true,
         "showticklabels": true,
         "side": "right",
         "ticks": "outside",
         "title": {
          "text": "Emissions (Mt)"
         }
        },
        "yaxis11": {
         "anchor": "x6",
         "domain": [
          0,
          0.475
         ],
         "gridcolor": "lightgrey",
         "linecolor": "black",
         "matches": "y11",
         "mirror": true,
         "showline": true,
         "showticklabels": true,
         "ticks": "outside",
         "title": {
          "text": "Modified Capacity (GW)"
         }
        },
        "yaxis12": {
         "anchor": "x7",
         "domain": [
          0,
          0.475
         ],
         "gridcolor": "lightgrey",
         "linecolor": "black",
         "matches": "y11",
         "mirror": true,
         "showline": true,
         "showticklabels": false,
         "ticks": "outside"
        },
        "yaxis13": {
         "anchor": "x8",
         "domain": [
          0,
          0.475
         ],
         "gridcolor": "lightgrey",
         "linecolor": "black",
         "matches": "y11",
         "mirror": true,
         "showline": true,
         "showticklabels": false,
         "ticks": "outside"
        },
        "yaxis14": {
         "anchor": "x9",
         "domain": [
          0,
          0.475
         ],
         "gridcolor": "lightgrey",
         "linecolor": "black",
         "matches": "y11",
         "mirror": true,
         "showline": true,
         "showticklabels": false,
         "ticks": "outside"
        },
        "yaxis15": {
         "anchor": "x10",
         "domain": [
          0,
          0.475
         ],
         "gridcolor": "lightgrey",
         "linecolor": "black",
         "matches": "y11",
         "mirror": true,
         "showline": true,
         "showticklabels": false,
         "ticks": "outside"
        },
        "yaxis2": {
         "anchor": "x",
         "gridcolor": "lightgrey",
         "linecolor": "black",
         "matches": "y2",
         "mirror": true,
         "overlaying": "y",
         "rangemode": "tozero",
         "showgrid": false,
         "showline": true,
         "showticklabels": false,
         "side": "right",
         "ticks": "outside"
        },
        "yaxis3": {
         "anchor": "x2",
         "domain": [
          0.525,
          1
         ],
         "gridcolor": "lightgrey",
         "linecolor": "black",
         "matches": "y",
         "mirror": true,
         "showline": true,
         "showticklabels": false,
         "ticks": "outside"
        },
        "yaxis4": {
         "anchor": "x2",
         "gridcolor": "lightgrey",
         "linecolor": "black",
         "matches": "y2",
         "mirror": true,
         "overlaying": "y3",
         "rangemode": "tozero",
         "showgrid": false,
         "showline": true,
         "showticklabels": false,
         "side": "right",
         "ticks": "outside"
        },
        "yaxis5": {
         "anchor": "x3",
         "domain": [
          0.525,
          1
         ],
         "gridcolor": "lightgrey",
         "linecolor": "black",
         "matches": "y",
         "mirror": true,
         "showline": true,
         "showticklabels": false,
         "ticks": "outside"
        },
        "yaxis6": {
         "anchor": "x3",
         "gridcolor": "lightgrey",
         "linecolor": "black",
         "matches": "y2",
         "mirror": true,
         "overlaying": "y5",
         "rangemode": "tozero",
         "showgrid": false,
         "showline": true,
         "showticklabels": false,
         "side": "right",
         "ticks": "outside"
        },
        "yaxis7": {
         "anchor": "x4",
         "domain": [
          0.525,
          1
         ],
         "gridcolor": "lightgrey",
         "linecolor": "black",
         "matches": "y",
         "mirror": true,
         "showline": true,
         "showticklabels": false,
         "ticks": "outside"
        },
        "yaxis8": {
         "anchor": "x4",
         "gridcolor": "lightgrey",
         "linecolor": "black",
         "matches": "y2",
         "mirror": true,
         "overlaying": "y7",
         "rangemode": "tozero",
         "showgrid": false,
         "showline": true,
         "showticklabels": false,
         "side": "right",
         "ticks": "outside"
        },
        "yaxis9": {
         "anchor": "x5",
         "domain": [
          0.525,
          1
         ],
         "gridcolor": "lightgrey",
         "linecolor": "black",
         "matches": "y",
         "mirror": true,
         "showline": true,
         "showticklabels": false,
         "ticks": "outside"
        }
       }
      }
     },
     "metadata": {},
     "output_type": "display_data"
    }
   ],
   "source": [
    "import plotly.graph_objects as go\n",
    "from plotly.subplots import make_subplots\n",
    "\n",
    "nb_rows = 2  # the number of rows in your plot\n",
    "nb_cols = 5  # the number of columns in your plot\n",
    "copper_fig = make_subplots(\n",
    "    rows=nb_rows,\n",
    "    cols=nb_cols,\n",
    "    shared_xaxes=True,\n",
    "    vertical_spacing=0.05,\n",
    "    horizontal_spacing=0.05,\n",
    "    subplot_titles=(\"BAU\", \"CER\", \"CER+\", \"Rapid\", \"Rapid+\"),\n",
    "    specs=[[{\"secondary_y\": True}, {\"secondary_y\": True}, {\"secondary_y\": True}, {\"secondary_y\": True}, {\"secondary_y\": True}],\n",
    "            [{\"secondary_y\": False}, {\"secondary_y\": False}, {\"secondary_y\": False}, {\"secondary_y\": False}, {\"secondary_y\": False}]])\n",
    "\n",
    "\n",
    "legend_entries = []\n",
    "for i, data in enumerate(gen_sharefig.data):\n",
    "    xax = data[\"xaxis\"].replace(\"x\", \"\")\n",
    "    xax = 1 if xax == \"\" else int(xax)\n",
    "    data[\"legendgroup\"] = \"gentechs\"\n",
    "    data[\"legendgrouptitle_text\"] = \"Technologies\"\n",
    "    name = data[\"name\"]\n",
    "    show_legend = name not in legend_entries\n",
    "    if show_legend:\n",
    "        legend_entries.append(name)\n",
    "    data[\"showlegend\"] = show_legend\n",
    "    copper_fig.add_trace(data, col=xax, row=1, secondary_y=False)\n",
    "\n",
    "for i, (scen, emission_data) in enumerate(scen_supply_agg.groupby(\"scenario\")):\n",
    "    xax=i+1\n",
    "    copper_fig.add_trace(\n",
    "        go.Scatter(x=emission_data[\"pds\"], y=emission_data[\"emissions (Mt)\"], mode='lines', showlegend=False),\n",
    "        col=xax,\n",
    "        row=1,\n",
    "        secondary_y=True\n",
    "    )\n",
    "\n",
    "for i, data in enumerate(scen_cap_fig.data):\n",
    "    xax = data[\"xaxis\"].replace(\"x\", \"\")\n",
    "    xax = 1 if xax == \"\" else int(xax)\n",
    "    data[\"legendgroup\"] = \"gentechs\"\n",
    "    # data[\"legendgrouptitle_text\"] = \"Generators\"\n",
    "    name = data[\"name\"]\n",
    "    show_legend = name not in legend_entries\n",
    "    if show_legend:\n",
    "        legend_entries.append(name)\n",
    "    data[\"showlegend\"] = show_legend\n",
    "    copper_fig.add_trace(data, col=xax, row=2)\n",
    "\n",
    "\n",
    "#dir(yax)=['anchor', 'automargin', 'autorange', 'autotypenumbers', 'calendar', 'categoryarray', 'categoryarraysrc', 'categoryorder', 'color', 'constrain', 'constraintoward', 'dividercolor', 'dividerwidth', 'domain', 'dtick', 'exponentformat', 'figure', 'fixedrange', 'gridcolor', 'griddash', 'gridwidth', 'hoverformat', 'layer', 'linecolor', 'linewidth', 'matches', 'minexponent', 'minor', 'mirror', 'nticks', 'on_change', 'overlaying', 'parent', 'plotly_name', 'pop', 'position', 'range', 'rangebreakdefaults', 'rangebreaks', 'rangemode', 'scaleanchor', 'scaleratio', 'separatethousands', 'showdividers', 'showexponent', 'showgrid', 'showline', 'showspikes', 'showticklabels', 'showtickprefix', 'showticksuffix', 'side', 'spikecolor', 'spikedash', 'spikemode', 'spikesnap', 'spikethickness', 'tick0', 'tickangle', 'tickcolor', 'tickfont', 'tickformat', 'tickformatstopdefaults', 'tickformatstops', 'ticklabelmode', 'ticklabeloverflow', 'ticklabelposition', 'ticklabelstep', 'ticklen', 'tickmode', 'tickprefix', 'ticks', 'tickson', 'ticksuffix', 'ticktext', 'ticktextsrc', 'tickvals', 'tickvalssrc', 'tickwidth', 'title', 'titlefont', 'to_plotly_json', 'type', 'uirevision', 'update', 'visible', 'zeroline', 'zerolinecolor', 'zerolinewidth']\n",
    "\n",
    "def y_ax_fmt(yax):\n",
    "    yax.showgrid = False\n",
    "    yax.matches = \"y2\"\n",
    "    yax.showticklabels = yax[\"overlaying\"] == \"y9\"\n",
    "    yax.rangemode = \"tozero\"\n",
    "    if yax.showticklabels:\n",
    "        yax.title = \"Emissions (Mt)\"\n",
    "\n",
    "copper_fig.for_each_yaxis(y_ax_fmt, row=1, secondary_y=True)   \n",
    "copper_fig.for_each_yaxis(lambda yax: yax.update(matches=\"y\", showticklabels=yax.plotly_name==\"yaxis\"), row=1, secondary_y=False)\n",
    "copper_fig.for_each_yaxis(lambda yax: yax.update(matches=\"y11\", showticklabels=yax.plotly_name==\"yaxis11\"), row=2, secondary_y=False)\n",
    "\n",
    "sciencify_plotly_fig(copper_fig)\n",
    "\n",
    "copper_fig.update_layout(\n",
    "    barmode=\"relative\",\n",
    "    width=900,\n",
    "    height=600,\n",
    "    yaxis1_title=\"Generation share (-)\",\n",
    "    yaxis11_title=\"Modified Capacity (GW)\",\n",
    "    xaxis6_title=\"Year\",\n",
    "    xaxis7_title=\"Year\",\n",
    "    xaxis8_title=\"Year\",\n",
    "    xaxis9_title=\"Year\",\n",
    "    xaxis10_title=\"Year\",\n",
    "    font_family=\"cm\",\n",
    "    font_size=18,\n",
    "    legend_traceorder=\"reversed\",\n",
    ")\n",
    "copper_fig.write_image(\"copper_results.svg\")\n",
    "copper_fig\n"
   ]
  },
  {
   "cell_type": "code",
   "execution_count": 223,
   "metadata": {},
   "outputs": [],
   "source": [
    "scen_supply_df.set_index(\"scenario\",append=True, inplace=True)"
   ]
  },
  {
   "cell_type": "code",
   "execution_count": 224,
   "metadata": {},
   "outputs": [
    {
     "data": {
      "text/html": [
       "<div>\n",
       "<style scoped>\n",
       "    .dataframe tbody tr th:only-of-type {\n",
       "        vertical-align: middle;\n",
       "    }\n",
       "\n",
       "    .dataframe tbody tr th {\n",
       "        vertical-align: top;\n",
       "    }\n",
       "\n",
       "    .dataframe thead th {\n",
       "        text-align: right;\n",
       "    }\n",
       "</style>\n",
       "<table border=\"1\" class=\"dataframe\">\n",
       "  <thead>\n",
       "    <tr style=\"text-align: right;\">\n",
       "      <th></th>\n",
       "      <th>scenario</th>\n",
       "      <th>BAU</th>\n",
       "      <th>CER</th>\n",
       "      <th>CER+</th>\n",
       "      <th>Rapid</th>\n",
       "      <th>Rapid+</th>\n",
       "    </tr>\n",
       "    <tr>\n",
       "      <th>pds</th>\n",
       "      <th>Type</th>\n",
       "      <th></th>\n",
       "      <th></th>\n",
       "      <th></th>\n",
       "      <th></th>\n",
       "      <th></th>\n",
       "    </tr>\n",
       "  </thead>\n",
       "  <tbody>\n",
       "    <tr>\n",
       "      <th rowspan=\"5\" valign=\"top\">2025</th>\n",
       "      <th>biomass</th>\n",
       "      <td>0.000000</td>\n",
       "      <td>0.000000</td>\n",
       "      <td>0.000000</td>\n",
       "      <td>0.000000</td>\n",
       "      <td>0.000000</td>\n",
       "    </tr>\n",
       "    <tr>\n",
       "      <th>coal_ccs_pre2025</th>\n",
       "      <td>0.000000</td>\n",
       "      <td>0.000000</td>\n",
       "      <td>0.000000</td>\n",
       "      <td>0.000000</td>\n",
       "      <td>0.000000</td>\n",
       "    </tr>\n",
       "    <tr>\n",
       "      <th>coal_pre2025</th>\n",
       "      <td>0.000000</td>\n",
       "      <td>0.000000</td>\n",
       "      <td>0.000000</td>\n",
       "      <td>0.000000</td>\n",
       "      <td>0.000000</td>\n",
       "    </tr>\n",
       "    <tr>\n",
       "      <th>coal_retire_pre2025</th>\n",
       "      <td>0.000000</td>\n",
       "      <td>0.000000</td>\n",
       "      <td>0.000000</td>\n",
       "      <td>0.000000</td>\n",
       "      <td>0.000000</td>\n",
       "    </tr>\n",
       "    <tr>\n",
       "      <th>diesel_backup_post2025</th>\n",
       "      <td>0.000000</td>\n",
       "      <td>0.000000</td>\n",
       "      <td>0.000000</td>\n",
       "      <td>0.000000</td>\n",
       "      <td>0.000000</td>\n",
       "    </tr>\n",
       "    <tr>\n",
       "      <th>...</th>\n",
       "      <th>...</th>\n",
       "      <td>...</td>\n",
       "      <td>...</td>\n",
       "      <td>...</td>\n",
       "      <td>...</td>\n",
       "      <td>...</td>\n",
       "    </tr>\n",
       "    <tr>\n",
       "      <th rowspan=\"5\" valign=\"top\">2050</th>\n",
       "      <th>nuclear</th>\n",
       "      <td>24.881203</td>\n",
       "      <td>23.068387</td>\n",
       "      <td>22.800850</td>\n",
       "      <td>30.017496</td>\n",
       "      <td>29.541599</td>\n",
       "    </tr>\n",
       "    <tr>\n",
       "      <th>nuclear_SMR</th>\n",
       "      <td>0.000000</td>\n",
       "      <td>0.000000</td>\n",
       "      <td>0.000000</td>\n",
       "      <td>2.134240</td>\n",
       "      <td>2.770163</td>\n",
       "    </tr>\n",
       "    <tr>\n",
       "      <th>solar</th>\n",
       "      <td>16.867500</td>\n",
       "      <td>27.702216</td>\n",
       "      <td>27.836858</td>\n",
       "      <td>17.905109</td>\n",
       "      <td>19.354728</td>\n",
       "    </tr>\n",
       "    <tr>\n",
       "      <th>wind_ofs</th>\n",
       "      <td>0.000000</td>\n",
       "      <td>0.000000</td>\n",
       "      <td>0.000000</td>\n",
       "      <td>0.000000</td>\n",
       "      <td>0.000000</td>\n",
       "    </tr>\n",
       "    <tr>\n",
       "      <th>wind_ons</th>\n",
       "      <td>233.911089</td>\n",
       "      <td>248.039893</td>\n",
       "      <td>253.969603</td>\n",
       "      <td>234.360106</td>\n",
       "      <td>233.875925</td>\n",
       "    </tr>\n",
       "  </tbody>\n",
       "</table>\n",
       "<p>258 rows × 5 columns</p>\n",
       "</div>"
      ],
      "text/plain": [
       "scenario                            BAU         CER        CER+       Rapid  \\\n",
       "pds  Type                                                                     \n",
       "2025 biomass                   0.000000    0.000000    0.000000    0.000000   \n",
       "     coal_ccs_pre2025          0.000000    0.000000    0.000000    0.000000   \n",
       "     coal_pre2025              0.000000    0.000000    0.000000    0.000000   \n",
       "     coal_retire_pre2025       0.000000    0.000000    0.000000    0.000000   \n",
       "     diesel_backup_post2025    0.000000    0.000000    0.000000    0.000000   \n",
       "...                                 ...         ...         ...         ...   \n",
       "2050 nuclear                  24.881203   23.068387   22.800850   30.017496   \n",
       "     nuclear_SMR               0.000000    0.000000    0.000000    2.134240   \n",
       "     solar                    16.867500   27.702216   27.836858   17.905109   \n",
       "     wind_ofs                  0.000000    0.000000    0.000000    0.000000   \n",
       "     wind_ons                233.911089  248.039893  253.969603  234.360106   \n",
       "\n",
       "scenario                         Rapid+  \n",
       "pds  Type                                \n",
       "2025 biomass                   0.000000  \n",
       "     coal_ccs_pre2025          0.000000  \n",
       "     coal_pre2025              0.000000  \n",
       "     coal_retire_pre2025       0.000000  \n",
       "     diesel_backup_post2025    0.000000  \n",
       "...                                 ...  \n",
       "2050 nuclear                  29.541599  \n",
       "     nuclear_SMR               2.770163  \n",
       "     solar                    19.354728  \n",
       "     wind_ofs                  0.000000  \n",
       "     wind_ons                233.875925  \n",
       "\n",
       "[258 rows x 5 columns]"
      ]
     },
     "execution_count": 224,
     "metadata": {},
     "output_type": "execute_result"
    }
   ],
   "source": [
    "scen_demands = ((scen_supply_df[\"value\"]/scen_supply_df[\"year_frac\"]).groupby([\"pds\",\"scenario\",\"Type\"]).sum()*1e-6).reset_index() # MWh -> TWh\n",
    "scen_demands.pivot(columns=\"scenario\",index=[\"pds\",\"Type\"], values=0)"
   ]
  },
  {
   "cell_type": "markdown",
   "metadata": {},
   "source": [
    "# Copper results\n",
    "\n",
    "* underlying data is already annuitized and inflation adjusted\n",
    "* variable costs are scaled up to represent annual cost\n",
    "* fixed cost are in $/a\n"
   ]
  },
  {
   "cell_type": "markdown",
   "metadata": {},
   "source": [
    "## System costs"
   ]
  },
  {
   "cell_type": "code",
   "execution_count": 225,
   "metadata": {},
   "outputs": [],
   "source": [
    "import toml\n",
    "import pandas as pd\n",
    "# from main import get_copper_el_prices, multi_index_copper_demand\n",
    "from copper.phases.postprocessing import get_all_disc_coeffs\n",
    "import plotly.express as px\n",
    "\n",
    "scenario = \"CER_scenario\"\n",
    "result_dirs = [\n",
    "    \"copper/results/CER_20240408_1526/CER_scenario_20240408_1540\"\n",
    "]\n",
    "\n",
    "results_dir = result_dirs[0]\n",
    "config_path = f\"{results_dir}/config.toml\"\n",
    "config = toml.load(config_path)\n",
    "gridcell_data = pd.read_csv('copper/scenarios/static/gridcells.csv')\n",
    "map_gl_to_ba=dict(gridcell_data[['grid_cell', 'ba']].values)\n",
    "\n",
    "disc_coeffs = get_all_disc_coeffs(config)\n",
    "\n",
    "\n"
   ]
  },
  {
   "cell_type": "code",
   "execution_count": 226,
   "metadata": {},
   "outputs": [],
   "source": [
    "disc_coeff_series = pd.Series(disc_coeffs).to_frame()\n",
    "disc_coeff_series.columns = [\"dual_price\"]\n",
    "disc_coeff_series.index.set_names([\"year\"], inplace=True)\n",
    "disc_coeff_series.index = disc_coeff_series.index.astype(int)"
   ]
  },
  {
   "cell_type": "code",
   "execution_count": 227,
   "metadata": {},
   "outputs": [],
   "source": [
    "import plotly.express as px\n",
    "def uncumulate_values(df:pd.DataFrame):\n",
    "    diff = df[[\"value\"]].diff()\n",
    "    df.loc[df.pds > 2025,\"value\"] = diff.loc[df.pds>2025,\"value\"].values\n",
    "    df.loc[df[\"value\"]<0,\"value\"] = 0\n",
    "    return df\n",
    "\n",
    "\n",
    "def copper_total_cost_df(result_dir, uncumulate=False):\n",
    "    cap_cost = pd.read_csv(f\"{result_dir}/capcost.csv\")\n",
    "    cap_cost[\"cost\"] = \"Invest\"\n",
    "    fom_cost = pd.read_csv(f\"{result_dir}/fixOMcost.csv\")\n",
    "    fom_cost[\"cost\"] = \"FOM\"\n",
    "    vom_cost = pd.read_csv(f\"{result_dir}/varOMcost.csv\")\n",
    "    vom_cost[\"cost\"] = \"VOM\"\n",
    "    fuel_cost = pd.read_csv(f\"{result_dir}/fuel_cost.csv\")\n",
    "    fuel_cost[\"cost\"] = \"Fuels\"\n",
    "    storage_cost = pd.read_csv(f\"{result_dir}/newstorage_ccost.csv\")\n",
    "    storage_cost[\"cost\"] = \"Storage Invest\"\n",
    "    storage_om_cost = pd.read_csv(f\"{result_dir}/newstorage_omcost.csv\")\n",
    "    storage_om_cost[\"cost\"] = \"Storage OM\"\n",
    "    hydro_cost = pd.read_csv(f\"{result_dir}/hydrorenewalccost.csv\")\n",
    "    hydro_cost[\"cost\"] = \"Hydro\"\n",
    "    hydro_om_cost = pd.read_csv(f\"{result_dir}/hydrorenewalomcost.csv\")\n",
    "    hydro_om_cost[\"cost\"] = \"Hydro\"\n",
    "    if uncumulate:\n",
    "        cap_cost = uncumulate_values(cap_cost)\n",
    "        fom_cost = uncumulate_values(fom_cost)\n",
    "        storage_cost = uncumulate_values(storage_cost)\n",
    "        storage_om_cost = uncumulate_values(storage_om_cost)\n",
    "        hydro_cost = uncumulate_values(hydro_cost)\n",
    "        hydro_om_cost = uncumulate_values(hydro_om_cost)\n",
    "\n",
    "    total_cost = pd.concat([cap_cost, vom_cost, fom_cost,fuel_cost,storage_cost,storage_om_cost,hydro_cost,hydro_om_cost])\n",
    "    return total_cost   \n",
    "\n",
    "total_cost = copper_total_cost_df(results_dir, uncumulate=False)\n",
    "total_cost[\"cost_type\"] = \"undiscounted\"\n",
    "total_adapted_cost = total_cost.copy()\n",
    "total_adapted_cost[\"cost_type\"] = \"discounted\"\n",
    "total_adapted_cost[\"value\"] = total_cost[\"value\"] * total_cost[\"pds\"].astype(str).apply(disc_coeffs.get)\n",
    "\n",
    "total_cost = pd.concat([total_cost, total_adapted_cost])\n",
    "\n",
    "# total_cost\n",
    "fig = px.bar(total_cost, x=\"pds\", y=\"value\",color=\"cost\", facet_row=\"cost_type\", template=\"plotly\")\n",
    "fig.update_layout(width=700, legend_traceorder=\"reversed\")\n",
    "fig.write_html(f\"{results_dir}/investments.html\")\n",
    "fig.write_image(f\"{results_dir}/investments.png\")\n",
    "# fig"
   ]
  },
  {
   "cell_type": "code",
   "execution_count": 228,
   "metadata": {},
   "outputs": [
    {
     "data": {
      "application/vnd.plotly.v1+json": {
       "config": {
        "plotlyServerURL": "https://plot.ly"
       },
       "data": [
        {
         "alignmentgroup": "True",
         "hovertemplate": "cost=FOM<br>scenario=%{x}<br>value=%{y}<extra></extra>",
         "legendgroup": "FOM",
         "marker": {
          "color": "#636efa",
          "pattern": {
           "shape": ""
          }
         },
         "name": "FOM",
         "offsetgroup": "FOM",
         "orientation": "v",
         "showlegend": true,
         "textposition": "auto",
         "type": "bar",
         "x": [
          "BAU",
          "CER",
          "CER+",
          "Rapid",
          "Rapid+"
         ],
         "xaxis": "x",
         "y": [
          20614107919.78154,
          29089574540.40982,
          29813779959.20708,
          30386484422.31105,
          30590253376.834206
         ],
         "yaxis": "y"
        },
        {
         "alignmentgroup": "True",
         "hovertemplate": "cost=Fuels<br>scenario=%{x}<br>value=%{y}<extra></extra>",
         "legendgroup": "Fuels",
         "marker": {
          "color": "#EF553B",
          "pattern": {
           "shape": ""
          }
         },
         "name": "Fuels",
         "offsetgroup": "Fuels",
         "orientation": "v",
         "showlegend": true,
         "textposition": "auto",
         "type": "bar",
         "x": [
          "BAU",
          "CER",
          "CER+",
          "Rapid",
          "Rapid+"
         ],
         "xaxis": "x",
         "y": [
          19367607255.74883,
          14246376988.838507,
          15130997927.046375,
          4039007538.5047655,
          4013423965.918473
         ],
         "yaxis": "y"
        },
        {
         "alignmentgroup": "True",
         "hovertemplate": "cost=Hydro<br>scenario=%{x}<br>value=%{y}<extra></extra>",
         "legendgroup": "Hydro",
         "marker": {
          "color": "#00cc96",
          "pattern": {
           "shape": ""
          }
         },
         "name": "Hydro",
         "offsetgroup": "Hydro",
         "orientation": "v",
         "showlegend": true,
         "textposition": "auto",
         "type": "bar",
         "x": [
          "BAU",
          "CER",
          "CER+",
          "Rapid",
          "Rapid+"
         ],
         "xaxis": "x",
         "y": [
          0,
          0,
          0,
          0,
          0
         ],
         "yaxis": "y"
        },
        {
         "alignmentgroup": "True",
         "hovertemplate": "cost=Invest<br>scenario=%{x}<br>value=%{y}<extra></extra>",
         "legendgroup": "Invest",
         "marker": {
          "color": "#ab63fa",
          "pattern": {
           "shape": ""
          }
         },
         "name": "Invest",
         "offsetgroup": "Invest",
         "orientation": "v",
         "showlegend": true,
         "textposition": "auto",
         "type": "bar",
         "x": [
          "BAU",
          "CER",
          "CER+",
          "Rapid",
          "Rapid+"
         ],
         "xaxis": "x",
         "y": [
          23200720657.08808,
          28042359898.831394,
          29541292038.89419,
          35794280596.7118,
          36351120823.46116
         ],
         "yaxis": "y"
        },
        {
         "alignmentgroup": "True",
         "hovertemplate": "cost=Storage Invest<br>scenario=%{x}<br>value=%{y}<extra></extra>",
         "legendgroup": "Storage Invest",
         "marker": {
          "color": "#FFA15A",
          "pattern": {
           "shape": ""
          }
         },
         "name": "Storage Invest",
         "offsetgroup": "Storage Invest",
         "orientation": "v",
         "showlegend": true,
         "textposition": "auto",
         "type": "bar",
         "x": [
          "BAU",
          "CER",
          "CER+",
          "Rapid",
          "Rapid+"
         ],
         "xaxis": "x",
         "y": [
          530353155.8874508,
          96055798.80206129,
          95457354.40587243,
          2152942353.010286,
          2292473476.1394706
         ],
         "yaxis": "y"
        },
        {
         "alignmentgroup": "True",
         "hovertemplate": "cost=Storage OM<br>scenario=%{x}<br>value=%{y}<extra></extra>",
         "legendgroup": "Storage OM",
         "marker": {
          "color": "#19d3f3",
          "pattern": {
           "shape": ""
          }
         },
         "name": "Storage OM",
         "offsetgroup": "Storage OM",
         "orientation": "v",
         "showlegend": true,
         "textposition": "auto",
         "type": "bar",
         "x": [
          "BAU",
          "CER",
          "CER+",
          "Rapid",
          "Rapid+"
         ],
         "xaxis": "x",
         "y": [
          237600015.6891925,
          20929456.844625197,
          20463303.882735707,
          987040480.9692492,
          1049378308.2161866
         ],
         "yaxis": "y"
        },
        {
         "alignmentgroup": "True",
         "hovertemplate": "cost=VOM<br>scenario=%{x}<br>value=%{y}<extra></extra>",
         "legendgroup": "VOM",
         "marker": {
          "color": "#FF6692",
          "pattern": {
           "shape": ""
          }
         },
         "name": "VOM",
         "offsetgroup": "VOM",
         "orientation": "v",
         "showlegend": true,
         "textposition": "auto",
         "type": "bar",
         "x": [
          "BAU",
          "CER",
          "CER+",
          "Rapid",
          "Rapid+"
         ],
         "xaxis": "x",
         "y": [
          1740450148.3973613,
          1660309135.1153986,
          1686823167.5660923,
          1452132041.8606565,
          1457808425.4282198
         ],
         "yaxis": "y"
        }
       ],
       "layout": {
        "barmode": "relative",
        "font": {
         "family": "cm",
         "size": 18
        },
        "legend": {
         "title": {
          "text": "Cost<br>component"
         },
         "tracegroupgap": 0,
         "traceorder": "reversed"
        },
        "margin": {
         "t": 60
        },
        "plot_bgcolor": "white",
        "template": {
         "data": {
          "bar": [
           {
            "error_x": {
             "color": "#2a3f5f"
            },
            "error_y": {
             "color": "#2a3f5f"
            },
            "marker": {
             "line": {
              "color": "#E5ECF6",
              "width": 0.5
             },
             "pattern": {
              "fillmode": "overlay",
              "size": 10,
              "solidity": 0.2
             }
            },
            "type": "bar"
           }
          ],
          "barpolar": [
           {
            "marker": {
             "line": {
              "color": "#E5ECF6",
              "width": 0.5
             },
             "pattern": {
              "fillmode": "overlay",
              "size": 10,
              "solidity": 0.2
             }
            },
            "type": "barpolar"
           }
          ],
          "carpet": [
           {
            "aaxis": {
             "endlinecolor": "#2a3f5f",
             "gridcolor": "white",
             "linecolor": "white",
             "minorgridcolor": "white",
             "startlinecolor": "#2a3f5f"
            },
            "baxis": {
             "endlinecolor": "#2a3f5f",
             "gridcolor": "white",
             "linecolor": "white",
             "minorgridcolor": "white",
             "startlinecolor": "#2a3f5f"
            },
            "type": "carpet"
           }
          ],
          "choropleth": [
           {
            "colorbar": {
             "outlinewidth": 0,
             "ticks": ""
            },
            "type": "choropleth"
           }
          ],
          "contour": [
           {
            "colorbar": {
             "outlinewidth": 0,
             "ticks": ""
            },
            "colorscale": [
             [
              0,
              "#0d0887"
             ],
             [
              0.1111111111111111,
              "#46039f"
             ],
             [
              0.2222222222222222,
              "#7201a8"
             ],
             [
              0.3333333333333333,
              "#9c179e"
             ],
             [
              0.4444444444444444,
              "#bd3786"
             ],
             [
              0.5555555555555556,
              "#d8576b"
             ],
             [
              0.6666666666666666,
              "#ed7953"
             ],
             [
              0.7777777777777778,
              "#fb9f3a"
             ],
             [
              0.8888888888888888,
              "#fdca26"
             ],
             [
              1,
              "#f0f921"
             ]
            ],
            "type": "contour"
           }
          ],
          "contourcarpet": [
           {
            "colorbar": {
             "outlinewidth": 0,
             "ticks": ""
            },
            "type": "contourcarpet"
           }
          ],
          "heatmap": [
           {
            "colorbar": {
             "outlinewidth": 0,
             "ticks": ""
            },
            "colorscale": [
             [
              0,
              "#0d0887"
             ],
             [
              0.1111111111111111,
              "#46039f"
             ],
             [
              0.2222222222222222,
              "#7201a8"
             ],
             [
              0.3333333333333333,
              "#9c179e"
             ],
             [
              0.4444444444444444,
              "#bd3786"
             ],
             [
              0.5555555555555556,
              "#d8576b"
             ],
             [
              0.6666666666666666,
              "#ed7953"
             ],
             [
              0.7777777777777778,
              "#fb9f3a"
             ],
             [
              0.8888888888888888,
              "#fdca26"
             ],
             [
              1,
              "#f0f921"
             ]
            ],
            "type": "heatmap"
           }
          ],
          "heatmapgl": [
           {
            "colorbar": {
             "outlinewidth": 0,
             "ticks": ""
            },
            "colorscale": [
             [
              0,
              "#0d0887"
             ],
             [
              0.1111111111111111,
              "#46039f"
             ],
             [
              0.2222222222222222,
              "#7201a8"
             ],
             [
              0.3333333333333333,
              "#9c179e"
             ],
             [
              0.4444444444444444,
              "#bd3786"
             ],
             [
              0.5555555555555556,
              "#d8576b"
             ],
             [
              0.6666666666666666,
              "#ed7953"
             ],
             [
              0.7777777777777778,
              "#fb9f3a"
             ],
             [
              0.8888888888888888,
              "#fdca26"
             ],
             [
              1,
              "#f0f921"
             ]
            ],
            "type": "heatmapgl"
           }
          ],
          "histogram": [
           {
            "marker": {
             "pattern": {
              "fillmode": "overlay",
              "size": 10,
              "solidity": 0.2
             }
            },
            "type": "histogram"
           }
          ],
          "histogram2d": [
           {
            "colorbar": {
             "outlinewidth": 0,
             "ticks": ""
            },
            "colorscale": [
             [
              0,
              "#0d0887"
             ],
             [
              0.1111111111111111,
              "#46039f"
             ],
             [
              0.2222222222222222,
              "#7201a8"
             ],
             [
              0.3333333333333333,
              "#9c179e"
             ],
             [
              0.4444444444444444,
              "#bd3786"
             ],
             [
              0.5555555555555556,
              "#d8576b"
             ],
             [
              0.6666666666666666,
              "#ed7953"
             ],
             [
              0.7777777777777778,
              "#fb9f3a"
             ],
             [
              0.8888888888888888,
              "#fdca26"
             ],
             [
              1,
              "#f0f921"
             ]
            ],
            "type": "histogram2d"
           }
          ],
          "histogram2dcontour": [
           {
            "colorbar": {
             "outlinewidth": 0,
             "ticks": ""
            },
            "colorscale": [
             [
              0,
              "#0d0887"
             ],
             [
              0.1111111111111111,
              "#46039f"
             ],
             [
              0.2222222222222222,
              "#7201a8"
             ],
             [
              0.3333333333333333,
              "#9c179e"
             ],
             [
              0.4444444444444444,
              "#bd3786"
             ],
             [
              0.5555555555555556,
              "#d8576b"
             ],
             [
              0.6666666666666666,
              "#ed7953"
             ],
             [
              0.7777777777777778,
              "#fb9f3a"
             ],
             [
              0.8888888888888888,
              "#fdca26"
             ],
             [
              1,
              "#f0f921"
             ]
            ],
            "type": "histogram2dcontour"
           }
          ],
          "mesh3d": [
           {
            "colorbar": {
             "outlinewidth": 0,
             "ticks": ""
            },
            "type": "mesh3d"
           }
          ],
          "parcoords": [
           {
            "line": {
             "colorbar": {
              "outlinewidth": 0,
              "ticks": ""
             }
            },
            "type": "parcoords"
           }
          ],
          "pie": [
           {
            "automargin": true,
            "type": "pie"
           }
          ],
          "scatter": [
           {
            "fillpattern": {
             "fillmode": "overlay",
             "size": 10,
             "solidity": 0.2
            },
            "type": "scatter"
           }
          ],
          "scatter3d": [
           {
            "line": {
             "colorbar": {
              "outlinewidth": 0,
              "ticks": ""
             }
            },
            "marker": {
             "colorbar": {
              "outlinewidth": 0,
              "ticks": ""
             }
            },
            "type": "scatter3d"
           }
          ],
          "scattercarpet": [
           {
            "marker": {
             "colorbar": {
              "outlinewidth": 0,
              "ticks": ""
             }
            },
            "type": "scattercarpet"
           }
          ],
          "scattergeo": [
           {
            "marker": {
             "colorbar": {
              "outlinewidth": 0,
              "ticks": ""
             }
            },
            "type": "scattergeo"
           }
          ],
          "scattergl": [
           {
            "marker": {
             "colorbar": {
              "outlinewidth": 0,
              "ticks": ""
             }
            },
            "type": "scattergl"
           }
          ],
          "scattermapbox": [
           {
            "marker": {
             "colorbar": {
              "outlinewidth": 0,
              "ticks": ""
             }
            },
            "type": "scattermapbox"
           }
          ],
          "scatterpolar": [
           {
            "marker": {
             "colorbar": {
              "outlinewidth": 0,
              "ticks": ""
             }
            },
            "type": "scatterpolar"
           }
          ],
          "scatterpolargl": [
           {
            "marker": {
             "colorbar": {
              "outlinewidth": 0,
              "ticks": ""
             }
            },
            "type": "scatterpolargl"
           }
          ],
          "scatterternary": [
           {
            "marker": {
             "colorbar": {
              "outlinewidth": 0,
              "ticks": ""
             }
            },
            "type": "scatterternary"
           }
          ],
          "surface": [
           {
            "colorbar": {
             "outlinewidth": 0,
             "ticks": ""
            },
            "colorscale": [
             [
              0,
              "#0d0887"
             ],
             [
              0.1111111111111111,
              "#46039f"
             ],
             [
              0.2222222222222222,
              "#7201a8"
             ],
             [
              0.3333333333333333,
              "#9c179e"
             ],
             [
              0.4444444444444444,
              "#bd3786"
             ],
             [
              0.5555555555555556,
              "#d8576b"
             ],
             [
              0.6666666666666666,
              "#ed7953"
             ],
             [
              0.7777777777777778,
              "#fb9f3a"
             ],
             [
              0.8888888888888888,
              "#fdca26"
             ],
             [
              1,
              "#f0f921"
             ]
            ],
            "type": "surface"
           }
          ],
          "table": [
           {
            "cells": {
             "fill": {
              "color": "#EBF0F8"
             },
             "line": {
              "color": "white"
             }
            },
            "header": {
             "fill": {
              "color": "#C8D4E3"
             },
             "line": {
              "color": "white"
             }
            },
            "type": "table"
           }
          ]
         },
         "layout": {
          "annotationdefaults": {
           "arrowcolor": "#2a3f5f",
           "arrowhead": 0,
           "arrowwidth": 1
          },
          "autotypenumbers": "strict",
          "coloraxis": {
           "colorbar": {
            "outlinewidth": 0,
            "ticks": ""
           }
          },
          "colorscale": {
           "diverging": [
            [
             0,
             "#8e0152"
            ],
            [
             0.1,
             "#c51b7d"
            ],
            [
             0.2,
             "#de77ae"
            ],
            [
             0.3,
             "#f1b6da"
            ],
            [
             0.4,
             "#fde0ef"
            ],
            [
             0.5,
             "#f7f7f7"
            ],
            [
             0.6,
             "#e6f5d0"
            ],
            [
             0.7,
             "#b8e186"
            ],
            [
             0.8,
             "#7fbc41"
            ],
            [
             0.9,
             "#4d9221"
            ],
            [
             1,
             "#276419"
            ]
           ],
           "sequential": [
            [
             0,
             "#0d0887"
            ],
            [
             0.1111111111111111,
             "#46039f"
            ],
            [
             0.2222222222222222,
             "#7201a8"
            ],
            [
             0.3333333333333333,
             "#9c179e"
            ],
            [
             0.4444444444444444,
             "#bd3786"
            ],
            [
             0.5555555555555556,
             "#d8576b"
            ],
            [
             0.6666666666666666,
             "#ed7953"
            ],
            [
             0.7777777777777778,
             "#fb9f3a"
            ],
            [
             0.8888888888888888,
             "#fdca26"
            ],
            [
             1,
             "#f0f921"
            ]
           ],
           "sequentialminus": [
            [
             0,
             "#0d0887"
            ],
            [
             0.1111111111111111,
             "#46039f"
            ],
            [
             0.2222222222222222,
             "#7201a8"
            ],
            [
             0.3333333333333333,
             "#9c179e"
            ],
            [
             0.4444444444444444,
             "#bd3786"
            ],
            [
             0.5555555555555556,
             "#d8576b"
            ],
            [
             0.6666666666666666,
             "#ed7953"
            ],
            [
             0.7777777777777778,
             "#fb9f3a"
            ],
            [
             0.8888888888888888,
             "#fdca26"
            ],
            [
             1,
             "#f0f921"
            ]
           ]
          },
          "colorway": [
           "#636efa",
           "#EF553B",
           "#00cc96",
           "#ab63fa",
           "#FFA15A",
           "#19d3f3",
           "#FF6692",
           "#B6E880",
           "#FF97FF",
           "#FECB52"
          ],
          "font": {
           "color": "#2a3f5f"
          },
          "geo": {
           "bgcolor": "white",
           "lakecolor": "white",
           "landcolor": "#E5ECF6",
           "showlakes": true,
           "showland": true,
           "subunitcolor": "white"
          },
          "hoverlabel": {
           "align": "left"
          },
          "hovermode": "closest",
          "mapbox": {
           "style": "light"
          },
          "paper_bgcolor": "white",
          "plot_bgcolor": "#E5ECF6",
          "polar": {
           "angularaxis": {
            "gridcolor": "white",
            "linecolor": "white",
            "ticks": ""
           },
           "bgcolor": "#E5ECF6",
           "radialaxis": {
            "gridcolor": "white",
            "linecolor": "white",
            "ticks": ""
           }
          },
          "scene": {
           "xaxis": {
            "backgroundcolor": "#E5ECF6",
            "gridcolor": "white",
            "gridwidth": 2,
            "linecolor": "white",
            "showbackground": true,
            "ticks": "",
            "zerolinecolor": "white"
           },
           "yaxis": {
            "backgroundcolor": "#E5ECF6",
            "gridcolor": "white",
            "gridwidth": 2,
            "linecolor": "white",
            "showbackground": true,
            "ticks": "",
            "zerolinecolor": "white"
           },
           "zaxis": {
            "backgroundcolor": "#E5ECF6",
            "gridcolor": "white",
            "gridwidth": 2,
            "linecolor": "white",
            "showbackground": true,
            "ticks": "",
            "zerolinecolor": "white"
           }
          },
          "shapedefaults": {
           "line": {
            "color": "#2a3f5f"
           }
          },
          "ternary": {
           "aaxis": {
            "gridcolor": "white",
            "linecolor": "white",
            "ticks": ""
           },
           "baxis": {
            "gridcolor": "white",
            "linecolor": "white",
            "ticks": ""
           },
           "bgcolor": "#E5ECF6",
           "caxis": {
            "gridcolor": "white",
            "linecolor": "white",
            "ticks": ""
           }
          },
          "title": {
           "x": 0.05
          },
          "xaxis": {
           "automargin": true,
           "gridcolor": "white",
           "linecolor": "white",
           "ticks": "",
           "title": {
            "standoff": 15
           },
           "zerolinecolor": "white",
           "zerolinewidth": 2
          },
          "yaxis": {
           "automargin": true,
           "gridcolor": "white",
           "linecolor": "white",
           "ticks": "",
           "title": {
            "standoff": 15
           },
           "zerolinecolor": "white",
           "zerolinewidth": 2
          }
         }
        },
        "width": 400,
        "xaxis": {
         "anchor": "y",
         "domain": [
          0,
          1
         ],
         "gridcolor": "lightgrey",
         "linecolor": "black",
         "mirror": true,
         "showline": true,
         "ticks": "outside",
         "title": {
          "text": "scenario"
         }
        },
        "yaxis": {
         "anchor": "x",
         "domain": [
          0,
          1
         ],
         "gridcolor": "lightgrey",
         "linecolor": "black",
         "mirror": true,
         "showline": true,
         "ticks": "outside",
         "title": {
          "text": "Cumulative cost (CAD)"
         }
        }
       }
      }
     },
     "metadata": {},
     "output_type": "display_data"
    }
   ],
   "source": [
    "cost_dfs = []\n",
    "for scenario in result_df.Scenario.unique():\n",
    "    path = result_df.query(f\"iteration==1 and Scenario=='{scenario}'\")[\n",
    "        \"ESM path\"\n",
    "    ].values[0]\n",
    "    cost_df = copper_total_cost_df(path)\n",
    "    cost_df[\"scenario\"] = scenario\n",
    "    cost_dfs.append(cost_df)\n",
    "\n",
    "scen_cost_df = pd.concat(cost_dfs)\n",
    "scen_cost_agg = (\n",
    "    scen_cost_df.groupby([\"scenario\", \"cost\"])[\"value\"]\n",
    "    .sum()\n",
    "    .reset_index()\n",
    "    .pivot(columns=\"scenario\", index=\"cost\", values=\"value\")\n",
    ")\n",
    "fig = sciencify_plotly_fig(px.bar(scen_cost_agg.T, template=\"plotly\"))\n",
    "\n",
    "fig.update_layout(\n",
    "    yaxis_title=\"Cumulative cost (CAD)\", width=400, font_family=\"cm\", font_size=18,\n",
    "    legend=dict(title_text=\"Cost<br>component\"),\n",
    "    legend_traceorder=\"reversed\"\n",
    ")\n",
    "fig.write_image(\"copper_system_cost.svg\")\n",
    "fig.write_image(\"copper_system_cost.pdf\")\n",
    "fig"
   ]
  },
  {
   "cell_type": "code",
   "execution_count": 229,
   "metadata": {},
   "outputs": [
    {
     "data": {
      "text/plain": [
       "scenario\n",
       "BAU        0.000000\n",
       "CER       64.533375\n",
       "CER+      64.458778\n",
       "Rapid     74.002623\n",
       "Rapid+    74.055840\n",
       "Name: emissions (Mt), dtype: float64"
      ]
     },
     "execution_count": 229,
     "metadata": {},
     "output_type": "execute_result"
    }
   ],
   "source": [
    "scen_copper_emissions_agg = scen_supply_df.groupby(\"scenario\")[\"emissions (Mt)\"].sum()\n",
    "scen_copper_emissions_reduction = scen_copper_emissions_agg[\"BAU\"] - scen_copper_emissions_agg\n",
    "scen_copper_emissions_reduction"
   ]
  },
  {
   "cell_type": "code",
   "execution_count": 230,
   "metadata": {},
   "outputs": [
    {
     "data": {
      "text/plain": [
       "scenario\n",
       "BAU               inf\n",
       "CER       1133.608856\n",
       "CER+      1183.528705\n",
       "Rapid     1010.935616\n",
       "Rapid+    1022.936998\n",
       "dtype: float64"
      ]
     },
     "execution_count": 230,
     "metadata": {},
     "output_type": "execute_result"
    }
   ],
   "source": [
    "scen_cost_agg.sum()*1e-6/scen_copper_emissions_reduction"
   ]
  },
  {
   "cell_type": "code",
   "execution_count": 256,
   "id": "01HXH5NMGHPMJB60KC5076064D",
   "metadata": {},
   "outputs": [
    {
     "data": {
      "text/plain": [
       "scenario\n",
       "BAU              NaN\n",
       "CER       172.745491\n",
       "CER+      168.785716\n",
       "Rapid    -186.104988\n",
       "Rapid+   -173.080569\n",
       "dtype: float64"
      ]
     },
     "execution_count": 256,
     "metadata": {},
     "output_type": "execute_result"
    }
   ],
   "source": [
    "coupled_cost = scen_cost_agg.sum() + abm_cost_summary.sum(axis=1)\n",
    "coupled_cost_delta = coupled_cost - coupled_cost[\"BAU\"]\n",
    "coupled_emissions_reduction = scen_copper_emissions_reduction + avoided_emissions\n",
    "coupled_cost_delta*1e-6/coupled_emissions_reduction"
   ]
  },
  {
   "cell_type": "code",
   "execution_count": 258,
   "id": "01HXH5TD3T25HH7T926WN154W2",
   "metadata": {},
   "outputs": [],
   "source": [
    "coupled_overview = pd.concat([\n",
    "            scen_cost_agg.sum()*1e-9,\n",
    "            scen_copper_emissions_reduction,\n",
    "            scen_cost_agg.sum()*1e-6/scen_copper_emissions_reduction,\n",
    "            coupled_cost*1e-9,\n",
    "            coupled_emissions_reduction,\n",
    "            coupled_cost_delta*1e-6/coupled_emissions_reduction], axis=1)\n",
    "coupled_overview.columns = [\"ESM total cost (BCAD)\", \"ESM emissions reduction (Mt)\", \"ESM carbon avoidance cost (CAD/t)\", \"Coupled cost (BCAD)\", \"Coupled emissions reduction (Mt)\", \"Coupled carbon avoidance cost (CAD/t)\"]"
   ]
  },
  {
   "cell_type": "code",
   "execution_count": 260,
   "id": "01HXHFFFKXHJF5PMCC7FN10HMQ",
   "metadata": {},
   "outputs": [
    {
     "name": "stdout",
     "output_type": "stream",
     "text": [
      "\\begin{tabular}{lrrrrrr}\n",
      "\\toprule\n",
      " & ESM total cost (BCAD) & ESM emissions reduction (Mt) & ESM carbon avoidance cost (CAD/t) & Coupled cost (BCAD) & Coupled emissions reduction (Mt) & Coupled carbon avoidance cost (CAD/t) \\\\\n",
      "scenario &  &  &  &  &  &  \\\\\n",
      "\\midrule\n",
      "BAU & 65.69 & 0.00 & inf & 414.87 & 0.00 & 0.00 \\\\\n",
      "CER & 73.16 & 64.53 & 1133.61 & 430.83 & 92.34 & 172.75 \\\\\n",
      "CER+ & 76.29 & 64.46 & 1183.53 & 435.97 & 124.97 & 168.79 \\\\\n",
      "Rapid & 74.81 & 74.00 & 1010.94 & 383.67 & 167.67 & -186.10 \\\\\n",
      "Rapid+ & 75.75 & 74.06 & 1022.94 & 379.70 & 203.22 & -173.08 \\\\\n",
      "\\bottomrule\n",
      "\\end{tabular}\n",
      "\n"
     ]
    }
   ],
   "source": [
    "print(coupled_overview.fillna(0).round(2).to_latex().replace(\"0000\",\"\"))"
   ]
  },
  {
   "cell_type": "code",
   "execution_count": null,
   "id": "01HXHFZCXKRQ05ECEW0YC47H43",
   "metadata": {},
   "outputs": [],
   "source": []
  }
 ],
 "metadata": {
  "kernelspec": {
   "display_name": "cando",
   "language": "python",
   "name": "python3"
  },
  "language_info": {
   "codemirror_mode": {
    "name": "ipython",
    "version": 3
   },
   "file_extension": ".py",
   "mimetype": "text/x-python",
   "name": "python",
   "nbconvert_exporter": "python",
   "pygments_lexer": "ipython3",
   "version": "3.10.13"
  }
 },
 "nbformat": 4,
 "nbformat_minor": 2
}
