{
 "cells": [
  {
   "cell_type": "markdown",
   "metadata": {},
   "source": [
    "# ABM results"
   ]
  },
  {
   "cell_type": "code",
   "execution_count": 1,
   "metadata": {},
   "outputs": [],
   "source": [
    "# from abetam.figures import sciencify_plotly_fig\n",
    "# from abetam.config import FUEL_COLORS\n",
    "# import plotly.express as px\n",
    "\n",
    "# fig = px.bar(\n",
    "#     energy_demand_df_long,\n",
    "#     x=\"year\",\n",
    "#     y=\"value\",\n",
    "#     color=\"fuel\",\n",
    "#     color_discrete_map=FUEL_COLORS,\n",
    "# )\n",
    "# fig.update_layout(xaxis_title=\"Year\", yaxis_title=\"Energy demand (kWh/a)\", width=500, legend_traceorder=\"reversed\")\n",
    "# sciencify_plotly_fig(fig)\n"
   ]
  },
  {
   "cell_type": "code",
   "execution_count": 2,
   "metadata": {},
   "outputs": [],
   "source": [
    "# model_demand = b_res.mean_carrier_demand_df\n",
    "# new_demand = add_abm_demand_to_projection(model_demand)\n",
    "# abm_inkl_peaks = new_demand.max().reset_index()\n",
    "# abm_inkl_peaks[[\"province\",\"year\"]] = abm_inkl_peaks[\"index\"].str.split(\".\",expand=True)\n",
    "# abm_inkl_peaks = abm_inkl_peaks.rename({0:\"ABM_incl\"}, axis=1).drop([\"index\",\"province\"],axis=1)\n",
    "# abm_inkl_peaks"
   ]
  },
  {
   "cell_type": "code",
   "execution_count": 3,
   "metadata": {},
   "outputs": [],
   "source": [
    "\n",
    "# both_demands = pd.concat([abm_inkl_peaks.melt(id_vars=\"year\"),copper_demand_peaks.melt(id_vars=\"year\")])\n",
    "# fig = sciencify_plotly_fig(px.line(both_demands, x=\"year\", y=\"value\", color=\"variable\", template=\"plotly\"))\n",
    "# fig.update_layout(yaxis_title=\"Peak demand (MW)\") "
   ]
  },
  {
   "cell_type": "code",
   "execution_count": 4,
   "id": "01J061P46E3HB1JDVZRHVATXWK",
   "metadata": {},
   "outputs": [],
   "source": [
    "# # zip all the results\n",
    "# from zipfile import ZipFile, ZIP_DEFLATED\n",
    "# from pathlib import Path\n",
    "\n",
    "# with ZipFile(\"results.zip\",\"w\", compression=ZIP_DEFLATED, compresslevel=9) as zf:\n",
    "#     for path in result_df[\"ABM path\"]:\n",
    "#         for f in path.rglob(\"*\"):\n",
    "#             zf.write(f, f)\n",
    "#     for path in result_df[\"ESM path\"]:\n",
    "#         for f in path.rglob(\"*\"):\n",
    "#             zf.write(f, f)\n"
   ]
  },
  {
   "cell_type": "code",
   "execution_count": 5,
   "id": "01J061P46EG852P79ZY5NETC3N",
   "metadata": {},
   "outputs": [],
   "source": [
    "# from zipfile import ZipFile\n",
    "# from pathlib import Path\n",
    "\n",
    "# # unzip all the results\n",
    "# filenames :list[str]= []\n",
    "# with ZipFile(\"results_20240611.zip\",\"r\") as zf:\n",
    "#     file_list = zf.filelist\n",
    "#     for f in file_list:\n",
    "#         fn = f.filename\n",
    "#         zf.extract(f,)\n",
    "#         filenames.append(fn)"
   ]
  },
  {
   "cell_type": "markdown",
   "metadata": {},
   "source": [
    "# Results of the coupled model"
   ]
  },
  {
   "cell_type": "code",
   "execution_count": 6,
   "metadata": {},
   "outputs": [
    {
     "data": {
      "text/html": [
       "<div>\n",
       "<style scoped>\n",
       "    .dataframe tbody tr th:only-of-type {\n",
       "        vertical-align: middle;\n",
       "    }\n",
       "\n",
       "    .dataframe tbody tr th {\n",
       "        vertical-align: top;\n",
       "    }\n",
       "\n",
       "    .dataframe thead th {\n",
       "        text-align: right;\n",
       "    }\n",
       "</style>\n",
       "<table border=\"1\" class=\"dataframe\">\n",
       "  <thead>\n",
       "    <tr style=\"text-align: right;\">\n",
       "      <th></th>\n",
       "      <th>ABM path</th>\n",
       "      <th>ESM path</th>\n",
       "      <th>iteration</th>\n",
       "      <th>Scenario</th>\n",
       "    </tr>\n",
       "  </thead>\n",
       "  <tbody>\n",
       "    <tr>\n",
       "      <th>0</th>\n",
       "      <td>results\\BAU_20240611_1437_0</td>\n",
       "      <td>copper\\results\\BAU_20240611_1437\\BAU_scenario_...</td>\n",
       "      <td>0</td>\n",
       "      <td>BAU</td>\n",
       "    </tr>\n",
       "    <tr>\n",
       "      <th>1</th>\n",
       "      <td>results\\BAU_20240611_1437_1</td>\n",
       "      <td>copper\\results\\BAU_20240611_1437\\BAU_scenario_...</td>\n",
       "      <td>1</td>\n",
       "      <td>BAU</td>\n",
       "    </tr>\n",
       "    <tr>\n",
       "      <th>2</th>\n",
       "      <td>results\\BAU_20240611_1437_2</td>\n",
       "      <td>copper\\results\\BAU_20240611_1437\\BAU_scenario_...</td>\n",
       "      <td>2</td>\n",
       "      <td>BAU</td>\n",
       "    </tr>\n",
       "    <tr>\n",
       "      <th>3</th>\n",
       "      <td>results\\BAU_20240611_1437_3</td>\n",
       "      <td>copper\\results\\BAU_20240611_1437\\BAU_scenario_...</td>\n",
       "      <td>3</td>\n",
       "      <td>BAU</td>\n",
       "    </tr>\n",
       "    <tr>\n",
       "      <th>4</th>\n",
       "      <td>results\\BAU_20240611_1437_4</td>\n",
       "      <td>copper\\results\\BAU_20240611_1437\\BAU_scenario_...</td>\n",
       "      <td>4</td>\n",
       "      <td>BAU</td>\n",
       "    </tr>\n",
       "    <tr>\n",
       "      <th>5</th>\n",
       "      <td>results\\BAU_20240611_1437_5</td>\n",
       "      <td>copper\\results\\BAU_20240611_1437\\BAU_scenario_...</td>\n",
       "      <td>5</td>\n",
       "      <td>BAU</td>\n",
       "    </tr>\n",
       "    <tr>\n",
       "      <th>6</th>\n",
       "      <td>results\\BAU_20240611_1437_6</td>\n",
       "      <td>copper\\results\\BAU_20240611_1437\\BAU_scenario_...</td>\n",
       "      <td>6</td>\n",
       "      <td>BAU</td>\n",
       "    </tr>\n",
       "    <tr>\n",
       "      <th>7</th>\n",
       "      <td>results\\BAU_20240611_1437_7</td>\n",
       "      <td>copper\\results\\BAU_20240611_1437\\BAU_scenario_...</td>\n",
       "      <td>7</td>\n",
       "      <td>BAU</td>\n",
       "    </tr>\n",
       "    <tr>\n",
       "      <th>8</th>\n",
       "      <td>results\\CER_20240611_1541_0</td>\n",
       "      <td>copper\\results\\CER_20240611_1541\\CER_scenario_...</td>\n",
       "      <td>0</td>\n",
       "      <td>CER</td>\n",
       "    </tr>\n",
       "    <tr>\n",
       "      <th>9</th>\n",
       "      <td>results\\CER_20240611_1541_1</td>\n",
       "      <td>copper\\results\\CER_20240611_1541\\CER_scenario_...</td>\n",
       "      <td>1</td>\n",
       "      <td>CER</td>\n",
       "    </tr>\n",
       "    <tr>\n",
       "      <th>10</th>\n",
       "      <td>results\\CER_20240611_1541_2</td>\n",
       "      <td>copper\\results\\CER_20240611_1541\\CER_scenario_...</td>\n",
       "      <td>2</td>\n",
       "      <td>CER</td>\n",
       "    </tr>\n",
       "    <tr>\n",
       "      <th>11</th>\n",
       "      <td>results\\CER_20240611_1541_3</td>\n",
       "      <td>copper\\results\\CER_20240611_1541\\CER_scenario_...</td>\n",
       "      <td>3</td>\n",
       "      <td>CER</td>\n",
       "    </tr>\n",
       "    <tr>\n",
       "      <th>12</th>\n",
       "      <td>results\\CER_20240611_1541_4</td>\n",
       "      <td>copper\\results\\CER_20240611_1541\\CER_scenario_...</td>\n",
       "      <td>4</td>\n",
       "      <td>CER</td>\n",
       "    </tr>\n",
       "    <tr>\n",
       "      <th>13</th>\n",
       "      <td>results\\CER_20240611_1541_5</td>\n",
       "      <td>copper\\results\\CER_20240611_1541\\CER_scenario_...</td>\n",
       "      <td>5</td>\n",
       "      <td>CER</td>\n",
       "    </tr>\n",
       "    <tr>\n",
       "      <th>14</th>\n",
       "      <td>results\\CER_20240611_1541_6</td>\n",
       "      <td>copper\\results\\CER_20240611_1541\\CER_scenario_...</td>\n",
       "      <td>6</td>\n",
       "      <td>CER</td>\n",
       "    </tr>\n",
       "    <tr>\n",
       "      <th>15</th>\n",
       "      <td>results\\CER_20240611_1541_7</td>\n",
       "      <td>copper\\results\\CER_20240611_1541\\CER_scenario_...</td>\n",
       "      <td>7</td>\n",
       "      <td>CER</td>\n",
       "    </tr>\n",
       "    <tr>\n",
       "      <th>16</th>\n",
       "      <td>results\\CER_plus_20240611_1645_0</td>\n",
       "      <td>copper\\results\\CER_plus_20240611_1645\\CER_scen...</td>\n",
       "      <td>0</td>\n",
       "      <td>CER+</td>\n",
       "    </tr>\n",
       "    <tr>\n",
       "      <th>17</th>\n",
       "      <td>results\\CER_plus_20240611_1645_1</td>\n",
       "      <td>copper\\results\\CER_plus_20240611_1645\\CER_scen...</td>\n",
       "      <td>1</td>\n",
       "      <td>CER+</td>\n",
       "    </tr>\n",
       "    <tr>\n",
       "      <th>18</th>\n",
       "      <td>results\\CER_plus_20240611_1645_2</td>\n",
       "      <td>copper\\results\\CER_plus_20240611_1645\\CER_scen...</td>\n",
       "      <td>2</td>\n",
       "      <td>CER+</td>\n",
       "    </tr>\n",
       "    <tr>\n",
       "      <th>19</th>\n",
       "      <td>results\\CER_plus_20240611_1645_3</td>\n",
       "      <td>copper\\results\\CER_plus_20240611_1645\\CER_scen...</td>\n",
       "      <td>3</td>\n",
       "      <td>CER+</td>\n",
       "    </tr>\n",
       "    <tr>\n",
       "      <th>20</th>\n",
       "      <td>results\\CER_plus_20240611_1645_4</td>\n",
       "      <td>copper\\results\\CER_plus_20240611_1645\\CER_scen...</td>\n",
       "      <td>4</td>\n",
       "      <td>CER+</td>\n",
       "    </tr>\n",
       "    <tr>\n",
       "      <th>21</th>\n",
       "      <td>results\\CER_plus_20240611_1645_5</td>\n",
       "      <td>copper\\results\\CER_plus_20240611_1645\\CER_scen...</td>\n",
       "      <td>5</td>\n",
       "      <td>CER+</td>\n",
       "    </tr>\n",
       "    <tr>\n",
       "      <th>22</th>\n",
       "      <td>results\\CER_plus_20240611_1645_6</td>\n",
       "      <td>copper\\results\\CER_plus_20240611_1645\\CER_scen...</td>\n",
       "      <td>6</td>\n",
       "      <td>CER+</td>\n",
       "    </tr>\n",
       "    <tr>\n",
       "      <th>23</th>\n",
       "      <td>results\\CER_plus_20240611_1645_7</td>\n",
       "      <td>copper\\results\\CER_plus_20240611_1645\\CER_scen...</td>\n",
       "      <td>7</td>\n",
       "      <td>CER+</td>\n",
       "    </tr>\n",
       "    <tr>\n",
       "      <th>24</th>\n",
       "      <td>results\\Rapid_20240611_1749_0</td>\n",
       "      <td>copper\\results\\Rapid_20240611_1749\\CER_scenari...</td>\n",
       "      <td>0</td>\n",
       "      <td>Rapid</td>\n",
       "    </tr>\n",
       "    <tr>\n",
       "      <th>25</th>\n",
       "      <td>results\\Rapid_20240611_1749_1</td>\n",
       "      <td>copper\\results\\Rapid_20240611_1749\\CER_scenari...</td>\n",
       "      <td>1</td>\n",
       "      <td>Rapid</td>\n",
       "    </tr>\n",
       "    <tr>\n",
       "      <th>26</th>\n",
       "      <td>results\\Rapid_20240611_1749_2</td>\n",
       "      <td>copper\\results\\Rapid_20240611_1749\\CER_scenari...</td>\n",
       "      <td>2</td>\n",
       "      <td>Rapid</td>\n",
       "    </tr>\n",
       "    <tr>\n",
       "      <th>27</th>\n",
       "      <td>results\\Rapid_20240611_1749_3</td>\n",
       "      <td>copper\\results\\Rapid_20240611_1749\\CER_scenari...</td>\n",
       "      <td>3</td>\n",
       "      <td>Rapid</td>\n",
       "    </tr>\n",
       "    <tr>\n",
       "      <th>28</th>\n",
       "      <td>results\\Rapid_20240611_1749_4</td>\n",
       "      <td>copper\\results\\Rapid_20240611_1749\\CER_scenari...</td>\n",
       "      <td>4</td>\n",
       "      <td>Rapid</td>\n",
       "    </tr>\n",
       "    <tr>\n",
       "      <th>29</th>\n",
       "      <td>results\\Rapid_20240611_1749_5</td>\n",
       "      <td>copper\\results\\Rapid_20240611_1749\\CER_scenari...</td>\n",
       "      <td>5</td>\n",
       "      <td>Rapid</td>\n",
       "    </tr>\n",
       "    <tr>\n",
       "      <th>30</th>\n",
       "      <td>results\\Rapid_20240611_1749_6</td>\n",
       "      <td>copper\\results\\Rapid_20240611_1749\\CER_scenari...</td>\n",
       "      <td>6</td>\n",
       "      <td>Rapid</td>\n",
       "    </tr>\n",
       "    <tr>\n",
       "      <th>31</th>\n",
       "      <td>results\\Rapid_20240611_1749_7</td>\n",
       "      <td>copper\\results\\Rapid_20240611_1749\\CER_scenari...</td>\n",
       "      <td>7</td>\n",
       "      <td>Rapid</td>\n",
       "    </tr>\n",
       "    <tr>\n",
       "      <th>32</th>\n",
       "      <td>results\\Rapid_plus_20240611_1852_0</td>\n",
       "      <td>copper\\results\\Rapid_plus_20240611_1852\\CER_sc...</td>\n",
       "      <td>0</td>\n",
       "      <td>Rapid+</td>\n",
       "    </tr>\n",
       "    <tr>\n",
       "      <th>33</th>\n",
       "      <td>results\\Rapid_plus_20240611_1852_1</td>\n",
       "      <td>copper\\results\\Rapid_plus_20240611_1852\\CER_sc...</td>\n",
       "      <td>1</td>\n",
       "      <td>Rapid+</td>\n",
       "    </tr>\n",
       "    <tr>\n",
       "      <th>34</th>\n",
       "      <td>results\\Rapid_plus_20240611_1852_2</td>\n",
       "      <td>copper\\results\\Rapid_plus_20240611_1852\\CER_sc...</td>\n",
       "      <td>2</td>\n",
       "      <td>Rapid+</td>\n",
       "    </tr>\n",
       "    <tr>\n",
       "      <th>35</th>\n",
       "      <td>results\\Rapid_plus_20240611_1852_3</td>\n",
       "      <td>copper\\results\\Rapid_plus_20240611_1852\\CER_sc...</td>\n",
       "      <td>3</td>\n",
       "      <td>Rapid+</td>\n",
       "    </tr>\n",
       "    <tr>\n",
       "      <th>36</th>\n",
       "      <td>results\\Rapid_plus_20240611_1852_4</td>\n",
       "      <td>copper\\results\\Rapid_plus_20240611_1852\\CER_sc...</td>\n",
       "      <td>4</td>\n",
       "      <td>Rapid+</td>\n",
       "    </tr>\n",
       "    <tr>\n",
       "      <th>37</th>\n",
       "      <td>results\\Rapid_plus_20240611_1852_5</td>\n",
       "      <td>copper\\results\\Rapid_plus_20240611_1852\\CER_sc...</td>\n",
       "      <td>5</td>\n",
       "      <td>Rapid+</td>\n",
       "    </tr>\n",
       "    <tr>\n",
       "      <th>38</th>\n",
       "      <td>results\\Rapid_plus_20240611_1852_6</td>\n",
       "      <td>copper\\results\\Rapid_plus_20240611_1852\\CER_sc...</td>\n",
       "      <td>6</td>\n",
       "      <td>Rapid+</td>\n",
       "    </tr>\n",
       "    <tr>\n",
       "      <th>39</th>\n",
       "      <td>results\\Rapid_plus_20240611_1852_7</td>\n",
       "      <td>copper\\results\\Rapid_plus_20240611_1852\\CER_sc...</td>\n",
       "      <td>7</td>\n",
       "      <td>Rapid+</td>\n",
       "    </tr>\n",
       "  </tbody>\n",
       "</table>\n",
       "</div>"
      ],
      "text/plain": [
       "                              ABM path  \\\n",
       "0          results\\BAU_20240611_1437_0   \n",
       "1          results\\BAU_20240611_1437_1   \n",
       "2          results\\BAU_20240611_1437_2   \n",
       "3          results\\BAU_20240611_1437_3   \n",
       "4          results\\BAU_20240611_1437_4   \n",
       "5          results\\BAU_20240611_1437_5   \n",
       "6          results\\BAU_20240611_1437_6   \n",
       "7          results\\BAU_20240611_1437_7   \n",
       "8          results\\CER_20240611_1541_0   \n",
       "9          results\\CER_20240611_1541_1   \n",
       "10         results\\CER_20240611_1541_2   \n",
       "11         results\\CER_20240611_1541_3   \n",
       "12         results\\CER_20240611_1541_4   \n",
       "13         results\\CER_20240611_1541_5   \n",
       "14         results\\CER_20240611_1541_6   \n",
       "15         results\\CER_20240611_1541_7   \n",
       "16    results\\CER_plus_20240611_1645_0   \n",
       "17    results\\CER_plus_20240611_1645_1   \n",
       "18    results\\CER_plus_20240611_1645_2   \n",
       "19    results\\CER_plus_20240611_1645_3   \n",
       "20    results\\CER_plus_20240611_1645_4   \n",
       "21    results\\CER_plus_20240611_1645_5   \n",
       "22    results\\CER_plus_20240611_1645_6   \n",
       "23    results\\CER_plus_20240611_1645_7   \n",
       "24       results\\Rapid_20240611_1749_0   \n",
       "25       results\\Rapid_20240611_1749_1   \n",
       "26       results\\Rapid_20240611_1749_2   \n",
       "27       results\\Rapid_20240611_1749_3   \n",
       "28       results\\Rapid_20240611_1749_4   \n",
       "29       results\\Rapid_20240611_1749_5   \n",
       "30       results\\Rapid_20240611_1749_6   \n",
       "31       results\\Rapid_20240611_1749_7   \n",
       "32  results\\Rapid_plus_20240611_1852_0   \n",
       "33  results\\Rapid_plus_20240611_1852_1   \n",
       "34  results\\Rapid_plus_20240611_1852_2   \n",
       "35  results\\Rapid_plus_20240611_1852_3   \n",
       "36  results\\Rapid_plus_20240611_1852_4   \n",
       "37  results\\Rapid_plus_20240611_1852_5   \n",
       "38  results\\Rapid_plus_20240611_1852_6   \n",
       "39  results\\Rapid_plus_20240611_1852_7   \n",
       "\n",
       "                                             ESM path  iteration Scenario  \n",
       "0   copper\\results\\BAU_20240611_1437\\BAU_scenario_...          0      BAU  \n",
       "1   copper\\results\\BAU_20240611_1437\\BAU_scenario_...          1      BAU  \n",
       "2   copper\\results\\BAU_20240611_1437\\BAU_scenario_...          2      BAU  \n",
       "3   copper\\results\\BAU_20240611_1437\\BAU_scenario_...          3      BAU  \n",
       "4   copper\\results\\BAU_20240611_1437\\BAU_scenario_...          4      BAU  \n",
       "5   copper\\results\\BAU_20240611_1437\\BAU_scenario_...          5      BAU  \n",
       "6   copper\\results\\BAU_20240611_1437\\BAU_scenario_...          6      BAU  \n",
       "7   copper\\results\\BAU_20240611_1437\\BAU_scenario_...          7      BAU  \n",
       "8   copper\\results\\CER_20240611_1541\\CER_scenario_...          0      CER  \n",
       "9   copper\\results\\CER_20240611_1541\\CER_scenario_...          1      CER  \n",
       "10  copper\\results\\CER_20240611_1541\\CER_scenario_...          2      CER  \n",
       "11  copper\\results\\CER_20240611_1541\\CER_scenario_...          3      CER  \n",
       "12  copper\\results\\CER_20240611_1541\\CER_scenario_...          4      CER  \n",
       "13  copper\\results\\CER_20240611_1541\\CER_scenario_...          5      CER  \n",
       "14  copper\\results\\CER_20240611_1541\\CER_scenario_...          6      CER  \n",
       "15  copper\\results\\CER_20240611_1541\\CER_scenario_...          7      CER  \n",
       "16  copper\\results\\CER_plus_20240611_1645\\CER_scen...          0     CER+  \n",
       "17  copper\\results\\CER_plus_20240611_1645\\CER_scen...          1     CER+  \n",
       "18  copper\\results\\CER_plus_20240611_1645\\CER_scen...          2     CER+  \n",
       "19  copper\\results\\CER_plus_20240611_1645\\CER_scen...          3     CER+  \n",
       "20  copper\\results\\CER_plus_20240611_1645\\CER_scen...          4     CER+  \n",
       "21  copper\\results\\CER_plus_20240611_1645\\CER_scen...          5     CER+  \n",
       "22  copper\\results\\CER_plus_20240611_1645\\CER_scen...          6     CER+  \n",
       "23  copper\\results\\CER_plus_20240611_1645\\CER_scen...          7     CER+  \n",
       "24  copper\\results\\Rapid_20240611_1749\\CER_scenari...          0    Rapid  \n",
       "25  copper\\results\\Rapid_20240611_1749\\CER_scenari...          1    Rapid  \n",
       "26  copper\\results\\Rapid_20240611_1749\\CER_scenari...          2    Rapid  \n",
       "27  copper\\results\\Rapid_20240611_1749\\CER_scenari...          3    Rapid  \n",
       "28  copper\\results\\Rapid_20240611_1749\\CER_scenari...          4    Rapid  \n",
       "29  copper\\results\\Rapid_20240611_1749\\CER_scenari...          5    Rapid  \n",
       "30  copper\\results\\Rapid_20240611_1749\\CER_scenari...          6    Rapid  \n",
       "31  copper\\results\\Rapid_20240611_1749\\CER_scenari...          7    Rapid  \n",
       "32  copper\\results\\Rapid_plus_20240611_1852\\CER_sc...          0   Rapid+  \n",
       "33  copper\\results\\Rapid_plus_20240611_1852\\CER_sc...          1   Rapid+  \n",
       "34  copper\\results\\Rapid_plus_20240611_1852\\CER_sc...          2   Rapid+  \n",
       "35  copper\\results\\Rapid_plus_20240611_1852\\CER_sc...          3   Rapid+  \n",
       "36  copper\\results\\Rapid_plus_20240611_1852\\CER_sc...          4   Rapid+  \n",
       "37  copper\\results\\Rapid_plus_20240611_1852\\CER_sc...          5   Rapid+  \n",
       "38  copper\\results\\Rapid_plus_20240611_1852\\CER_sc...          6   Rapid+  \n",
       "39  copper\\results\\Rapid_plus_20240611_1852\\CER_sc...          7   Rapid+  "
      ]
     },
     "execution_count": 6,
     "metadata": {},
     "output_type": "execute_result"
    }
   ],
   "source": [
    "import plotly.express as px\n",
    "import plotly.graph_objects as go\n",
    "import numpy as np\n",
    "from pathlib import Path\n",
    "import pandas as pd\n",
    "\n",
    "from abetam.figures import sciencify_plotly_fig\n",
    "\n",
    "def copper_result_dir(abm_result_dir: Path):\n",
    "    scen_date, iteration = abm_result_dir.stem.rsplit(\"_\",1)\n",
    "    result_dirs = list(Path(f\"copper/results/{scen_date}\").iterdir())\n",
    "    result_dirs = sorted(result_dirs)\n",
    "    return result_dirs[int(iteration)]\n",
    "\n",
    "abm_result_dirs = Path(\"results\").iterdir()\n",
    "date_str = \"20240611\"\n",
    "abm_result_dirs = [d for d in abm_result_dirs if date_str in d.name]\n",
    "# abm_result_dirs\n",
    "result_df = pd.DataFrame(list([(d, copper_result_dir(d)) for d in sorted(abm_result_dirs)]), columns=[\"ABM path\", \"ESM path\"])\n",
    "result_df[\"iteration\"] = result_df[\"ABM path\"].apply( lambda p: p.stem.rsplit(\"_\",1)[-1]).astype(int)\n",
    "\n",
    "result_df[\"Scenario\"] = result_df[\"ABM path\"].apply( lambda p: p.stem.split(\"_\",1)[0])\n",
    "\n",
    "scen_mod = result_df[\"ABM path\"].apply(lambda p: \"+\" if \"_plus\" in p.stem else \"\")\n",
    "\n",
    "result_df[\"Scenario\"] = result_df[\"Scenario\"] + scen_mod\n",
    "\n",
    "result_df"
   ]
  },
  {
   "cell_type": "markdown",
   "metadata": {},
   "source": [
    "## ABM Adoption and energy demands"
   ]
  },
  {
   "cell_type": "code",
   "execution_count": 235,
   "metadata": {},
   "outputs": [],
   "source": [
    "import sys \n",
    "sys.path.insert(0,\"abetam\")\n",
    "from abetam.batch import BatchResult\n",
    "import seaborn as sns\n",
    "from abetam.data.canada import (\n",
    "    uncertain_demand_from_income_and_province,\n",
    "    get_end_use_agg_heating_share\n",
    ")\n",
    "from abetam.components.model import get_income_and_attitude_weights\n",
    "from abetam.components.technologies import merge_heating_techs_with_share\n",
    "from abetam.batch import transform_dict_column\n",
    "\n",
    "def get_demand_reductions(n):\n",
    "    dem_red = np.random.normal(0.4875, 0.125, n)\n",
    "    # ensure (0,1) boundaries\n",
    "    dem_red[dem_red < 0] = -dem_red[dem_red < 0]\n",
    "    dem_red[dem_red > 1] = 1 - (dem_red[dem_red > 1] - 1)\n",
    "    return dem_red\n",
    "\n",
    "def mean_energy_demand(n):\n",
    "    province = \"Ontario\"\n",
    "    price_weight_mode = 0.55\n",
    "    start_year=2020\n",
    "    income_distribution, weights_df = get_income_and_attitude_weights(\n",
    "        n, price_weight_mode=price_weight_mode\n",
    "    )\n",
    "    total_energy_demand = uncertain_demand_from_income_and_province(\n",
    "        income_distribution, province\n",
    "    )\n",
    "\n",
    "    province_heat_share = get_end_use_agg_heating_share(province, start_year)\n",
    "    heat_demand = total_energy_demand * province_heat_share\n",
    "    return heat_demand.mean()\n",
    "\n",
    "def get_scenario_retrofit_cost(abm_res):\n",
    "    no_refurbishments = abm_res.results_df[[\"RunId\",\"AgentID\",\"Refurbished\",\"Heat demand\"]].drop_duplicates().groupby(\"RunId\")[\"Refurbished\"].sum()\n",
    "    assert no_refurbishments[0] == no_refurbishments.mean()\n",
    "\n",
    "    mean_demand = mean_energy_demand(no_refurbishments[0])\n",
    "    demand_frame = abm_res.results_df[[\"RunId\",\"Step\",\"AgentID\",\"Heat demand\"]].query(\"Step == 0\")\n",
    "    demand_frame[\"n_households\"] = demand_frame[\"Heat demand\"]/mean_demand\n",
    "    demand_frame = demand_frame.groupby(\"RunId\").sum()\n",
    "    seeds = abm_res.results_df[[\"RunId\",\"random_seed\"]].drop_duplicates().set_index(\"RunId\")\n",
    "    seeds[\"n_households\"] = demand_frame[\"n_households\"]\n",
    "    no_res_buildings = 1639581 #https://open.canada.ca/data/en/dataset/7803173f-8ab7-428c-b987-74bbde245e12/resource/6cc8a832-11d5-4d9a-9796-397905490dc1\n",
    "    no_households = 5.169*1e6 # https://www.ontario.ca/page/ontario-demographic-quarterly-highlights-first-quarter\n",
    "\n",
    "    households_per_building = no_households/no_res_buildings\n",
    "\n",
    "    max_build_work_cost = 100000\n",
    "    total_retrofit_costs = pd.DataFrame()\n",
    "    refurbished_share = no_refurbishments[0]/abm_res.results_df[\"AgentID\"].max()\n",
    "    for r_id, seed, n_households in seeds.itertuples():\n",
    "        # _, r_id, seed = tupl\n",
    "        np.random.seed(seed)\n",
    "        dem_reds = get_demand_reductions(no_refurbishments[0])\n",
    "\n",
    "        # assume maximum reduction == maximum cost\n",
    "        dem_reds /= dem_reds.max()\n",
    "        retrofit_costs = (dem_reds*max_build_work_cost).mean()*no_households*refurbished_share/households_per_building\n",
    "        # print(n_households/households_per_building)\n",
    "\n",
    "        total_retrofit_costs.at[r_id,\"Retrofit costs (CAD)\"] = retrofit_costs\n",
    "\n",
    "    total_retrofit_costs[\"scenario\"] = scenario\n",
    "    return total_retrofit_costs\n",
    "\n",
    "\n",
    "def abm_total_ann_cost(abm_res):\n",
    "    N = abm_res.results_df[\"N\"][0]\n",
    "    start_year = abm_res.results_df[\"start_year\"][0]\n",
    "    province = abm_res.results_df[\"province\"][0]\n",
    "    assert len(abm_res.results_df[\"province\"].unique()) < 2\n",
    "\n",
    "    # get adoption details from result\n",
    "    adopt_df = abm_res.adoption_details_df.pivot(index=[\"RunId\",\"year\"],columns=\"AgentID\",values=\"tech\")\n",
    "\n",
    "    # get starting tech distribution\n",
    "    heating_techs_df = merge_heating_techs_with_share(\n",
    "        start_year=start_year, province=province\n",
    "    ).reset_index()\n",
    "    heating_techs_df[\"upper_idx\"] = (heating_techs_df[\"cum_share\"] * N).astype(int)\n",
    "\n",
    "    starting_techs = [heating_techs_df.query(f\"{i}<=upper_idx\")[\"index\"].iloc[0] for i in range(500)]\n",
    "    start_tech_df = pd.DataFrame([starting_techs]*6, index=pd.MultiIndex.from_product([range(6),[2020.]], names=[\"RunId\",\"year\"]), columns=range(500))\n",
    "\n",
    "    # add starting tech distribution to adoption df and forward fill the dataframe\n",
    "    tech_agent_map = pd.concat([adopt_df, start_tech_df]).sort_index().ffill()\n",
    "\n",
    "    # get annual cost lookup from result\n",
    "    tech_ann_cost = abm_res.results_df[[\"year\",\"RunId\",\"AgentID\",\"Technology annual_cost\"]]\n",
    "    tech_ann_cost = transform_dict_column(tech_ann_cost, \"Technology annual_cost\", return_cols=False)\n",
    "    tech_ann_cost_lookup = tech_ann_cost.melt(id_vars=[\"year\",\"RunId\",\"AgentID\"], ).set_index([\"year\",\"RunId\",\"AgentID\",\"variable\"])\n",
    "\n",
    "    def fill_costs(col):\n",
    "        # apply called on a df yields a column as param here\n",
    "        col_df = col.to_frame(name=\"variable\")\n",
    "        col_df[\"AgentID\"] = col.name\n",
    "        idx = pd.Index(col_df.reset_index()[[\"year\",\"RunId\",\"AgentID\",\"variable\"]])\n",
    "        return tech_ann_cost_lookup.loc[idx, \"value\"].values\n",
    "\n",
    "    # swap tech names with their annual costs\n",
    "    ann_cost_agent_map = tech_agent_map.apply(fill_costs)\n",
    "\n",
    "    # reduce to full years\n",
    "    is_full_year = ann_cost_agent_map.reset_index()[\"year\"]%1==0\n",
    "    ann_cost_agent_map = ann_cost_agent_map.reset_index().loc[is_full_year,:].set_index([\"RunId\",\"year\"])\n",
    "\n",
    "    # sum\n",
    "    total_abm_cost = ann_cost_agent_map.groupby([\"RunId\"]).sum().sum(axis=1)\n",
    "    return total_abm_cost.to_frame(name=\"agg. annual costs\")\n",
    "\n",
    "def abm_cost_components(abm_res):\n",
    "    # cost_comps = abm_res.results_df[[\"AgentID\",\"RunId\",\"year\",'Cost components','Appliance name']]\n",
    "    # cost_comps = transform_dict_column(cost_comps, \"Cost components\", return_cols=False)\n",
    "    # cost_comps_l = cost_comps.melt(id_vars=[\"AgentID\",\"RunId\",\"year\",\"Appliance name\"])\n",
    "    # # divide by 4 to account for quarter-annual resolution\n",
    "    # cost_comps_l = cost_comps_l.groupby([\"RunId\",\"Appliance name\",\"variable\"])[\"value\"].sum()/4\n",
    "    cost_comps = abm_res.results_df[[\"AgentID\",\"RunId\",\"year\",'Cost components','Appliance name']]\n",
    "    cost_comps, new_cols = transform_dict_column(cost_comps, \"Cost components\")\n",
    "    cost_comps = (cost_comps.groupby([\"RunId\",'Appliance name'])[new_cols].sum()/4).melt(ignore_index=False)\n",
    "    return cost_comps.reset_index()\n",
    "\n",
    "def get_agg_fuel_demands(abm_res, scenario, keep_nth_year=5):\n",
    "    # demand is a model parameter, but will be reported for each agent, too\n",
    "    fuel_demand = transform_dict_column(abm_res.results_df[[\"RunId\",\"year\", 'Energy demand time series']], 'Energy demand time series', return_cols=False)\n",
    "    duplicated = fuel_demand[[\"RunId\",\"year\"]].duplicated()\n",
    "    fuel_demand = fuel_demand.loc[~duplicated,:]\n",
    "    keep_years = fuel_demand[\"year\"] % keep_nth_year == 0\n",
    "    fuel_demand = fuel_demand.loc[keep_years,:]\n",
    "    fuel_demand = fuel_demand.set_index([\"RunId\",\"year\"])\n",
    "\n",
    "    def cell_sum(col):\n",
    "        return np.vstack(col.values).sum(axis=1)\n",
    "        \n",
    "    agg_fuel_demand = fuel_demand.apply(cell_sum)\n",
    "    agg_fuel_demand_l = agg_fuel_demand.groupby([\"RunId\",\"year\"]).sum().melt(ignore_index=False)\n",
    "    agg_fuel_demand_l[\"variable\"] = agg_fuel_demand_l[\"variable\"].apply(lambda fuel:fuel.value)\n",
    "    agg_fuel_demand_l[\"scenario\"] = scenario\n",
    "    return agg_fuel_demand_l\n",
    "\n"
   ]
  },
  {
   "cell_type": "code",
   "execution_count": 252,
   "id": "01J2F0HCQGY5AT7GV4D6EJQDV5",
   "metadata": {},
   "outputs": [],
   "source": [
    "df = abm_res.results_df[[\"year\",\"RunId\",\"AgentID\",\"Technology annual_cost\",'Cost components', \"Appliance name\"]]\n",
    "df = transform_dict_column(df, \"Technology annual_cost\", return_cols=False)\n",
    "df = transform_dict_column(df, \"Cost components\", return_cols=False)"
   ]
  },
  {
   "cell_type": "code",
   "execution_count": 265,
   "id": "01J2F0PFFKQ8T70VW5EBA81FAN",
   "metadata": {},
   "outputs": [
    {
     "data": {
      "text/html": [
       "<div>\n",
       "<style scoped>\n",
       "    .dataframe tbody tr th:only-of-type {\n",
       "        vertical-align: middle;\n",
       "    }\n",
       "\n",
       "    .dataframe tbody tr th {\n",
       "        vertical-align: top;\n",
       "    }\n",
       "\n",
       "    .dataframe thead th {\n",
       "        text-align: right;\n",
       "    }\n",
       "</style>\n",
       "<table border=\"1\" class=\"dataframe\">\n",
       "  <thead>\n",
       "    <tr style=\"text-align: right;\">\n",
       "      <th></th>\n",
       "      <th>year</th>\n",
       "      <th>RunId</th>\n",
       "      <th>AgentID</th>\n",
       "      <th>Appliance name</th>\n",
       "      <th>Electric furnace</th>\n",
       "      <th>Gas furnace</th>\n",
       "      <th>Heat pump</th>\n",
       "      <th>Oil furnace</th>\n",
       "      <th>Wood or wood pellets furnace</th>\n",
       "      <th>annuity_cost</th>\n",
       "      <th>fuel_cost</th>\n",
       "      <th>fom_cost</th>\n",
       "      <th>summed cost comps</th>\n",
       "    </tr>\n",
       "  </thead>\n",
       "  <tbody>\n",
       "    <tr>\n",
       "      <th>56</th>\n",
       "      <td>2020.0</td>\n",
       "      <td>3</td>\n",
       "      <td>56</td>\n",
       "      <td>Electric furnace</td>\n",
       "      <td>2.512805e+07</td>\n",
       "      <td>1.125697e+07</td>\n",
       "      <td>1.282081e+07</td>\n",
       "      <td>3.034531e+07</td>\n",
       "      <td>1.566402e+08</td>\n",
       "      <td>2.993860e+05</td>\n",
       "      <td>1.104687e+07</td>\n",
       "      <td>1.253166e+05</td>\n",
       "      <td>1.147157e+07</td>\n",
       "    </tr>\n",
       "    <tr>\n",
       "      <th>100</th>\n",
       "      <td>2020.0</td>\n",
       "      <td>3</td>\n",
       "      <td>100</td>\n",
       "      <td>Gas furnace</td>\n",
       "      <td>2.495053e+07</td>\n",
       "      <td>1.117744e+07</td>\n",
       "      <td>1.273024e+07</td>\n",
       "      <td>3.013093e+07</td>\n",
       "      <td>1.555336e+08</td>\n",
       "      <td>8.161702e+05</td>\n",
       "      <td>5.148325e+06</td>\n",
       "      <td>1.866184e+05</td>\n",
       "      <td>6.151113e+06</td>\n",
       "    </tr>\n",
       "    <tr>\n",
       "      <th>135</th>\n",
       "      <td>2020.0</td>\n",
       "      <td>3</td>\n",
       "      <td>135</td>\n",
       "      <td>Gas furnace</td>\n",
       "      <td>1.988322e+07</td>\n",
       "      <td>8.907371e+06</td>\n",
       "      <td>1.014480e+07</td>\n",
       "      <td>2.401152e+07</td>\n",
       "      <td>1.239456e+08</td>\n",
       "      <td>7.734517e+05</td>\n",
       "      <td>4.878861e+06</td>\n",
       "      <td>1.768508e+05</td>\n",
       "      <td>5.829163e+06</td>\n",
       "    </tr>\n",
       "    <tr>\n",
       "      <th>143</th>\n",
       "      <td>2020.0</td>\n",
       "      <td>3</td>\n",
       "      <td>143</td>\n",
       "      <td>Gas furnace</td>\n",
       "      <td>2.629558e+07</td>\n",
       "      <td>1.178001e+07</td>\n",
       "      <td>1.341651e+07</td>\n",
       "      <td>3.175526e+07</td>\n",
       "      <td>1.639183e+08</td>\n",
       "      <td>9.533667e+05</td>\n",
       "      <td>6.013747e+06</td>\n",
       "      <td>2.179886e+05</td>\n",
       "      <td>7.185103e+06</td>\n",
       "    </tr>\n",
       "    <tr>\n",
       "      <th>161</th>\n",
       "      <td>2020.0</td>\n",
       "      <td>3</td>\n",
       "      <td>161</td>\n",
       "      <td>Gas furnace</td>\n",
       "      <td>2.537530e+07</td>\n",
       "      <td>1.136773e+07</td>\n",
       "      <td>1.294696e+07</td>\n",
       "      <td>3.064389e+07</td>\n",
       "      <td>1.581815e+08</td>\n",
       "      <td>9.877699e+05</td>\n",
       "      <td>6.230759e+06</td>\n",
       "      <td>2.258549e+05</td>\n",
       "      <td>7.444384e+06</td>\n",
       "    </tr>\n",
       "    <tr>\n",
       "      <th>...</th>\n",
       "      <td>...</td>\n",
       "      <td>...</td>\n",
       "      <td>...</td>\n",
       "      <td>...</td>\n",
       "      <td>...</td>\n",
       "      <td>...</td>\n",
       "      <td>...</td>\n",
       "      <td>...</td>\n",
       "      <td>...</td>\n",
       "      <td>...</td>\n",
       "      <td>...</td>\n",
       "      <td>...</td>\n",
       "      <td>...</td>\n",
       "    </tr>\n",
       "    <tr>\n",
       "      <th>362995</th>\n",
       "      <td>2050.0</td>\n",
       "      <td>4</td>\n",
       "      <td>495</td>\n",
       "      <td>Oil furnace</td>\n",
       "      <td>3.202628e+07</td>\n",
       "      <td>3.360334e+07</td>\n",
       "      <td>1.468542e+07</td>\n",
       "      <td>7.538782e+07</td>\n",
       "      <td>1.962150e+08</td>\n",
       "      <td>2.131793e+06</td>\n",
       "      <td>3.148962e+06</td>\n",
       "      <td>5.713646e+05</td>\n",
       "      <td>5.852120e+06</td>\n",
       "    </tr>\n",
       "    <tr>\n",
       "      <th>362996</th>\n",
       "      <td>2050.0</td>\n",
       "      <td>4</td>\n",
       "      <td>496</td>\n",
       "      <td>Oil furnace</td>\n",
       "      <td>2.466767e+07</td>\n",
       "      <td>2.662238e+07</td>\n",
       "      <td>1.126813e+07</td>\n",
       "      <td>5.921215e+07</td>\n",
       "      <td>1.515692e+08</td>\n",
       "      <td>1.187804e+06</td>\n",
       "      <td>2.196991e+07</td>\n",
       "      <td>2.330360e+05</td>\n",
       "      <td>2.339075e+07</td>\n",
       "    </tr>\n",
       "    <tr>\n",
       "      <th>362997</th>\n",
       "      <td>2050.0</td>\n",
       "      <td>4</td>\n",
       "      <td>497</td>\n",
       "      <td>Oil furnace</td>\n",
       "      <td>1.692580e+07</td>\n",
       "      <td>2.020085e+07</td>\n",
       "      <td>6.348081e+06</td>\n",
       "      <td>4.434050e+07</td>\n",
       "      <td>1.034002e+08</td>\n",
       "      <td>7.916634e+05</td>\n",
       "      <td>2.966816e+07</td>\n",
       "      <td>1.830804e+05</td>\n",
       "      <td>3.064290e+07</td>\n",
       "    </tr>\n",
       "    <tr>\n",
       "      <th>362998</th>\n",
       "      <td>2050.0</td>\n",
       "      <td>4</td>\n",
       "      <td>498</td>\n",
       "      <td>Wood or wood pellets furnace</td>\n",
       "      <td>8.673861e+06</td>\n",
       "      <td>1.006095e+07</td>\n",
       "      <td>2.974983e+06</td>\n",
       "      <td>2.179842e+07</td>\n",
       "      <td>5.322993e+07</td>\n",
       "      <td>1.955769e+05</td>\n",
       "      <td>9.570122e+06</td>\n",
       "      <td>4.409160e+04</td>\n",
       "      <td>9.809791e+06</td>\n",
       "    </tr>\n",
       "    <tr>\n",
       "      <th>362999</th>\n",
       "      <td>2050.0</td>\n",
       "      <td>4</td>\n",
       "      <td>499</td>\n",
       "      <td>Wood or wood pellets furnace</td>\n",
       "      <td>5.914567e+07</td>\n",
       "      <td>5.304540e+07</td>\n",
       "      <td>2.756039e+07</td>\n",
       "      <td>1.237747e+08</td>\n",
       "      <td>3.530969e+08</td>\n",
       "      <td>9.466044e+06</td>\n",
       "      <td>2.682626e+08</td>\n",
       "      <td>3.682909e+06</td>\n",
       "      <td>2.814115e+08</td>\n",
       "    </tr>\n",
       "  </tbody>\n",
       "</table>\n",
       "<p>233043 rows × 13 columns</p>\n",
       "</div>"
      ],
      "text/plain": [
       "          year  RunId  AgentID                Appliance name  \\\n",
       "56      2020.0      3       56              Electric furnace   \n",
       "100     2020.0      3      100                   Gas furnace   \n",
       "135     2020.0      3      135                   Gas furnace   \n",
       "143     2020.0      3      143                   Gas furnace   \n",
       "161     2020.0      3      161                   Gas furnace   \n",
       "...        ...    ...      ...                           ...   \n",
       "362995  2050.0      4      495                   Oil furnace   \n",
       "362996  2050.0      4      496                   Oil furnace   \n",
       "362997  2050.0      4      497                   Oil furnace   \n",
       "362998  2050.0      4      498  Wood or wood pellets furnace   \n",
       "362999  2050.0      4      499  Wood or wood pellets furnace   \n",
       "\n",
       "        Electric furnace   Gas furnace     Heat pump   Oil furnace  \\\n",
       "56          2.512805e+07  1.125697e+07  1.282081e+07  3.034531e+07   \n",
       "100         2.495053e+07  1.117744e+07  1.273024e+07  3.013093e+07   \n",
       "135         1.988322e+07  8.907371e+06  1.014480e+07  2.401152e+07   \n",
       "143         2.629558e+07  1.178001e+07  1.341651e+07  3.175526e+07   \n",
       "161         2.537530e+07  1.136773e+07  1.294696e+07  3.064389e+07   \n",
       "...                  ...           ...           ...           ...   \n",
       "362995      3.202628e+07  3.360334e+07  1.468542e+07  7.538782e+07   \n",
       "362996      2.466767e+07  2.662238e+07  1.126813e+07  5.921215e+07   \n",
       "362997      1.692580e+07  2.020085e+07  6.348081e+06  4.434050e+07   \n",
       "362998      8.673861e+06  1.006095e+07  2.974983e+06  2.179842e+07   \n",
       "362999      5.914567e+07  5.304540e+07  2.756039e+07  1.237747e+08   \n",
       "\n",
       "        Wood or wood pellets furnace  annuity_cost     fuel_cost  \\\n",
       "56                      1.566402e+08  2.993860e+05  1.104687e+07   \n",
       "100                     1.555336e+08  8.161702e+05  5.148325e+06   \n",
       "135                     1.239456e+08  7.734517e+05  4.878861e+06   \n",
       "143                     1.639183e+08  9.533667e+05  6.013747e+06   \n",
       "161                     1.581815e+08  9.877699e+05  6.230759e+06   \n",
       "...                              ...           ...           ...   \n",
       "362995                  1.962150e+08  2.131793e+06  3.148962e+06   \n",
       "362996                  1.515692e+08  1.187804e+06  2.196991e+07   \n",
       "362997                  1.034002e+08  7.916634e+05  2.966816e+07   \n",
       "362998                  5.322993e+07  1.955769e+05  9.570122e+06   \n",
       "362999                  3.530969e+08  9.466044e+06  2.682626e+08   \n",
       "\n",
       "            fom_cost  summed cost comps  \n",
       "56      1.253166e+05       1.147157e+07  \n",
       "100     1.866184e+05       6.151113e+06  \n",
       "135     1.768508e+05       5.829163e+06  \n",
       "143     2.179886e+05       7.185103e+06  \n",
       "161     2.258549e+05       7.444384e+06  \n",
       "...              ...                ...  \n",
       "362995  5.713646e+05       5.852120e+06  \n",
       "362996  2.330360e+05       2.339075e+07  \n",
       "362997  1.830804e+05       3.064290e+07  \n",
       "362998  4.409160e+04       9.809791e+06  \n",
       "362999  3.682909e+06       2.814115e+08  \n",
       "\n",
       "[233043 rows x 13 columns]"
      ]
     },
     "execution_count": 265,
     "metadata": {},
     "output_type": "execute_result"
    }
   ],
   "source": [
    "df[\"summed cost comps\"] = df[[\"annuity_cost\",\"fuel_cost\",\"fom_cost\"]].sum(axis=1)\n",
    "cost_diffs = df[[\"Electric furnace\",\"Gas furnace\",\"Heat pump\",\"Oil furnace\"]].values - df[\"summed cost comps\"].values.reshape(-1,1)\n",
    "cost_diffs = pd.DataFrame(cost_diffs, columns=[\"Electric furnace\",\"Gas furnace\",\"Heat pump\",\"Oil furnace\"]) == 0\n",
    "df.loc[~cost_diffs.any(axis=1),:]"
   ]
  },
  {
   "cell_type": "code",
   "execution_count": 236,
   "metadata": {},
   "outputs": [
    {
     "data": {
      "text/html": [
       "<div>\n",
       "<style scoped>\n",
       "    .dataframe tbody tr th:only-of-type {\n",
       "        vertical-align: middle;\n",
       "    }\n",
       "\n",
       "    .dataframe tbody tr th {\n",
       "        vertical-align: top;\n",
       "    }\n",
       "\n",
       "    .dataframe thead th {\n",
       "        text-align: right;\n",
       "    }\n",
       "</style>\n",
       "<table border=\"1\" class=\"dataframe\">\n",
       "  <thead>\n",
       "    <tr style=\"text-align: right;\">\n",
       "      <th></th>\n",
       "      <th>Retrofit costs (CAD)</th>\n",
       "      <th>scenario</th>\n",
       "    </tr>\n",
       "  </thead>\n",
       "  <tbody>\n",
       "    <tr>\n",
       "      <th>2</th>\n",
       "      <td>2.684469e+10</td>\n",
       "      <td>BAU</td>\n",
       "    </tr>\n",
       "    <tr>\n",
       "      <th>3</th>\n",
       "      <td>2.616550e+10</td>\n",
       "      <td>BAU</td>\n",
       "    </tr>\n",
       "    <tr>\n",
       "      <th>1</th>\n",
       "      <td>2.970982e+10</td>\n",
       "      <td>BAU</td>\n",
       "    </tr>\n",
       "    <tr>\n",
       "      <th>5</th>\n",
       "      <td>2.969654e+10</td>\n",
       "      <td>BAU</td>\n",
       "    </tr>\n",
       "    <tr>\n",
       "      <th>0</th>\n",
       "      <td>2.839719e+10</td>\n",
       "      <td>BAU</td>\n",
       "    </tr>\n",
       "  </tbody>\n",
       "</table>\n",
       "</div>"
      ],
      "text/plain": [
       "   Retrofit costs (CAD) scenario\n",
       "2          2.684469e+10      BAU\n",
       "3          2.616550e+10      BAU\n",
       "1          2.970982e+10      BAU\n",
       "5          2.969654e+10      BAU\n",
       "0          2.839719e+10      BAU"
      ]
     },
     "execution_count": 236,
     "metadata": {},
     "output_type": "execute_result"
    }
   ],
   "source": [
    "\n",
    "\n",
    "tech_share_dfs = []\n",
    "fuel_demands = []\n",
    "uncertain_fuel_demands = []\n",
    "subsidy_dfs = []\n",
    "emission_dfs = []\n",
    "lcoh_dfs = []\n",
    "spendings_dfs = []\n",
    "retrofit_costs = []\n",
    "abm_agg_cost = []\n",
    "abm_cost_comps = []\n",
    "\n",
    "for scenario in result_df.Scenario.unique():\n",
    "    # print(scenario,\":\", result_df.query(f\"iteration==1 and Scenario=='{scenario}'\"))\n",
    "    abm_res = BatchResult.from_directory(result_df.query(f\"iteration==1 and Scenario=='{scenario}'\")[\"ABM path\"].values[0])\n",
    "    t_share_df = abm_res.tech_shares_df\n",
    "    t_share_df[\"scenario\"] = scenario\n",
    "    tech_share_dfs.append(t_share_df)\n",
    "\n",
    "    demands = abm_res.mean_carrier_demand_df.copy()\n",
    "    demands[\"scenario\"] = scenario\n",
    "    fuel_demands.append(demands)\n",
    "\n",
    "    subs = abm_res.subsidies_df\n",
    "    subs[\"scenario\"] = scenario\n",
    "    subsidy_dfs.append(subs)\n",
    "\n",
    "    emiss = abm_res.emissions()\n",
    "    emiss[\"scenario\"] = scenario\n",
    "    emission_dfs.append(emiss)\n",
    "\n",
    "    uncertain_fuel_demands.append(get_agg_fuel_demands(abm_res, scenario))\n",
    "\n",
    "    lcohs = pd.DataFrame.from_records(abm_res.results_df[\"LCOH\"])\n",
    "    lcohs[['year','RunId','AgentID',\"Refurbished\"]] = abm_res.results_df[['year','RunId','AgentID',\"Refurbished\"]]\n",
    "    long_lcohs = lcohs.set_index([\"year\",\"RunId\",\"AgentID\",\"Refurbished\"]).melt(ignore_index=False).reset_index().drop(\"AgentID\", axis=1)\n",
    "    long_lcohs = long_lcohs.round(2).drop_duplicates().groupby([\"year\",\"variable\"]).mean().reset_index()\n",
    "    long_lcohs[\"scenario\"] = scenario\n",
    "    lcoh_dfs.append(long_lcohs)\n",
    "\n",
    "    adopt_df = abm_res.adoption_details_df.set_index(['RunId','AgentID','year',])\n",
    "    adopt_df[\"req. size\"] = abm_res.results_df[['RunId','AgentID','year','Required heating size']].set_index(['RunId','AgentID','year']).loc[adopt_df.index,'Required heating size']\n",
    "    adopt_df[\"Purchase cost\"] = adopt_df[\"purchase_price\"] * adopt_df[\"req. size\"]\n",
    "    total_spendings = adopt_df.groupby([\"RunId\", \"tech\"])[\"Purchase cost\"].sum().groupby(\"tech\").mean().reset_index()\n",
    "    total_spendings[\"scenario\"] = scenario\n",
    "    spendings_dfs.append(total_spendings)\n",
    "\n",
    "    cost_comps = abm_cost_components(abm_res)\n",
    "    cost_comps[\"scenario\"] = scenario\n",
    "    abm_cost_comps.append(cost_comps)\n",
    "\n",
    "    abm_agg_annual_costs = abm_total_ann_cost(abm_res)\n",
    "    abm_agg_annual_costs[\"scenario\"] = scenario\n",
    "    abm_agg_cost.append(abm_agg_annual_costs)\n",
    "    retrofit_costs.append(get_scenario_retrofit_cost(abm_res))\n",
    "\n",
    "scenario_tech_shares = pd.concat(tech_share_dfs)\n",
    "scenario_fuel_demands = pd.concat(fuel_demands)\n",
    "scenario_uncertain_fuel_demands = pd.concat(uncertain_fuel_demands)\n",
    "scenario_emissions = pd.concat(emission_dfs)\n",
    "scenario_subsidies = pd.concat(subsidy_dfs)\n",
    "scenario_lcohs = pd.concat(lcoh_dfs)\n",
    "scenario_spendings = pd.concat(spendings_dfs)\n",
    "scenario_retrofit_costs = pd.concat(retrofit_costs)\n",
    "abm_agg_costs = pd.concat(abm_agg_cost)\n",
    "abm_cost_comps = pd.concat(abm_cost_comps)\n",
    "scenario_retrofit_costs.head()\n"
   ]
  },
  {
   "cell_type": "code",
   "execution_count": 237,
   "id": "01J2EZF3YH0HD17WXJKT7HJVZQ",
   "metadata": {},
   "outputs": [
    {
     "data": {
      "text/html": [
       "<div>\n",
       "<style scoped>\n",
       "    .dataframe tbody tr th:only-of-type {\n",
       "        vertical-align: middle;\n",
       "    }\n",
       "\n",
       "    .dataframe tbody tr th {\n",
       "        vertical-align: top;\n",
       "    }\n",
       "\n",
       "    .dataframe thead th {\n",
       "        text-align: right;\n",
       "    }\n",
       "</style>\n",
       "<table border=\"1\" class=\"dataframe\">\n",
       "  <thead>\n",
       "    <tr style=\"text-align: right;\">\n",
       "      <th></th>\n",
       "      <th>RunId</th>\n",
       "      <th>Appliance name</th>\n",
       "      <th>variable</th>\n",
       "      <th>value</th>\n",
       "      <th>scenario</th>\n",
       "    </tr>\n",
       "  </thead>\n",
       "  <tbody>\n",
       "    <tr>\n",
       "      <th>0</th>\n",
       "      <td>0</td>\n",
       "      <td>Electric furnace</td>\n",
       "      <td>annuity_cost</td>\n",
       "      <td>1.961975e+09</td>\n",
       "      <td>BAU</td>\n",
       "    </tr>\n",
       "    <tr>\n",
       "      <th>1</th>\n",
       "      <td>0</td>\n",
       "      <td>Gas furnace</td>\n",
       "      <td>annuity_cost</td>\n",
       "      <td>1.529791e+10</td>\n",
       "      <td>BAU</td>\n",
       "    </tr>\n",
       "    <tr>\n",
       "      <th>2</th>\n",
       "      <td>0</td>\n",
       "      <td>Heat pump</td>\n",
       "      <td>annuity_cost</td>\n",
       "      <td>7.698475e+09</td>\n",
       "      <td>BAU</td>\n",
       "    </tr>\n",
       "    <tr>\n",
       "      <th>3</th>\n",
       "      <td>0</td>\n",
       "      <td>Oil furnace</td>\n",
       "      <td>annuity_cost</td>\n",
       "      <td>5.573002e+08</td>\n",
       "      <td>BAU</td>\n",
       "    </tr>\n",
       "    <tr>\n",
       "      <th>4</th>\n",
       "      <td>0</td>\n",
       "      <td>Wood or wood pellets furnace</td>\n",
       "      <td>annuity_cost</td>\n",
       "      <td>3.561456e+08</td>\n",
       "      <td>BAU</td>\n",
       "    </tr>\n",
       "    <tr>\n",
       "      <th>...</th>\n",
       "      <td>...</td>\n",
       "      <td>...</td>\n",
       "      <td>...</td>\n",
       "      <td>...</td>\n",
       "      <td>...</td>\n",
       "    </tr>\n",
       "    <tr>\n",
       "      <th>85</th>\n",
       "      <td>5</td>\n",
       "      <td>Electric furnace</td>\n",
       "      <td>fom_cost</td>\n",
       "      <td>7.687483e+08</td>\n",
       "      <td>Rapid+</td>\n",
       "    </tr>\n",
       "    <tr>\n",
       "      <th>86</th>\n",
       "      <td>5</td>\n",
       "      <td>Gas furnace</td>\n",
       "      <td>fom_cost</td>\n",
       "      <td>3.439695e+09</td>\n",
       "      <td>Rapid+</td>\n",
       "    </tr>\n",
       "    <tr>\n",
       "      <th>87</th>\n",
       "      <td>5</td>\n",
       "      <td>Heat pump</td>\n",
       "      <td>fom_cost</td>\n",
       "      <td>1.359056e+09</td>\n",
       "      <td>Rapid+</td>\n",
       "    </tr>\n",
       "    <tr>\n",
       "      <th>88</th>\n",
       "      <td>5</td>\n",
       "      <td>Oil furnace</td>\n",
       "      <td>fom_cost</td>\n",
       "      <td>1.455140e+08</td>\n",
       "      <td>Rapid+</td>\n",
       "    </tr>\n",
       "    <tr>\n",
       "      <th>89</th>\n",
       "      <td>5</td>\n",
       "      <td>Wood or wood pellets furnace</td>\n",
       "      <td>fom_cost</td>\n",
       "      <td>1.309577e+08</td>\n",
       "      <td>Rapid+</td>\n",
       "    </tr>\n",
       "  </tbody>\n",
       "</table>\n",
       "<p>450 rows × 5 columns</p>\n",
       "</div>"
      ],
      "text/plain": [
       "    RunId                Appliance name      variable         value scenario\n",
       "0       0              Electric furnace  annuity_cost  1.961975e+09      BAU\n",
       "1       0                   Gas furnace  annuity_cost  1.529791e+10      BAU\n",
       "2       0                     Heat pump  annuity_cost  7.698475e+09      BAU\n",
       "3       0                   Oil furnace  annuity_cost  5.573002e+08      BAU\n",
       "4       0  Wood or wood pellets furnace  annuity_cost  3.561456e+08      BAU\n",
       "..    ...                           ...           ...           ...      ...\n",
       "85      5              Electric furnace      fom_cost  7.687483e+08   Rapid+\n",
       "86      5                   Gas furnace      fom_cost  3.439695e+09   Rapid+\n",
       "87      5                     Heat pump      fom_cost  1.359056e+09   Rapid+\n",
       "88      5                   Oil furnace      fom_cost  1.455140e+08   Rapid+\n",
       "89      5  Wood or wood pellets furnace      fom_cost  1.309577e+08   Rapid+\n",
       "\n",
       "[450 rows x 5 columns]"
      ]
     },
     "execution_count": 237,
     "metadata": {},
     "output_type": "execute_result"
    }
   ],
   "source": [
    "abm_cost_comps"
   ]
  },
  {
   "cell_type": "code",
   "execution_count": 9,
   "metadata": {},
   "outputs": [],
   "source": [
    "\n",
    "rtrft_fig = px.box(scenario_retrofit_costs, x=\"scenario\",y=\"Retrofit costs (CAD)\", color=\"scenario\", template=\"plotly\", width=400,)\n",
    "rtrft_fig = sciencify_plotly_fig(rtrft_fig)\n",
    "rtrft_fig.update_layout(showlegend=False, margin=dict(r=10,t=10,b=10), height=350, font_family=\"cm\",font_size=18)\n",
    "rtrft_fig.write_image(f\"abm_retrofit_cost_{date_str}.svg\")\n",
    "rtrft_fig.write_image(f\"abm_retrofit_cost_{date_str}.pdf\", engine=\"kaleido\")\n",
    "# rtrft_fig"
   ]
  },
  {
   "cell_type": "code",
   "execution_count": 10,
   "id": "01HXGZ94MSV2BKGTQBXKR5QTE8",
   "metadata": {},
   "outputs": [],
   "source": [
    "total_cost_fig = px.box(abm_agg_costs, x=\"scenario\",y=\"agg. annual costs\", color=\"scenario\", template=\"plotly\", width=400,)\n",
    "total_cost_fig = sciencify_plotly_fig(total_cost_fig)\n",
    "total_cost_fig.update_layout(showlegend=False, margin=dict(r=10,t=10,b=10), height=350, font_family=\"cm\",font_size=18, yaxis_title=\"Total residential cost (CAD)\")\n",
    "total_cost_fig.write_image(f\"abm_total_cost_{date_str}.svg\")\n",
    "# total_cost_fig"
   ]
  },
  {
   "cell_type": "code",
   "execution_count": 11,
   "id": "01J0BM9KAC16HP4JWJDMHZE8SD",
   "metadata": {},
   "outputs": [],
   "source": [
    "# agg_fuel_demand_l\n",
    "# sns.lineplot(agg_fuel_demand_l.reset_index(), x=\"year\",y=\"value\", hue=\"variable\")"
   ]
  },
  {
   "cell_type": "code",
   "execution_count": 12,
   "metadata": {},
   "outputs": [
    {
     "data": {
      "text/html": [
       "<div>\n",
       "<style scoped>\n",
       "    .dataframe tbody tr th:only-of-type {\n",
       "        vertical-align: middle;\n",
       "    }\n",
       "\n",
       "    .dataframe tbody tr th {\n",
       "        vertical-align: top;\n",
       "    }\n",
       "\n",
       "    .dataframe thead th {\n",
       "        text-align: right;\n",
       "    }\n",
       "</style>\n",
       "<table border=\"1\" class=\"dataframe\">\n",
       "  <thead>\n",
       "    <tr style=\"text-align: right;\">\n",
       "      <th></th>\n",
       "      <th>year</th>\n",
       "      <th>scenario</th>\n",
       "      <th>variable</th>\n",
       "      <th>value</th>\n",
       "    </tr>\n",
       "  </thead>\n",
       "  <tbody>\n",
       "    <tr>\n",
       "      <th>0</th>\n",
       "      <td>2020.0</td>\n",
       "      <td>BAU</td>\n",
       "      <td>Fuels.NATURAL_GAS</td>\n",
       "      <td>93274035604.666656</td>\n",
       "    </tr>\n",
       "    <tr>\n",
       "      <th>1</th>\n",
       "      <td>2020.0</td>\n",
       "      <td>CER</td>\n",
       "      <td>Fuels.NATURAL_GAS</td>\n",
       "      <td>92711077819.583313</td>\n",
       "    </tr>\n",
       "    <tr>\n",
       "      <th>2</th>\n",
       "      <td>2020.0</td>\n",
       "      <td>CER+</td>\n",
       "      <td>Fuels.NATURAL_GAS</td>\n",
       "      <td>92662457111.500015</td>\n",
       "    </tr>\n",
       "    <tr>\n",
       "      <th>3</th>\n",
       "      <td>2020.0</td>\n",
       "      <td>Rapid</td>\n",
       "      <td>Fuels.NATURAL_GAS</td>\n",
       "      <td>92202709224.333313</td>\n",
       "    </tr>\n",
       "    <tr>\n",
       "      <th>4</th>\n",
       "      <td>2020.0</td>\n",
       "      <td>Rapid+</td>\n",
       "      <td>Fuels.NATURAL_GAS</td>\n",
       "      <td>92177556205.916702</td>\n",
       "    </tr>\n",
       "    <tr>\n",
       "      <th>...</th>\n",
       "      <td>...</td>\n",
       "      <td>...</td>\n",
       "      <td>...</td>\n",
       "      <td>...</td>\n",
       "    </tr>\n",
       "    <tr>\n",
       "      <th>135</th>\n",
       "      <td>2050.0</td>\n",
       "      <td>BAU</td>\n",
       "      <td>Fuels.ELECTRICITY</td>\n",
       "      <td>60968980156.166656</td>\n",
       "    </tr>\n",
       "    <tr>\n",
       "      <th>136</th>\n",
       "      <td>2050.0</td>\n",
       "      <td>CER</td>\n",
       "      <td>Fuels.ELECTRICITY</td>\n",
       "      <td>53596186864.166672</td>\n",
       "    </tr>\n",
       "    <tr>\n",
       "      <th>137</th>\n",
       "      <td>2050.0</td>\n",
       "      <td>CER+</td>\n",
       "      <td>Fuels.ELECTRICITY</td>\n",
       "      <td>60461131887.375</td>\n",
       "    </tr>\n",
       "    <tr>\n",
       "      <th>138</th>\n",
       "      <td>2050.0</td>\n",
       "      <td>Rapid</td>\n",
       "      <td>Fuels.ELECTRICITY</td>\n",
       "      <td>17755132449.687504</td>\n",
       "    </tr>\n",
       "    <tr>\n",
       "      <th>139</th>\n",
       "      <td>2050.0</td>\n",
       "      <td>Rapid+</td>\n",
       "      <td>Fuels.ELECTRICITY</td>\n",
       "      <td>18834548762.541668</td>\n",
       "    </tr>\n",
       "  </tbody>\n",
       "</table>\n",
       "<p>140 rows × 4 columns</p>\n",
       "</div>"
      ],
      "text/plain": [
       "       year scenario           variable               value\n",
       "0    2020.0      BAU  Fuels.NATURAL_GAS  93274035604.666656\n",
       "1    2020.0      CER  Fuels.NATURAL_GAS  92711077819.583313\n",
       "2    2020.0     CER+  Fuels.NATURAL_GAS  92662457111.500015\n",
       "3    2020.0    Rapid  Fuels.NATURAL_GAS  92202709224.333313\n",
       "4    2020.0   Rapid+  Fuels.NATURAL_GAS  92177556205.916702\n",
       "..      ...      ...                ...                 ...\n",
       "135  2050.0      BAU  Fuels.ELECTRICITY  60968980156.166656\n",
       "136  2050.0      CER  Fuels.ELECTRICITY  53596186864.166672\n",
       "137  2050.0     CER+  Fuels.ELECTRICITY     60461131887.375\n",
       "138  2050.0    Rapid  Fuels.ELECTRICITY  17755132449.687504\n",
       "139  2050.0   Rapid+  Fuels.ELECTRICITY  18834548762.541668\n",
       "\n",
       "[140 rows x 4 columns]"
      ]
     },
     "execution_count": 12,
     "metadata": {},
     "output_type": "execute_result"
    }
   ],
   "source": [
    "scenario_fuel_demands_long = scenario_fuel_demands.groupby([\"year\",\"scenario\"]).sum().melt(ignore_index=False).reset_index()\n",
    "scenario_fuel_demands_long"
   ]
  },
  {
   "cell_type": "code",
   "execution_count": 13,
   "id": "01J0BP7C98NFD19W8PYDNECY6D",
   "metadata": {},
   "outputs": [],
   "source": [
    "scenario_fuel_demands_long[\"value\"] /= 1e9 # kWh -> TWh\n"
   ]
  },
  {
   "cell_type": "code",
   "execution_count": 14,
   "metadata": {},
   "outputs": [
    {
     "data": {
      "text/html": [
       "<div>\n",
       "<style scoped>\n",
       "    .dataframe tbody tr th:only-of-type {\n",
       "        vertical-align: middle;\n",
       "    }\n",
       "\n",
       "    .dataframe tbody tr th {\n",
       "        vertical-align: top;\n",
       "    }\n",
       "\n",
       "    .dataframe thead th {\n",
       "        text-align: right;\n",
       "    }\n",
       "</style>\n",
       "<table border=\"1\" class=\"dataframe\">\n",
       "  <thead>\n",
       "    <tr style=\"text-align: right;\">\n",
       "      <th></th>\n",
       "      <th>year</th>\n",
       "      <th>scenario</th>\n",
       "      <th>variable</th>\n",
       "      <th>value</th>\n",
       "      <th>is_demand</th>\n",
       "    </tr>\n",
       "  </thead>\n",
       "  <tbody>\n",
       "    <tr>\n",
       "      <th>135</th>\n",
       "      <td>2050.0</td>\n",
       "      <td>BAU</td>\n",
       "      <td>Electricity</td>\n",
       "      <td>60.96898</td>\n",
       "      <td>True</td>\n",
       "    </tr>\n",
       "    <tr>\n",
       "      <th>136</th>\n",
       "      <td>2050.0</td>\n",
       "      <td>CER</td>\n",
       "      <td>Electricity</td>\n",
       "      <td>53.596187</td>\n",
       "      <td>True</td>\n",
       "    </tr>\n",
       "    <tr>\n",
       "      <th>137</th>\n",
       "      <td>2050.0</td>\n",
       "      <td>CER+</td>\n",
       "      <td>Electricity</td>\n",
       "      <td>60.461132</td>\n",
       "      <td>True</td>\n",
       "    </tr>\n",
       "    <tr>\n",
       "      <th>138</th>\n",
       "      <td>2050.0</td>\n",
       "      <td>Rapid</td>\n",
       "      <td>Electricity</td>\n",
       "      <td>17.755132</td>\n",
       "      <td>True</td>\n",
       "    </tr>\n",
       "    <tr>\n",
       "      <th>139</th>\n",
       "      <td>2050.0</td>\n",
       "      <td>Rapid+</td>\n",
       "      <td>Electricity</td>\n",
       "      <td>18.834549</td>\n",
       "      <td>True</td>\n",
       "    </tr>\n",
       "  </tbody>\n",
       "</table>\n",
       "</div>"
      ],
      "text/plain": [
       "       year scenario     variable      value  is_demand\n",
       "135  2050.0      BAU  Electricity   60.96898       True\n",
       "136  2050.0      CER  Electricity  53.596187       True\n",
       "137  2050.0     CER+  Electricity  60.461132       True\n",
       "138  2050.0    Rapid  Electricity  17.755132       True\n",
       "139  2050.0   Rapid+  Electricity  18.834549       True"
      ]
     },
     "execution_count": 14,
     "metadata": {},
     "output_type": "execute_result"
    }
   ],
   "source": [
    "from abetam.config import TECHNOLOGY_COLORS, FUEL_COLORS\n",
    "from abetam.components.technologies import Fuels\n",
    "ABM_colors = dict(TECHNOLOGY_COLORS, **FUEL_COLORS)\n",
    "\n",
    "scenario_tech_shares_long = scenario_tech_shares.drop([\"province\",\"RunId\"], axis=1).melt(id_vars=[\"year\",\"scenario\"]) \n",
    "abm_results = pd.concat([scenario_tech_shares_long, scenario_fuel_demands_long])\n",
    "def is_fuel(v):\n",
    "    return v in list(Fuels)\n",
    "abm_results[\"is_demand\"] = abm_results[\"variable\"].apply(is_fuel)\n",
    "\n",
    "abm_results[\"variable\"] = abm_results[\"variable\"].str.replace(\"Wood or wood pellets\", \"Biomass\")\n",
    "ABM_colors[\"Biomass furnace\"] = ABM_colors[\"Wood or wood pellets furnace\"]\n",
    "ABM_colors[\"Biomass\"] = ABM_colors[\"Wood or wood pellets\"]\n",
    "abm_results.tail()\n",
    "\n"
   ]
  },
  {
   "cell_type": "code",
   "execution_count": 15,
   "id": "01J0QR6M8T2QV3JKTZAYCKJXE8",
   "metadata": {},
   "outputs": [],
   "source": [
    "scenario_uncertain_fuel_demands[\"value\"] /= 1e9 # kWh -> TWh"
   ]
  },
  {
   "cell_type": "code",
   "execution_count": 16,
   "id": "01J0BNK4J45BP6D5VEBCZ8TGAQ",
   "metadata": {},
   "outputs": [
    {
     "data": {
      "text/html": [
       "<div>\n",
       "<style scoped>\n",
       "    .dataframe tbody tr th:only-of-type {\n",
       "        vertical-align: middle;\n",
       "    }\n",
       "\n",
       "    .dataframe tbody tr th {\n",
       "        vertical-align: top;\n",
       "    }\n",
       "\n",
       "    .dataframe thead th {\n",
       "        text-align: right;\n",
       "    }\n",
       "</style>\n",
       "<table border=\"1\" class=\"dataframe\">\n",
       "  <thead>\n",
       "    <tr style=\"text-align: right;\">\n",
       "      <th></th>\n",
       "      <th>year</th>\n",
       "      <th>scenario</th>\n",
       "      <th>variable</th>\n",
       "      <th>value</th>\n",
       "      <th>RunId</th>\n",
       "      <th>is_demand</th>\n",
       "    </tr>\n",
       "  </thead>\n",
       "  <tbody>\n",
       "    <tr>\n",
       "      <th>0</th>\n",
       "      <td>2020.0</td>\n",
       "      <td>BAU</td>\n",
       "      <td>Gas furnace</td>\n",
       "      <td>0.714000</td>\n",
       "      <td>NaN</td>\n",
       "      <td>False</td>\n",
       "    </tr>\n",
       "    <tr>\n",
       "      <th>8</th>\n",
       "      <td>2022.0</td>\n",
       "      <td>BAU</td>\n",
       "      <td>Gas furnace</td>\n",
       "      <td>0.700000</td>\n",
       "      <td>NaN</td>\n",
       "      <td>False</td>\n",
       "    </tr>\n",
       "    <tr>\n",
       "      <th>16</th>\n",
       "      <td>2024.0</td>\n",
       "      <td>BAU</td>\n",
       "      <td>Gas furnace</td>\n",
       "      <td>0.688000</td>\n",
       "      <td>NaN</td>\n",
       "      <td>False</td>\n",
       "    </tr>\n",
       "    <tr>\n",
       "      <th>24</th>\n",
       "      <td>2026.0</td>\n",
       "      <td>BAU</td>\n",
       "      <td>Gas furnace</td>\n",
       "      <td>0.676000</td>\n",
       "      <td>NaN</td>\n",
       "      <td>False</td>\n",
       "    </tr>\n",
       "    <tr>\n",
       "      <th>32</th>\n",
       "      <td>2028.0</td>\n",
       "      <td>BAU</td>\n",
       "      <td>Gas furnace</td>\n",
       "      <td>0.656000</td>\n",
       "      <td>NaN</td>\n",
       "      <td>False</td>\n",
       "    </tr>\n",
       "    <tr>\n",
       "      <th>...</th>\n",
       "      <td>...</td>\n",
       "      <td>...</td>\n",
       "      <td>...</td>\n",
       "      <td>...</td>\n",
       "      <td>...</td>\n",
       "      <td>...</td>\n",
       "    </tr>\n",
       "    <tr>\n",
       "      <th>835</th>\n",
       "      <td>2030.0</td>\n",
       "      <td>Rapid+</td>\n",
       "      <td>Electricity</td>\n",
       "      <td>19.173302</td>\n",
       "      <td>5.0</td>\n",
       "      <td>True</td>\n",
       "    </tr>\n",
       "    <tr>\n",
       "      <th>836</th>\n",
       "      <td>2035.0</td>\n",
       "      <td>Rapid+</td>\n",
       "      <td>Electricity</td>\n",
       "      <td>18.467806</td>\n",
       "      <td>5.0</td>\n",
       "      <td>True</td>\n",
       "    </tr>\n",
       "    <tr>\n",
       "      <th>837</th>\n",
       "      <td>2040.0</td>\n",
       "      <td>Rapid+</td>\n",
       "      <td>Electricity</td>\n",
       "      <td>18.681229</td>\n",
       "      <td>5.0</td>\n",
       "      <td>True</td>\n",
       "    </tr>\n",
       "    <tr>\n",
       "      <th>838</th>\n",
       "      <td>2045.0</td>\n",
       "      <td>Rapid+</td>\n",
       "      <td>Electricity</td>\n",
       "      <td>18.705082</td>\n",
       "      <td>5.0</td>\n",
       "      <td>True</td>\n",
       "    </tr>\n",
       "    <tr>\n",
       "      <th>839</th>\n",
       "      <td>2050.0</td>\n",
       "      <td>Rapid+</td>\n",
       "      <td>Electricity</td>\n",
       "      <td>17.970161</td>\n",
       "      <td>5.0</td>\n",
       "      <td>True</td>\n",
       "    </tr>\n",
       "  </tbody>\n",
       "</table>\n",
       "<p>3240 rows × 6 columns</p>\n",
       "</div>"
      ],
      "text/plain": [
       "       year scenario     variable      value  RunId  is_demand\n",
       "0    2020.0      BAU  Gas furnace   0.714000    NaN      False\n",
       "8    2022.0      BAU  Gas furnace   0.700000    NaN      False\n",
       "16   2024.0      BAU  Gas furnace   0.688000    NaN      False\n",
       "24   2026.0      BAU  Gas furnace   0.676000    NaN      False\n",
       "32   2028.0      BAU  Gas furnace   0.656000    NaN      False\n",
       "..      ...      ...          ...        ...    ...        ...\n",
       "835  2030.0   Rapid+  Electricity  19.173302    5.0       True\n",
       "836  2035.0   Rapid+  Electricity  18.467806    5.0       True\n",
       "837  2040.0   Rapid+  Electricity  18.681229    5.0       True\n",
       "838  2045.0   Rapid+  Electricity  18.705082    5.0       True\n",
       "839  2050.0   Rapid+  Electricity  17.970161    5.0       True\n",
       "\n",
       "[3240 rows x 6 columns]"
      ]
     },
     "execution_count": 16,
     "metadata": {},
     "output_type": "execute_result"
    }
   ],
   "source": [
    "keep_years = scenario_tech_shares_long[\"year\"] % 2 == 0\n",
    "scenario_tech_shares_long = scenario_tech_shares_long.loc[keep_years,:]\n",
    "new_abm_results = pd.concat([scenario_tech_shares_long, scenario_uncertain_fuel_demands.reset_index()])\n",
    "new_abm_results[\"is_demand\"] = new_abm_results[\"variable\"].apply(is_fuel)\n",
    "\n",
    "new_abm_results[\"variable\"] = new_abm_results[\"variable\"].str.replace(\"Wood or wood pellets\", \"Biomass\")\n",
    "\n",
    "new_abm_results"
   ]
  },
  {
   "cell_type": "code",
   "execution_count": 17,
   "id": "01J0BQ2KY8P5J2GPH1FJ6TKH0S",
   "metadata": {},
   "outputs": [],
   "source": [
    "import warnings\n",
    "warnings.filterwarnings('ignore')"
   ]
  },
  {
   "cell_type": "code",
   "execution_count": 18,
   "id": "01J0QSGX2386D5WBPP8K68BSPG",
   "metadata": {},
   "outputs": [],
   "source": [
    "ABM_colors[\"Electric furnace\"] = \"#ae71c2\""
   ]
  },
  {
   "cell_type": "code",
   "execution_count": 19,
   "id": "01J0BNJMXBBW4JBH6MFD7MRPX3",
   "metadata": {},
   "outputs": [
    {
     "name": "stdout",
     "output_type": "stream",
     "text": [
      "0 False BAU 480\n",
      "1 False CER 480\n",
      "2 False CER+ 480\n",
      "3 False Rapid 480\n",
      "4 False Rapid+ 480\n",
      "5 True BAU 168\n",
      "6 True CER 168\n",
      "7 True CER+ 168\n",
      "8 True Rapid 168\n",
      "9 True Rapid+ 168\n"
     ]
    },
    {
     "data": {
      "image/png": "[encoded data removed]",
      "text/plain": [
       "<Figure size 1200x800 with 15 Axes>"
      ]
     },
     "metadata": {},
     "output_type": "display_data"
    }
   ],
   "source": [
    "import matplotlib.pyplot as plt\n",
    "plt.rcParams[\"text.usetex\"] = True\n",
    "plt.rcParams[\"font.family\"] = \"cm\"\n",
    "plt.rcParams[\"font.size\"] = \"18\"\n",
    "plt.rcParams['svg.fonttype'] = 'none'\n",
    "\n",
    "fuel_name_map = dict(zip(Fuels, [x.value for x in Fuels]))\n",
    "fuel_name_map[\"Biomass\"] = \"Biomass\"\n",
    "\n",
    "abm_fig, axs = plt.subplots(ncols=5, nrows=2,  sharex='all', sharey='row', figsize=(12,8))\n",
    "for i,(dem_scen, df) in enumerate(new_abm_results.groupby([\"is_demand\",\"scenario\"])):\n",
    "    print(i,dem_scen[0],dem_scen[1],len(df))\n",
    "    ax = axs.flat[i]\n",
    "    if not dem_scen[0]:\n",
    "        ax.title.set_text(f\"{dem_scen[1]}\")\n",
    "        show_legend = i==4\n",
    "        sns.lineplot(data=df, x=\"year\", y=\"value\", hue=\"variable\", palette=ABM_colors, ax=ax, legend=show_legend)\n",
    "        if show_legend:\n",
    "            ax.legend(loc=(1.1, 0.1 ))\n",
    "            ax.get_legend().set_title(\"Technologies\")\n",
    "    else:\n",
    "        show_legend = i==9\n",
    "        # wide_df = df.pivot(columns=\"variable\", values=\"value\", index=\"year\")\n",
    "        # wide_columns = wide_df.columns\n",
    "        # column_vals = [wide_df[col].astype(float) for col in wide_columns]\n",
    "        sns.lineplot(data=df, x=\"year\", y=\"value\", hue=\"variable\", palette=ABM_colors, ax=ax, legend=show_legend)\n",
    "        if show_legend:\n",
    "            ax.legend(loc=(1.5, 0.3 ))\n",
    "            ax.get_legend().set_title(\"Fuel demands\")\n",
    "\n",
    "\n",
    "abm_fig.axes[0].set_ylabel(\"Technology Share (-)\")\n",
    "abm_fig.axes[5].set_ylabel(\"Fuel demand (TWh)\")\n",
    "abm_fig.axes[0].set_xticks(range(2020,2051,10))\n",
    "\n",
    "total_scenario_emissions = scenario_emissions.reset_index().groupby([\"index\",\"scenario\"]).sum().sum(axis=1).reset_index()\n",
    "total_scenario_emissions[\"cumulative\"] = total_scenario_emissions.groupby(\"scenario\").cumsum()[0]\n",
    "em_y_lim = total_scenario_emissions.cumulative.min()*0.8, total_scenario_emissions.cumulative.max()*1.2\n",
    "emission_color = \"black\"\n",
    "for i, (scen, df) in enumerate(total_scenario_emissions.groupby(\"scenario\")):\n",
    "    # print(scen, df)\n",
    "    last = i==4\n",
    "    t_ax = axs.flat[5+i].twinx()\n",
    "    t_ax.plot(df[\"index\"],df[\"cumulative\"], \":\", color=emission_color, label=\"Emissions\", linewidth=2)\n",
    "    t_ax.set_ylim(*em_y_lim)\n",
    "    t_ax.spines[\"right\"].set_color(emission_color)\n",
    "    t_ax.tick_params(colors=emission_color, which='both')\n",
    "    if not last:\n",
    "        t_ax.set_yticklabels([])\n",
    "    else:\n",
    "        t_ax.set_ylabel(\"Emissions (Mt$_{CO_{2,eq}}$)\")\n",
    "        t_ax.legend(loc=(1.5, 0.1))\n",
    "        # t_ax.get_legend().set_title(\"Emissions (Mt)\")\n",
    "abm_fig.savefig(f\"abm_results_{date_str}.svg\")\n",
    "\n",
    "\n",
    "for ax in abm_fig.axes:\n",
    "    ax.set_xticklabels(range(2020,2051,10), rotation=-90)\n"
   ]
  },
  {
   "cell_type": "code",
   "execution_count": 20,
   "metadata": {},
   "outputs": [],
   "source": [
    "# import matplotlib.pyplot as plt\n",
    "# plt.rcParams[\"text.usetex\"] = True\n",
    "# plt.rcParams[\"font.family\"] = \"cm\"\n",
    "# plt.rcParams[\"font.size\"] = \"18\"\n",
    "# plt.rcParams['svg.fonttype'] = 'none'\n",
    "\n",
    "# fuel_name_map = dict(zip(Fuels, [x.value for x in Fuels]))\n",
    "# fuel_name_map[\"Biomass\"] = \"Biomass\"\n",
    "\n",
    "# abm_fig, axs = plt.subplots(ncols=5, nrows=2,  sharex='all', sharey='row', figsize=(12,8))\n",
    "# for i,(dem_scen, df) in enumerate(abm_results.groupby([\"is_demand\",\"scenario\"])):\n",
    "#     print(i,dem_scen[0],dem_scen[1],len(df))\n",
    "#     ax = axs.flat[i]\n",
    "#     if not dem_scen[0]:\n",
    "#         ax.title.set_text(f\"{dem_scen[1]}\")\n",
    "#         show_legend = i==4\n",
    "#         sns.lineplot(data=df, x=\"year\", y=\"value\", hue=\"variable\", palette=ABM_colors, ax=ax, legend=show_legend)\n",
    "#         if show_legend:\n",
    "#             ax.get_legend().set_title(\"Technologies\")\n",
    "#     else:\n",
    "#         show_legend = i==9\n",
    "#         wide_df = df.pivot(columns=\"variable\", values=\"value\", index=\"year\")\n",
    "#         wide_columns = wide_df.columns\n",
    "#         column_vals = [wide_df[col].astype(float) for col in wide_columns]\n",
    "#         ax.stackplot(wide_df.index, *column_vals, colors=[ABM_colors[col] for col in wide_columns], labels=[fuel_name_map[col] for col in wide_columns])\n",
    "#         if show_legend:\n",
    "#             ax.legend(loc=\"lower right\")\n",
    "#             ax.get_legend().set_title(\"Fuel demands\")\n",
    "\n",
    "\n",
    "# abm_fig.axes[0].set_ylabel(\"Technology Share (-)\")\n",
    "# abm_fig.axes[5].set_ylabel(\"Fuel demand (TWh)\")\n",
    "# abm_fig.axes[0].set_xticks(range(2020,2051,10))\n",
    "# for ax in abm_fig.axes:\n",
    "#     ax.set_xticklabels(range(2020,2051,10), rotation=-90)\n"
   ]
  },
  {
   "cell_type": "markdown",
   "metadata": {},
   "source": [
    "## ABM: subsidies"
   ]
  },
  {
   "cell_type": "code",
   "execution_count": 21,
   "metadata": {},
   "outputs": [],
   "source": [
    "import plotly.express as px\n",
    "subsidies_plot_df = scenario_subsidies.groupby([\"year\",\"scenario\"])[[\"hp specific cost\", \"Cumulative subsidy amount (CAD)\"]].mean()\n",
    "# px.line(subsidies_plot_df.reset_index(), x=\"year\", y=[\"Cumulative subsidy amount (CAD)\",\"hp specific cost\"], color=\"scenario\", template=\"plotly\", width=600)"
   ]
  },
  {
   "cell_type": "code",
   "execution_count": 22,
   "metadata": {},
   "outputs": [],
   "source": [
    "scenario_spendings[\"tech\"] = scenario_spendings[\"tech\"].str.replace(\"Wood or wood pellets\", \"Biomass\")\n"
   ]
  },
  {
   "cell_type": "code",
   "execution_count": 23,
   "metadata": {},
   "outputs": [],
   "source": [
    "scenario_spendings.reset_index(inplace=True, drop=True)"
   ]
  },
  {
   "cell_type": "code",
   "execution_count": 24,
   "metadata": {},
   "outputs": [],
   "source": [
    "def subs_fac(name):\n",
    "    if \"CER\" in name:\n",
    "        return 0.15\n",
    "    elif \"Rapid\" in name:\n",
    "        return 0.3\n",
    "    else:\n",
    "        return 0\n",
    "\n",
    "\n",
    "subsidies = scenario_spendings.query(\"tech=='Heat pump' and scenario!='BAU'\")\n",
    "subsidies_amount = subsidies[\"Purchase cost\"] * subsidies[\"scenario\"].apply(subs_fac)\n",
    "scenario_spendings.loc[subsidies_amount.index,\"Purchase cost\"] -= subsidies_amount\n",
    "subsidies[\"Purchase cost\"] = subsidies_amount.values\n",
    "subsidies[\"tech\"] = \"Subsidies\"\n",
    "scenario_spendings = pd.concat([scenario_spendings, subsidies])"
   ]
  },
  {
   "cell_type": "markdown",
   "metadata": {},
   "source": [
    "## ABM: total costs"
   ]
  },
  {
   "cell_type": "code",
   "execution_count": 25,
   "metadata": {},
   "outputs": [
    {
     "data": {
      "application/vnd.plotly.v1+json": {
       "config": {
        "plotlyServerURL": "https://plot.ly"
       },
       "data": [
        {
         "alignmentgroup": "True",
         "hovertemplate": "tech=Electric furnace<br>scenario=%{x}<br>Purchase cost=%{y}<extra></extra>",
         "legendgroup": "Electric furnace",
         "marker": {
          "color": "#ae71c2",
          "pattern": {
           "shape": ""
          }
         },
         "name": "Electric furnace",
         "offsetgroup": "Electric furnace",
         "orientation": "v",
         "showlegend": true,
         "textposition": "auto",
         "type": "bar",
         "x": [
          "BAU",
          "CER",
          "CER+",
          "Rapid",
          "Rapid+"
         ],
         "xaxis": "x",
         "y": [
          2995818671.1526666,
          2732120622.7198877,
          3289684372.453333,
          252231263.89557025,
          278519385.96003723
         ],
         "yaxis": "y"
        },
        {
         "alignmentgroup": "True",
         "hovertemplate": "tech=Gas furnace<br>scenario=%{x}<br>Purchase cost=%{y}<extra></extra>",
         "legendgroup": "Gas furnace",
         "marker": {
          "color": "#757575",
          "pattern": {
           "shape": ""
          }
         },
         "name": "Gas furnace",
         "offsetgroup": "Gas furnace",
         "orientation": "v",
         "showlegend": true,
         "textposition": "auto",
         "type": "bar",
         "x": [
          "BAU",
          "CER",
          "CER+",
          "Rapid",
          "Rapid+"
         ],
         "xaxis": "x",
         "y": [
          3607861647.2136264,
          3444290445.803509,
          2228613130.895594,
          2301265594.3669753,
          1302230216.3250372
         ],
         "yaxis": "y"
        },
        {
         "alignmentgroup": "True",
         "hovertemplate": "tech=Heat pump<br>scenario=%{x}<br>Purchase cost=%{y}<extra></extra>",
         "legendgroup": "Heat pump",
         "marker": {
          "color": "#00ae00",
          "pattern": {
           "shape": ""
          }
         },
         "name": "Heat pump",
         "offsetgroup": "Heat pump",
         "orientation": "v",
         "showlegend": true,
         "textposition": "auto",
         "type": "bar",
         "x": [
          "BAU",
          "CER",
          "CER+",
          "Rapid",
          "Rapid+"
         ],
         "xaxis": "x",
         "y": [
          6218394929.61858,
          5048491792.060158,
          5067887300.035533,
          24030557858.260704,
          27071258301.11402
         ],
         "yaxis": "y"
        },
        {
         "alignmentgroup": "True",
         "hovertemplate": "tech=Biomass furnace<br>scenario=%{x}<br>Purchase cost=%{y}<extra></extra>",
         "legendgroup": "Biomass furnace",
         "marker": {
          "color": "#00b9ba",
          "pattern": {
           "shape": ""
          }
         },
         "name": "Biomass furnace",
         "offsetgroup": "Biomass furnace",
         "orientation": "v",
         "showlegend": true,
         "textposition": "auto",
         "type": "bar",
         "x": [
          "CER+",
          "Rapid+"
         ],
         "xaxis": "x",
         "y": [
          53120378.812044,
          65988949.26371936
         ],
         "yaxis": "y"
        },
        {
         "alignmentgroup": "True",
         "hovertemplate": "tech=Subsidies<br>scenario=%{x}<br>Purchase cost=%{y}<extra></extra>",
         "legendgroup": "Subsidies",
         "marker": {
          "color": "#4361ae",
          "pattern": {
           "shape": ""
          }
         },
         "name": "Subsidies",
         "offsetgroup": "Subsidies",
         "orientation": "v",
         "showlegend": true,
         "textposition": "auto",
         "type": "bar",
         "x": [
          "CER",
          "CER+",
          "Rapid",
          "Rapid+"
         ],
         "xaxis": "x",
         "y": [
          890910316.2459103,
          894333052.947447,
          10298810510.683159,
          11601967843.33458
         ],
         "yaxis": "y"
        }
       ],
       "layout": {
        "barmode": "relative",
        "font": {
         "family": "cm",
         "size": 18
        },
        "legend": {
         "bordercolor": "gray",
         "borderwidth": 2,
         "title": {},
         "tracegroupgap": 0,
         "traceorder": "reversed",
         "x": 0.02,
         "y": 0.98
        },
        "margin": {
         "t": 60
        },
        "plot_bgcolor": "white",
        "template": {
         "data": {
          "candlestick": [
           {
            "decreasing": {
             "line": {
              "color": "#000033"
             }
            },
            "increasing": {
             "line": {
              "color": "#000032"
             }
            },
            "type": "candlestick"
           }
          ],
          "contour": [
           {
            "colorscale": [
             [
              0,
              "#000011"
             ],
             [
              0.1111111111111111,
              "#000012"
             ],
             [
              0.2222222222222222,
              "#000013"
             ],
             [
              0.3333333333333333,
              "#000014"
             ],
             [
              0.4444444444444444,
              "#000015"
             ],
             [
              0.5555555555555556,
              "#000016"
             ],
             [
              0.6666666666666666,
              "#000017"
             ],
             [
              0.7777777777777778,
              "#000018"
             ],
             [
              0.8888888888888888,
              "#000019"
             ],
             [
              1,
              "#000020"
             ]
            ],
            "type": "contour"
           }
          ],
          "contourcarpet": [
           {
            "colorscale": [
             [
              0,
              "#000011"
             ],
             [
              0.1111111111111111,
              "#000012"
             ],
             [
              0.2222222222222222,
              "#000013"
             ],
             [
              0.3333333333333333,
              "#000014"
             ],
             [
              0.4444444444444444,
              "#000015"
             ],
             [
              0.5555555555555556,
              "#000016"
             ],
             [
              0.6666666666666666,
              "#000017"
             ],
             [
              0.7777777777777778,
              "#000018"
             ],
             [
              0.8888888888888888,
              "#000019"
             ],
             [
              1,
              "#000020"
             ]
            ],
            "type": "contourcarpet"
           }
          ],
          "heatmap": [
           {
            "colorscale": [
             [
              0,
              "#000011"
             ],
             [
              0.1111111111111111,
              "#000012"
             ],
             [
              0.2222222222222222,
              "#000013"
             ],
             [
              0.3333333333333333,
              "#000014"
             ],
             [
              0.4444444444444444,
              "#000015"
             ],
             [
              0.5555555555555556,
              "#000016"
             ],
             [
              0.6666666666666666,
              "#000017"
             ],
             [
              0.7777777777777778,
              "#000018"
             ],
             [
              0.8888888888888888,
              "#000019"
             ],
             [
              1,
              "#000020"
             ]
            ],
            "type": "heatmap"
           }
          ],
          "histogram2d": [
           {
            "colorscale": [
             [
              0,
              "#000011"
             ],
             [
              0.1111111111111111,
              "#000012"
             ],
             [
              0.2222222222222222,
              "#000013"
             ],
             [
              0.3333333333333333,
              "#000014"
             ],
             [
              0.4444444444444444,
              "#000015"
             ],
             [
              0.5555555555555556,
              "#000016"
             ],
             [
              0.6666666666666666,
              "#000017"
             ],
             [
              0.7777777777777778,
              "#000018"
             ],
             [
              0.8888888888888888,
              "#000019"
             ],
             [
              1,
              "#000020"
             ]
            ],
            "type": "histogram2d"
           }
          ],
          "icicle": [
           {
            "textfont": {
             "color": "white"
            },
            "type": "icicle"
           }
          ],
          "sankey": [
           {
            "textfont": {
             "color": "#000036"
            },
            "type": "sankey"
           }
          ],
          "scatter": [
           {
            "marker": {
             "line": {
              "width": 0
             }
            },
            "type": "scatter"
           }
          ],
          "table": [
           {
            "cells": {
             "fill": {
              "color": "#000038"
             },
             "font": {
              "color": "#000037"
             },
             "line": {
              "color": "#000039"
             }
            },
            "header": {
             "fill": {
              "color": "#000040"
             },
             "font": {
              "color": "#000036"
             },
             "line": {
              "color": "#000039"
             }
            },
            "type": "table"
           }
          ],
          "waterfall": [
           {
            "connector": {
             "line": {
              "color": "#000036",
              "width": 2
             }
            },
            "decreasing": {
             "marker": {
              "color": "#000033"
             }
            },
            "increasing": {
             "marker": {
              "color": "#000032"
             }
            },
            "totals": {
             "marker": {
              "color": "#000034"
             }
            },
            "type": "waterfall"
           }
          ]
         },
         "layout": {
          "coloraxis": {
           "colorscale": [
            [
             0,
             "#000011"
            ],
            [
             0.1111111111111111,
             "#000012"
            ],
            [
             0.2222222222222222,
             "#000013"
            ],
            [
             0.3333333333333333,
             "#000014"
            ],
            [
             0.4444444444444444,
             "#000015"
            ],
            [
             0.5555555555555556,
             "#000016"
            ],
            [
             0.6666666666666666,
             "#000017"
            ],
            [
             0.7777777777777778,
             "#000018"
            ],
            [
             0.8888888888888888,
             "#000019"
            ],
            [
             1,
             "#000020"
            ]
           ]
          },
          "colorscale": {
           "diverging": [
            [
             0,
             "#000021"
            ],
            [
             0.1,
             "#000022"
            ],
            [
             0.2,
             "#000023"
            ],
            [
             0.3,
             "#000024"
            ],
            [
             0.4,
             "#000025"
            ],
            [
             0.5,
             "#000026"
            ],
            [
             0.6,
             "#000027"
            ],
            [
             0.7,
             "#000028"
            ],
            [
             0.8,
             "#000029"
            ],
            [
             0.9,
             "#000030"
            ],
            [
             1,
             "#000031"
            ]
           ],
           "sequential": [
            [
             0,
             "#000011"
            ],
            [
             0.1111111111111111,
             "#000012"
            ],
            [
             0.2222222222222222,
             "#000013"
            ],
            [
             0.3333333333333333,
             "#000014"
            ],
            [
             0.4444444444444444,
             "#000015"
            ],
            [
             0.5555555555555556,
             "#000016"
            ],
            [
             0.6666666666666666,
             "#000017"
            ],
            [
             0.7777777777777778,
             "#000018"
            ],
            [
             0.8888888888888888,
             "#000019"
            ],
            [
             1,
             "#000020"
            ]
           ],
           "sequentialminus": [
            [
             0,
             "#000011"
            ],
            [
             0.1111111111111111,
             "#000012"
            ],
            [
             0.2222222222222222,
             "#000013"
            ],
            [
             0.3333333333333333,
             "#000014"
            ],
            [
             0.4444444444444444,
             "#000015"
            ],
            [
             0.5555555555555556,
             "#000016"
            ],
            [
             0.6666666666666666,
             "#000017"
            ],
            [
             0.7777777777777778,
             "#000018"
            ],
            [
             0.8888888888888888,
             "#000019"
            ],
            [
             1,
             "#000020"
            ]
           ]
          },
          "colorway": [
           "#000001",
           "#000002",
           "#000003",
           "#000004",
           "#000005",
           "#000006",
           "#000007",
           "#000008",
           "#000009",
           "#000010"
          ]
         }
        },
        "width": 500,
        "xaxis": {
         "anchor": "y",
         "domain": [
          0,
          1
         ],
         "gridcolor": "lightgrey",
         "linecolor": "black",
         "mirror": true,
         "showline": true,
         "ticks": "outside",
         "title": {
          "text": ""
         }
        },
        "yaxis": {
         "anchor": "x",
         "domain": [
          0,
          1
         ],
         "gridcolor": "lightgrey",
         "linecolor": "black",
         "mirror": true,
         "showline": true,
         "ticks": "outside",
         "title": {
          "text": "Total purchase cost (CAD)"
         }
        }
       }
      }
     },
     "metadata": {},
     "output_type": "display_data"
    }
   ],
   "source": [
    "ABM_colors.update({\"Subsidies\":\"#4361ae\"})\n",
    "fig = sciencify_plotly_fig(\n",
    "    px.bar(\n",
    "        scenario_spendings,\n",
    "        x=\"scenario\",\n",
    "        y=\"Purchase cost\",\n",
    "        color=\"tech\",\n",
    "        color_discrete_map=ABM_colors,\n",
    "    )\n",
    ")\n",
    "fig.update_layout(\n",
    "    yaxis_title=\"Total purchase cost (CAD)\",\n",
    "    xaxis_title=\"\",\n",
    "    legend=dict(\n",
    "        title_text=None,\n",
    "        # bgcolor=\"LightSteelBlue\",\n",
    "        bordercolor=\"gray\",\n",
    "        borderwidth=2,\n",
    "        x=0.02,\n",
    "        y=0.98,\n",
    "        traceorder=\"reversed\",\n",
    "    ),\n",
    "    width=500,\n",
    "    font_family=\"cm\",\n",
    "    font_size=18\n",
    ")\n",
    "fig.write_image(f\"abm_total_spendings_{date_str}.pdf\")\n",
    "fig.write_image(f\"abm_total_spendings_{date_str}.svg\")\n",
    "fig"
   ]
  },
  {
   "cell_type": "code",
   "execution_count": 26,
   "metadata": {},
   "outputs": [
    {
     "name": "stdout",
     "output_type": "stream",
     "text": [
      "\\begin{tabular}{lrrrr}\n",
      "\\toprule\n",
      " & Total emissions (Mt) & Total subsidies (MCAD) & Avoided emissions (Mt) & Gov. carbon avoidance cost (CAD/t) \\\\\n",
      "scenario &  &  &  &  \\\\\n",
      "\\midrule\n",
      "BAU & 473.14 & 0.00 & 0.00 & 0.00 \\\\\n",
      "CER & 445.31 & 784.25 & 27.83 & 28.18 \\\\\n",
      "CER+ & 412.97 & 765.26 & 60.17 & 12.72 \\\\\n",
      "Rapid & 379.30 & 8512.13 & 93.84 & 90.71 \\\\\n",
      "Rapid+ & 345.35 & 9580.07 & 127.79 & 74.97 \\\\\n",
      "\\bottomrule\n",
      "\\end{tabular}\n",
      "\n"
     ]
    }
   ],
   "source": [
    "total_emissions = total_scenario_emissions.groupby(\"scenario\")[0].sum()\n",
    "avoided_emissions = total_emissions[\"BAU\"] - total_emissions\n",
    "total_subsidies = subsidies_plot_df.loc[2050,\"Cumulative subsidy amount (CAD)\"]*1e-6\n",
    "carbon_avoidance_cost = total_subsidies/avoided_emissions\n",
    "\n",
    "summary_df = pd.concat(\n",
    "    [total_emissions, total_subsidies, avoided_emissions, carbon_avoidance_cost],\n",
    "    axis=1,\n",
    ").fillna(0).round(2)\n",
    "summary_df.columns = [\"Total emissions (Mt)\",\"Total subsidies (MCAD)\",\"Avoided emissions (Mt)\",\"Gov. carbon avoidance cost (CAD/t)\",]\n",
    "print(summary_df.to_latex().replace(\"0000\",\"\"))"
   ]
  },
  {
   "cell_type": "code",
   "execution_count": 163,
   "id": "01J2EBGE4BYMZ5YGT0ZWBS2ZKK",
   "metadata": {},
   "outputs": [
    {
     "data": {
      "text/html": [
       "<div>\n",
       "<style scoped>\n",
       "    .dataframe tbody tr th:only-of-type {\n",
       "        vertical-align: middle;\n",
       "    }\n",
       "\n",
       "    .dataframe tbody tr th {\n",
       "        vertical-align: top;\n",
       "    }\n",
       "\n",
       "    .dataframe thead th {\n",
       "        text-align: right;\n",
       "    }\n",
       "</style>\n",
       "<table border=\"1\" class=\"dataframe\">\n",
       "  <thead>\n",
       "    <tr style=\"text-align: right;\">\n",
       "      <th></th>\n",
       "      <th></th>\n",
       "      <th>variable</th>\n",
       "      <th>value</th>\n",
       "      <th>scenario</th>\n",
       "    </tr>\n",
       "    <tr>\n",
       "      <th>RunId</th>\n",
       "      <th>year</th>\n",
       "      <th></th>\n",
       "      <th></th>\n",
       "      <th></th>\n",
       "    </tr>\n",
       "  </thead>\n",
       "  <tbody>\n",
       "    <tr>\n",
       "      <th rowspan=\"5\" valign=\"top\">0</th>\n",
       "      <th>2020.0</th>\n",
       "      <td>Natural gas</td>\n",
       "      <td>91.834549</td>\n",
       "      <td>BAU</td>\n",
       "    </tr>\n",
       "    <tr>\n",
       "      <th>2025.0</th>\n",
       "      <td>Natural gas</td>\n",
       "      <td>83.899620</td>\n",
       "      <td>BAU</td>\n",
       "    </tr>\n",
       "    <tr>\n",
       "      <th>2030.0</th>\n",
       "      <td>Natural gas</td>\n",
       "      <td>79.480873</td>\n",
       "      <td>BAU</td>\n",
       "    </tr>\n",
       "    <tr>\n",
       "      <th>2035.0</th>\n",
       "      <td>Natural gas</td>\n",
       "      <td>67.538292</td>\n",
       "      <td>BAU</td>\n",
       "    </tr>\n",
       "    <tr>\n",
       "      <th>2040.0</th>\n",
       "      <td>Natural gas</td>\n",
       "      <td>52.175331</td>\n",
       "      <td>BAU</td>\n",
       "    </tr>\n",
       "    <tr>\n",
       "      <th>...</th>\n",
       "      <th>...</th>\n",
       "      <td>...</td>\n",
       "      <td>...</td>\n",
       "      <td>...</td>\n",
       "    </tr>\n",
       "    <tr>\n",
       "      <th rowspan=\"5\" valign=\"top\">5</th>\n",
       "      <th>2030.0</th>\n",
       "      <td>Electricity</td>\n",
       "      <td>19.173302</td>\n",
       "      <td>Rapid+</td>\n",
       "    </tr>\n",
       "    <tr>\n",
       "      <th>2035.0</th>\n",
       "      <td>Electricity</td>\n",
       "      <td>18.467806</td>\n",
       "      <td>Rapid+</td>\n",
       "    </tr>\n",
       "    <tr>\n",
       "      <th>2040.0</th>\n",
       "      <td>Electricity</td>\n",
       "      <td>18.681229</td>\n",
       "      <td>Rapid+</td>\n",
       "    </tr>\n",
       "    <tr>\n",
       "      <th>2045.0</th>\n",
       "      <td>Electricity</td>\n",
       "      <td>18.705082</td>\n",
       "      <td>Rapid+</td>\n",
       "    </tr>\n",
       "    <tr>\n",
       "      <th>2050.0</th>\n",
       "      <td>Electricity</td>\n",
       "      <td>17.970161</td>\n",
       "      <td>Rapid+</td>\n",
       "    </tr>\n",
       "  </tbody>\n",
       "</table>\n",
       "<p>840 rows × 3 columns</p>\n",
       "</div>"
      ],
      "text/plain": [
       "                 variable      value scenario\n",
       "RunId year                                   \n",
       "0     2020.0  Natural gas  91.834549      BAU\n",
       "      2025.0  Natural gas  83.899620      BAU\n",
       "      2030.0  Natural gas  79.480873      BAU\n",
       "      2035.0  Natural gas  67.538292      BAU\n",
       "      2040.0  Natural gas  52.175331      BAU\n",
       "...                   ...        ...      ...\n",
       "5     2030.0  Electricity  19.173302   Rapid+\n",
       "      2035.0  Electricity  18.467806   Rapid+\n",
       "      2040.0  Electricity  18.681229   Rapid+\n",
       "      2045.0  Electricity  18.705082   Rapid+\n",
       "      2050.0  Electricity  17.970161   Rapid+\n",
       "\n",
       "[840 rows x 3 columns]"
      ]
     },
     "execution_count": 163,
     "metadata": {},
     "output_type": "execute_result"
    }
   ],
   "source": [
    "scenario_uncertain_fuel_demands"
   ]
  },
  {
   "cell_type": "code",
   "execution_count": 28,
   "id": "01J0QXBYPR4GZ1MGDZMCYGYE2J",
   "metadata": {},
   "outputs": [],
   "source": [
    "el_demands = scenario_uncertain_fuel_demands.query(\"variable=='Electricity'\").drop(\"variable\").reset_index().pivot(index=[\"RunId\",\"year\"],columns=\"scenario\", values=\"value\")"
   ]
  },
  {
   "cell_type": "code",
   "execution_count": 196,
   "metadata": {},
   "outputs": [
    {
     "data": {
      "text/html": [
       "<div>\n",
       "<style scoped>\n",
       "    .dataframe tbody tr th:only-of-type {\n",
       "        vertical-align: middle;\n",
       "    }\n",
       "\n",
       "    .dataframe tbody tr th {\n",
       "        vertical-align: top;\n",
       "    }\n",
       "\n",
       "    .dataframe thead th {\n",
       "        text-align: right;\n",
       "    }\n",
       "</style>\n",
       "<table border=\"1\" class=\"dataframe\">\n",
       "  <thead>\n",
       "    <tr style=\"text-align: right;\">\n",
       "      <th>scenario</th>\n",
       "      <th>BAU</th>\n",
       "      <th>CER</th>\n",
       "      <th>CER+</th>\n",
       "      <th>Rapid</th>\n",
       "      <th>Rapid+</th>\n",
       "    </tr>\n",
       "  </thead>\n",
       "  <tbody>\n",
       "    <tr>\n",
       "      <th>2046</th>\n",
       "      <td>0.040665</td>\n",
       "      <td>0.048507</td>\n",
       "      <td>0.048397</td>\n",
       "      <td>0.030991</td>\n",
       "      <td>0.030890</td>\n",
       "    </tr>\n",
       "    <tr>\n",
       "      <th>2047</th>\n",
       "      <td>0.040601</td>\n",
       "      <td>0.048755</td>\n",
       "      <td>0.048530</td>\n",
       "      <td>0.030988</td>\n",
       "      <td>0.030912</td>\n",
       "    </tr>\n",
       "    <tr>\n",
       "      <th>2048</th>\n",
       "      <td>0.040538</td>\n",
       "      <td>0.049002</td>\n",
       "      <td>0.048664</td>\n",
       "      <td>0.030986</td>\n",
       "      <td>0.030933</td>\n",
       "    </tr>\n",
       "    <tr>\n",
       "      <th>2049</th>\n",
       "      <td>0.040474</td>\n",
       "      <td>0.049250</td>\n",
       "      <td>0.048798</td>\n",
       "      <td>0.030984</td>\n",
       "      <td>0.030955</td>\n",
       "    </tr>\n",
       "    <tr>\n",
       "      <th>2050</th>\n",
       "      <td>0.040411</td>\n",
       "      <td>0.049497</td>\n",
       "      <td>0.048931</td>\n",
       "      <td>0.030981</td>\n",
       "      <td>0.030976</td>\n",
       "    </tr>\n",
       "  </tbody>\n",
       "</table>\n",
       "</div>"
      ],
      "text/plain": [
       "scenario       BAU       CER      CER+     Rapid    Rapid+\n",
       "2046      0.040665  0.048507  0.048397  0.030991  0.030890\n",
       "2047      0.040601  0.048755  0.048530  0.030988  0.030912\n",
       "2048      0.040538  0.049002  0.048664  0.030986  0.030933\n",
       "2049      0.040474  0.049250  0.048798  0.030984  0.030955\n",
       "2050      0.040411  0.049497  0.048931  0.030981  0.030976"
      ]
     },
     "execution_count": 196,
     "metadata": {},
     "output_type": "execute_result"
    }
   ],
   "source": [
    "from abetam.scenarios import interpolate_missing_years\n",
    "\n",
    "scen_elec_demands = scenario_fuel_demands.groupby([\"year\",\"scenario\"])[\"Electricity\"].sum().reset_index().pivot(index=\"year\",columns=\"scenario\",values=\"Electricity\").reset_index()\n",
    "scen_elec_demands[\"year\"] = scen_elec_demands[\"year\"].astype(int)\n",
    "scen_elec_demands = scen_elec_demands.set_index(\"year\")\n",
    "scen_elec_demands = scen_elec_demands.astype(float).apply(interpolate_missing_years)\n",
    "\n",
    "el_prices = pd.read_csv(\"scenario_price_change_over_8_iterations.csv\").query(\"iteration==1\")\n",
    "scen_ga = el_prices.pivot(index=\"year\", columns=\"scenario\",values=\"GA\")\n",
    "scen_ga.loc[2020,:] = scen_ga.loc[2025,:]\n",
    "scen_ga = scen_ga.apply(interpolate_missing_years)*1e-2 # ct/kWh -> $/kWh\n",
    "\n",
    "scen_hoeps = el_prices.pivot(index=\"year\", columns=\"scenario\",values=\"HOEP\")\n",
    "scen_hoeps.loc[2020,:] = scen_hoeps.loc[2025,:]\n",
    "scen_hoeps = scen_hoeps.apply(interpolate_missing_years)*1e-2 # ct/kWh -> $/kWh\n",
    "scen_hoeps.tail()"
   ]
  },
  {
   "cell_type": "code",
   "execution_count": 31,
   "id": "01J0RAR7MTEEM312CYPRCAFG0Y",
   "metadata": {},
   "outputs": [
    {
     "data": {
      "text/plain": [
       "scenario\n",
       "BAU       4.953554e+10\n",
       "CER       5.052986e+10\n",
       "CER+      5.787905e+10\n",
       "Rapid     2.032613e+10\n",
       "Rapid+    2.245340e+10\n",
       "dtype: float64"
      ]
     },
     "execution_count": 31,
     "metadata": {},
     "output_type": "execute_result"
    }
   ],
   "source": [
    "(scen_elec_demands*scen_hoeps).sum()"
   ]
  },
  {
   "cell_type": "code",
   "execution_count": 201,
   "id": "01J0QY9PVF154FZXKVPRS5NR9S",
   "metadata": {},
   "outputs": [],
   "source": [
    "scen_ga.index.name =\"year\"\n",
    "dt = el_demands.reset_index()[\"year\"].diff().median()\n",
    "# TWh->kWh  \n",
    "ga_costs = (el_demands*1e9*scen_ga).groupby(\"RunId\").sum()*dt # only every 5th year was counted\n",
    "ga_costs_mean = ga_costs.mean()\n",
    "ga_costs_std = ga_costs.std()\n",
    "ga_costs_l = ga_costs.melt(ignore_index=False, value_name=\"Electricity (GA)\")\n",
    "\n",
    "scen_hoeps.index.name =\"year\"\n",
    "dt = el_demands.reset_index()[\"year\"].diff().median()\n",
    "# TWh->kWh  \n",
    "el_costs = (el_demands*1e9*scen_hoeps).groupby(\"RunId\").sum()*dt # only every 5th year was counted\n",
    "el_costs_mean = el_costs.mean()\n",
    "el_costs_std = el_costs.std()"
   ]
  },
  {
   "cell_type": "code",
   "execution_count": 202,
   "id": "01J0R2622D3BGQBCYD6HSY3A1M",
   "metadata": {},
   "outputs": [
    {
     "data": {
      "text/html": [
       "<div>\n",
       "<style scoped>\n",
       "    .dataframe tbody tr th:only-of-type {\n",
       "        vertical-align: middle;\n",
       "    }\n",
       "\n",
       "    .dataframe tbody tr th {\n",
       "        vertical-align: top;\n",
       "    }\n",
       "\n",
       "    .dataframe thead th {\n",
       "        text-align: right;\n",
       "    }\n",
       "</style>\n",
       "<table border=\"1\" class=\"dataframe\">\n",
       "  <thead>\n",
       "    <tr style=\"text-align: right;\">\n",
       "      <th></th>\n",
       "      <th>scenario</th>\n",
       "      <th>Electricity (HOEP)</th>\n",
       "    </tr>\n",
       "    <tr>\n",
       "      <th>RunId</th>\n",
       "      <th></th>\n",
       "      <th></th>\n",
       "    </tr>\n",
       "  </thead>\n",
       "  <tbody>\n",
       "    <tr>\n",
       "      <th>0</th>\n",
       "      <td>BAU</td>\n",
       "      <td>6.222171e+10</td>\n",
       "    </tr>\n",
       "    <tr>\n",
       "      <th>1</th>\n",
       "      <td>BAU</td>\n",
       "      <td>5.907919e+10</td>\n",
       "    </tr>\n",
       "    <tr>\n",
       "      <th>2</th>\n",
       "      <td>BAU</td>\n",
       "      <td>5.904176e+10</td>\n",
       "    </tr>\n",
       "    <tr>\n",
       "      <th>3</th>\n",
       "      <td>BAU</td>\n",
       "      <td>5.812797e+10</td>\n",
       "    </tr>\n",
       "    <tr>\n",
       "      <th>4</th>\n",
       "      <td>BAU</td>\n",
       "      <td>5.516697e+10</td>\n",
       "    </tr>\n",
       "  </tbody>\n",
       "</table>\n",
       "</div>"
      ],
      "text/plain": [
       "      scenario  Electricity (HOEP)\n",
       "RunId                             \n",
       "0          BAU        6.222171e+10\n",
       "1          BAU        5.907919e+10\n",
       "2          BAU        5.904176e+10\n",
       "3          BAU        5.812797e+10\n",
       "4          BAU        5.516697e+10"
      ]
     },
     "execution_count": 202,
     "metadata": {},
     "output_type": "execute_result"
    }
   ],
   "source": [
    "el_costs_l = el_costs.melt(ignore_index=False, value_name=\"Electricity (HOEP)\")\n",
    "el_costs_l.head()"
   ]
  },
  {
   "cell_type": "code",
   "execution_count": 203,
   "id": "01J2EK6BRZWFVYWW84SPGJV9Z5",
   "metadata": {},
   "outputs": [
    {
     "data": {
      "text/html": [
       "<div>\n",
       "<style scoped>\n",
       "    .dataframe tbody tr th:only-of-type {\n",
       "        vertical-align: middle;\n",
       "    }\n",
       "\n",
       "    .dataframe tbody tr th {\n",
       "        vertical-align: top;\n",
       "    }\n",
       "\n",
       "    .dataframe thead th {\n",
       "        text-align: right;\n",
       "    }\n",
       "</style>\n",
       "<table border=\"1\" class=\"dataframe\">\n",
       "  <thead>\n",
       "    <tr style=\"text-align: right;\">\n",
       "      <th></th>\n",
       "      <th></th>\n",
       "      <th>Price (ct/kWh)</th>\n",
       "    </tr>\n",
       "    <tr>\n",
       "      <th>year</th>\n",
       "      <th>variable</th>\n",
       "      <th></th>\n",
       "    </tr>\n",
       "  </thead>\n",
       "  <tbody>\n",
       "    <tr>\n",
       "      <th>2005</th>\n",
       "      <th>Natural gas</th>\n",
       "      <td>6.657</td>\n",
       "    </tr>\n",
       "    <tr>\n",
       "      <th>2006</th>\n",
       "      <th>Natural gas</th>\n",
       "      <td>7.186</td>\n",
       "    </tr>\n",
       "    <tr>\n",
       "      <th>2007</th>\n",
       "      <th>Natural gas</th>\n",
       "      <td>6.609</td>\n",
       "    </tr>\n",
       "    <tr>\n",
       "      <th>2008</th>\n",
       "      <th>Natural gas</th>\n",
       "      <td>6.840</td>\n",
       "    </tr>\n",
       "    <tr>\n",
       "      <th>2009</th>\n",
       "      <th>Natural gas</th>\n",
       "      <td>5.647</td>\n",
       "    </tr>\n",
       "  </tbody>\n",
       "</table>\n",
       "</div>"
      ],
      "text/plain": [
       "                  Price (ct/kWh)\n",
       "year variable                   \n",
       "2005 Natural gas           6.657\n",
       "2006 Natural gas           7.186\n",
       "2007 Natural gas           6.609\n",
       "2008 Natural gas           6.840\n",
       "2009 Natural gas           5.647"
      ]
     },
     "execution_count": 203,
     "metadata": {},
     "output_type": "execute_result"
    }
   ],
   "source": [
    "fuel_prices = pd.read_csv(\n",
    "    \"abetam/data/canada/residential_GNZ_end-use-prices-2023_ct_per_kWh.csv\"\n",
    ")\n",
    "fuel_prices_ex_el_ON = (\n",
    "    fuel_prices.query(\"GEO=='Ontario' and `Type of fuel`!='Electricity'\")\n",
    "    .drop(\"GEO\", axis=1)\n",
    "    .rename({\"Type of fuel\": \"variable\", \"Year\":\"year\"}, axis=1)\n",
    "    .set_index([\"year\", \"variable\"])\n",
    ")\n",
    "fuel_prices_ex_el_ON.head()\n"
   ]
  },
  {
   "cell_type": "code",
   "execution_count": 218,
   "id": "01J2EM2GMJH4N2AXJPSW2046R8",
   "metadata": {},
   "outputs": [
    {
     "data": {
      "text/html": [
       "<div>\n",
       "<style scoped>\n",
       "    .dataframe tbody tr th:only-of-type {\n",
       "        vertical-align: middle;\n",
       "    }\n",
       "\n",
       "    .dataframe tbody tr th {\n",
       "        vertical-align: top;\n",
       "    }\n",
       "\n",
       "    .dataframe thead th {\n",
       "        text-align: right;\n",
       "    }\n",
       "</style>\n",
       "<table border=\"1\" class=\"dataframe\">\n",
       "  <thead>\n",
       "    <tr style=\"text-align: right;\">\n",
       "      <th></th>\n",
       "      <th>variable</th>\n",
       "      <th>Heating oil</th>\n",
       "      <th>Natural gas</th>\n",
       "    </tr>\n",
       "    <tr>\n",
       "      <th>RunId</th>\n",
       "      <th>scenario</th>\n",
       "      <th></th>\n",
       "      <th></th>\n",
       "    </tr>\n",
       "  </thead>\n",
       "  <tbody>\n",
       "    <tr>\n",
       "      <th rowspan=\"5\" valign=\"top\">0</th>\n",
       "      <th>BAU</th>\n",
       "      <td>1.314812e+10</td>\n",
       "      <td>2.117960e+11</td>\n",
       "    </tr>\n",
       "    <tr>\n",
       "      <th>CER</th>\n",
       "      <td>1.170894e+10</td>\n",
       "      <td>2.028235e+11</td>\n",
       "    </tr>\n",
       "    <tr>\n",
       "      <th>CER+</th>\n",
       "      <td>1.177751e+10</td>\n",
       "      <td>1.853165e+11</td>\n",
       "    </tr>\n",
       "    <tr>\n",
       "      <th>Rapid</th>\n",
       "      <td>1.071171e+10</td>\n",
       "      <td>1.640699e+11</td>\n",
       "    </tr>\n",
       "    <tr>\n",
       "      <th>Rapid+</th>\n",
       "      <td>1.128480e+10</td>\n",
       "      <td>1.462499e+11</td>\n",
       "    </tr>\n",
       "  </tbody>\n",
       "</table>\n",
       "</div>"
      ],
      "text/plain": [
       "variable         Heating oil   Natural gas\n",
       "RunId scenario                            \n",
       "0     BAU       1.314812e+10  2.117960e+11\n",
       "      CER       1.170894e+10  2.028235e+11\n",
       "      CER+      1.177751e+10  1.853165e+11\n",
       "      Rapid     1.071171e+10  1.640699e+11\n",
       "      Rapid+    1.128480e+10  1.462499e+11"
      ]
     },
     "execution_count": 218,
     "metadata": {},
     "output_type": "execute_result"
    }
   ],
   "source": [
    "scenario_uncertain_fuel_demands_ex_el = scenario_uncertain_fuel_demands.query(\"variable!='Electricity'\").set_index([\"variable\",\"scenario\"], append=True).rename({\"Wood or wood pellets\":\"Biomass\"})\n",
    "abm_fuel_cost = (fuel_prices_ex_el_ON[\"Price (ct/kWh)\"] /100 * scenario_uncertain_fuel_demands_ex_el[\"value\"]*1e9).to_frame(name=\"value\").dropna()\n",
    "dt = np.diff(abm_fuel_cost.reset_index()[\"year\"].unique())[0]\n",
    "abm_fuel_cost *= dt\n",
    "agg_abm_fuel_cost = abm_fuel_cost.groupby([\"RunId\",\"scenario\",\"variable\"]).sum().reset_index().pivot(index=[\"RunId\",\"scenario\"], columns=\"variable\",values=\"value\")\n",
    "agg_abm_fuel_cost.head()"
   ]
  },
  {
   "cell_type": "code",
   "execution_count": 205,
   "id": "01J0R7CSD49RGF5WZF5DVE91J9",
   "metadata": {},
   "outputs": [
    {
     "data": {
      "text/html": [
       "<div>\n",
       "<style scoped>\n",
       "    .dataframe tbody tr th:only-of-type {\n",
       "        vertical-align: middle;\n",
       "    }\n",
       "\n",
       "    .dataframe tbody tr th {\n",
       "        vertical-align: top;\n",
       "    }\n",
       "\n",
       "    .dataframe thead th {\n",
       "        text-align: right;\n",
       "    }\n",
       "</style>\n",
       "<table border=\"1\" class=\"dataframe\">\n",
       "  <thead>\n",
       "    <tr style=\"text-align: right;\">\n",
       "      <th></th>\n",
       "      <th></th>\n",
       "      <th>Subsidies</th>\n",
       "    </tr>\n",
       "    <tr>\n",
       "      <th>RunId</th>\n",
       "      <th>scenario</th>\n",
       "      <th></th>\n",
       "    </tr>\n",
       "  </thead>\n",
       "  <tbody>\n",
       "    <tr>\n",
       "      <th rowspan=\"5\" valign=\"top\">0</th>\n",
       "      <th>BAU</th>\n",
       "      <td>0.000000e+00</td>\n",
       "    </tr>\n",
       "    <tr>\n",
       "      <th>CER</th>\n",
       "      <td>7.044005e+08</td>\n",
       "    </tr>\n",
       "    <tr>\n",
       "      <th>CER+</th>\n",
       "      <td>7.099372e+08</td>\n",
       "    </tr>\n",
       "    <tr>\n",
       "      <th>Rapid</th>\n",
       "      <td>9.322251e+09</td>\n",
       "    </tr>\n",
       "    <tr>\n",
       "      <th>Rapid+</th>\n",
       "      <td>1.021637e+10</td>\n",
       "    </tr>\n",
       "  </tbody>\n",
       "</table>\n",
       "</div>"
      ],
      "text/plain": [
       "                   Subsidies\n",
       "RunId scenario              \n",
       "0     BAU       0.000000e+00\n",
       "      CER       7.044005e+08\n",
       "      CER+      7.099372e+08\n",
       "      Rapid     9.322251e+09\n",
       "      Rapid+    1.021637e+10"
      ]
     },
     "execution_count": 205,
     "metadata": {},
     "output_type": "execute_result"
    }
   ],
   "source": [
    "total_subsidies = scenario_subsidies.groupby([\"RunId\",\"scenario\",])[\"subsidy amount\"].sum().to_frame(name=\"Subsidies\")\n",
    "total_subsidies.head()"
   ]
  },
  {
   "cell_type": "code",
   "execution_count": 206,
   "id": "01J0RAA1QRBZG919Y2MJ7KRRPT",
   "metadata": {},
   "outputs": [],
   "source": [
    "abm_agg_costs = abm_agg_costs.rename({\"agg. annual costs\":\"Appliances\"}, axis=1)"
   ]
  },
  {
   "cell_type": "code",
   "execution_count": 209,
   "id": "01J0R7821V5AM0SG2MR5N2TZDJ",
   "metadata": {},
   "outputs": [
    {
     "data": {
      "text/html": [
       "<div>\n",
       "<style scoped>\n",
       "    .dataframe tbody tr th:only-of-type {\n",
       "        vertical-align: middle;\n",
       "    }\n",
       "\n",
       "    .dataframe tbody tr th {\n",
       "        vertical-align: top;\n",
       "    }\n",
       "\n",
       "    .dataframe thead th {\n",
       "        text-align: right;\n",
       "    }\n",
       "</style>\n",
       "<table border=\"1\" class=\"dataframe\">\n",
       "  <thead>\n",
       "    <tr style=\"text-align: right;\">\n",
       "      <th></th>\n",
       "      <th></th>\n",
       "      <th>Appliances</th>\n",
       "      <th>Retrofits</th>\n",
       "      <th>Subsidies</th>\n",
       "      <th>Electricity (HOEP)</th>\n",
       "      <th>Electricity (GA)</th>\n",
       "      <th>Heating oil</th>\n",
       "      <th>Natural gas</th>\n",
       "    </tr>\n",
       "    <tr>\n",
       "      <th></th>\n",
       "      <th>scenario</th>\n",
       "      <th></th>\n",
       "      <th></th>\n",
       "      <th></th>\n",
       "      <th></th>\n",
       "      <th></th>\n",
       "      <th></th>\n",
       "      <th></th>\n",
       "    </tr>\n",
       "  </thead>\n",
       "  <tbody>\n",
       "    <tr>\n",
       "      <th>0</th>\n",
       "      <th>BAU</th>\n",
       "      <td>1.490104e+10</td>\n",
       "      <td>2.839719e+10</td>\n",
       "      <td>0.0</td>\n",
       "      <td>6.222171e+10</td>\n",
       "      <td>2.844303e+10</td>\n",
       "      <td>1.314812e+10</td>\n",
       "      <td>2.117960e+11</td>\n",
       "    </tr>\n",
       "    <tr>\n",
       "      <th>1</th>\n",
       "      <th>BAU</th>\n",
       "      <td>4.876948e+09</td>\n",
       "      <td>2.970982e+10</td>\n",
       "      <td>0.0</td>\n",
       "      <td>5.907919e+10</td>\n",
       "      <td>2.673417e+10</td>\n",
       "      <td>1.226883e+10</td>\n",
       "      <td>2.216230e+11</td>\n",
       "    </tr>\n",
       "    <tr>\n",
       "      <th>2</th>\n",
       "      <th>BAU</th>\n",
       "      <td>-4.092480e+09</td>\n",
       "      <td>2.684469e+10</td>\n",
       "      <td>0.0</td>\n",
       "      <td>5.904176e+10</td>\n",
       "      <td>2.681454e+10</td>\n",
       "      <td>1.069309e+10</td>\n",
       "      <td>2.284911e+11</td>\n",
       "    </tr>\n",
       "    <tr>\n",
       "      <th>3</th>\n",
       "      <th>BAU</th>\n",
       "      <td>-7.164771e+09</td>\n",
       "      <td>2.616550e+10</td>\n",
       "      <td>0.0</td>\n",
       "      <td>5.812797e+10</td>\n",
       "      <td>2.679930e+10</td>\n",
       "      <td>1.692376e+10</td>\n",
       "      <td>2.224841e+11</td>\n",
       "    </tr>\n",
       "    <tr>\n",
       "      <th>4</th>\n",
       "      <th>BAU</th>\n",
       "      <td>-9.807534e+09</td>\n",
       "      <td>3.017973e+10</td>\n",
       "      <td>0.0</td>\n",
       "      <td>5.516697e+10</td>\n",
       "      <td>2.513887e+10</td>\n",
       "      <td>1.442964e+10</td>\n",
       "      <td>2.409958e+11</td>\n",
       "    </tr>\n",
       "  </tbody>\n",
       "</table>\n",
       "</div>"
      ],
      "text/plain": [
       "              Appliances     Retrofits  Subsidies  Electricity (HOEP)  \\\n",
       "  scenario                                                              \n",
       "0 BAU       1.490104e+10  2.839719e+10        0.0        6.222171e+10   \n",
       "1 BAU       4.876948e+09  2.970982e+10        0.0        5.907919e+10   \n",
       "2 BAU      -4.092480e+09  2.684469e+10        0.0        5.904176e+10   \n",
       "3 BAU      -7.164771e+09  2.616550e+10        0.0        5.812797e+10   \n",
       "4 BAU      -9.807534e+09  3.017973e+10        0.0        5.516697e+10   \n",
       "\n",
       "            Electricity (GA)   Heating oil   Natural gas  \n",
       "  scenario                                                \n",
       "0 BAU           2.844303e+10  1.314812e+10  2.117960e+11  \n",
       "1 BAU           2.673417e+10  1.226883e+10  2.216230e+11  \n",
       "2 BAU           2.681454e+10  1.069309e+10  2.284911e+11  \n",
       "3 BAU           2.679930e+10  1.692376e+10  2.224841e+11  \n",
       "4 BAU           2.513887e+10  1.442964e+10  2.409958e+11  "
      ]
     },
     "execution_count": 209,
     "metadata": {},
     "output_type": "execute_result"
    }
   ],
   "source": [
    "abm_cost_summary = pd.concat(\n",
    "    [\n",
    "        abm_agg_costs.set_index(\"scenario\", append=True),\n",
    "        scenario_retrofit_costs.set_index(\"scenario\", append=True).rename({\"Retrofit costs (CAD)\":\"Retrofits\"},axis=1),\n",
    "        total_subsidies,\n",
    "        el_costs_l.set_index(\"scenario\", append=True),\n",
    "        ga_costs_l.set_index(\"scenario\", append=True),\n",
    "        agg_abm_fuel_cost\n",
    "    ],\n",
    "    axis=1,\n",
    ").fillna(0)\n",
    "abm_cost_summary[\"Appliances\"] -= abm_cost_summary[\"Electricity (HOEP)\"]\n",
    "abm_cost_summary[\"Appliances\"] -= abm_cost_summary[\"Electricity (GA)\"]\n",
    "abm_cost_summary[\"Appliances\"] -= abm_cost_summary[\"Natural gas\"]\n",
    "abm_cost_summary[\"Appliances\"] -= abm_cost_summary[\"Heating oil\"]\n",
    "abm_cost_summary.head()"
   ]
  },
  {
   "cell_type": "code",
   "execution_count": 210,
   "id": "01J2EM75KEYKK32S885PQ250GH",
   "metadata": {},
   "outputs": [
    {
     "data": {
      "text/html": [
       "<div>\n",
       "<style scoped>\n",
       "    .dataframe tbody tr th:only-of-type {\n",
       "        vertical-align: middle;\n",
       "    }\n",
       "\n",
       "    .dataframe tbody tr th {\n",
       "        vertical-align: top;\n",
       "    }\n",
       "\n",
       "    .dataframe thead th {\n",
       "        text-align: right;\n",
       "    }\n",
       "</style>\n",
       "<table border=\"1\" class=\"dataframe\">\n",
       "  <thead>\n",
       "    <tr style=\"text-align: right;\">\n",
       "      <th></th>\n",
       "      <th></th>\n",
       "      <th>variable</th>\n",
       "      <th>value</th>\n",
       "    </tr>\n",
       "    <tr>\n",
       "      <th></th>\n",
       "      <th>scenario</th>\n",
       "      <th></th>\n",
       "      <th></th>\n",
       "    </tr>\n",
       "  </thead>\n",
       "  <tbody>\n",
       "    <tr>\n",
       "      <th>0</th>\n",
       "      <th>BAU</th>\n",
       "      <td>Appliances</td>\n",
       "      <td>1.490104e+10</td>\n",
       "    </tr>\n",
       "    <tr>\n",
       "      <th>1</th>\n",
       "      <th>BAU</th>\n",
       "      <td>Appliances</td>\n",
       "      <td>4.876948e+09</td>\n",
       "    </tr>\n",
       "    <tr>\n",
       "      <th>2</th>\n",
       "      <th>BAU</th>\n",
       "      <td>Appliances</td>\n",
       "      <td>-4.092480e+09</td>\n",
       "    </tr>\n",
       "    <tr>\n",
       "      <th>3</th>\n",
       "      <th>BAU</th>\n",
       "      <td>Appliances</td>\n",
       "      <td>-7.164771e+09</td>\n",
       "    </tr>\n",
       "    <tr>\n",
       "      <th>4</th>\n",
       "      <th>BAU</th>\n",
       "      <td>Appliances</td>\n",
       "      <td>-9.807534e+09</td>\n",
       "    </tr>\n",
       "  </tbody>\n",
       "</table>\n",
       "</div>"
      ],
      "text/plain": [
       "              variable         value\n",
       "  scenario                          \n",
       "0 BAU       Appliances  1.490104e+10\n",
       "1 BAU       Appliances  4.876948e+09\n",
       "2 BAU       Appliances -4.092480e+09\n",
       "3 BAU       Appliances -7.164771e+09\n",
       "4 BAU       Appliances -9.807534e+09"
      ]
     },
     "execution_count": 210,
     "metadata": {},
     "output_type": "execute_result"
    }
   ],
   "source": [
    "\n",
    "abm_cost_summary_l = abm_cost_summary.melt(ignore_index=False)\n",
    "abm_cost_summary_l.head()\n"
   ]
  },
  {
   "cell_type": "code",
   "execution_count": 211,
   "id": "01J0R7S1XWKBE5178PSDMPWAM4",
   "metadata": {},
   "outputs": [],
   "source": [
    "# px.box(abm_cost_summary_l.reset_index(), y=\"value\", color=\"variable\", facet_col=\"scenario\", template=\"plotly\",)\n"
   ]
  },
  {
   "cell_type": "code",
   "execution_count": 212,
   "id": "01J0R8A4S1ASQS0Q272QTRJ3FD",
   "metadata": {},
   "outputs": [],
   "source": [
    "import numpy as np\n",
    "import scipy.stats\n",
    "\n",
    "def mean_confidence_interval(data, confidence=0.95):\n",
    "    a = 1.0 * np.array(data)\n",
    "    n = len(a)\n",
    "    se = scipy.stats.sem(a)\n",
    "    h = se * scipy.stats.t.ppf((1 + confidence) / 2., n-1)\n",
    "    return h\n",
    "\n",
    "means = abm_cost_summary_l.groupby([\"scenario\",\"variable\"]).mean()\n",
    "means.columns = [\"mean\"]\n",
    "stds = abm_cost_summary_l.groupby([\"scenario\",\"variable\"]).agg(mean_confidence_interval)\n",
    "\n",
    "stds.columns = [\"ci\"]\n",
    "abm_results_uncertain = pd.concat([means,stds], axis=1)\n"
   ]
  },
  {
   "cell_type": "code",
   "execution_count": 214,
   "id": "01J0RANSVHFD8XF4DBHVE92HFW",
   "metadata": {},
   "outputs": [
    {
     "data": {
      "application/vnd.plotly.v1+json": {
       "config": {
        "plotlyServerURL": "https://plot.ly"
       },
       "data": [
        {
         "alignmentgroup": "True",
         "hovertemplate": "variable=Appliances<br>scenario=%{x}<br>mean=%{y}<extra></extra>",
         "legendgroup": "Appliances",
         "marker": {
          "color": "#7575ab",
          "pattern": {
           "shape": ""
          }
         },
         "name": "Appliances",
         "offsetgroup": "Appliances",
         "orientation": "v",
         "showlegend": true,
         "textposition": "auto",
         "type": "bar",
         "x": [
          "BAU",
          "CER",
          "CER+",
          "Rapid",
          "Rapid+"
         ],
         "xaxis": "x",
         "y": [
          -5384280341.452893,
          13777236121.719217,
          36033734301.87442,
          -4829429020.088013,
          10101357608.758987
         ],
         "yaxis": "y"
        },
        {
         "alignmentgroup": "True",
         "hovertemplate": "variable=Electricity (GA)<br>scenario=%{x}<br>mean=%{y}<extra></extra>",
         "legendgroup": "Electricity (GA)",
         "marker": {
          "color": "#FF97FF",
          "pattern": {
           "shape": ""
          }
         },
         "name": "Electricity (GA)",
         "offsetgroup": "Electricity (GA)",
         "orientation": "v",
         "showlegend": true,
         "textposition": "auto",
         "type": "bar",
         "x": [
          "BAU",
          "CER",
          "CER+",
          "Rapid",
          "Rapid+"
         ],
         "xaxis": "x",
         "y": [
          25732481535.936462,
          10435101445.676153,
          11349990680.897928,
          34942179602.29379,
          35334864169.67457
         ],
         "yaxis": "y"
        },
        {
         "alignmentgroup": "True",
         "hovertemplate": "variable=Electricity (HOEP)<br>scenario=%{x}<br>mean=%{y}<extra></extra>",
         "legendgroup": "Electricity (HOEP)",
         "marker": {
          "color": "#FECB52",
          "pattern": {
           "shape": ""
          }
         },
         "name": "Electricity (HOEP)",
         "offsetgroup": "Electricity (HOEP)",
         "orientation": "v",
         "showlegend": true,
         "textposition": "auto",
         "type": "bar",
         "x": [
          "BAU",
          "CER",
          "CER+",
          "Rapid",
          "Rapid+"
         ],
         "xaxis": "x",
         "y": [
          56474102784.66623,
          57628421653.035805,
          65563215832.70397,
          22644111237.67303,
          24996170997.33308
         ],
         "yaxis": "y"
        },
        {
         "alignmentgroup": "True",
         "hovertemplate": "variable=Heating oil<br>scenario=%{x}<br>mean=%{y}<extra></extra>",
         "legendgroup": "Heating oil",
         "marker": {
          "color": "#772700",
          "pattern": {
           "shape": ""
          }
         },
         "name": "Heating oil",
         "offsetgroup": "Heating oil",
         "orientation": "v",
         "showlegend": true,
         "textposition": "auto",
         "type": "bar",
         "x": [
          "BAU",
          "CER",
          "CER+",
          "Rapid",
          "Rapid+"
         ],
         "xaxis": "x",
         "y": [
          13340934542.685747,
          12513873050.794006,
          12596058188.857138,
          11125127479.88999,
          11815338863.169153
         ],
         "yaxis": "y"
        },
        {
         "alignmentgroup": "True",
         "hovertemplate": "variable=Natural gas<br>scenario=%{x}<br>mean=%{y}<extra></extra>",
         "legendgroup": "Natural gas",
         "marker": {
          "color": "#757575",
          "pattern": {
           "shape": ""
          }
         },
         "name": "Natural gas",
         "offsetgroup": "Natural gas",
         "orientation": "v",
         "showlegend": true,
         "textposition": "auto",
         "type": "bar",
         "x": [
          "BAU",
          "CER",
          "CER+",
          "Rapid",
          "Rapid+"
         ],
         "xaxis": "x",
         "y": [
          231871957748.0793,
          215601221062.75558,
          188767628174.7977,
          178485852727.23834,
          154644351272.00284
         ],
         "yaxis": "y"
        },
        {
         "alignmentgroup": "True",
         "hovertemplate": "variable=Retrofits<br>scenario=%{x}<br>mean=%{y}<extra></extra>",
         "legendgroup": "Retrofits",
         "marker": {
          "color": "#ff6b6b",
          "pattern": {
           "shape": ""
          }
         },
         "name": "Retrofits",
         "offsetgroup": "Retrofits",
         "orientation": "v",
         "showlegend": true,
         "textposition": "auto",
         "type": "bar",
         "x": [
          "BAU",
          "CER",
          "CER+",
          "Rapid",
          "Rapid+"
         ],
         "xaxis": "x",
         "y": [
          28498913280.87633,
          45564689774.251274,
          45564689774.251274,
          56739404760.84312,
          56739404760.84312
         ],
         "yaxis": "y"
        },
        {
         "alignmentgroup": "True",
         "hovertemplate": "variable=Subsidies<br>scenario=%{x}<br>mean=%{y}<extra></extra>",
         "legendgroup": "Subsidies",
         "marker": {
          "color": "#4361ae",
          "pattern": {
           "shape": ""
          }
         },
         "name": "Subsidies",
         "offsetgroup": "Subsidies",
         "orientation": "v",
         "showlegend": true,
         "textposition": "auto",
         "type": "bar",
         "x": [
          "BAU",
          "CER",
          "CER+",
          "Rapid",
          "Rapid+"
         ],
         "xaxis": "x",
         "y": [
          0,
          758106203.3420858,
          763325389.0070238,
          8480050977.663316,
          9601526264.54727
         ],
         "yaxis": "y"
        }
       ],
       "layout": {
        "barmode": "relative",
        "font": {
         "family": "cm",
         "size": 18
        },
        "legend": {
         "bordercolor": "black",
         "borderwidth": 2,
         "font": {
          "size": 16
         },
         "title": {
          "font": {
           "size": 18
          },
          "text": "Components"
         },
         "tracegroupgap": 0,
         "traceorder": "reversed"
        },
        "margin": {
         "t": 60
        },
        "plot_bgcolor": "white",
        "template": {
         "data": {
          "bar": [
           {
            "error_x": {
             "color": "#2a3f5f"
            },
            "error_y": {
             "color": "#2a3f5f"
            },
            "marker": {
             "line": {
              "color": "#E5ECF6",
              "width": 0.5
             },
             "pattern": {
              "fillmode": "overlay",
              "size": 10,
              "solidity": 0.2
             }
            },
            "type": "bar"
           }
          ],
          "barpolar": [
           {
            "marker": {
             "line": {
              "color": "#E5ECF6",
              "width": 0.5
             },
             "pattern": {
              "fillmode": "overlay",
              "size": 10,
              "solidity": 0.2
             }
            },
            "type": "barpolar"
           }
          ],
          "carpet": [
           {
            "aaxis": {
             "endlinecolor": "#2a3f5f",
             "gridcolor": "white",
             "linecolor": "white",
             "minorgridcolor": "white",
             "startlinecolor": "#2a3f5f"
            },
            "baxis": {
             "endlinecolor": "#2a3f5f",
             "gridcolor": "white",
             "linecolor": "white",
             "minorgridcolor": "white",
             "startlinecolor": "#2a3f5f"
            },
            "type": "carpet"
           }
          ],
          "choropleth": [
           {
            "colorbar": {
             "outlinewidth": 0,
             "ticks": ""
            },
            "type": "choropleth"
           }
          ],
          "contour": [
           {
            "colorbar": {
             "outlinewidth": 0,
             "ticks": ""
            },
            "colorscale": [
             [
              0,
              "#0d0887"
             ],
             [
              0.1111111111111111,
              "#46039f"
             ],
             [
              0.2222222222222222,
              "#7201a8"
             ],
             [
              0.3333333333333333,
              "#9c179e"
             ],
             [
              0.4444444444444444,
              "#bd3786"
             ],
             [
              0.5555555555555556,
              "#d8576b"
             ],
             [
              0.6666666666666666,
              "#ed7953"
             ],
             [
              0.7777777777777778,
              "#fb9f3a"
             ],
             [
              0.8888888888888888,
              "#fdca26"
             ],
             [
              1,
              "#f0f921"
             ]
            ],
            "type": "contour"
           }
          ],
          "contourcarpet": [
           {
            "colorbar": {
             "outlinewidth": 0,
             "ticks": ""
            },
            "type": "contourcarpet"
           }
          ],
          "heatmap": [
           {
            "colorbar": {
             "outlinewidth": 0,
             "ticks": ""
            },
            "colorscale": [
             [
              0,
              "#0d0887"
             ],
             [
              0.1111111111111111,
              "#46039f"
             ],
             [
              0.2222222222222222,
              "#7201a8"
             ],
             [
              0.3333333333333333,
              "#9c179e"
             ],
             [
              0.4444444444444444,
              "#bd3786"
             ],
             [
              0.5555555555555556,
              "#d8576b"
             ],
             [
              0.6666666666666666,
              "#ed7953"
             ],
             [
              0.7777777777777778,
              "#fb9f3a"
             ],
             [
              0.8888888888888888,
              "#fdca26"
             ],
             [
              1,
              "#f0f921"
             ]
            ],
            "type": "heatmap"
           }
          ],
          "heatmapgl": [
           {
            "colorbar": {
             "outlinewidth": 0,
             "ticks": ""
            },
            "colorscale": [
             [
              0,
              "#0d0887"
             ],
             [
              0.1111111111111111,
              "#46039f"
             ],
             [
              0.2222222222222222,
              "#7201a8"
             ],
             [
              0.3333333333333333,
              "#9c179e"
             ],
             [
              0.4444444444444444,
              "#bd3786"
             ],
             [
              0.5555555555555556,
              "#d8576b"
             ],
             [
              0.6666666666666666,
              "#ed7953"
             ],
             [
              0.7777777777777778,
              "#fb9f3a"
             ],
             [
              0.8888888888888888,
              "#fdca26"
             ],
             [
              1,
              "#f0f921"
             ]
            ],
            "type": "heatmapgl"
           }
          ],
          "histogram": [
           {
            "marker": {
             "pattern": {
              "fillmode": "overlay",
              "size": 10,
              "solidity": 0.2
             }
            },
            "type": "histogram"
           }
          ],
          "histogram2d": [
           {
            "colorbar": {
             "outlinewidth": 0,
             "ticks": ""
            },
            "colorscale": [
             [
              0,
              "#0d0887"
             ],
             [
              0.1111111111111111,
              "#46039f"
             ],
             [
              0.2222222222222222,
              "#7201a8"
             ],
             [
              0.3333333333333333,
              "#9c179e"
             ],
             [
              0.4444444444444444,
              "#bd3786"
             ],
             [
              0.5555555555555556,
              "#d8576b"
             ],
             [
              0.6666666666666666,
              "#ed7953"
             ],
             [
              0.7777777777777778,
              "#fb9f3a"
             ],
             [
              0.8888888888888888,
              "#fdca26"
             ],
             [
              1,
              "#f0f921"
             ]
            ],
            "type": "histogram2d"
           }
          ],
          "histogram2dcontour": [
           {
            "colorbar": {
             "outlinewidth": 0,
             "ticks": ""
            },
            "colorscale": [
             [
              0,
              "#0d0887"
             ],
             [
              0.1111111111111111,
              "#46039f"
             ],
             [
              0.2222222222222222,
              "#7201a8"
             ],
             [
              0.3333333333333333,
              "#9c179e"
             ],
             [
              0.4444444444444444,
              "#bd3786"
             ],
             [
              0.5555555555555556,
              "#d8576b"
             ],
             [
              0.6666666666666666,
              "#ed7953"
             ],
             [
              0.7777777777777778,
              "#fb9f3a"
             ],
             [
              0.8888888888888888,
              "#fdca26"
             ],
             [
              1,
              "#f0f921"
             ]
            ],
            "type": "histogram2dcontour"
           }
          ],
          "mesh3d": [
           {
            "colorbar": {
             "outlinewidth": 0,
             "ticks": ""
            },
            "type": "mesh3d"
           }
          ],
          "parcoords": [
           {
            "line": {
             "colorbar": {
              "outlinewidth": 0,
              "ticks": ""
             }
            },
            "type": "parcoords"
           }
          ],
          "pie": [
           {
            "automargin": true,
            "type": "pie"
           }
          ],
          "scatter": [
           {
            "fillpattern": {
             "fillmode": "overlay",
             "size": 10,
             "solidity": 0.2
            },
            "type": "scatter"
           }
          ],
          "scatter3d": [
           {
            "line": {
             "colorbar": {
              "outlinewidth": 0,
              "ticks": ""
             }
            },
            "marker": {
             "colorbar": {
              "outlinewidth": 0,
              "ticks": ""
             }
            },
            "type": "scatter3d"
           }
          ],
          "scattercarpet": [
           {
            "marker": {
             "colorbar": {
              "outlinewidth": 0,
              "ticks": ""
             }
            },
            "type": "scattercarpet"
           }
          ],
          "scattergeo": [
           {
            "marker": {
             "colorbar": {
              "outlinewidth": 0,
              "ticks": ""
             }
            },
            "type": "scattergeo"
           }
          ],
          "scattergl": [
           {
            "marker": {
             "colorbar": {
              "outlinewidth": 0,
              "ticks": ""
             }
            },
            "type": "scattergl"
           }
          ],
          "scattermapbox": [
           {
            "marker": {
             "colorbar": {
              "outlinewidth": 0,
              "ticks": ""
             }
            },
            "type": "scattermapbox"
           }
          ],
          "scatterpolar": [
           {
            "marker": {
             "colorbar": {
              "outlinewidth": 0,
              "ticks": ""
             }
            },
            "type": "scatterpolar"
           }
          ],
          "scatterpolargl": [
           {
            "marker": {
             "colorbar": {
              "outlinewidth": 0,
              "ticks": ""
             }
            },
            "type": "scatterpolargl"
           }
          ],
          "scatterternary": [
           {
            "marker": {
             "colorbar": {
              "outlinewidth": 0,
              "ticks": ""
             }
            },
            "type": "scatterternary"
           }
          ],
          "surface": [
           {
            "colorbar": {
             "outlinewidth": 0,
             "ticks": ""
            },
            "colorscale": [
             [
              0,
              "#0d0887"
             ],
             [
              0.1111111111111111,
              "#46039f"
             ],
             [
              0.2222222222222222,
              "#7201a8"
             ],
             [
              0.3333333333333333,
              "#9c179e"
             ],
             [
              0.4444444444444444,
              "#bd3786"
             ],
             [
              0.5555555555555556,
              "#d8576b"
             ],
             [
              0.6666666666666666,
              "#ed7953"
             ],
             [
              0.7777777777777778,
              "#fb9f3a"
             ],
             [
              0.8888888888888888,
              "#fdca26"
             ],
             [
              1,
              "#f0f921"
             ]
            ],
            "type": "surface"
           }
          ],
          "table": [
           {
            "cells": {
             "fill": {
              "color": "#EBF0F8"
             },
             "line": {
              "color": "white"
             }
            },
            "header": {
             "fill": {
              "color": "#C8D4E3"
             },
             "line": {
              "color": "white"
             }
            },
            "type": "table"
           }
          ]
         },
         "layout": {
          "annotationdefaults": {
           "arrowcolor": "#2a3f5f",
           "arrowhead": 0,
           "arrowwidth": 1
          },
          "autotypenumbers": "strict",
          "coloraxis": {
           "colorbar": {
            "outlinewidth": 0,
            "ticks": ""
           }
          },
          "colorscale": {
           "diverging": [
            [
             0,
             "#8e0152"
            ],
            [
             0.1,
             "#c51b7d"
            ],
            [
             0.2,
             "#de77ae"
            ],
            [
             0.3,
             "#f1b6da"
            ],
            [
             0.4,
             "#fde0ef"
            ],
            [
             0.5,
             "#f7f7f7"
            ],
            [
             0.6,
             "#e6f5d0"
            ],
            [
             0.7,
             "#b8e186"
            ],
            [
             0.8,
             "#7fbc41"
            ],
            [
             0.9,
             "#4d9221"
            ],
            [
             1,
             "#276419"
            ]
           ],
           "sequential": [
            [
             0,
             "#0d0887"
            ],
            [
             0.1111111111111111,
             "#46039f"
            ],
            [
             0.2222222222222222,
             "#7201a8"
            ],
            [
             0.3333333333333333,
             "#9c179e"
            ],
            [
             0.4444444444444444,
             "#bd3786"
            ],
            [
             0.5555555555555556,
             "#d8576b"
            ],
            [
             0.6666666666666666,
             "#ed7953"
            ],
            [
             0.7777777777777778,
             "#fb9f3a"
            ],
            [
             0.8888888888888888,
             "#fdca26"
            ],
            [
             1,
             "#f0f921"
            ]
           ],
           "sequentialminus": [
            [
             0,
             "#0d0887"
            ],
            [
             0.1111111111111111,
             "#46039f"
            ],
            [
             0.2222222222222222,
             "#7201a8"
            ],
            [
             0.3333333333333333,
             "#9c179e"
            ],
            [
             0.4444444444444444,
             "#bd3786"
            ],
            [
             0.5555555555555556,
             "#d8576b"
            ],
            [
             0.6666666666666666,
             "#ed7953"
            ],
            [
             0.7777777777777778,
             "#fb9f3a"
            ],
            [
             0.8888888888888888,
             "#fdca26"
            ],
            [
             1,
             "#f0f921"
            ]
           ]
          },
          "colorway": [
           "#636efa",
           "#EF553B",
           "#00cc96",
           "#ab63fa",
           "#FFA15A",
           "#19d3f3",
           "#FF6692",
           "#B6E880",
           "#FF97FF",
           "#FECB52"
          ],
          "font": {
           "color": "#2a3f5f"
          },
          "geo": {
           "bgcolor": "white",
           "lakecolor": "white",
           "landcolor": "#E5ECF6",
           "showlakes": true,
           "showland": true,
           "subunitcolor": "white"
          },
          "hoverlabel": {
           "align": "left"
          },
          "hovermode": "closest",
          "mapbox": {
           "style": "light"
          },
          "paper_bgcolor": "white",
          "plot_bgcolor": "#E5ECF6",
          "polar": {
           "angularaxis": {
            "gridcolor": "white",
            "linecolor": "white",
            "ticks": ""
           },
           "bgcolor": "#E5ECF6",
           "radialaxis": {
            "gridcolor": "white",
            "linecolor": "white",
            "ticks": ""
           }
          },
          "scene": {
           "xaxis": {
            "backgroundcolor": "#E5ECF6",
            "gridcolor": "white",
            "gridwidth": 2,
            "linecolor": "white",
            "showbackground": true,
            "ticks": "",
            "zerolinecolor": "white"
           },
           "yaxis": {
            "backgroundcolor": "#E5ECF6",
            "gridcolor": "white",
            "gridwidth": 2,
            "linecolor": "white",
            "showbackground": true,
            "ticks": "",
            "zerolinecolor": "white"
           },
           "zaxis": {
            "backgroundcolor": "#E5ECF6",
            "gridcolor": "white",
            "gridwidth": 2,
            "linecolor": "white",
            "showbackground": true,
            "ticks": "",
            "zerolinecolor": "white"
           }
          },
          "shapedefaults": {
           "line": {
            "color": "#2a3f5f"
           }
          },
          "ternary": {
           "aaxis": {
            "gridcolor": "white",
            "linecolor": "white",
            "ticks": ""
           },
           "baxis": {
            "gridcolor": "white",
            "linecolor": "white",
            "ticks": ""
           },
           "bgcolor": "#E5ECF6",
           "caxis": {
            "gridcolor": "white",
            "linecolor": "white",
            "ticks": ""
           }
          },
          "title": {
           "x": 0.05
          },
          "xaxis": {
           "automargin": true,
           "gridcolor": "white",
           "linecolor": "white",
           "ticks": "",
           "title": {
            "standoff": 15
           },
           "zerolinecolor": "white",
           "zerolinewidth": 2
          },
          "yaxis": {
           "automargin": true,
           "gridcolor": "white",
           "linecolor": "white",
           "ticks": "",
           "title": {
            "standoff": 15
           },
           "zerolinecolor": "white",
           "zerolinewidth": 2
          }
         }
        },
        "width": 500,
        "xaxis": {
         "anchor": "y",
         "domain": [
          0,
          1
         ],
         "gridcolor": "lightgrey",
         "linecolor": "black",
         "mirror": true,
         "showline": true,
         "ticks": "outside",
         "title": {
          "text": "scenario"
         }
        },
        "yaxis": {
         "anchor": "x",
         "domain": [
          0,
          1
         ],
         "gridcolor": "lightgrey",
         "linecolor": "black",
         "mirror": true,
         "showline": true,
         "ticks": "outside",
         "title": {
          "text": "Total demand side costs (CAD)"
         }
        }
       }
      }
     },
     "metadata": {},
     "output_type": "display_data"
    }
   ],
   "source": [
    "ABM_colors[\"Appliances\"] = \"#7575ab\"\n",
    "ABM_colors[\"Retrofits\"] = \"#ff6b6b\"\n",
    "\n",
    "abm_total_cost_fig = px.bar(abm_results_uncertain.reset_index(),y=\"mean\", color=\"variable\", x=\"scenario\", template=\"plotly\", color_discrete_map=ABM_colors, width=500)\n",
    "abm_total_cost_fig = sciencify_plotly_fig(abm_total_cost_fig)\n",
    "abm_total_cost_fig.update_layout(legend=dict( title=\"Components\", font_size=16, title_font_size=18, borderwidth=2, bordercolor=\"black\"))\n",
    "abm_total_cost_fig.update_layout(legend_traceorder=\"reversed\", font_family=\"cm\", font_size=18, yaxis_title=\"Total demand side costs (CAD)\")\n",
    "abm_total_cost_fig.write_image(f\"abm_total_costs_{date_str}.svg\")\n",
    "abm_total_cost_fig.write_image(f\"abm_total_costs_{date_str}.pdf\")\n",
    "abm_total_cost_fig"
   ]
  },
  {
   "cell_type": "code",
   "execution_count": 215,
   "id": "01J0R9M68ZXSYYP2CQ5WZT2FF8",
   "metadata": {},
   "outputs": [
    {
     "data": {
      "application/vnd.plotly.v1+json": {
       "config": {
        "plotlyServerURL": "https://plot.ly"
       },
       "data": [
        {
         "alignmentgroup": "True",
         "error_y": {
          "array": [
           16246431363.495483,
           10361495238.62355,
           7344873181.905569,
           6711805898.211594,
           6404764807.680973
          ],
          "thickness": 1.2,
          "width": 2.5
         },
         "hovertemplate": "variable=Appliances<br>scenario=%{x}<br>mean=%{y}<extra></extra>",
         "legendgroup": "Appliances",
         "marker": {
          "color": "#7575ab",
          "pattern": {
           "shape": ""
          }
         },
         "name": "Appliances",
         "offsetgroup": "Appliances",
         "orientation": "v",
         "showlegend": true,
         "textposition": "auto",
         "type": "bar",
         "x": [
          "BAU",
          "CER",
          "CER+",
          "Rapid",
          "Rapid+"
         ],
         "xaxis": "x",
         "y": [
          -5384280341.452893,
          13777236121.719217,
          36033734301.87442,
          -4829429020.088013,
          10101357608.758987
         ],
         "yaxis": "y"
        },
        {
         "alignmentgroup": "True",
         "error_y": {
          "array": [
           2921825898.8043885,
           686005074.9821632,
           460302273.078165,
           2082958681.7431247,
           1755364874.6269574
          ],
          "thickness": 1.2,
          "width": 2.5
         },
         "hovertemplate": "variable=Electricity (GA)<br>scenario=%{x}<br>mean=%{y}<extra></extra>",
         "legendgroup": "Electricity (GA)",
         "marker": {
          "color": "#FF97FF",
          "pattern": {
           "shape": ""
          }
         },
         "name": "Electricity (GA)",
         "offsetgroup": "Electricity (GA)",
         "orientation": "v",
         "showlegend": true,
         "textposition": "auto",
         "type": "bar",
         "x": [
          "BAU",
          "CER",
          "CER+",
          "Rapid",
          "Rapid+"
         ],
         "xaxis": "x",
         "y": [
          25732481535.936462,
          10435101445.676153,
          11349990680.897928,
          34942179602.29379,
          35334864169.67457
         ],
         "yaxis": "y"
        },
        {
         "alignmentgroup": "True",
         "error_y": {
          "array": [
           6258110280.020409,
           4218423397.066273,
           2084986650.791331,
           1508998529.8223658,
           1648958906.457439
          ],
          "thickness": 1.2,
          "width": 2.5
         },
         "hovertemplate": "variable=Electricity (HOEP)<br>scenario=%{x}<br>mean=%{y}<extra></extra>",
         "legendgroup": "Electricity (HOEP)",
         "marker": {
          "color": "#FECB52",
          "pattern": {
           "shape": ""
          }
         },
         "name": "Electricity (HOEP)",
         "offsetgroup": "Electricity (HOEP)",
         "orientation": "v",
         "showlegend": true,
         "textposition": "auto",
         "type": "bar",
         "x": [
          "BAU",
          "CER",
          "CER+",
          "Rapid",
          "Rapid+"
         ],
         "xaxis": "x",
         "y": [
          56474102784.66623,
          57628421653.035805,
          65563215832.70397,
          22644111237.67303,
          24996170997.33308
         ],
         "yaxis": "y"
        },
        {
         "alignmentgroup": "True",
         "error_y": {
          "array": [
           2240754610.2706795,
           2419398151.133173,
           2283854955.080269,
           1576497876.481799,
           1440084591.8422427
          ],
          "thickness": 1.2,
          "width": 2.5
         },
         "hovertemplate": "variable=Heating oil<br>scenario=%{x}<br>mean=%{y}<extra></extra>",
         "legendgroup": "Heating oil",
         "marker": {
          "color": "#772700",
          "pattern": {
           "shape": ""
          }
         },
         "name": "Heating oil",
         "offsetgroup": "Heating oil",
         "orientation": "v",
         "showlegend": true,
         "textposition": "auto",
         "type": "bar",
         "x": [
          "BAU",
          "CER",
          "CER+",
          "Rapid",
          "Rapid+"
         ],
         "xaxis": "x",
         "y": [
          13340934542.685747,
          12513873050.794006,
          12596058188.857138,
          11125127479.88999,
          11815338863.169153
         ],
         "yaxis": "y"
        },
        {
         "alignmentgroup": "True",
         "error_y": {
          "array": [
           20158111898.807114,
           12234219398.209248,
           7016872372.616411,
           10179635835.46064,
           9896174476.645658
          ],
          "thickness": 1.2,
          "width": 2.5
         },
         "hovertemplate": "variable=Natural gas<br>scenario=%{x}<br>mean=%{y}<extra></extra>",
         "legendgroup": "Natural gas",
         "marker": {
          "color": "#757575",
          "pattern": {
           "shape": ""
          }
         },
         "name": "Natural gas",
         "offsetgroup": "Natural gas",
         "orientation": "v",
         "showlegend": true,
         "textposition": "auto",
         "type": "bar",
         "x": [
          "BAU",
          "CER",
          "CER+",
          "Rapid",
          "Rapid+"
         ],
         "xaxis": "x",
         "y": [
          231871957748.0793,
          215601221062.75558,
          188767628174.7977,
          178485852727.23834,
          154644351272.00284
         ],
         "yaxis": "y"
        },
        {
         "alignmentgroup": "True",
         "error_y": {
          "array": [
           1750851403.8441293,
           3146997739.594669,
           3146997739.594669,
           4315634336.052865,
           4315634336.052865
          ],
          "thickness": 1.2,
          "width": 2.5
         },
         "hovertemplate": "variable=Retrofits<br>scenario=%{x}<br>mean=%{y}<extra></extra>",
         "legendgroup": "Retrofits",
         "marker": {
          "color": "#ff6b6b",
          "pattern": {
           "shape": ""
          }
         },
         "name": "Retrofits",
         "offsetgroup": "Retrofits",
         "orientation": "v",
         "showlegend": true,
         "textposition": "auto",
         "type": "bar",
         "x": [
          "BAU",
          "CER",
          "CER+",
          "Rapid",
          "Rapid+"
         ],
         "xaxis": "x",
         "y": [
          28498913280.87633,
          45564689774.251274,
          45564689774.251274,
          56739404760.84312,
          56739404760.84312
         ],
         "yaxis": "y"
        },
        {
         "alignmentgroup": "True",
         "error_y": {
          "array": [
           0,
           54325278.00076671,
           54178751.85084341,
           489979396.21150213,
           607892280.6315768
          ],
          "thickness": 1.2,
          "width": 2.5
         },
         "hovertemplate": "variable=Subsidies<br>scenario=%{x}<br>mean=%{y}<extra></extra>",
         "legendgroup": "Subsidies",
         "marker": {
          "color": "#4361ae",
          "pattern": {
           "shape": ""
          }
         },
         "name": "Subsidies",
         "offsetgroup": "Subsidies",
         "orientation": "v",
         "showlegend": true,
         "textposition": "auto",
         "type": "bar",
         "x": [
          "BAU",
          "CER",
          "CER+",
          "Rapid",
          "Rapid+"
         ],
         "xaxis": "x",
         "y": [
          0,
          758106203.3420858,
          763325389.0070238,
          8480050977.663316,
          9601526264.54727
         ],
         "yaxis": "y"
        }
       ],
       "layout": {
        "barmode": "group",
        "font": {
         "family": "cm",
         "size": 18
        },
        "legend": {
         "bordercolor": "black",
         "borderwidth": 2,
         "font": {
          "size": 16
         },
         "title": {
          "text": "Cost components"
         },
         "tracegroupgap": 0,
         "x": 0.12,
         "y": 0.55
        },
        "margin": {
         "t": 60
        },
        "plot_bgcolor": "white",
        "template": {
         "data": {
          "bar": [
           {
            "error_x": {
             "color": "#2a3f5f"
            },
            "error_y": {
             "color": "#2a3f5f"
            },
            "marker": {
             "line": {
              "color": "#E5ECF6",
              "width": 0.5
             },
             "pattern": {
              "fillmode": "overlay",
              "size": 10,
              "solidity": 0.2
             }
            },
            "type": "bar"
           }
          ],
          "barpolar": [
           {
            "marker": {
             "line": {
              "color": "#E5ECF6",
              "width": 0.5
             },
             "pattern": {
              "fillmode": "overlay",
              "size": 10,
              "solidity": 0.2
             }
            },
            "type": "barpolar"
           }
          ],
          "carpet": [
           {
            "aaxis": {
             "endlinecolor": "#2a3f5f",
             "gridcolor": "white",
             "linecolor": "white",
             "minorgridcolor": "white",
             "startlinecolor": "#2a3f5f"
            },
            "baxis": {
             "endlinecolor": "#2a3f5f",
             "gridcolor": "white",
             "linecolor": "white",
             "minorgridcolor": "white",
             "startlinecolor": "#2a3f5f"
            },
            "type": "carpet"
           }
          ],
          "choropleth": [
           {
            "colorbar": {
             "outlinewidth": 0,
             "ticks": ""
            },
            "type": "choropleth"
           }
          ],
          "contour": [
           {
            "colorbar": {
             "outlinewidth": 0,
             "ticks": ""
            },
            "colorscale": [
             [
              0,
              "#0d0887"
             ],
             [
              0.1111111111111111,
              "#46039f"
             ],
             [
              0.2222222222222222,
              "#7201a8"
             ],
             [
              0.3333333333333333,
              "#9c179e"
             ],
             [
              0.4444444444444444,
              "#bd3786"
             ],
             [
              0.5555555555555556,
              "#d8576b"
             ],
             [
              0.6666666666666666,
              "#ed7953"
             ],
             [
              0.7777777777777778,
              "#fb9f3a"
             ],
             [
              0.8888888888888888,
              "#fdca26"
             ],
             [
              1,
              "#f0f921"
             ]
            ],
            "type": "contour"
           }
          ],
          "contourcarpet": [
           {
            "colorbar": {
             "outlinewidth": 0,
             "ticks": ""
            },
            "type": "contourcarpet"
           }
          ],
          "heatmap": [
           {
            "colorbar": {
             "outlinewidth": 0,
             "ticks": ""
            },
            "colorscale": [
             [
              0,
              "#0d0887"
             ],
             [
              0.1111111111111111,
              "#46039f"
             ],
             [
              0.2222222222222222,
              "#7201a8"
             ],
             [
              0.3333333333333333,
              "#9c179e"
             ],
             [
              0.4444444444444444,
              "#bd3786"
             ],
             [
              0.5555555555555556,
              "#d8576b"
             ],
             [
              0.6666666666666666,
              "#ed7953"
             ],
             [
              0.7777777777777778,
              "#fb9f3a"
             ],
             [
              0.8888888888888888,
              "#fdca26"
             ],
             [
              1,
              "#f0f921"
             ]
            ],
            "type": "heatmap"
           }
          ],
          "heatmapgl": [
           {
            "colorbar": {
             "outlinewidth": 0,
             "ticks": ""
            },
            "colorscale": [
             [
              0,
              "#0d0887"
             ],
             [
              0.1111111111111111,
              "#46039f"
             ],
             [
              0.2222222222222222,
              "#7201a8"
             ],
             [
              0.3333333333333333,
              "#9c179e"
             ],
             [
              0.4444444444444444,
              "#bd3786"
             ],
             [
              0.5555555555555556,
              "#d8576b"
             ],
             [
              0.6666666666666666,
              "#ed7953"
             ],
             [
              0.7777777777777778,
              "#fb9f3a"
             ],
             [
              0.8888888888888888,
              "#fdca26"
             ],
             [
              1,
              "#f0f921"
             ]
            ],
            "type": "heatmapgl"
           }
          ],
          "histogram": [
           {
            "marker": {
             "pattern": {
              "fillmode": "overlay",
              "size": 10,
              "solidity": 0.2
             }
            },
            "type": "histogram"
           }
          ],
          "histogram2d": [
           {
            "colorbar": {
             "outlinewidth": 0,
             "ticks": ""
            },
            "colorscale": [
             [
              0,
              "#0d0887"
             ],
             [
              0.1111111111111111,
              "#46039f"
             ],
             [
              0.2222222222222222,
              "#7201a8"
             ],
             [
              0.3333333333333333,
              "#9c179e"
             ],
             [
              0.4444444444444444,
              "#bd3786"
             ],
             [
              0.5555555555555556,
              "#d8576b"
             ],
             [
              0.6666666666666666,
              "#ed7953"
             ],
             [
              0.7777777777777778,
              "#fb9f3a"
             ],
             [
              0.8888888888888888,
              "#fdca26"
             ],
             [
              1,
              "#f0f921"
             ]
            ],
            "type": "histogram2d"
           }
          ],
          "histogram2dcontour": [
           {
            "colorbar": {
             "outlinewidth": 0,
             "ticks": ""
            },
            "colorscale": [
             [
              0,
              "#0d0887"
             ],
             [
              0.1111111111111111,
              "#46039f"
             ],
             [
              0.2222222222222222,
              "#7201a8"
             ],
             [
              0.3333333333333333,
              "#9c179e"
             ],
             [
              0.4444444444444444,
              "#bd3786"
             ],
             [
              0.5555555555555556,
              "#d8576b"
             ],
             [
              0.6666666666666666,
              "#ed7953"
             ],
             [
              0.7777777777777778,
              "#fb9f3a"
             ],
             [
              0.8888888888888888,
              "#fdca26"
             ],
             [
              1,
              "#f0f921"
             ]
            ],
            "type": "histogram2dcontour"
           }
          ],
          "mesh3d": [
           {
            "colorbar": {
             "outlinewidth": 0,
             "ticks": ""
            },
            "type": "mesh3d"
           }
          ],
          "parcoords": [
           {
            "line": {
             "colorbar": {
              "outlinewidth": 0,
              "ticks": ""
             }
            },
            "type": "parcoords"
           }
          ],
          "pie": [
           {
            "automargin": true,
            "type": "pie"
           }
          ],
          "scatter": [
           {
            "fillpattern": {
             "fillmode": "overlay",
             "size": 10,
             "solidity": 0.2
            },
            "type": "scatter"
           }
          ],
          "scatter3d": [
           {
            "line": {
             "colorbar": {
              "outlinewidth": 0,
              "ticks": ""
             }
            },
            "marker": {
             "colorbar": {
              "outlinewidth": 0,
              "ticks": ""
             }
            },
            "type": "scatter3d"
           }
          ],
          "scattercarpet": [
           {
            "marker": {
             "colorbar": {
              "outlinewidth": 0,
              "ticks": ""
             }
            },
            "type": "scattercarpet"
           }
          ],
          "scattergeo": [
           {
            "marker": {
             "colorbar": {
              "outlinewidth": 0,
              "ticks": ""
             }
            },
            "type": "scattergeo"
           }
          ],
          "scattergl": [
           {
            "marker": {
             "colorbar": {
              "outlinewidth": 0,
              "ticks": ""
             }
            },
            "type": "scattergl"
           }
          ],
          "scattermapbox": [
           {
            "marker": {
             "colorbar": {
              "outlinewidth": 0,
              "ticks": ""
             }
            },
            "type": "scattermapbox"
           }
          ],
          "scatterpolar": [
           {
            "marker": {
             "colorbar": {
              "outlinewidth": 0,
              "ticks": ""
             }
            },
            "type": "scatterpolar"
           }
          ],
          "scatterpolargl": [
           {
            "marker": {
             "colorbar": {
              "outlinewidth": 0,
              "ticks": ""
             }
            },
            "type": "scatterpolargl"
           }
          ],
          "scatterternary": [
           {
            "marker": {
             "colorbar": {
              "outlinewidth": 0,
              "ticks": ""
             }
            },
            "type": "scatterternary"
           }
          ],
          "surface": [
           {
            "colorbar": {
             "outlinewidth": 0,
             "ticks": ""
            },
            "colorscale": [
             [
              0,
              "#0d0887"
             ],
             [
              0.1111111111111111,
              "#46039f"
             ],
             [
              0.2222222222222222,
              "#7201a8"
             ],
             [
              0.3333333333333333,
              "#9c179e"
             ],
             [
              0.4444444444444444,
              "#bd3786"
             ],
             [
              0.5555555555555556,
              "#d8576b"
             ],
             [
              0.6666666666666666,
              "#ed7953"
             ],
             [
              0.7777777777777778,
              "#fb9f3a"
             ],
             [
              0.8888888888888888,
              "#fdca26"
             ],
             [
              1,
              "#f0f921"
             ]
            ],
            "type": "surface"
           }
          ],
          "table": [
           {
            "cells": {
             "fill": {
              "color": "#EBF0F8"
             },
             "line": {
              "color": "white"
             }
            },
            "header": {
             "fill": {
              "color": "#C8D4E3"
             },
             "line": {
              "color": "white"
             }
            },
            "type": "table"
           }
          ]
         },
         "layout": {
          "annotationdefaults": {
           "arrowcolor": "#2a3f5f",
           "arrowhead": 0,
           "arrowwidth": 1
          },
          "autotypenumbers": "strict",
          "coloraxis": {
           "colorbar": {
            "outlinewidth": 0,
            "ticks": ""
           }
          },
          "colorscale": {
           "diverging": [
            [
             0,
             "#8e0152"
            ],
            [
             0.1,
             "#c51b7d"
            ],
            [
             0.2,
             "#de77ae"
            ],
            [
             0.3,
             "#f1b6da"
            ],
            [
             0.4,
             "#fde0ef"
            ],
            [
             0.5,
             "#f7f7f7"
            ],
            [
             0.6,
             "#e6f5d0"
            ],
            [
             0.7,
             "#b8e186"
            ],
            [
             0.8,
             "#7fbc41"
            ],
            [
             0.9,
             "#4d9221"
            ],
            [
             1,
             "#276419"
            ]
           ],
           "sequential": [
            [
             0,
             "#0d0887"
            ],
            [
             0.1111111111111111,
             "#46039f"
            ],
            [
             0.2222222222222222,
             "#7201a8"
            ],
            [
             0.3333333333333333,
             "#9c179e"
            ],
            [
             0.4444444444444444,
             "#bd3786"
            ],
            [
             0.5555555555555556,
             "#d8576b"
            ],
            [
             0.6666666666666666,
             "#ed7953"
            ],
            [
             0.7777777777777778,
             "#fb9f3a"
            ],
            [
             0.8888888888888888,
             "#fdca26"
            ],
            [
             1,
             "#f0f921"
            ]
           ],
           "sequentialminus": [
            [
             0,
             "#0d0887"
            ],
            [
             0.1111111111111111,
             "#46039f"
            ],
            [
             0.2222222222222222,
             "#7201a8"
            ],
            [
             0.3333333333333333,
             "#9c179e"
            ],
            [
             0.4444444444444444,
             "#bd3786"
            ],
            [
             0.5555555555555556,
             "#d8576b"
            ],
            [
             0.6666666666666666,
             "#ed7953"
            ],
            [
             0.7777777777777778,
             "#fb9f3a"
            ],
            [
             0.8888888888888888,
             "#fdca26"
            ],
            [
             1,
             "#f0f921"
            ]
           ]
          },
          "colorway": [
           "#636efa",
           "#EF553B",
           "#00cc96",
           "#ab63fa",
           "#FFA15A",
           "#19d3f3",
           "#FF6692",
           "#B6E880",
           "#FF97FF",
           "#FECB52"
          ],
          "font": {
           "color": "#2a3f5f"
          },
          "geo": {
           "bgcolor": "white",
           "lakecolor": "white",
           "landcolor": "#E5ECF6",
           "showlakes": true,
           "showland": true,
           "subunitcolor": "white"
          },
          "hoverlabel": {
           "align": "left"
          },
          "hovermode": "closest",
          "mapbox": {
           "style": "light"
          },
          "paper_bgcolor": "white",
          "plot_bgcolor": "#E5ECF6",
          "polar": {
           "angularaxis": {
            "gridcolor": "white",
            "linecolor": "white",
            "ticks": ""
           },
           "bgcolor": "#E5ECF6",
           "radialaxis": {
            "gridcolor": "white",
            "linecolor": "white",
            "ticks": ""
           }
          },
          "scene": {
           "xaxis": {
            "backgroundcolor": "#E5ECF6",
            "gridcolor": "white",
            "gridwidth": 2,
            "linecolor": "white",
            "showbackground": true,
            "ticks": "",
            "zerolinecolor": "white"
           },
           "yaxis": {
            "backgroundcolor": "#E5ECF6",
            "gridcolor": "white",
            "gridwidth": 2,
            "linecolor": "white",
            "showbackground": true,
            "ticks": "",
            "zerolinecolor": "white"
           },
           "zaxis": {
            "backgroundcolor": "#E5ECF6",
            "gridcolor": "white",
            "gridwidth": 2,
            "linecolor": "white",
            "showbackground": true,
            "ticks": "",
            "zerolinecolor": "white"
           }
          },
          "shapedefaults": {
           "line": {
            "color": "#2a3f5f"
           }
          },
          "ternary": {
           "aaxis": {
            "gridcolor": "white",
            "linecolor": "white",
            "ticks": ""
           },
           "baxis": {
            "gridcolor": "white",
            "linecolor": "white",
            "ticks": ""
           },
           "bgcolor": "#E5ECF6",
           "caxis": {
            "gridcolor": "white",
            "linecolor": "white",
            "ticks": ""
           }
          },
          "title": {
           "x": 0.05
          },
          "xaxis": {
           "automargin": true,
           "gridcolor": "white",
           "linecolor": "white",
           "ticks": "",
           "title": {
            "standoff": 15
           },
           "zerolinecolor": "white",
           "zerolinewidth": 2
          },
          "yaxis": {
           "automargin": true,
           "gridcolor": "white",
           "linecolor": "white",
           "ticks": "",
           "title": {
            "standoff": 15
           },
           "zerolinecolor": "white",
           "zerolinewidth": 2
          }
         }
        },
        "width": 500,
        "xaxis": {
         "anchor": "y",
         "domain": [
          0,
          1
         ],
         "gridcolor": "lightgrey",
         "linecolor": "black",
         "mirror": true,
         "showgrid": false,
         "showline": true,
         "tickangle": 90,
         "ticks": "outside",
         "title": {
          "text": "scenario"
         }
        },
        "yaxis": {
         "anchor": "x",
         "domain": [
          0,
          1
         ],
         "gridcolor": "lightgrey",
         "linecolor": "black",
         "mirror": true,
         "showline": true,
         "ticks": "outside",
         "title": {
          "text": "Total demand side cost (CAD)"
         }
        }
       }
      }
     },
     "metadata": {},
     "output_type": "display_data"
    }
   ],
   "source": [
    "\n",
    "fig = px.bar(abm_results_uncertain.reset_index(), y=\"mean\", color=\"variable\", error_y=\"ci\", x=\"scenario\", template=\"plotly\", width=500, barmode=\"group\", color_discrete_map=ABM_colors)\n",
    "fig = sciencify_plotly_fig(fig)\n",
    "fig.update_traces(error_y={\"thickness\":1.2, \"width\":2.5})\n",
    "fig.update_xaxes(showgrid=False, tickangle=90)\n",
    "# fig.update_yaxes(range=(0,max(results[\"mean\"]*1.2)))\n",
    "fig.update_layout(legend=dict(x=.12,y=.55, title=\"Components\", font_size=16, title_font_size=18, borderwidth=2, bordercolor=\"black\"))\n",
    "\n",
    "fig.update_layout(yaxis_title=\"Total demand side cost (CAD)\", legend_title=\"Cost components\", font_family=\"cm\", font_size=18)\n",
    "fig.write_image(f\"abm_total_costs_uncert_{date_str}.svg\")\n",
    "fig.write_image(f\"abm_total_costs_uncert_{date_str}.pdf\")\n",
    "fig"
   ]
  },
  {
   "cell_type": "code",
   "execution_count": 227,
   "id": "01J2EYQ90JDK3KVNW2KEAWN2YM",
   "metadata": {},
   "outputs": [
    {
     "data": {
      "text/plain": [
       "scenario  Appliance name                variable    \n",
       "BAU       Electric furnace              annuity_cost    1.821408e+09\n",
       "                                        fom_cost        7.203713e+08\n",
       "                                        fuel_cost       6.500155e+10\n",
       "          Gas furnace                   annuity_cost    1.562089e+10\n",
       "                                        fom_cost        3.572141e+09\n",
       "                                                            ...     \n",
       "Rapid+    Oil furnace                   fom_cost        1.062797e+08\n",
       "                                        fuel_cost       9.886226e+09\n",
       "          Wood or wood pellets furnace  annuity_cost    2.516393e+08\n",
       "                                        fom_cost        9.749499e+07\n",
       "                                        fuel_cost       7.021106e+09\n",
       "Name: value, Length: 75, dtype: float64"
      ]
     },
     "execution_count": 227,
     "metadata": {},
     "output_type": "execute_result"
    }
   ],
   "source": [
    "abm_cost_comps.groupby([\"scenario\",\"Appliance name\",\"variable\"])[\"value\"].mean()"
   ]
  },
  {
   "cell_type": "code",
   "execution_count": 238,
   "id": "01J2EY9BP5B4N7GB1T0AVAS06X",
   "metadata": {},
   "outputs": [
    {
     "data": {
      "application/vnd.plotly.v1+json": {
       "config": {
        "plotlyServerURL": "https://plot.ly"
       },
       "data": [
        {
         "alignmentgroup": "True",
         "hovertemplate": "Appliance name=Electric furnace<br>variable=annuity_cost<br>scenario=%{x}<br>value=%{y}<extra></extra>",
         "legendgroup": "Electric furnace, annuity_cost",
         "marker": {
          "color": "#636efa",
          "pattern": {
           "shape": ""
          }
         },
         "name": "Electric furnace, annuity_cost",
         "offsetgroup": "Electric furnace, annuity_cost",
         "orientation": "v",
         "showlegend": true,
         "textposition": "auto",
         "type": "bar",
         "x": [
          "BAU",
          "CER",
          "CER+",
          "Rapid",
          "Rapid+"
         ],
         "xaxis": "x",
         "y": [
          1821408106.4783096,
          1727427845.5448496,
          1708783677.0327442,
          1790457046.7596042,
          1890855179.9600124
         ],
         "yaxis": "y"
        },
        {
         "alignmentgroup": "True",
         "hovertemplate": "Appliance name=Electric furnace<br>variable=fom_cost<br>scenario=%{x}<br>value=%{y}<extra></extra>",
         "legendgroup": "Electric furnace, fom_cost",
         "marker": {
          "color": "#636efa",
          "pattern": {
           "shape": "/"
          }
         },
         "name": "Electric furnace, fom_cost",
         "offsetgroup": "Electric furnace, fom_cost",
         "orientation": "v",
         "showlegend": true,
         "textposition": "auto",
         "type": "bar",
         "x": [
          "BAU",
          "CER",
          "CER+",
          "Rapid",
          "Rapid+"
         ],
         "xaxis": "x",
         "y": [
          720371261.3549552,
          665896452.7555794,
          659448854.0069379,
          655906732.2983165,
          698798960.5159098
         ],
         "yaxis": "y"
        },
        {
         "alignmentgroup": "True",
         "hovertemplate": "Appliance name=Electric furnace<br>variable=fuel_cost<br>scenario=%{x}<br>value=%{y}<extra></extra>",
         "legendgroup": "Electric furnace, fuel_cost",
         "marker": {
          "color": "#636efa",
          "pattern": {
           "shape": "\\"
          }
         },
         "name": "Electric furnace, fuel_cost",
         "offsetgroup": "Electric furnace, fuel_cost",
         "orientation": "v",
         "showlegend": true,
         "textposition": "auto",
         "type": "bar",
         "x": [
          "BAU",
          "CER",
          "CER+",
          "Rapid",
          "Rapid+"
         ],
         "xaxis": "x",
         "y": [
          65001545305.94868,
          62311261786.229126,
          62292190996.404015,
          58800877197.88263,
          59118082334.0604
         ],
         "yaxis": "y"
        },
        {
         "alignmentgroup": "True",
         "hovertemplate": "Appliance name=Gas furnace<br>variable=annuity_cost<br>scenario=%{x}<br>value=%{y}<extra></extra>",
         "legendgroup": "Gas furnace, annuity_cost",
         "marker": {
          "color": "#EF553B",
          "pattern": {
           "shape": ""
          }
         },
         "name": "Gas furnace, annuity_cost",
         "offsetgroup": "Gas furnace, annuity_cost",
         "orientation": "v",
         "showlegend": true,
         "textposition": "auto",
         "type": "bar",
         "x": [
          "BAU",
          "CER",
          "CER+",
          "Rapid",
          "Rapid+"
         ],
         "xaxis": "x",
         "y": [
          15620888872.572266,
          14762445954.687033,
          14701548370.01422,
          14668633240.144556,
          14802124356.836273
         ],
         "yaxis": "y"
        },
        {
         "alignmentgroup": "True",
         "hovertemplate": "Appliance name=Gas furnace<br>variable=fom_cost<br>scenario=%{x}<br>value=%{y}<extra></extra>",
         "legendgroup": "Gas furnace, fom_cost",
         "marker": {
          "color": "#EF553B",
          "pattern": {
           "shape": "/"
          }
         },
         "name": "Gas furnace, fom_cost",
         "offsetgroup": "Gas furnace, fom_cost",
         "orientation": "v",
         "showlegend": true,
         "textposition": "auto",
         "type": "bar",
         "x": [
          "BAU",
          "CER",
          "CER+",
          "Rapid",
          "Rapid+"
         ],
         "xaxis": "x",
         "y": [
          3572141039.7778707,
          3385628569.608605,
          3372331865.2896075,
          3453444387.013699,
          3494464537.1860414
         ],
         "yaxis": "y"
        },
        {
         "alignmentgroup": "True",
         "hovertemplate": "Appliance name=Gas furnace<br>variable=fuel_cost<br>scenario=%{x}<br>value=%{y}<extra></extra>",
         "legendgroup": "Gas furnace, fuel_cost",
         "marker": {
          "color": "#EF553B",
          "pattern": {
           "shape": "\\"
          }
         },
         "name": "Gas furnace, fuel_cost",
         "offsetgroup": "Gas furnace, fuel_cost",
         "orientation": "v",
         "showlegend": true,
         "textposition": "auto",
         "type": "bar",
         "x": [
          "BAU",
          "CER",
          "CER+",
          "Rapid",
          "Rapid+"
         ],
         "xaxis": "x",
         "y": [
          109895518627.43866,
          110618532591.75783,
          111106546032.81395,
          104610379703.5592,
          103457297374.73528
         ],
         "yaxis": "y"
        },
        {
         "alignmentgroup": "True",
         "hovertemplate": "Appliance name=Heat pump<br>variable=annuity_cost<br>scenario=%{x}<br>value=%{y}<extra></extra>",
         "legendgroup": "Heat pump, annuity_cost",
         "marker": {
          "color": "#00cc96",
          "pattern": {
           "shape": ""
          }
         },
         "name": "Heat pump, annuity_cost",
         "offsetgroup": "Heat pump, annuity_cost",
         "orientation": "v",
         "showlegend": true,
         "textposition": "auto",
         "type": "bar",
         "x": [
          "BAU",
          "CER",
          "CER+",
          "Rapid",
          "Rapid+"
         ],
         "xaxis": "x",
         "y": [
          7523177881.148411,
          5946542237.35505,
          5766795086.507033,
          4644064520.602992,
          4547396824.2389345
         ],
         "yaxis": "y"
        },
        {
         "alignmentgroup": "True",
         "hovertemplate": "Appliance name=Heat pump<br>variable=fom_cost<br>scenario=%{x}<br>value=%{y}<extra></extra>",
         "legendgroup": "Heat pump, fom_cost",
         "marker": {
          "color": "#00cc96",
          "pattern": {
           "shape": "/"
          }
         },
         "name": "Heat pump, fom_cost",
         "offsetgroup": "Heat pump, fom_cost",
         "orientation": "v",
         "showlegend": true,
         "textposition": "auto",
         "type": "bar",
         "x": [
          "BAU",
          "CER",
          "CER+",
          "Rapid",
          "Rapid+"
         ],
         "xaxis": "x",
         "y": [
          1710561541.3484075,
          1584526869.4708748,
          1526873091.8449533,
          1479757336.9816158,
          1449670663.2039137
         ],
         "yaxis": "y"
        },
        {
         "alignmentgroup": "True",
         "hovertemplate": "Appliance name=Heat pump<br>variable=fuel_cost<br>scenario=%{x}<br>value=%{y}<extra></extra>",
         "legendgroup": "Heat pump, fuel_cost",
         "marker": {
          "color": "#00cc96",
          "pattern": {
           "shape": "\\"
          }
         },
         "name": "Heat pump, fuel_cost",
         "offsetgroup": "Heat pump, fuel_cost",
         "orientation": "v",
         "showlegend": true,
         "textposition": "auto",
         "type": "bar",
         "x": [
          "BAU",
          "CER",
          "CER+",
          "Rapid",
          "Rapid+"
         ],
         "xaxis": "x",
         "y": [
          7345721893.8607855,
          7515215217.95163,
          7292066076.880226,
          7000087672.474797,
          6712061652.723801
         ],
         "yaxis": "y"
        },
        {
         "alignmentgroup": "True",
         "hovertemplate": "Appliance name=Oil furnace<br>variable=annuity_cost<br>scenario=%{x}<br>value=%{y}<extra></extra>",
         "legendgroup": "Oil furnace, annuity_cost",
         "marker": {
          "color": "#ab63fa",
          "pattern": {
           "shape": ""
          }
         },
         "name": "Oil furnace, annuity_cost",
         "offsetgroup": "Oil furnace, annuity_cost",
         "orientation": "v",
         "showlegend": true,
         "textposition": "auto",
         "type": "bar",
         "x": [
          "BAU",
          "CER",
          "CER+",
          "Rapid",
          "Rapid+"
         ],
         "xaxis": "x",
         "y": [
          540960757.8868036,
          483074578.6927097,
          516829148.0549076,
          485669760.00622416,
          499358281.23244715
         ],
         "yaxis": "y"
        },
        {
         "alignmentgroup": "True",
         "hovertemplate": "Appliance name=Oil furnace<br>variable=fom_cost<br>scenario=%{x}<br>value=%{y}<extra></extra>",
         "legendgroup": "Oil furnace, fom_cost",
         "marker": {
          "color": "#ab63fa",
          "pattern": {
           "shape": "/"
          }
         },
         "name": "Oil furnace, fom_cost",
         "offsetgroup": "Oil furnace, fom_cost",
         "orientation": "v",
         "showlegend": true,
         "textposition": "auto",
         "type": "bar",
         "x": [
          "BAU",
          "CER",
          "CER+",
          "Rapid",
          "Rapid+"
         ],
         "xaxis": "x",
         "y": [
          106726512.78867655,
          96322996.41657569,
          104162237.35693325,
          103831955.03477834,
          106279719.28551753
         ],
         "yaxis": "y"
        },
        {
         "alignmentgroup": "True",
         "hovertemplate": "Appliance name=Oil furnace<br>variable=fuel_cost<br>scenario=%{x}<br>value=%{y}<extra></extra>",
         "legendgroup": "Oil furnace, fuel_cost",
         "marker": {
          "color": "#ab63fa",
          "pattern": {
           "shape": "\\"
          }
         },
         "name": "Oil furnace, fuel_cost",
         "offsetgroup": "Oil furnace, fuel_cost",
         "orientation": "v",
         "showlegend": true,
         "textposition": "auto",
         "type": "bar",
         "x": [
          "BAU",
          "CER",
          "CER+",
          "Rapid",
          "Rapid+"
         ],
         "xaxis": "x",
         "y": [
          10600339334.85549,
          10023799784.690592,
          10054064710.418165,
          9276987632.192106,
          9886226328.098528
         ],
         "yaxis": "y"
        },
        {
         "alignmentgroup": "True",
         "hovertemplate": "Appliance name=Wood or wood pellets furnace<br>variable=annuity_cost<br>scenario=%{x}<br>value=%{y}<extra></extra>",
         "legendgroup": "Wood or wood pellets furnace, annuity_cost",
         "marker": {
          "color": "#FFA15A",
          "pattern": {
           "shape": ""
          }
         },
         "name": "Wood or wood pellets furnace, annuity_cost",
         "offsetgroup": "Wood or wood pellets furnace, annuity_cost",
         "orientation": "v",
         "showlegend": true,
         "textposition": "auto",
         "type": "bar",
         "x": [
          "BAU",
          "CER",
          "CER+",
          "Rapid",
          "Rapid+"
         ],
         "xaxis": "x",
         "y": [
          306257049.80476147,
          284844707.905456,
          271324869.5630541,
          273686440.5980757,
          251639327.83291456
         ],
         "yaxis": "y"
        },
        {
         "alignmentgroup": "True",
         "hovertemplate": "Appliance name=Wood or wood pellets furnace<br>variable=fom_cost<br>scenario=%{x}<br>value=%{y}<extra></extra>",
         "legendgroup": "Wood or wood pellets furnace, fom_cost",
         "marker": {
          "color": "#FFA15A",
          "pattern": {
           "shape": "/"
          }
         },
         "name": "Wood or wood pellets furnace, fom_cost",
         "offsetgroup": "Wood or wood pellets furnace, fom_cost",
         "orientation": "v",
         "showlegend": true,
         "textposition": "auto",
         "type": "bar",
         "x": [
          "BAU",
          "CER",
          "CER+",
          "Rapid",
          "Rapid+"
         ],
         "xaxis": "x",
         "y": [
          118435714.52125902,
          102120507.57497518,
          97770391.50991948,
          99318336.94927193,
          97494990.87526424
         ],
         "yaxis": "y"
        },
        {
         "alignmentgroup": "True",
         "hovertemplate": "Appliance name=Wood or wood pellets furnace<br>variable=fuel_cost<br>scenario=%{x}<br>value=%{y}<extra></extra>",
         "legendgroup": "Wood or wood pellets furnace, fuel_cost",
         "marker": {
          "color": "#FFA15A",
          "pattern": {
           "shape": "\\"
          }
         },
         "name": "Wood or wood pellets furnace, fuel_cost",
         "offsetgroup": "Wood or wood pellets furnace, fuel_cost",
         "orientation": "v",
         "showlegend": true,
         "textposition": "auto",
         "type": "bar",
         "x": [
          "BAU",
          "CER",
          "CER+",
          "Rapid",
          "Rapid+"
         ],
         "xaxis": "x",
         "y": [
          8631710694.981802,
          7925241872.770785,
          8015768897.846745,
          7937170004.925975,
          7021106098.394969
         ],
         "yaxis": "y"
        }
       ],
       "layout": {
        "barmode": "relative",
        "legend": {
         "title": {
          "text": "Appliance name, variable"
         },
         "tracegroupgap": 0
        },
        "margin": {
         "t": 60
        },
        "template": {
         "data": {
          "bar": [
           {
            "error_x": {
             "color": "#2a3f5f"
            },
            "error_y": {
             "color": "#2a3f5f"
            },
            "marker": {
             "line": {
              "color": "#E5ECF6",
              "width": 0.5
             },
             "pattern": {
              "fillmode": "overlay",
              "size": 10,
              "solidity": 0.2
             }
            },
            "type": "bar"
           }
          ],
          "barpolar": [
           {
            "marker": {
             "line": {
              "color": "#E5ECF6",
              "width": 0.5
             },
             "pattern": {
              "fillmode": "overlay",
              "size": 10,
              "solidity": 0.2
             }
            },
            "type": "barpolar"
           }
          ],
          "carpet": [
           {
            "aaxis": {
             "endlinecolor": "#2a3f5f",
             "gridcolor": "white",
             "linecolor": "white",
             "minorgridcolor": "white",
             "startlinecolor": "#2a3f5f"
            },
            "baxis": {
             "endlinecolor": "#2a3f5f",
             "gridcolor": "white",
             "linecolor": "white",
             "minorgridcolor": "white",
             "startlinecolor": "#2a3f5f"
            },
            "type": "carpet"
           }
          ],
          "choropleth": [
           {
            "colorbar": {
             "outlinewidth": 0,
             "ticks": ""
            },
            "type": "choropleth"
           }
          ],
          "contour": [
           {
            "colorbar": {
             "outlinewidth": 0,
             "ticks": ""
            },
            "colorscale": [
             [
              0,
              "#0d0887"
             ],
             [
              0.1111111111111111,
              "#46039f"
             ],
             [
              0.2222222222222222,
              "#7201a8"
             ],
             [
              0.3333333333333333,
              "#9c179e"
             ],
             [
              0.4444444444444444,
              "#bd3786"
             ],
             [
              0.5555555555555556,
              "#d8576b"
             ],
             [
              0.6666666666666666,
              "#ed7953"
             ],
             [
              0.7777777777777778,
              "#fb9f3a"
             ],
             [
              0.8888888888888888,
              "#fdca26"
             ],
             [
              1,
              "#f0f921"
             ]
            ],
            "type": "contour"
           }
          ],
          "contourcarpet": [
           {
            "colorbar": {
             "outlinewidth": 0,
             "ticks": ""
            },
            "type": "contourcarpet"
           }
          ],
          "heatmap": [
           {
            "colorbar": {
             "outlinewidth": 0,
             "ticks": ""
            },
            "colorscale": [
             [
              0,
              "#0d0887"
             ],
             [
              0.1111111111111111,
              "#46039f"
             ],
             [
              0.2222222222222222,
              "#7201a8"
             ],
             [
              0.3333333333333333,
              "#9c179e"
             ],
             [
              0.4444444444444444,
              "#bd3786"
             ],
             [
              0.5555555555555556,
              "#d8576b"
             ],
             [
              0.6666666666666666,
              "#ed7953"
             ],
             [
              0.7777777777777778,
              "#fb9f3a"
             ],
             [
              0.8888888888888888,
              "#fdca26"
             ],
             [
              1,
              "#f0f921"
             ]
            ],
            "type": "heatmap"
           }
          ],
          "heatmapgl": [
           {
            "colorbar": {
             "outlinewidth": 0,
             "ticks": ""
            },
            "colorscale": [
             [
              0,
              "#0d0887"
             ],
             [
              0.1111111111111111,
              "#46039f"
             ],
             [
              0.2222222222222222,
              "#7201a8"
             ],
             [
              0.3333333333333333,
              "#9c179e"
             ],
             [
              0.4444444444444444,
              "#bd3786"
             ],
             [
              0.5555555555555556,
              "#d8576b"
             ],
             [
              0.6666666666666666,
              "#ed7953"
             ],
             [
              0.7777777777777778,
              "#fb9f3a"
             ],
             [
              0.8888888888888888,
              "#fdca26"
             ],
             [
              1,
              "#f0f921"
             ]
            ],
            "type": "heatmapgl"
           }
          ],
          "histogram": [
           {
            "marker": {
             "pattern": {
              "fillmode": "overlay",
              "size": 10,
              "solidity": 0.2
             }
            },
            "type": "histogram"
           }
          ],
          "histogram2d": [
           {
            "colorbar": {
             "outlinewidth": 0,
             "ticks": ""
            },
            "colorscale": [
             [
              0,
              "#0d0887"
             ],
             [
              0.1111111111111111,
              "#46039f"
             ],
             [
              0.2222222222222222,
              "#7201a8"
             ],
             [
              0.3333333333333333,
              "#9c179e"
             ],
             [
              0.4444444444444444,
              "#bd3786"
             ],
             [
              0.5555555555555556,
              "#d8576b"
             ],
             [
              0.6666666666666666,
              "#ed7953"
             ],
             [
              0.7777777777777778,
              "#fb9f3a"
             ],
             [
              0.8888888888888888,
              "#fdca26"
             ],
             [
              1,
              "#f0f921"
             ]
            ],
            "type": "histogram2d"
           }
          ],
          "histogram2dcontour": [
           {
            "colorbar": {
             "outlinewidth": 0,
             "ticks": ""
            },
            "colorscale": [
             [
              0,
              "#0d0887"
             ],
             [
              0.1111111111111111,
              "#46039f"
             ],
             [
              0.2222222222222222,
              "#7201a8"
             ],
             [
              0.3333333333333333,
              "#9c179e"
             ],
             [
              0.4444444444444444,
              "#bd3786"
             ],
             [
              0.5555555555555556,
              "#d8576b"
             ],
             [
              0.6666666666666666,
              "#ed7953"
             ],
             [
              0.7777777777777778,
              "#fb9f3a"
             ],
             [
              0.8888888888888888,
              "#fdca26"
             ],
             [
              1,
              "#f0f921"
             ]
            ],
            "type": "histogram2dcontour"
           }
          ],
          "mesh3d": [
           {
            "colorbar": {
             "outlinewidth": 0,
             "ticks": ""
            },
            "type": "mesh3d"
           }
          ],
          "parcoords": [
           {
            "line": {
             "colorbar": {
              "outlinewidth": 0,
              "ticks": ""
             }
            },
            "type": "parcoords"
           }
          ],
          "pie": [
           {
            "automargin": true,
            "type": "pie"
           }
          ],
          "scatter": [
           {
            "fillpattern": {
             "fillmode": "overlay",
             "size": 10,
             "solidity": 0.2
            },
            "type": "scatter"
           }
          ],
          "scatter3d": [
           {
            "line": {
             "colorbar": {
              "outlinewidth": 0,
              "ticks": ""
             }
            },
            "marker": {
             "colorbar": {
              "outlinewidth": 0,
              "ticks": ""
             }
            },
            "type": "scatter3d"
           }
          ],
          "scattercarpet": [
           {
            "marker": {
             "colorbar": {
              "outlinewidth": 0,
              "ticks": ""
             }
            },
            "type": "scattercarpet"
           }
          ],
          "scattergeo": [
           {
            "marker": {
             "colorbar": {
              "outlinewidth": 0,
              "ticks": ""
             }
            },
            "type": "scattergeo"
           }
          ],
          "scattergl": [
           {
            "marker": {
             "colorbar": {
              "outlinewidth": 0,
              "ticks": ""
             }
            },
            "type": "scattergl"
           }
          ],
          "scattermapbox": [
           {
            "marker": {
             "colorbar": {
              "outlinewidth": 0,
              "ticks": ""
             }
            },
            "type": "scattermapbox"
           }
          ],
          "scatterpolar": [
           {
            "marker": {
             "colorbar": {
              "outlinewidth": 0,
              "ticks": ""
             }
            },
            "type": "scatterpolar"
           }
          ],
          "scatterpolargl": [
           {
            "marker": {
             "colorbar": {
              "outlinewidth": 0,
              "ticks": ""
             }
            },
            "type": "scatterpolargl"
           }
          ],
          "scatterternary": [
           {
            "marker": {
             "colorbar": {
              "outlinewidth": 0,
              "ticks": ""
             }
            },
            "type": "scatterternary"
           }
          ],
          "surface": [
           {
            "colorbar": {
             "outlinewidth": 0,
             "ticks": ""
            },
            "colorscale": [
             [
              0,
              "#0d0887"
             ],
             [
              0.1111111111111111,
              "#46039f"
             ],
             [
              0.2222222222222222,
              "#7201a8"
             ],
             [
              0.3333333333333333,
              "#9c179e"
             ],
             [
              0.4444444444444444,
              "#bd3786"
             ],
             [
              0.5555555555555556,
              "#d8576b"
             ],
             [
              0.6666666666666666,
              "#ed7953"
             ],
             [
              0.7777777777777778,
              "#fb9f3a"
             ],
             [
              0.8888888888888888,
              "#fdca26"
             ],
             [
              1,
              "#f0f921"
             ]
            ],
            "type": "surface"
           }
          ],
          "table": [
           {
            "cells": {
             "fill": {
              "color": "#EBF0F8"
             },
             "line": {
              "color": "white"
             }
            },
            "header": {
             "fill": {
              "color": "#C8D4E3"
             },
             "line": {
              "color": "white"
             }
            },
            "type": "table"
           }
          ]
         },
         "layout": {
          "annotationdefaults": {
           "arrowcolor": "#2a3f5f",
           "arrowhead": 0,
           "arrowwidth": 1
          },
          "autotypenumbers": "strict",
          "coloraxis": {
           "colorbar": {
            "outlinewidth": 0,
            "ticks": ""
           }
          },
          "colorscale": {
           "diverging": [
            [
             0,
             "#8e0152"
            ],
            [
             0.1,
             "#c51b7d"
            ],
            [
             0.2,
             "#de77ae"
            ],
            [
             0.3,
             "#f1b6da"
            ],
            [
             0.4,
             "#fde0ef"
            ],
            [
             0.5,
             "#f7f7f7"
            ],
            [
             0.6,
             "#e6f5d0"
            ],
            [
             0.7,
             "#b8e186"
            ],
            [
             0.8,
             "#7fbc41"
            ],
            [
             0.9,
             "#4d9221"
            ],
            [
             1,
             "#276419"
            ]
           ],
           "sequential": [
            [
             0,
             "#0d0887"
            ],
            [
             0.1111111111111111,
             "#46039f"
            ],
            [
             0.2222222222222222,
             "#7201a8"
            ],
            [
             0.3333333333333333,
             "#9c179e"
            ],
            [
             0.4444444444444444,
             "#bd3786"
            ],
            [
             0.5555555555555556,
             "#d8576b"
            ],
            [
             0.6666666666666666,
             "#ed7953"
            ],
            [
             0.7777777777777778,
             "#fb9f3a"
            ],
            [
             0.8888888888888888,
             "#fdca26"
            ],
            [
             1,
             "#f0f921"
            ]
           ],
           "sequentialminus": [
            [
             0,
             "#0d0887"
            ],
            [
             0.1111111111111111,
             "#46039f"
            ],
            [
             0.2222222222222222,
             "#7201a8"
            ],
            [
             0.3333333333333333,
             "#9c179e"
            ],
            [
             0.4444444444444444,
             "#bd3786"
            ],
            [
             0.5555555555555556,
             "#d8576b"
            ],
            [
             0.6666666666666666,
             "#ed7953"
            ],
            [
             0.7777777777777778,
             "#fb9f3a"
            ],
            [
             0.8888888888888888,
             "#fdca26"
            ],
            [
             1,
             "#f0f921"
            ]
           ]
          },
          "colorway": [
           "#636efa",
           "#EF553B",
           "#00cc96",
           "#ab63fa",
           "#FFA15A",
           "#19d3f3",
           "#FF6692",
           "#B6E880",
           "#FF97FF",
           "#FECB52"
          ],
          "font": {
           "color": "#2a3f5f"
          },
          "geo": {
           "bgcolor": "white",
           "lakecolor": "white",
           "landcolor": "#E5ECF6",
           "showlakes": true,
           "showland": true,
           "subunitcolor": "white"
          },
          "hoverlabel": {
           "align": "left"
          },
          "hovermode": "closest",
          "mapbox": {
           "style": "light"
          },
          "paper_bgcolor": "white",
          "plot_bgcolor": "#E5ECF6",
          "polar": {
           "angularaxis": {
            "gridcolor": "white",
            "linecolor": "white",
            "ticks": ""
           },
           "bgcolor": "#E5ECF6",
           "radialaxis": {
            "gridcolor": "white",
            "linecolor": "white",
            "ticks": ""
           }
          },
          "scene": {
           "xaxis": {
            "backgroundcolor": "#E5ECF6",
            "gridcolor": "white",
            "gridwidth": 2,
            "linecolor": "white",
            "showbackground": true,
            "ticks": "",
            "zerolinecolor": "white"
           },
           "yaxis": {
            "backgroundcolor": "#E5ECF6",
            "gridcolor": "white",
            "gridwidth": 2,
            "linecolor": "white",
            "showbackground": true,
            "ticks": "",
            "zerolinecolor": "white"
           },
           "zaxis": {
            "backgroundcolor": "#E5ECF6",
            "gridcolor": "white",
            "gridwidth": 2,
            "linecolor": "white",
            "showbackground": true,
            "ticks": "",
            "zerolinecolor": "white"
           }
          },
          "shapedefaults": {
           "line": {
            "color": "#2a3f5f"
           }
          },
          "ternary": {
           "aaxis": {
            "gridcolor": "white",
            "linecolor": "white",
            "ticks": ""
           },
           "baxis": {
            "gridcolor": "white",
            "linecolor": "white",
            "ticks": ""
           },
           "bgcolor": "#E5ECF6",
           "caxis": {
            "gridcolor": "white",
            "linecolor": "white",
            "ticks": ""
           }
          },
          "title": {
           "x": 0.05
          },
          "xaxis": {
           "automargin": true,
           "gridcolor": "white",
           "linecolor": "white",
           "ticks": "",
           "title": {
            "standoff": 15
           },
           "zerolinecolor": "white",
           "zerolinewidth": 2
          },
          "yaxis": {
           "automargin": true,
           "gridcolor": "white",
           "linecolor": "white",
           "ticks": "",
           "title": {
            "standoff": 15
           },
           "zerolinecolor": "white",
           "zerolinewidth": 2
          }
         }
        },
        "xaxis": {
         "anchor": "y",
         "domain": [
          0,
          1
         ],
         "title": {
          "text": "scenario"
         }
        },
        "yaxis": {
         "anchor": "x",
         "domain": [
          0,
          1
         ],
         "title": {
          "text": "value"
         }
        }
       }
      }
     },
     "metadata": {},
     "output_type": "display_data"
    }
   ],
   "source": [
    "\n",
    "px.bar(abm_cost_comps.groupby([\"scenario\",\"Appliance name\",\"variable\"])[\"value\"].mean().reset_index(), x=\"scenario\", y=\"value\", color=\"Appliance name\", pattern_shape=\"variable\", template=\"plotly\")"
   ]
  },
  {
   "cell_type": "code",
   "execution_count": 244,
   "id": "01J2F00S99BAV3N41WF7J84SK9",
   "metadata": {},
   "outputs": [
    {
     "data": {
      "text/plain": [
       "RunId  scenario\n",
       "0      BAU         9.310791e+10\n",
       "       CER         8.507303e+10\n",
       "       CER+        8.228435e+10\n",
       "       Rapid       2.353109e+10\n",
       "       Rapid+      2.362630e+10\n",
       "1      BAU         9.145592e+10\n",
       "       CER         8.382864e+10\n",
       "       CER+        9.141561e+10\n",
       "       Rapid       2.326848e+10\n",
       "       Rapid+      2.347034e+10\n",
       "2      BAU         9.109829e+10\n",
       "       CER         8.149523e+10\n",
       "       CER+        8.722655e+10\n",
       "       Rapid       2.826012e+10\n",
       "       Rapid+      3.095419e+10\n",
       "3      BAU         8.432253e+10\n",
       "       CER         8.098983e+10\n",
       "       CER+        8.519801e+10\n",
       "       Rapid       2.881002e+10\n",
       "       Rapid+      2.042261e+10\n",
       "4      BAU         9.151488e+10\n",
       "       CER         8.213176e+10\n",
       "       CER+        9.122619e+10\n",
       "       Rapid       3.148722e+10\n",
       "       Rapid+      2.025966e+10\n",
       "5      BAU         7.961707e+10\n",
       "       CER         8.161935e+10\n",
       "       CER+        8.359403e+10\n",
       "       Rapid       2.716849e+10\n",
       "       Rapid+      1.842226e+10\n",
       "dtype: float64"
      ]
     },
     "execution_count": 244,
     "metadata": {},
     "output_type": "execute_result"
    }
   ],
   "source": [
    "abm_agg_costs.set_index(\"scenario\",append=True)[\"agg. annual costs\"]-abm_cost_comps.groupby([\"RunId\",\"scenario\"])[\"value\"].sum()"
   ]
  },
  {
   "cell_type": "code",
   "execution_count": 41,
   "id": "01HXV6F17B7HK523E81259NP39",
   "metadata": {},
   "outputs": [],
   "source": [
    "# n_years = 2050-2020\n",
    "# no_households = 5.169*1e6\n",
    "\n",
    "# # annuity payments\n",
    "# avg_appliance_size = 10 # kW\n",
    "# avg_spec_cost = 356.74 # CAD/kW #pd.read_csv(\"abetam/data/canada/heat_tech_params.csv\", index_col=[0,1]).swaplevel().loc[\"specific_cost\",:].mean().mean()\n",
    "# annuity_factor = 0.07/(1-(1+0.07)**(-20)) # ~0.09\n",
    "# annuity_payment_sum = no_households * avg_appliance_size * avg_spec_cost * annuity_factor * n_years\n",
    "\n",
    "# # vom costs\n",
    "# avg_heating_demand = 20000 # kWh/a\n",
    "# avg_efficiency =  1.27 #pd.read_csv(\"abetam/data/canada/heat_tech_params.csv\", index_col=[0,1]).swaplevel().loc[\"efficiency\",:].mean().mean()\n",
    "# avg_fuel_cost = 0.157 # CAD/kWh pd.read_csv(\"abetam/data/canada/residential_GNZ_end-use-prices-2023_ct_per_kWh.csv\").query(\"GEO=='Ontario'\")[\"Price (ct/kWh)\"].mean()\n",
    "# vom_cost_sum = no_households * avg_heating_demand / avg_efficiency * avg_fuel_cost * n_years\n",
    "\n",
    "# # fom costs\n",
    "# fom_cost_sum = no_households * avg_appliance_size * avg_spec_cost * 0.01 * n_years\n",
    "\n",
    "# df = pd.DataFrame({\n",
    "#     \"annuity_payments\":annuity_payment_sum,\n",
    "#     \"vom_costs\":vom_cost_sum,\n",
    "#     \"fom_costs\":fom_cost_sum\n",
    "#     }, index=[0])\n",
    "\n",
    "# px.bar(df, template=\"plotly\",width=300)"
   ]
  },
  {
   "cell_type": "markdown",
   "metadata": {},
   "source": [
    "## ABM: LCOH"
   ]
  },
  {
   "cell_type": "code",
   "execution_count": 42,
   "metadata": {},
   "outputs": [
    {
     "data": {
      "text/html": [
       "<div>\n",
       "<style scoped>\n",
       "    .dataframe tbody tr th:only-of-type {\n",
       "        vertical-align: middle;\n",
       "    }\n",
       "\n",
       "    .dataframe tbody tr th {\n",
       "        vertical-align: top;\n",
       "    }\n",
       "\n",
       "    .dataframe thead th {\n",
       "        text-align: right;\n",
       "    }\n",
       "</style>\n",
       "<table border=\"1\" class=\"dataframe\">\n",
       "  <thead>\n",
       "    <tr style=\"text-align: right;\">\n",
       "      <th></th>\n",
       "      <th>scenario</th>\n",
       "      <th>BAU</th>\n",
       "      <th>CER</th>\n",
       "      <th>CER+</th>\n",
       "      <th>Rapid</th>\n",
       "      <th>Rapid+</th>\n",
       "    </tr>\n",
       "    <tr>\n",
       "      <th>year</th>\n",
       "      <th>variable</th>\n",
       "      <th></th>\n",
       "      <th></th>\n",
       "      <th></th>\n",
       "      <th></th>\n",
       "      <th></th>\n",
       "    </tr>\n",
       "  </thead>\n",
       "  <tbody>\n",
       "    <tr>\n",
       "      <th>2020.00</th>\n",
       "      <th>Heat pump</th>\n",
       "      <td>0.063750</td>\n",
       "      <td>0.056667</td>\n",
       "      <td>0.056667</td>\n",
       "      <td>0.054000</td>\n",
       "      <td>0.054000</td>\n",
       "    </tr>\n",
       "    <tr>\n",
       "      <th>2020.25</th>\n",
       "      <th>Heat pump</th>\n",
       "      <td>0.063750</td>\n",
       "      <td>0.060000</td>\n",
       "      <td>0.060000</td>\n",
       "      <td>0.058400</td>\n",
       "      <td>0.057692</td>\n",
       "    </tr>\n",
       "    <tr>\n",
       "      <th>2020.50</th>\n",
       "      <th>Heat pump</th>\n",
       "      <td>0.063750</td>\n",
       "      <td>0.060400</td>\n",
       "      <td>0.060000</td>\n",
       "      <td>0.058400</td>\n",
       "      <td>0.057692</td>\n",
       "    </tr>\n",
       "    <tr>\n",
       "      <th>2020.75</th>\n",
       "      <th>Heat pump</th>\n",
       "      <td>0.063750</td>\n",
       "      <td>0.060400</td>\n",
       "      <td>0.060000</td>\n",
       "      <td>0.058846</td>\n",
       "      <td>0.057692</td>\n",
       "    </tr>\n",
       "    <tr>\n",
       "      <th>2021.00</th>\n",
       "      <th>Heat pump</th>\n",
       "      <td>0.063333</td>\n",
       "      <td>0.060769</td>\n",
       "      <td>0.060000</td>\n",
       "      <td>0.057000</td>\n",
       "      <td>0.056552</td>\n",
       "    </tr>\n",
       "    <tr>\n",
       "      <th>...</th>\n",
       "      <th>...</th>\n",
       "      <td>...</td>\n",
       "      <td>...</td>\n",
       "      <td>...</td>\n",
       "      <td>...</td>\n",
       "      <td>...</td>\n",
       "    </tr>\n",
       "    <tr>\n",
       "      <th>2049.00</th>\n",
       "      <th>Heat pump</th>\n",
       "      <td>0.066000</td>\n",
       "      <td>0.061951</td>\n",
       "      <td>0.061429</td>\n",
       "      <td>0.061860</td>\n",
       "      <td>0.061429</td>\n",
       "    </tr>\n",
       "    <tr>\n",
       "      <th>2049.25</th>\n",
       "      <th>Heat pump</th>\n",
       "      <td>0.066000</td>\n",
       "      <td>0.061951</td>\n",
       "      <td>0.061429</td>\n",
       "      <td>0.061860</td>\n",
       "      <td>0.061429</td>\n",
       "    </tr>\n",
       "    <tr>\n",
       "      <th>2049.50</th>\n",
       "      <th>Heat pump</th>\n",
       "      <td>0.066000</td>\n",
       "      <td>0.061951</td>\n",
       "      <td>0.061429</td>\n",
       "      <td>0.061860</td>\n",
       "      <td>0.061429</td>\n",
       "    </tr>\n",
       "    <tr>\n",
       "      <th>2049.75</th>\n",
       "      <th>Heat pump</th>\n",
       "      <td>0.066000</td>\n",
       "      <td>0.061951</td>\n",
       "      <td>0.061429</td>\n",
       "      <td>0.061860</td>\n",
       "      <td>0.061429</td>\n",
       "    </tr>\n",
       "    <tr>\n",
       "      <th>2050.00</th>\n",
       "      <th>Heat pump</th>\n",
       "      <td>0.066000</td>\n",
       "      <td>0.061951</td>\n",
       "      <td>0.061429</td>\n",
       "      <td>0.061860</td>\n",
       "      <td>0.061429</td>\n",
       "    </tr>\n",
       "  </tbody>\n",
       "</table>\n",
       "<p>121 rows × 5 columns</p>\n",
       "</div>"
      ],
      "text/plain": [
       "scenario                BAU       CER      CER+     Rapid    Rapid+\n",
       "year    variable                                                   \n",
       "2020.00 Heat pump  0.063750  0.056667  0.056667  0.054000  0.054000\n",
       "2020.25 Heat pump  0.063750  0.060000  0.060000  0.058400  0.057692\n",
       "2020.50 Heat pump  0.063750  0.060400  0.060000  0.058400  0.057692\n",
       "2020.75 Heat pump  0.063750  0.060400  0.060000  0.058846  0.057692\n",
       "2021.00 Heat pump  0.063333  0.060769  0.060000  0.057000  0.056552\n",
       "...                     ...       ...       ...       ...       ...\n",
       "2049.00 Heat pump  0.066000  0.061951  0.061429  0.061860  0.061429\n",
       "2049.25 Heat pump  0.066000  0.061951  0.061429  0.061860  0.061429\n",
       "2049.50 Heat pump  0.066000  0.061951  0.061429  0.061860  0.061429\n",
       "2049.75 Heat pump  0.066000  0.061951  0.061429  0.061860  0.061429\n",
       "2050.00 Heat pump  0.066000  0.061951  0.061429  0.061860  0.061429\n",
       "\n",
       "[121 rows x 5 columns]"
      ]
     },
     "execution_count": 42,
     "metadata": {},
     "output_type": "execute_result"
    }
   ],
   "source": [
    "scenario_lcohs.pivot(columns=\"scenario\", index=[\"year\",\"variable\"], values=\"value\").query(\"variable=='Heat pump'\")"
   ]
  },
  {
   "cell_type": "code",
   "execution_count": 43,
   "metadata": {},
   "outputs": [
    {
     "data": {
      "application/vnd.plotly.v1+json": {
       "config": {
        "plotlyServerURL": "https://plot.ly"
       },
       "data": [
        {
         "hovertemplate": "variable=Electric furnace<br>scenario=BAU<br>year=%{x}<br>value=%{y}<extra></extra>",
         "legendgroup": "Electric furnace",
         "line": {
          "color": "#ae71c2",
          "dash": "solid"
         },
         "marker": {
          "symbol": "circle"
         },
         "mode": "lines",
         "name": "Electric furnace",
         "orientation": "v",
         "showlegend": true,
         "type": "scatter",
         "x": [
          2020,
          2020.25,
          2020.5,
          2020.75,
          2021,
          2021.25,
          2021.5,
          2021.75,
          2022,
          2022.25,
          2022.5,
          2022.75,
          2023,
          2023.25,
          2023.5,
          2023.75,
          2024,
          2024.25,
          2024.5,
          2024.75,
          2025,
          2025.25,
          2025.5,
          2025.75,
          2026,
          2026.25,
          2026.5,
          2026.75,
          2027,
          2027.25,
          2027.5,
          2027.75,
          2028,
          2028.25,
          2028.5,
          2028.75,
          2029,
          2029.25,
          2029.5,
          2029.75,
          2030,
          2030.25,
          2030.5,
          2030.75,
          2031,
          2031.25,
          2031.5,
          2031.75,
          2032,
          2032.25,
          2032.5,
          2032.75,
          2033,
          2033.25,
          2033.5,
          2033.75,
          2034,
          2034.25,
          2034.5,
          2034.75,
          2035,
          2035.25,
          2035.5,
          2035.75,
          2036,
          2036.25,
          2036.5,
          2036.75,
          2037,
          2037.25,
          2037.5,
          2037.75,
          2038,
          2038.25,
          2038.5,
          2038.75,
          2039,
          2039.25,
          2039.5,
          2039.75,
          2040,
          2040.25,
          2040.5,
          2040.75,
          2041,
          2041.25,
          2041.5,
          2041.75,
          2042,
          2042.25,
          2042.5,
          2042.75,
          2043,
          2043.25,
          2043.5,
          2043.75,
          2044,
          2044.25,
          2044.5,
          2044.75,
          2045,
          2045.25,
          2045.5,
          2045.75,
          2046,
          2046.25,
          2046.5,
          2046.75,
          2047,
          2047.25,
          2047.5,
          2047.75,
          2048,
          2048.25,
          2048.5,
          2048.75,
          2049,
          2049.25,
          2049.5,
          2049.75,
          2050
         ],
         "xaxis": "x",
         "y": [
          0.12,
          0.12,
          0.12,
          0.12,
          0.12666666666666668,
          0.13,
          0.13,
          0.13,
          0.138,
          0.14333333333333334,
          0.14333333333333334,
          0.14333333333333334,
          0.14333333333333334,
          0.14333333333333334,
          0.14333333333333334,
          0.14333333333333334,
          0.14333333333333334,
          0.14333333333333334,
          0.14333333333333334,
          0.14333333333333334,
          0.14333333333333334,
          0.14333333333333334,
          0.14333333333333334,
          0.14333333333333334,
          0.14333333333333334,
          0.14333333333333334,
          0.14333333333333334,
          0.14333333333333334,
          0.1457142857142857,
          0.1475,
          0.1475,
          0.1475,
          0.1475,
          0.1475,
          0.1475,
          0.1475,
          0.1475,
          0.1475,
          0.1475,
          0.1475,
          0.1475,
          0.1475,
          0.1475,
          0.1475,
          0.1475,
          0.1475,
          0.1475,
          0.1475,
          0.14777777777777779,
          0.14800000000000002,
          0.14800000000000002,
          0.14800000000000002,
          0.14800000000000002,
          0.14800000000000002,
          0.14800000000000002,
          0.14800000000000002,
          0.14800000000000002,
          0.14800000000000002,
          0.14800000000000002,
          0.14800000000000002,
          0.14800000000000002,
          0.14800000000000002,
          0.14800000000000002,
          0.14800000000000002,
          0.14800000000000002,
          0.14800000000000002,
          0.14800000000000002,
          0.14800000000000002,
          0.14800000000000002,
          0.14800000000000002,
          0.14800000000000002,
          0.14800000000000002,
          0.14800000000000002,
          0.14800000000000002,
          0.14800000000000002,
          0.14800000000000002,
          0.14800000000000002,
          0.14800000000000002,
          0.14800000000000002,
          0.14800000000000002,
          0.14800000000000002,
          0.14800000000000002,
          0.14800000000000002,
          0.14800000000000002,
          0.14800000000000002,
          0.14800000000000002,
          0.14800000000000002,
          0.14800000000000002,
          0.14800000000000002,
          0.14800000000000002,
          0.14800000000000002,
          0.14800000000000002,
          0.14800000000000002,
          0.14800000000000002,
          0.14800000000000002,
          0.14800000000000002,
          0.14800000000000002,
          0.14800000000000002,
          0.14800000000000002,
          0.14800000000000002,
          0.14800000000000002,
          0.14800000000000002,
          0.14800000000000002,
          0.14800000000000002,
          0.14800000000000002,
          0.14800000000000002,
          0.14800000000000002,
          0.14800000000000002,
          0.14800000000000002,
          0.14800000000000002,
          0.14800000000000002,
          0.14800000000000002,
          0.14800000000000002,
          0.14800000000000002,
          0.14800000000000002,
          0.14800000000000002,
          0.14800000000000002,
          0.14813559322033898,
          0.1482758620689655,
          0.1482758620689655,
          0.1482758620689655
         ],
         "yaxis": "y"
        },
        {
         "hovertemplate": "variable=Gas furnace<br>scenario=BAU<br>year=%{x}<br>value=%{y}<extra></extra>",
         "legendgroup": "Gas furnace",
         "line": {
          "color": "#757575",
          "dash": "solid"
         },
         "marker": {
          "symbol": "circle"
         },
         "mode": "lines",
         "name": "Gas furnace",
         "orientation": "v",
         "showlegend": true,
         "type": "scatter",
         "x": [
          2020,
          2020.25,
          2020.5,
          2020.75,
          2021,
          2021.25,
          2021.5,
          2021.75,
          2022,
          2022.25,
          2022.5,
          2022.75,
          2023,
          2023.25,
          2023.5,
          2023.75,
          2024,
          2024.25,
          2024.5,
          2024.75,
          2025,
          2025.25,
          2025.5,
          2025.75,
          2026,
          2026.25,
          2026.5,
          2026.75,
          2027,
          2027.25,
          2027.5,
          2027.75,
          2028,
          2028.25,
          2028.5,
          2028.75,
          2029,
          2029.25,
          2029.5,
          2029.75,
          2030,
          2030.25,
          2030.5,
          2030.75,
          2031,
          2031.25,
          2031.5,
          2031.75,
          2032,
          2032.25,
          2032.5,
          2032.75,
          2033,
          2033.25,
          2033.5,
          2033.75,
          2034,
          2034.25,
          2034.5,
          2034.75,
          2035,
          2035.25,
          2035.5,
          2035.75,
          2036,
          2036.25,
          2036.5,
          2036.75,
          2037,
          2037.25,
          2037.5,
          2037.75,
          2038,
          2038.25,
          2038.5,
          2038.75,
          2039,
          2039.25,
          2039.5,
          2039.75,
          2040,
          2040.25,
          2040.5,
          2040.75,
          2041,
          2041.25,
          2041.5,
          2041.75,
          2042,
          2042.25,
          2042.5,
          2042.75,
          2043,
          2043.25,
          2043.5,
          2043.75,
          2044,
          2044.25,
          2044.5,
          2044.75,
          2045,
          2045.25,
          2045.5,
          2045.75,
          2046,
          2046.25,
          2046.5,
          2046.75,
          2047,
          2047.25,
          2047.5,
          2047.75,
          2048,
          2048.25,
          2048.5,
          2048.75,
          2049,
          2049.25,
          2049.5,
          2049.75,
          2050
         ],
         "xaxis": "x",
         "y": [
          0.05000000000000001,
          0.05000000000000001,
          0.05000000000000001,
          0.05000000000000001,
          0.05333333333333333,
          0.055,
          0.055,
          0.055,
          0.060000000000000005,
          0.06333333333333334,
          0.06333333333333334,
          0.06333333333333334,
          0.06333333333333334,
          0.06333333333333334,
          0.06333333333333334,
          0.06333333333333334,
          0.06714285714285714,
          0.06999999999999999,
          0.06999999999999999,
          0.06999999999999999,
          0.07333333333333333,
          0.07600000000000001,
          0.07600000000000001,
          0.07600000000000001,
          0.07600000000000001,
          0.07600000000000001,
          0.07600000000000001,
          0.07600000000000001,
          0.07909090909090909,
          0.08166666666666667,
          0.08166666666666667,
          0.08166666666666667,
          0.08166666666666667,
          0.08166666666666667,
          0.08166666666666667,
          0.08166666666666667,
          0.0846153846153846,
          0.08714285714285715,
          0.08714285714285715,
          0.08714285714285715,
          0.08714285714285715,
          0.08714285714285715,
          0.08714285714285715,
          0.08714285714285715,
          0.09,
          0.09250000000000001,
          0.09250000000000001,
          0.09250000000000001,
          0.09250000000000001,
          0.09250000000000001,
          0.09250000000000001,
          0.09250000000000001,
          0.09529411764705883,
          0.09777777777777778,
          0.09777777777777778,
          0.09777777777777778,
          0.09777777777777778,
          0.09777777777777778,
          0.09777777777777778,
          0.09777777777777778,
          0.09777777777777778,
          0.09777777777777778,
          0.09777777777777778,
          0.09777777777777778,
          0.10052631578947369,
          0.103,
          0.103,
          0.103,
          0.103,
          0.103,
          0.103,
          0.103,
          0.10571428571428572,
          0.10818181818181817,
          0.10818181818181817,
          0.10818181818181818,
          0.10818181818181817,
          0.10818181818181817,
          0.10818181818181817,
          0.10818181818181817,
          0.10818181818181817,
          0.10818181818181818,
          0.10818181818181818,
          0.10818181818181818,
          0.1108695652173913,
          0.11333333333333334,
          0.11333333333333334,
          0.11333333333333334,
          0.11333333333333334,
          0.11333333333333334,
          0.11333333333333334,
          0.11333333333333334,
          0.11333333333333334,
          0.11333333333333334,
          0.11333333333333334,
          0.11333333333333334,
          0.11333333333333334,
          0.11333333333333334,
          0.11333333333333334,
          0.11333333333333334,
          0.11599999999999999,
          0.11846153846153847,
          0.11846153846153847,
          0.11846153846153847,
          0.11846153846153847,
          0.11846153846153847,
          0.11846153846153847,
          0.11846153846153847,
          0.11846153846153847,
          0.11846153846153847,
          0.11846153846153847,
          0.11846153846153847,
          0.11846153846153847,
          0.11846153846153847,
          0.11846153846153847,
          0.11846153846153847,
          0.12111111111111111,
          0.12395209580838323,
          0.12433734939759036,
          0.12433734939759036,
          0.12433734939759036
         ],
         "yaxis": "y"
        },
        {
         "hovertemplate": "variable=Heat pump<br>scenario=BAU<br>year=%{x}<br>value=%{y}<extra></extra>",
         "legendgroup": "Heat pump",
         "line": {
          "color": "#00ae00",
          "dash": "solid"
         },
         "marker": {
          "symbol": "circle"
         },
         "mode": "lines",
         "name": "Heat pump",
         "orientation": "v",
         "showlegend": true,
         "type": "scatter",
         "x": [
          2020,
          2020.25,
          2020.5,
          2020.75,
          2021,
          2021.25,
          2021.5,
          2021.75,
          2022,
          2022.25,
          2022.5,
          2022.75,
          2023,
          2023.25,
          2023.5,
          2023.75,
          2024,
          2024.25,
          2024.5,
          2024.75,
          2025,
          2025.25,
          2025.5,
          2025.75,
          2026,
          2026.25,
          2026.5,
          2026.75,
          2027,
          2027.25,
          2027.5,
          2027.75,
          2028,
          2028.25,
          2028.5,
          2028.75,
          2029,
          2029.25,
          2029.5,
          2029.75,
          2030,
          2030.25,
          2030.5,
          2030.75,
          2031,
          2031.25,
          2031.5,
          2031.75,
          2032,
          2032.25,
          2032.5,
          2032.75,
          2033,
          2033.25,
          2033.5,
          2033.75,
          2034,
          2034.25,
          2034.5,
          2034.75,
          2035,
          2035.25,
          2035.5,
          2035.75,
          2036,
          2036.25,
          2036.5,
          2036.75,
          2037,
          2037.25,
          2037.5,
          2037.75,
          2038,
          2038.25,
          2038.5,
          2038.75,
          2039,
          2039.25,
          2039.5,
          2039.75,
          2040,
          2040.25,
          2040.5,
          2040.75,
          2041,
          2041.25,
          2041.5,
          2041.75,
          2042,
          2042.25,
          2042.5,
          2042.75,
          2043,
          2043.25,
          2043.5,
          2043.75,
          2044,
          2044.25,
          2044.5,
          2044.75,
          2045,
          2045.25,
          2045.5,
          2045.75,
          2046,
          2046.25,
          2046.5,
          2046.75,
          2047,
          2047.25,
          2047.5,
          2047.75,
          2048,
          2048.25,
          2048.5,
          2048.75,
          2049,
          2049.25,
          2049.5,
          2049.75,
          2050
         ],
         "xaxis": "x",
         "y": [
          0.06375,
          0.06375,
          0.06375,
          0.06375,
          0.06333333333333334,
          0.06333333333333334,
          0.06333333333333334,
          0.06333333333333334,
          0.065,
          0.06821428571428571,
          0.06821428571428571,
          0.06821428571428571,
          0.06821428571428571,
          0.06821428571428571,
          0.06821428571428571,
          0.06821428571428571,
          0.06821428571428571,
          0.06821428571428571,
          0.06821428571428571,
          0.06821428571428571,
          0.06821428571428571,
          0.06821428571428571,
          0.06821428571428571,
          0.06821428571428571,
          0.06821428571428571,
          0.06821428571428571,
          0.06821428571428571,
          0.06821428571428571,
          0.06821428571428571,
          0.06821428571428571,
          0.06821428571428571,
          0.06821428571428571,
          0.06821428571428571,
          0.06821428571428571,
          0.06821428571428571,
          0.06821428571428571,
          0.06758620689655173,
          0.06758620689655173,
          0.06758620689655173,
          0.06758620689655173,
          0.06758620689655173,
          0.06758620689655173,
          0.06758620689655173,
          0.06758620689655173,
          0.06758620689655173,
          0.06758620689655173,
          0.06758620689655173,
          0.06758620689655173,
          0.067,
          0.067,
          0.067,
          0.06655172413793103,
          0.066,
          0.066,
          0.066,
          0.066,
          0.066,
          0.066,
          0.066,
          0.066,
          0.066,
          0.066,
          0.066,
          0.066,
          0.066,
          0.066,
          0.066,
          0.066,
          0.066,
          0.066,
          0.066,
          0.066,
          0.066,
          0.066,
          0.066,
          0.066,
          0.066,
          0.066,
          0.066,
          0.066,
          0.066,
          0.066,
          0.066,
          0.066,
          0.066,
          0.066,
          0.066,
          0.066,
          0.066,
          0.066,
          0.066,
          0.066,
          0.066,
          0.066,
          0.066,
          0.066,
          0.066,
          0.066,
          0.066,
          0.066,
          0.066,
          0.066,
          0.066,
          0.066,
          0.066,
          0.066,
          0.066,
          0.066,
          0.066,
          0.066,
          0.066,
          0.066,
          0.066,
          0.066,
          0.066,
          0.066,
          0.066,
          0.066,
          0.066,
          0.066,
          0.066
         ],
         "yaxis": "y"
        },
        {
         "hovertemplate": "variable=Oil furnace<br>scenario=BAU<br>year=%{x}<br>value=%{y}<extra></extra>",
         "legendgroup": "Oil furnace",
         "line": {
          "color": "#772700",
          "dash": "solid"
         },
         "marker": {
          "symbol": "circle"
         },
         "mode": "lines",
         "name": "Oil furnace",
         "orientation": "v",
         "showlegend": true,
         "type": "scatter",
         "x": [
          2020,
          2020.25,
          2020.5,
          2020.75,
          2021,
          2021.25,
          2021.5,
          2021.75,
          2022,
          2022.25,
          2022.5,
          2022.75,
          2023,
          2023.25,
          2023.5,
          2023.75,
          2024,
          2024.25,
          2024.5,
          2024.75,
          2025,
          2025.25,
          2025.5,
          2025.75,
          2026,
          2026.25,
          2026.5,
          2026.75,
          2027,
          2027.25,
          2027.5,
          2027.75,
          2028,
          2028.25,
          2028.5,
          2028.75,
          2029,
          2029.25,
          2029.5,
          2029.75,
          2030,
          2030.25,
          2030.5,
          2030.75,
          2031,
          2031.25,
          2031.5,
          2031.75,
          2032,
          2032.25,
          2032.5,
          2032.75,
          2033,
          2033.25,
          2033.5,
          2033.75,
          2034,
          2034.25,
          2034.5,
          2034.75,
          2035,
          2035.25,
          2035.5,
          2035.75,
          2036,
          2036.25,
          2036.5,
          2036.75,
          2037,
          2037.25,
          2037.5,
          2037.75,
          2038,
          2038.25,
          2038.5,
          2038.75,
          2039,
          2039.25,
          2039.5,
          2039.75,
          2040,
          2040.25,
          2040.5,
          2040.75,
          2041,
          2041.25,
          2041.5,
          2041.75,
          2042,
          2042.25,
          2042.5,
          2042.75,
          2043,
          2043.25,
          2043.5,
          2043.75,
          2044,
          2044.25,
          2044.5,
          2044.75,
          2045,
          2045.25,
          2045.5,
          2045.75,
          2046,
          2046.25,
          2046.5,
          2046.75,
          2047,
          2047.25,
          2047.5,
          2047.75,
          2048,
          2048.25,
          2048.5,
          2048.75,
          2049,
          2049.25,
          2049.5,
          2049.75,
          2050
         ],
         "xaxis": "x",
         "y": [
          0.14,
          0.14,
          0.14,
          0.14,
          0.15000000000000002,
          0.155,
          0.155,
          0.155,
          0.17400000000000002,
          0.18666666666666668,
          0.18666666666666668,
          0.18666666666666668,
          0.19,
          0.1925,
          0.1925,
          0.1925,
          0.2,
          0.206,
          0.206,
          0.206,
          0.21181818181818182,
          0.21666666666666667,
          0.21666666666666667,
          0.21666666666666667,
          0.21666666666666667,
          0.21666666666666667,
          0.21666666666666667,
          0.21666666666666667,
          0.22153846153846155,
          0.22571428571428573,
          0.22571428571428573,
          0.22571428571428573,
          0.22571428571428573,
          0.22571428571428573,
          0.22571428571428573,
          0.22571428571428573,
          0.22999999999999998,
          0.23375,
          0.23375,
          0.23375,
          0.23375,
          0.23375,
          0.23375,
          0.23375,
          0.23764705882352943,
          0.2411111111111111,
          0.2411111111111111,
          0.2411111111111111,
          0.24473684210526317,
          0.24800000000000003,
          0.24800000000000003,
          0.24800000000000003,
          0.25142857142857145,
          0.2545454545454546,
          0.2545454545454546,
          0.2545454545454546,
          0.2545454545454546,
          0.2545454545454546,
          0.2545454545454546,
          0.2545454545454546,
          0.2578260869565217,
          0.26083333333333336,
          0.26083333333333336,
          0.26083333333333336,
          0.264,
          0.26692307692307693,
          0.26692307692307693,
          0.26692307692307693,
          0.26692307692307693,
          0.26692307692307693,
          0.26692307692307693,
          0.26692307692307693,
          0.27,
          0.27285714285714285,
          0.27285714285714285,
          0.27285714285714285,
          0.27285714285714285,
          0.27285714285714285,
          0.27285714285714285,
          0.27285714285714285,
          0.27586206896551724,
          0.2786666666666667,
          0.2786666666666667,
          0.2786666666666667,
          0.2786666666666667,
          0.2786666666666667,
          0.2786666666666667,
          0.2786666666666667,
          0.28161290322580645,
          0.2839267015706807,
          0.284375,
          0.284375,
          0.2872727272727273,
          0.29000000000000004,
          0.29000000000000004,
          0.29000000000000004,
          0.29000000000000004,
          0.29000000000000004,
          0.29000000000000004,
          0.29000000000000004,
          0.29285714285714287,
          0.29555555555555557,
          0.29555555555555557,
          0.29555555555555557,
          0.29555555555555557,
          0.29555555555555557,
          0.29555555555555557,
          0.29555555555555557,
          0.29837837837837833,
          0.3001769911504425,
          0.30105263157894735,
          0.30105263157894735,
          0.3038461538461538,
          0.3065,
          0.3065,
          0.3065,
          0.3065,
          0.307071129707113,
          0.3076470588235294,
          0.3076470588235294,
          0.31040983606557376
         ],
         "yaxis": "y"
        },
        {
         "hovertemplate": "variable=Biomass furnace<br>scenario=BAU<br>year=%{x}<br>value=%{y}<extra></extra>",
         "legendgroup": "Biomass furnace",
         "line": {
          "color": "#00b9ba",
          "dash": "solid"
         },
         "marker": {
          "symbol": "circle"
         },
         "mode": "lines",
         "name": "Biomass furnace",
         "orientation": "v",
         "showlegend": true,
         "type": "scatter",
         "x": [
          2020,
          2020.25,
          2020.5,
          2020.75,
          2021,
          2021.25,
          2021.5,
          2021.75,
          2022,
          2022.25,
          2022.5,
          2022.75,
          2023,
          2023.25,
          2023.5,
          2023.75,
          2024,
          2024.25,
          2024.5,
          2024.75,
          2025,
          2025.25,
          2025.5,
          2025.75,
          2026,
          2026.25,
          2026.5,
          2026.75,
          2027,
          2027.25,
          2027.5,
          2027.75,
          2028,
          2028.25,
          2028.5,
          2028.75,
          2029,
          2029.25,
          2029.5,
          2029.75,
          2030,
          2030.25,
          2030.5,
          2030.75,
          2031,
          2031.25,
          2031.5,
          2031.75,
          2032,
          2032.25,
          2032.5,
          2032.75,
          2033,
          2033.25,
          2033.5,
          2033.75,
          2034,
          2034.25,
          2034.5,
          2034.75,
          2035,
          2035.25,
          2035.5,
          2035.75,
          2036,
          2036.25,
          2036.5,
          2036.75,
          2037,
          2037.25,
          2037.5,
          2037.75,
          2038,
          2038.25,
          2038.5,
          2038.75,
          2039,
          2039.25,
          2039.5,
          2039.75,
          2040,
          2040.25,
          2040.5,
          2040.75,
          2041,
          2041.25,
          2041.5,
          2041.75,
          2042,
          2042.25,
          2042.5,
          2042.75,
          2043,
          2043.25,
          2043.5,
          2043.75,
          2044,
          2044.25,
          2044.5,
          2044.75,
          2045,
          2045.25,
          2045.5,
          2045.75,
          2046,
          2046.25,
          2046.5,
          2046.75,
          2047,
          2047.25,
          2047.5,
          2047.75,
          2048,
          2048.25,
          2048.5,
          2048.75,
          2049,
          2049.25,
          2049.5,
          2049.75,
          2050
         ],
         "xaxis": "x",
         "y": [
          0.7200000000000001,
          0.7200000000000001,
          0.7200000000000001,
          0.7200000000000001,
          0.73,
          0.735,
          0.735,
          0.735,
          0.752,
          0.7633333333333333,
          0.7633333333333333,
          0.7633333333333333,
          0.7828571428571429,
          0.7975,
          0.7975,
          0.7975,
          0.7975,
          0.7975,
          0.7975,
          0.7975,
          0.7975,
          0.7975,
          0.7975,
          0.7975,
          0.7975,
          0.7975,
          0.7975,
          0.7975,
          0.7975,
          0.7975,
          0.7975,
          0.7975,
          0.7975,
          0.7975,
          0.7975,
          0.7975,
          0.7975,
          0.7975,
          0.7975,
          0.7975,
          0.81,
          0.8200000000000001,
          0.8200000000000001,
          0.8200000000000001,
          0.8200000000000001,
          0.8200000000000001,
          0.8200000000000001,
          0.8200000000000001,
          0.8200000000000001,
          0.8200000000000001,
          0.8200000000000001,
          0.8200000000000001,
          0.8200000000000001,
          0.8200000000000001,
          0.8200000000000001,
          0.8200000000000001,
          0.8200000000000001,
          0.8200000000000001,
          0.8200000000000001,
          0.8200000000000001,
          0.8200000000000001,
          0.8200000000000001,
          0.8200000000000001,
          0.8200000000000001,
          0.8200000000000001,
          0.8200000000000001,
          0.8200000000000001,
          0.8200000000000001,
          0.8200000000000001,
          0.8200000000000001,
          0.8200000000000001,
          0.8200000000000001,
          0.8200000000000001,
          0.8200000000000001,
          0.8200000000000001,
          0.8200000000000001,
          0.8200000000000001,
          0.8200000000000001,
          0.8200000000000001,
          0.8200000000000001,
          0.8200000000000001,
          0.8200000000000001,
          0.8200000000000001,
          0.8200000000000001,
          0.8200000000000001,
          0.8200000000000001,
          0.8200000000000001,
          0.8200000000000001,
          0.8200000000000001,
          0.8200000000000001,
          0.8200000000000001,
          0.8200000000000001,
          0.8200000000000001,
          0.8200000000000001,
          0.8200000000000001,
          0.8200000000000001,
          0.8200000000000001,
          0.8200000000000001,
          0.8200000000000001,
          0.8200000000000001,
          0.8200000000000001,
          0.8200000000000001,
          0.8200000000000001,
          0.8200000000000001,
          0.8200000000000001,
          0.8200000000000001,
          0.8200000000000001,
          0.8200000000000001,
          0.8200000000000001,
          0.8200000000000001,
          0.8200000000000001,
          0.8200000000000001,
          0.8200000000000001,
          0.8200000000000001,
          0.8200000000000001,
          0.8200000000000001,
          0.8200000000000001,
          0.8211864406779662,
          0.8224137931034483,
          0.8224137931034483,
          0.8224137931034483
         ],
         "yaxis": "y"
        }
       ],
       "layout": {
        "annotations": [
         {
          "font": {},
          "showarrow": false,
          "text": "scenario=BAU",
          "x": 0.5,
          "xanchor": "center",
          "xref": "paper",
          "y": 1,
          "yanchor": "bottom",
          "yref": "paper"
         }
        ],
        "font": {
         "family": "cm",
         "size": 18
        },
        "legend": {
         "bordercolor": "gray",
         "borderwidth": 2,
         "title": {
          "text": "Technologies"
         },
         "tracegroupgap": 0,
         "traceorder": "reversed",
         "x": 0.3,
         "y": 0.88
        },
        "margin": {
         "t": 60
        },
        "plot_bgcolor": "white",
        "template": {
         "data": {
          "bar": [
           {
            "error_x": {
             "color": "#2a3f5f"
            },
            "error_y": {
             "color": "#2a3f5f"
            },
            "marker": {
             "line": {
              "color": "#E5ECF6",
              "width": 0.5
             },
             "pattern": {
              "fillmode": "overlay",
              "size": 10,
              "solidity": 0.2
             }
            },
            "type": "bar"
           }
          ],
          "barpolar": [
           {
            "marker": {
             "line": {
              "color": "#E5ECF6",
              "width": 0.5
             },
             "pattern": {
              "fillmode": "overlay",
              "size": 10,
              "solidity": 0.2
             }
            },
            "type": "barpolar"
           }
          ],
          "carpet": [
           {
            "aaxis": {
             "endlinecolor": "#2a3f5f",
             "gridcolor": "white",
             "linecolor": "white",
             "minorgridcolor": "white",
             "startlinecolor": "#2a3f5f"
            },
            "baxis": {
             "endlinecolor": "#2a3f5f",
             "gridcolor": "white",
             "linecolor": "white",
             "minorgridcolor": "white",
             "startlinecolor": "#2a3f5f"
            },
            "type": "carpet"
           }
          ],
          "choropleth": [
           {
            "colorbar": {
             "outlinewidth": 0,
             "ticks": ""
            },
            "type": "choropleth"
           }
          ],
          "contour": [
           {
            "colorbar": {
             "outlinewidth": 0,
             "ticks": ""
            },
            "colorscale": [
             [
              0,
              "#0d0887"
             ],
             [
              0.1111111111111111,
              "#46039f"
             ],
             [
              0.2222222222222222,
              "#7201a8"
             ],
             [
              0.3333333333333333,
              "#9c179e"
             ],
             [
              0.4444444444444444,
              "#bd3786"
             ],
             [
              0.5555555555555556,
              "#d8576b"
             ],
             [
              0.6666666666666666,
              "#ed7953"
             ],
             [
              0.7777777777777778,
              "#fb9f3a"
             ],
             [
              0.8888888888888888,
              "#fdca26"
             ],
             [
              1,
              "#f0f921"
             ]
            ],
            "type": "contour"
           }
          ],
          "contourcarpet": [
           {
            "colorbar": {
             "outlinewidth": 0,
             "ticks": ""
            },
            "type": "contourcarpet"
           }
          ],
          "heatmap": [
           {
            "colorbar": {
             "outlinewidth": 0,
             "ticks": ""
            },
            "colorscale": [
             [
              0,
              "#0d0887"
             ],
             [
              0.1111111111111111,
              "#46039f"
             ],
             [
              0.2222222222222222,
              "#7201a8"
             ],
             [
              0.3333333333333333,
              "#9c179e"
             ],
             [
              0.4444444444444444,
              "#bd3786"
             ],
             [
              0.5555555555555556,
              "#d8576b"
             ],
             [
              0.6666666666666666,
              "#ed7953"
             ],
             [
              0.7777777777777778,
              "#fb9f3a"
             ],
             [
              0.8888888888888888,
              "#fdca26"
             ],
             [
              1,
              "#f0f921"
             ]
            ],
            "type": "heatmap"
           }
          ],
          "heatmapgl": [
           {
            "colorbar": {
             "outlinewidth": 0,
             "ticks": ""
            },
            "colorscale": [
             [
              0,
              "#0d0887"
             ],
             [
              0.1111111111111111,
              "#46039f"
             ],
             [
              0.2222222222222222,
              "#7201a8"
             ],
             [
              0.3333333333333333,
              "#9c179e"
             ],
             [
              0.4444444444444444,
              "#bd3786"
             ],
             [
              0.5555555555555556,
              "#d8576b"
             ],
             [
              0.6666666666666666,
              "#ed7953"
             ],
             [
              0.7777777777777778,
              "#fb9f3a"
             ],
             [
              0.8888888888888888,
              "#fdca26"
             ],
             [
              1,
              "#f0f921"
             ]
            ],
            "type": "heatmapgl"
           }
          ],
          "histogram": [
           {
            "marker": {
             "pattern": {
              "fillmode": "overlay",
              "size": 10,
              "solidity": 0.2
             }
            },
            "type": "histogram"
           }
          ],
          "histogram2d": [
           {
            "colorbar": {
             "outlinewidth": 0,
             "ticks": ""
            },
            "colorscale": [
             [
              0,
              "#0d0887"
             ],
             [
              0.1111111111111111,
              "#46039f"
             ],
             [
              0.2222222222222222,
              "#7201a8"
             ],
             [
              0.3333333333333333,
              "#9c179e"
             ],
             [
              0.4444444444444444,
              "#bd3786"
             ],
             [
              0.5555555555555556,
              "#d8576b"
             ],
             [
              0.6666666666666666,
              "#ed7953"
             ],
             [
              0.7777777777777778,
              "#fb9f3a"
             ],
             [
              0.8888888888888888,
              "#fdca26"
             ],
             [
              1,
              "#f0f921"
             ]
            ],
            "type": "histogram2d"
           }
          ],
          "histogram2dcontour": [
           {
            "colorbar": {
             "outlinewidth": 0,
             "ticks": ""
            },
            "colorscale": [
             [
              0,
              "#0d0887"
             ],
             [
              0.1111111111111111,
              "#46039f"
             ],
             [
              0.2222222222222222,
              "#7201a8"
             ],
             [
              0.3333333333333333,
              "#9c179e"
             ],
             [
              0.4444444444444444,
              "#bd3786"
             ],
             [
              0.5555555555555556,
              "#d8576b"
             ],
             [
              0.6666666666666666,
              "#ed7953"
             ],
             [
              0.7777777777777778,
              "#fb9f3a"
             ],
             [
              0.8888888888888888,
              "#fdca26"
             ],
             [
              1,
              "#f0f921"
             ]
            ],
            "type": "histogram2dcontour"
           }
          ],
          "mesh3d": [
           {
            "colorbar": {
             "outlinewidth": 0,
             "ticks": ""
            },
            "type": "mesh3d"
           }
          ],
          "parcoords": [
           {
            "line": {
             "colorbar": {
              "outlinewidth": 0,
              "ticks": ""
             }
            },
            "type": "parcoords"
           }
          ],
          "pie": [
           {
            "automargin": true,
            "type": "pie"
           }
          ],
          "scatter": [
           {
            "fillpattern": {
             "fillmode": "overlay",
             "size": 10,
             "solidity": 0.2
            },
            "type": "scatter"
           }
          ],
          "scatter3d": [
           {
            "line": {
             "colorbar": {
              "outlinewidth": 0,
              "ticks": ""
             }
            },
            "marker": {
             "colorbar": {
              "outlinewidth": 0,
              "ticks": ""
             }
            },
            "type": "scatter3d"
           }
          ],
          "scattercarpet": [
           {
            "marker": {
             "colorbar": {
              "outlinewidth": 0,
              "ticks": ""
             }
            },
            "type": "scattercarpet"
           }
          ],
          "scattergeo": [
           {
            "marker": {
             "colorbar": {
              "outlinewidth": 0,
              "ticks": ""
             }
            },
            "type": "scattergeo"
           }
          ],
          "scattergl": [
           {
            "marker": {
             "colorbar": {
              "outlinewidth": 0,
              "ticks": ""
             }
            },
            "type": "scattergl"
           }
          ],
          "scattermapbox": [
           {
            "marker": {
             "colorbar": {
              "outlinewidth": 0,
              "ticks": ""
             }
            },
            "type": "scattermapbox"
           }
          ],
          "scatterpolar": [
           {
            "marker": {
             "colorbar": {
              "outlinewidth": 0,
              "ticks": ""
             }
            },
            "type": "scatterpolar"
           }
          ],
          "scatterpolargl": [
           {
            "marker": {
             "colorbar": {
              "outlinewidth": 0,
              "ticks": ""
             }
            },
            "type": "scatterpolargl"
           }
          ],
          "scatterternary": [
           {
            "marker": {
             "colorbar": {
              "outlinewidth": 0,
              "ticks": ""
             }
            },
            "type": "scatterternary"
           }
          ],
          "surface": [
           {
            "colorbar": {
             "outlinewidth": 0,
             "ticks": ""
            },
            "colorscale": [
             [
              0,
              "#0d0887"
             ],
             [
              0.1111111111111111,
              "#46039f"
             ],
             [
              0.2222222222222222,
              "#7201a8"
             ],
             [
              0.3333333333333333,
              "#9c179e"
             ],
             [
              0.4444444444444444,
              "#bd3786"
             ],
             [
              0.5555555555555556,
              "#d8576b"
             ],
             [
              0.6666666666666666,
              "#ed7953"
             ],
             [
              0.7777777777777778,
              "#fb9f3a"
             ],
             [
              0.8888888888888888,
              "#fdca26"
             ],
             [
              1,
              "#f0f921"
             ]
            ],
            "type": "surface"
           }
          ],
          "table": [
           {
            "cells": {
             "fill": {
              "color": "#EBF0F8"
             },
             "line": {
              "color": "white"
             }
            },
            "header": {
             "fill": {
              "color": "#C8D4E3"
             },
             "line": {
              "color": "white"
             }
            },
            "type": "table"
           }
          ]
         },
         "layout": {
          "annotationdefaults": {
           "arrowcolor": "#2a3f5f",
           "arrowhead": 0,
           "arrowwidth": 1
          },
          "autotypenumbers": "strict",
          "coloraxis": {
           "colorbar": {
            "outlinewidth": 0,
            "ticks": ""
           }
          },
          "colorscale": {
           "diverging": [
            [
             0,
             "#8e0152"
            ],
            [
             0.1,
             "#c51b7d"
            ],
            [
             0.2,
             "#de77ae"
            ],
            [
             0.3,
             "#f1b6da"
            ],
            [
             0.4,
             "#fde0ef"
            ],
            [
             0.5,
             "#f7f7f7"
            ],
            [
             0.6,
             "#e6f5d0"
            ],
            [
             0.7,
             "#b8e186"
            ],
            [
             0.8,
             "#7fbc41"
            ],
            [
             0.9,
             "#4d9221"
            ],
            [
             1,
             "#276419"
            ]
           ],
           "sequential": [
            [
             0,
             "#0d0887"
            ],
            [
             0.1111111111111111,
             "#46039f"
            ],
            [
             0.2222222222222222,
             "#7201a8"
            ],
            [
             0.3333333333333333,
             "#9c179e"
            ],
            [
             0.4444444444444444,
             "#bd3786"
            ],
            [
             0.5555555555555556,
             "#d8576b"
            ],
            [
             0.6666666666666666,
             "#ed7953"
            ],
            [
             0.7777777777777778,
             "#fb9f3a"
            ],
            [
             0.8888888888888888,
             "#fdca26"
            ],
            [
             1,
             "#f0f921"
            ]
           ],
           "sequentialminus": [
            [
             0,
             "#0d0887"
            ],
            [
             0.1111111111111111,
             "#46039f"
            ],
            [
             0.2222222222222222,
             "#7201a8"
            ],
            [
             0.3333333333333333,
             "#9c179e"
            ],
            [
             0.4444444444444444,
             "#bd3786"
            ],
            [
             0.5555555555555556,
             "#d8576b"
            ],
            [
             0.6666666666666666,
             "#ed7953"
            ],
            [
             0.7777777777777778,
             "#fb9f3a"
            ],
            [
             0.8888888888888888,
             "#fdca26"
            ],
            [
             1,
             "#f0f921"
            ]
           ]
          },
          "colorway": [
           "#636efa",
           "#EF553B",
           "#00cc96",
           "#ab63fa",
           "#FFA15A",
           "#19d3f3",
           "#FF6692",
           "#B6E880",
           "#FF97FF",
           "#FECB52"
          ],
          "font": {
           "color": "#2a3f5f"
          },
          "geo": {
           "bgcolor": "white",
           "lakecolor": "white",
           "landcolor": "#E5ECF6",
           "showlakes": true,
           "showland": true,
           "subunitcolor": "white"
          },
          "hoverlabel": {
           "align": "left"
          },
          "hovermode": "closest",
          "mapbox": {
           "style": "light"
          },
          "paper_bgcolor": "white",
          "plot_bgcolor": "#E5ECF6",
          "polar": {
           "angularaxis": {
            "gridcolor": "white",
            "linecolor": "white",
            "ticks": ""
           },
           "bgcolor": "#E5ECF6",
           "radialaxis": {
            "gridcolor": "white",
            "linecolor": "white",
            "ticks": ""
           }
          },
          "scene": {
           "xaxis": {
            "backgroundcolor": "#E5ECF6",
            "gridcolor": "white",
            "gridwidth": 2,
            "linecolor": "white",
            "showbackground": true,
            "ticks": "",
            "zerolinecolor": "white"
           },
           "yaxis": {
            "backgroundcolor": "#E5ECF6",
            "gridcolor": "white",
            "gridwidth": 2,
            "linecolor": "white",
            "showbackground": true,
            "ticks": "",
            "zerolinecolor": "white"
           },
           "zaxis": {
            "backgroundcolor": "#E5ECF6",
            "gridcolor": "white",
            "gridwidth": 2,
            "linecolor": "white",
            "showbackground": true,
            "ticks": "",
            "zerolinecolor": "white"
           }
          },
          "shapedefaults": {
           "line": {
            "color": "#2a3f5f"
           }
          },
          "ternary": {
           "aaxis": {
            "gridcolor": "white",
            "linecolor": "white",
            "ticks": ""
           },
           "baxis": {
            "gridcolor": "white",
            "linecolor": "white",
            "ticks": ""
           },
           "bgcolor": "#E5ECF6",
           "caxis": {
            "gridcolor": "white",
            "linecolor": "white",
            "ticks": ""
           }
          },
          "title": {
           "x": 0.05
          },
          "xaxis": {
           "automargin": true,
           "gridcolor": "white",
           "linecolor": "white",
           "ticks": "",
           "title": {
            "standoff": 15
           },
           "zerolinecolor": "white",
           "zerolinewidth": 2
          },
          "yaxis": {
           "automargin": true,
           "gridcolor": "white",
           "linecolor": "white",
           "ticks": "",
           "title": {
            "standoff": 15
           },
           "zerolinecolor": "white",
           "zerolinewidth": 2
          }
         }
        },
        "width": 500,
        "xaxis": {
         "anchor": "y",
         "domain": [
          0,
          1
         ],
         "gridcolor": "lightgrey",
         "linecolor": "black",
         "mirror": true,
         "showline": true,
         "ticks": "outside",
         "title": {
          "text": "year"
         }
        },
        "yaxis": {
         "anchor": "x",
         "domain": [
          0,
          1
         ],
         "gridcolor": "lightgrey",
         "linecolor": "black",
         "mirror": true,
         "showline": true,
         "ticks": "outside",
         "title": {
          "text": "LCOH (CAD/kWh)"
         }
        }
       }
      }
     },
     "metadata": {},
     "output_type": "display_data"
    }
   ],
   "source": [
    "scenario_lcohs[\"variable\"] = scenario_lcohs[\"variable\"].str.replace(\"Wood or wood pellets\", \"Biomass\")\n",
    "fig = sciencify_plotly_fig(\n",
    "    px.line(\n",
    "        scenario_lcohs.query(\"scenario=='BAU'\"),\n",
    "        x=\"year\",\n",
    "        y=\"value\",\n",
    "        color=\"variable\",\n",
    "        facet_col=\"scenario\",\n",
    "        template=\"plotly\",\n",
    "        color_discrete_map=ABM_colors,\n",
    "        width=500\n",
    "    )\n",
    ")\n",
    "fig.update_layout(\n",
    "    yaxis_title=\"LCOH (CAD/kWh)\",\n",
    "    legend=dict(\n",
    "        title_text=\"Technologies\",\n",
    "        bordercolor=\"gray\",\n",
    "        borderwidth=2,\n",
    "        x=0.3,\n",
    "        y=0.88,\n",
    "        traceorder=\"reversed\",\n",
    "    ),\n",
    "    width=500,\n",
    "    font_family=\"cm\",\n",
    "    font_size=18\n",
    ")\n",
    "fig.write_image(f\"abm_lcoh_{date_str}.svg\")\n",
    "fig.write_image(f\"abm_lcoh_{date_str}.pdf\")\n",
    "fig"
   ]
  },
  {
   "cell_type": "markdown",
   "metadata": {},
   "source": [
    "## Copper: demands/supplied energy"
   ]
  },
  {
   "cell_type": "code",
   "execution_count": 44,
   "metadata": {},
   "outputs": [],
   "source": [
    "from copper.phases.postprocessing import get_all_supply\n",
    "\n",
    "peak_supply_dfs = []\n",
    "supply_dfs = []\n",
    "supply_share_dfs = []\n",
    "total_supply_dfs = []\n",
    "for scenario in result_df.Scenario.unique():\n",
    "    path = result_df.query(f\"iteration==1 and Scenario=='{scenario}'\")[\"ESM path\"].values[0]\n",
    "    sup_df = get_all_supply(path)\n",
    "\n",
    "    total_supply = sup_df.groupby([\"pds\"])[[\"value\"]].sum().reset_index()\n",
    "    total_supply[\"scenario\"] = scenario\n",
    "    total_supply_dfs.append(total_supply)\n",
    "    \n",
    "    peak_demand = sup_df.groupby([\"pds\",\"h\"])[[\"value\"]].sum().reset_index().groupby(\"pds\").max().reset_index().drop(\"h\", axis=1)\n",
    "    peak_demand[\"scenario\"] = scenario\n",
    "    peak_supply_dfs.append(peak_demand)\n",
    "\n",
    "    supply_share_by_type = sup_df.groupby([\"pds\",\"Type\"]).sum()/sup_df.groupby([\"pds\"]).sum()\n",
    "    is_supply = supply_share_by_type.reset_index()[\"value\"] > 0\n",
    "    supply_share_by_type = supply_share_by_type.reset_index().loc[is_supply,:]\n",
    "    supply_share_by_type[\"scenario\"] = scenario\n",
    "    supply_share_dfs.append(supply_share_by_type)\n",
    "    \n",
    "    sup_df[\"scenario\"] = scenario\n",
    "    supply_dfs.append(sup_df)\n",
    "\n",
    "scen_supply_df = pd.concat(supply_dfs)\n",
    "scen_total_demand_df = pd.concat(total_supply_dfs)    \n",
    "scen_peak_supply_df = pd.concat(peak_supply_dfs)\n",
    "scen_supply_share_df = pd.concat(supply_share_dfs)    "
   ]
  },
  {
   "cell_type": "code",
   "execution_count": 45,
   "id": "01HXRY9JD4F5N705YTVJRC9TFH",
   "metadata": {},
   "outputs": [],
   "source": [
    "sup_df = get_all_supply(\"copper/results/BAU_scenario_20240513_1405\")\n",
    "copper_demand_peaks_long = sup_df.groupby([\"pds\",\"h\"]).sum().groupby(\"pds\").max().reset_index()\n",
    "copper_demand_peaks_long[\"scenario\"] = \"COPPER projection\""
   ]
  },
  {
   "cell_type": "code",
   "execution_count": 46,
   "id": "01HXS3X1HDZ1FEP571AXAYVKCB",
   "metadata": {},
   "outputs": [
    {
     "data": {
      "text/html": [
       "<div>\n",
       "<style scoped>\n",
       "    .dataframe tbody tr th:only-of-type {\n",
       "        vertical-align: middle;\n",
       "    }\n",
       "\n",
       "    .dataframe tbody tr th {\n",
       "        vertical-align: top;\n",
       "    }\n",
       "\n",
       "    .dataframe thead th {\n",
       "        text-align: right;\n",
       "    }\n",
       "</style>\n",
       "<table border=\"1\" class=\"dataframe\">\n",
       "  <thead>\n",
       "    <tr style=\"text-align: right;\">\n",
       "      <th></th>\n",
       "      <th>value</th>\n",
       "      <th>pds</th>\n",
       "      <th>scenario</th>\n",
       "    </tr>\n",
       "  </thead>\n",
       "  <tbody>\n",
       "    <tr>\n",
       "      <th>0</th>\n",
       "      <td>19940.453020</td>\n",
       "      <td>2020</td>\n",
       "      <td>BAU</td>\n",
       "    </tr>\n",
       "    <tr>\n",
       "      <th>1</th>\n",
       "      <td>22083.588356</td>\n",
       "      <td>2025</td>\n",
       "      <td>BAU</td>\n",
       "    </tr>\n",
       "    <tr>\n",
       "      <th>2</th>\n",
       "      <td>26946.111536</td>\n",
       "      <td>2030</td>\n",
       "      <td>BAU</td>\n",
       "    </tr>\n",
       "    <tr>\n",
       "      <th>3</th>\n",
       "      <td>34359.754845</td>\n",
       "      <td>2035</td>\n",
       "      <td>BAU</td>\n",
       "    </tr>\n",
       "    <tr>\n",
       "      <th>4</th>\n",
       "      <td>41618.050380</td>\n",
       "      <td>2040</td>\n",
       "      <td>BAU</td>\n",
       "    </tr>\n",
       "  </tbody>\n",
       "</table>\n",
       "</div>"
      ],
      "text/plain": [
       "          value   pds scenario\n",
       "0  19940.453020  2020      BAU\n",
       "1  22083.588356  2025      BAU\n",
       "2  26946.111536  2030      BAU\n",
       "3  34359.754845  2035      BAU\n",
       "4  41618.050380  2040      BAU"
      ]
     },
     "execution_count": 46,
     "metadata": {},
     "output_type": "execute_result"
    }
   ],
   "source": [
    "from main import add_abm_demand_to_projection, spread_model_demand\n",
    "demands = []\n",
    "for scenario, scen_df in scenario_fuel_demands.groupby(\"scenario\"):\n",
    "    scen_name = \"BAU_scenario\" if scenario==\"BAU\" else \"CER_scenario\"\n",
    "    demand_projection = add_abm_demand_to_projection(scen_df, scen_name).max().reset_index()\n",
    "    demand_projection[\"pds\"] = demand_projection[\"index\"].str.split(\".\", expand=True)[1].astype(int)\n",
    "    demand_projection[\"scenario\"] = scenario\n",
    "    demands.append(demand_projection)\n",
    "\n",
    "scen_peak_demand_df = pd.concat(demands).rename({0:\"value\"}, axis=1).drop(\"index\", axis=1)\n",
    "scen_peak_demand_df.head()\n"
   ]
  },
  {
   "cell_type": "code",
   "execution_count": 47,
   "id": "01HXRW2MEHF3FWC6NTCGEQERMF",
   "metadata": {},
   "outputs": [
    {
     "data": {
      "application/vnd.plotly.v1+json": {
       "config": {
        "plotlyServerURL": "https://plot.ly"
       },
       "data": [
        {
         "hovertemplate": "scenario=BAU<br>province=Ontario<br>pds=%{x}<br>value=%{y}<extra></extra>",
         "legendgroup": "BAU",
         "line": {
          "color": "#636efa",
          "dash": "solid"
         },
         "marker": {
          "symbol": "circle"
         },
         "mode": "lines",
         "name": "BAU",
         "orientation": "v",
         "showlegend": true,
         "type": "scatter",
         "x": [
          2020,
          2025,
          2030,
          2035,
          2040,
          2045,
          2050
         ],
         "xaxis": "x",
         "y": [
          19.94045302011384,
          22.083588355696765,
          26.946111536182695,
          34.35975484543412,
          41.61805038040317,
          48.27709856779981,
          54.03819928898879
         ],
         "yaxis": "y"
        },
        {
         "hovertemplate": "scenario=CER<br>province=Ontario<br>pds=%{x}<br>value=%{y}<extra></extra>",
         "legendgroup": "CER",
         "line": {
          "color": "#EF553B",
          "dash": "solid"
         },
         "marker": {
          "symbol": "circle"
         },
         "mode": "lines",
         "name": "CER",
         "orientation": "v",
         "showlegend": true,
         "type": "scatter",
         "x": [
          2020,
          2025,
          2030,
          2035,
          2040,
          2045,
          2050
         ],
         "xaxis": "x",
         "y": [
          19.93277269187128,
          21.89281136108432,
          26.507548054529487,
          33.774918635381354,
          40.95939674754713,
          46.96891807135667,
          51.89413639620199
         ],
         "yaxis": "y"
        },
        {
         "hovertemplate": "scenario=CER+<br>province=Ontario<br>pds=%{x}<br>value=%{y}<extra></extra>",
         "legendgroup": "CER+",
         "line": {
          "color": "#00cc96",
          "dash": "solid"
         },
         "marker": {
          "symbol": "circle"
         },
         "mode": "lines",
         "name": "CER+",
         "orientation": "v",
         "showlegend": true,
         "type": "scatter",
         "x": [
          2020,
          2025,
          2030,
          2035,
          2040,
          2045,
          2050
         ],
         "xaxis": "x",
         "y": [
          19.923283402051794,
          21.82093877748055,
          26.49358592350412,
          36.00295534410856,
          43.91825198237684,
          49.595778035253346,
          53.89020009353942
         ],
         "yaxis": "y"
        },
        {
         "hovertemplate": "scenario=Rapid<br>province=Ontario<br>pds=%{x}<br>value=%{y}<extra></extra>",
         "legendgroup": "Rapid",
         "line": {
          "color": "#ab63fa",
          "dash": "solid"
         },
         "marker": {
          "symbol": "circle"
         },
         "mode": "lines",
         "name": "Rapid",
         "orientation": "v",
         "showlegend": true,
         "type": "scatter",
         "x": [
          2020,
          2025,
          2030,
          2035,
          2040,
          2045,
          2050
         ],
         "xaxis": "x",
         "y": [
          19.887858256038612,
          21.306882748991917,
          24.927810120574076,
          30.519900843599128,
          35.94752619957465,
          39.86637010882835,
          43.372629712552914
         ],
         "yaxis": "y"
        },
        {
         "hovertemplate": "scenario=Rapid+<br>province=Ontario<br>pds=%{x}<br>value=%{y}<extra></extra>",
         "legendgroup": "Rapid+",
         "line": {
          "color": "#FFA15A",
          "dash": "solid"
         },
         "marker": {
          "symbol": "circle"
         },
         "mode": "lines",
         "name": "Rapid+",
         "orientation": "v",
         "showlegend": true,
         "type": "scatter",
         "x": [
          2020,
          2025,
          2030,
          2035,
          2040,
          2045,
          2050
         ],
         "xaxis": "x",
         "y": [
          19.911235151241343,
          21.289334141102533,
          25.582643880212366,
          31.18916164683386,
          36.438907285393654,
          40.109904672527115,
          43.37837198031035
         ],
         "yaxis": "y"
        },
        {
         "hovertemplate": "scenario=COPPER projection<br>province=Ontario<br>pds=%{x}<br>value=%{y}<extra></extra>",
         "legendgroup": "COPPER projection",
         "line": {
          "color": "#19d3f3",
          "dash": "solid"
         },
         "marker": {
          "symbol": "circle"
         },
         "mode": "lines",
         "name": "COPPER projection",
         "orientation": "v",
         "showlegend": true,
         "type": "scatter",
         "x": [
          2025,
          2030,
          2035,
          2040,
          2045,
          2050
         ],
         "xaxis": "x",
         "y": [
          25.22096981464663,
          26.312742122763964,
          27.636088868144085,
          30.237850167968414,
          31.83302458198641,
          34.814130304068215
         ],
         "yaxis": "y"
        }
       ],
       "layout": {
        "annotations": [
         {
          "font": {},
          "showarrow": false,
          "text": "province=Ontario",
          "x": 0.5,
          "xanchor": "center",
          "xref": "paper",
          "y": 1,
          "yanchor": "bottom",
          "yref": "paper"
         }
        ],
        "font": {
         "family": "cm",
         "size": 18
        },
        "legend": {
         "bordercolor": "grey",
         "borderwidth": 2,
         "title": {},
         "tracegroupgap": 0,
         "x": 0.01,
         "y": 0.99
        },
        "margin": {
         "t": 60
        },
        "plot_bgcolor": "white",
        "template": {
         "data": {
          "bar": [
           {
            "error_x": {
             "color": "#2a3f5f"
            },
            "error_y": {
             "color": "#2a3f5f"
            },
            "marker": {
             "line": {
              "color": "#E5ECF6",
              "width": 0.5
             },
             "pattern": {
              "fillmode": "overlay",
              "size": 10,
              "solidity": 0.2
             }
            },
            "type": "bar"
           }
          ],
          "barpolar": [
           {
            "marker": {
             "line": {
              "color": "#E5ECF6",
              "width": 0.5
             },
             "pattern": {
              "fillmode": "overlay",
              "size": 10,
              "solidity": 0.2
             }
            },
            "type": "barpolar"
           }
          ],
          "carpet": [
           {
            "aaxis": {
             "endlinecolor": "#2a3f5f",
             "gridcolor": "white",
             "linecolor": "white",
             "minorgridcolor": "white",
             "startlinecolor": "#2a3f5f"
            },
            "baxis": {
             "endlinecolor": "#2a3f5f",
             "gridcolor": "white",
             "linecolor": "white",
             "minorgridcolor": "white",
             "startlinecolor": "#2a3f5f"
            },
            "type": "carpet"
           }
          ],
          "choropleth": [
           {
            "colorbar": {
             "outlinewidth": 0,
             "ticks": ""
            },
            "type": "choropleth"
           }
          ],
          "contour": [
           {
            "colorbar": {
             "outlinewidth": 0,
             "ticks": ""
            },
            "colorscale": [
             [
              0,
              "#0d0887"
             ],
             [
              0.1111111111111111,
              "#46039f"
             ],
             [
              0.2222222222222222,
              "#7201a8"
             ],
             [
              0.3333333333333333,
              "#9c179e"
             ],
             [
              0.4444444444444444,
              "#bd3786"
             ],
             [
              0.5555555555555556,
              "#d8576b"
             ],
             [
              0.6666666666666666,
              "#ed7953"
             ],
             [
              0.7777777777777778,
              "#fb9f3a"
             ],
             [
              0.8888888888888888,
              "#fdca26"
             ],
             [
              1,
              "#f0f921"
             ]
            ],
            "type": "contour"
           }
          ],
          "contourcarpet": [
           {
            "colorbar": {
             "outlinewidth": 0,
             "ticks": ""
            },
            "type": "contourcarpet"
           }
          ],
          "heatmap": [
           {
            "colorbar": {
             "outlinewidth": 0,
             "ticks": ""
            },
            "colorscale": [
             [
              0,
              "#0d0887"
             ],
             [
              0.1111111111111111,
              "#46039f"
             ],
             [
              0.2222222222222222,
              "#7201a8"
             ],
             [
              0.3333333333333333,
              "#9c179e"
             ],
             [
              0.4444444444444444,
              "#bd3786"
             ],
             [
              0.5555555555555556,
              "#d8576b"
             ],
             [
              0.6666666666666666,
              "#ed7953"
             ],
             [
              0.7777777777777778,
              "#fb9f3a"
             ],
             [
              0.8888888888888888,
              "#fdca26"
             ],
             [
              1,
              "#f0f921"
             ]
            ],
            "type": "heatmap"
           }
          ],
          "heatmapgl": [
           {
            "colorbar": {
             "outlinewidth": 0,
             "ticks": ""
            },
            "colorscale": [
             [
              0,
              "#0d0887"
             ],
             [
              0.1111111111111111,
              "#46039f"
             ],
             [
              0.2222222222222222,
              "#7201a8"
             ],
             [
              0.3333333333333333,
              "#9c179e"
             ],
             [
              0.4444444444444444,
              "#bd3786"
             ],
             [
              0.5555555555555556,
              "#d8576b"
             ],
             [
              0.6666666666666666,
              "#ed7953"
             ],
             [
              0.7777777777777778,
              "#fb9f3a"
             ],
             [
              0.8888888888888888,
              "#fdca26"
             ],
             [
              1,
              "#f0f921"
             ]
            ],
            "type": "heatmapgl"
           }
          ],
          "histogram": [
           {
            "marker": {
             "pattern": {
              "fillmode": "overlay",
              "size": 10,
              "solidity": 0.2
             }
            },
            "type": "histogram"
           }
          ],
          "histogram2d": [
           {
            "colorbar": {
             "outlinewidth": 0,
             "ticks": ""
            },
            "colorscale": [
             [
              0,
              "#0d0887"
             ],
             [
              0.1111111111111111,
              "#46039f"
             ],
             [
              0.2222222222222222,
              "#7201a8"
             ],
             [
              0.3333333333333333,
              "#9c179e"
             ],
             [
              0.4444444444444444,
              "#bd3786"
             ],
             [
              0.5555555555555556,
              "#d8576b"
             ],
             [
              0.6666666666666666,
              "#ed7953"
             ],
             [
              0.7777777777777778,
              "#fb9f3a"
             ],
             [
              0.8888888888888888,
              "#fdca26"
             ],
             [
              1,
              "#f0f921"
             ]
            ],
            "type": "histogram2d"
           }
          ],
          "histogram2dcontour": [
           {
            "colorbar": {
             "outlinewidth": 0,
             "ticks": ""
            },
            "colorscale": [
             [
              0,
              "#0d0887"
             ],
             [
              0.1111111111111111,
              "#46039f"
             ],
             [
              0.2222222222222222,
              "#7201a8"
             ],
             [
              0.3333333333333333,
              "#9c179e"
             ],
             [
              0.4444444444444444,
              "#bd3786"
             ],
             [
              0.5555555555555556,
              "#d8576b"
             ],
             [
              0.6666666666666666,
              "#ed7953"
             ],
             [
              0.7777777777777778,
              "#fb9f3a"
             ],
             [
              0.8888888888888888,
              "#fdca26"
             ],
             [
              1,
              "#f0f921"
             ]
            ],
            "type": "histogram2dcontour"
           }
          ],
          "mesh3d": [
           {
            "colorbar": {
             "outlinewidth": 0,
             "ticks": ""
            },
            "type": "mesh3d"
           }
          ],
          "parcoords": [
           {
            "line": {
             "colorbar": {
              "outlinewidth": 0,
              "ticks": ""
             }
            },
            "type": "parcoords"
           }
          ],
          "pie": [
           {
            "automargin": true,
            "type": "pie"
           }
          ],
          "scatter": [
           {
            "fillpattern": {
             "fillmode": "overlay",
             "size": 10,
             "solidity": 0.2
            },
            "type": "scatter"
           }
          ],
          "scatter3d": [
           {
            "line": {
             "colorbar": {
              "outlinewidth": 0,
              "ticks": ""
             }
            },
            "marker": {
             "colorbar": {
              "outlinewidth": 0,
              "ticks": ""
             }
            },
            "type": "scatter3d"
           }
          ],
          "scattercarpet": [
           {
            "marker": {
             "colorbar": {
              "outlinewidth": 0,
              "ticks": ""
             }
            },
            "type": "scattercarpet"
           }
          ],
          "scattergeo": [
           {
            "marker": {
             "colorbar": {
              "outlinewidth": 0,
              "ticks": ""
             }
            },
            "type": "scattergeo"
           }
          ],
          "scattergl": [
           {
            "marker": {
             "colorbar": {
              "outlinewidth": 0,
              "ticks": ""
             }
            },
            "type": "scattergl"
           }
          ],
          "scattermapbox": [
           {
            "marker": {
             "colorbar": {
              "outlinewidth": 0,
              "ticks": ""
             }
            },
            "type": "scattermapbox"
           }
          ],
          "scatterpolar": [
           {
            "marker": {
             "colorbar": {
              "outlinewidth": 0,
              "ticks": ""
             }
            },
            "type": "scatterpolar"
           }
          ],
          "scatterpolargl": [
           {
            "marker": {
             "colorbar": {
              "outlinewidth": 0,
              "ticks": ""
             }
            },
            "type": "scatterpolargl"
           }
          ],
          "scatterternary": [
           {
            "marker": {
             "colorbar": {
              "outlinewidth": 0,
              "ticks": ""
             }
            },
            "type": "scatterternary"
           }
          ],
          "surface": [
           {
            "colorbar": {
             "outlinewidth": 0,
             "ticks": ""
            },
            "colorscale": [
             [
              0,
              "#0d0887"
             ],
             [
              0.1111111111111111,
              "#46039f"
             ],
             [
              0.2222222222222222,
              "#7201a8"
             ],
             [
              0.3333333333333333,
              "#9c179e"
             ],
             [
              0.4444444444444444,
              "#bd3786"
             ],
             [
              0.5555555555555556,
              "#d8576b"
             ],
             [
              0.6666666666666666,
              "#ed7953"
             ],
             [
              0.7777777777777778,
              "#fb9f3a"
             ],
             [
              0.8888888888888888,
              "#fdca26"
             ],
             [
              1,
              "#f0f921"
             ]
            ],
            "type": "surface"
           }
          ],
          "table": [
           {
            "cells": {
             "fill": {
              "color": "#EBF0F8"
             },
             "line": {
              "color": "white"
             }
            },
            "header": {
             "fill": {
              "color": "#C8D4E3"
             },
             "line": {
              "color": "white"
             }
            },
            "type": "table"
           }
          ]
         },
         "layout": {
          "annotationdefaults": {
           "arrowcolor": "#2a3f5f",
           "arrowhead": 0,
           "arrowwidth": 1
          },
          "autotypenumbers": "strict",
          "coloraxis": {
           "colorbar": {
            "outlinewidth": 0,
            "ticks": ""
           }
          },
          "colorscale": {
           "diverging": [
            [
             0,
             "#8e0152"
            ],
            [
             0.1,
             "#c51b7d"
            ],
            [
             0.2,
             "#de77ae"
            ],
            [
             0.3,
             "#f1b6da"
            ],
            [
             0.4,
             "#fde0ef"
            ],
            [
             0.5,
             "#f7f7f7"
            ],
            [
             0.6,
             "#e6f5d0"
            ],
            [
             0.7,
             "#b8e186"
            ],
            [
             0.8,
             "#7fbc41"
            ],
            [
             0.9,
             "#4d9221"
            ],
            [
             1,
             "#276419"
            ]
           ],
           "sequential": [
            [
             0,
             "#0d0887"
            ],
            [
             0.1111111111111111,
             "#46039f"
            ],
            [
             0.2222222222222222,
             "#7201a8"
            ],
            [
             0.3333333333333333,
             "#9c179e"
            ],
            [
             0.4444444444444444,
             "#bd3786"
            ],
            [
             0.5555555555555556,
             "#d8576b"
            ],
            [
             0.6666666666666666,
             "#ed7953"
            ],
            [
             0.7777777777777778,
             "#fb9f3a"
            ],
            [
             0.8888888888888888,
             "#fdca26"
            ],
            [
             1,
             "#f0f921"
            ]
           ],
           "sequentialminus": [
            [
             0,
             "#0d0887"
            ],
            [
             0.1111111111111111,
             "#46039f"
            ],
            [
             0.2222222222222222,
             "#7201a8"
            ],
            [
             0.3333333333333333,
             "#9c179e"
            ],
            [
             0.4444444444444444,
             "#bd3786"
            ],
            [
             0.5555555555555556,
             "#d8576b"
            ],
            [
             0.6666666666666666,
             "#ed7953"
            ],
            [
             0.7777777777777778,
             "#fb9f3a"
            ],
            [
             0.8888888888888888,
             "#fdca26"
            ],
            [
             1,
             "#f0f921"
            ]
           ]
          },
          "colorway": [
           "#636efa",
           "#EF553B",
           "#00cc96",
           "#ab63fa",
           "#FFA15A",
           "#19d3f3",
           "#FF6692",
           "#B6E880",
           "#FF97FF",
           "#FECB52"
          ],
          "font": {
           "color": "#2a3f5f"
          },
          "geo": {
           "bgcolor": "white",
           "lakecolor": "white",
           "landcolor": "#E5ECF6",
           "showlakes": true,
           "showland": true,
           "subunitcolor": "white"
          },
          "hoverlabel": {
           "align": "left"
          },
          "hovermode": "closest",
          "mapbox": {
           "style": "light"
          },
          "paper_bgcolor": "white",
          "plot_bgcolor": "#E5ECF6",
          "polar": {
           "angularaxis": {
            "gridcolor": "white",
            "linecolor": "white",
            "ticks": ""
           },
           "bgcolor": "#E5ECF6",
           "radialaxis": {
            "gridcolor": "white",
            "linecolor": "white",
            "ticks": ""
           }
          },
          "scene": {
           "xaxis": {
            "backgroundcolor": "#E5ECF6",
            "gridcolor": "white",
            "gridwidth": 2,
            "linecolor": "white",
            "showbackground": true,
            "ticks": "",
            "zerolinecolor": "white"
           },
           "yaxis": {
            "backgroundcolor": "#E5ECF6",
            "gridcolor": "white",
            "gridwidth": 2,
            "linecolor": "white",
            "showbackground": true,
            "ticks": "",
            "zerolinecolor": "white"
           },
           "zaxis": {
            "backgroundcolor": "#E5ECF6",
            "gridcolor": "white",
            "gridwidth": 2,
            "linecolor": "white",
            "showbackground": true,
            "ticks": "",
            "zerolinecolor": "white"
           }
          },
          "shapedefaults": {
           "line": {
            "color": "#2a3f5f"
           }
          },
          "ternary": {
           "aaxis": {
            "gridcolor": "white",
            "linecolor": "white",
            "ticks": ""
           },
           "baxis": {
            "gridcolor": "white",
            "linecolor": "white",
            "ticks": ""
           },
           "bgcolor": "#E5ECF6",
           "caxis": {
            "gridcolor": "white",
            "linecolor": "white",
            "ticks": ""
           }
          },
          "title": {
           "x": 0.05
          },
          "xaxis": {
           "automargin": true,
           "gridcolor": "white",
           "linecolor": "white",
           "ticks": "",
           "title": {
            "standoff": 15
           },
           "zerolinecolor": "white",
           "zerolinewidth": 2
          },
          "yaxis": {
           "automargin": true,
           "gridcolor": "white",
           "linecolor": "white",
           "ticks": "",
           "title": {
            "standoff": 15
           },
           "zerolinecolor": "white",
           "zerolinewidth": 2
          }
         }
        },
        "width": 500,
        "xaxis": {
         "anchor": "y",
         "domain": [
          0,
          1
         ],
         "gridcolor": "lightgrey",
         "linecolor": "black",
         "mirror": true,
         "showline": true,
         "ticks": "outside",
         "title": {}
        },
        "yaxis": {
         "anchor": "x",
         "domain": [
          0,
          1
         ],
         "gridcolor": "lightgrey",
         "linecolor": "black",
         "mirror": true,
         "showline": true,
         "ticks": "outside",
         "title": {
          "text": "Peak demand (GW)"
         }
        }
       }
      }
     },
     "metadata": {},
     "output_type": "display_data"
    }
   ],
   "source": [
    "peaks_df = pd.concat([scen_peak_demand_df, copper_demand_peaks_long])\n",
    "peaks_df[\"value\"] /= 1e3\n",
    "peaks_df[\"province\"] = \"Ontario\"\n",
    "\n",
    "peak_fig = sciencify_plotly_fig(px.line(peaks_df, x=\"pds\",y=\"value\",color=\"scenario\", facet_col=\"province\", template=\"plotly\", width=500))\n",
    "peak_fig.update_layout(\n",
    "    yaxis_title=\"Peak demand (GW)\",\n",
    "    xaxis_title=None,\n",
    "    legend=dict(\n",
    "        title_text=None,\n",
    "        x=0.01,\n",
    "        y=0.99,\n",
    "        # bgcolor=\"grey\"\n",
    "        bordercolor=\"grey\",\n",
    "        borderwidth=2,\n",
    "    ),\n",
    "    width=500,\n",
    "    font_family=\"cm\",\n",
    "    font_size=18\n",
    ")\n",
    "peak_fig.write_image(f\"peak_demands_{date_str}.svg\")\n",
    "peak_fig.write_image(f\"peak_demands_{date_str}.pdf\")\n",
    "peak_fig\n"
   ]
  },
  {
   "cell_type": "code",
   "execution_count": 48,
   "metadata": {},
   "outputs": [
    {
     "data": {
      "text/plain": [
       "scenario\n",
       "BAU                  0.552192\n",
       "CER                  0.490606\n",
       "CER+                 0.547940\n",
       "COPPER projection    0.000000\n",
       "Rapid                0.245834\n",
       "Rapid+               0.245999\n",
       "Name: 2050, dtype: float64"
      ]
     },
     "execution_count": 48,
     "metadata": {},
     "output_type": "execute_result"
    }
   ],
   "source": [
    "wide_peaks = peaks_df.pivot(columns=\"scenario\", index=\"pds\", values=\"value\")\n",
    "(wide_peaks.loc[2050,:]-wide_peaks.loc[2050,\"COPPER projection\"])/wide_peaks.loc[2050,\"COPPER projection\"]"
   ]
  },
  {
   "cell_type": "code",
   "execution_count": 49,
   "metadata": {},
   "outputs": [],
   "source": [
    "from viz.copper import tech_agg\n",
    "\n",
    "def get_nice_tech_name(key):\n",
    "    try:\n",
    "        nice_name = tech_agg[key]\n",
    "    except KeyError as ke:\n",
    "        nice_name = key\n",
    "    \n",
    "    return nice_name\n",
    "\n",
    "\n",
    "scen_supply_share_df[\"Generator\"] = scen_supply_share_df.Type.apply(get_nice_tech_name)\n",
    "scen_supply_share_df = scen_supply_share_df.groupby([\"pds\",\"Generator\",\"scenario\"])[[\"value\"]].sum().reset_index()\n"
   ]
  },
  {
   "cell_type": "code",
   "execution_count": 50,
   "id": "01HXHAVPEMSTJG4FV394N7X8BN",
   "metadata": {},
   "outputs": [
    {
     "data": {
      "text/html": [
       "<div>\n",
       "<style scoped>\n",
       "    .dataframe tbody tr th:only-of-type {\n",
       "        vertical-align: middle;\n",
       "    }\n",
       "\n",
       "    .dataframe tbody tr th {\n",
       "        vertical-align: top;\n",
       "    }\n",
       "\n",
       "    .dataframe thead th {\n",
       "        text-align: right;\n",
       "    }\n",
       "</style>\n",
       "<table border=\"1\" class=\"dataframe\">\n",
       "  <thead>\n",
       "    <tr style=\"text-align: right;\">\n",
       "      <th>scenario</th>\n",
       "      <th>BAU</th>\n",
       "      <th>CER</th>\n",
       "      <th>CER+</th>\n",
       "      <th>Rapid</th>\n",
       "      <th>Rapid+</th>\n",
       "    </tr>\n",
       "    <tr>\n",
       "      <th>Generator</th>\n",
       "      <th></th>\n",
       "      <th></th>\n",
       "      <th></th>\n",
       "      <th></th>\n",
       "      <th></th>\n",
       "    </tr>\n",
       "  </thead>\n",
       "  <tbody>\n",
       "    <tr>\n",
       "      <th>Fossil fuel gas</th>\n",
       "      <td>0.063338</td>\n",
       "      <td>0.010153</td>\n",
       "      <td>0.009906</td>\n",
       "      <td>0.008118</td>\n",
       "      <td>0.008084</td>\n",
       "    </tr>\n",
       "    <tr>\n",
       "      <th>Hydro</th>\n",
       "      <td>0.126807</td>\n",
       "      <td>0.132906</td>\n",
       "      <td>0.133161</td>\n",
       "      <td>0.135020</td>\n",
       "      <td>0.135085</td>\n",
       "    </tr>\n",
       "    <tr>\n",
       "      <th>Nuclear</th>\n",
       "      <td>0.500099</td>\n",
       "      <td>0.649432</td>\n",
       "      <td>0.652293</td>\n",
       "      <td>0.672402</td>\n",
       "      <td>0.673142</td>\n",
       "    </tr>\n",
       "    <tr>\n",
       "      <th>Solar</th>\n",
       "      <td>0.005328</td>\n",
       "      <td>0.005584</td>\n",
       "      <td>0.005594</td>\n",
       "      <td>0.005673</td>\n",
       "      <td>0.005675</td>\n",
       "    </tr>\n",
       "    <tr>\n",
       "      <th>Wind</th>\n",
       "      <td>0.304427</td>\n",
       "      <td>0.201926</td>\n",
       "      <td>0.199045</td>\n",
       "      <td>0.178787</td>\n",
       "      <td>0.178014</td>\n",
       "    </tr>\n",
       "  </tbody>\n",
       "</table>\n",
       "</div>"
      ],
      "text/plain": [
       "scenario              BAU       CER      CER+     Rapid    Rapid+\n",
       "Generator                                                        \n",
       "Fossil fuel gas  0.063338  0.010153  0.009906  0.008118  0.008084\n",
       "Hydro            0.126807  0.132906  0.133161  0.135020  0.135085\n",
       "Nuclear          0.500099  0.649432  0.652293  0.672402  0.673142\n",
       "Solar            0.005328  0.005584  0.005594  0.005673  0.005675\n",
       "Wind             0.304427  0.201926  0.199045  0.178787  0.178014"
      ]
     },
     "execution_count": 50,
     "metadata": {},
     "output_type": "execute_result"
    }
   ],
   "source": [
    "scen_supply_share_df.query(\"pds==2025\").pivot(columns=\"scenario\",index=\"Generator\",values=\"value\")"
   ]
  },
  {
   "cell_type": "code",
   "execution_count": 51,
   "metadata": {},
   "outputs": [
    {
     "data": {
      "text/html": [
       "<div>\n",
       "<style scoped>\n",
       "    .dataframe tbody tr th:only-of-type {\n",
       "        vertical-align: middle;\n",
       "    }\n",
       "\n",
       "    .dataframe tbody tr th {\n",
       "        vertical-align: top;\n",
       "    }\n",
       "\n",
       "    .dataframe thead th {\n",
       "        text-align: right;\n",
       "    }\n",
       "</style>\n",
       "<table border=\"1\" class=\"dataframe\">\n",
       "  <thead>\n",
       "    <tr style=\"text-align: right;\">\n",
       "      <th>scenario</th>\n",
       "      <th>BAU</th>\n",
       "      <th>CER</th>\n",
       "      <th>CER+</th>\n",
       "      <th>Rapid</th>\n",
       "      <th>Rapid+</th>\n",
       "    </tr>\n",
       "    <tr>\n",
       "      <th>Generator</th>\n",
       "      <th></th>\n",
       "      <th></th>\n",
       "      <th></th>\n",
       "      <th></th>\n",
       "      <th></th>\n",
       "    </tr>\n",
       "  </thead>\n",
       "  <tbody>\n",
       "    <tr>\n",
       "      <th>Biomass</th>\n",
       "      <td>NaN</td>\n",
       "      <td>0.001745</td>\n",
       "      <td>0.001706</td>\n",
       "      <td>0.001114</td>\n",
       "      <td>0.001128</td>\n",
       "    </tr>\n",
       "    <tr>\n",
       "      <th>Fossil fuel gas</th>\n",
       "      <td>0.179649</td>\n",
       "      <td>0.004929</td>\n",
       "      <td>0.005276</td>\n",
       "      <td>NaN</td>\n",
       "      <td>NaN</td>\n",
       "    </tr>\n",
       "    <tr>\n",
       "      <th>Hydro</th>\n",
       "      <td>0.029990</td>\n",
       "      <td>0.035234</td>\n",
       "      <td>0.034491</td>\n",
       "      <td>0.037178</td>\n",
       "      <td>0.037173</td>\n",
       "    </tr>\n",
       "    <tr>\n",
       "      <th>Hydrogen - blue</th>\n",
       "      <td>NaN</td>\n",
       "      <td>0.061563</td>\n",
       "      <td>0.063930</td>\n",
       "      <td>NaN</td>\n",
       "      <td>NaN</td>\n",
       "    </tr>\n",
       "    <tr>\n",
       "      <th>Hydrogen - green</th>\n",
       "      <td>NaN</td>\n",
       "      <td>NaN</td>\n",
       "      <td>NaN</td>\n",
       "      <td>0.001137</td>\n",
       "      <td>0.000932</td>\n",
       "    </tr>\n",
       "    <tr>\n",
       "      <th>Nuclear</th>\n",
       "      <td>0.071293</td>\n",
       "      <td>0.071105</td>\n",
       "      <td>0.067710</td>\n",
       "      <td>0.107768</td>\n",
       "      <td>0.110310</td>\n",
       "    </tr>\n",
       "    <tr>\n",
       "      <th>Solar</th>\n",
       "      <td>0.046533</td>\n",
       "      <td>0.077365</td>\n",
       "      <td>0.087274</td>\n",
       "      <td>0.061162</td>\n",
       "      <td>0.067728</td>\n",
       "    </tr>\n",
       "    <tr>\n",
       "      <th>Wind</th>\n",
       "      <td>0.672534</td>\n",
       "      <td>0.748059</td>\n",
       "      <td>0.739612</td>\n",
       "      <td>0.791640</td>\n",
       "      <td>0.782728</td>\n",
       "    </tr>\n",
       "  </tbody>\n",
       "</table>\n",
       "</div>"
      ],
      "text/plain": [
       "scenario               BAU       CER      CER+     Rapid    Rapid+\n",
       "Generator                                                         \n",
       "Biomass                NaN  0.001745  0.001706  0.001114  0.001128\n",
       "Fossil fuel gas   0.179649  0.004929  0.005276       NaN       NaN\n",
       "Hydro             0.029990  0.035234  0.034491  0.037178  0.037173\n",
       "Hydrogen - blue        NaN  0.061563  0.063930       NaN       NaN\n",
       "Hydrogen - green       NaN       NaN       NaN  0.001137  0.000932\n",
       "Nuclear           0.071293  0.071105  0.067710  0.107768  0.110310\n",
       "Solar             0.046533  0.077365  0.087274  0.061162  0.067728\n",
       "Wind              0.672534  0.748059  0.739612  0.791640  0.782728"
      ]
     },
     "execution_count": 51,
     "metadata": {},
     "output_type": "execute_result"
    }
   ],
   "source": [
    "scen_supply_share_df.query(\"pds==2050\").pivot(columns=\"scenario\",index=\"Generator\",values=\"value\")"
   ]
  },
  {
   "cell_type": "code",
   "execution_count": 52,
   "metadata": {},
   "outputs": [],
   "source": [
    "import plotly.express as px\n",
    "from abetam.figures import sciencify_plotly_fig\n",
    "from viz.copper import IDEA_COLORS\n",
    "\n",
    "gen_sharefig = px.area(scen_supply_share_df, x=\"pds\", y=\"value\", color=\"Generator\", facet_col=\"scenario\", template=\"plotly\", width=900, color_discrete_map=IDEA_COLORS)\n",
    "gen_sharefig.for_each_trace(lambda trace: trace.update(fillcolor = trace.line.color, line_width=0))\n",
    "gen_sharefig = sciencify_plotly_fig(gen_sharefig)\n",
    "gen_sharefig = gen_sharefig.update_layout(\n",
    "    yaxis_title=\"Generation share (-)\",\n",
    "    xaxis1_title=\"year\",\n",
    "    xaxis2_title=\"year\",\n",
    "    xaxis3_title=\"year\",\n",
    ")"
   ]
  },
  {
   "cell_type": "code",
   "execution_count": 53,
   "metadata": {},
   "outputs": [],
   "source": [
    "# # scale with no. rundays\n",
    "# scen_total_demand_df[\"value\"] *= 365/12\n",
    "# # px.line(scen_total_demand_df, x=\"pds\", y=\"value\", color=\"scenario\", template=\"plotly\", width=700)"
   ]
  },
  {
   "cell_type": "code",
   "execution_count": 54,
   "metadata": {},
   "outputs": [],
   "source": [
    "# scen_peak_demand_df[\"demand_type\"] = \"Peak demand\"\n",
    "# scen_total_demand_df[\"demand_type\"] = \"Total demand\"\n",
    "# fig = px.line(pd.concat([scen_peak_demand_df, scen_total_demand_df]), x=\"pds\", y=\"value\", color=\"scenario\", facet_row=\"demand_type\", template=\"plotly\", width=600)\n",
    "# fig = fig.for_each_annotation(lambda a: a.update(text=a.text.split(\"=\")[-1]))\n",
    "# fig.update_yaxes(matches=None)"
   ]
  },
  {
   "cell_type": "code",
   "execution_count": 55,
   "metadata": {},
   "outputs": [],
   "source": [
    "import plotly.express as px\n",
    "\n",
    "# total_demand[\"h\"] = total_demand[\"h\"].astype(\"str\")\n",
    "#px.line(total_demand, x=\"h\", y=\"value\", color=\"pds\", template=\"plotly\")"
   ]
  },
  {
   "cell_type": "markdown",
   "metadata": {},
   "source": [
    "## Copper installed capacity"
   ]
  },
  {
   "cell_type": "code",
   "execution_count": 56,
   "metadata": {},
   "outputs": [],
   "source": [
    "from viz.copper import tech_agg, IDEA_COLORS\n",
    "import pandas as pd\n",
    "gridcell_data = pd.read_csv('copper/scenarios/static/gridcells.csv')\n",
    "map_gl_to_ba=dict(gridcell_data[['grid_cell', 'ba']].values)\n",
    "\n",
    "\n",
    "def get_capacity_frame(results_dir):\n",
    "    capacitiy_files = list(Path(results_dir).glob(\"capacity_*\"))\n",
    "    generation_dfs = []\n",
    "    therm_df = None\n",
    "    transmission_df = None\n",
    "    storage_df = None\n",
    "    for f in capacitiy_files:\n",
    "        if \"transmission\" in f.as_posix():\n",
    "            transmission_df = pd.read_csv(f)\n",
    "            assert transmission_df[\"value\"].sum() == 0\n",
    "        elif \"storage\" in f.as_posix():\n",
    "            storage_df = pd.read_csv(f).rename({\"st\":\"type\"}, axis=1)\n",
    "            storage_df[\"gl\"] = None\n",
    "            generation_dfs.append(storage_df)\n",
    "        else:\n",
    "            df = pd.read_csv(f)\n",
    "            gen_type = f.stem.split(\"_\",1)[-1]\n",
    "            if \"tplants\" in df.columns:\n",
    "                therm_df = df.copy()\n",
    "                df = df.rename({\"tplants\":\"type\"}, axis=1)\n",
    "                df[\"gl\"] = None\n",
    "            else:\n",
    "                df[\"type\"] = gen_type\n",
    "                df[\"aba\"] = df[\"gl\"].apply(map_gl_to_ba.get)\n",
    "            # print(gen_type, df.columns)\n",
    "            generation_dfs.append(df)\n",
    "    retire_df = pd.read_csv(Path(results_dir)/\"retire_therm.csv\").rename({\"tplants\":\"type\"}, axis=1)\n",
    "    retire_df[\"type\"] = retire_df[\"type\"] + \"_retire\"\n",
    "    gen_cap_df = pd.concat(generation_dfs + [retire_df])\n",
    "    return gen_cap_df\n",
    "\n",
    "def simplify_unit_name(name, use_idea=False):\n",
    "    if use_idea:\n",
    "        return tech_agg.get(name)\n",
    "    split = name.rsplit(\"_\", 1)\n",
    "    if len(split) == 1:\n",
    "        return name\n",
    "\n",
    "    head, tail = split\n",
    "    if tail in [\"SMR\", \"ofs\", \"ons\", \"LI\", \"PH\"]:\n",
    "        return name\n",
    "    elif \"_recon\" in head:\n",
    "        return head.rsplit(\"_\", 1)[0]\n",
    "    elif \"gas\" in head:\n",
    "        if \"retire\" in head:\n",
    "            return \"gas_retire\"\n",
    "        elif \"backup\" in head:\n",
    "            return \"gas_backup\"\n",
    "        else:\n",
    "            return \"gas\"\n",
    "    else:\n",
    "        return head\n",
    "\n",
    "def post_process_gen_cap(gen_cap_df, use_idea=False):\n",
    "    \n",
    "    gen_cap_df[\"Generator\"] = gen_cap_df.type.apply(simplify_unit_name, use_idea=use_idea)\n",
    "    gen_cap_df[\"province\"] = gen_cap_df[\"aba\"].str.split(\".\", expand=True)[0]\n",
    "    ba_cap_df = (\n",
    "        gen_cap_df.groupby([\"province\", \"pds\", \"Generator\"])[\"value\"].sum().reset_index()\n",
    "    )\n",
    "\n",
    "    # remove generators that aren't built\n",
    "    keep_types = ba_cap_df.groupby([\"pds\", \"Generator\"])[\"value\"].sum() > 0\n",
    "\n",
    "    keep_types = keep_types  # & keep_names\n",
    "    ba_cap_df = ba_cap_df.set_index([\"pds\", \"Generator\"]).loc[keep_types, :].reset_index()\n",
    "\n",
    "    ba_cap_df[\"type\"] = ba_cap_df[\"Generator\"]\n",
    "    keep_names = ~ba_cap_df.set_index([\"pds\", \"Generator\"])[\"type\"].str.contains(\"retire\")\n",
    "    ba_cap_df.set_index([\"pds\", \"Generator\"], inplace=True)\n",
    "    ba_cap_df.loc[keep_names, \"cap_type\"] = \"invested\"\n",
    "    ba_cap_df.loc[~keep_names, \"cap_type\"] = \"retired\"\n",
    "\n",
    "    ba_cap_df.reset_index(inplace=True)\n",
    "    ba_cap_df.rename({\"value\": \"Capacity (GW)\"}, axis=1, inplace=True)\n",
    "    ba_cap_df[\"Capacity (GW)\"] /= 1000\n",
    "    return ba_cap_df\n",
    "\n"
   ]
  },
  {
   "cell_type": "code",
   "execution_count": 57,
   "metadata": {},
   "outputs": [
    {
     "data": {
      "text/html": [
       "<div>\n",
       "<style scoped>\n",
       "    .dataframe tbody tr th:only-of-type {\n",
       "        vertical-align: middle;\n",
       "    }\n",
       "\n",
       "    .dataframe tbody tr th {\n",
       "        vertical-align: top;\n",
       "    }\n",
       "\n",
       "    .dataframe thead th {\n",
       "        text-align: right;\n",
       "    }\n",
       "</style>\n",
       "<table border=\"1\" class=\"dataframe\">\n",
       "  <thead>\n",
       "    <tr style=\"text-align: right;\">\n",
       "      <th></th>\n",
       "      <th>pds</th>\n",
       "      <th>Generator</th>\n",
       "      <th>province</th>\n",
       "      <th>Capacity (GW)</th>\n",
       "      <th>type</th>\n",
       "      <th>cap_type</th>\n",
       "      <th>scenario</th>\n",
       "    </tr>\n",
       "  </thead>\n",
       "  <tbody>\n",
       "    <tr>\n",
       "      <th>0</th>\n",
       "      <td>2025</td>\n",
       "      <td>Fossil fuel gas</td>\n",
       "      <td>Ontario</td>\n",
       "      <td>1.602524</td>\n",
       "      <td>Fossil fuel gas</td>\n",
       "      <td>invested</td>\n",
       "      <td>BAU</td>\n",
       "    </tr>\n",
       "    <tr>\n",
       "      <th>1</th>\n",
       "      <td>2025</td>\n",
       "      <td>Fossil fuel gas - retired</td>\n",
       "      <td>Ontario</td>\n",
       "      <td>-4.129120</td>\n",
       "      <td>Fossil fuel gas - retired</td>\n",
       "      <td>retired</td>\n",
       "      <td>BAU</td>\n",
       "    </tr>\n",
       "    <tr>\n",
       "      <th>2</th>\n",
       "      <td>2025</td>\n",
       "      <td>Wind</td>\n",
       "      <td>Ontario</td>\n",
       "      <td>3.911011</td>\n",
       "      <td>Wind</td>\n",
       "      <td>invested</td>\n",
       "      <td>BAU</td>\n",
       "    </tr>\n",
       "    <tr>\n",
       "      <th>3</th>\n",
       "      <td>2030</td>\n",
       "      <td>Fossil fuel gas</td>\n",
       "      <td>Ontario</td>\n",
       "      <td>6.918497</td>\n",
       "      <td>Fossil fuel gas</td>\n",
       "      <td>invested</td>\n",
       "      <td>BAU</td>\n",
       "    </tr>\n",
       "    <tr>\n",
       "      <th>4</th>\n",
       "      <td>2030</td>\n",
       "      <td>Fossil fuel gas - retired</td>\n",
       "      <td>Ontario</td>\n",
       "      <td>-2.293680</td>\n",
       "      <td>Fossil fuel gas - retired</td>\n",
       "      <td>retired</td>\n",
       "      <td>BAU</td>\n",
       "    </tr>\n",
       "  </tbody>\n",
       "</table>\n",
       "</div>"
      ],
      "text/plain": [
       "    pds                  Generator province  Capacity (GW)  \\\n",
       "0  2025            Fossil fuel gas  Ontario       1.602524   \n",
       "1  2025  Fossil fuel gas - retired  Ontario      -4.129120   \n",
       "2  2025                       Wind  Ontario       3.911011   \n",
       "3  2030            Fossil fuel gas  Ontario       6.918497   \n",
       "4  2030  Fossil fuel gas - retired  Ontario      -2.293680   \n",
       "\n",
       "                        type  cap_type scenario  \n",
       "0            Fossil fuel gas  invested      BAU  \n",
       "1  Fossil fuel gas - retired   retired      BAU  \n",
       "2                       Wind  invested      BAU  \n",
       "3            Fossil fuel gas  invested      BAU  \n",
       "4  Fossil fuel gas - retired   retired      BAU  "
      ]
     },
     "execution_count": 57,
     "metadata": {},
     "output_type": "execute_result"
    }
   ],
   "source": [
    "def get_sign(t):\n",
    "    if \"retire\" in t:\n",
    "        return -1\n",
    "    else:\n",
    "        return 1\n",
    "\n",
    "cap_dfs = []\n",
    "for scenario in result_df.Scenario.unique():\n",
    "    path = result_df.query(f\"iteration==1 and Scenario=='{scenario}'\")[\"ESM path\"].values[0]\n",
    "    cap_df = get_capacity_frame(path)\n",
    "    ba_cap_df = post_process_gen_cap(cap_df, use_idea=True)\n",
    "    ba_cap_df[\"Capacity (GW)\"] *= ba_cap_df[\"Generator\"].apply(get_sign)\n",
    "    ba_cap_df[\"scenario\"] = scenario\n",
    "    cap_dfs.append(ba_cap_df)\n",
    "\n",
    "cap_df = pd.concat(cap_dfs)\n",
    "cap_df.head()"
   ]
  },
  {
   "cell_type": "code",
   "execution_count": 58,
   "metadata": {},
   "outputs": [
    {
     "data": {
      "text/html": [
       "<div>\n",
       "<style scoped>\n",
       "    .dataframe tbody tr th:only-of-type {\n",
       "        vertical-align: middle;\n",
       "    }\n",
       "\n",
       "    .dataframe tbody tr th {\n",
       "        vertical-align: top;\n",
       "    }\n",
       "\n",
       "    .dataframe thead th {\n",
       "        text-align: right;\n",
       "    }\n",
       "</style>\n",
       "<table border=\"1\" class=\"dataframe\">\n",
       "  <thead>\n",
       "    <tr style=\"text-align: right;\">\n",
       "      <th>scenario</th>\n",
       "      <th>BAU</th>\n",
       "      <th>CER</th>\n",
       "      <th>CER+</th>\n",
       "      <th>Rapid</th>\n",
       "      <th>Rapid+</th>\n",
       "    </tr>\n",
       "    <tr>\n",
       "      <th>Generator</th>\n",
       "      <th></th>\n",
       "      <th></th>\n",
       "      <th></th>\n",
       "      <th></th>\n",
       "      <th></th>\n",
       "    </tr>\n",
       "  </thead>\n",
       "  <tbody>\n",
       "    <tr>\n",
       "      <th>Biomass</th>\n",
       "      <td>0.000000</td>\n",
       "      <td>0.245300</td>\n",
       "      <td>0.245300</td>\n",
       "      <td>0.245300</td>\n",
       "      <td>0.245300</td>\n",
       "    </tr>\n",
       "    <tr>\n",
       "      <th>Fossil fuel gas</th>\n",
       "      <td>27.319271</td>\n",
       "      <td>3.679032</td>\n",
       "      <td>4.028618</td>\n",
       "      <td>0.000000</td>\n",
       "      <td>0.000000</td>\n",
       "    </tr>\n",
       "    <tr>\n",
       "      <th>Fossil fuel gas - retired</th>\n",
       "      <td>-8.210800</td>\n",
       "      <td>-6.664800</td>\n",
       "      <td>-5.167800</td>\n",
       "      <td>-6.989800</td>\n",
       "      <td>-6.989800</td>\n",
       "    </tr>\n",
       "    <tr>\n",
       "      <th>Hydrogen - blue</th>\n",
       "      <td>0.000000</td>\n",
       "      <td>15.622811</td>\n",
       "      <td>16.596096</td>\n",
       "      <td>0.000000</td>\n",
       "      <td>0.000000</td>\n",
       "    </tr>\n",
       "    <tr>\n",
       "      <th>Hydrogen - green</th>\n",
       "      <td>0.000000</td>\n",
       "      <td>0.000000</td>\n",
       "      <td>0.000000</td>\n",
       "      <td>1.281765</td>\n",
       "      <td>1.103897</td>\n",
       "    </tr>\n",
       "    <tr>\n",
       "      <th>LI Storage</th>\n",
       "      <td>3.451541</td>\n",
       "      <td>3.209474</td>\n",
       "      <td>3.431117</td>\n",
       "      <td>12.312242</td>\n",
       "      <td>13.139795</td>\n",
       "    </tr>\n",
       "    <tr>\n",
       "      <th>Nuclear</th>\n",
       "      <td>0.000000</td>\n",
       "      <td>0.000000</td>\n",
       "      <td>0.000000</td>\n",
       "      <td>5.690344</td>\n",
       "      <td>5.909669</td>\n",
       "    </tr>\n",
       "    <tr>\n",
       "      <th>Nuclear - retired</th>\n",
       "      <td>-4.660000</td>\n",
       "      <td>-4.660000</td>\n",
       "      <td>-4.660000</td>\n",
       "      <td>-4.660000</td>\n",
       "      <td>-4.660000</td>\n",
       "    </tr>\n",
       "    <tr>\n",
       "      <th>PH Storage</th>\n",
       "      <td>0.283600</td>\n",
       "      <td>0.283600</td>\n",
       "      <td>0.283600</td>\n",
       "      <td>0.283600</td>\n",
       "      <td>0.283600</td>\n",
       "    </tr>\n",
       "    <tr>\n",
       "      <th>Solar</th>\n",
       "      <td>13.734257</td>\n",
       "      <td>28.144079</td>\n",
       "      <td>29.249123</td>\n",
       "      <td>21.994353</td>\n",
       "      <td>21.970824</td>\n",
       "    </tr>\n",
       "    <tr>\n",
       "      <th>Wind</th>\n",
       "      <td>52.466198</td>\n",
       "      <td>78.051708</td>\n",
       "      <td>80.342823</td>\n",
       "      <td>89.677282</td>\n",
       "      <td>89.244230</td>\n",
       "    </tr>\n",
       "  </tbody>\n",
       "</table>\n",
       "</div>"
      ],
      "text/plain": [
       "scenario                         BAU        CER       CER+      Rapid  \\\n",
       "Generator                                                               \n",
       "Biomass                     0.000000   0.245300   0.245300   0.245300   \n",
       "Fossil fuel gas            27.319271   3.679032   4.028618   0.000000   \n",
       "Fossil fuel gas - retired  -8.210800  -6.664800  -5.167800  -6.989800   \n",
       "Hydrogen - blue             0.000000  15.622811  16.596096   0.000000   \n",
       "Hydrogen - green            0.000000   0.000000   0.000000   1.281765   \n",
       "LI Storage                  3.451541   3.209474   3.431117  12.312242   \n",
       "Nuclear                     0.000000   0.000000   0.000000   5.690344   \n",
       "Nuclear - retired          -4.660000  -4.660000  -4.660000  -4.660000   \n",
       "PH Storage                  0.283600   0.283600   0.283600   0.283600   \n",
       "Solar                      13.734257  28.144079  29.249123  21.994353   \n",
       "Wind                       52.466198  78.051708  80.342823  89.677282   \n",
       "\n",
       "scenario                      Rapid+  \n",
       "Generator                             \n",
       "Biomass                     0.245300  \n",
       "Fossil fuel gas             0.000000  \n",
       "Fossil fuel gas - retired  -6.989800  \n",
       "Hydrogen - blue             0.000000  \n",
       "Hydrogen - green            1.103897  \n",
       "LI Storage                 13.139795  \n",
       "Nuclear                     5.909669  \n",
       "Nuclear - retired          -4.660000  \n",
       "PH Storage                  0.283600  \n",
       "Solar                      21.970824  \n",
       "Wind                       89.244230  "
      ]
     },
     "execution_count": 58,
     "metadata": {},
     "output_type": "execute_result"
    }
   ],
   "source": [
    "cum_cap_df = cap_df.groupby([\"scenario\",\"Generator\"])[\"Capacity (GW)\"].sum().reset_index().pivot(columns=\"scenario\",index=\"Generator\",values=\"Capacity (GW)\").fillna(0)\n",
    "cum_cap_df"
   ]
  },
  {
   "cell_type": "code",
   "execution_count": 59,
   "metadata": {},
   "outputs": [
    {
     "data": {
      "text/html": [
       "<div>\n",
       "<style scoped>\n",
       "    .dataframe tbody tr th:only-of-type {\n",
       "        vertical-align: middle;\n",
       "    }\n",
       "\n",
       "    .dataframe tbody tr th {\n",
       "        vertical-align: top;\n",
       "    }\n",
       "\n",
       "    .dataframe thead th {\n",
       "        text-align: right;\n",
       "    }\n",
       "</style>\n",
       "<table border=\"1\" class=\"dataframe\">\n",
       "  <thead>\n",
       "    <tr style=\"text-align: right;\">\n",
       "      <th></th>\n",
       "      <th>Generator</th>\n",
       "      <th>0</th>\n",
       "    </tr>\n",
       "  </thead>\n",
       "  <tbody>\n",
       "    <tr>\n",
       "      <th>0</th>\n",
       "      <td>Biomass</td>\n",
       "      <td>0.000000</td>\n",
       "    </tr>\n",
       "    <tr>\n",
       "      <th>1</th>\n",
       "      <td>Fossil fuel gas</td>\n",
       "      <td>9.502131</td>\n",
       "    </tr>\n",
       "    <tr>\n",
       "      <th>2</th>\n",
       "      <td>Fossil fuel gas - retired</td>\n",
       "      <td>-22.461289</td>\n",
       "    </tr>\n",
       "    <tr>\n",
       "      <th>3</th>\n",
       "      <td>Hydrogen - blue</td>\n",
       "      <td>6.229895</td>\n",
       "    </tr>\n",
       "    <tr>\n",
       "      <th>4</th>\n",
       "      <td>Hydrogen - green</td>\n",
       "      <td>NaN</td>\n",
       "    </tr>\n",
       "    <tr>\n",
       "      <th>5</th>\n",
       "      <td>LI Storage</td>\n",
       "      <td>6.905903</td>\n",
       "    </tr>\n",
       "    <tr>\n",
       "      <th>6</th>\n",
       "      <td>Nuclear</td>\n",
       "      <td>NaN</td>\n",
       "    </tr>\n",
       "    <tr>\n",
       "      <th>7</th>\n",
       "      <td>Nuclear - retired</td>\n",
       "      <td>-0.000000</td>\n",
       "    </tr>\n",
       "    <tr>\n",
       "      <th>8</th>\n",
       "      <td>PH Storage</td>\n",
       "      <td>0.000000</td>\n",
       "    </tr>\n",
       "    <tr>\n",
       "      <th>9</th>\n",
       "      <td>Solar</td>\n",
       "      <td>3.926381</td>\n",
       "    </tr>\n",
       "    <tr>\n",
       "      <th>10</th>\n",
       "      <td>Wind</td>\n",
       "      <td>2.935380</td>\n",
       "    </tr>\n",
       "  </tbody>\n",
       "</table>\n",
       "</div>"
      ],
      "text/plain": [
       "                    Generator          0\n",
       "0                     Biomass   0.000000\n",
       "1             Fossil fuel gas   9.502131\n",
       "2   Fossil fuel gas - retired -22.461289\n",
       "3             Hydrogen - blue   6.229895\n",
       "4            Hydrogen - green        NaN\n",
       "5                  LI Storage   6.905903\n",
       "6                     Nuclear        NaN\n",
       "7           Nuclear - retired  -0.000000\n",
       "8                  PH Storage   0.000000\n",
       "9                       Solar   3.926381\n",
       "10                       Wind   2.935380"
      ]
     },
     "execution_count": 59,
     "metadata": {},
     "output_type": "execute_result"
    }
   ],
   "source": [
    "((cum_cap_df[\"CER+\"] - cum_cap_df[\"CER\"])/cum_cap_df[\"CER\"]*100).reset_index()"
   ]
  },
  {
   "cell_type": "code",
   "execution_count": 60,
   "id": "01J0RC8157RPDG96E4KA59P5JJ",
   "metadata": {},
   "outputs": [
    {
     "data": {
      "text/plain": [
       "{'Fossil fuel gas': '#ff6b6b',\n",
       " 'Fossil fuel gas - retired': '#784315',\n",
       " 'Fossil fuel gas CCS': '#ffaaa3',\n",
       " 'Fossil fuel gas backup': '#ffcbc5',\n",
       " 'Fossil fuel liquid': '#ffaa33',\n",
       " 'Fossil fuel liquid bio': '#ffcc66',\n",
       " 'Fossil fuel liquid backup': '#ffe5a7',\n",
       " 'Fossil fuel solid': '#b15928',\n",
       " 'Fossil fuel solid CCS': '#8b4513',\n",
       " 'Hydro': '#a6cee3',\n",
       " 'Hydrogen - green': '#2de35e',\n",
       " 'Hydrogen - blue': '#2496e3',\n",
       " 'PH Storage': '#6a3d9a',\n",
       " 'LI Storage': '#B39DE3',\n",
       " 'Wind': '#b2df8a',\n",
       " 'biomass': '#33a02c',\n",
       " 'Biomass': '#33a02c',\n",
       " 'nuclear': '#ff7f00',\n",
       " 'Nuclear': '#ff7f00',\n",
       " 'Nuclear - retired': '#ff7f00',\n",
       " 'solar': '#ffff99',\n",
       " 'Solar': '#ffff99',\n",
       " 'DR': '#b8860b',\n",
       " 'Other': '#d9a670',\n",
       " 'Under 25 MW': '#cab2d6',\n",
       " 'Imports': '#666666',\n",
       " 'Imports from USA': '#666666',\n",
       " 'Capacity Imports': '#666666',\n",
       " 'Exports': '#b3b4b2',\n",
       " 'Exports to USA': '#b3b4b2',\n",
       " 'Capacity Exports': '#b3b4b2',\n",
       " 'RNG': '#1f78b4',\n",
       " 'Total': '#000000'}"
      ]
     },
     "execution_count": 60,
     "metadata": {},
     "output_type": "execute_result"
    }
   ],
   "source": [
    "IDEA_COLORS"
   ]
  },
  {
   "cell_type": "code",
   "execution_count": 61,
   "metadata": {},
   "outputs": [],
   "source": [
    "from abetam.figures import sciencify_plotly_fig\n",
    "import plotly.express as px\n",
    "scen_cap_fig = sciencify_plotly_fig(px.bar(cap_df, x=\"pds\", y=\"Capacity (GW)\", color=\"Generator\", facet_col=\"scenario\", color_discrete_map=IDEA_COLORS))\n"
   ]
  },
  {
   "cell_type": "markdown",
   "metadata": {},
   "source": [
    "### Emissions\n"
   ]
  },
  {
   "cell_type": "code",
   "execution_count": 62,
   "metadata": {},
   "outputs": [],
   "source": [
    "import toml\n",
    "def get_year_frac(res_path:Path):\n",
    "    config = toml.load(res_path.joinpath(\"config.toml\"))\n",
    "    year_frac = len(config[\"Simulation_Settings\"][\"run_days\"])/365\n",
    "    return year_frac\n",
    "\n",
    "result_df[\"ESM year_frac\"] = result_df[\"ESM path\"].apply(get_year_frac)\n",
    "\n",
    "if len(result_df[\"ESM year_frac\"].unique())>1:\n",
    "    def add_year_frac(scen_name):\n",
    "        frac = result_df.query(f\"Scenario=='{scen_name}' and iteration==1\")[\"ESM year_frac\"]\n",
    "        return frac\n",
    "    scen_supply_df[\"year_frac\"] = scen_supply_df[\"scenario\"].apply(add_year_frac)\n",
    "else:\n",
    "    scen_supply_df[\"year_frac\"] = result_df[\"ESM year_frac\"][0]\n",
    "gen_type_df = pd.read_csv(\"copper/scenarios/BAU_Scenario/generation_type_data.csv\", index_col=0)\n",
    "scen_supply_df[\"emissions (Mt)\"] = (scen_supply_df[\"value\"]/scen_supply_df[\"year_frac\"]*gen_type_df[\"fuel_co2\"]) / 1e6\n",
    "scen_supply_agg = scen_supply_df.groupby([\"scenario\",\"pds\"])[\"emissions (Mt)\"].sum().groupby(\"scenario\").cumsum().reset_index()"
   ]
  },
  {
   "cell_type": "code",
   "execution_count": 63,
   "metadata": {},
   "outputs": [
    {
     "data": {
      "application/vnd.plotly.v1+json": {
       "config": {
        "plotlyServerURL": "https://plot.ly"
       },
       "data": [
        {
         "fillcolor": "#ff6b6b",
         "fillpattern": {
          "shape": ""
         },
         "hovertemplate": "Generator=Fossil fuel gas<br>scenario=BAU<br>pds=%{x}<br>value=%{y}<extra></extra>",
         "legendgroup": "gentechs",
         "legendgrouptitle": {
          "text": "Technologies"
         },
         "line": {
          "color": "#ff6b6b",
          "width": 0
         },
         "marker": {
          "symbol": "circle"
         },
         "mode": "lines",
         "name": "Fossil fuel gas",
         "orientation": "v",
         "showlegend": true,
         "stackgroup": "1",
         "type": "scatter",
         "x": [
          2025,
          2030,
          2035,
          2040,
          2045,
          2050
         ],
         "xaxis": "x",
         "y": [
          0.06333835530871025,
          0.11528776105191327,
          0.13769821529515908,
          0.15632289129015017,
          0.17581535133696966,
          0.17964891538944866
         ],
         "yaxis": "y"
        },
        {
         "fillcolor": "#ff6b6b",
         "fillpattern": {
          "shape": ""
         },
         "hovertemplate": "Generator=Fossil fuel gas<br>scenario=CER<br>pds=%{x}<br>value=%{y}<extra></extra>",
         "legendgroup": "gentechs",
         "legendgrouptitle": {
          "text": "Technologies"
         },
         "line": {
          "color": "#ff6b6b",
          "width": 0
         },
         "marker": {
          "symbol": "circle"
         },
         "mode": "lines",
         "name": "Fossil fuel gas",
         "orientation": "v",
         "showlegend": false,
         "stackgroup": "1",
         "type": "scatter",
         "x": [
          2025,
          2030,
          2035,
          2040,
          2045,
          2050
         ],
         "xaxis": "x2",
         "y": [
          0.010153092112036419,
          0.0338432973853182,
          0.0107376887823993,
          0.006171508711395431,
          0.005421310149840525,
          0.004929142804131047
         ],
         "yaxis": "y3"
        },
        {
         "fillcolor": "#ff6b6b",
         "fillpattern": {
          "shape": ""
         },
         "hovertemplate": "Generator=Fossil fuel gas<br>scenario=CER+<br>pds=%{x}<br>value=%{y}<extra></extra>",
         "legendgroup": "gentechs",
         "legendgrouptitle": {
          "text": "Technologies"
         },
         "line": {
          "color": "#ff6b6b",
          "width": 0
         },
         "marker": {
          "symbol": "circle"
         },
         "mode": "lines",
         "name": "Fossil fuel gas",
         "orientation": "v",
         "showlegend": false,
         "stackgroup": "1",
         "type": "scatter",
         "x": [
          2025,
          2030,
          2035,
          2040,
          2045,
          2050
         ],
         "xaxis": "x3",
         "y": [
          0.009905641331621662,
          0.03383325037965286,
          0.011033720531315645,
          0.006471784774713057,
          0.005738884201201449,
          0.005276385657170238
         ],
         "yaxis": "y5"
        },
        {
         "fillcolor": "#ff6b6b",
         "fillpattern": {
          "shape": ""
         },
         "hovertemplate": "Generator=Fossil fuel gas<br>scenario=Rapid<br>pds=%{x}<br>value=%{y}<extra></extra>",
         "legendgroup": "gentechs",
         "legendgrouptitle": {
          "text": "Technologies"
         },
         "line": {
          "color": "#ff6b6b",
          "width": 0
         },
         "marker": {
          "symbol": "circle"
         },
         "mode": "lines",
         "name": "Fossil fuel gas",
         "orientation": "v",
         "showlegend": false,
         "stackgroup": "1",
         "type": "scatter",
         "x": [
          2025,
          2030
         ],
         "xaxis": "x4",
         "y": [
          0.008118269078700502,
          0.010431719923630014
         ],
         "yaxis": "y7"
        },
        {
         "fillcolor": "#ff6b6b",
         "fillpattern": {
          "shape": ""
         },
         "hovertemplate": "Generator=Fossil fuel gas<br>scenario=Rapid+<br>pds=%{x}<br>value=%{y}<extra></extra>",
         "legendgroup": "gentechs",
         "legendgrouptitle": {
          "text": "Technologies"
         },
         "line": {
          "color": "#ff6b6b",
          "width": 0
         },
         "marker": {
          "symbol": "circle"
         },
         "mode": "lines",
         "name": "Fossil fuel gas",
         "orientation": "v",
         "showlegend": false,
         "stackgroup": "1",
         "type": "scatter",
         "x": [
          2025,
          2030
         ],
         "xaxis": "x5",
         "y": [
          0.00808359929808838,
          0.010371836677870857
         ],
         "yaxis": "y9"
        },
        {
         "fillcolor": "#a6cee3",
         "fillpattern": {
          "shape": ""
         },
         "hovertemplate": "Generator=Hydro<br>scenario=BAU<br>pds=%{x}<br>value=%{y}<extra></extra>",
         "legendgroup": "gentechs",
         "legendgrouptitle": {
          "text": "Technologies"
         },
         "line": {
          "color": "#a6cee3",
          "width": 0
         },
         "marker": {
          "symbol": "circle"
         },
         "mode": "lines",
         "name": "Hydro",
         "orientation": "v",
         "showlegend": true,
         "stackgroup": "1",
         "type": "scatter",
         "x": [
          2025,
          2030,
          2035,
          2040,
          2045,
          2050
         ],
         "xaxis": "x",
         "y": [
          0.126807302762507,
          0.07913883502440211,
          0.05798347437773875,
          0.04556671598473401,
          0.03486298423963646,
          0.029990190345462447
         ],
         "yaxis": "y"
        },
        {
         "fillcolor": "#a6cee3",
         "fillpattern": {
          "shape": ""
         },
         "hovertemplate": "Generator=Hydro<br>scenario=CER<br>pds=%{x}<br>value=%{y}<extra></extra>",
         "legendgroup": "gentechs",
         "legendgrouptitle": {
          "text": "Technologies"
         },
         "line": {
          "color": "#a6cee3",
          "width": 0
         },
         "marker": {
          "symbol": "circle"
         },
         "mode": "lines",
         "name": "Hydro",
         "orientation": "v",
         "showlegend": false,
         "stackgroup": "1",
         "type": "scatter",
         "x": [
          2025,
          2030,
          2035,
          2040,
          2045,
          2050
         ],
         "xaxis": "x2",
         "y": [
          0.13290551967611738,
          0.09237714726354938,
          0.061218551076854096,
          0.04700328670390153,
          0.038866763429169886,
          0.03523437938788656
         ],
         "yaxis": "y3"
        },
        {
         "fillcolor": "#a6cee3",
         "fillpattern": {
          "shape": ""
         },
         "hovertemplate": "Generator=Hydro<br>scenario=CER+<br>pds=%{x}<br>value=%{y}<extra></extra>",
         "legendgroup": "gentechs",
         "legendgrouptitle": {
          "text": "Technologies"
         },
         "line": {
          "color": "#a6cee3",
          "width": 0
         },
         "marker": {
          "symbol": "circle"
         },
         "mode": "lines",
         "name": "Hydro",
         "orientation": "v",
         "showlegend": false,
         "stackgroup": "1",
         "type": "scatter",
         "x": [
          2025,
          2030,
          2035,
          2040,
          2045,
          2050
         ],
         "xaxis": "x3",
         "y": [
          0.13316136110452031,
          0.09240052854170905,
          0.058936852054713544,
          0.044638277942412014,
          0.03752291986641622,
          0.03449122852079643
         ],
         "yaxis": "y5"
        },
        {
         "fillcolor": "#a6cee3",
         "fillpattern": {
          "shape": ""
         },
         "hovertemplate": "Generator=Hydro<br>scenario=Rapid<br>pds=%{x}<br>value=%{y}<extra></extra>",
         "legendgroup": "gentechs",
         "legendgrouptitle": {
          "text": "Technologies"
         },
         "line": {
          "color": "#a6cee3",
          "width": 0
         },
         "marker": {
          "symbol": "circle"
         },
         "mode": "lines",
         "name": "Hydro",
         "orientation": "v",
         "showlegend": false,
         "stackgroup": "1",
         "type": "scatter",
         "x": [
          2025,
          2030,
          2035,
          2040,
          2045,
          2050
         ],
         "xaxis": "x4",
         "y": [
          0.1350201616907253,
          0.10838879936963931,
          0.061847247990307226,
          0.04817817054385277,
          0.04185723635629756,
          0.0371782121805624
         ],
         "yaxis": "y7"
        },
        {
         "fillcolor": "#a6cee3",
         "fillpattern": {
          "shape": ""
         },
         "hovertemplate": "Generator=Hydro<br>scenario=Rapid+<br>pds=%{x}<br>value=%{y}<extra></extra>",
         "legendgroup": "gentechs",
         "legendgrouptitle": {
          "text": "Technologies"
         },
         "line": {
          "color": "#a6cee3",
          "width": 0
         },
         "marker": {
          "symbol": "circle"
         },
         "mode": "lines",
         "name": "Hydro",
         "orientation": "v",
         "showlegend": false,
         "stackgroup": "1",
         "type": "scatter",
         "x": [
          2025,
          2030,
          2035,
          2040,
          2045,
          2050
         ],
         "xaxis": "x5",
         "y": [
          0.13508464318660127,
          0.10733537002124559,
          0.05903640149323035,
          0.0477342686341143,
          0.041591720701324796,
          0.03717346441775948
         ],
         "yaxis": "y9"
        },
        {
         "fillcolor": "#ff7f00",
         "fillpattern": {
          "shape": ""
         },
         "hovertemplate": "Generator=Nuclear<br>scenario=BAU<br>pds=%{x}<br>value=%{y}<extra></extra>",
         "legendgroup": "gentechs",
         "legendgrouptitle": {
          "text": "Technologies"
         },
         "line": {
          "color": "#ff7f00",
          "width": 0
         },
         "marker": {
          "symbol": "circle"
         },
         "mode": "lines",
         "name": "Nuclear",
         "orientation": "v",
         "showlegend": true,
         "stackgroup": "1",
         "type": "scatter",
         "x": [
          2025,
          2030,
          2035,
          2040,
          2045,
          2050
         ],
         "xaxis": "x",
         "y": [
          0.5000994404420905,
          0.20220217661117207,
          0.14802021711939595,
          0.12172177951560569,
          0.08051689234200515,
          0.07129324567014417
         ],
         "yaxis": "y"
        },
        {
         "fillcolor": "#ff7f00",
         "fillpattern": {
          "shape": ""
         },
         "hovertemplate": "Generator=Nuclear<br>scenario=CER<br>pds=%{x}<br>value=%{y}<extra></extra>",
         "legendgroup": "gentechs",
         "legendgrouptitle": {
          "text": "Technologies"
         },
         "line": {
          "color": "#ff7f00",
          "width": 0
         },
         "marker": {
          "symbol": "circle"
         },
         "mode": "lines",
         "name": "Nuclear",
         "orientation": "v",
         "showlegend": false,
         "stackgroup": "1",
         "type": "scatter",
         "x": [
          2025,
          2030,
          2035,
          2040,
          2045,
          2050
         ],
         "xaxis": "x2",
         "y": [
          0.6494315133975296,
          0.2203848838649615,
          0.15361463740154677,
          0.12065800129406774,
          0.08422618233118383,
          0.07110483108736385
         ],
         "yaxis": "y3"
        },
        {
         "fillcolor": "#ff7f00",
         "fillpattern": {
          "shape": ""
         },
         "hovertemplate": "Generator=Nuclear<br>scenario=CER+<br>pds=%{x}<br>value=%{y}<extra></extra>",
         "legendgroup": "gentechs",
         "legendgrouptitle": {
          "text": "Technologies"
         },
         "line": {
          "color": "#ff7f00",
          "width": 0
         },
         "marker": {
          "symbol": "circle"
         },
         "mode": "lines",
         "name": "Nuclear",
         "orientation": "v",
         "showlegend": false,
         "stackgroup": "1",
         "type": "scatter",
         "x": [
          2025,
          2030,
          2035,
          2040,
          2045,
          2050
         ],
         "xaxis": "x3",
         "y": [
          0.6522931729804264,
          0.2206390892290949,
          0.14974065866559277,
          0.11738302991696689,
          0.07971637217685211,
          0.06770950234035823
         ],
         "yaxis": "y5"
        },
        {
         "fillcolor": "#ff7f00",
         "fillpattern": {
          "shape": ""
         },
         "hovertemplate": "Generator=Nuclear<br>scenario=Rapid<br>pds=%{x}<br>value=%{y}<extra></extra>",
         "legendgroup": "gentechs",
         "legendgrouptitle": {
          "text": "Technologies"
         },
         "line": {
          "color": "#ff7f00",
          "width": 0
         },
         "marker": {
          "symbol": "circle"
         },
         "mode": "lines",
         "name": "Nuclear",
         "orientation": "v",
         "showlegend": false,
         "stackgroup": "1",
         "type": "scatter",
         "x": [
          2025,
          2030,
          2035,
          2040,
          2045,
          2050
         ],
         "xaxis": "x4",
         "y": [
          0.6724020410770462,
          0.3229075160487153,
          0.18692246835202825,
          0.16707213309291127,
          0.12468131549819537,
          0.10776766565672438
         ],
         "yaxis": "y7"
        },
        {
         "fillcolor": "#ff7f00",
         "fillpattern": {
          "shape": ""
         },
         "hovertemplate": "Generator=Nuclear<br>scenario=Rapid+<br>pds=%{x}<br>value=%{y}<extra></extra>",
         "legendgroup": "gentechs",
         "legendgrouptitle": {
          "text": "Technologies"
         },
         "line": {
          "color": "#ff7f00",
          "width": 0
         },
         "marker": {
          "symbol": "circle"
         },
         "mode": "lines",
         "name": "Nuclear",
         "orientation": "v",
         "showlegend": false,
         "stackgroup": "1",
         "type": "scatter",
         "x": [
          2025,
          2030,
          2035,
          2040,
          2045,
          2050
         ],
         "xaxis": "x5",
         "y": [
          0.6731419757327198,
          0.3266187455401235,
          0.17943182113817605,
          0.16729974695026512,
          0.12552116821105527,
          0.1103099367330676
         ],
         "yaxis": "y9"
        },
        {
         "fillcolor": "#ffff99",
         "fillpattern": {
          "shape": ""
         },
         "hovertemplate": "Generator=Solar<br>scenario=BAU<br>pds=%{x}<br>value=%{y}<extra></extra>",
         "legendgroup": "gentechs",
         "legendgrouptitle": {
          "text": "Technologies"
         },
         "line": {
          "color": "#ffff99",
          "width": 0
         },
         "marker": {
          "symbol": "circle"
         },
         "mode": "lines",
         "name": "Solar",
         "orientation": "v",
         "showlegend": true,
         "stackgroup": "1",
         "type": "scatter",
         "x": [
          2025,
          2030,
          2035,
          2040,
          2045,
          2050
         ],
         "xaxis": "x",
         "y": [
          0.005327530735946338,
          0.0235143645526096,
          0.02555274094007518,
          0.029151911481668315,
          0.04137934746709025,
          0.04653343049426415
         ],
         "yaxis": "y"
        },
        {
         "fillcolor": "#ffff99",
         "fillpattern": {
          "shape": ""
         },
         "hovertemplate": "Generator=Solar<br>scenario=CER<br>pds=%{x}<br>value=%{y}<extra></extra>",
         "legendgroup": "gentechs",
         "legendgrouptitle": {
          "text": "Technologies"
         },
         "line": {
          "color": "#ffff99",
          "width": 0
         },
         "marker": {
          "symbol": "circle"
         },
         "mode": "lines",
         "name": "Solar",
         "orientation": "v",
         "showlegend": false,
         "stackgroup": "1",
         "type": "scatter",
         "x": [
          2025,
          2030,
          2035,
          2040,
          2045,
          2050
         ],
         "xaxis": "x2",
         "y": [
          0.005583733946124016,
          0.05223890585685003,
          0.06697291411059741,
          0.08631373993890747,
          0.096358551208168,
          0.07736526332290847
         ],
         "yaxis": "y3"
        },
        {
         "fillcolor": "#ffff99",
         "fillpattern": {
          "shape": ""
         },
         "hovertemplate": "Generator=Solar<br>scenario=CER+<br>pds=%{x}<br>value=%{y}<extra></extra>",
         "legendgroup": "gentechs",
         "legendgrouptitle": {
          "text": "Technologies"
         },
         "line": {
          "color": "#ffff99",
          "width": 0
         },
         "marker": {
          "symbol": "circle"
         },
         "mode": "lines",
         "name": "Solar",
         "orientation": "v",
         "showlegend": false,
         "stackgroup": "1",
         "type": "scatter",
         "x": [
          2025,
          2030,
          2035,
          2040,
          2045,
          2050
         ],
         "xaxis": "x3",
         "y": [
          0.005594482562675681,
          0.050894506623715724,
          0.07363128621244158,
          0.09314908420794131,
          0.09891843897451247,
          0.0872739110381098
         ],
         "yaxis": "y5"
        },
        {
         "fillcolor": "#ffff99",
         "fillpattern": {
          "shape": ""
         },
         "hovertemplate": "Generator=Solar<br>scenario=Rapid<br>pds=%{x}<br>value=%{y}<extra></extra>",
         "legendgroup": "gentechs",
         "legendgrouptitle": {
          "text": "Technologies"
         },
         "line": {
          "color": "#ffff99",
          "width": 0
         },
         "marker": {
          "symbol": "circle"
         },
         "mode": "lines",
         "name": "Solar",
         "orientation": "v",
         "showlegend": false,
         "stackgroup": "1",
         "type": "scatter",
         "x": [
          2025,
          2030,
          2035,
          2040,
          2045,
          2050
         ],
         "xaxis": "x4",
         "y": [
          0.005672575992937729,
          0.04919629345846933,
          0.061269835856583243,
          0.06587446273325857,
          0.0780176839862561,
          0.061162217034292414
         ],
         "yaxis": "y7"
        },
        {
         "fillcolor": "#ffff99",
         "fillpattern": {
          "shape": ""
         },
         "hovertemplate": "Generator=Solar<br>scenario=Rapid+<br>pds=%{x}<br>value=%{y}<extra></extra>",
         "legendgroup": "gentechs",
         "legendgrouptitle": {
          "text": "Technologies"
         },
         "line": {
          "color": "#ffff99",
          "width": 0
         },
         "marker": {
          "symbol": "circle"
         },
         "mode": "lines",
         "name": "Solar",
         "orientation": "v",
         "showlegend": false,
         "stackgroup": "1",
         "type": "scatter",
         "x": [
          2025,
          2030,
          2035,
          2040,
          2045,
          2050
         ],
         "xaxis": "x5",
         "y": [
          0.005675285041578424,
          0.04727240174322972,
          0.06747398925132053,
          0.06190166771202818,
          0.0872329133347553,
          0.06772809330644575
         ],
         "yaxis": "y9"
        },
        {
         "fillcolor": "#b2df8a",
         "fillpattern": {
          "shape": ""
         },
         "hovertemplate": "Generator=Wind<br>scenario=BAU<br>pds=%{x}<br>value=%{y}<extra></extra>",
         "legendgroup": "gentechs",
         "legendgrouptitle": {
          "text": "Technologies"
         },
         "line": {
          "color": "#b2df8a",
          "width": 0
         },
         "marker": {
          "symbol": "circle"
         },
         "mode": "lines",
         "name": "Wind",
         "orientation": "v",
         "showlegend": true,
         "stackgroup": "1",
         "type": "scatter",
         "x": [
          2025,
          2030,
          2035,
          2040,
          2045,
          2050
         ],
         "xaxis": "x",
         "y": [
          0.3044273707507459,
          0.579856862759903,
          0.6307453522676311,
          0.6472367017278419,
          0.6674254246142984,
          0.6725342181006805
         ],
         "yaxis": "y"
        },
        {
         "fillcolor": "#b2df8a",
         "fillpattern": {
          "shape": ""
         },
         "hovertemplate": "Generator=Wind<br>scenario=CER<br>pds=%{x}<br>value=%{y}<extra></extra>",
         "legendgroup": "gentechs",
         "legendgrouptitle": {
          "text": "Technologies"
         },
         "line": {
          "color": "#b2df8a",
          "width": 0
         },
         "marker": {
          "symbol": "circle"
         },
         "mode": "lines",
         "name": "Wind",
         "orientation": "v",
         "showlegend": false,
         "stackgroup": "1",
         "type": "scatter",
         "x": [
          2025,
          2030,
          2035,
          2040,
          2045,
          2050
         ],
         "xaxis": "x2",
         "y": [
          0.20192614086819258,
          0.6011557656293209,
          0.6720884072856608,
          0.6893762834558509,
          0.7158712131074602,
          0.7480586931909221
         ],
         "yaxis": "y3"
        },
        {
         "fillcolor": "#b2df8a",
         "fillpattern": {
          "shape": ""
         },
         "hovertemplate": "Generator=Wind<br>scenario=CER+<br>pds=%{x}<br>value=%{y}<extra></extra>",
         "legendgroup": "gentechs",
         "legendgrouptitle": {
          "text": "Technologies"
         },
         "line": {
          "color": "#b2df8a",
          "width": 0
         },
         "marker": {
          "symbol": "circle"
         },
         "mode": "lines",
         "name": "Wind",
         "orientation": "v",
         "showlegend": false,
         "stackgroup": "1",
         "type": "scatter",
         "x": [
          2025,
          2030,
          2035,
          2040,
          2045,
          2050
         ],
         "xaxis": "x3",
         "y": [
          0.19904534202075597,
          0.6022326252258275,
          0.6679730089469473,
          0.682711638400797,
          0.716079805554014,
          0.7396124451479216
         ],
         "yaxis": "y5"
        },
        {
         "fillcolor": "#b2df8a",
         "fillpattern": {
          "shape": ""
         },
         "hovertemplate": "Generator=Wind<br>scenario=Rapid<br>pds=%{x}<br>value=%{y}<extra></extra>",
         "legendgroup": "gentechs",
         "legendgrouptitle": {
          "text": "Technologies"
         },
         "line": {
          "color": "#b2df8a",
          "width": 0
         },
         "marker": {
          "symbol": "circle"
         },
         "mode": "lines",
         "name": "Wind",
         "orientation": "v",
         "showlegend": false,
         "stackgroup": "1",
         "type": "scatter",
         "x": [
          2025,
          2030,
          2035,
          2040,
          2045,
          2050
         ],
         "xaxis": "x4",
         "y": [
          0.1787869521605904,
          0.5090756711995461,
          0.6872515969491042,
          0.7168106830824396,
          0.7531494868118589,
          0.7916404264904274
         ],
         "yaxis": "y7"
        },
        {
         "fillcolor": "#b2df8a",
         "fillpattern": {
          "shape": ""
         },
         "hovertemplate": "Generator=Wind<br>scenario=Rapid+<br>pds=%{x}<br>value=%{y}<extra></extra>",
         "legendgroup": "gentechs",
         "legendgrouptitle": {
          "text": "Technologies"
         },
         "line": {
          "color": "#b2df8a",
          "width": 0
         },
         "marker": {
          "symbol": "circle"
         },
         "mode": "lines",
         "name": "Wind",
         "orientation": "v",
         "showlegend": false,
         "stackgroup": "1",
         "type": "scatter",
         "x": [
          2025,
          2030,
          2035,
          2040,
          2045,
          2050
         ],
         "xaxis": "x5",
         "y": [
          0.17801449674101208,
          0.5084016460175304,
          0.6909425054791489,
          0.7212572457145273,
          0.7435368146085182,
          0.7827279723547262
         ],
         "yaxis": "y9"
        },
        {
         "fillcolor": "#33a02c",
         "fillpattern": {
          "shape": ""
         },
         "hovertemplate": "Generator=Biomass<br>scenario=CER<br>pds=%{x}<br>value=%{y}<extra></extra>",
         "legendgroup": "gentechs",
         "legendgrouptitle": {
          "text": "Technologies"
         },
         "line": {
          "color": "#33a02c",
          "width": 0
         },
         "marker": {
          "symbol": "circle"
         },
         "mode": "lines",
         "name": "Biomass",
         "orientation": "v",
         "showlegend": true,
         "stackgroup": "1",
         "type": "scatter",
         "x": [
          2045,
          2050
         ],
         "xaxis": "x2",
         "y": [
          0.001962748946891621,
          0.0017449209105002122
         ],
         "yaxis": "y3"
        },
        {
         "fillcolor": "#33a02c",
         "fillpattern": {
          "shape": ""
         },
         "hovertemplate": "Generator=Biomass<br>scenario=CER+<br>pds=%{x}<br>value=%{y}<extra></extra>",
         "legendgroup": "gentechs",
         "legendgrouptitle": {
          "text": "Technologies"
         },
         "line": {
          "color": "#33a02c",
          "width": 0
         },
         "marker": {
          "symbol": "circle"
         },
         "mode": "lines",
         "name": "Biomass",
         "orientation": "v",
         "showlegend": false,
         "stackgroup": "1",
         "type": "scatter",
         "x": [
          2040,
          2045,
          2050
         ],
         "xaxis": "x3",
         "y": [
          0.002226798655170095,
          0.0018794611155726947,
          0.0017061213820257417
         ],
         "yaxis": "y5"
        },
        {
         "fillcolor": "#33a02c",
         "fillpattern": {
          "shape": ""
         },
         "hovertemplate": "Generator=Biomass<br>scenario=Rapid<br>pds=%{x}<br>value=%{y}<extra></extra>",
         "legendgroup": "gentechs",
         "legendgrouptitle": {
          "text": "Technologies"
         },
         "line": {
          "color": "#33a02c",
          "width": 0
         },
         "marker": {
          "symbol": "circle"
         },
         "mode": "lines",
         "name": "Biomass",
         "orientation": "v",
         "showlegend": false,
         "stackgroup": "1",
         "type": "scatter",
         "x": [
          2035,
          2040,
          2045,
          2050
         ],
         "xaxis": "x4",
         "y": [
          0.001517292470389009,
          0.0013500041854501278,
          0.001179710476727903,
          0.001114207921808062
         ],
         "yaxis": "y7"
        },
        {
         "fillcolor": "#33a02c",
         "fillpattern": {
          "shape": ""
         },
         "hovertemplate": "Generator=Biomass<br>scenario=Rapid+<br>pds=%{x}<br>value=%{y}<extra></extra>",
         "legendgroup": "gentechs",
         "legendgrouptitle": {
          "text": "Technologies"
         },
         "line": {
          "color": "#33a02c",
          "width": 0
         },
         "marker": {
          "symbol": "circle"
         },
         "mode": "lines",
         "name": "Biomass",
         "orientation": "v",
         "showlegend": false,
         "stackgroup": "1",
         "type": "scatter",
         "x": [
          2035,
          2040,
          2045,
          2050
         ],
         "xaxis": "x5",
         "y": [
          0.0018979338130630044,
          0.001361683852311757,
          0.0011723724318676838,
          0.0011281927012272439
         ],
         "yaxis": "y9"
        },
        {
         "fillcolor": "#2496e3",
         "fillpattern": {
          "shape": ""
         },
         "hovertemplate": "Generator=Hydrogen - blue<br>scenario=CER<br>pds=%{x}<br>value=%{y}<extra></extra>",
         "legendgroup": "gentechs",
         "legendgrouptitle": {
          "text": "Technologies"
         },
         "line": {
          "color": "#2496e3",
          "width": 0
         },
         "marker": {
          "symbol": "circle"
         },
         "mode": "lines",
         "name": "Hydrogen - blue",
         "orientation": "v",
         "showlegend": true,
         "stackgroup": "1",
         "type": "scatter",
         "x": [
          2035,
          2040,
          2045,
          2050
         ],
         "xaxis": "x2",
         "y": [
          0.035367801342941665,
          0.05047717989587697,
          0.057293230827285914,
          0.06156276929628774
         ],
         "yaxis": "y3"
        },
        {
         "fillcolor": "#2496e3",
         "fillpattern": {
          "shape": ""
         },
         "hovertemplate": "Generator=Hydrogen - blue<br>scenario=CER+<br>pds=%{x}<br>value=%{y}<extra></extra>",
         "legendgroup": "gentechs",
         "legendgrouptitle": {
          "text": "Technologies"
         },
         "line": {
          "color": "#2496e3",
          "width": 0
         },
         "marker": {
          "symbol": "circle"
         },
         "mode": "lines",
         "name": "Hydrogen - blue",
         "orientation": "v",
         "showlegend": false,
         "stackgroup": "1",
         "type": "scatter",
         "x": [
          2035,
          2040,
          2045,
          2050
         ],
         "xaxis": "x3",
         "y": [
          0.038684473588989035,
          0.05341938610199973,
          0.06014411811143098,
          0.06393040591361804
         ],
         "yaxis": "y5"
        },
        {
         "fillcolor": "#2de35e",
         "fillpattern": {
          "shape": ""
         },
         "hovertemplate": "Generator=Hydrogen - green<br>scenario=Rapid<br>pds=%{x}<br>value=%{y}<extra></extra>",
         "legendgroup": "gentechs",
         "legendgrouptitle": {
          "text": "Technologies"
         },
         "line": {
          "color": "#2de35e",
          "width": 0
         },
         "marker": {
          "symbol": "circle"
         },
         "mode": "lines",
         "name": "Hydrogen - green",
         "orientation": "v",
         "showlegend": true,
         "stackgroup": "1",
         "type": "scatter",
         "x": [
          2035,
          2040,
          2045,
          2050
         ],
         "xaxis": "x4",
         "y": [
          0.0011915583815881954,
          0.0007145463620877987,
          0.001114566870664171,
          0.0011372707161852577
         ],
         "yaxis": "y7"
        },
        {
         "fillcolor": "#2de35e",
         "fillpattern": {
          "shape": ""
         },
         "hovertemplate": "Generator=Hydrogen - green<br>scenario=Rapid+<br>pds=%{x}<br>value=%{y}<extra></extra>",
         "legendgroup": "gentechs",
         "legendgrouptitle": {
          "text": "Technologies"
         },
         "line": {
          "color": "#2de35e",
          "width": 0
         },
         "marker": {
          "symbol": "circle"
         },
         "mode": "lines",
         "name": "Hydrogen - green",
         "orientation": "v",
         "showlegend": false,
         "stackgroup": "1",
         "type": "scatter",
         "x": [
          2035,
          2040,
          2045,
          2050
         ],
         "xaxis": "x5",
         "y": [
          0.0012173488250610423,
          0.00044538713675324794,
          0.0009450107124788563,
          0.0009323404867736063
         ],
         "yaxis": "y9"
        },
        {
         "line": {
          "dash": "dot"
         },
         "mode": "lines",
         "showlegend": false,
         "type": "scatter",
         "x": [
          2025,
          2030,
          2035,
          2040,
          2045,
          2050
         ],
         "xaxis": "x",
         "y": [
          3.176405501231813,
          10.322206454711383,
          21.062945540613192,
          35.77923440781146,
          54.66511644422148,
          75.98627869023115
         ],
         "yaxis": "y2"
        },
        {
         "line": {
          "dash": "dot"
         },
         "mode": "lines",
         "showlegend": false,
         "type": "scatter",
         "x": [
          2025,
          2030,
          2035,
          2040,
          2045,
          2050
         ],
         "xaxis": "x2",
         "y": [
          0.4858125513088704,
          2.9430293640759264,
          4.0708877395504945,
          5.033031008110207,
          6.112978483049181,
          7.287668724606197
         ],
         "yaxis": "y4"
        },
        {
         "line": {
          "dash": "dot"
         },
         "mode": "lines",
         "showlegend": false,
         "type": "scatter",
         "x": [
          2025,
          2030,
          2035,
          2040,
          2045,
          2050
         ],
         "xaxis": "x3",
         "y": [
          0.47306170826847904,
          2.9317678061210577,
          4.168846438730464,
          5.226470469574469,
          6.404281961297112,
          7.670440701733687
         ],
         "yaxis": "y6"
        },
        {
         "line": {
          "dash": "dot"
         },
         "mode": "lines",
         "showlegend": false,
         "type": "scatter",
         "x": [
          2025,
          2030,
          2035,
          2040,
          2045,
          2050
         ],
         "xaxis": "x4",
         "y": [
          0.38236509566984145,
          0.9789393180537256,
          0.9789393180537256,
          0.9789393180537256,
          0.9789393180537256,
          0.9789393180537256
         ],
         "yaxis": "y8"
        },
        {
         "line": {
          "dash": "dot"
         },
         "mode": "lines",
         "showlegend": false,
         "type": "scatter",
         "x": [
          2025,
          2030,
          2035,
          2040,
          2045,
          2050
         ],
         "xaxis": "x5",
         "y": [
          0.38055043273300976,
          0.9883233345794382,
          0.9883233345794382,
          0.9883233345794382,
          0.9883233345794382,
          0.9883233345794382
         ],
         "yaxis": "y10"
        },
        {
         "alignmentgroup": "True",
         "hovertemplate": "Generator=Fossil fuel gas<br>scenario=BAU<br>pds=%{x}<br>Capacity (GW)=%{y}<extra></extra>",
         "legendgroup": "gentechs",
         "marker": {
          "color": "#ff6b6b",
          "pattern": {
           "shape": ""
          }
         },
         "name": "Fossil fuel gas",
         "offsetgroup": "Fossil fuel gas",
         "orientation": "v",
         "showlegend": false,
         "textposition": "auto",
         "type": "bar",
         "x": [
          2025,
          2030,
          2035,
          2040,
          2045,
          2050
         ],
         "xaxis": "x6",
         "y": [
          1.602524085901424,
          6.918496914858079,
          5.295390845796595,
          4.987301440469962,
          5.563954184211671,
          2.951603975526727
         ],
         "yaxis": "y11"
        },
        {
         "alignmentgroup": "True",
         "hovertemplate": "Generator=Fossil fuel gas<br>scenario=CER<br>pds=%{x}<br>Capacity (GW)=%{y}<extra></extra>",
         "legendgroup": "gentechs",
         "marker": {
          "color": "#ff6b6b",
          "pattern": {
           "shape": ""
          }
         },
         "name": "Fossil fuel gas",
         "offsetgroup": "Fossil fuel gas",
         "orientation": "v",
         "showlegend": false,
         "textposition": "auto",
         "type": "bar",
         "x": [
          2035,
          2040
         ],
         "xaxis": "x7",
         "y": [
          2.5098571393711753,
          1.1691745027782132
         ],
         "yaxis": "y12"
        },
        {
         "alignmentgroup": "True",
         "hovertemplate": "Generator=Fossil fuel gas<br>scenario=CER+<br>pds=%{x}<br>Capacity (GW)=%{y}<extra></extra>",
         "legendgroup": "gentechs",
         "marker": {
          "color": "#ff6b6b",
          "pattern": {
           "shape": ""
          }
         },
         "name": "Fossil fuel gas",
         "offsetgroup": "Fossil fuel gas",
         "orientation": "v",
         "showlegend": false,
         "textposition": "auto",
         "type": "bar",
         "x": [
          2035,
          2040
         ],
         "xaxis": "x8",
         "y": [
          2.4783822257734944,
          1.5502358067233986
         ],
         "yaxis": "y13"
        },
        {
         "alignmentgroup": "True",
         "hovertemplate": "Generator=Fossil fuel gas - retired<br>scenario=BAU<br>pds=%{x}<br>Capacity (GW)=%{y}<extra></extra>",
         "legendgroup": "gentechs",
         "marker": {
          "color": "#784315",
          "pattern": {
           "shape": ""
          }
         },
         "name": "Fossil fuel gas - retired",
         "offsetgroup": "Fossil fuel gas - retired",
         "orientation": "v",
         "showlegend": true,
         "textposition": "auto",
         "type": "bar",
         "x": [
          2025,
          2030,
          2035,
          2040,
          2045
         ],
         "xaxis": "x6",
         "y": [
          -4.129120256287506,
          -2.293679743712494,
          -0.433,
          -0.377,
          -0.978
         ],
         "yaxis": "y11"
        },
        {
         "alignmentgroup": "True",
         "hovertemplate": "Generator=Fossil fuel gas - retired<br>scenario=CER<br>pds=%{x}<br>Capacity (GW)=%{y}<extra></extra>",
         "legendgroup": "gentechs",
         "marker": {
          "color": "#784315",
          "pattern": {
           "shape": ""
          }
         },
         "name": "Fossil fuel gas - retired",
         "offsetgroup": "Fossil fuel gas - retired",
         "orientation": "v",
         "showlegend": false,
         "textposition": "auto",
         "type": "bar",
         "x": [
          2025,
          2035,
          2040
         ],
         "xaxis": "x7",
         "y": [
          -0.8937851791530101,
          -4.48621482084699,
          -1.2848
         ],
         "yaxis": "y12"
        },
        {
         "alignmentgroup": "True",
         "hovertemplate": "Generator=Fossil fuel gas - retired<br>scenario=CER+<br>pds=%{x}<br>Capacity (GW)=%{y}<extra></extra>",
         "legendgroup": "gentechs",
         "marker": {
          "color": "#784315",
          "pattern": {
           "shape": ""
          }
         },
         "name": "Fossil fuel gas - retired",
         "offsetgroup": "Fossil fuel gas - retired",
         "orientation": "v",
         "showlegend": false,
         "textposition": "auto",
         "type": "bar",
         "x": [
          2025,
          2035,
          2040
         ],
         "xaxis": "x8",
         "y": [
          -0.9263145203824404,
          -2.9566854796175597,
          -1.2848
         ],
         "yaxis": "y13"
        },
        {
         "alignmentgroup": "True",
         "hovertemplate": "Generator=Fossil fuel gas - retired<br>scenario=Rapid<br>pds=%{x}<br>Capacity (GW)=%{y}<extra></extra>",
         "legendgroup": "gentechs",
         "marker": {
          "color": "#784315",
          "pattern": {
           "shape": ""
          }
         },
         "name": "Fossil fuel gas - retired",
         "offsetgroup": "Fossil fuel gas - retired",
         "orientation": "v",
         "showlegend": false,
         "textposition": "auto",
         "type": "bar",
         "x": [
          2025,
          2035
         ],
         "xaxis": "x9",
         "y": [
          -4.528196318922722,
          -2.461603681077278
         ],
         "yaxis": "y14"
        },
        {
         "alignmentgroup": "True",
         "hovertemplate": "Generator=Fossil fuel gas - retired<br>scenario=Rapid+<br>pds=%{x}<br>Capacity (GW)=%{y}<extra></extra>",
         "legendgroup": "gentechs",
         "marker": {
          "color": "#784315",
          "pattern": {
           "shape": ""
          }
         },
         "name": "Fossil fuel gas - retired",
         "offsetgroup": "Fossil fuel gas - retired",
         "orientation": "v",
         "showlegend": false,
         "textposition": "auto",
         "type": "bar",
         "x": [
          2025,
          2035
         ],
         "xaxis": "x10",
         "y": [
          -4.479056181803624,
          -2.510743818196376
         ],
         "yaxis": "y15"
        },
        {
         "alignmentgroup": "True",
         "hovertemplate": "Generator=Wind<br>scenario=BAU<br>pds=%{x}<br>Capacity (GW)=%{y}<extra></extra>",
         "legendgroup": "gentechs",
         "marker": {
          "color": "#b2df8a",
          "pattern": {
           "shape": ""
          }
         },
         "name": "Wind",
         "offsetgroup": "Wind",
         "orientation": "v",
         "showlegend": false,
         "textposition": "auto",
         "type": "bar",
         "x": [
          2025,
          2030,
          2035,
          2040,
          2045,
          2050
         ],
         "xaxis": "x6",
         "y": [
          3.911011451016229,
          13.072494532784932,
          12.330579830209283,
          8.460570851523354,
          8.65577652407614,
          6.035764508553498
         ],
         "yaxis": "y11"
        },
        {
         "alignmentgroup": "True",
         "hovertemplate": "Generator=Wind<br>scenario=CER<br>pds=%{x}<br>Capacity (GW)=%{y}<extra></extra>",
         "legendgroup": "gentechs",
         "marker": {
          "color": "#b2df8a",
          "pattern": {
           "shape": ""
          }
         },
         "name": "Wind",
         "offsetgroup": "Wind",
         "orientation": "v",
         "showlegend": false,
         "textposition": "auto",
         "type": "bar",
         "x": [
          2025,
          2030,
          2035,
          2040,
          2045,
          2050
         ],
         "xaxis": "x7",
         "y": [
          0.8168107334177791,
          17.532379484559783,
          16.167235626815238,
          13.63709395234352,
          19.592556966037176,
          10.305631640138825
         ],
         "yaxis": "y12"
        },
        {
         "alignmentgroup": "True",
         "hovertemplate": "Generator=Wind<br>scenario=CER+<br>pds=%{x}<br>Capacity (GW)=%{y}<extra></extra>",
         "legendgroup": "gentechs",
         "marker": {
          "color": "#b2df8a",
          "pattern": {
           "shape": ""
          }
         },
         "name": "Wind",
         "offsetgroup": "Wind",
         "orientation": "v",
         "showlegend": false,
         "textposition": "auto",
         "type": "bar",
         "x": [
          2025,
          2030,
          2035,
          2040,
          2045,
          2050
         ],
         "xaxis": "x8",
         "y": [
          0.7291323332946783,
          17.584072795632032,
          18.764090526619874,
          14.636645965539046,
          19.09495929341447,
          9.533921699372177
         ],
         "yaxis": "y13"
        },
        {
         "alignmentgroup": "True",
         "hovertemplate": "Generator=Wind<br>scenario=Rapid<br>pds=%{x}<br>Capacity (GW)=%{y}<extra></extra>",
         "legendgroup": "gentechs",
         "marker": {
          "color": "#b2df8a",
          "pattern": {
           "shape": ""
          }
         },
         "name": "Wind",
         "offsetgroup": "Wind",
         "orientation": "v",
         "showlegend": false,
         "textposition": "auto",
         "type": "bar",
         "x": [
          2025,
          2030,
          2035,
          2040,
          2045,
          2050
         ],
         "xaxis": "x9",
         "y": [
          0.12429544634633495,
          13.38099746795582,
          25.38806151752517,
          15.85333173695617,
          19.601695610223832,
          15.328900650647006
         ],
         "yaxis": "y14"
        },
        {
         "alignmentgroup": "True",
         "hovertemplate": "Generator=Wind<br>scenario=Rapid+<br>pds=%{x}<br>Capacity (GW)=%{y}<extra></extra>",
         "legendgroup": "gentechs",
         "marker": {
          "color": "#b2df8a",
          "pattern": {
           "shape": ""
          }
         },
         "name": "Wind",
         "offsetgroup": "Wind",
         "orientation": "v",
         "showlegend": false,
         "textposition": "auto",
         "type": "bar",
         "x": [
          2025,
          2030,
          2035,
          2040,
          2045,
          2050
         ],
         "xaxis": "x10",
         "y": [
          0.10147446021215044,
          13.646461044490009,
          27.66148328429097,
          14.586876657035146,
          18.916824200670327,
          14.331110793673531
         ],
         "yaxis": "y15"
        },
        {
         "alignmentgroup": "True",
         "hovertemplate": "Generator=Nuclear - retired<br>scenario=BAU<br>pds=%{x}<br>Capacity (GW)=%{y}<extra></extra>",
         "legendgroup": "gentechs",
         "marker": {
          "color": "#ff7f00",
          "pattern": {
           "shape": ""
          }
         },
         "name": "Nuclear - retired",
         "offsetgroup": "Nuclear - retired",
         "orientation": "v",
         "showlegend": true,
         "textposition": "auto",
         "type": "bar",
         "x": [
          2030,
          2045
         ],
         "xaxis": "x6",
         "y": [
          -3.102,
          -1.558
         ],
         "yaxis": "y11"
        },
        {
         "alignmentgroup": "True",
         "hovertemplate": "Generator=Nuclear - retired<br>scenario=CER<br>pds=%{x}<br>Capacity (GW)=%{y}<extra></extra>",
         "legendgroup": "gentechs",
         "marker": {
          "color": "#ff7f00",
          "pattern": {
           "shape": ""
          }
         },
         "name": "Nuclear - retired",
         "offsetgroup": "Nuclear - retired",
         "orientation": "v",
         "showlegend": false,
         "textposition": "auto",
         "type": "bar",
         "x": [
          2030,
          2045
         ],
         "xaxis": "x7",
         "y": [
          -3.102,
          -1.558
         ],
         "yaxis": "y12"
        },
        {
         "alignmentgroup": "True",
         "hovertemplate": "Generator=Nuclear - retired<br>scenario=CER+<br>pds=%{x}<br>Capacity (GW)=%{y}<extra></extra>",
         "legendgroup": "gentechs",
         "marker": {
          "color": "#ff7f00",
          "pattern": {
           "shape": ""
          }
         },
         "name": "Nuclear - retired",
         "offsetgroup": "Nuclear - retired",
         "orientation": "v",
         "showlegend": false,
         "textposition": "auto",
         "type": "bar",
         "x": [
          2030,
          2045
         ],
         "xaxis": "x8",
         "y": [
          -3.102,
          -1.558
         ],
         "yaxis": "y13"
        },
        {
         "alignmentgroup": "True",
         "hovertemplate": "Generator=Nuclear - retired<br>scenario=Rapid<br>pds=%{x}<br>Capacity (GW)=%{y}<extra></extra>",
         "legendgroup": "gentechs",
         "marker": {
          "color": "#ff7f00",
          "pattern": {
           "shape": ""
          }
         },
         "name": "Nuclear - retired",
         "offsetgroup": "Nuclear - retired",
         "orientation": "v",
         "showlegend": false,
         "textposition": "auto",
         "type": "bar",
         "x": [
          2030,
          2045
         ],
         "xaxis": "x9",
         "y": [
          -3.102,
          -1.558
         ],
         "yaxis": "y14"
        },
        {
         "alignmentgroup": "True",
         "hovertemplate": "Generator=Nuclear - retired<br>scenario=Rapid+<br>pds=%{x}<br>Capacity (GW)=%{y}<extra></extra>",
         "legendgroup": "gentechs",
         "marker": {
          "color": "#ff7f00",
          "pattern": {
           "shape": ""
          }
         },
         "name": "Nuclear - retired",
         "offsetgroup": "Nuclear - retired",
         "orientation": "v",
         "showlegend": false,
         "textposition": "auto",
         "type": "bar",
         "x": [
          2030,
          2045
         ],
         "xaxis": "x10",
         "y": [
          -3.102,
          -1.558
         ],
         "yaxis": "y15"
        },
        {
         "alignmentgroup": "True",
         "hovertemplate": "Generator=PH Storage<br>scenario=BAU<br>pds=%{x}<br>Capacity (GW)=%{y}<extra></extra>",
         "legendgroup": "gentechs",
         "marker": {
          "color": "#6a3d9a",
          "pattern": {
           "shape": ""
          }
         },
         "name": "PH Storage",
         "offsetgroup": "PH Storage",
         "orientation": "v",
         "showlegend": true,
         "textposition": "auto",
         "type": "bar",
         "x": [
          2030,
          2035
         ],
         "xaxis": "x6",
         "y": [
          0.21169638950151745,
          0.07190361049848261
         ],
         "yaxis": "y11"
        },
        {
         "alignmentgroup": "True",
         "hovertemplate": "Generator=PH Storage<br>scenario=CER<br>pds=%{x}<br>Capacity (GW)=%{y}<extra></extra>",
         "legendgroup": "gentechs",
         "marker": {
          "color": "#6a3d9a",
          "pattern": {
           "shape": ""
          }
         },
         "name": "PH Storage",
         "offsetgroup": "PH Storage",
         "orientation": "v",
         "showlegend": false,
         "textposition": "auto",
         "type": "bar",
         "x": [
          2030
         ],
         "xaxis": "x7",
         "y": [
          0.2836
         ],
         "yaxis": "y12"
        },
        {
         "alignmentgroup": "True",
         "hovertemplate": "Generator=PH Storage<br>scenario=CER+<br>pds=%{x}<br>Capacity (GW)=%{y}<extra></extra>",
         "legendgroup": "gentechs",
         "marker": {
          "color": "#6a3d9a",
          "pattern": {
           "shape": ""
          }
         },
         "name": "PH Storage",
         "offsetgroup": "PH Storage",
         "orientation": "v",
         "showlegend": false,
         "textposition": "auto",
         "type": "bar",
         "x": [
          2030
         ],
         "xaxis": "x8",
         "y": [
          0.2836
         ],
         "yaxis": "y13"
        },
        {
         "alignmentgroup": "True",
         "hovertemplate": "Generator=PH Storage<br>scenario=Rapid<br>pds=%{x}<br>Capacity (GW)=%{y}<extra></extra>",
         "legendgroup": "gentechs",
         "marker": {
          "color": "#6a3d9a",
          "pattern": {
           "shape": ""
          }
         },
         "name": "PH Storage",
         "offsetgroup": "PH Storage",
         "orientation": "v",
         "showlegend": false,
         "textposition": "auto",
         "type": "bar",
         "x": [
          2030
         ],
         "xaxis": "x9",
         "y": [
          0.2836
         ],
         "yaxis": "y14"
        },
        {
         "alignmentgroup": "True",
         "hovertemplate": "Generator=PH Storage<br>scenario=Rapid+<br>pds=%{x}<br>Capacity (GW)=%{y}<extra></extra>",
         "legendgroup": "gentechs",
         "marker": {
          "color": "#6a3d9a",
          "pattern": {
           "shape": ""
          }
         },
         "name": "PH Storage",
         "offsetgroup": "PH Storage",
         "orientation": "v",
         "showlegend": false,
         "textposition": "auto",
         "type": "bar",
         "x": [
          2030
         ],
         "xaxis": "x10",
         "y": [
          0.2836
         ],
         "yaxis": "y15"
        },
        {
         "alignmentgroup": "True",
         "hovertemplate": "Generator=Solar<br>scenario=BAU<br>pds=%{x}<br>Capacity (GW)=%{y}<extra></extra>",
         "legendgroup": "gentechs",
         "marker": {
          "color": "#ffff99",
          "pattern": {
           "shape": ""
          }
         },
         "name": "Solar",
         "offsetgroup": "Solar",
         "orientation": "v",
         "showlegend": false,
         "textposition": "auto",
         "type": "bar",
         "x": [
          2030,
          2035,
          2040,
          2045,
          2050
         ],
         "xaxis": "x6",
         "y": [
          2.33391459097475,
          1.7807928976411345,
          2.1053844358605365,
          3.887700248014439,
          3.6264649728936815
         ],
         "yaxis": "y11"
        },
        {
         "alignmentgroup": "True",
         "hovertemplate": "Generator=Solar<br>scenario=CER<br>pds=%{x}<br>Capacity (GW)=%{y}<extra></extra>",
         "legendgroup": "gentechs",
         "marker": {
          "color": "#ffff99",
          "pattern": {
           "shape": ""
          }
         },
         "name": "Solar",
         "offsetgroup": "Solar",
         "orientation": "v",
         "showlegend": false,
         "textposition": "auto",
         "type": "bar",
         "x": [
          2030,
          2035,
          2040,
          2045,
          2050
         ],
         "xaxis": "x7",
         "y": [
          6.052693051078908,
          6.516177028939125,
          6.0613996836146615,
          5.785744010094702,
          3.72806514033476
         ],
         "yaxis": "y12"
        },
        {
         "alignmentgroup": "True",
         "hovertemplate": "Generator=Solar<br>scenario=CER+<br>pds=%{x}<br>Capacity (GW)=%{y}<extra></extra>",
         "legendgroup": "gentechs",
         "marker": {
          "color": "#ffff99",
          "pattern": {
           "shape": ""
          }
         },
         "name": "Solar",
         "offsetgroup": "Solar",
         "orientation": "v",
         "showlegend": false,
         "textposition": "auto",
         "type": "bar",
         "x": [
          2030,
          2035,
          2040,
          2045,
          2050
         ],
         "xaxis": "x8",
         "y": [
          6.070792496675111,
          6.895285352864696,
          5.867491623734404,
          6.7622009898347475,
          3.653352086732029
         ],
         "yaxis": "y13"
        },
        {
         "alignmentgroup": "True",
         "hovertemplate": "Generator=Solar<br>scenario=Rapid<br>pds=%{x}<br>Capacity (GW)=%{y}<extra></extra>",
         "legendgroup": "gentechs",
         "marker": {
          "color": "#ffff99",
          "pattern": {
           "shape": ""
          }
         },
         "name": "Solar",
         "offsetgroup": "Solar",
         "orientation": "v",
         "showlegend": false,
         "textposition": "auto",
         "type": "bar",
         "x": [
          2030,
          2035,
          2040,
          2045,
          2050
         ],
         "xaxis": "x9",
         "y": [
          4.915983752281407,
          6.280231030344254,
          3.09405434007777,
          5.168522614486852,
          2.53556098307624
         ],
         "yaxis": "y14"
        },
        {
         "alignmentgroup": "True",
         "hovertemplate": "Generator=Solar<br>scenario=Rapid+<br>pds=%{x}<br>Capacity (GW)=%{y}<extra></extra>",
         "legendgroup": "gentechs",
         "marker": {
          "color": "#ffff99",
          "pattern": {
           "shape": ""
          }
         },
         "name": "Solar",
         "offsetgroup": "Solar",
         "orientation": "v",
         "showlegend": false,
         "textposition": "auto",
         "type": "bar",
         "x": [
          2030,
          2035,
          2040,
          2045,
          2050
         ],
         "xaxis": "x10",
         "y": [
          4.776095947243942,
          7.47323458159162,
          2.311936713934346,
          4.665404842355032,
          2.744151644558643
         ],
         "yaxis": "y15"
        },
        {
         "alignmentgroup": "True",
         "hovertemplate": "Generator=LI Storage<br>scenario=BAU<br>pds=%{x}<br>Capacity (GW)=%{y}<extra></extra>",
         "legendgroup": "gentechs",
         "marker": {
          "color": "#B39DE3",
          "pattern": {
           "shape": ""
          }
         },
         "name": "LI Storage",
         "offsetgroup": "LI Storage",
         "orientation": "v",
         "showlegend": true,
         "textposition": "auto",
         "type": "bar",
         "x": [
          2040,
          2045,
          2050
         ],
         "xaxis": "x6",
         "y": [
          0.6643266442464847,
          1.694161508465365,
          1.0930529470843302
         ],
         "yaxis": "y11"
        },
        {
         "alignmentgroup": "True",
         "hovertemplate": "Generator=LI Storage<br>scenario=CER<br>pds=%{x}<br>Capacity (GW)=%{y}<extra></extra>",
         "legendgroup": "gentechs",
         "marker": {
          "color": "#B39DE3",
          "pattern": {
           "shape": ""
          }
         },
         "name": "LI Storage",
         "offsetgroup": "LI Storage",
         "orientation": "v",
         "showlegend": false,
         "textposition": "auto",
         "type": "bar",
         "x": [
          2035,
          2040,
          2050
         ],
         "xaxis": "x7",
         "y": [
          0.9143654317599867,
          0.8406423666562418,
          1.454465879048142
         ],
         "yaxis": "y12"
        },
        {
         "alignmentgroup": "True",
         "hovertemplate": "Generator=LI Storage<br>scenario=CER+<br>pds=%{x}<br>Capacity (GW)=%{y}<extra></extra>",
         "legendgroup": "gentechs",
         "marker": {
          "color": "#B39DE3",
          "pattern": {
           "shape": ""
          }
         },
         "name": "LI Storage",
         "offsetgroup": "LI Storage",
         "orientation": "v",
         "showlegend": false,
         "textposition": "auto",
         "type": "bar",
         "x": [
          2035,
          2040,
          2050
         ],
         "xaxis": "x8",
         "y": [
          1.4647211001849392,
          0.06538638268470891,
          1.9010093495074774
         ],
         "yaxis": "y13"
        },
        {
         "alignmentgroup": "True",
         "hovertemplate": "Generator=LI Storage<br>scenario=Rapid<br>pds=%{x}<br>Capacity (GW)=%{y}<extra></extra>",
         "legendgroup": "gentechs",
         "marker": {
          "color": "#B39DE3",
          "pattern": {
           "shape": ""
          }
         },
         "name": "LI Storage",
         "offsetgroup": "LI Storage",
         "orientation": "v",
         "showlegend": false,
         "textposition": "auto",
         "type": "bar",
         "x": [
          2035,
          2040,
          2045,
          2050
         ],
         "xaxis": "x9",
         "y": [
          3.508949662265474,
          1.6217379759669415,
          1.99552505242568,
          5.186028820955875
         ],
         "yaxis": "y14"
        },
        {
         "alignmentgroup": "True",
         "hovertemplate": "Generator=LI Storage<br>scenario=Rapid+<br>pds=%{x}<br>Capacity (GW)=%{y}<extra></extra>",
         "legendgroup": "gentechs",
         "marker": {
          "color": "#B39DE3",
          "pattern": {
           "shape": ""
          }
         },
         "name": "LI Storage",
         "offsetgroup": "LI Storage",
         "orientation": "v",
         "showlegend": false,
         "textposition": "auto",
         "type": "bar",
         "x": [
          2035,
          2040,
          2045,
          2050
         ],
         "xaxis": "x10",
         "y": [
          4.0871536750576904,
          1.314082840270019,
          1.8621434040303404,
          5.87641459106351
         ],
         "yaxis": "y15"
        },
        {
         "alignmentgroup": "True",
         "hovertemplate": "Generator=Hydrogen - blue<br>scenario=CER<br>pds=%{x}<br>Capacity (GW)=%{y}<extra></extra>",
         "legendgroup": "gentechs",
         "marker": {
          "color": "#2496e3",
          "pattern": {
           "shape": ""
          }
         },
         "name": "Hydrogen - blue",
         "offsetgroup": "Hydrogen - blue",
         "orientation": "v",
         "showlegend": false,
         "textposition": "auto",
         "type": "bar",
         "x": [
          2035,
          2040,
          2045,
          2050
         ],
         "xaxis": "x7",
         "y": [
          5.90301692310683,
          4.327938139497099,
          2.988437503279116,
          2.4034187371395483
         ],
         "yaxis": "y12"
        },
        {
         "alignmentgroup": "True",
         "hovertemplate": "Generator=Hydrogen - blue<br>scenario=CER+<br>pds=%{x}<br>Capacity (GW)=%{y}<extra></extra>",
         "legendgroup": "gentechs",
         "marker": {
          "color": "#2496e3",
          "pattern": {
           "shape": ""
          }
         },
         "name": "Hydrogen - blue",
         "offsetgroup": "Hydrogen - blue",
         "orientation": "v",
         "showlegend": false,
         "textposition": "auto",
         "type": "bar",
         "x": [
          2035,
          2040,
          2045,
          2050
         ],
         "xaxis": "x8",
         "y": [
          6.715081837031534,
          4.590940423155641,
          3.048895506814778,
          2.241178303245355
         ],
         "yaxis": "y13"
        },
        {
         "alignmentgroup": "True",
         "hovertemplate": "Generator=Biomass<br>scenario=CER<br>pds=%{x}<br>Capacity (GW)=%{y}<extra></extra>",
         "legendgroup": "gentechs",
         "marker": {
          "color": "#33a02c",
          "pattern": {
           "shape": ""
          }
         },
         "name": "Biomass",
         "offsetgroup": "Biomass",
         "orientation": "v",
         "showlegend": false,
         "textposition": "auto",
         "type": "bar",
         "x": [
          2045
         ],
         "xaxis": "x7",
         "y": [
          0.24530000000000002
         ],
         "yaxis": "y12"
        },
        {
         "alignmentgroup": "True",
         "hovertemplate": "Generator=Biomass<br>scenario=CER+<br>pds=%{x}<br>Capacity (GW)=%{y}<extra></extra>",
         "legendgroup": "gentechs",
         "marker": {
          "color": "#33a02c",
          "pattern": {
           "shape": ""
          }
         },
         "name": "Biomass",
         "offsetgroup": "Biomass",
         "orientation": "v",
         "showlegend": false,
         "textposition": "auto",
         "type": "bar",
         "x": [
          2040
         ],
         "xaxis": "x8",
         "y": [
          0.24530000000000002
         ],
         "yaxis": "y13"
        },
        {
         "alignmentgroup": "True",
         "hovertemplate": "Generator=Biomass<br>scenario=Rapid<br>pds=%{x}<br>Capacity (GW)=%{y}<extra></extra>",
         "legendgroup": "gentechs",
         "marker": {
          "color": "#33a02c",
          "pattern": {
           "shape": ""
          }
         },
         "name": "Biomass",
         "offsetgroup": "Biomass",
         "orientation": "v",
         "showlegend": false,
         "textposition": "auto",
         "type": "bar",
         "x": [
          2035
         ],
         "xaxis": "x9",
         "y": [
          0.24530000000000002
         ],
         "yaxis": "y14"
        },
        {
         "alignmentgroup": "True",
         "hovertemplate": "Generator=Biomass<br>scenario=Rapid+<br>pds=%{x}<br>Capacity (GW)=%{y}<extra></extra>",
         "legendgroup": "gentechs",
         "marker": {
          "color": "#33a02c",
          "pattern": {
           "shape": ""
          }
         },
         "name": "Biomass",
         "offsetgroup": "Biomass",
         "orientation": "v",
         "showlegend": false,
         "textposition": "auto",
         "type": "bar",
         "x": [
          2035
         ],
         "xaxis": "x10",
         "y": [
          0.24530000000000002
         ],
         "yaxis": "y15"
        },
        {
         "alignmentgroup": "True",
         "hovertemplate": "Generator=Nuclear<br>scenario=Rapid<br>pds=%{x}<br>Capacity (GW)=%{y}<extra></extra>",
         "legendgroup": "gentechs",
         "marker": {
          "color": "#ff7f00",
          "pattern": {
           "shape": ""
          }
         },
         "name": "Nuclear",
         "offsetgroup": "Nuclear",
         "orientation": "v",
         "showlegend": false,
         "textposition": "auto",
         "type": "bar",
         "x": [
          2030,
          2035,
          2040,
          2045
         ],
         "xaxis": "x9",
         "y": [
          2.289489771001582,
          0.6350250967987237,
          1.7924513098197812,
          0.9733781716732316
         ],
         "yaxis": "y14"
        },
        {
         "alignmentgroup": "True",
         "hovertemplate": "Generator=Nuclear<br>scenario=Rapid+<br>pds=%{x}<br>Capacity (GW)=%{y}<extra></extra>",
         "legendgroup": "gentechs",
         "marker": {
          "color": "#ff7f00",
          "pattern": {
           "shape": ""
          }
         },
         "name": "Nuclear",
         "offsetgroup": "Nuclear",
         "orientation": "v",
         "showlegend": false,
         "textposition": "auto",
         "type": "bar",
         "x": [
          2030,
          2035,
          2040,
          2045
         ],
         "xaxis": "x10",
         "y": [
          2.666690244253969,
          0.025178854264511837,
          2.1129005052615253,
          1.1048997518126127
         ],
         "yaxis": "y15"
        },
        {
         "alignmentgroup": "True",
         "hovertemplate": "Generator=Hydrogen - green<br>scenario=Rapid<br>pds=%{x}<br>Capacity (GW)=%{y}<extra></extra>",
         "legendgroup": "gentechs",
         "marker": {
          "color": "#2de35e",
          "pattern": {
           "shape": ""
          }
         },
         "name": "Hydrogen - green",
         "offsetgroup": "Hydrogen - green",
         "orientation": "v",
         "showlegend": false,
         "textposition": "auto",
         "type": "bar",
         "x": [
          2035,
          2040,
          2045
         ],
         "xaxis": "x9",
         "y": [
          1.0145364624277156,
          0.11003798075427837,
          0.1571901068098389
         ],
         "yaxis": "y14"
        },
        {
         "alignmentgroup": "True",
         "hovertemplate": "Generator=Hydrogen - green<br>scenario=Rapid+<br>pds=%{x}<br>Capacity (GW)=%{y}<extra></extra>",
         "legendgroup": "gentechs",
         "marker": {
          "color": "#2de35e",
          "pattern": {
           "shape": ""
          }
         },
         "name": "Hydrogen - green",
         "offsetgroup": "Hydrogen - green",
         "orientation": "v",
         "showlegend": false,
         "textposition": "auto",
         "type": "bar",
         "x": [
          2035
         ],
         "xaxis": "x10",
         "y": [
          1.1038968472867927
         ],
         "yaxis": "y15"
        }
       ],
       "layout": {
        "annotations": [
         {
          "font": {
           "size": 16
          },
          "showarrow": false,
          "text": "BAU",
          "x": 0.074,
          "xanchor": "center",
          "xref": "paper",
          "y": 1,
          "yanchor": "bottom",
          "yref": "paper"
         },
         {
          "font": {
           "size": 16
          },
          "showarrow": false,
          "text": "CER",
          "x": 0.272,
          "xanchor": "center",
          "xref": "paper",
          "y": 1,
          "yanchor": "bottom",
          "yref": "paper"
         },
         {
          "font": {
           "size": 16
          },
          "showarrow": false,
          "text": "CER+",
          "x": 0.47000000000000003,
          "xanchor": "center",
          "xref": "paper",
          "y": 1,
          "yanchor": "bottom",
          "yref": "paper"
         },
         {
          "font": {
           "size": 16
          },
          "showarrow": false,
          "text": "Rapid",
          "x": 0.6679999999999999,
          "xanchor": "center",
          "xref": "paper",
          "y": 1,
          "yanchor": "bottom",
          "yref": "paper"
         },
         {
          "font": {
           "size": 16
          },
          "showarrow": false,
          "text": "Rapid+",
          "x": 0.8660000000000001,
          "xanchor": "center",
          "xref": "paper",
          "y": 1,
          "yanchor": "bottom",
          "yref": "paper"
         }
        ],
        "barmode": "relative",
        "font": {
         "family": "cm",
         "size": 18
        },
        "height": 600,
        "legend": {
         "traceorder": "reversed"
        },
        "plot_bgcolor": "white",
        "template": {
         "data": {
          "candlestick": [
           {
            "decreasing": {
             "line": {
              "color": "#000033"
             }
            },
            "increasing": {
             "line": {
              "color": "#000032"
             }
            },
            "type": "candlestick"
           }
          ],
          "contour": [
           {
            "colorscale": [
             [
              0,
              "#000011"
             ],
             [
              0.1111111111111111,
              "#000012"
             ],
             [
              0.2222222222222222,
              "#000013"
             ],
             [
              0.3333333333333333,
              "#000014"
             ],
             [
              0.4444444444444444,
              "#000015"
             ],
             [
              0.5555555555555556,
              "#000016"
             ],
             [
              0.6666666666666666,
              "#000017"
             ],
             [
              0.7777777777777778,
              "#000018"
             ],
             [
              0.8888888888888888,
              "#000019"
             ],
             [
              1,
              "#000020"
             ]
            ],
            "type": "contour"
           }
          ],
          "contourcarpet": [
           {
            "colorscale": [
             [
              0,
              "#000011"
             ],
             [
              0.1111111111111111,
              "#000012"
             ],
             [
              0.2222222222222222,
              "#000013"
             ],
             [
              0.3333333333333333,
              "#000014"
             ],
             [
              0.4444444444444444,
              "#000015"
             ],
             [
              0.5555555555555556,
              "#000016"
             ],
             [
              0.6666666666666666,
              "#000017"
             ],
             [
              0.7777777777777778,
              "#000018"
             ],
             [
              0.8888888888888888,
              "#000019"
             ],
             [
              1,
              "#000020"
             ]
            ],
            "type": "contourcarpet"
           }
          ],
          "heatmap": [
           {
            "colorscale": [
             [
              0,
              "#000011"
             ],
             [
              0.1111111111111111,
              "#000012"
             ],
             [
              0.2222222222222222,
              "#000013"
             ],
             [
              0.3333333333333333,
              "#000014"
             ],
             [
              0.4444444444444444,
              "#000015"
             ],
             [
              0.5555555555555556,
              "#000016"
             ],
             [
              0.6666666666666666,
              "#000017"
             ],
             [
              0.7777777777777778,
              "#000018"
             ],
             [
              0.8888888888888888,
              "#000019"
             ],
             [
              1,
              "#000020"
             ]
            ],
            "type": "heatmap"
           }
          ],
          "histogram2d": [
           {
            "colorscale": [
             [
              0,
              "#000011"
             ],
             [
              0.1111111111111111,
              "#000012"
             ],
             [
              0.2222222222222222,
              "#000013"
             ],
             [
              0.3333333333333333,
              "#000014"
             ],
             [
              0.4444444444444444,
              "#000015"
             ],
             [
              0.5555555555555556,
              "#000016"
             ],
             [
              0.6666666666666666,
              "#000017"
             ],
             [
              0.7777777777777778,
              "#000018"
             ],
             [
              0.8888888888888888,
              "#000019"
             ],
             [
              1,
              "#000020"
             ]
            ],
            "type": "histogram2d"
           }
          ],
          "icicle": [
           {
            "textfont": {
             "color": "white"
            },
            "type": "icicle"
           }
          ],
          "sankey": [
           {
            "textfont": {
             "color": "#000036"
            },
            "type": "sankey"
           }
          ],
          "scatter": [
           {
            "marker": {
             "line": {
              "width": 0
             }
            },
            "type": "scatter"
           }
          ],
          "table": [
           {
            "cells": {
             "fill": {
              "color": "#000038"
             },
             "font": {
              "color": "#000037"
             },
             "line": {
              "color": "#000039"
             }
            },
            "header": {
             "fill": {
              "color": "#000040"
             },
             "font": {
              "color": "#000036"
             },
             "line": {
              "color": "#000039"
             }
            },
            "type": "table"
           }
          ],
          "waterfall": [
           {
            "connector": {
             "line": {
              "color": "#000036",
              "width": 2
             }
            },
            "decreasing": {
             "marker": {
              "color": "#000033"
             }
            },
            "increasing": {
             "marker": {
              "color": "#000032"
             }
            },
            "totals": {
             "marker": {
              "color": "#000034"
             }
            },
            "type": "waterfall"
           }
          ]
         },
         "layout": {
          "coloraxis": {
           "colorscale": [
            [
             0,
             "#000011"
            ],
            [
             0.1111111111111111,
             "#000012"
            ],
            [
             0.2222222222222222,
             "#000013"
            ],
            [
             0.3333333333333333,
             "#000014"
            ],
            [
             0.4444444444444444,
             "#000015"
            ],
            [
             0.5555555555555556,
             "#000016"
            ],
            [
             0.6666666666666666,
             "#000017"
            ],
            [
             0.7777777777777778,
             "#000018"
            ],
            [
             0.8888888888888888,
             "#000019"
            ],
            [
             1,
             "#000020"
            ]
           ]
          },
          "colorscale": {
           "diverging": [
            [
             0,
             "#000021"
            ],
            [
             0.1,
             "#000022"
            ],
            [
             0.2,
             "#000023"
            ],
            [
             0.3,
             "#000024"
            ],
            [
             0.4,
             "#000025"
            ],
            [
             0.5,
             "#000026"
            ],
            [
             0.6,
             "#000027"
            ],
            [
             0.7,
             "#000028"
            ],
            [
             0.8,
             "#000029"
            ],
            [
             0.9,
             "#000030"
            ],
            [
             1,
             "#000031"
            ]
           ],
           "sequential": [
            [
             0,
             "#000011"
            ],
            [
             0.1111111111111111,
             "#000012"
            ],
            [
             0.2222222222222222,
             "#000013"
            ],
            [
             0.3333333333333333,
             "#000014"
            ],
            [
             0.4444444444444444,
             "#000015"
            ],
            [
             0.5555555555555556,
             "#000016"
            ],
            [
             0.6666666666666666,
             "#000017"
            ],
            [
             0.7777777777777778,
             "#000018"
            ],
            [
             0.8888888888888888,
             "#000019"
            ],
            [
             1,
             "#000020"
            ]
           ],
           "sequentialminus": [
            [
             0,
             "#000011"
            ],
            [
             0.1111111111111111,
             "#000012"
            ],
            [
             0.2222222222222222,
             "#000013"
            ],
            [
             0.3333333333333333,
             "#000014"
            ],
            [
             0.4444444444444444,
             "#000015"
            ],
            [
             0.5555555555555556,
             "#000016"
            ],
            [
             0.6666666666666666,
             "#000017"
            ],
            [
             0.7777777777777778,
             "#000018"
            ],
            [
             0.8888888888888888,
             "#000019"
            ],
            [
             1,
             "#000020"
            ]
           ]
          },
          "colorway": [
           "#000001",
           "#000002",
           "#000003",
           "#000004",
           "#000005",
           "#000006",
           "#000007",
           "#000008",
           "#000009",
           "#000010"
          ]
         }
        },
        "width": 900,
        "xaxis": {
         "anchor": "y",
         "domain": [
          0,
          0.148
         ],
         "gridcolor": "lightgrey",
         "linecolor": "black",
         "matches": "x6",
         "mirror": true,
         "showline": true,
         "showticklabels": false,
         "ticks": "outside"
        },
        "xaxis10": {
         "anchor": "y15",
         "domain": [
          0.792,
          0.9400000000000001
         ],
         "gridcolor": "lightgrey",
         "linecolor": "black",
         "mirror": true,
         "showline": true,
         "ticks": "outside",
         "title": {
          "text": "Year"
         }
        },
        "xaxis2": {
         "anchor": "y3",
         "domain": [
          0.198,
          0.346
         ],
         "gridcolor": "lightgrey",
         "linecolor": "black",
         "matches": "x7",
         "mirror": true,
         "showline": true,
         "showticklabels": false,
         "ticks": "outside"
        },
        "xaxis3": {
         "anchor": "y5",
         "domain": [
          0.396,
          0.544
         ],
         "gridcolor": "lightgrey",
         "linecolor": "black",
         "matches": "x8",
         "mirror": true,
         "showline": true,
         "showticklabels": false,
         "ticks": "outside"
        },
        "xaxis4": {
         "anchor": "y7",
         "domain": [
          0.594,
          0.742
         ],
         "gridcolor": "lightgrey",
         "linecolor": "black",
         "matches": "x9",
         "mirror": true,
         "showline": true,
         "showticklabels": false,
         "ticks": "outside"
        },
        "xaxis5": {
         "anchor": "y9",
         "domain": [
          0.792,
          0.9400000000000001
         ],
         "gridcolor": "lightgrey",
         "linecolor": "black",
         "matches": "x10",
         "mirror": true,
         "showline": true,
         "showticklabels": false,
         "ticks": "outside"
        },
        "xaxis6": {
         "anchor": "y11",
         "domain": [
          0,
          0.148
         ],
         "gridcolor": "lightgrey",
         "linecolor": "black",
         "mirror": true,
         "showline": true,
         "ticks": "outside",
         "title": {
          "text": "Year"
         }
        },
        "xaxis7": {
         "anchor": "y12",
         "domain": [
          0.198,
          0.346
         ],
         "gridcolor": "lightgrey",
         "linecolor": "black",
         "mirror": true,
         "showline": true,
         "ticks": "outside",
         "title": {
          "text": "Year"
         }
        },
        "xaxis8": {
         "anchor": "y13",
         "domain": [
          0.396,
          0.544
         ],
         "gridcolor": "lightgrey",
         "linecolor": "black",
         "mirror": true,
         "showline": true,
         "ticks": "outside",
         "title": {
          "text": "Year"
         }
        },
        "xaxis9": {
         "anchor": "y14",
         "domain": [
          0.594,
          0.742
         ],
         "gridcolor": "lightgrey",
         "linecolor": "black",
         "mirror": true,
         "showline": true,
         "ticks": "outside",
         "title": {
          "text": "Year"
         }
        },
        "yaxis": {
         "anchor": "x",
         "domain": [
          0.525,
          1
         ],
         "gridcolor": "lightgrey",
         "linecolor": "black",
         "matches": "y",
         "mirror": true,
         "showline": true,
         "showticklabels": true,
         "ticks": "outside",
         "title": {
          "text": "Generation share (-)"
         }
        },
        "yaxis10": {
         "anchor": "x5",
         "gridcolor": "lightgrey",
         "linecolor": "black",
         "matches": "y2",
         "mirror": true,
         "overlaying": "y9",
         "rangemode": "tozero",
         "showgrid": false,
         "showline": true,
         "showticklabels": true,
         "side": "right",
         "ticks": "outside",
         "title": {
          "text": "Emissions (Mt)"
         }
        },
        "yaxis11": {
         "anchor": "x6",
         "domain": [
          0,
          0.475
         ],
         "gridcolor": "lightgrey",
         "linecolor": "black",
         "matches": "y11",
         "mirror": true,
         "showline": true,
         "showticklabels": true,
         "ticks": "outside",
         "title": {
          "text": "Modified Capacity (GW)"
         }
        },
        "yaxis12": {
         "anchor": "x7",
         "domain": [
          0,
          0.475
         ],
         "gridcolor": "lightgrey",
         "linecolor": "black",
         "matches": "y11",
         "mirror": true,
         "showline": true,
         "showticklabels": false,
         "ticks": "outside"
        },
        "yaxis13": {
         "anchor": "x8",
         "domain": [
          0,
          0.475
         ],
         "gridcolor": "lightgrey",
         "linecolor": "black",
         "matches": "y11",
         "mirror": true,
         "showline": true,
         "showticklabels": false,
         "ticks": "outside"
        },
        "yaxis14": {
         "anchor": "x9",
         "domain": [
          0,
          0.475
         ],
         "gridcolor": "lightgrey",
         "linecolor": "black",
         "matches": "y11",
         "mirror": true,
         "showline": true,
         "showticklabels": false,
         "ticks": "outside"
        },
        "yaxis15": {
         "anchor": "x10",
         "domain": [
          0,
          0.475
         ],
         "gridcolor": "lightgrey",
         "linecolor": "black",
         "matches": "y11",
         "mirror": true,
         "showline": true,
         "showticklabels": false,
         "ticks": "outside"
        },
        "yaxis2": {
         "anchor": "x",
         "gridcolor": "lightgrey",
         "linecolor": "black",
         "matches": "y2",
         "mirror": true,
         "overlaying": "y",
         "rangemode": "tozero",
         "showgrid": false,
         "showline": true,
         "showticklabels": false,
         "side": "right",
         "ticks": "outside"
        },
        "yaxis3": {
         "anchor": "x2",
         "domain": [
          0.525,
          1
         ],
         "gridcolor": "lightgrey",
         "linecolor": "black",
         "matches": "y",
         "mirror": true,
         "showline": true,
         "showticklabels": false,
         "ticks": "outside"
        },
        "yaxis4": {
         "anchor": "x2",
         "gridcolor": "lightgrey",
         "linecolor": "black",
         "matches": "y2",
         "mirror": true,
         "overlaying": "y3",
         "rangemode": "tozero",
         "showgrid": false,
         "showline": true,
         "showticklabels": false,
         "side": "right",
         "ticks": "outside"
        },
        "yaxis5": {
         "anchor": "x3",
         "domain": [
          0.525,
          1
         ],
         "gridcolor": "lightgrey",
         "linecolor": "black",
         "matches": "y",
         "mirror": true,
         "showline": true,
         "showticklabels": false,
         "ticks": "outside"
        },
        "yaxis6": {
         "anchor": "x3",
         "gridcolor": "lightgrey",
         "linecolor": "black",
         "matches": "y2",
         "mirror": true,
         "overlaying": "y5",
         "rangemode": "tozero",
         "showgrid": false,
         "showline": true,
         "showticklabels": false,
         "side": "right",
         "ticks": "outside"
        },
        "yaxis7": {
         "anchor": "x4",
         "domain": [
          0.525,
          1
         ],
         "gridcolor": "lightgrey",
         "linecolor": "black",
         "matches": "y",
         "mirror": true,
         "showline": true,
         "showticklabels": false,
         "ticks": "outside"
        },
        "yaxis8": {
         "anchor": "x4",
         "gridcolor": "lightgrey",
         "linecolor": "black",
         "matches": "y2",
         "mirror": true,
         "overlaying": "y7",
         "rangemode": "tozero",
         "showgrid": false,
         "showline": true,
         "showticklabels": false,
         "side": "right",
         "ticks": "outside"
        },
        "yaxis9": {
         "anchor": "x5",
         "domain": [
          0.525,
          1
         ],
         "gridcolor": "lightgrey",
         "linecolor": "black",
         "matches": "y",
         "mirror": true,
         "showline": true,
         "showticklabels": false,
         "ticks": "outside"
        }
       }
      }
     },
     "metadata": {},
     "output_type": "display_data"
    }
   ],
   "source": [
    "import plotly.graph_objects as go\n",
    "from plotly.subplots import make_subplots\n",
    "\n",
    "nb_rows = 2  # the number of rows in your plot\n",
    "nb_cols = 5  # the number of columns in your plot\n",
    "copper_fig = make_subplots(\n",
    "    rows=nb_rows,\n",
    "    cols=nb_cols,\n",
    "    shared_xaxes=True,\n",
    "    vertical_spacing=0.05,\n",
    "    horizontal_spacing=0.05,\n",
    "    subplot_titles=(\"BAU\", \"CER\", \"CER+\", \"Rapid\", \"Rapid+\"),\n",
    "    specs=[[{\"secondary_y\": True}, {\"secondary_y\": True}, {\"secondary_y\": True}, {\"secondary_y\": True}, {\"secondary_y\": True}],\n",
    "            [{\"secondary_y\": False}, {\"secondary_y\": False}, {\"secondary_y\": False}, {\"secondary_y\": False}, {\"secondary_y\": False}]])\n",
    "\n",
    "\n",
    "legend_entries = []\n",
    "for i, data in enumerate(gen_sharefig.data):\n",
    "    xax = data[\"xaxis\"].replace(\"x\", \"\")\n",
    "    xax = 1 if xax == \"\" else int(xax)\n",
    "    data[\"legendgroup\"] = \"gentechs\"\n",
    "    data[\"legendgrouptitle_text\"] = \"Technologies\"\n",
    "    name = data[\"name\"]\n",
    "    show_legend = name not in legend_entries\n",
    "    if show_legend:\n",
    "        legend_entries.append(name)\n",
    "    data[\"showlegend\"] = show_legend\n",
    "    copper_fig.add_trace(data, col=xax, row=1, secondary_y=False)\n",
    "\n",
    "for i, (scen, emission_data) in enumerate(scen_supply_agg.groupby(\"scenario\")):\n",
    "    xax=i+1\n",
    "    copper_fig.add_trace(\n",
    "        go.Scatter(x=emission_data[\"pds\"], y=emission_data[\"emissions (Mt)\"], mode='lines', showlegend=False, line_dash=\"dot\"),\n",
    "        col=xax,\n",
    "        row=1,\n",
    "        secondary_y=True\n",
    "    )\n",
    "\n",
    "for i, data in enumerate(scen_cap_fig.data):\n",
    "    xax = data[\"xaxis\"].replace(\"x\", \"\")\n",
    "    xax = 1 if xax == \"\" else int(xax)\n",
    "    data[\"legendgroup\"] = \"gentechs\"\n",
    "    # data[\"legendgrouptitle_text\"] = \"Generators\"\n",
    "    name = data[\"name\"]\n",
    "    show_legend = name not in legend_entries\n",
    "    if show_legend:\n",
    "        legend_entries.append(name)\n",
    "    data[\"showlegend\"] = show_legend\n",
    "    copper_fig.add_trace(data, col=xax, row=2)\n",
    "\n",
    "\n",
    "def y_ax_fmt(yax):\n",
    "    yax.showgrid = False\n",
    "    yax.matches = \"y2\"\n",
    "    yax.showticklabels = yax[\"overlaying\"] == \"y9\"\n",
    "    yax.rangemode = \"tozero\"\n",
    "    if yax.showticklabels:\n",
    "        yax.title = \"Emissions (Mt)\"\n",
    "\n",
    "copper_fig.for_each_yaxis(y_ax_fmt, row=1, secondary_y=True)   \n",
    "copper_fig.for_each_yaxis(lambda yax: yax.update(matches=\"y\", showticklabels=yax.plotly_name==\"yaxis\"), row=1, secondary_y=False)\n",
    "copper_fig.for_each_yaxis(lambda yax: yax.update(matches=\"y11\", showticklabels=yax.plotly_name==\"yaxis11\"), row=2, secondary_y=False)\n",
    "\n",
    "sciencify_plotly_fig(copper_fig)\n",
    "\n",
    "copper_fig.update_layout(\n",
    "    barmode=\"relative\",\n",
    "    width=900,\n",
    "    height=600,\n",
    "    yaxis1_title=\"Generation share (-)\",\n",
    "    yaxis11_title=\"Modified Capacity (GW)\",\n",
    "    xaxis6_title=\"Year\",\n",
    "    xaxis7_title=\"Year\",\n",
    "    xaxis8_title=\"Year\",\n",
    "    xaxis9_title=\"Year\",\n",
    "    xaxis10_title=\"Year\",\n",
    "    font_family=\"cm\",\n",
    "    font_size=18,\n",
    "    legend_traceorder=\"reversed\",\n",
    ")\n",
    "copper_fig.write_image(f\"copper_results_{date_str}.svg\")\n",
    "copper_fig\n"
   ]
  },
  {
   "cell_type": "code",
   "execution_count": 64,
   "metadata": {},
   "outputs": [],
   "source": [
    "scen_supply_df.set_index(\"scenario\",append=True, inplace=True)"
   ]
  },
  {
   "cell_type": "code",
   "execution_count": 65,
   "metadata": {},
   "outputs": [
    {
     "data": {
      "text/html": [
       "<div>\n",
       "<style scoped>\n",
       "    .dataframe tbody tr th:only-of-type {\n",
       "        vertical-align: middle;\n",
       "    }\n",
       "\n",
       "    .dataframe tbody tr th {\n",
       "        vertical-align: top;\n",
       "    }\n",
       "\n",
       "    .dataframe thead th {\n",
       "        text-align: right;\n",
       "    }\n",
       "</style>\n",
       "<table border=\"1\" class=\"dataframe\">\n",
       "  <thead>\n",
       "    <tr style=\"text-align: right;\">\n",
       "      <th></th>\n",
       "      <th>scenario</th>\n",
       "      <th>BAU</th>\n",
       "      <th>CER</th>\n",
       "      <th>CER+</th>\n",
       "      <th>Rapid</th>\n",
       "      <th>Rapid+</th>\n",
       "    </tr>\n",
       "    <tr>\n",
       "      <th>pds</th>\n",
       "      <th>Type</th>\n",
       "      <th></th>\n",
       "      <th></th>\n",
       "      <th></th>\n",
       "      <th></th>\n",
       "      <th></th>\n",
       "    </tr>\n",
       "  </thead>\n",
       "  <tbody>\n",
       "    <tr>\n",
       "      <th rowspan=\"5\" valign=\"top\">2025</th>\n",
       "      <th>biomass</th>\n",
       "      <td>0.000000</td>\n",
       "      <td>0.000000</td>\n",
       "      <td>0.000000</td>\n",
       "      <td>0.000000</td>\n",
       "      <td>0.000000</td>\n",
       "    </tr>\n",
       "    <tr>\n",
       "      <th>coal_ccs_pre2025</th>\n",
       "      <td>0.000000</td>\n",
       "      <td>0.000000</td>\n",
       "      <td>0.000000</td>\n",
       "      <td>0.000000</td>\n",
       "      <td>0.000000</td>\n",
       "    </tr>\n",
       "    <tr>\n",
       "      <th>coal_pre2025</th>\n",
       "      <td>0.000000</td>\n",
       "      <td>0.000000</td>\n",
       "      <td>0.000000</td>\n",
       "      <td>0.000000</td>\n",
       "      <td>0.000000</td>\n",
       "    </tr>\n",
       "    <tr>\n",
       "      <th>coal_retire_pre2025</th>\n",
       "      <td>0.000000</td>\n",
       "      <td>0.000000</td>\n",
       "      <td>0.000000</td>\n",
       "      <td>0.000000</td>\n",
       "      <td>0.000000</td>\n",
       "    </tr>\n",
       "    <tr>\n",
       "      <th>diesel_backup_post2025</th>\n",
       "      <td>0.000000</td>\n",
       "      <td>0.000000</td>\n",
       "      <td>0.000000</td>\n",
       "      <td>0.000000</td>\n",
       "      <td>0.000000</td>\n",
       "    </tr>\n",
       "    <tr>\n",
       "      <th>...</th>\n",
       "      <th>...</th>\n",
       "      <td>...</td>\n",
       "      <td>...</td>\n",
       "      <td>...</td>\n",
       "      <td>...</td>\n",
       "      <td>...</td>\n",
       "    </tr>\n",
       "    <tr>\n",
       "      <th rowspan=\"5\" valign=\"top\">2050</th>\n",
       "      <th>nuclear</th>\n",
       "      <td>24.886037</td>\n",
       "      <td>23.710216</td>\n",
       "      <td>23.096356</td>\n",
       "      <td>27.604887</td>\n",
       "      <td>27.495303</td>\n",
       "    </tr>\n",
       "    <tr>\n",
       "      <th>nuclear_SMR</th>\n",
       "      <td>0.000000</td>\n",
       "      <td>0.000000</td>\n",
       "      <td>0.000000</td>\n",
       "      <td>4.148063</td>\n",
       "      <td>5.098608</td>\n",
       "    </tr>\n",
       "    <tr>\n",
       "      <th>solar</th>\n",
       "      <td>16.243231</td>\n",
       "      <td>25.797785</td>\n",
       "      <td>29.769962</td>\n",
       "      <td>18.020997</td>\n",
       "      <td>20.012009</td>\n",
       "    </tr>\n",
       "    <tr>\n",
       "      <th>wind_ofs</th>\n",
       "      <td>0.000000</td>\n",
       "      <td>0.000000</td>\n",
       "      <td>0.000000</td>\n",
       "      <td>0.000000</td>\n",
       "      <td>0.000000</td>\n",
       "    </tr>\n",
       "    <tr>\n",
       "      <th>wind_ons</th>\n",
       "      <td>234.758726</td>\n",
       "      <td>249.443435</td>\n",
       "      <td>252.288848</td>\n",
       "      <td>233.251027</td>\n",
       "      <td>231.277133</td>\n",
       "    </tr>\n",
       "  </tbody>\n",
       "</table>\n",
       "<p>258 rows × 5 columns</p>\n",
       "</div>"
      ],
      "text/plain": [
       "scenario                            BAU         CER        CER+       Rapid  \\\n",
       "pds  Type                                                                     \n",
       "2025 biomass                   0.000000    0.000000    0.000000    0.000000   \n",
       "     coal_ccs_pre2025          0.000000    0.000000    0.000000    0.000000   \n",
       "     coal_pre2025              0.000000    0.000000    0.000000    0.000000   \n",
       "     coal_retire_pre2025       0.000000    0.000000    0.000000    0.000000   \n",
       "     diesel_backup_post2025    0.000000    0.000000    0.000000    0.000000   \n",
       "...                                 ...         ...         ...         ...   \n",
       "2050 nuclear                  24.886037   23.710216   23.096356   27.604887   \n",
       "     nuclear_SMR               0.000000    0.000000    0.000000    4.148063   \n",
       "     solar                    16.243231   25.797785   29.769962   18.020997   \n",
       "     wind_ofs                  0.000000    0.000000    0.000000    0.000000   \n",
       "     wind_ons                234.758726  249.443435  252.288848  233.251027   \n",
       "\n",
       "scenario                         Rapid+  \n",
       "pds  Type                                \n",
       "2025 biomass                   0.000000  \n",
       "     coal_ccs_pre2025          0.000000  \n",
       "     coal_pre2025              0.000000  \n",
       "     coal_retire_pre2025       0.000000  \n",
       "     diesel_backup_post2025    0.000000  \n",
       "...                                 ...  \n",
       "2050 nuclear                  27.495303  \n",
       "     nuclear_SMR               5.098608  \n",
       "     solar                    20.012009  \n",
       "     wind_ofs                  0.000000  \n",
       "     wind_ons                231.277133  \n",
       "\n",
       "[258 rows x 5 columns]"
      ]
     },
     "execution_count": 65,
     "metadata": {},
     "output_type": "execute_result"
    }
   ],
   "source": [
    "scen_demands = ((scen_supply_df[\"value\"]/scen_supply_df[\"year_frac\"]).groupby([\"pds\",\"scenario\",\"Type\"]).sum()*1e-6).reset_index() # MWh -> TWh\n",
    "scen_demands.pivot(columns=\"scenario\",index=[\"pds\",\"Type\"], values=0)"
   ]
  },
  {
   "cell_type": "markdown",
   "metadata": {},
   "source": [
    "# Copper results\n",
    "\n",
    "* underlying data is already annuitized and inflation adjusted\n",
    "* variable costs are scaled up to represent annual cost\n",
    "* fixed cost are in $/a\n"
   ]
  },
  {
   "cell_type": "markdown",
   "metadata": {},
   "source": [
    "## System costs"
   ]
  },
  {
   "cell_type": "code",
   "execution_count": 66,
   "metadata": {},
   "outputs": [],
   "source": [
    "import toml\n",
    "import pandas as pd\n",
    "# from main import get_copper_el_prices, multi_index_copper_demand\n",
    "from copper.phases.postprocessing import get_all_disc_coeffs\n",
    "import plotly.express as px\n",
    "\n",
    "scenario = \"CER_scenario\"\n",
    "result_dirs = [\n",
    "    \"copper/results/CER_20240408_1526/CER_scenario_20240408_1540\"\n",
    "]\n",
    "\n",
    "results_dir = result_dirs[0]\n",
    "config_path = f\"{results_dir}/config.toml\"\n",
    "config = toml.load(config_path)\n",
    "gridcell_data = pd.read_csv('copper/scenarios/static/gridcells.csv')\n",
    "map_gl_to_ba=dict(gridcell_data[['grid_cell', 'ba']].values)\n",
    "\n",
    "disc_coeffs = get_all_disc_coeffs(config)\n",
    "\n",
    "\n"
   ]
  },
  {
   "cell_type": "code",
   "execution_count": 67,
   "metadata": {},
   "outputs": [
    {
     "data": {
      "text/html": [
       "<div>\n",
       "<style scoped>\n",
       "    .dataframe tbody tr th:only-of-type {\n",
       "        vertical-align: middle;\n",
       "    }\n",
       "\n",
       "    .dataframe tbody tr th {\n",
       "        vertical-align: top;\n",
       "    }\n",
       "\n",
       "    .dataframe thead th {\n",
       "        text-align: right;\n",
       "    }\n",
       "</style>\n",
       "<table border=\"1\" class=\"dataframe\">\n",
       "  <thead>\n",
       "    <tr style=\"text-align: right;\">\n",
       "      <th></th>\n",
       "      <th>dual_price</th>\n",
       "    </tr>\n",
       "    <tr>\n",
       "      <th>year</th>\n",
       "      <th></th>\n",
       "    </tr>\n",
       "  </thead>\n",
       "  <tbody>\n",
       "    <tr>\n",
       "      <th>2025</th>\n",
       "      <td>4.016778</td>\n",
       "    </tr>\n",
       "    <tr>\n",
       "      <th>2030</th>\n",
       "      <td>3.343079</td>\n",
       "    </tr>\n",
       "    <tr>\n",
       "      <th>2035</th>\n",
       "      <td>2.782374</td>\n",
       "    </tr>\n",
       "    <tr>\n",
       "      <th>2040</th>\n",
       "      <td>2.315710</td>\n",
       "    </tr>\n",
       "    <tr>\n",
       "      <th>2045</th>\n",
       "      <td>1.927316</td>\n",
       "    </tr>\n",
       "    <tr>\n",
       "      <th>2050</th>\n",
       "      <td>0.000100</td>\n",
       "    </tr>\n",
       "  </tbody>\n",
       "</table>\n",
       "</div>"
      ],
      "text/plain": [
       "      dual_price\n",
       "year            \n",
       "2025    4.016778\n",
       "2030    3.343079\n",
       "2035    2.782374\n",
       "2040    2.315710\n",
       "2045    1.927316\n",
       "2050    0.000100"
      ]
     },
     "execution_count": 67,
     "metadata": {},
     "output_type": "execute_result"
    }
   ],
   "source": [
    "disc_coeff_series = pd.Series(disc_coeffs).to_frame()\n",
    "disc_coeff_series.columns = [\"dual_price\"]\n",
    "disc_coeff_series.index.set_names([\"year\"], inplace=True)\n",
    "disc_coeff_series.index = disc_coeff_series.index.astype(int)\n",
    "disc_coeff_series"
   ]
  },
  {
   "cell_type": "code",
   "execution_count": 68,
   "metadata": {},
   "outputs": [
    {
     "data": {
      "application/vnd.plotly.v1+json": {
       "config": {
        "plotlyServerURL": "https://plot.ly"
       },
       "data": [
        {
         "alignmentgroup": "True",
         "hovertemplate": "cost=Invest<br>cost_type=undiscounted<br>pds=%{x}<br>value=%{y}<extra></extra>",
         "legendgroup": "Invest",
         "marker": {
          "color": "#636efa",
          "pattern": {
           "shape": ""
          }
         },
         "name": "Invest",
         "offsetgroup": "Invest",
         "orientation": "v",
         "showlegend": true,
         "textposition": "auto",
         "type": "bar",
         "x": [
          2025,
          2030,
          2035,
          2040,
          2045,
          2050
         ],
         "xaxis": "x2",
         "y": [
          0,
          6036405478.978205,
          17687951030.82656,
          25728237383.31555,
          33469824259.884865,
          7452448769.676262
         ],
         "yaxis": "y2"
        },
        {
         "alignmentgroup": "True",
         "hovertemplate": "cost=Invest<br>cost_type=discounted<br>pds=%{x}<br>value=%{y}<extra></extra>",
         "legendgroup": "Invest",
         "marker": {
          "color": "#636efa",
          "pattern": {
           "shape": ""
          }
         },
         "name": "Invest",
         "offsetgroup": "Invest",
         "orientation": "v",
         "showlegend": false,
         "textposition": "auto",
         "type": "bar",
         "x": [
          2025,
          2030,
          2035,
          2040,
          2045,
          2050
         ],
         "xaxis": "x",
         "y": [
          0,
          4036036275.473584,
          9842897561.879326,
          11915828773.231234,
          12901387910.164415,
          742478.2743094213
         ],
         "yaxis": "y"
        },
        {
         "alignmentgroup": "True",
         "hovertemplate": "cost=VOM<br>cost_type=undiscounted<br>pds=%{x}<br>value=%{y}<extra></extra>",
         "legendgroup": "VOM",
         "marker": {
          "color": "#EF553B",
          "pattern": {
           "shape": ""
          }
         },
         "name": "VOM",
         "offsetgroup": "VOM",
         "orientation": "v",
         "showlegend": true,
         "textposition": "auto",
         "type": "bar",
         "x": [
          2025,
          2030,
          2035,
          2040,
          2045,
          2050
         ],
         "xaxis": "x2",
         "y": [
          2103919000.956652,
          1448962693.9747787,
          1138760782.6717968,
          1151540602.0530872,
          1086250008.8189764,
          229783122.9462138
         ],
         "yaxis": "y2"
        },
        {
         "alignmentgroup": "True",
         "hovertemplate": "cost=VOM<br>cost_type=discounted<br>pds=%{x}<br>value=%{y}<extra></extra>",
         "legendgroup": "VOM",
         "marker": {
          "color": "#EF553B",
          "pattern": {
           "shape": ""
          }
         },
         "name": "VOM",
         "offsetgroup": "VOM",
         "orientation": "v",
         "showlegend": false,
         "textposition": "auto",
         "type": "bar",
         "x": [
          2025,
          2030,
          2035,
          2040,
          2045,
          2050
         ],
         "xaxis": "x",
         "y": [
          1690195303.0200803,
          968799398.0947832,
          633691585.4068959,
          533326882.64087844,
          418709480.5869573,
          22893.008977765272
         ],
         "yaxis": "y"
        },
        {
         "alignmentgroup": "True",
         "hovertemplate": "cost=FOM<br>cost_type=undiscounted<br>pds=%{x}<br>value=%{y}<extra></extra>",
         "legendgroup": "FOM",
         "marker": {
          "color": "#00cc96",
          "pattern": {
           "shape": ""
          }
         },
         "name": "FOM",
         "offsetgroup": "FOM",
         "orientation": "v",
         "showlegend": true,
         "textposition": "auto",
         "type": "bar",
         "x": [
          2025,
          2030,
          2035,
          2040,
          2045,
          2050
         ],
         "xaxis": "x2",
         "y": [
          16737914820.217861,
          16819473490.169151,
          21542182712.16736,
          25561851295.264076,
          28814175969.417343,
          6240344018.952158
         ],
         "yaxis": "y2"
        },
        {
         "alignmentgroup": "True",
         "hovertemplate": "cost=FOM<br>cost_type=discounted<br>pds=%{x}<br>value=%{y}<extra></extra>",
         "legendgroup": "FOM",
         "marker": {
          "color": "#00cc96",
          "pattern": {
           "shape": ""
          }
         },
         "name": "FOM",
         "offsetgroup": "FOM",
         "orientation": "v",
         "showlegend": false,
         "textposition": "auto",
         "type": "bar",
         "x": [
          2025,
          2030,
          2035,
          2040,
          2045,
          2050
         ],
         "xaxis": "x",
         "y": [
          13446499127.874601,
          11245766272.178896,
          11987680049.860613,
          11838768378.229013,
          11106806495.507717,
          621717.7737794756
         ],
         "yaxis": "y"
        },
        {
         "alignmentgroup": "True",
         "hovertemplate": "cost=Fuels<br>cost_type=undiscounted<br>pds=%{x}<br>value=%{y}<extra></extra>",
         "legendgroup": "Fuels",
         "marker": {
          "color": "#ab63fa",
          "pattern": {
           "shape": ""
          }
         },
         "name": "Fuels",
         "offsetgroup": "Fuels",
         "orientation": "v",
         "showlegend": true,
         "textposition": "auto",
         "type": "bar",
         "x": [
          2025,
          2030,
          2035,
          2040,
          2045,
          2050
         ],
         "xaxis": "x2",
         "y": [
          5083910817.7976,
          7707989258.386661,
          8444737839.019325,
          11670464420.21672,
          14043175802.322264,
          3289535281.427877
         ],
         "yaxis": "y2"
        },
        {
         "alignmentgroup": "True",
         "hovertemplate": "cost=Fuels<br>cost_type=discounted<br>pds=%{x}<br>value=%{y}<extra></extra>",
         "legendgroup": "Fuels",
         "marker": {
          "color": "#ab63fa",
          "pattern": {
           "shape": ""
          }
         },
         "name": "Fuels",
         "offsetgroup": "Fuels",
         "orientation": "v",
         "showlegend": false,
         "textposition": "auto",
         "type": "bar",
         "x": [
          2025,
          2030,
          2035,
          2040,
          2045,
          2050
         ],
         "xaxis": "x",
         "y": [
          4084188688.493869,
          5153683655.968602,
          4699283107.5533085,
          5405082892.525337,
          5413128467.8880825,
          327732.34067339
         ],
         "yaxis": "y"
        },
        {
         "alignmentgroup": "True",
         "hovertemplate": "cost=Storage Invest<br>cost_type=undiscounted<br>pds=%{x}<br>value=%{y}<extra></extra>",
         "legendgroup": "Storage Invest",
         "marker": {
          "color": "#FFA15A",
          "pattern": {
           "shape": ""
          }
         },
         "name": "Storage Invest",
         "offsetgroup": "Storage Invest",
         "orientation": "v",
         "showlegend": true,
         "textposition": "auto",
         "type": "bar",
         "x": [
          2025,
          2030,
          2035,
          2040,
          2045,
          2050
         ],
         "xaxis": "x2",
         "y": [
          0,
          94191157.644,
          94191157.644,
          205491450.1883113,
          205491450.1883113,
          54316655.16748685
         ],
         "yaxis": "y2"
        },
        {
         "alignmentgroup": "True",
         "hovertemplate": "cost=Storage Invest<br>cost_type=discounted<br>pds=%{x}<br>value=%{y}<extra></extra>",
         "legendgroup": "Storage Invest",
         "marker": {
          "color": "#FFA15A",
          "pattern": {
           "shape": ""
          }
         },
         "name": "Storage Invest",
         "offsetgroup": "Storage Invest",
         "orientation": "v",
         "showlegend": false,
         "textposition": "auto",
         "type": "bar",
         "x": [
          2025,
          2030,
          2035,
          2040,
          2045,
          2050
         ],
         "xaxis": "x",
         "y": [
          0,
          62977699.29537359,
          52414997.88805072,
          95171732.84458189,
          79209406.3750173,
          5411.501325458619
         ],
         "yaxis": "y"
        },
        {
         "alignmentgroup": "True",
         "hovertemplate": "cost=Storage OM<br>cost_type=undiscounted<br>pds=%{x}<br>value=%{y}<extra></extra>",
         "legendgroup": "Storage OM",
         "marker": {
          "color": "#19d3f3",
          "pattern": {
           "shape": ""
          }
         },
         "name": "Storage OM",
         "offsetgroup": "Storage OM",
         "orientation": "v",
         "showlegend": true,
         "textposition": "auto",
         "type": "bar",
         "x": [
          2025,
          2030,
          2035,
          2040,
          2045,
          2050
         ],
         "xaxis": "x2",
         "y": [
          0,
          19908720,
          19908720,
          72137410.30418116,
          72137410.30418116,
          21663443.92695171
         ],
         "yaxis": "y2"
        },
        {
         "alignmentgroup": "True",
         "hovertemplate": "cost=Storage OM<br>cost_type=discounted<br>pds=%{x}<br>value=%{y}<extra></extra>",
         "legendgroup": "Storage OM",
         "marker": {
          "color": "#19d3f3",
          "pattern": {
           "shape": ""
          }
         },
         "name": "Storage OM",
         "offsetgroup": "Storage OM",
         "orientation": "v",
         "showlegend": false,
         "textposition": "auto",
         "type": "bar",
         "x": [
          2025,
          2030,
          2035,
          2040,
          2045,
          2050
         ],
         "xaxis": "x",
         "y": [
          0,
          13311285.399576548,
          11078699.347743554,
          33409868.562794518,
          27806322.07514717,
          2158.3021849046195
         ],
         "yaxis": "y"
        },
        {
         "alignmentgroup": "True",
         "hovertemplate": "cost=Hydro<br>cost_type=undiscounted<br>pds=%{x}<br>value=%{y}<extra></extra>",
         "legendgroup": "Hydro",
         "marker": {
          "color": "#FF6692",
          "pattern": {
           "shape": ""
          }
         },
         "name": "Hydro",
         "offsetgroup": "Hydro",
         "orientation": "v",
         "showlegend": true,
         "textposition": "auto",
         "type": "bar",
         "x": [
          2025,
          2030,
          2035,
          2040,
          2045,
          2050,
          2025,
          2030,
          2035,
          2040,
          2045,
          2050
         ],
         "xaxis": "x2",
         "y": [
          0,
          0,
          0,
          0,
          0,
          0,
          0,
          0,
          0,
          0,
          0,
          0
         ],
         "yaxis": "y2"
        },
        {
         "alignmentgroup": "True",
         "hovertemplate": "cost=Hydro<br>cost_type=discounted<br>pds=%{x}<br>value=%{y}<extra></extra>",
         "legendgroup": "Hydro",
         "marker": {
          "color": "#FF6692",
          "pattern": {
           "shape": ""
          }
         },
         "name": "Hydro",
         "offsetgroup": "Hydro",
         "orientation": "v",
         "showlegend": false,
         "textposition": "auto",
         "type": "bar",
         "x": [
          2025,
          2030,
          2035,
          2040,
          2045,
          2050,
          2025,
          2030,
          2035,
          2040,
          2045,
          2050
         ],
         "xaxis": "x",
         "y": [
          0,
          0,
          0,
          0,
          0,
          0,
          0,
          0,
          0,
          0,
          0,
          0
         ],
         "yaxis": "y"
        }
       ],
       "layout": {
        "annotations": [
         {
          "font": {},
          "showarrow": false,
          "text": "cost_type=discounted",
          "textangle": 90,
          "x": 0.98,
          "xanchor": "left",
          "xref": "paper",
          "y": 0.2425,
          "yanchor": "middle",
          "yref": "paper"
         },
         {
          "font": {},
          "showarrow": false,
          "text": "cost_type=undiscounted",
          "textangle": 90,
          "x": 0.98,
          "xanchor": "left",
          "xref": "paper",
          "y": 0.7575000000000001,
          "yanchor": "middle",
          "yref": "paper"
         }
        ],
        "barmode": "relative",
        "legend": {
         "title": {
          "text": "cost"
         },
         "tracegroupgap": 0,
         "traceorder": "reversed"
        },
        "margin": {
         "t": 60
        },
        "template": {
         "data": {
          "bar": [
           {
            "error_x": {
             "color": "#2a3f5f"
            },
            "error_y": {
             "color": "#2a3f5f"
            },
            "marker": {
             "line": {
              "color": "#E5ECF6",
              "width": 0.5
             },
             "pattern": {
              "fillmode": "overlay",
              "size": 10,
              "solidity": 0.2
             }
            },
            "type": "bar"
           }
          ],
          "barpolar": [
           {
            "marker": {
             "line": {
              "color": "#E5ECF6",
              "width": 0.5
             },
             "pattern": {
              "fillmode": "overlay",
              "size": 10,
              "solidity": 0.2
             }
            },
            "type": "barpolar"
           }
          ],
          "carpet": [
           {
            "aaxis": {
             "endlinecolor": "#2a3f5f",
             "gridcolor": "white",
             "linecolor": "white",
             "minorgridcolor": "white",
             "startlinecolor": "#2a3f5f"
            },
            "baxis": {
             "endlinecolor": "#2a3f5f",
             "gridcolor": "white",
             "linecolor": "white",
             "minorgridcolor": "white",
             "startlinecolor": "#2a3f5f"
            },
            "type": "carpet"
           }
          ],
          "choropleth": [
           {
            "colorbar": {
             "outlinewidth": 0,
             "ticks": ""
            },
            "type": "choropleth"
           }
          ],
          "contour": [
           {
            "colorbar": {
             "outlinewidth": 0,
             "ticks": ""
            },
            "colorscale": [
             [
              0,
              "#0d0887"
             ],
             [
              0.1111111111111111,
              "#46039f"
             ],
             [
              0.2222222222222222,
              "#7201a8"
             ],
             [
              0.3333333333333333,
              "#9c179e"
             ],
             [
              0.4444444444444444,
              "#bd3786"
             ],
             [
              0.5555555555555556,
              "#d8576b"
             ],
             [
              0.6666666666666666,
              "#ed7953"
             ],
             [
              0.7777777777777778,
              "#fb9f3a"
             ],
             [
              0.8888888888888888,
              "#fdca26"
             ],
             [
              1,
              "#f0f921"
             ]
            ],
            "type": "contour"
           }
          ],
          "contourcarpet": [
           {
            "colorbar": {
             "outlinewidth": 0,
             "ticks": ""
            },
            "type": "contourcarpet"
           }
          ],
          "heatmap": [
           {
            "colorbar": {
             "outlinewidth": 0,
             "ticks": ""
            },
            "colorscale": [
             [
              0,
              "#0d0887"
             ],
             [
              0.1111111111111111,
              "#46039f"
             ],
             [
              0.2222222222222222,
              "#7201a8"
             ],
             [
              0.3333333333333333,
              "#9c179e"
             ],
             [
              0.4444444444444444,
              "#bd3786"
             ],
             [
              0.5555555555555556,
              "#d8576b"
             ],
             [
              0.6666666666666666,
              "#ed7953"
             ],
             [
              0.7777777777777778,
              "#fb9f3a"
             ],
             [
              0.8888888888888888,
              "#fdca26"
             ],
             [
              1,
              "#f0f921"
             ]
            ],
            "type": "heatmap"
           }
          ],
          "heatmapgl": [
           {
            "colorbar": {
             "outlinewidth": 0,
             "ticks": ""
            },
            "colorscale": [
             [
              0,
              "#0d0887"
             ],
             [
              0.1111111111111111,
              "#46039f"
             ],
             [
              0.2222222222222222,
              "#7201a8"
             ],
             [
              0.3333333333333333,
              "#9c179e"
             ],
             [
              0.4444444444444444,
              "#bd3786"
             ],
             [
              0.5555555555555556,
              "#d8576b"
             ],
             [
              0.6666666666666666,
              "#ed7953"
             ],
             [
              0.7777777777777778,
              "#fb9f3a"
             ],
             [
              0.8888888888888888,
              "#fdca26"
             ],
             [
              1,
              "#f0f921"
             ]
            ],
            "type": "heatmapgl"
           }
          ],
          "histogram": [
           {
            "marker": {
             "pattern": {
              "fillmode": "overlay",
              "size": 10,
              "solidity": 0.2
             }
            },
            "type": "histogram"
           }
          ],
          "histogram2d": [
           {
            "colorbar": {
             "outlinewidth": 0,
             "ticks": ""
            },
            "colorscale": [
             [
              0,
              "#0d0887"
             ],
             [
              0.1111111111111111,
              "#46039f"
             ],
             [
              0.2222222222222222,
              "#7201a8"
             ],
             [
              0.3333333333333333,
              "#9c179e"
             ],
             [
              0.4444444444444444,
              "#bd3786"
             ],
             [
              0.5555555555555556,
              "#d8576b"
             ],
             [
              0.6666666666666666,
              "#ed7953"
             ],
             [
              0.7777777777777778,
              "#fb9f3a"
             ],
             [
              0.8888888888888888,
              "#fdca26"
             ],
             [
              1,
              "#f0f921"
             ]
            ],
            "type": "histogram2d"
           }
          ],
          "histogram2dcontour": [
           {
            "colorbar": {
             "outlinewidth": 0,
             "ticks": ""
            },
            "colorscale": [
             [
              0,
              "#0d0887"
             ],
             [
              0.1111111111111111,
              "#46039f"
             ],
             [
              0.2222222222222222,
              "#7201a8"
             ],
             [
              0.3333333333333333,
              "#9c179e"
             ],
             [
              0.4444444444444444,
              "#bd3786"
             ],
             [
              0.5555555555555556,
              "#d8576b"
             ],
             [
              0.6666666666666666,
              "#ed7953"
             ],
             [
              0.7777777777777778,
              "#fb9f3a"
             ],
             [
              0.8888888888888888,
              "#fdca26"
             ],
             [
              1,
              "#f0f921"
             ]
            ],
            "type": "histogram2dcontour"
           }
          ],
          "mesh3d": [
           {
            "colorbar": {
             "outlinewidth": 0,
             "ticks": ""
            },
            "type": "mesh3d"
           }
          ],
          "parcoords": [
           {
            "line": {
             "colorbar": {
              "outlinewidth": 0,
              "ticks": ""
             }
            },
            "type": "parcoords"
           }
          ],
          "pie": [
           {
            "automargin": true,
            "type": "pie"
           }
          ],
          "scatter": [
           {
            "fillpattern": {
             "fillmode": "overlay",
             "size": 10,
             "solidity": 0.2
            },
            "type": "scatter"
           }
          ],
          "scatter3d": [
           {
            "line": {
             "colorbar": {
              "outlinewidth": 0,
              "ticks": ""
             }
            },
            "marker": {
             "colorbar": {
              "outlinewidth": 0,
              "ticks": ""
             }
            },
            "type": "scatter3d"
           }
          ],
          "scattercarpet": [
           {
            "marker": {
             "colorbar": {
              "outlinewidth": 0,
              "ticks": ""
             }
            },
            "type": "scattercarpet"
           }
          ],
          "scattergeo": [
           {
            "marker": {
             "colorbar": {
              "outlinewidth": 0,
              "ticks": ""
             }
            },
            "type": "scattergeo"
           }
          ],
          "scattergl": [
           {
            "marker": {
             "colorbar": {
              "outlinewidth": 0,
              "ticks": ""
             }
            },
            "type": "scattergl"
           }
          ],
          "scattermapbox": [
           {
            "marker": {
             "colorbar": {
              "outlinewidth": 0,
              "ticks": ""
             }
            },
            "type": "scattermapbox"
           }
          ],
          "scatterpolar": [
           {
            "marker": {
             "colorbar": {
              "outlinewidth": 0,
              "ticks": ""
             }
            },
            "type": "scatterpolar"
           }
          ],
          "scatterpolargl": [
           {
            "marker": {
             "colorbar": {
              "outlinewidth": 0,
              "ticks": ""
             }
            },
            "type": "scatterpolargl"
           }
          ],
          "scatterternary": [
           {
            "marker": {
             "colorbar": {
              "outlinewidth": 0,
              "ticks": ""
             }
            },
            "type": "scatterternary"
           }
          ],
          "surface": [
           {
            "colorbar": {
             "outlinewidth": 0,
             "ticks": ""
            },
            "colorscale": [
             [
              0,
              "#0d0887"
             ],
             [
              0.1111111111111111,
              "#46039f"
             ],
             [
              0.2222222222222222,
              "#7201a8"
             ],
             [
              0.3333333333333333,
              "#9c179e"
             ],
             [
              0.4444444444444444,
              "#bd3786"
             ],
             [
              0.5555555555555556,
              "#d8576b"
             ],
             [
              0.6666666666666666,
              "#ed7953"
             ],
             [
              0.7777777777777778,
              "#fb9f3a"
             ],
             [
              0.8888888888888888,
              "#fdca26"
             ],
             [
              1,
              "#f0f921"
             ]
            ],
            "type": "surface"
           }
          ],
          "table": [
           {
            "cells": {
             "fill": {
              "color": "#EBF0F8"
             },
             "line": {
              "color": "white"
             }
            },
            "header": {
             "fill": {
              "color": "#C8D4E3"
             },
             "line": {
              "color": "white"
             }
            },
            "type": "table"
           }
          ]
         },
         "layout": {
          "annotationdefaults": {
           "arrowcolor": "#2a3f5f",
           "arrowhead": 0,
           "arrowwidth": 1
          },
          "autotypenumbers": "strict",
          "coloraxis": {
           "colorbar": {
            "outlinewidth": 0,
            "ticks": ""
           }
          },
          "colorscale": {
           "diverging": [
            [
             0,
             "#8e0152"
            ],
            [
             0.1,
             "#c51b7d"
            ],
            [
             0.2,
             "#de77ae"
            ],
            [
             0.3,
             "#f1b6da"
            ],
            [
             0.4,
             "#fde0ef"
            ],
            [
             0.5,
             "#f7f7f7"
            ],
            [
             0.6,
             "#e6f5d0"
            ],
            [
             0.7,
             "#b8e186"
            ],
            [
             0.8,
             "#7fbc41"
            ],
            [
             0.9,
             "#4d9221"
            ],
            [
             1,
             "#276419"
            ]
           ],
           "sequential": [
            [
             0,
             "#0d0887"
            ],
            [
             0.1111111111111111,
             "#46039f"
            ],
            [
             0.2222222222222222,
             "#7201a8"
            ],
            [
             0.3333333333333333,
             "#9c179e"
            ],
            [
             0.4444444444444444,
             "#bd3786"
            ],
            [
             0.5555555555555556,
             "#d8576b"
            ],
            [
             0.6666666666666666,
             "#ed7953"
            ],
            [
             0.7777777777777778,
             "#fb9f3a"
            ],
            [
             0.8888888888888888,
             "#fdca26"
            ],
            [
             1,
             "#f0f921"
            ]
           ],
           "sequentialminus": [
            [
             0,
             "#0d0887"
            ],
            [
             0.1111111111111111,
             "#46039f"
            ],
            [
             0.2222222222222222,
             "#7201a8"
            ],
            [
             0.3333333333333333,
             "#9c179e"
            ],
            [
             0.4444444444444444,
             "#bd3786"
            ],
            [
             0.5555555555555556,
             "#d8576b"
            ],
            [
             0.6666666666666666,
             "#ed7953"
            ],
            [
             0.7777777777777778,
             "#fb9f3a"
            ],
            [
             0.8888888888888888,
             "#fdca26"
            ],
            [
             1,
             "#f0f921"
            ]
           ]
          },
          "colorway": [
           "#636efa",
           "#EF553B",
           "#00cc96",
           "#ab63fa",
           "#FFA15A",
           "#19d3f3",
           "#FF6692",
           "#B6E880",
           "#FF97FF",
           "#FECB52"
          ],
          "font": {
           "color": "#2a3f5f"
          },
          "geo": {
           "bgcolor": "white",
           "lakecolor": "white",
           "landcolor": "#E5ECF6",
           "showlakes": true,
           "showland": true,
           "subunitcolor": "white"
          },
          "hoverlabel": {
           "align": "left"
          },
          "hovermode": "closest",
          "mapbox": {
           "style": "light"
          },
          "paper_bgcolor": "white",
          "plot_bgcolor": "#E5ECF6",
          "polar": {
           "angularaxis": {
            "gridcolor": "white",
            "linecolor": "white",
            "ticks": ""
           },
           "bgcolor": "#E5ECF6",
           "radialaxis": {
            "gridcolor": "white",
            "linecolor": "white",
            "ticks": ""
           }
          },
          "scene": {
           "xaxis": {
            "backgroundcolor": "#E5ECF6",
            "gridcolor": "white",
            "gridwidth": 2,
            "linecolor": "white",
            "showbackground": true,
            "ticks": "",
            "zerolinecolor": "white"
           },
           "yaxis": {
            "backgroundcolor": "#E5ECF6",
            "gridcolor": "white",
            "gridwidth": 2,
            "linecolor": "white",
            "showbackground": true,
            "ticks": "",
            "zerolinecolor": "white"
           },
           "zaxis": {
            "backgroundcolor": "#E5ECF6",
            "gridcolor": "white",
            "gridwidth": 2,
            "linecolor": "white",
            "showbackground": true,
            "ticks": "",
            "zerolinecolor": "white"
           }
          },
          "shapedefaults": {
           "line": {
            "color": "#2a3f5f"
           }
          },
          "ternary": {
           "aaxis": {
            "gridcolor": "white",
            "linecolor": "white",
            "ticks": ""
           },
           "baxis": {
            "gridcolor": "white",
            "linecolor": "white",
            "ticks": ""
           },
           "bgcolor": "#E5ECF6",
           "caxis": {
            "gridcolor": "white",
            "linecolor": "white",
            "ticks": ""
           }
          },
          "title": {
           "x": 0.05
          },
          "xaxis": {
           "automargin": true,
           "gridcolor": "white",
           "linecolor": "white",
           "ticks": "",
           "title": {
            "standoff": 15
           },
           "zerolinecolor": "white",
           "zerolinewidth": 2
          },
          "yaxis": {
           "automargin": true,
           "gridcolor": "white",
           "linecolor": "white",
           "ticks": "",
           "title": {
            "standoff": 15
           },
           "zerolinecolor": "white",
           "zerolinewidth": 2
          }
         }
        },
        "width": 700,
        "xaxis": {
         "anchor": "y",
         "domain": [
          0,
          0.98
         ],
         "title": {
          "text": "pds"
         }
        },
        "xaxis2": {
         "anchor": "y2",
         "domain": [
          0,
          0.98
         ],
         "matches": "x",
         "showticklabels": false
        },
        "yaxis": {
         "anchor": "x",
         "domain": [
          0,
          0.485
         ],
         "title": {
          "text": "value"
         }
        },
        "yaxis2": {
         "anchor": "x2",
         "domain": [
          0.515,
          1
         ],
         "matches": "y",
         "title": {
          "text": "value"
         }
        }
       }
      }
     },
     "metadata": {},
     "output_type": "display_data"
    }
   ],
   "source": [
    "import plotly.express as px\n",
    "def uncumulate_values(df:pd.DataFrame):\n",
    "    diff = df[[\"value\"]].diff()\n",
    "    df.loc[df.pds > 2025,\"value\"] = diff.loc[df.pds>2025,\"value\"].values\n",
    "    df.loc[df[\"value\"]<0,\"value\"] = 0\n",
    "    return df\n",
    "\n",
    "pds_cost_factor = {\n",
    "    2025:5,\n",
    "    2030:5,\n",
    "    2035:5,\n",
    "    2040:5,\n",
    "    2045:5,\n",
    "    2050:1,\n",
    "}\n",
    "\n",
    "def copper_total_cost_df(result_dir, uncumulate=False, discounted=False):\n",
    "    cap_cost = pd.read_csv(f\"{result_dir}/capcost.csv\")\n",
    "    cap_cost[\"cost\"] = \"Invest\"\n",
    "    fom_cost = pd.read_csv(f\"{result_dir}/fixOMcost.csv\")\n",
    "    fom_cost[\"cost\"] = \"FOM\"\n",
    "    vom_cost = pd.read_csv(f\"{result_dir}/varOMcost.csv\")\n",
    "    vom_cost[\"cost\"] = \"VOM\"\n",
    "    fuel_cost = pd.read_csv(f\"{result_dir}/fuel_cost.csv\")\n",
    "    fuel_cost[\"cost\"] = \"Fuels\"\n",
    "    storage_cost = pd.read_csv(f\"{result_dir}/newstorage_ccost.csv\")\n",
    "    storage_cost[\"cost\"] = \"Storage Invest\"\n",
    "    storage_om_cost = pd.read_csv(f\"{result_dir}/newstorage_omcost.csv\")\n",
    "    storage_om_cost[\"cost\"] = \"Storage OM\"\n",
    "    hydro_cost = pd.read_csv(f\"{result_dir}/hydrorenewalccost.csv\")\n",
    "    hydro_cost[\"cost\"] = \"Hydro\"\n",
    "    hydro_om_cost = pd.read_csv(f\"{result_dir}/hydrorenewalomcost.csv\")\n",
    "    hydro_om_cost[\"cost\"] = \"Hydro\"\n",
    "    if uncumulate:\n",
    "        cap_cost = uncumulate_values(cap_cost)\n",
    "        fom_cost = uncumulate_values(fom_cost)\n",
    "        storage_cost = uncumulate_values(storage_cost)\n",
    "        storage_om_cost = uncumulate_values(storage_om_cost)\n",
    "        hydro_cost = uncumulate_values(hydro_cost)\n",
    "        hydro_om_cost = uncumulate_values(hydro_om_cost)\n",
    "\n",
    "    total_cost = pd.concat([cap_cost, vom_cost, fom_cost,fuel_cost,storage_cost,storage_om_cost,hydro_cost,hydro_om_cost])\n",
    "    if discounted:\n",
    "        total_cost[\"value\"] *= total_cost[\"pds\"].astype(str).apply(disc_coeffs.get)\n",
    "    else:\n",
    "        total_cost[\"value\"] *= total_cost[\"pds\"].apply(pds_cost_factor.get)\n",
    "    return total_cost   \n",
    "\n",
    "total_cost = copper_total_cost_df(results_dir, uncumulate=False)\n",
    "total_cost[\"cost_type\"] = \"undiscounted\"\n",
    "total_adapted_cost = copper_total_cost_df(results_dir, uncumulate=False, discounted=True)\n",
    "total_adapted_cost[\"cost_type\"] = \"discounted\"\n",
    "\n",
    "\n",
    "total_cost = pd.concat([total_cost, total_adapted_cost])\n",
    "\n",
    "# total_cost\n",
    "fig = px.bar(total_cost, x=\"pds\", y=\"value\",color=\"cost\", facet_row=\"cost_type\", template=\"plotly\")\n",
    "fig.update_layout(width=700, legend_traceorder=\"reversed\")\n",
    "fig.write_html(f\"{results_dir}/investments_{date_str}.html\")\n",
    "fig.write_image(f\"{results_dir}/investments_{date_str}.png\")\n",
    "fig"
   ]
  },
  {
   "cell_type": "code",
   "execution_count": 69,
   "metadata": {},
   "outputs": [
    {
     "data": {
      "application/vnd.plotly.v1+json": {
       "config": {
        "plotlyServerURL": "https://plot.ly"
       },
       "data": [
        {
         "alignmentgroup": "True",
         "hovertemplate": "cost=FOM<br>scenario=%{x}<br>value=%{y}<extra></extra>",
         "legendgroup": "FOM",
         "marker": {
          "color": "#ab63fa",
          "pattern": {
           "shape": ""
          }
         },
         "name": "FOM",
         "offsetgroup": "FOM",
         "orientation": "v",
         "showlegend": true,
         "textposition": "auto",
         "type": "bar",
         "x": [
          "BAU",
          "CER",
          "CER+",
          "Rapid",
          "Rapid+"
         ],
         "xaxis": "x",
         "y": [
          86549463096.82098,
          119849883324.93471,
          122955208197.91005,
          123371849128.01271,
          124362018954.73376
         ],
         "yaxis": "y"
        },
        {
         "alignmentgroup": "True",
         "hovertemplate": "cost=Fuels<br>scenario=%{x}<br>value=%{y}<extra></extra>",
         "legendgroup": "Fuels",
         "marker": {
          "color": "#FFA15A",
          "pattern": {
           "shape": ""
          }
         },
         "name": "Fuels",
         "offsetgroup": "Fuels",
         "orientation": "v",
         "showlegend": true,
         "textposition": "auto",
         "type": "bar",
         "x": [
          "BAU",
          "CER",
          "CER+",
          "Rapid",
          "Rapid+"
         ],
         "xaxis": "x",
         "y": [
          76655772174.06519,
          59330589371.32783,
          63633370818.70174,
          18090104253.473015,
          17884815899.810104
         ],
         "yaxis": "y"
        },
        {
         "alignmentgroup": "True",
         "hovertemplate": "cost=Hydro<br>scenario=%{x}<br>value=%{y}<extra></extra>",
         "legendgroup": "Hydro",
         "marker": {
          "color": "#a6cee3",
          "pattern": {
           "shape": ""
          }
         },
         "name": "Hydro",
         "offsetgroup": "Hydro",
         "orientation": "v",
         "showlegend": true,
         "textposition": "auto",
         "type": "bar",
         "x": [
          "BAU",
          "CER",
          "CER+",
          "Rapid",
          "Rapid+"
         ],
         "xaxis": "x",
         "y": [
          0,
          0,
          0,
          0,
          0
         ],
         "yaxis": "y"
        },
        {
         "alignmentgroup": "True",
         "hovertemplate": "cost=Invest<br>scenario=%{x}<br>value=%{y}<extra></extra>",
         "legendgroup": "Invest",
         "marker": {
          "color": "#19d3f3",
          "pattern": {
           "shape": ""
          }
         },
         "name": "Invest",
         "offsetgroup": "Invest",
         "orientation": "v",
         "showlegend": true,
         "textposition": "auto",
         "type": "bar",
         "x": [
          "BAU",
          "CER",
          "CER+",
          "Rapid",
          "Rapid+"
         ],
         "xaxis": "x",
         "y": [
          89462503123.6902,
          104268441898.42712,
          110967247526.86461,
          135706541155.43091,
          138566728797.48788
         ],
         "yaxis": "y"
        },
        {
         "alignmentgroup": "True",
         "hovertemplate": "cost=Storage Invest<br>scenario=%{x}<br>value=%{y}<extra></extra>",
         "legendgroup": "Storage Invest",
         "marker": {
          "color": "#FF6692",
          "pattern": {
           "shape": ""
          }
         },
         "name": "Storage Invest",
         "offsetgroup": "Storage Invest",
         "orientation": "v",
         "showlegend": true,
         "textposition": "auto",
         "type": "bar",
         "x": [
          "BAU",
          "CER",
          "CER+",
          "Rapid",
          "Rapid+"
         ],
         "xaxis": "x",
         "y": [
          1656991009.8421354,
          2277550759.3812838,
          2370272934.1927934,
          7123801287.652842,
          7582358255.480623
         ],
         "yaxis": "y"
        },
        {
         "alignmentgroup": "True",
         "hovertemplate": "cost=Storage OM<br>scenario=%{x}<br>value=%{y}<extra></extra>",
         "legendgroup": "Storage OM",
         "marker": {
          "color": "#B6E880",
          "pattern": {
           "shape": ""
          }
         },
         "name": "Storage OM",
         "offsetgroup": "Storage OM",
         "orientation": "v",
         "showlegend": true,
         "textposition": "auto",
         "type": "bar",
         "x": [
          "BAU",
          "CER",
          "CER+",
          "Rapid",
          "Rapid+"
         ],
         "xaxis": "x",
         "y": [
          705121368.4176773,
          938499996.4317566,
          962947666.6231188,
          3159459678.041609,
          3353752097.4558163
         ],
         "yaxis": "y"
        },
        {
         "alignmentgroup": "True",
         "hovertemplate": "cost=VOM<br>scenario=%{x}<br>value=%{y}<extra></extra>",
         "legendgroup": "VOM",
         "marker": {
          "color": "#FF97FF",
          "pattern": {
           "shape": ""
          }
         },
         "name": "VOM",
         "offsetgroup": "VOM",
         "orientation": "v",
         "showlegend": true,
         "textposition": "auto",
         "type": "bar",
         "x": [
          "BAU",
          "CER",
          "CER+",
          "Rapid",
          "Rapid+"
         ],
         "xaxis": "x",
         "y": [
          7514235126.058019,
          7101496243.234866,
          7234470144.087583,
          6669228985.130352,
          6705066641.03917
         ],
         "yaxis": "y"
        }
       ],
       "layout": {
        "barmode": "relative",
        "font": {
         "family": "cm",
         "size": 18
        },
        "legend": {
         "font": {
          "size": 16
         },
         "title": {
          "font": {
           "size": 18
          },
          "text": "Cost component"
         },
         "tracegroupgap": 0,
         "traceorder": "reversed"
        },
        "margin": {
         "t": 60
        },
        "plot_bgcolor": "white",
        "template": {
         "data": {
          "bar": [
           {
            "error_x": {
             "color": "#2a3f5f"
            },
            "error_y": {
             "color": "#2a3f5f"
            },
            "marker": {
             "line": {
              "color": "#E5ECF6",
              "width": 0.5
             },
             "pattern": {
              "fillmode": "overlay",
              "size": 10,
              "solidity": 0.2
             }
            },
            "type": "bar"
           }
          ],
          "barpolar": [
           {
            "marker": {
             "line": {
              "color": "#E5ECF6",
              "width": 0.5
             },
             "pattern": {
              "fillmode": "overlay",
              "size": 10,
              "solidity": 0.2
             }
            },
            "type": "barpolar"
           }
          ],
          "carpet": [
           {
            "aaxis": {
             "endlinecolor": "#2a3f5f",
             "gridcolor": "white",
             "linecolor": "white",
             "minorgridcolor": "white",
             "startlinecolor": "#2a3f5f"
            },
            "baxis": {
             "endlinecolor": "#2a3f5f",
             "gridcolor": "white",
             "linecolor": "white",
             "minorgridcolor": "white",
             "startlinecolor": "#2a3f5f"
            },
            "type": "carpet"
           }
          ],
          "choropleth": [
           {
            "colorbar": {
             "outlinewidth": 0,
             "ticks": ""
            },
            "type": "choropleth"
           }
          ],
          "contour": [
           {
            "colorbar": {
             "outlinewidth": 0,
             "ticks": ""
            },
            "colorscale": [
             [
              0,
              "#0d0887"
             ],
             [
              0.1111111111111111,
              "#46039f"
             ],
             [
              0.2222222222222222,
              "#7201a8"
             ],
             [
              0.3333333333333333,
              "#9c179e"
             ],
             [
              0.4444444444444444,
              "#bd3786"
             ],
             [
              0.5555555555555556,
              "#d8576b"
             ],
             [
              0.6666666666666666,
              "#ed7953"
             ],
             [
              0.7777777777777778,
              "#fb9f3a"
             ],
             [
              0.8888888888888888,
              "#fdca26"
             ],
             [
              1,
              "#f0f921"
             ]
            ],
            "type": "contour"
           }
          ],
          "contourcarpet": [
           {
            "colorbar": {
             "outlinewidth": 0,
             "ticks": ""
            },
            "type": "contourcarpet"
           }
          ],
          "heatmap": [
           {
            "colorbar": {
             "outlinewidth": 0,
             "ticks": ""
            },
            "colorscale": [
             [
              0,
              "#0d0887"
             ],
             [
              0.1111111111111111,
              "#46039f"
             ],
             [
              0.2222222222222222,
              "#7201a8"
             ],
             [
              0.3333333333333333,
              "#9c179e"
             ],
             [
              0.4444444444444444,
              "#bd3786"
             ],
             [
              0.5555555555555556,
              "#d8576b"
             ],
             [
              0.6666666666666666,
              "#ed7953"
             ],
             [
              0.7777777777777778,
              "#fb9f3a"
             ],
             [
              0.8888888888888888,
              "#fdca26"
             ],
             [
              1,
              "#f0f921"
             ]
            ],
            "type": "heatmap"
           }
          ],
          "heatmapgl": [
           {
            "colorbar": {
             "outlinewidth": 0,
             "ticks": ""
            },
            "colorscale": [
             [
              0,
              "#0d0887"
             ],
             [
              0.1111111111111111,
              "#46039f"
             ],
             [
              0.2222222222222222,
              "#7201a8"
             ],
             [
              0.3333333333333333,
              "#9c179e"
             ],
             [
              0.4444444444444444,
              "#bd3786"
             ],
             [
              0.5555555555555556,
              "#d8576b"
             ],
             [
              0.6666666666666666,
              "#ed7953"
             ],
             [
              0.7777777777777778,
              "#fb9f3a"
             ],
             [
              0.8888888888888888,
              "#fdca26"
             ],
             [
              1,
              "#f0f921"
             ]
            ],
            "type": "heatmapgl"
           }
          ],
          "histogram": [
           {
            "marker": {
             "pattern": {
              "fillmode": "overlay",
              "size": 10,
              "solidity": 0.2
             }
            },
            "type": "histogram"
           }
          ],
          "histogram2d": [
           {
            "colorbar": {
             "outlinewidth": 0,
             "ticks": ""
            },
            "colorscale": [
             [
              0,
              "#0d0887"
             ],
             [
              0.1111111111111111,
              "#46039f"
             ],
             [
              0.2222222222222222,
              "#7201a8"
             ],
             [
              0.3333333333333333,
              "#9c179e"
             ],
             [
              0.4444444444444444,
              "#bd3786"
             ],
             [
              0.5555555555555556,
              "#d8576b"
             ],
             [
              0.6666666666666666,
              "#ed7953"
             ],
             [
              0.7777777777777778,
              "#fb9f3a"
             ],
             [
              0.8888888888888888,
              "#fdca26"
             ],
             [
              1,
              "#f0f921"
             ]
            ],
            "type": "histogram2d"
           }
          ],
          "histogram2dcontour": [
           {
            "colorbar": {
             "outlinewidth": 0,
             "ticks": ""
            },
            "colorscale": [
             [
              0,
              "#0d0887"
             ],
             [
              0.1111111111111111,
              "#46039f"
             ],
             [
              0.2222222222222222,
              "#7201a8"
             ],
             [
              0.3333333333333333,
              "#9c179e"
             ],
             [
              0.4444444444444444,
              "#bd3786"
             ],
             [
              0.5555555555555556,
              "#d8576b"
             ],
             [
              0.6666666666666666,
              "#ed7953"
             ],
             [
              0.7777777777777778,
              "#fb9f3a"
             ],
             [
              0.8888888888888888,
              "#fdca26"
             ],
             [
              1,
              "#f0f921"
             ]
            ],
            "type": "histogram2dcontour"
           }
          ],
          "mesh3d": [
           {
            "colorbar": {
             "outlinewidth": 0,
             "ticks": ""
            },
            "type": "mesh3d"
           }
          ],
          "parcoords": [
           {
            "line": {
             "colorbar": {
              "outlinewidth": 0,
              "ticks": ""
             }
            },
            "type": "parcoords"
           }
          ],
          "pie": [
           {
            "automargin": true,
            "type": "pie"
           }
          ],
          "scatter": [
           {
            "fillpattern": {
             "fillmode": "overlay",
             "size": 10,
             "solidity": 0.2
            },
            "type": "scatter"
           }
          ],
          "scatter3d": [
           {
            "line": {
             "colorbar": {
              "outlinewidth": 0,
              "ticks": ""
             }
            },
            "marker": {
             "colorbar": {
              "outlinewidth": 0,
              "ticks": ""
             }
            },
            "type": "scatter3d"
           }
          ],
          "scattercarpet": [
           {
            "marker": {
             "colorbar": {
              "outlinewidth": 0,
              "ticks": ""
             }
            },
            "type": "scattercarpet"
           }
          ],
          "scattergeo": [
           {
            "marker": {
             "colorbar": {
              "outlinewidth": 0,
              "ticks": ""
             }
            },
            "type": "scattergeo"
           }
          ],
          "scattergl": [
           {
            "marker": {
             "colorbar": {
              "outlinewidth": 0,
              "ticks": ""
             }
            },
            "type": "scattergl"
           }
          ],
          "scattermapbox": [
           {
            "marker": {
             "colorbar": {
              "outlinewidth": 0,
              "ticks": ""
             }
            },
            "type": "scattermapbox"
           }
          ],
          "scatterpolar": [
           {
            "marker": {
             "colorbar": {
              "outlinewidth": 0,
              "ticks": ""
             }
            },
            "type": "scatterpolar"
           }
          ],
          "scatterpolargl": [
           {
            "marker": {
             "colorbar": {
              "outlinewidth": 0,
              "ticks": ""
             }
            },
            "type": "scatterpolargl"
           }
          ],
          "scatterternary": [
           {
            "marker": {
             "colorbar": {
              "outlinewidth": 0,
              "ticks": ""
             }
            },
            "type": "scatterternary"
           }
          ],
          "surface": [
           {
            "colorbar": {
             "outlinewidth": 0,
             "ticks": ""
            },
            "colorscale": [
             [
              0,
              "#0d0887"
             ],
             [
              0.1111111111111111,
              "#46039f"
             ],
             [
              0.2222222222222222,
              "#7201a8"
             ],
             [
              0.3333333333333333,
              "#9c179e"
             ],
             [
              0.4444444444444444,
              "#bd3786"
             ],
             [
              0.5555555555555556,
              "#d8576b"
             ],
             [
              0.6666666666666666,
              "#ed7953"
             ],
             [
              0.7777777777777778,
              "#fb9f3a"
             ],
             [
              0.8888888888888888,
              "#fdca26"
             ],
             [
              1,
              "#f0f921"
             ]
            ],
            "type": "surface"
           }
          ],
          "table": [
           {
            "cells": {
             "fill": {
              "color": "#EBF0F8"
             },
             "line": {
              "color": "white"
             }
            },
            "header": {
             "fill": {
              "color": "#C8D4E3"
             },
             "line": {
              "color": "white"
             }
            },
            "type": "table"
           }
          ]
         },
         "layout": {
          "annotationdefaults": {
           "arrowcolor": "#2a3f5f",
           "arrowhead": 0,
           "arrowwidth": 1
          },
          "autotypenumbers": "strict",
          "coloraxis": {
           "colorbar": {
            "outlinewidth": 0,
            "ticks": ""
           }
          },
          "colorscale": {
           "diverging": [
            [
             0,
             "#8e0152"
            ],
            [
             0.1,
             "#c51b7d"
            ],
            [
             0.2,
             "#de77ae"
            ],
            [
             0.3,
             "#f1b6da"
            ],
            [
             0.4,
             "#fde0ef"
            ],
            [
             0.5,
             "#f7f7f7"
            ],
            [
             0.6,
             "#e6f5d0"
            ],
            [
             0.7,
             "#b8e186"
            ],
            [
             0.8,
             "#7fbc41"
            ],
            [
             0.9,
             "#4d9221"
            ],
            [
             1,
             "#276419"
            ]
           ],
           "sequential": [
            [
             0,
             "#0d0887"
            ],
            [
             0.1111111111111111,
             "#46039f"
            ],
            [
             0.2222222222222222,
             "#7201a8"
            ],
            [
             0.3333333333333333,
             "#9c179e"
            ],
            [
             0.4444444444444444,
             "#bd3786"
            ],
            [
             0.5555555555555556,
             "#d8576b"
            ],
            [
             0.6666666666666666,
             "#ed7953"
            ],
            [
             0.7777777777777778,
             "#fb9f3a"
            ],
            [
             0.8888888888888888,
             "#fdca26"
            ],
            [
             1,
             "#f0f921"
            ]
           ],
           "sequentialminus": [
            [
             0,
             "#0d0887"
            ],
            [
             0.1111111111111111,
             "#46039f"
            ],
            [
             0.2222222222222222,
             "#7201a8"
            ],
            [
             0.3333333333333333,
             "#9c179e"
            ],
            [
             0.4444444444444444,
             "#bd3786"
            ],
            [
             0.5555555555555556,
             "#d8576b"
            ],
            [
             0.6666666666666666,
             "#ed7953"
            ],
            [
             0.7777777777777778,
             "#fb9f3a"
            ],
            [
             0.8888888888888888,
             "#fdca26"
            ],
            [
             1,
             "#f0f921"
            ]
           ]
          },
          "colorway": [
           "#636efa",
           "#EF553B",
           "#00cc96",
           "#ab63fa",
           "#FFA15A",
           "#19d3f3",
           "#FF6692",
           "#B6E880",
           "#FF97FF",
           "#FECB52"
          ],
          "font": {
           "color": "#2a3f5f"
          },
          "geo": {
           "bgcolor": "white",
           "lakecolor": "white",
           "landcolor": "#E5ECF6",
           "showlakes": true,
           "showland": true,
           "subunitcolor": "white"
          },
          "hoverlabel": {
           "align": "left"
          },
          "hovermode": "closest",
          "mapbox": {
           "style": "light"
          },
          "paper_bgcolor": "white",
          "plot_bgcolor": "#E5ECF6",
          "polar": {
           "angularaxis": {
            "gridcolor": "white",
            "linecolor": "white",
            "ticks": ""
           },
           "bgcolor": "#E5ECF6",
           "radialaxis": {
            "gridcolor": "white",
            "linecolor": "white",
            "ticks": ""
           }
          },
          "scene": {
           "xaxis": {
            "backgroundcolor": "#E5ECF6",
            "gridcolor": "white",
            "gridwidth": 2,
            "linecolor": "white",
            "showbackground": true,
            "ticks": "",
            "zerolinecolor": "white"
           },
           "yaxis": {
            "backgroundcolor": "#E5ECF6",
            "gridcolor": "white",
            "gridwidth": 2,
            "linecolor": "white",
            "showbackground": true,
            "ticks": "",
            "zerolinecolor": "white"
           },
           "zaxis": {
            "backgroundcolor": "#E5ECF6",
            "gridcolor": "white",
            "gridwidth": 2,
            "linecolor": "white",
            "showbackground": true,
            "ticks": "",
            "zerolinecolor": "white"
           }
          },
          "shapedefaults": {
           "line": {
            "color": "#2a3f5f"
           }
          },
          "ternary": {
           "aaxis": {
            "gridcolor": "white",
            "linecolor": "white",
            "ticks": ""
           },
           "baxis": {
            "gridcolor": "white",
            "linecolor": "white",
            "ticks": ""
           },
           "bgcolor": "#E5ECF6",
           "caxis": {
            "gridcolor": "white",
            "linecolor": "white",
            "ticks": ""
           }
          },
          "title": {
           "x": 0.05
          },
          "xaxis": {
           "automargin": true,
           "gridcolor": "white",
           "linecolor": "white",
           "ticks": "",
           "title": {
            "standoff": 15
           },
           "zerolinecolor": "white",
           "zerolinewidth": 2
          },
          "yaxis": {
           "automargin": true,
           "gridcolor": "white",
           "linecolor": "white",
           "ticks": "",
           "title": {
            "standoff": 15
           },
           "zerolinecolor": "white",
           "zerolinewidth": 2
          }
         }
        },
        "width": 400,
        "xaxis": {
         "anchor": "y",
         "domain": [
          0,
          1
         ],
         "gridcolor": "lightgrey",
         "linecolor": "black",
         "mirror": true,
         "showline": true,
         "ticks": "outside",
         "title": {
          "text": "scenario"
         }
        },
        "yaxis": {
         "anchor": "x",
         "domain": [
          0,
          1
         ],
         "gridcolor": "lightgrey",
         "linecolor": "black",
         "mirror": true,
         "showline": true,
         "ticks": "outside",
         "title": {
          "text": "Cumulative cost (CAD)"
         }
        }
       }
      }
     },
     "metadata": {},
     "output_type": "display_data"
    }
   ],
   "source": [
    "cost_dfs = []\n",
    "for scenario in result_df.Scenario.unique():\n",
    "    path = result_df.query(f\"iteration==1 and Scenario=='{scenario}'\")[\n",
    "        \"ESM path\"\n",
    "    ].values[0]\n",
    "    cost_df = copper_total_cost_df(path)\n",
    "    cost_df[\"scenario\"] = scenario\n",
    "    cost_dfs.append(cost_df)\n",
    "\n",
    "scen_cost_df = pd.concat(cost_dfs)\n",
    "scen_cost_agg = (\n",
    "    scen_cost_df.groupby([\"scenario\", \"cost\"])[\"value\"]\n",
    "    .sum()\n",
    "    .reset_index()\n",
    "    .pivot(columns=\"scenario\", index=\"cost\", values=\"value\")\n",
    ")\n",
    "fig = sciencify_plotly_fig(px.bar(scen_cost_agg.T, template=\"plotly\", color_discrete_map=IDEA_COLORS))\n",
    "\n",
    "fig.update_layout(\n",
    "    yaxis_title=\"Cumulative cost (CAD)\", width=400, font_family=\"cm\", font_size=18,\n",
    "    legend=dict(title_text=\"Cost component\", font_size=16, title_font_size=18,),# borderwidth=2, bordercolor=\"black\"),\n",
    "    legend_traceorder=\"reversed\"\n",
    ")\n",
    "fig.write_image(f\"copper_system_cost_{date_str}.svg\")\n",
    "fig.write_image(f\"copper_system_cost_{date_str}.pdf\")\n",
    "fig"
   ]
  },
  {
   "cell_type": "code",
   "execution_count": 90,
   "id": "01J2DJ8GG5T9E3Q90A5CRCEGAT",
   "metadata": {},
   "outputs": [
    {
     "data": {
      "text/html": [
       "<div>\n",
       "<style scoped>\n",
       "    .dataframe tbody tr th:only-of-type {\n",
       "        vertical-align: middle;\n",
       "    }\n",
       "\n",
       "    .dataframe tbody tr th {\n",
       "        vertical-align: top;\n",
       "    }\n",
       "\n",
       "    .dataframe thead th {\n",
       "        text-align: right;\n",
       "    }\n",
       "</style>\n",
       "<table border=\"1\" class=\"dataframe\">\n",
       "  <thead>\n",
       "    <tr style=\"text-align: right;\">\n",
       "      <th></th>\n",
       "      <th>variable</th>\n",
       "      <th>value</th>\n",
       "      <th>model</th>\n",
       "    </tr>\n",
       "    <tr>\n",
       "      <th>scenario</th>\n",
       "      <th></th>\n",
       "      <th></th>\n",
       "      <th></th>\n",
       "    </tr>\n",
       "  </thead>\n",
       "  <tbody>\n",
       "    <tr>\n",
       "      <th>BAU</th>\n",
       "      <td>FOM</td>\n",
       "      <td>8.654946e+10</td>\n",
       "      <td>COPPER</td>\n",
       "    </tr>\n",
       "    <tr>\n",
       "      <th>CER</th>\n",
       "      <td>FOM</td>\n",
       "      <td>1.198499e+11</td>\n",
       "      <td>COPPER</td>\n",
       "    </tr>\n",
       "    <tr>\n",
       "      <th>CER+</th>\n",
       "      <td>FOM</td>\n",
       "      <td>1.229552e+11</td>\n",
       "      <td>COPPER</td>\n",
       "    </tr>\n",
       "    <tr>\n",
       "      <th>Rapid</th>\n",
       "      <td>FOM</td>\n",
       "      <td>1.233718e+11</td>\n",
       "      <td>COPPER</td>\n",
       "    </tr>\n",
       "    <tr>\n",
       "      <th>Rapid+</th>\n",
       "      <td>FOM</td>\n",
       "      <td>1.243620e+11</td>\n",
       "      <td>COPPER</td>\n",
       "    </tr>\n",
       "  </tbody>\n",
       "</table>\n",
       "</div>"
      ],
      "text/plain": [
       "         variable         value   model\n",
       "scenario                               \n",
       "BAU           FOM  8.654946e+10  COPPER\n",
       "CER           FOM  1.198499e+11  COPPER\n",
       "CER+          FOM  1.229552e+11  COPPER\n",
       "Rapid         FOM  1.233718e+11  COPPER\n",
       "Rapid+        FOM  1.243620e+11  COPPER"
      ]
     },
     "execution_count": 90,
     "metadata": {},
     "output_type": "execute_result"
    }
   ],
   "source": [
    "copper_cost_results_l = scen_cost_agg.T.melt(ignore_index=False).rename({\"cost\":\"variable\"}, axis=1)\n",
    "copper_cost_results_l[\"model\"] = \"COPPER\"\n",
    "copper_cost_results_l.head()"
   ]
  },
  {
   "cell_type": "code",
   "execution_count": 110,
   "id": "01J2DJN4ANW0JP08YJ6VJ91F1Q",
   "metadata": {},
   "outputs": [],
   "source": [
    "ALL_COLORS = IDEA_COLORS.copy()\n",
    "ALL_COLORS.update(ABM_colors)\n",
    "ALL_COLORS[\"FOM\"] ='#ab63fa'\n",
    "ALL_COLORS[\"Invest\"] = \"#19d3f3\"\n",
    "ALL_COLORS[\"Storage Invest\"] = '#FF6692'\n",
    "ALL_COLORS[\"Storage OM\"] = \"#B6E880\"\n",
    "ALL_COLORS[\"VOM\"] = \"#FF97FF\"\n",
    "ALL_COLORS[\"Hydro\"] = '#a6cee3'\n",
    "ALL_COLORS[\"Fuels\"] = '#FFA15A'"
   ]
  },
  {
   "cell_type": "code",
   "execution_count": 152,
   "id": "01J2E3PGJFK4MKFYZ800YJE95R",
   "metadata": {},
   "outputs": [],
   "source": [
    "# import importlib\n",
    "# import abetam.figures\n",
    "# figs = importlib.reload(abetam.figures)\n",
    "\n",
    "# from abetam.figures import sciencify_plotly_fig"
   ]
  },
  {
   "cell_type": "code",
   "execution_count": 162,
   "id": "01J2DJ7WZF0A3B0F9C4APMKD7F",
   "metadata": {},
   "outputs": [
    {
     "data": {
      "application/vnd.plotly.v1+json": {
       "config": {
        "plotlyServerURL": "https://plot.ly"
       },
       "data": [
        {
         "legendgroup": "0",
         "legendgrouptitle": {
          "text": "ABM"
         },
         "marker": {
          "color": "#7575ab"
         },
         "name": "Appliances",
         "type": "bar",
         "x": [
          "BAU",
          "CER",
          "CER+",
          "Rapid",
          "Rapid+"
         ],
         "xaxis": "x",
         "y": [
          265561093485.24863,
          252327431680.94495,
          248747411346.42715,
          219723730789.3341,
          211895911913.60556
         ],
         "yaxis": "y"
        },
        {
         "legendgroup": "0",
         "legendgrouptitle": {
          "text": "ABM"
         },
         "marker": {
          "color": "#f2a300"
         },
         "name": "Electricity",
         "type": "bar",
         "x": [
          "BAU",
          "CER",
          "CER+",
          "Rapid",
          "Rapid+"
         ],
         "xaxis": "x",
         "y": [
          56474102784.66623,
          57628421653.035805,
          65563215832.70397,
          22644111237.67303,
          24996170997.33308
         ],
         "yaxis": "y"
        },
        {
         "legendgroup": "0",
         "legendgrouptitle": {
          "text": "ABM"
         },
         "marker": {
          "color": "#ff6b6b"
         },
         "name": "Retrofits",
         "type": "bar",
         "x": [
          "BAU",
          "CER",
          "CER+",
          "Rapid",
          "Rapid+"
         ],
         "xaxis": "x",
         "y": [
          28498913280.87633,
          45564689774.251274,
          45564689774.251274,
          56739404760.84312,
          56739404760.84312
         ],
         "yaxis": "y"
        },
        {
         "legendgroup": "0",
         "legendgrouptitle": {
          "text": "ABM"
         },
         "marker": {
          "color": "#4361ae"
         },
         "name": "Subsidies",
         "type": "bar",
         "x": [
          "CER",
          "CER+",
          "Rapid",
          "Rapid+"
         ],
         "xaxis": "x",
         "y": [
          758106203.3420858,
          763325389.0070238,
          8480050977.663316,
          9601526264.54727
         ],
         "yaxis": "y"
        },
        {
         "legendgroup": "1",
         "legendgrouptitle": {
          "text": "COPPER"
         },
         "marker": {
          "color": "#ab63fa"
         },
         "name": "FOM",
         "type": "bar",
         "x": [
          "BAU",
          "CER",
          "CER+",
          "Rapid",
          "Rapid+"
         ],
         "xaxis": "x2",
         "y": [
          86549463096.82098,
          119849883324.93471,
          122955208197.91005,
          123371849128.01271,
          124362018954.73376
         ],
         "yaxis": "y2"
        },
        {
         "legendgroup": "1",
         "legendgrouptitle": {
          "text": "COPPER"
         },
         "marker": {
          "color": "#FFA15A"
         },
         "name": "Fuels",
         "type": "bar",
         "x": [
          "BAU",
          "CER",
          "CER+",
          "Rapid",
          "Rapid+"
         ],
         "xaxis": "x2",
         "y": [
          76655772174.06519,
          59330589371.32783,
          63633370818.70174,
          18090104253.473015,
          17884815899.810104
         ],
         "yaxis": "y2"
        },
        {
         "legendgroup": "1",
         "legendgrouptitle": {
          "text": "COPPER"
         },
         "marker": {
          "color": "#19d3f3"
         },
         "name": "Invest",
         "type": "bar",
         "x": [
          "BAU",
          "CER",
          "CER+",
          "Rapid",
          "Rapid+"
         ],
         "xaxis": "x2",
         "y": [
          89462503123.6902,
          104268441898.42712,
          110967247526.86461,
          135706541155.43091,
          138566728797.48788
         ],
         "yaxis": "y2"
        },
        {
         "legendgroup": "1",
         "legendgrouptitle": {
          "text": "COPPER"
         },
         "marker": {
          "color": "#FF6692"
         },
         "name": "Storage Invest",
         "type": "bar",
         "x": [
          "BAU",
          "CER",
          "CER+",
          "Rapid",
          "Rapid+"
         ],
         "xaxis": "x2",
         "y": [
          1656991009.8421354,
          2277550759.3812838,
          2370272934.1927934,
          7123801287.652842,
          7582358255.480623
         ],
         "yaxis": "y2"
        },
        {
         "legendgroup": "1",
         "legendgrouptitle": {
          "text": "COPPER"
         },
         "marker": {
          "color": "#B6E880"
         },
         "name": "Storage OM",
         "type": "bar",
         "x": [
          "BAU",
          "CER",
          "CER+",
          "Rapid",
          "Rapid+"
         ],
         "xaxis": "x2",
         "y": [
          705121368.4176773,
          938499996.4317566,
          962947666.6231188,
          3159459678.041609,
          3353752097.4558163
         ],
         "yaxis": "y2"
        },
        {
         "legendgroup": "1",
         "legendgrouptitle": {
          "text": "COPPER"
         },
         "marker": {
          "color": "#FF97FF"
         },
         "name": "VOM",
         "type": "bar",
         "x": [
          "BAU",
          "CER",
          "CER+",
          "Rapid",
          "Rapid+"
         ],
         "xaxis": "x2",
         "y": [
          7514235126.058019,
          7101496243.234866,
          7234470144.087583,
          6669228985.130352,
          6705066641.03917
         ],
         "yaxis": "y2"
        }
       ],
       "layout": {
        "barmode": "stack",
        "font": {
         "family": "cm",
         "size": 18
        },
        "height": 700,
        "legend": {
         "tracegroupgap": 140
        },
        "plot_bgcolor": "white",
        "template": {
         "data": {
          "candlestick": [
           {
            "decreasing": {
             "line": {
              "color": "#000033"
             }
            },
            "increasing": {
             "line": {
              "color": "#000032"
             }
            },
            "type": "candlestick"
           }
          ],
          "contour": [
           {
            "colorscale": [
             [
              0,
              "#000011"
             ],
             [
              0.1111111111111111,
              "#000012"
             ],
             [
              0.2222222222222222,
              "#000013"
             ],
             [
              0.3333333333333333,
              "#000014"
             ],
             [
              0.4444444444444444,
              "#000015"
             ],
             [
              0.5555555555555556,
              "#000016"
             ],
             [
              0.6666666666666666,
              "#000017"
             ],
             [
              0.7777777777777778,
              "#000018"
             ],
             [
              0.8888888888888888,
              "#000019"
             ],
             [
              1,
              "#000020"
             ]
            ],
            "type": "contour"
           }
          ],
          "contourcarpet": [
           {
            "colorscale": [
             [
              0,
              "#000011"
             ],
             [
              0.1111111111111111,
              "#000012"
             ],
             [
              0.2222222222222222,
              "#000013"
             ],
             [
              0.3333333333333333,
              "#000014"
             ],
             [
              0.4444444444444444,
              "#000015"
             ],
             [
              0.5555555555555556,
              "#000016"
             ],
             [
              0.6666666666666666,
              "#000017"
             ],
             [
              0.7777777777777778,
              "#000018"
             ],
             [
              0.8888888888888888,
              "#000019"
             ],
             [
              1,
              "#000020"
             ]
            ],
            "type": "contourcarpet"
           }
          ],
          "heatmap": [
           {
            "colorscale": [
             [
              0,
              "#000011"
             ],
             [
              0.1111111111111111,
              "#000012"
             ],
             [
              0.2222222222222222,
              "#000013"
             ],
             [
              0.3333333333333333,
              "#000014"
             ],
             [
              0.4444444444444444,
              "#000015"
             ],
             [
              0.5555555555555556,
              "#000016"
             ],
             [
              0.6666666666666666,
              "#000017"
             ],
             [
              0.7777777777777778,
              "#000018"
             ],
             [
              0.8888888888888888,
              "#000019"
             ],
             [
              1,
              "#000020"
             ]
            ],
            "type": "heatmap"
           }
          ],
          "histogram2d": [
           {
            "colorscale": [
             [
              0,
              "#000011"
             ],
             [
              0.1111111111111111,
              "#000012"
             ],
             [
              0.2222222222222222,
              "#000013"
             ],
             [
              0.3333333333333333,
              "#000014"
             ],
             [
              0.4444444444444444,
              "#000015"
             ],
             [
              0.5555555555555556,
              "#000016"
             ],
             [
              0.6666666666666666,
              "#000017"
             ],
             [
              0.7777777777777778,
              "#000018"
             ],
             [
              0.8888888888888888,
              "#000019"
             ],
             [
              1,
              "#000020"
             ]
            ],
            "type": "histogram2d"
           }
          ],
          "icicle": [
           {
            "textfont": {
             "color": "white"
            },
            "type": "icicle"
           }
          ],
          "sankey": [
           {
            "textfont": {
             "color": "#000036"
            },
            "type": "sankey"
           }
          ],
          "scatter": [
           {
            "marker": {
             "line": {
              "width": 0
             }
            },
            "type": "scatter"
           }
          ],
          "table": [
           {
            "cells": {
             "fill": {
              "color": "#000038"
             },
             "font": {
              "color": "#000037"
             },
             "line": {
              "color": "#000039"
             }
            },
            "header": {
             "fill": {
              "color": "#000040"
             },
             "font": {
              "color": "#000036"
             },
             "line": {
              "color": "#000039"
             }
            },
            "type": "table"
           }
          ],
          "waterfall": [
           {
            "connector": {
             "line": {
              "color": "#000036",
              "width": 2
             }
            },
            "decreasing": {
             "marker": {
              "color": "#000033"
             }
            },
            "increasing": {
             "marker": {
              "color": "#000032"
             }
            },
            "totals": {
             "marker": {
              "color": "#000034"
             }
            },
            "type": "waterfall"
           }
          ]
         },
         "layout": {
          "coloraxis": {
           "colorscale": [
            [
             0,
             "#000011"
            ],
            [
             0.1111111111111111,
             "#000012"
            ],
            [
             0.2222222222222222,
             "#000013"
            ],
            [
             0.3333333333333333,
             "#000014"
            ],
            [
             0.4444444444444444,
             "#000015"
            ],
            [
             0.5555555555555556,
             "#000016"
            ],
            [
             0.6666666666666666,
             "#000017"
            ],
            [
             0.7777777777777778,
             "#000018"
            ],
            [
             0.8888888888888888,
             "#000019"
            ],
            [
             1,
             "#000020"
            ]
           ]
          },
          "colorscale": {
           "diverging": [
            [
             0,
             "#000021"
            ],
            [
             0.1,
             "#000022"
            ],
            [
             0.2,
             "#000023"
            ],
            [
             0.3,
             "#000024"
            ],
            [
             0.4,
             "#000025"
            ],
            [
             0.5,
             "#000026"
            ],
            [
             0.6,
             "#000027"
            ],
            [
             0.7,
             "#000028"
            ],
            [
             0.8,
             "#000029"
            ],
            [
             0.9,
             "#000030"
            ],
            [
             1,
             "#000031"
            ]
           ],
           "sequential": [
            [
             0,
             "#000011"
            ],
            [
             0.1111111111111111,
             "#000012"
            ],
            [
             0.2222222222222222,
             "#000013"
            ],
            [
             0.3333333333333333,
             "#000014"
            ],
            [
             0.4444444444444444,
             "#000015"
            ],
            [
             0.5555555555555556,
             "#000016"
            ],
            [
             0.6666666666666666,
             "#000017"
            ],
            [
             0.7777777777777778,
             "#000018"
            ],
            [
             0.8888888888888888,
             "#000019"
            ],
            [
             1,
             "#000020"
            ]
           ],
           "sequentialminus": [
            [
             0,
             "#000011"
            ],
            [
             0.1111111111111111,
             "#000012"
            ],
            [
             0.2222222222222222,
             "#000013"
            ],
            [
             0.3333333333333333,
             "#000014"
            ],
            [
             0.4444444444444444,
             "#000015"
            ],
            [
             0.5555555555555556,
             "#000016"
            ],
            [
             0.6666666666666666,
             "#000017"
            ],
            [
             0.7777777777777778,
             "#000018"
            ],
            [
             0.8888888888888888,
             "#000019"
            ],
            [
             1,
             "#000020"
            ]
           ]
          },
          "colorway": [
           "#000001",
           "#000002",
           "#000003",
           "#000004",
           "#000005",
           "#000006",
           "#000007",
           "#000008",
           "#000009",
           "#000010"
          ]
         }
        },
        "width": 400,
        "xaxis": {
         "anchor": "y",
         "domain": [
          0,
          1
         ],
         "gridcolor": "lightgrey",
         "linecolor": "black",
         "matches": "x2",
         "mirror": true,
         "showline": true,
         "showticklabels": false,
         "ticks": "outside"
        },
        "xaxis2": {
         "anchor": "y2",
         "domain": [
          0,
          1
         ],
         "gridcolor": "lightgrey",
         "linecolor": "black",
         "mirror": true,
         "showline": true,
         "ticks": "outside"
        },
        "yaxis": {
         "anchor": "x",
         "domain": [
          0.525,
          1
         ],
         "gridcolor": "lightgrey",
         "linecolor": "black",
         "matches": "y",
         "mirror": true,
         "showline": true,
         "ticks": "outside",
         "title": {
          "text": "Demand side costs (CAD)"
         }
        },
        "yaxis2": {
         "anchor": "x2",
         "domain": [
          0,
          0.475
         ],
         "gridcolor": "lightgrey",
         "linecolor": "black",
         "matches": "y",
         "mirror": true,
         "showline": true,
         "ticks": "outside",
         "title": {
          "text": "Supply side costs (CAD)"
         }
        }
       }
      }
     },
     "metadata": {},
     "output_type": "display_data"
    }
   ],
   "source": [
    "_abm_results_uncertain = abm_results_uncertain[[\"mean\"]].rename(\n",
    "    {\"mean\": \"value\"}, axis=1\n",
    ")\n",
    "_abm_results_uncertain[\"model\"] = \"ABM\"\n",
    "_abm_results_uncertain.head()\n",
    "coupled_results = pd.concat(\n",
    "    [_abm_results_uncertain.reset_index(), copper_cost_results_l.reset_index()]\n",
    ").query(\"value>1e-2\")\n",
    "\n",
    "final_results_fig = make_subplots(\n",
    "    rows=2, shared_xaxes=True, shared_yaxes=True, vertical_spacing=0.05\n",
    ")\n",
    "\n",
    "for row, (model, df) in enumerate(coupled_results.groupby(\"model\")):\n",
    "    for var, df in df.groupby(\"variable\"):\n",
    "        final_results_fig.add_trace(\n",
    "            go.Bar(\n",
    "                x=df[\"scenario\"],\n",
    "                y=df[\"value\"],\n",
    "                name=var,\n",
    "                marker_color=ALL_COLORS[var],\n",
    "                legendgroup=row,\n",
    "                legendgrouptitle_text=model\n",
    "            ),\n",
    "            row=row + 1,\n",
    "            col=1,\n",
    "        )\n",
    "\n",
    "final_results_fig.update_layout(\n",
    "    width=400,\n",
    "    height=700,\n",
    "    barmode=\"stack\",\n",
    "    legend_tracegroupgap=140,\n",
    "    yaxis1_title=\"Demand side costs (CAD)\",\n",
    "    yaxis2_title=\"Supply side costs (CAD)\",\n",
    "\n",
    ")\n",
    "final_results_fig.update_yaxes(\n",
    "    matches=\"y1\"\n",
    ")\n",
    "final_results_fig = sciencify_plotly_fig(final_results_fig)\n",
    "final_results_fig.write_image(\"coupled_results.pdf\")\n",
    "final_results_fig.write_image(\"coupled_results.svg\")\n",
    "final_results_fig"
   ]
  },
  {
   "cell_type": "code",
   "execution_count": 70,
   "metadata": {},
   "outputs": [
    {
     "data": {
      "text/plain": [
       "scenario\n",
       "BAU        0.000000\n",
       "CER       68.698610\n",
       "CER+      68.315838\n",
       "Rapid     75.007339\n",
       "Rapid+    74.997955\n",
       "Name: emissions (Mt), dtype: float64"
      ]
     },
     "execution_count": 70,
     "metadata": {},
     "output_type": "execute_result"
    }
   ],
   "source": [
    "scen_copper_emissions_agg = scen_supply_df.groupby(\"scenario\")[\"emissions (Mt)\"].sum()\n",
    "scen_copper_emissions_reduction = scen_copper_emissions_agg[\"BAU\"] - scen_copper_emissions_agg\n",
    "scen_copper_emissions_reduction"
   ]
  },
  {
   "cell_type": "code",
   "execution_count": 71,
   "metadata": {},
   "outputs": [
    {
     "data": {
      "text/plain": [
       "scenario\n",
       "BAU               inf\n",
       "CER       4276.163109\n",
       "CER+      4510.279408\n",
       "Rapid     3921.229402\n",
       "Rapid+    3979.505031\n",
       "dtype: float64"
      ]
     },
     "execution_count": 71,
     "metadata": {},
     "output_type": "execute_result"
    }
   ],
   "source": [
    "scen_cost_agg.sum()*1e-6/scen_copper_emissions_reduction"
   ]
  },
  {
   "cell_type": "code",
   "execution_count": 72,
   "id": "01J2C6A3WW1NQQQJNPWW9Q3PGM",
   "metadata": {},
   "outputs": [
    {
     "data": {
      "text/plain": [
       "scenario\n",
       "BAU       2.625441e+11\n",
       "CER       2.937665e+11\n",
       "CER+      3.081235e+11\n",
       "Rapid     2.941210e+11\n",
       "Rapid+    2.984547e+11\n",
       "dtype: float64"
      ]
     },
     "execution_count": 72,
     "metadata": {},
     "output_type": "execute_result"
    }
   ],
   "source": [
    "scen_cost_agg.sum()"
   ]
  },
  {
   "cell_type": "code",
   "execution_count": 73,
   "id": "01J2C6BZ3ZWSW9RFF7BKY7CB46",
   "metadata": {},
   "outputs": [
    {
     "data": {
      "text/plain": [
       "scenario\n",
       "BAU       2.103205e+12\n",
       "CER       2.137672e+12\n",
       "CER+      2.163832e+12\n",
       "Rapid     1.845524e+12\n",
       "Rapid+    1.819398e+12\n",
       "dtype: float64"
      ]
     },
     "execution_count": 73,
     "metadata": {},
     "output_type": "execute_result"
    }
   ],
   "source": [
    "abm_cost_summary.groupby(\"scenario\").sum().sum(axis=1)"
   ]
  },
  {
   "cell_type": "code",
   "execution_count": 74,
   "id": "01J2C6HGXTJ331F8H0J729NQ3D",
   "metadata": {},
   "outputs": [
    {
     "data": {
      "text/plain": [
       "scenario\n",
       "BAU       3.388446e+11\n",
       "CER       3.457705e+11\n",
       "CER+      3.933793e+11\n",
       "Rapid     1.358647e+11\n",
       "Rapid+    1.499770e+11\n",
       "dtype: float64"
      ]
     },
     "execution_count": 74,
     "metadata": {},
     "output_type": "execute_result"
    }
   ],
   "source": [
    "el_costs.sum()"
   ]
  },
  {
   "cell_type": "code",
   "execution_count": 75,
   "id": "01HXH5NMGHPMJB60KC5076064D",
   "metadata": {},
   "outputs": [
    {
     "data": {
      "text/plain": [
       "scenario\n",
       "BAU              NaN\n",
       "CER       608.743775\n",
       "CER+      402.148546\n",
       "Rapid    -136.951272\n",
       "Rapid+   -291.078565\n",
       "dtype: float64"
      ]
     },
     "execution_count": 75,
     "metadata": {},
     "output_type": "execute_result"
    }
   ],
   "source": [
    "coupled_cost = scen_cost_agg.sum() + abm_cost_summary.groupby(\"scenario\").sum().sum(axis=1) - el_costs.sum()\n",
    "coupled_cost_delta = coupled_cost - coupled_cost[\"BAU\"]\n",
    "coupled_emissions_reduction = scen_copper_emissions_reduction + avoided_emissions\n",
    "coupled_cost_delta*1e-6/coupled_emissions_reduction"
   ]
  },
  {
   "cell_type": "code",
   "execution_count": 76,
   "id": "01HXH5TD3T25HH7T926WN154W2",
   "metadata": {},
   "outputs": [],
   "source": [
    "coupled_overview = pd.concat([\n",
    "            scen_cost_agg.sum()*1e-9,\n",
    "            scen_copper_emissions_reduction,\n",
    "            scen_cost_agg.sum()*1e-6/scen_copper_emissions_reduction,\n",
    "            coupled_cost*1e-9,\n",
    "            coupled_emissions_reduction,\n",
    "            coupled_cost_delta*1e-6/coupled_emissions_reduction], axis=1)\n",
    "coupled_overview.columns = [\"ESM total cost (BCAD)\", \"ESM emissions reduction (Mt)\", \"ESM carbon avoidance cost (CAD/t)\", \"Coupled cost (BCAD)\", \"Coupled emissions reduction (Mt)\", \"Coupled carbon avoidance cost (CAD/t)\"]"
   ]
  },
  {
   "cell_type": "code",
   "execution_count": 77,
   "id": "01HXHFFFKXHJF5PMCC7FN10HMQ",
   "metadata": {},
   "outputs": [
    {
     "name": "stdout",
     "output_type": "stream",
     "text": [
      "\\begin{tabular}{lrrrrrr}\n",
      "\\toprule\n",
      " & ESM total cost (BCAD) & ESM emissions reduction (Mt) & ESM carbon avoidance cost (CAD/t) & Coupled cost (BCAD) & Coupled emissions reduction (Mt) & Coupled carbon avoidance cost (CAD/t) \\\\\n",
      "scenario &  &  &  &  &  &  \\\\\n",
      "\\midrule\n",
      "BAU & 262.54 & 0.00 & inf & 2026.90 & 0.00 & 0.00 \\\\\n",
      "CER & 293.77 & 68.70 & 4276.16 & 2085.67 & 96.53 & 608.74 \\\\\n",
      "CER+ & 308.12 & 68.32 & 4510.28 & 2078.58 & 128.49 & 402.15 \\\\\n",
      "Rapid & 294.12 & 75.01 & 3921.23 & 2003.78 & 168.85 & -136.95 \\\\\n",
      "Rapid+ & 298.45 & 75.00 & 3979.51 & 1967.88 & 202.79 & -291.08 \\\\\n",
      "\\bottomrule\n",
      "\\end{tabular}\n",
      "\n"
     ]
    }
   ],
   "source": [
    "print(coupled_overview.fillna(0).round(2).to_latex().replace(\"0000\",\"\"))"
   ]
  },
  {
   "cell_type": "code",
   "execution_count": null,
   "id": "01HXHFZCXKRQ05ECEW0YC47H43",
   "metadata": {},
   "outputs": [],
   "source": []
  }
 ],
 "metadata": {
  "kernelspec": {
   "display_name": "cando",
   "language": "python",
   "name": "python3"
  },
  "language_info": {
   "codemirror_mode": {
    "name": "ipython",
    "version": 3
   },
   "file_extension": ".py",
   "mimetype": "text/x-python",
   "name": "python",
   "nbconvert_exporter": "python",
   "pygments_lexer": "ipython3",
   "version": "3.10.14"
  }
 },
 "nbformat": 4,
 "nbformat_minor": 2
}
