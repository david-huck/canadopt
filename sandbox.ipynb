{
 "cells": [
  {
   "cell_type": "code",
   "execution_count": 5,
   "metadata": {},
   "outputs": [
    {
     "data": {
      "text/plain": [
       "(['Ontario'],\n",
       " ['Alberta.a', 'Saskatchewan.a', 'Manitoba.a', 'Ontario.a', 'Ontario.b'])"
      ]
     },
     "execution_count": 5,
     "metadata": {},
     "output_type": "execute_result"
    }
   ],
   "source": [
    "import toml\n",
    "# from abetam.data.canada import Provinces\n",
    "\n",
    "config = toml.load(\"../copper/scenarios/BAU_scenario/config.toml\")\n",
    "\n",
    "config[\"Simulation_Settings\"][\"ap\"] = [\"Ontario\"]\n",
    "config[\"Simulation_Settings\"][\"ap\"], config[\"Simulation_Settings\"][\"aba\"]"
   ]
  },
  {
   "cell_type": "code",
   "execution_count": 6,
   "metadata": {},
   "outputs": [
    {
     "data": {
      "text/plain": [
       "['Ontario.a', 'Ontario.b']"
      ]
     },
     "execution_count": 6,
     "metadata": {},
     "output_type": "execute_result"
    }
   ],
   "source": [
    "config[\"Simulation_Settings\"][\"aba\"] = [ba for ba in config[\"Simulation_Settings\"][\"aba\"] if any(prov in ba for prov in config[\"Simulation_Settings\"][\"ap\"])]\n",
    "config[\"Simulation_Settings\"][\"aba\"]"
   ]
  },
  {
   "cell_type": "code",
   "execution_count": 8,
   "metadata": {},
   "outputs": [],
   "source": [
    "import git"
   ]
  },
  {
   "cell_type": "code",
   "execution_count": 16,
   "metadata": {},
   "outputs": [
    {
     "data": {
      "text/plain": [
       "WindowsPath('c:/src/canadopt/abetam')"
      ]
     },
     "execution_count": 16,
     "metadata": {},
     "output_type": "execute_result"
    }
   ],
   "source": [
    "from pathlib import Path\n",
    "# dir(git.Repo())\n",
    "root_dir = git.Repo().working_dir\n",
    "abetam_dir = Path(root_dir) / \"abetam\"\n"
   ]
  },
  {
   "cell_type": "code",
   "execution_count": 18,
   "metadata": {},
   "outputs": [
    {
     "data": {
      "text/plain": [
       "[]"
      ]
     },
     "execution_count": 18,
     "metadata": {},
     "output_type": "execute_result"
    }
   ],
   "source": [
    "git.Repo(\".\").submodules"
   ]
  },
  {
   "cell_type": "code",
   "execution_count": null,
   "metadata": {},
   "outputs": [],
   "source": []
  }
 ],
 "metadata": {
  "kernelspec": {
   "display_name": "cando",
   "language": "python",
   "name": "python3"
  },
  "language_info": {
   "codemirror_mode": {
    "name": "ipython",
    "version": 3
   },
   "file_extension": ".py",
   "mimetype": "text/x-python",
   "name": "python",
   "nbconvert_exporter": "python",
   "pygments_lexer": "ipython3",
   "version": "3.10.13"
  }
 },
 "nbformat": 4,
 "nbformat_minor": 2
}
